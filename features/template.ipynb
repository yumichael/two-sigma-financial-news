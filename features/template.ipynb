{
 "cells": [
  {
   "cell_type": "code",
   "execution_count": 6,
   "metadata": {
    "collapsed": true
   },
   "outputs": [],
   "source": [
    "from common import *\n",
    "from features.selector import Function, Itemgetter, item_check"
   ]
  },
  {
   "cell_type": "code",
   "execution_count": 2,
   "metadata": {
    "collapsed": true
   },
   "outputs": [],
   "source": [
    "_TEST_ = False"
   ]
  },
  {
   "cell_type": "code",
   "execution_count": 3,
   "metadata": {
    "collapsed": true
   },
   "outputs": [],
   "source": [
    "if __name__=='__main__':\n",
    "    _TEST_ = True\n",
    "    interactive(rows=2000, cols=2000)"
   ]
  },
  {
   "cell_type": "code",
   "execution_count": 82,
   "metadata": {
    "collapsed": true
   },
   "outputs": [],
   "source": [
    "def fill_template(lines, samp, edit):\n",
    "    '''Parameters - lines: iterable of lines of the template\n",
    "                    samp: function float([0,1]) -> float, >0 means choose it, <0 means don't choose it\n",
    "                    edit: object mapping name -> filter func on ? items\n",
    "    Yield the processed lines that should join to make a valid query string\n",
    "    '''\n",
    "    if hasattr(edit, '_item_'):\n",
    "        edit_item = edit._item_\n",
    "    else:\n",
    "        edit_item = lambda x: x\n",
    "    \n",
    "    import re\n",
    "    whitespace = re.compile(r'\\s')\n",
    "    Form = namedtuple('Form', 're op sep cl')\n",
    "    forms = [\n",
    "        Form(re.compile(r'\\[.*\\S+.*,.*\\S+.*\\]'), '[', ',', ']'),\n",
    "        Form(re.compile(r'\\(.*\\S+.*\\|.*\\S+.*\\)'), '(', '|', ')'),\n",
    "        Form(re.compile(r'\\{.*\\S+.*\\|.*\\S+.*\\}'), '{', '|', '}'),\n",
    "    ]\n",
    "    \n",
    "    del_indent = None\n",
    "    \n",
    "    for lnum, line in enumerate(lines):\n",
    "        if line.strip() == '':\n",
    "            continue\n",
    "        \n",
    "        indent = 0\n",
    "        while whitespace.match(line[indent]):\n",
    "            assert line[indent] == ' ', f'indents must be space | {lnum}: {line}'\n",
    "            indent += 1\n",
    "        if del_indent is not None and indent > del_indent: # still deleting a block\n",
    "            continue\n",
    "        del_indent = None\n",
    "        \n",
    "        if '=' not in line and '?' not in line:\n",
    "            assert '@' not in line and '*' not in line\n",
    "            yield line\n",
    "            continue\n",
    "            \n",
    "        elif '=' in line:\n",
    "            l0 = line.index('=')\n",
    "            l1 = line.index('*') if '*' in line else line.index('@') if '@' in line else None\n",
    "            l2 = line.index('@') if '@' in line else None\n",
    "            \n",
    "            x = float(line[l0+1:l1])\n",
    "            y = samp(x)\n",
    "            if y <= 0: # delete whole block\n",
    "                del_indent = indent\n",
    "                continue\n",
    "                \n",
    "            if '*' in line:\n",
    "                tag = line[l1+1:l2].strip()\n",
    "                assert hasattr(edit, tag)\n",
    "                if getattr(edit, tag)() <= 0:\n",
    "                    del_indent = indent\n",
    "                    continue\n",
    "                \n",
    "            line = line[:l0]+('' if l2 is None else line[l2:])\n",
    "        \n",
    "        # at this point the line is definitely in, we just need to process it\n",
    "        if '@' in line:\n",
    "            t0 = line.index('@')\n",
    "            tags = line[t0:].split()\n",
    "            assert all(tag[0]=='@' for tag in tags)\n",
    "            tags = [tag[1:] for tag in tags]\n",
    "            line = line[:t0]\n",
    "        else:\n",
    "            tags = []\n",
    "        \n",
    "        if '?' in line:\n",
    "            \n",
    "            # find which bracket and separator form we have for the ? selections\n",
    "            match = False\n",
    "            for f, form in enumerate(forms):\n",
    "                if form.re.search(line):\n",
    "                    match = True\n",
    "                    break\n",
    "            assert match, f'{lnum}: {line}'\n",
    "            \n",
    "            l0, l1 = line.index(forms[f].op), line.index(forms[f].cl)\n",
    "            items = line[l0+1:l1].split(forms[f].sep)\n",
    "            \n",
    "            puts = []\n",
    "            best_y = -float('inf')\n",
    "            for item in items:\n",
    "                assert '?' in item, f'item={repr(item)} | {lnum}: {line}'\n",
    "                item = item.split('?')\n",
    "                put, x = item[0], float(item[1])\n",
    "                x = edit_item(x)\n",
    "                y = samp(x)\n",
    "                for tag in (tag for tag in tags if hasattr(edit, tag)):\n",
    "                    y = getattr(edit, tag)(y, e=put)\n",
    "                if y > best_y:\n",
    "                    best_put = put\n",
    "                if y > 0:\n",
    "                    puts.append(put)\n",
    "            if not puts: # if nothing is sampled, add in the one with highest draw\n",
    "                puts.append(best_put)\n",
    "            \n",
    "            yield line[:l0+1] + forms[f].sep.join(puts) + line[l1:]\n",
    "        else:\n",
    "            yield line"
   ]
  },
  {
   "cell_type": "markdown",
   "metadata": {},
   "source": [
    "# Scratcher"
   ]
  },
  {
   "cell_type": "code",
   "execution_count": null,
   "metadata": {
    "collapsed": true
   },
   "outputs": [],
   "source": [
    "# import json\n",
    "# #json.dump(list(F.columns), open('feats.json', 'w'))\n",
    "# feats = json.load(open(top_dir/'work/feats.json', 'r'))"
   ]
  },
  {
   "cell_type": "code",
   "execution_count": 47,
   "metadata": {
    "collapsed": true
   },
   "outputs": [],
   "source": [
    "# queries = ['\\n'.join(fill_template(fffTemplate.splitlines(), fsamp, None)) for i in range(100)]"
   ]
  },
  {
   "cell_type": "code",
   "execution_count": 42,
   "metadata": {
    "collapsed": true
   },
   "outputs": [],
   "source": [
    "# i = 0"
   ]
  },
  {
   "cell_type": "code",
   "execution_count": 43,
   "metadata": {
    "collapsed": true
   },
   "outputs": [],
   "source": [
    "# i += 10\n",
    "# fsamp.r = random.Random(i)\n",
    "# queries = ['\\n'.join(fill_template(fffTemplate.splitlines(), fsamp, None)) for i in range(1)]\n",
    "# q = queries[0]\n",
    "# guy = list(filter(FFF.query(q), feats))\n",
    "# print(len(guy))\n",
    "# print(q)"
   ]
  },
  {
   "cell_type": "code",
   "execution_count": 44,
   "metadata": {
    "collapsed": true
   },
   "outputs": [],
   "source": [
    "# flist = [[print_progress(i), set(filter(FFF.query(q), feats))][1] for i,q in enumerate(queries)]"
   ]
  },
  {
   "cell_type": "code",
   "execution_count": 45,
   "metadata": {
    "collapsed": true
   },
   "outputs": [],
   "source": [
    "# for q, l in zip(queries, map(len,flist)):\n",
    "#     print('='*90)\n",
    "#     print(l)\n",
    "#     print(q)"
   ]
  }
 ],
 "metadata": {
  "kernelspec": {
   "display_name": "Python 3",
   "language": "python",
   "name": "python3"
  },
  "language_info": {
   "codemirror_mode": {
    "name": "ipython",
    "version": 3
   },
   "file_extension": ".py",
   "mimetype": "text/x-python",
   "name": "python",
   "nbconvert_exporter": "python",
   "pygments_lexer": "ipython3",
   "version": "3.6.2"
  }
 },
 "nbformat": 4,
 "nbformat_minor": 2
}
