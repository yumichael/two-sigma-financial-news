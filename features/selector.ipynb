{
 "cells": [
  {
   "cell_type": "code",
   "execution_count": 22,
   "metadata": {
    "collapsed": true
   },
   "outputs": [],
   "source": [
    "from common import *\n",
    "import operator"
   ]
  },
  {
   "cell_type": "code",
   "execution_count": 23,
   "metadata": {
    "collapsed": true
   },
   "outputs": [],
   "source": [
    "_TEST_ = False"
   ]
  },
  {
   "cell_type": "code",
   "execution_count": 24,
   "metadata": {
    "collapsed": true
   },
   "outputs": [],
   "source": [
    "if __name__=='__main__':\n",
    "    _TEST_ = True\n",
    "    interactive(rows=2000, cols=2000)"
   ]
  },
  {
   "cell_type": "markdown",
   "metadata": {},
   "source": [
    "# -=#=-=#=-=#=-=#=-=#=- Features selection logic -=#=-=#=-=#=-=#=-=#=-=#=-"
   ]
  },
  {
   "cell_type": "markdown",
   "metadata": {
    "collapsed": true
   },
   "source": [
    "### -=-=-=-=-=-=-=-=-=-=-=-=-=-=-=-=-=-=- Abstract Function datatype -=-=-=-=-=-=-=-=-=-=-=-=--=-=-=-=-=-=-=-=-=-"
   ]
  },
  {
   "cell_type": "code",
   "execution_count": 25,
   "metadata": {
    "collapsed": true
   },
   "outputs": [],
   "source": [
    "from types import FunctionType"
   ]
  },
  {
   "cell_type": "markdown",
   "metadata": {},
   "source": [
    "##### item checker"
   ]
  },
  {
   "cell_type": "code",
   "execution_count": 26,
   "metadata": {
    "collapsed": true
   },
   "outputs": [],
   "source": [
    "def item_check(a):\n",
    "    if not isinstance(a, tuple):\n",
    "        a = (a,)\n",
    "    return a"
   ]
  },
  {
   "cell_type": "markdown",
   "metadata": {},
   "source": [
    "#### Function super useful datatype"
   ]
  },
  {
   "cell_type": "code",
   "execution_count": 27,
   "metadata": {
    "collapsed": true
   },
   "outputs": [],
   "source": [
    "class Function(type):\n",
    "    def __new__(self, *args, **kw):\n",
    "        noattach = '_noattach_' in kw\n",
    "        if len(args) == 1:\n",
    "            if isinstance(args[0], __class__):\n",
    "                return args[0]\n",
    "            assert callable(args[0])\n",
    "            if 'name' in kw:\n",
    "                name = kw['name']\n",
    "            else:\n",
    "                name = args[0].__name__\n",
    "            parents = ()\n",
    "            attrs = {'__call__': args[0]}\n",
    "            noattach = True\n",
    "        else:\n",
    "            name, parents, attrs = args\n",
    "        for k, v in list(dict.items(attrs)):\n",
    "            if k == '__getitem__':\n",
    "                assert isinstance(v, FunctionType), \"just for easier work on our side. it is a function(self, index)\"\n",
    "                if isinstance(v(self, 0), FunctionType): # if getitem returns a function\n",
    "                    old_v = v\n",
    "                    v = lambda self, a: __class__(old_v(self, item_check(a)))\n",
    "            if not isinstance(v, classmethod) and callable(v) and not isinstance(v, __class__) and not noattach:\n",
    "                attrs[k] = classmethod(v)\n",
    "            \n",
    "        return super().__new__(self, name, parents, attrs)\n",
    "    \n",
    "    def __init__(self, *args, **kw):\n",
    "        #SEE('init', args, kw)\n",
    "        if len(args) == 1:\n",
    "            return\n",
    "        name, parents, attrs = args\n",
    "        for k in attrs:\n",
    "            v = getattr(self, k)\n",
    "            #SEE('init ->', k, v)\n",
    "            if k[:1] != '_' and callable(v):\n",
    "                setattr(self, k, __class__(v, _noattach_=True, name=k))\n",
    "        \n",
    "    def __call__(self, *a, **k):\n",
    "        assert '__call__' in self.__dict__, f'__call__ not defined for Function object with name \"{self.__name__}\"'\n",
    "        return self.__call__(*a, **k)\n",
    "        \n",
    "    def __getitem__(self, *a, **k):\n",
    "        assert '__getitem__' in self.__dict__, f'__getitem__ not defined for Function object with name \"{self.__name__}\"'\n",
    "        return self.__getitem__(*a, **k)\n",
    "    \n",
    "    __invert__ = lambda f: __class__(lambda *a, **k: ~f(*a,**k))\n",
    "    __and__ = lambda f, g: __class__(lambda *a, **k: f(*a,**k) & g(*a,**k))\n",
    "    __or__ = lambda f, g: __class__(lambda *a, **k: f(*a,**k) | g(*a,**k))\n",
    "    __xor__ = lambda f, g: __class__(lambda *a, **k: f(*a,**k) ^ g(*a,**k))"
   ]
  },
  {
   "cell_type": "code",
   "execution_count": 28,
   "metadata": {
    "collapsed": true
   },
   "outputs": [],
   "source": [
    "# testing\n",
    "if _TEST_:\n",
    "    class What(metaclass=Function):\n",
    "        def __call__(self, x, y):\n",
    "            return np.sqrt(x**2 + y**2)\n",
    "        def hi(self, *s):\n",
    "            pass\n",
    "            #SEE('hi, ' + s[0])\n",
    "        __getitem__ = lambda self, a: lambda arg: (SEE('this is getitem', arg, arg*a), 'answer')[1]\n",
    "    What.hi('u')\n",
    "    What.hi#.__call__\n",
    "    /SEE What[5].__class__\n",
    "    /SEE What[5](6)"
   ]
  },
  {
   "cell_type": "markdown",
   "metadata": {},
   "source": [
    "##### item getter"
   ]
  },
  {
   "cell_type": "code",
   "execution_count": 29,
   "metadata": {
    "collapsed": true
   },
   "outputs": [],
   "source": [
    "class Itemgetter():\n",
    "    def __init__(self, func):\n",
    "        self._func = Function(func)\n",
    "    def __getitem__(self, a):\n",
    "        return self._func(item_check(a))"
   ]
  },
  {
   "cell_type": "code",
   "execution_count": 30,
   "metadata": {
    "collapsed": true
   },
   "outputs": [],
   "source": [
    "# testing\n",
    "if _TEST_:\n",
    "    guy = Itemgetter(lambda *a: SEE(*a))\n",
    "    guy[5.7,8]"
   ]
  },
  {
   "cell_type": "code",
   "execution_count": 31,
   "metadata": {
    "collapsed": true
   },
   "outputs": [],
   "source": [
    "# testing yo!\n",
    "if _TEST_:\n",
    "    class Yo():\n",
    "        def __call__(self, x):\n",
    "            SEE(x, '!')\n",
    "    yo = Yo()\n",
    "    yo.__call__ = lambda x: SEE('fuck', x)\n",
    "    yo(5)"
   ]
  },
  {
   "cell_type": "markdown",
   "metadata": {},
   "source": [
    "#### Function query language implementation"
   ]
  },
  {
   "cell_type": "code",
   "execution_count": 32,
   "metadata": {
    "collapsed": true
   },
   "outputs": [],
   "source": [
    "def scan(s):\n",
    "    s = s.replace(' ','').replace('\\n','').replace('\\t','').replace('\\r','') + '\\0'\n",
    "    i0, i = 0, 0\n",
    "    while i0 < len(s)-1 and i < len(s):\n",
    "        c = s[i]\n",
    "        if 'a' <= c <= 'z' or 'A' <= c <= 'Z' or '0' <= c <= '9' or c == '_':\n",
    "            i += 1\n",
    "            continue\n",
    "        elif c == '\\0':\n",
    "            yield s[i0:i]\n",
    "            break\n",
    "        elif c in '.~&|^()':\n",
    "            if i0 < i:\n",
    "                yield s[i0:i]\n",
    "            yield c\n",
    "            i0 = i = i+1\n",
    "        elif c in '[{<':\n",
    "            if i0 < i:\n",
    "                yield s[i0:i]\n",
    "            i0 = i\n",
    "            op = c\n",
    "            cl = {'[':']','{':'}','<':'>'}[op]\n",
    "            opened = 1\n",
    "            while opened > 0:\n",
    "                i += 1\n",
    "                opened += 1 if s[i] == op else -1 if s[i] == cl else 0\n",
    "            i += 1\n",
    "            if op != '<': # if this is not a comment\n",
    "                yield s[i0:i]\n",
    "            i0 = i\n",
    "        else:\n",
    "            raise AssertionError('bad syntax in input to scanner')\n",
    "\n",
    "            \n",
    "Token = namedtuple('Token', 'type value')\n",
    "\n",
    "def tokenize(s):\n",
    "    prevIsField = False\n",
    "    for w in s:\n",
    "        a = w[0]\n",
    "        if w == '.':\n",
    "            yield Token('self', '')\n",
    "        elif '0' <= a <= '9':\n",
    "            yield Token('literal', w)\n",
    "        elif 'a' <= a <= 'z' or 'A' <= a <= 'Z' or a in '_':\n",
    "            yield Token('field', w)\n",
    "            prevIsField = True\n",
    "            continue\n",
    "        elif w in ['&','^','|']:\n",
    "            yield Token('op2', w)\n",
    "        elif w in ['~']:\n",
    "            yield Token('op1', w)\n",
    "        elif w in ['(']:\n",
    "            yield Token('_group', w)\n",
    "        elif w in [')']:\n",
    "            yield Token('group_', w)\n",
    "        elif a == '{':\n",
    "            assert prevIsField, '{} section must have been preceded by a field name'\n",
    "            yield Token('op2', 'query')\n",
    "            yield Token('raw', w)\n",
    "        elif a == '[':\n",
    "            if not prevIsField:\n",
    "                yield Token('self', '')\n",
    "            yield Token('op2', 'getitem')\n",
    "            yield Token('raw', w)\n",
    "        else:\n",
    "            assert False, f'invalid word encountered in tokenizer input: {w}'\n",
    "        prevIsField = False\n",
    "        \n",
    "class TokenInfo(O()):\n",
    "    self = 'self, the owning Function instance'\n",
    "    field = 'field name of Function instance'\n",
    "    op2 = 'binary operator (look in the map)'\n",
    "    op1 = 'unary operator (look in the map)'\n",
    "    _group = \"open grouping (just '(')\"\n",
    "    group_ = \"close grouping (just ')')\"\n",
    "    raw = \"raw data to be fed to operator\"\n",
    "    literal = \"literal value. either '0' or '1'\"\n",
    "\n",
    "\n",
    "def normalize(s):\n",
    "    def reduce_op2(s):\n",
    "        '''removes repeated binary operators or binary operators missing left/right argument'''\n",
    "        prev = None\n",
    "        hardprev = None\n",
    "        for t in s:\n",
    "            if (prev is not None and prev.type=='_group' or hardprev is None) and t.type=='op2':\n",
    "                #^ e.g. \"(| A | B)\" or \"& B\", remove useless first binop\n",
    "                pass # don't set prev=t and defer yielding prev (\n",
    "            elif hardprev is not None and hardprev.type=='op2' and t.type=='op2': # repeat op2\n",
    "                assert hardprev.value==t.value, 'repeated op2 must be the same'\n",
    "                # don't set prev=t, no non-redunt piece of resulting query has been seen\n",
    "            elif prev is not None and prev.type=='op2' and t.type=='group_':\n",
    "                # don't yield prev\n",
    "                prev = t\n",
    "            elif prev is None:\n",
    "                # attempt to yield `prev` next loop iter\n",
    "                prev = t\n",
    "            else:\n",
    "                yield prev\n",
    "                prev = t\n",
    "            hardprev = t\n",
    "        if prev is not None and prev.type!='op2':\n",
    "            yield prev\n",
    "    def reduce_empty(s):\n",
    "        '''replace empty groups () with 0'''\n",
    "        prev = None\n",
    "        for t in s:\n",
    "            if prev is None:\n",
    "                prev = t\n",
    "            elif prev.type=='_group' and t.type=='group_':\n",
    "                prev = Token('literal', '0')\n",
    "            else:\n",
    "                yield prev\n",
    "                prev = t\n",
    "        yield prev\n",
    "    yield from reduce_empty(reduce_op2(s))\n",
    "    \n",
    "def parse(s):\n",
    "    stack = []\n",
    "    for t in s:\n",
    "        if t.type in ['field', 'self', 'raw', 'literal']:\n",
    "            yield t\n",
    "        elif t.type in ['op2', 'op1']:\n",
    "            while stack and stack[-1].type in ['op2', 'op1'] and parse.order[t.value] >= parse.order[stack[-1].value]:\n",
    "                yield stack.pop()\n",
    "            stack.append(t)\n",
    "        elif t.type == '_group':\n",
    "            stack.append(t)\n",
    "        elif t.type == 'group_':\n",
    "            while True:\n",
    "                if not stack:\n",
    "                    raise AssertionError('too many close parentheses')\n",
    "                x = stack.pop()\n",
    "                if x.type == '_group':\n",
    "                    break\n",
    "                else:\n",
    "                    assert x.type in ['op2', 'op1'], 'internal error'\n",
    "                    yield x\n",
    "    while stack:\n",
    "        x = stack.pop()\n",
    "        if x.type == '_group':\n",
    "            raise AssertionError('too many open parentheses')\n",
    "        assert x.type in ['op2', 'op1'], 'internal error'\n",
    "        yield x\n",
    "parse.order = {'query': 0, 'getitem': 0, '~': 1, '&': 2, '^': 3, '|': 4}\n",
    "\n",
    "    \n",
    "def query(self, qs):\n",
    "    revpol = list(parse(normalize(tokenize(scan(qs)))))\n",
    "    stack = []\n",
    "    BUG.stack = stack\n",
    "    for t in revpol:\n",
    "        if t.type == 'self':\n",
    "            stack.append(self)\n",
    "        elif t.type == 'field':\n",
    "            stack.append(getattr(self, t.value))\n",
    "        elif t.type == 'literal':\n",
    "            if t.value == '0':\n",
    "                stack.append(Function(lambda*a,**k:False))\n",
    "            elif t.value == '1':\n",
    "                stack.append(Function(lambda*a,**k:True))\n",
    "            else:\n",
    "                assert False, f'unsupported literal value found, token={t}'\n",
    "        elif t.type == 'raw':\n",
    "            stack.append(t.value)\n",
    "        elif t.type == 'op1':\n",
    "            a = stack.pop()\n",
    "            x = query.opTbl[t.value](a)\n",
    "            stack.append(x)\n",
    "        elif t.type == 'op2':\n",
    "            b, a = stack.pop(), stack.pop()\n",
    "            x = query.opTbl[t.value](a, b)\n",
    "            stack.append(x)\n",
    "    return stack.pop()\n",
    "\n",
    "class GetItemHelper(metaclass=Singleton):\n",
    "    def __getitem__(self, a):\n",
    "        return a\n",
    "\n",
    "query.opTbl = {\n",
    "    '~': operator.__invert__,\n",
    "    '&': operator.__and__,\n",
    "    '^': operator.__xor__,\n",
    "    '|': operator.__or__,\n",
    "    'query': lambda f, q: f.query(q[1:-1]),\n",
    "    'getitem': lambda f, a: f[eval(f'GetItemHelper()[{a[1:-1]}]')]\n",
    "}\n",
    "\n",
    "Function.query = query"
   ]
  },
  {
   "cell_type": "code",
   "execution_count": 33,
   "metadata": {
    "collapsed": true,
    "scrolled": true
   },
   "outputs": [],
   "source": [
    "# testing function query\n",
    "if _TEST_:\n",
    "    qs = 'what2{f_ck} & no_[5,62,6:6] <whatevercomment> |  [9] & ~(ho_10|[3,5:9])'\n",
    "    scanned = list(scan(qs))\n",
    "    assert (scanned == ['what2','{f_ck}','&','no_','[5,62,6:6]','|','[9]','&','~','(','ho_10','|','[3,5:9]',')']), (\n",
    "            'Unit test fail for scanner')    \n",
    "    tokens = list(tokenize(scanned)) #TODO make unit test\n",
    "    parsed = list(parse(tokens)) #TODO make unit test\n",
    "    SEE(qs)\n",
    "    SEE('-'*99)\n",
    "    SEE(scanned)\n",
    "    SEE('-'*99)\n",
    "    for line in tokens:\n",
    "        SEE(line)\n",
    "    SEE('-'*99)\n",
    "    for line in parsed:\n",
    "        SEE(line)"
   ]
  },
  {
   "cell_type": "code",
   "execution_count": 34,
   "metadata": {
    "collapsed": true
   },
   "outputs": [],
   "source": [
    "def stringify(self, name=None):\n",
    "    name = self.__name__ if name is None else name\n",
    "    cond = lambda field: not(field=='query' or field[:1]=='_' and field!='__getitem__')\n",
    "    if name == '__getitem__':\n",
    "        yield '[]'\n",
    "        return\n",
    "    yield name\n",
    "    if not any(cond(f) for f in dir(self)):\n",
    "        return\n",
    "    yield '{'\n",
    "    for field in self.__dict__:\n",
    "        if not cond(field):\n",
    "            continue\n",
    "        value = getattr(self, field)\n",
    "        yield from stringify(getattr(self, field), field)\n",
    "        yield ','\n",
    "    yield '}'\n",
    "Function.stringify = stringify"
   ]
  }
 ],
 "metadata": {
  "kernelspec": {
   "display_name": "Python 3",
   "language": "python",
   "name": "python3"
  },
  "language_info": {
   "codemirror_mode": {
    "name": "ipython",
    "version": 3
   },
   "file_extension": ".py",
   "mimetype": "text/x-python",
   "name": "python",
   "nbconvert_exporter": "python",
   "pygments_lexer": "ipython3",
   "version": "3.6.2"
  }
 },
 "nbformat": 4,
 "nbformat_minor": 2
}
