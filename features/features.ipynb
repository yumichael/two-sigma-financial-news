{
 "cells": [
  {
   "cell_type": "code",
   "execution_count": 1,
   "metadata": {
    "collapsed": true
   },
   "outputs": [],
   "source": [
    "from common import *\n",
    "from features.selector import Function\n",
    "from features.FFF import FFF\n",
    "from features.template import fill_template\n",
    "from features.FTP_solo import soloTemplate, soloEdit\n",
    "from features.FTP_pair import copyTemplate, copyEdit, diffTemplate, diffEdit, corrTemplate, corrEdit"
   ]
  },
  {
   "cell_type": "code",
   "execution_count": 2,
   "metadata": {
    "collapsed": true
   },
   "outputs": [],
   "source": [
    "from given import make_CC_G_Q_from_Dl_F_P_W, make_FG_PQ_from_CC_G_Q, setup_P"
   ]
  },
  {
   "cell_type": "code",
   "execution_count": 3,
   "metadata": {
    "collapsed": true
   },
   "outputs": [],
   "source": [
    "_TEST_ = False"
   ]
  },
  {
   "cell_type": "code",
   "execution_count": 4,
   "metadata": {
    "collapsed": true
   },
   "outputs": [],
   "source": [
    "if __name__=='__main__':\n",
    "    _TEST_ = True\n",
    "    interactive(rows=2000, cols=2000)"
   ]
  },
  {
   "cell_type": "markdown",
   "metadata": {},
   "source": [
    "# defining the package exports"
   ]
  },
  {
   "cell_type": "code",
   "execution_count": 7,
   "metadata": {
    "collapsed": true
   },
   "outputs": [],
   "source": [
    "class Features():\n",
    "    def __init__(self, **kw):\n",
    "        for k, v in kw.items():\n",
    "            setattr(self, k, v)\n",
    "    \n",
    "    def gen_solo(self, i):\n",
    "        self.X, self.Y = self.F, self.P\n",
    "        \n",
    "        feats = self.F.columns\n",
    "        fffTemplate, fffEdit = soloTemplate, soloEdit\n",
    "\n",
    "        _r = random.Random(i)\n",
    "        fffEdit._random_data = (_r.random(), _r.random(), _r.random())\n",
    "        while True:\n",
    "            q = '\\n'.join(fill_template(fffTemplate.splitlines(), lambda x: x-_r.random(), fffEdit))\n",
    "            f = list(filter(FFF.query(q), feats))\n",
    "            if 11 <= len(f) < 159:\n",
    "                return f, q\n",
    "        \n",
    "    def gen_pair(self, i):\n",
    "        if hasattr(self, '_cache_i') and self._cache_i==i:\n",
    "            return list(self.X.columns), self._cache_q\n",
    "        \n",
    "        feats = self.F.columns\n",
    "\n",
    "        _r = random.Random(i)\n",
    "        copyEdit._random_data = (_r.random(), _r.random(), _r.random())\n",
    "        diffEdit._random_data = (_r.random(), _r.random(), _r.random())\n",
    "        \n",
    "        q_, filt_ = [], []\n",
    "        for fffTemplate, fffEdit in [(copyTemplate,copyEdit),(diffTemplate,diffEdit),(copyTemplate,copyEdit)]:\n",
    "            while True:\n",
    "                q = '\\n'.join(fill_template(fffTemplate.splitlines(), lambda x: x-_r.random(), fffEdit))\n",
    "                filt = FFF.query(q)\n",
    "                if 6 <= len(list(filter(filt, feats))) < 159:\n",
    "                    q_.append(q)\n",
    "                    filt_.append(filt)\n",
    "                    break\n",
    "                    \n",
    "        qCorr = '\\n'.join(fill_template(corrTemplate.splitlines(), lambda x: x-_r.random(), corrEdit))\n",
    "        filtCorr = FFF.query(qCorr)\n",
    "        \n",
    "        # logic to select what features to keep\n",
    "        while True:\n",
    "            hasCopy = _r.random() < .85\n",
    "            hasDiff = _r.random() < .5\n",
    "            diffUseCopy = _r.random() < .15\n",
    "            hasSign = _r.random() < .4\n",
    "            signUseCopy = _r.random() < .2\n",
    "            if hasCopy or hasDiff or hasSign:\n",
    "                break\n",
    "        \n",
    "        filtCopy = Function(lambda x: False) if not hasCopy else filt_[0]\n",
    "        qCopy = '0' if not hasCopy else q_[0]\n",
    "        filtDiff = Function(lambda x: False) if not hasDiff else filt_[0] if diffUseCopy else filt_[1]\n",
    "        qDiff = '0' if not hasDiff else q_[0] if diffUseCopy else q_[1]\n",
    "        filtSign = Function(lambda x: False) if not hasSign else filt_[0] if signUseCopy else filt_[2]\n",
    "        qSign = '0' if not hasSign else q_[0] if signUseCopy else q_[2]\n",
    "        # end logic to select features to keep\n",
    "            \n",
    "        feats = list(filter(filtCopy|filtDiff|filtSign, feats))\n",
    "        if 'assetCodeId' not in feats:\n",
    "            feats = ['assetCodeId'] + feats\n",
    "            \n",
    "        CC, G, Q = make_CC_G_Q_from_Dl_F_P_W(\n",
    "            Dl = self.D.av10,\n",
    "            F = self.F[feats],\n",
    "            P = self.P,\n",
    "            W = self.W,\n",
    "            lo = self.Pair.lo,\n",
    "            hi = self.Pair.hi,\n",
    "            repeat = self.Pair.repeat\n",
    "        )\n",
    "        FG, PQ = make_FG_PQ_from_CC_G_Q(filtCopy, filtDiff, filtSign, filtCorr, CC=CC, G=G, Q=Q)\n",
    "        \n",
    "        q = qCopy+'\\n#<>#\\n'+qDiff+'\\n#<>#\\n'+qSign+'\\n#<>#\\n'+qCorr\n",
    "        self._cache_i, self.X, self.Y, self._cache_q = i, FG, PQ, q\n",
    "        return list(FG.columns), q"
   ]
  },
  {
   "cell_type": "code",
   "execution_count": null,
   "metadata": {
    "collapsed": true
   },
   "outputs": [],
   "source": []
  },
  {
   "cell_type": "code",
   "execution_count": null,
   "metadata": {
    "collapsed": true
   },
   "outputs": [],
   "source": []
  },
  {
   "cell_type": "code",
   "execution_count": null,
   "metadata": {
    "collapsed": true
   },
   "outputs": [],
   "source": []
  },
  {
   "cell_type": "markdown",
   "metadata": {},
   "source": [
    "# .................................. / Scratcher"
   ]
  },
  {
   "cell_type": "code",
   "execution_count": null,
   "metadata": {
    "collapsed": true
   },
   "outputs": [],
   "source": [
    "# import json\n",
    "# #json.dump(list(F.columns), open('feats.json', 'w'))\n",
    "# feats = json.load(open(top_dir/'work/feats.json', 'r'))"
   ]
  },
  {
   "cell_type": "code",
   "execution_count": 8,
   "metadata": {
    "collapsed": true
   },
   "outputs": [
    {
     "name": "stdout",
     "output_type": "stream",
     "text": [
      "70 \n",
      "\n",
      " ['volume', 'open', 'acc', 'oo10', 'oo15', '(oo-aoo)10', '(oo-aoo)15', 'volatility60', 'oo(10-5)', 'oo(20-15)', 'oo(15-5)', 'oo(20-5)', '(oo-aoo)(10-5)', '(oo-aoo)(20-15)', '(oo-aoo)(15-5)', '(oo-aoo)(20-5)', '(oo-cc){0/1}', '(oo-cc){0/2}', '(oo-cc){1/2}', '(oo-cc){2}', '(it,af,it{1},aoo,acc){0/1}', '(it{1},af{1},it{2},aoo{1},acc{1}){0/2}', '(it,af,it{1},aoo,acc){0/3}', '(it,af,it{1},aoo,acc){1/2}', '(it{1},af{1},it{2},aoo{1},acc{1}){1/2}', '(it,af,it{1},aoo,acc){1/4}', '(it{1},af{1},it{2},aoo{1},acc{1}){2/4}', 'oo1Since125', 'oo1Drawdown1Since125', 'oo1Drawdown(20-10)Since125', 'oo1MinSince125{5}', 'oo1MinSince125{20}', 'oo10Since125', 'oo10Drawdown1Since125', 'oo10Drawdown(20-10)Since125', 'oo10MinSince125{5}', 'oo10MinSince125{20}', 'volatility10Drawdown(20-10)Since125', 'volatility10MaxSince125{10}', 'volatility10MaxSince125{20}', 'volatility10MinSince125{20}', 'volatility20Drawdown(20-10)Since125', 'volatility20MaxSince125{10}', 'volatility20MaxSince125{20}', 'volatility20MinSince125{20}', 'oo1Since250', 'oo1Drawdown1Since250', 'oo1Drawdown(20-10)Since250', 'oo1MinSince250{5}', 'oo1MinSince250{20}', 'oo10Since250', 'oo10Drawdown1Since250', 'oo10Drawdown(20-10)Since250', 'oo10MinSince250{5}', 'oo10MinSince250{20}', 'volatility10Drawdown(20-10)Since250', 'volatility10MaxSince250{10}', 'volatility10MaxSince250{20}', 'volatility10MinSince250{20}', 'volatility20Drawdown(20-10)Since250', 'volatility20MaxSince250{10}', 'volatility20MaxSince250{20}', 'volatility20MinSince250{20}', 'm_oo10', 'm_vp5dd10', 'wVPm_oo10', 'm_oo20', 'm_vp5dd20', 'wVPm_oo20', 'assetCode_inUniCount'] \n",
      "\n",
      "     <>~Market & (\n",
      "        <>Return{.&pure&~digit&~TEN} & ~Since & Return{.& \n",
      "            <>(acc|doc)\n",
      "            & index[0,2, 0:1,1:2,0:2] \n",
      "          }\n",
      "        | Return{.&pure&~index} & ~Since & Return{.& \n",
      "            <>(oo|doo)\n",
      "            & [10:,15:,10:5,20:15,15:5,20:5] \n",
      "          }\n",
      "        | ( \n",
      "            <>Return{(oo{.&[1:]}|oo{.&[10:]})} \n",
      "            & (\n",
      "                <> ~Drawdown&~Drawup&~Since{Min}&~Since{Max} \n",
      "                | Drawdown[1:,20:10] \n",
      "                | Since{Min&index[5,20]} \n",
      "              )\n",
      "            & Since[ 125:, 250:] \n",
      "          )\n",
      "        | ( \n",
      "            <> Volatility[ 60:] \n",
      "            | Volatility[10:, 20:]\n",
      "            & (\n",
      "                <>Drawdown[20:10] \n",
      "                | Since{Max & index[10,20]} \n",
      "                | Since{Min & index[20]} \n",
      "              )\n",
      "            & Since[ 125:, 250:] \n",
      "          )\n",
      "      )\n",
      "    | Market{.& \n",
      "        <>(~Weight| Weight)\n",
      "        & (Return| VP)\n",
      "        & [10:,20:] \n",
      "      }\n",
      "    | \n",
      "        <>AssetEnc{InUni} \n",
      "    | \n",
      "        <>FaceValue{Volume| Open} \n",
      "        | Return{mix[1,2,4,8,12,13,19]}\n"
     ]
    }
   ],
   "source": [
    "# (lambda x: print(len(x[0]), '\\n\\n', x[0], '\\n\\n', x[1]))(gen_features(10))"
   ]
  }
 ],
 "metadata": {
  "kernelspec": {
   "display_name": "Python 3",
   "language": "python",
   "name": "python3"
  },
  "language_info": {
   "codemirror_mode": {
    "name": "ipython",
    "version": 3
   },
   "file_extension": ".py",
   "mimetype": "text/x-python",
   "name": "python",
   "nbconvert_exporter": "python",
   "pygments_lexer": "ipython3",
   "version": "3.6.2"
  }
 },
 "nbformat": 4,
 "nbformat_minor": 2
}
