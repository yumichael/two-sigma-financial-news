{
 "cells": [
  {
   "cell_type": "code",
   "execution_count": 1,
   "metadata": {
    "collapsed": true
   },
   "outputs": [],
   "source": [
    "from common import *"
   ]
  },
  {
   "cell_type": "code",
   "execution_count": 2,
   "metadata": {
    "collapsed": true
   },
   "outputs": [],
   "source": [
    "import warnings\n",
    "warnings.filterwarnings('ignore')\n",
    "\n",
    "pd.set_option('display.max_rows', 5000)\n",
    "pd.set_option('display.max_columns', 5000)"
   ]
  },
  {
   "cell_type": "code",
   "execution_count": 3,
   "metadata": {
    "collapsed": true
   },
   "outputs": [],
   "source": [
    "get_M = lambda: pd.read_pickle(the_data/'given/M.pkl')\n",
    "get_N = lambda: pd.read_pickle(the_data/'given/N.pkl')"
   ]
  },
  {
   "cell_type": "code",
   "execution_count": 4,
   "metadata": {
    "collapsed": true
   },
   "outputs": [],
   "source": [
    "M = get_M()"
   ]
  },
  {
   "cell_type": "markdown",
   "metadata": {},
   "source": [
    "#### very important ID assignment code"
   ]
  },
  {
   "cell_type": "code",
   "execution_count": 5,
   "metadata": {
    "collapsed": true
   },
   "outputs": [],
   "source": [
    "class IdAssign:\n",
    "    class NO_MISSING(metaclass=staticclass): # special filler value because `None` might actually be meaningfully used\n",
    "        pass\n",
    "    def __init__(self, init, missing, name):\n",
    "        self.name = name\n",
    "        self.map = {}\n",
    "        if missing is not __class__.NO_MISSING:\n",
    "            self.map[missing] = -1\n",
    "        i = 0\n",
    "        for x in init:\n",
    "            if x not in self.map and x != missing:\n",
    "                self.map[x] = i\n",
    "                i += 1\n",
    "        self.cache = None\n",
    "    def __call__(self, key):\n",
    "        if key not in self.map:\n",
    "            self.map[key] = len(self.map)\n",
    "        return self.map[key]\n",
    "    def __len__(self):\n",
    "        return self.map.__len__()\n",
    "    @property\n",
    "    def series(self):\n",
    "        if self.cache==len(self):\n",
    "            return self._series\n",
    "        # Python 3.?+ guarantees that dict keys and values are itered in same order, and that order is insertion order\n",
    "        self._series = pd.Series(list(self.map.keys()), index=list(self.map.values()), name=self.name)\n",
    "        self._series.index.name = self.name+'Id'\n",
    "        self.cache = len(self)\n",
    "        return self._series\n",
    "\n",
    "assetCodeSeries = pd.Series(M.assetCode.unique())\n",
    "assetCodeIdAssign = IdAssign(assetCodeSeries, missing='', name='assetCode')\n",
    "del assetCodeSeries\n",
    "assetNameSeries = pd.Series(M.assetName.unique())\n",
    "assetNameIdAssign = IdAssign(assetNameSeries, missing='Unknown', name='assetName')\n",
    "del assetNameSeries"
   ]
  },
  {
   "cell_type": "code",
   "execution_count": 6,
   "metadata": {
    "collapsed": true
   },
   "outputs": [],
   "source": [
    "M['assetCodeId'] = M.assetCode.map(assetCodeIdAssign).astype(int)\n",
    "M['assetNameId'] = M.assetName.map(assetNameIdAssign).astype(int)\n",
    "N = get_N()\n",
    "N['assetNameId'] = N.assetName.map(assetNameIdAssign) # set up assetNameIdAssign"
   ]
  },
  {
   "cell_type": "code",
   "execution_count": 7,
   "metadata": {
    "collapsed": true
   },
   "outputs": [],
   "source": [
    "def makeMultimap(fr, to):\n",
    "    ret = {}\n",
    "    for f, t in zip(fr, to):\n",
    "        ret.setdefault(f, set()).add(t)\n",
    "    return ret\n",
    "assetNameMapCodes = makeMultimap(M.assetNameId, M.assetCodeId)\n",
    "\n",
    "def makeSinglemap(fr, to):\n",
    "    ret = {}\n",
    "    for f, t in zip(fr, to):\n",
    "        if f in ret:\n",
    "            assert t==ret[f], 'a \"from\" element must be mapped to a unique \"to\" element!'\n",
    "        else:\n",
    "            ret[f] = t\n",
    "    return ret\n",
    "assetCodeMapName = makeSinglemap(M.assetCodeId, M.assetNameId)"
   ]
  },
  {
   "cell_type": "code",
   "execution_count": null,
   "metadata": {
    "collapsed": true
   },
   "outputs": [],
   "source": [
    "headlineTagSeries = pd.Series(N.headlineTag.unique())\n",
    "headlineTagIdAssign = IdAssign(headlineTagSeries, missing='', name='headlineTag')\n",
    "del headlineTagSeries"
   ]
  },
  {
   "cell_type": "code",
   "execution_count": null,
   "metadata": {
    "collapsed": true
   },
   "outputs": [],
   "source": [
    "del N;"
   ]
  },
  {
   "cell_type": "code",
   "execution_count": null,
   "metadata": {
    "collapsed": true
   },
   "outputs": [],
   "source": [
    "# convenience functions, only for interactive use, no scripting/inside loop please because very unoptimized\n",
    "from collections import Iterable\n",
    "def aId2Code(a):\n",
    "    if hasattr(a, 'map'):\n",
    "        return a.map(assetCodeIdAssign.series)\n",
    "    elif isinstance(a, Iterable) and not isinstance(a, str):\n",
    "        assetCodeMap = assetCodeIdAssign.series.to_dict()\n",
    "        return type(a)(map(lambda x: assetCodeMap[x], a))\n",
    "    else:\n",
    "        return assetCodeIdAssign.series.loc[a]\n",
    "def aId2Name(a):\n",
    "    if hasattr(a, 'map'):\n",
    "        return a.map(assetNameIdAssign.series)\n",
    "    elif isinstance(a, Iterable) and not isinstance(a, str):\n",
    "        assetNameMap = assetNameIdAssign.series.to_dict()\n",
    "        return type(a)(map(lambda x: assetNameMap[x], a))\n",
    "    else:\n",
    "        return assetNameIdAssign.series.loc[a]\n",
    "def aCodeId2Name(a):\n",
    "    if hasattr(a, 'map'):\n",
    "        return a.map(assetCodeMapName).map(assetNameIdAssign.series)\n",
    "    elif isinstance(a, Iterable) and not isinstance(a, str):\n",
    "        assetNameMap = assetNameIdAssign.series.to_dict()\n",
    "        return type(a)(map(lambda x: assetNameMap[assetCodeMapName[x]], a))\n",
    "    else:\n",
    "        return assetNameIdAssign.series.loc[assetCodeMapName[a]]"
   ]
  },
  {
   "cell_type": "markdown",
   "metadata": {},
   "source": [
    "#### some data specific helper func/structs"
   ]
  },
  {
   "cell_type": "code",
   "execution_count": null,
   "metadata": {
    "collapsed": true
   },
   "outputs": [],
   "source": [
    "stringify_columns = lambda f: '[\"'+'\",\"'.join(c for c in f)+'\"]'\n",
    "\n",
    "returns_columns = {\n",
    "    'returnsClosePrevRaw1':'cc', 'returnsOpenPrevRaw1':'oo',\n",
    "    'returnsClosePrevMktres1':'acc', 'returnsOpenPrevMktres1':'aoo',\n",
    "    'returnsClosePrevRaw10':'ccTEN','returnsOpenPrevRaw10':'ooTEN',\n",
    "    'returnsClosePrevMktres10':'accTEN','returnsOpenPrevMktres10':'aooTEN'\n",
    "}\n",
    "columns_for_U = set(returns_columns.values()) | set(['open', 'close', 'volume'])\n",
    "excluded_columns = [\n",
    "    'time','assetCode','assetName','universe','returnsOpenNextMktres10','quarter','y'\n",
    "]\n",
    "exclusion_filter = lambda c: c not in excluded_columns\n",
    "object_columns = ['assetCode', 'assetName']\n",
    "enumeration_columns = ['assetCodeId', 'assetNameId']"
   ]
  },
  {
   "cell_type": "markdown",
   "metadata": {},
   "source": [
    "#### hard coded constants"
   ]
  },
  {
   "cell_type": "code",
   "execution_count": null,
   "metadata": {
    "collapsed": true
   },
   "outputs": [],
   "source": [
    "train_start_time = pd.Timestamp('2009-01-01',tz='UTC')\n",
    "lookback = 60\n",
    "shortterm = 21\n",
    "longterm = 250 + lookback*2 #idk it's hard to reason about how much I _really_ need, so this should be pretty safe"
   ]
  },
  {
   "cell_type": "markdown",
   "metadata": {},
   "source": [
    "#### setting up only the stocks that we have seen in-universe"
   ]
  },
  {
   "cell_type": "code",
   "execution_count": null,
   "metadata": {
    "collapsed": true
   },
   "outputs": [],
   "source": [
    "inUniCount = M[M.time>=train_start_time].groupby('assetCodeId').universe.sum()\n",
    "stocksInUni = (inUniCount != 0).pipe(lambda x: x.index[x])\n",
    "assert stocksInUni.is_monotonic\n",
    "xStocksInUni = set(stocksInUni) #EDITCELL\n",
    "inUniCountSeries = inUniCount.astype(float) #EDITCELL\n",
    "stocksAlways = (inUniCount >= 1981).pipe(lambda x: x.index[x])\n",
    "xStocksAlways = set(stocksAlways)"
   ]
  },
  {
   "cell_type": "markdown",
   "metadata": {},
   "source": [
    "#### set up everything"
   ]
  },
  {
   "cell_type": "code",
   "execution_count": 4,
   "metadata": {
    "collapsed": true
   },
   "outputs": [],
   "source": [
    "def set_basic_features(*,M,delete=True):\n",
    "    M['assetCodeId'] = M.assetCode.map(assetCodeIdAssign)#.astype(int) # much more efficient to process everything as float\n",
    "    if delete:\n",
    "        del M['assetCode']\n",
    "    M['assetNameId'] = M.assetName.map(assetNameIdAssign)#.astype(int)\n",
    "    if delete:\n",
    "        del M['assetName']\n",
    "    for orig_col, new_col in returns_columns.items():\n",
    "        M[new_col] = np.log1p(M[orig_col])\n",
    "        if delete:\n",
    "            del M[orig_col]\n",
    "    # time features\n",
    "    M['dayOfYear'] = M.time.dt.dayofyear.astype(float)\n",
    "    M['dayOfWeek'] = M.time.dt.dayofweek.astype(float)\n",
    "set_basic_features(M=M,delete=False)"
   ]
  },
  {
   "cell_type": "markdown",
   "metadata": {},
   "source": [
    "#### P setup"
   ]
  },
  {
   "cell_type": "code",
   "execution_count": null,
   "metadata": {
    "collapsed": true
   },
   "outputs": [],
   "source": [
    "def setup_P(*, F, P, vp=True, always=True):\n",
    "    P['target'] = P.y>0\n",
    "    P['upDown'] = (P.target*2-1)\n",
    "    P['absVal'] = np.abs(P.y)\n",
    "    P['flat_weight'] = P.absVal\n",
    "    if vp:\n",
    "        P['vp1_weight'] = P.absVal*F.vp1/1e9\n",
    "        P['vp5_weight'] = P.absVal*F.vp5/1e9\n",
    "        P['vp10_weight'] = P.absVal*F.vp10/1e9\n",
    "        P['vp20_weight'] = P.absVal*F.vp20/1e9\n",
    "    if always:\n",
    "        P['always_weight'] = P.absVal*F.assetCodeId.isin(xStocksAlways)"
   ]
  }
 ],
 "metadata": {
  "kernelspec": {
   "display_name": "Python 3",
   "language": "python",
   "name": "python3"
  },
  "language_info": {
   "codemirror_mode": {
    "name": "ipython",
    "version": 3
   },
   "file_extension": ".py",
   "mimetype": "text/x-python",
   "name": "python",
   "nbconvert_exporter": "python",
   "pygments_lexer": "ipython3",
   "version": "3.6.2"
  }
 },
 "nbformat": 4,
 "nbformat_minor": 2
}
