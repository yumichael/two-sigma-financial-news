{
 "cells": [
  {
   "cell_type": "code",
   "execution_count": 1,
   "metadata": {
    "collapsed": true
   },
   "outputs": [],
   "source": [
    "from common import *\n",
    "from search.imports import *\n",
    "from search.search import *\n",
    "from search.manager import ModelManager\n",
    "from features.bank import TP\n",
    "\n",
    "from features import Features"
   ]
  },
  {
   "cell_type": "code",
   "execution_count": 2,
   "metadata": {
    "collapsed": true
   },
   "outputs": [],
   "source": [
    "import globals as top_imports\n",
    "top_imports.use_M = False\n",
    "from given import *"
   ]
  },
  {
   "cell_type": "code",
   "execution_count": 3,
   "metadata": {
    "collapsed": true
   },
   "outputs": [],
   "source": [
    "def get_name(q):\n",
    "    return q[q.index('<')+1:q.index('>')]"
   ]
  },
  {
   "cell_type": "code",
   "execution_count": 4,
   "metadata": {
    "collapsed": true
   },
   "outputs": [],
   "source": [
    "sharpe = lambda x: x.mean()/x.std(ddof=0)"
   ]
  },
  {
   "cell_type": "markdown",
   "metadata": {},
   "source": [
    " stupid things i have to load to query bigF"
   ]
  },
  {
   "cell_type": "code",
   "execution_count": 5,
   "metadata": {
    "collapsed": true
   },
   "outputs": [],
   "source": [
    "F, P = pd.read_pickle(the_data/'saves/train_5fixedsince+1.32.pkl')\n",
    "setup_P(F=F,P=P)\n",
    "bigF = Features(F=F, P=P)"
   ]
  },
  {
   "cell_type": "markdown",
   "metadata": {},
   "source": [
    "set the models to blend"
   ]
  },
  {
   "cell_type": "code",
   "execution_count": 6,
   "metadata": {},
   "outputs": [],
   "source": [
    "q_ = []\n",
    "q_ += [getattr(TP,x) for x in 's20 s21 s22 s00 s10 s11'.split()]\n",
    "q_ += [getattr(TP,x) for x in 'IKGCover TryIt IKGCoverTenDraw IKGCoverThree IKGCoverThreeVP1 IKGCoverThreeMoreShort'.split()]"
   ]
  },
  {
   "cell_type": "code",
   "execution_count": 7,
   "metadata": {
    "collapsed": true
   },
   "outputs": [],
   "source": [
    "qq_ = []\n",
    "qq_ += [TP.PairFiveShortVP1_1_0_0_NoCorr]"
   ]
  },
  {
   "cell_type": "markdown",
   "metadata": {},
   "source": [
    "Load up the models"
   ]
  },
  {
   "cell_type": "code",
   "execution_count": 8,
   "metadata": {
    "collapsed": true
   },
   "outputs": [],
   "source": [
    "DIR = '/big/data/nouveau/'"
   ]
  },
  {
   "cell_type": "code",
   "execution_count": 9,
   "metadata": {},
   "outputs": [],
   "source": [
    "ans = []\n",
    "nbests = []\n",
    "\n",
    "mm = ModelManager(DIR+'flat')\n",
    "for q in q_:\n",
    "    name = get_name(q)\n",
    "    f, _ = bigF.query_solo(q)\n",
    "    fi = mm.F.i(Feats=f)\n",
    "    pm = mm.iPM(fi, 0)\n",
    "    nbest = pm.get('Results', i=0).nbest\n",
    "    guy = pm.get('Answers', i=0)\n",
    "    res = pd.concat([guy[i][0] for i in range(len(guy)-1)]+guy[-1][1:], axis=0)\n",
    "    ans.append(res)\n",
    "    nbests.append(nbest)\n",
    "\n",
    "mm = ModelManager(DIR+'vp10')\n",
    "for q in q_:\n",
    "    name = get_name(q)\n",
    "    f, _ = bigF.query_solo(q)\n",
    "    fi = mm.F.i(Feats=f)\n",
    "    pm = mm.iPM(fi, 0)\n",
    "    nbest = pm.get('Results', i=0).nbest\n",
    "    guy = pm.get('Answers', i=0)\n",
    "    res = pd.concat([guy[i][0] for i in range(len(guy)-1)]+guy[-1][1:], axis=0)\n",
    "    ans.append(res)\n",
    "    nbests.append(nbest)\n",
    "    \n",
    "Pair = O(lo=(.55, 500), hi=None, repeat=2)\n",
    "tag = f'pair,{Pair.lo},{Pair.hi},{Pair.repeat}'\n",
    "mm = ModelManager(DIR+tag)\n",
    "for q in qq_:\n",
    "    name = get_name(q)\n",
    "    fi = 0\n",
    "    pm = mm.iPM(fi, 0)\n",
    "    nbest = pm.get('Results', i=0).nbest\n",
    "    guy = pm.get('Answers', i=0)\n",
    "    res = pd.concat([guy[i][0] for i in range(len(guy)-1)]+guy[-1][1:], axis=0)\n",
    "    ans.append(res)\n",
    "    nbests.append(nbest)"
   ]
  },
  {
   "cell_type": "code",
   "execution_count": 10,
   "metadata": {
    "collapsed": true
   },
   "outputs": [],
   "source": [
    "names = ['a'+get_name(q) for q in q_] + ['m'+get_name(q) for q in q_] + ['p'+get_name(q) for q in qq_]"
   ]
  },
  {
   "cell_type": "code",
   "execution_count": 11,
   "metadata": {
    "collapsed": true
   },
   "outputs": [],
   "source": [
    "def get_daily(df):\n",
    "    WEIGHT = 'flat_weight' if 'flat_weight' in df else 'vp10_weight'\n",
    "    df['trade'] = (df.target*2-1) * df[WEIGHT] * df.guess.fillna(0)\n",
    "    return df.groupby('time')[['trade']].sum()"
   ]
  },
  {
   "cell_type": "code",
   "execution_count": 12,
   "metadata": {},
   "outputs": [],
   "source": [
    "# p = P[P.quarter>=2010]\n",
    "d = None\n",
    "for name, res in zip(names, ans):\n",
    "    if d is None:\n",
    "        d = get_daily(res).rename(columns={'trade':name})\n",
    "    else:\n",
    "        d[name] = get_daily(res).iloc[:,0]"
   ]
  },
  {
   "cell_type": "code",
   "execution_count": 13,
   "metadata": {},
   "outputs": [],
   "source": [
    "paircol = 'pPairFiveShortVP1_1_0_0_NoCorr'\n",
    "cols = ['m'+x for x in 's20 s21 s22 s00 s10 s11 IKGCover TryIt IKGCoverTenDraw IKGCoverThreeMoreShort'.split()]\n",
    "cols += ['a'+x for x in 's20 s21 s22 s00 s10 s11 IKGCover TryIt IKGCoverTenDraw IKGCoverThreeMoreShort'.split()]\n",
    "d = d['ms10 as21 aTryIt aIKGCoverThreeMoreShort'.split() + [paircol]]"
   ]
  },
  {
   "cell_type": "code",
   "execution_count": 14,
   "metadata": {
    "collapsed": true
   },
   "outputs": [],
   "source": [
    "def make_values(d, lo, hi=2017):\n",
    "    dt = pd.Series(d.index)\n",
    "    qt = dt.dt.year+(dt.dt.quarter-1)/4\n",
    "    return d[((lo<=qt)&(qt<hi)).values].values"
   ]
  },
  {
   "cell_type": "code",
   "execution_count": 437,
   "metadata": {
    "collapsed": true
   },
   "outputs": [],
   "source": [
    "_DO_IT_ = True"
   ]
  },
  {
   "cell_type": "code",
   "execution_count": 439,
   "metadata": {},
   "outputs": [],
   "source": [
    "if _DO_IT_:\n",
    "    n = 1_000_000\n",
    "    dd = make_values(d, 2010, 2015.5)\n",
    "    cc = np.random.exponential(size=(n,dd.shape[1]))\n",
    "    cc /= cc.sum(axis=1)[:,None]\n",
    "    scores = [sharpe(dd@c) for c in cc]\n",
    "    ibest = sorted(range(n), key=lambda i: scores[i], reverse=True)\n",
    "_DO_IT_ = False"
   ]
  },
  {
   "cell_type": "code",
   "execution_count": 440,
   "metadata": {},
   "outputs": [
    {
     "data": {
      "text/plain": [
       "[('ms10', 0.65975414084313266),\n",
       " ('as21', 0.13023938367567811),\n",
       " ('aTryIt', 0.07751045616457887),\n",
       " ('aIKGCoverThreeMoreShort', 0.045147656168428356),\n",
       " ('pPairFiveShortVP1_1_0_0_NoCorr', 0.087348363148181923)]"
      ]
     },
     "execution_count": 440,
     "metadata": {},
     "output_type": "execute_result"
    }
   ],
   "source": [
    "list(zip(d.columns, cc[ibest[0]]))"
   ]
  },
  {
   "cell_type": "code",
   "execution_count": 441,
   "metadata": {
    "collapsed": true
   },
   "outputs": [],
   "source": [
    "%matplotlib inline\n",
    "canvas(18,6)"
   ]
  },
  {
   "cell_type": "code",
   "execution_count": 442,
   "metadata": {},
   "outputs": [
    {
     "name": "stdout",
     "output_type": "stream",
     "text": [
      "0.71172844253\n"
     ]
    },
    {
     "data": {
      "image/png": "[encoded data removed]",
      "text/plain": [
       "<matplotlib.figure.Figure at 0x7f8b7e0b8780>"
      ]
     },
     "metadata": {},
     "output_type": "display_data"
    }
   ],
   "source": [
    "k = 0\n",
    "print(scores[ibest[k]])\n",
    "plt.bar(np.arange(d.shape[1]), tick_label=d.columns, height=cc[ibest[k]]);"
   ]
  },
  {
   "cell_type": "code",
   "execution_count": 443,
   "metadata": {},
   "outputs": [
    {
     "data": {
      "image/png": "[encoded data removed]",
      "text/plain": [
       "<matplotlib.figure.Figure at 0x7f8b3b7e9588>"
      ]
     },
     "metadata": {},
     "output_type": "display_data"
    }
   ],
   "source": [
    "guys = np.asarray([[scores[i], sharpe(make_values(d, 2015.5) @ cc[i])] for i in ibest[:5000:]])\n",
    "plt.scatter(guys[:,0], guys[:,1], s=.3);"
   ]
  },
  {
   "cell_type": "code",
   "execution_count": 271,
   "metadata": {},
   "outputs": [
    {
     "data": {
      "text/plain": [
       "0.64020323924773304"
      ]
     },
     "execution_count": 271,
     "metadata": {},
     "output_type": "execute_result"
    }
   ],
   "source": [
    "guys[0,1] # with pair"
   ]
  },
  {
   "cell_type": "code",
   "execution_count": 365,
   "metadata": {},
   "outputs": [
    {
     "data": {
      "text/plain": [
       "0.63068309044412763"
      ]
     },
     "execution_count": 365,
     "metadata": {},
     "output_type": "execute_result"
    }
   ],
   "source": [
    "guys[0,1] # with pair *2"
   ]
  },
  {
   "cell_type": "code",
   "execution_count": 286,
   "metadata": {},
   "outputs": [
    {
     "data": {
      "text/plain": [
       "0.63993263535217426"
      ]
     },
     "execution_count": 286,
     "metadata": {},
     "output_type": "execute_result"
    }
   ],
   "source": [
    "guys[0,1] # without pair"
   ]
  },
  {
   "cell_type": "code",
   "execution_count": 320,
   "metadata": {},
   "outputs": [
    {
     "data": {
      "text/plain": [
       "0.63815829216489883"
      ]
     },
     "execution_count": 320,
     "metadata": {},
     "output_type": "execute_result"
    }
   ],
   "source": [
    "guys[0,1] # without pair *2"
   ]
  },
  {
   "cell_type": "code",
   "execution_count": 343,
   "metadata": {},
   "outputs": [
    {
     "data": {
      "text/plain": [
       "0.64196011246990636"
      ]
     },
     "execution_count": 343,
     "metadata": {},
     "output_type": "execute_result"
    }
   ],
   "source": [
    "guys[0,1] # without pair without IKGCover"
   ]
  },
  {
   "cell_type": "code",
   "execution_count": 333,
   "metadata": {},
   "outputs": [
    {
     "data": {
      "text/plain": [
       "0.6374382126186261"
      ]
     },
     "execution_count": 333,
     "metadata": {},
     "output_type": "execute_result"
    }
   ],
   "source": [
    "guys[0,1] # without mo stuff"
   ]
  },
  {
   "cell_type": "code",
   "execution_count": 354,
   "metadata": {},
   "outputs": [
    {
     "data": {
      "text/plain": [
       "0.63703449615890917"
      ]
     },
     "execution_count": 354,
     "metadata": {},
     "output_type": "execute_result"
    }
   ],
   "source": [
    "guys[0,1] # only the FOUR"
   ]
  },
  {
   "cell_type": "code",
   "execution_count": 401,
   "metadata": {},
   "outputs": [
    {
     "data": {
      "text/plain": [
       "0.63822294856166173"
      ]
     },
     "execution_count": 401,
     "metadata": {},
     "output_type": "execute_result"
    }
   ],
   "source": [
    "guys[0,1] # only the FOUR *2"
   ]
  },
  {
   "cell_type": "markdown",
   "metadata": {},
   "source": [
    "# COPY PRODUCTION"
   ]
  },
  {
   "cell_type": "code",
   "execution_count": 19,
   "metadata": {
    "collapsed": true
   },
   "outputs": [],
   "source": [
    "def copy_production(names, nbests):\n",
    "    nl = '\\\\n'\n",
    "    for name, nbest in zip(names, nbests):\n",
    "        ctor = getattr(TP, name[1:])\n",
    "        if name[0] != 'p': # single\n",
    "            paramsUse = dict(learning_rate=0.05,max_depth=-1,num_leaves=4096,min_data_in_leaf=120,\n",
    "                             min_sum_hessian_in_leaf=100,lambda_l1=0,lambda_l2=0)\n",
    "            features = f'features = {stringify_list(bigF.query_solo(ctor)[0])}'\n",
    "        else:\n",
    "            paramsUse = dict(learning_rate=0.05,max_depth=-1,num_leaves=4096,min_data_in_leaf=120,\n",
    "                             min_sum_hessian_in_leaf=10,lambda_l1=0,lambda_l2=0)\n",
    "            _f = bigF.query_solo(ctor)[0]\n",
    "            features = '\\n        '.join(x+'_features = '+stringify_list(a) for x,a in zip(['copy','diff','plus','corr'],_f))\n",
    "        paramsUse.update({'num_iterations': nbest})\n",
    "        tag = 'vp10' if name[0]=='m' else 'flat'\n",
    "        guy = f'''\\\n",
    "    class {name}(NamedO()):\n",
    "        {features}\n",
    "        feats_ctor = {repr(ctor)}\n",
    "        train_on = fullhouse\n",
    "        weight = '{tag}_weight'\n",
    "        params = {str(O(paramsUse)).replace('<>','dict').replace(' ','')}\n",
    "            '''\n",
    "        print(guy[:guy.rindex('\\n')])"
   ]
  },
  {
   "cell_type": "code",
   "execution_count": 20,
   "metadata": {},
   "outputs": [
    {
     "name": "stdout",
     "output_type": "stream",
     "text": [
      "    class as20(NamedO()):\n",
      "        features = [\"dayOfYear\",\"oo15\",\"aoo15\",\"vp1dd15\",\"volatility60\",\"vp60\",\"fracRecordedDaysSince21\",\"oo10MaxSince21\",\"oo10Drawdown5Since21\",\"oo10Drawdown10Since21\",\"oo10Drawdown20Since21\",\"oo10MaxSince21{5}\",\"oo10MinSince21\",\"oo10MinSince21{5}\",\"(oo-aoo)10MaxSince21\",\"(oo-aoo)10Drawdown5Since21\",\"(oo-aoo)10Drawdown10Since21\",\"(oo-aoo)10Drawdown20Since21\",\"(oo-aoo)10MaxSince21{5}\",\"(oo-aoo)10MinSince21\",\"(oo-aoo)10MinSince21{5}\",\"oo10MaxSince62\",\"oo10Drawdown5Since62\",\"oo10Drawdown10Since62\",\"oo10Drawdown20Since62\",\"oo10MaxSince62{5}\",\"oo10MinSince62\",\"oo10MinSince62{5}\",\"(oo-aoo)10MaxSince62\",\"(oo-aoo)10Drawdown5Since62\",\"(oo-aoo)10Drawdown10Since62\",\"(oo-aoo)10Drawdown20Since62\",\"(oo-aoo)10MaxSince62{5}\",\"(oo-aoo)10MinSince62\",\"(oo-aoo)10MinSince62{5}\",\"oo10MaxSince250\",\"oo10Drawdown5Since250\",\"oo10Drawdown10Since250\",\"oo10Drawdown20Since250\",\"oo10MaxSince250{5}\",\"oo10MinSince250\",\"oo10MinSince250{5}\",\"(oo-aoo)10MaxSince250\",\"(oo-aoo)10Drawdown5Since250\",\"(oo-aoo)10Drawdown10Since250\",\"(oo-aoo)10Drawdown20Since250\",\"(oo-aoo)10MaxSince250{5}\",\"(oo-aoo)10MinSince250\",\"(oo-aoo)10MinSince250{5}\",\"volatility10MaxSince250\",\"volatility10MaxSince250{5}\",\"volatility10MinSince250{10}\",\"volatility20MaxSince250\",\"volatility20MaxSince250{5}\",\"volatility20MinSince250{10}\"]\n",
      "        feats_ctor = '<s20>    <>~Market & (\\n        | Return{.&pure&~index} & ~Since & Return{.&\\n            <>(oo|aoo|vp1dd|Volatility)\\n            & [15:,6:3,9:6,12:9,12:6,18:12,18:9,21:12,18:6,21:9,18:3,21:6,21:3]\\n          }\\n        | (\\n            <>Return{(oo{.&[10:]}|doo[10:])}\\n            & (\\n                | Drawdown[ 5:,10:,20:]\\n                | Since{Max&index[0,5]}\\n                | Since{Min&index[0,5]}\\n              )\\n            & Since[21:, 62:, 250:]\\n          )\\n        | (\\n            <> Volatility[ 60:]\\n            | Volatility[10:, 20:]\\n            & (\\n                | Since{Max & index[0,5]}\\n                | Since{Min & index[10]}\\n              )\\n            & Since[ 250:]\\n          )\\n      )\\n    |\\n        <>Return{pure&~dd} & VP[60:]\\n        | FracRec[21:]\\n    |\\n        Time{long}'\n",
      "        train_on = fullhouse\n",
      "        weight = 'flat_weight'\n",
      "        params = dict(learning_rate=0.05,max_depth=-1,num_leaves=4096,min_data_in_leaf=120,min_sum_hessian_in_leaf=100,lambda_l1=0,lambda_l2=0,num_iterations=43)\n",
      "    class as21(NamedO()):\n",
      "        features = [\"(oo-aoo)5\",\"(oo-aoo)15\",\"(oo-aoo)(10-5)\",\"(oo-aoo)(15-10)\",\"(oo-aoo)(20-15)\",\"(oo-aoo)(15-5)\",\"(oo-aoo)(20-5)\",\"vp1dd{0/1}\",\"vp1dd\",\"vp1dd{2}\",\"fracRecordedDaysSince21\",\"oo1Since21\",\"oo1MaxSince21\",\"oo1Drawdown1Since21\",\"oo1Drawdown10Since21\",\"oo1Drawdown20Since21\",\"oo1MaxSince21{10}\",\"oo1MinSince21\",\"oo1MinSince21{20}\",\"aoo1Since21\",\"aoo1MaxSince21\",\"aoo1Drawdown1Since21\",\"aoo1Drawdown10Since21\",\"aoo1Drawdown20Since21\",\"aoo1MaxSince21{10}\",\"aoo1MinSince21\",\"aoo1MinSince21{20}\",\"oo10Since21\",\"oo10MaxSince21\",\"oo10Drawdown1Since21\",\"oo10Drawdown10Since21\",\"oo10Drawdown20Since21\",\"oo10MaxSince21{10}\",\"oo10MinSince21\",\"oo10MinSince21{20}\",\"fracRecordedDaysSince125\",\"oo1Since125\",\"oo1MaxSince125\",\"oo1Drawdown1Since125\",\"oo1Drawdown10Since125\",\"oo1Drawdown20Since125\",\"oo1MaxSince125{10}\",\"oo1MinSince125\",\"oo1MinSince125{20}\",\"aoo1Since125\",\"aoo1MaxSince125\",\"aoo1Drawdown1Since125\",\"aoo1Drawdown10Since125\",\"aoo1Drawdown20Since125\",\"aoo1MaxSince125{10}\",\"aoo1MinSince125\",\"aoo1MinSince125{20}\",\"oo10Since125\",\"oo10MaxSince125\",\"oo10Drawdown1Since125\",\"oo10Drawdown10Since125\",\"oo10Drawdown20Since125\",\"oo10MaxSince125{10}\",\"oo10MinSince125\",\"oo10MinSince125{20}\",\"fracRecordedDaysSince250\",\"oo1Since250\",\"oo1MaxSince250\",\"oo1Drawdown1Since250\",\"oo1Drawdown10Since250\",\"oo1Drawdown20Since250\",\"oo1MaxSince250{10}\",\"oo1MinSince250\",\"oo1MinSince250{20}\",\"aoo1Since250\",\"aoo1MaxSince250\",\"aoo1Drawdown1Since250\",\"aoo1Drawdown10Since250\",\"aoo1Drawdown20Since250\",\"aoo1MaxSince250{10}\",\"aoo1MinSince250\",\"aoo1MinSince250{20}\",\"oo10Since250\",\"oo10MaxSince250\",\"oo10Drawdown1Since250\",\"oo10Drawdown10Since250\",\"oo10Drawdown20Since250\",\"oo10MaxSince250{10}\",\"oo10MinSince250\",\"oo10MinSince250{20}\",\"m_oo20\",\"m_volatility20\",\"m_oo60\",\"m_volatility60\"]\n",
      "        feats_ctor = '<s21>    <>~Market & (\\n        <>Return{.&pure&~digit&~TEN} & ~Since & Return{.&\\n            <>(vp1dd)\\n            & index[0,2, 0:1]\\n          }\\n        | Return{.&pure&~index} & ~Since & Return{.&\\n            <>(doo|vp5dd|Volatility)\\n            & [5:,15:,10:5,15:10,20:15,15:5,20:5]\\n          }\\n        | (\\n            <>Return{(oo{.&[1:]}|aoo[1:]|oo{.&[10:]})}\\n            & (\\n                <> ~Drawdown&~Drawup&~Since{Min}&~Since{Max}\\n                | Drawdown[1:,10:,20:]\\n                | Since{Max&index[0,10]}\\n                | Since{Min&index[0,20]}\\n              )\\n            & Since[21:, 125:, 250:]\\n          )\\n      )\\n    | Market{.&\\n        <>(~Weight)\\n        & (Return| Volatility)\\n        & [20:,60:]\\n      }\\n    |\\n        | FracRec[21:,125:,250:]\\n    |'\n",
      "        train_on = fullhouse\n",
      "        weight = 'flat_weight'\n",
      "        params = dict(learning_rate=0.05,max_depth=-1,num_leaves=4096,min_data_in_leaf=120,min_sum_hessian_in_leaf=100,lambda_l1=0,lambda_l2=0,num_iterations=52)\n",
      "    class as22(NamedO()):\n",
      "        features = [\"dayOfYear\",\"dayOfWeek\",\"oo10\",\"aoo10\",\"(oo-aoo)10\",\"vp1dd10\",\"oo(10-5)\",\"oo(15-10)\",\"oo(15-5)\",\"oo(20-5)\",\"aoo(10-5)\",\"aoo(15-10)\",\"aoo(15-5)\",\"aoo(20-5)\",\"(oo-aoo)(10-5)\",\"(oo-aoo)(15-10)\",\"(oo-aoo)(15-5)\",\"(oo-aoo)(20-5)\",\"vp1dd(10-5)\",\"vp1dd(15-10)\",\"vp1dd(15-5)\",\"vp1dd(20-5)\",\"oo1Drawdown10Since21\",\"oo1Drawdown(20-10)Since21\",\"oo1MaxSince21{20}\",\"oo1MinSince21{20}\",\"vp5dd1MaxSince21\",\"vp5dd1Drawdown1Since21\",\"vp5dd1MinSince21\",\"vp10dd1MaxSince21\",\"vp10dd1Drawdown1Since21\",\"vp10dd1MinSince21\",\"oo1Drawdown10Since250\",\"oo1Drawdown(20-10)Since250\",\"oo1MaxSince250{20}\",\"oo1MinSince250{20}\",\"vp5dd1MaxSince250\",\"vp5dd1Drawdown1Since250\",\"vp5dd1MinSince250\",\"vp10dd1MaxSince250\",\"vp10dd1Drawdown1Since250\",\"vp10dd1MinSince250\"]\n",
      "        feats_ctor = '<s22>    <>~Market & (\\n        | Return{.&pure&~index} & ~Since & Return{.&\\n            <>(oo|aoo|doo|vp1dd|vp5dd)\\n            & [10:,10:5,15:10,15:5,20:5]\\n          }\\n        | (\\n            <>Return{(oo{.&[1:]})}\\n            & (\\n                | Drawdown[10:,20:10]\\n                | Since{Max&index[20]}\\n                | Since{Min&index[20]}\\n              )\\n            & Since[21:, 250:]\\n          )\\n        | (\\n            <>Return{dd} & VP[ 5:, 10:]\\n            & (\\n                | Drawdown[1:]\\n                | Since{Max & index[0]}\\n                | Since{Min & index[0]}\\n              )\\n            & Since[21:, 250:]\\n          )\\n      )\\n    |\\n        Time{long| short}'\n",
      "        train_on = fullhouse\n",
      "        weight = 'flat_weight'\n",
      "        params = dict(learning_rate=0.05,max_depth=-1,num_leaves=4096,min_data_in_leaf=120,min_sum_hessian_in_leaf=100,lambda_l1=0,lambda_l2=0,num_iterations=76)\n",
      "    class as00(NamedO()):\n",
      "        features = [\"cc\",\"oo\",\"acc\",\"aoo\",\"vp10\",\"oo5\",\"oo10\",\"oo15\",\"aoo5\",\"aoo10\",\"aoo15\",\"vp1dd5\",\"vp1dd10\",\"vp1dd15\",\"volatility60\",\"oo(15-10)\",\"oo(20-15)\",\"oo(15-5)\",\"oo(20-10)\",\"aoo(15-10)\",\"aoo(20-15)\",\"aoo(15-5)\",\"aoo(20-10)\",\"vp1dd(15-10)\",\"vp1dd(20-15)\",\"vp1dd(15-5)\",\"vp1dd(20-10)\",\"oo{0/1}\",\"oo{0/2}\",\"oo{1}\",\"oo{2}\",\"(oo-aoo){0/1}\",\"(oo-aoo){0/2}\",\"(oo-aoo){1}\",\"(oo-aoo){2}\",\"vp1dd{0/1}\",\"vp1dd{0/2}\",\"vp1dd\",\"vp1dd{1}\",\"vp1dd{2}\",\"oo1Drawdown10Since62\",\"oo1Drawdown20Since62\",\"oo1MaxSince62{10}\",\"oo1MaxSince62{20}\",\"oo1MinSince62\",\"oo1Drawup1Since62\",\"oo1MinSince62{5}\",\"volatility20MaxSince62\",\"volatility20MaxSince62{5}\",\"volatility20Drawup(10-5)Since62\",\"volatility20Drawup(20-10)Since62\",\"volatility20MinSince62{20}\",\"oo1Drawdown10Since250\",\"oo1Drawdown20Since250\",\"oo1MaxSince250{10}\",\"oo1MaxSince250{20}\",\"oo1MinSince250\",\"oo1Drawup1Since250\",\"oo1MinSince250{5}\",\"volatility20MaxSince250\",\"volatility20MaxSince250{5}\",\"volatility20Drawup(10-5)Since250\",\"volatility20Drawup(20-10)Since250\",\"volatility20MinSince250{20}\"]\n",
      "        feats_ctor = '<s00>    <>~Market & (\\n        <>Return{.&pure&~digit&~TEN} & ~Since & Return{.&\\n            <>(oo|cc|aoo|acc|doo|vp1dd)\\n            & index[0,1,2, 0:1,0:2]\\n          }\\n        | Return{.&pure&~index} & ~Since & Return{.&\\n            <>(oo|aoo|vp1dd)\\n            & [5:,10:,15:,15:10,20:15,15:5,20:10]\\n          }\\n        | (\\n            <>Return{(oo{.&[1:]})}\\n            & (\\n                | Drawdown[10:,20:]\\n                | Since{Max&index[10,20]}\\n                | Drawup[1:]\\n                | Since{Min&index[0,5]}\\n              )\\n            & Since[ 62:, 250:]\\n          )\\n        | (\\n            <> Volatility[ 60:]\\n            | Volatility[ 20:]\\n            & (\\n                | Since{Max & index[0,5]}\\n                | Drawup[ 10:5,20:10]\\n                | Since{Min & index[20]}\\n              )\\n            & Since[ 62:, 250:]\\n          )\\n      )\\n    |\\n        <>Return{pure&~dd} & VP[10:]\\n    |'\n",
      "        train_on = fullhouse\n",
      "        weight = 'flat_weight'\n",
      "        params = dict(learning_rate=0.05,max_depth=-1,num_leaves=4096,min_data_in_leaf=120,min_sum_hessian_in_leaf=100,lambda_l1=0,lambda_l2=0,num_iterations=391)\n"
     ]
    },
    {
     "name": "stdout",
     "output_type": "stream",
     "text": [
      "    class as10(NamedO()):\n",
      "        features = [\"cc\",\"oo\",\"dayOfYear\",\"dayOfWeek\",\"volatility60\",\"oo{0/1}\",\"oo{1/2}\",\"oo{1}\",\"oo{2}\",\"(cc-acc){0/1}\",\"(cc-acc){1/2}\",\"(cc-acc){1}\",\"(cc-acc){2}\",\"oo1Since21\",\"oo1MaxSince21\",\"oo1Drawdown1Since21\",\"oo1Drawdown5Since21\",\"oo1Drawdown10Since21\",\"oo1Drawdown(10-5)Since21\",\"oo1MinSince21\",\"oo1MinSince21{5}\",\"oo10Since21\",\"oo10MaxSince21\",\"oo10Drawdown1Since21\",\"oo10Drawdown5Since21\",\"oo10Drawdown10Since21\",\"oo10Drawdown(10-5)Since21\",\"oo10MinSince21\",\"oo10MinSince21{5}\",\"(oo-aoo)10Since21\",\"(oo-aoo)10MaxSince21\",\"(oo-aoo)10Drawdown1Since21\",\"(oo-aoo)10Drawdown5Since21\",\"(oo-aoo)10Drawdown10Since21\",\"(oo-aoo)10Drawdown(10-5)Since21\",\"(oo-aoo)10MinSince21\",\"(oo-aoo)10MinSince21{5}\",\"vp1dd1Since21\",\"vp1dd1MaxSince21{5}\",\"vp1dd1Drawup(20-10)Since21\",\"vp1dd1MinSince21{20}\",\"vp5dd1Since21\",\"vp5dd1MaxSince21{5}\",\"vp5dd1Drawup(20-10)Since21\",\"vp5dd1MinSince21{20}\",\"vp10dd1Since21\",\"vp10dd1MaxSince21{5}\",\"vp10dd1Drawup(20-10)Since21\",\"vp10dd1MinSince21{20}\",\"volatility10MaxSince21{20}\",\"volatility10MinSince21{20}\",\"oo1Since125\",\"oo1MaxSince125\",\"oo1Drawdown1Since125\",\"oo1Drawdown5Since125\",\"oo1Drawdown10Since125\",\"oo1Drawdown(10-5)Since125\",\"oo1MinSince125\",\"oo1MinSince125{5}\",\"oo10Since125\",\"oo10MaxSince125\",\"oo10Drawdown1Since125\",\"oo10Drawdown5Since125\",\"oo10Drawdown10Since125\",\"oo10Drawdown(10-5)Since125\",\"oo10MinSince125\",\"oo10MinSince125{5}\",\"(oo-aoo)10Since125\",\"(oo-aoo)10MaxSince125\",\"(oo-aoo)10Drawdown1Since125\",\"(oo-aoo)10Drawdown5Since125\",\"(oo-aoo)10Drawdown10Since125\",\"(oo-aoo)10Drawdown(10-5)Since125\",\"(oo-aoo)10MinSince125\",\"(oo-aoo)10MinSince125{5}\",\"vp1dd1Since125\",\"vp1dd1MaxSince125{5}\",\"vp1dd1Drawup(20-10)Since125\",\"vp1dd1MinSince125{20}\",\"vp5dd1Since125\",\"vp5dd1MaxSince125{5}\",\"vp5dd1Drawup(20-10)Since125\",\"vp5dd1MinSince125{20}\",\"vp10dd1Since125\",\"vp10dd1MaxSince125{5}\",\"vp10dd1Drawup(20-10)Since125\",\"vp10dd1MinSince125{20}\",\"volatility10MaxSince125{20}\",\"volatility10MinSince125{20}\",\"oo1Since250\",\"oo1MaxSince250\",\"oo1Drawdown1Since250\",\"oo1Drawdown5Since250\",\"oo1Drawdown10Since250\",\"oo1Drawdown(10-5)Since250\",\"oo1MinSince250\",\"oo1MinSince250{5}\",\"oo10Since250\",\"oo10MaxSince250\",\"oo10Drawdown1Since250\",\"oo10Drawdown5Since250\",\"oo10Drawdown10Since250\",\"oo10Drawdown(10-5)Since250\",\"oo10MinSince250\",\"oo10MinSince250{5}\",\"(oo-aoo)10Since250\",\"(oo-aoo)10MaxSince250\",\"(oo-aoo)10Drawdown1Since250\",\"(oo-aoo)10Drawdown5Since250\",\"(oo-aoo)10Drawdown10Since250\",\"(oo-aoo)10Drawdown(10-5)Since250\",\"(oo-aoo)10MinSince250\",\"(oo-aoo)10MinSince250{5}\",\"vp1dd1Since250\",\"vp1dd1MaxSince250{5}\",\"vp1dd1Drawup(20-10)Since250\",\"vp1dd1MinSince250{20}\",\"vp5dd1Since250\",\"vp5dd1MaxSince250{5}\",\"vp5dd1Drawup(20-10)Since250\",\"vp5dd1MinSince250{20}\",\"vp10dd1Since250\",\"vp10dd1MaxSince250{5}\",\"vp10dd1Drawup(20-10)Since250\",\"vp10dd1MinSince250{20}\",\"volatility10MaxSince250{20}\",\"volatility10MinSince250{20}\"]\n",
      "        feats_ctor = '<s10>    <>~Market & (\\n        <>Return{.&pure&~digit&~TEN} & ~Since & Return{.&\\n            <>(oo|cc|dcc)\\n            & index[0,1,2, 0:1,1:2]\\n          }\\n        | (\\n            <>Return{(oo{.&[1:]}|oo{.&[10:]}|doo[10:])}\\n            & (\\n                <> ~Drawdown&~Drawup&~Since{Min}&~Since{Max}\\n                | Drawdown[1:, 5:,10:, 10:5]\\n                | Since{Max&index[0]}\\n                | Since{Min&index[0,5]}\\n              )\\n            & Since[21:, 125:, 250:]\\n          )\\n        | (\\n            <>Return{dd} & VP[1:, 5:, 10:]\\n            & (\\n                <> ~Drawdown&~Drawup&~Since{Min}&~Since{Max}\\n                | Since{Max & index[5]}\\n                | Drawup[20:10]\\n                | Since{Min & index[20]}\\n              )\\n            & Since[21:, 125:, 250:]\\n          )\\n        | (\\n            <> Volatility[ 60:]\\n            | Volatility[10:]\\n            & (\\n                | Since{Max & index[20]}\\n                | Since{Min & index[20]}\\n              )\\n            & Since[21:, 125:, 250:]\\n          )\\n      )\\n    |\\n        Time{long| short}'\n",
      "        train_on = fullhouse\n",
      "        weight = 'flat_weight'\n",
      "        params = dict(learning_rate=0.05,max_depth=-1,num_leaves=4096,min_data_in_leaf=120,min_sum_hessian_in_leaf=100,lambda_l1=0,lambda_l2=0,num_iterations=83)\n",
      "    class as11(NamedO()):\n",
      "        features = [\"close\",\"cc\",\"oo\",\"acc\",\"aoo10\",\"(oo-aoo)10\",\"vp1dd10\",\"rr\",\"aoo(10-5)\",\"aoo(15-5)\",\"aoo(20-5)\",\"(oo-aoo)(10-5)\",\"(oo-aoo)(15-5)\",\"(oo-aoo)(20-5)\",\"vp1dd(10-5)\",\"vp1dd(15-5)\",\"vp1dd(20-5)\",\"oo{1}\",\"(oo-aoo){1}\",\"(cc-acc){1}\",\"(aoo-acc){1}\",\"(it,af,it{1},aoo,acc){0/1}\",\"(it{1},af{1},it{2},aoo{1},acc{1}){0/1}\",\"(it,af,it{1},aoo,acc){0/2}\",\"(it{1},af{1},it{2},aoo{1},acc{1}){0/2}\",\"(it{1},af{1},it{2},aoo{1},acc{1}){0/3}\",\"(it,af,it{1},aoo,acc){0/4}\",\"(it{1},af{1},it{2},aoo{1},acc{1}){1/2}\",\"(it,af,it{1},aoo,acc){1/3}\",\"(it,af,it{1},aoo,acc){1/4}\",\"(it{1},af{1},it{2},aoo{1},acc{1}){1/4}\",\"(it,af,it{1},aoo,acc){2/3}\",\"(it,af,it{1},aoo,acc){2/4}\",\"(it{1},af{1},it{2},aoo{1},acc{1}){2/4}\",\"oo1Drawdown1Since21\",\"oo1Drawdown10Since21\",\"oo1Drawdown(10-5)Since21\",\"oo1Drawdown(20-10)Since21\",\"oo1MaxSince21{10}\",\"oo1MinSince21\",\"oo1Drawup(20-10)Since21\",\"oo10Drawdown1Since21\",\"oo10Drawdown10Since21\",\"oo10Drawdown(10-5)Since21\",\"oo10Drawdown(20-10)Since21\",\"oo10MaxSince21{10}\",\"oo10MinSince21\",\"oo10Drawup(20-10)Since21\",\"vp1dd1Since21\",\"vp1dd1MaxSince21\",\"vp1dd1MinSince21\",\"vp10dd1Since21\",\"vp10dd1MaxSince21\",\"vp10dd1MinSince21\",\"oo1Drawdown1Since62\",\"oo1Drawdown10Since62\",\"oo1Drawdown(10-5)Since62\",\"oo1Drawdown(20-10)Since62\",\"oo1MaxSince62{10}\",\"oo1MinSince62\",\"oo1Drawup(20-10)Since62\",\"oo10Drawdown1Since62\",\"oo10Drawdown10Since62\",\"oo10Drawdown(10-5)Since62\",\"oo10Drawdown(20-10)Since62\",\"oo10MaxSince62{10}\",\"oo10MinSince62\",\"oo10Drawup(20-10)Since62\",\"vp1dd1Since62\",\"vp1dd1MaxSince62\",\"vp1dd1MinSince62\",\"vp10dd1Since62\",\"vp10dd1MaxSince62\",\"vp10dd1MinSince62\",\"oo1Drawdown1Since125\",\"oo1Drawdown10Since125\",\"oo1Drawdown(10-5)Since125\",\"oo1Drawdown(20-10)Since125\",\"oo1MaxSince125{10}\",\"oo1MinSince125\",\"oo1Drawup(20-10)Since125\",\"oo10Drawdown1Since125\",\"oo10Drawdown10Since125\",\"oo10Drawdown(10-5)Since125\",\"oo10Drawdown(20-10)Since125\",\"oo10MaxSince125{10}\",\"oo10MinSince125\",\"oo10Drawup(20-10)Since125\",\"vp1dd1Since125\",\"vp1dd1MaxSince125\",\"vp1dd1MinSince125\",\"vp10dd1Since125\",\"vp10dd1MaxSince125\",\"vp10dd1MinSince125\",\"oo1Drawdown1Since250\",\"oo1Drawdown10Since250\",\"oo1Drawdown(10-5)Since250\",\"oo1Drawdown(20-10)Since250\",\"oo1MaxSince250{10}\",\"oo1MinSince250\",\"oo1Drawup(20-10)Since250\",\"oo10Drawdown1Since250\",\"oo10Drawdown10Since250\",\"oo10Drawdown(10-5)Since250\",\"oo10Drawdown(20-10)Since250\",\"oo10MaxSince250{10}\",\"oo10MinSince250\",\"oo10Drawup(20-10)Since250\",\"vp1dd1Since250\",\"vp1dd1MaxSince250\",\"vp1dd1MinSince250\",\"vp10dd1Since250\",\"vp10dd1MaxSince250\",\"vp10dd1MinSince250\"]\n",
      "        feats_ctor = '<s11>    <>~Market & (\\n        <>Return{.&pure&~digit&~TEN} & ~Since & Return{.&\\n            <>(oo|cc|acc|doo|dcc|daoc)\\n            & index[0,1]\\n          }\\n        | Return{.&pure&~index} & ~Since & Return{.&\\n            <>(aoo|doo|vp1dd|vp5dd|Volatility)\\n            & [10:,10:5,15:5,20:5]\\n          }\\n        | (\\n            <>Return{(oo{.&[1:]}|oo{.&[10:]})}\\n            & (\\n                | Drawdown[1:,10:, 10:5,20:10]\\n                | Since{Max&index[10]}\\n                | Drawup[20:10]\\n                | Since{Min&index[0]}\\n              )\\n            & Since[21:, 62:, 125:, 250:]\\n          )\\n        | (\\n            <>Return{dd} & VP[1:, 10:]\\n            & (\\n                <> ~Drawdown&~Drawup&~Since{Min}&~Since{Max}\\n                | Since{Max & index[0]}\\n                | Since{Min & index[0]}\\n              )\\n            & Since[21:, 62:, 125:, 250:]\\n          )\\n      )\\n    |\\n        <>FaceValue{ Close}\\n        | Return{mix[1,3,5,6,7,8,9,11,12,13,14,18,19]}\\n        | Return{rr}'\n",
      "        train_on = fullhouse\n",
      "        weight = 'flat_weight'\n",
      "        params = dict(learning_rate=0.05,max_depth=-1,num_leaves=4096,min_data_in_leaf=120,min_sum_hessian_in_leaf=100,lambda_l1=0,lambda_l2=0,num_iterations=216)\n",
      "    class aIKGCover(NamedO()):\n",
      "        features = [\"assetCodeId\",\"volume\",\"cc\",\"oo\",\"acc\",\"aoo\",\"oo5\",\"oo10\",\"oo15\",\"aoo5\",\"aoo10\",\"aoo15\",\"af\",\"it\",\"rr\",\"oo(10-5)\",\"oo(15-10)\",\"oo(20-15)\",\"oo(15-5)\",\"oo(20-10)\",\"oo(20-5)\",\"aoo(10-5)\",\"aoo(15-10)\",\"aoo(20-15)\",\"aoo(15-5)\",\"aoo(20-10)\",\"aoo(20-5)\",\"af{1}\",\"it{1}\",\"(it,af,it{1},aoo,acc){0/1}\",\"(it{1},af{1},it{2},aoo{1},acc{1}){0/1}\",\"(it,af,it{1},aoo,acc){0/2}\",\"(it{1},af{1},it{2},aoo{1},acc{1}){0/2}\",\"(it,af,it{1},aoo,acc){0/3}\",\"(it{1},af{1},it{2},aoo{1},acc{1}){0/3}\",\"(it,af,it{1},aoo,acc){0/4}\",\"(it{1},af{1},it{2},aoo{1},acc{1}){0/4}\",\"(it,af,it{1},aoo,acc){1/2}\",\"(it{1},af{1},it{2},aoo{1},acc{1}){1/2}\",\"(it,af,it{1},aoo,acc){1/3}\",\"(it{1},af{1},it{2},aoo{1},acc{1}){1/3}\",\"(it,af,it{1},aoo,acc){1/4}\",\"(it{1},af{1},it{2},aoo{1},acc{1}){1/4}\",\"(it,af,it{1},aoo,acc){2/3}\",\"(it{1},af{1},it{2},aoo{1},acc{1}){2/3}\",\"(it,af,it{1},aoo,acc){2/4}\",\"(it{1},af{1},it{2},aoo{1},acc{1}){2/4}\",\"oo1Since21\",\"oo1MaxSince21\",\"oo1Drawdown1Since21\",\"oo1Drawdown5Since21\",\"oo1Drawdown10Since21\",\"oo1MinSince21\",\"oo1MinSince21{10}\",\"aoo1Since21\",\"aoo1MaxSince21\",\"aoo1Drawdown1Since21\",\"aoo1Drawdown5Since21\",\"aoo1Drawdown10Since21\",\"aoo1MinSince21\",\"aoo1MinSince21{10}\",\"oo1Since62\",\"oo1MaxSince62\",\"oo1Drawdown1Since62\",\"oo1Drawdown5Since62\",\"oo1Drawdown10Since62\",\"oo1MinSince62\",\"oo1MinSince62{10}\",\"aoo1Since62\",\"aoo1MaxSince62\",\"aoo1Drawdown1Since62\",\"aoo1Drawdown5Since62\",\"aoo1Drawdown10Since62\",\"aoo1MinSince62\",\"aoo1MinSince62{10}\",\"oo1Since125\",\"oo1MaxSince125\",\"oo1Drawdown1Since125\",\"oo1Drawdown5Since125\",\"oo1Drawdown10Since125\",\"oo1MinSince125\",\"oo1MinSince125{10}\",\"aoo1Since125\",\"aoo1MaxSince125\",\"aoo1Drawdown1Since125\",\"aoo1Drawdown5Since125\",\"aoo1Drawdown10Since125\",\"aoo1MinSince125\",\"aoo1MinSince125{10}\",\"oo1Since250\",\"oo1MaxSince250\",\"oo1Drawdown1Since250\",\"oo1Drawdown5Since250\",\"oo1Drawdown10Since250\",\"oo1MinSince250\",\"oo1MinSince250{10}\",\"aoo1Since250\",\"aoo1MaxSince250\",\"aoo1Drawdown1Since250\",\"aoo1Drawdown5Since250\",\"aoo1Drawdown10Since250\",\"aoo1MinSince250\",\"aoo1MinSince250{10}\",\"assetCode_inUniCount\"]\n",
      "        feats_ctor = '<IKGCover>\\n    <>~Market & (\\n        <>Return{.&pure&~digit&~TEN} & ~Since & Return{.&\\n            <>(oo|cc|aoo|acc|daoc)\\n            & index[0]\\n          }\\n        | Return{.&pure&~index} & ~Since & Return{.&\\n            <>(oo|aoo)\\n            & [5:,10:,15:,10:5,15:10,20:15,15:5,20:10,20:5]\\n          }\\n        | (\\n            <>Return{(oo{.&[1:]}|aoo[1:])}\\n            & (\\n                <> ~Drawdown&~Drawup&~Since{Min}&~Since{Max}\\n                | Drawdown[1:, 5:,10:]\\n                | Since{Max&index[0]}\\n                | Since{Min&index[0,10]}\\n              )\\n            & Since[21:,62:,125:,250:]\\n          )\\n      )\\n    |\\n        <>AssetEnc{InUni}\\n        | AssetEnc{Code}\\n    |\\n        <>FaceValue{Volume}\\n        | Return{mix[1,2,3,4,5,6,7,8,9,11,12,13,14,15,16,17,18,19]}\\n        | Return{rr|af|it}\\n    '\n",
      "        train_on = fullhouse\n",
      "        weight = 'flat_weight'\n",
      "        params = dict(learning_rate=0.05,max_depth=-1,num_leaves=4096,min_data_in_leaf=120,min_sum_hessian_in_leaf=100,lambda_l1=0,lambda_l2=0,num_iterations=434)\n"
     ]
    },
    {
     "name": "stdout",
     "output_type": "stream",
     "text": [
      "    class aTryIt(NamedO()):\n",
      "        features = [\"oo\",\"aoo\",\"dayOfYear\",\"dayOfWeek\",\"vp10\",\"oo5\",\"oo10\",\"oo15\",\"aoo5\",\"aoo10\",\"aoo15\",\"vp1dd5\",\"vp1dd10\",\"vp1dd15\",\"volatility60\",\"vp20\",\"oo(10-5)\",\"oo(15-10)\",\"oo(20-15)\",\"oo(15-5)\",\"oo(20-10)\",\"oo(20-5)\",\"aoo(10-5)\",\"aoo(15-10)\",\"aoo(20-15)\",\"aoo(15-5)\",\"aoo(20-10)\",\"aoo(20-5)\",\"vp1dd(10-5)\",\"vp1dd(15-10)\",\"vp1dd(20-15)\",\"vp1dd(15-5)\",\"vp1dd(20-10)\",\"vp1dd(20-5)\",\"oo{1}\",\"oo{2}\",\"(oo-aoo){1}\",\"(oo-aoo){2}\",\"(oo-cc){1}\",\"(oo-cc){2}\",\"(aoo-acc){1}\",\"(aoo-acc){2}\",\"vp1dd\",\"vp1dd{1}\",\"vp1dd{2}\",\"fracRecordedDaysSince21\",\"oo1Since21\",\"oo1Drawdown5Since21\",\"oo1Drawdown10Since21\",\"oo1Drawdown20Since21\",\"oo1Drawdown(10-5)Since21\",\"oo1Drawdown(20-10)Since21\",\"oo1MinSince21\",\"aoo1Since21\",\"aoo1Drawdown5Since21\",\"aoo1Drawdown10Since21\",\"aoo1Drawdown20Since21\",\"aoo1Drawdown(10-5)Since21\",\"aoo1Drawdown(20-10)Since21\",\"aoo1MinSince21\",\"oo10Since21\",\"oo10Drawdown5Since21\",\"oo10Drawdown10Since21\",\"oo10Drawdown20Since21\",\"oo10Drawdown(10-5)Since21\",\"oo10Drawdown(20-10)Since21\",\"oo10MinSince21\",\"aoo10Since21\",\"aoo10Drawdown5Since21\",\"aoo10Drawdown10Since21\",\"aoo10Drawdown20Since21\",\"aoo10Drawdown(10-5)Since21\",\"aoo10Drawdown(20-10)Since21\",\"aoo10MinSince21\",\"volatility20MaxSince21\",\"volatility20Drawdown20Since21\",\"volatility20MaxSince21{20}\",\"volatility20Drawup1Since21\",\"volatility20Drawup(20-10)Since21\",\"fracRecordedDaysSince125\",\"oo1Since125\",\"oo1Drawdown5Since125\",\"oo1Drawdown10Since125\",\"oo1Drawdown20Since125\",\"oo1Drawdown(10-5)Since125\",\"oo1Drawdown(20-10)Since125\",\"oo1MinSince125\",\"aoo1Since125\",\"aoo1Drawdown5Since125\",\"aoo1Drawdown10Since125\",\"aoo1Drawdown20Since125\",\"aoo1Drawdown(10-5)Since125\",\"aoo1Drawdown(20-10)Since125\",\"aoo1MinSince125\",\"oo10Since125\",\"oo10Drawdown5Since125\",\"oo10Drawdown10Since125\",\"oo10Drawdown20Since125\",\"oo10Drawdown(10-5)Since125\",\"oo10Drawdown(20-10)Since125\",\"oo10MinSince125\",\"aoo10Since125\",\"aoo10Drawdown5Since125\",\"aoo10Drawdown10Since125\",\"aoo10Drawdown20Since125\",\"aoo10Drawdown(10-5)Since125\",\"aoo10Drawdown(20-10)Since125\",\"aoo10MinSince125\",\"volatility20MaxSince125\",\"volatility20Drawdown20Since125\",\"volatility20MaxSince125{20}\",\"volatility20Drawup1Since125\",\"volatility20Drawup(20-10)Since125\",\"fracRecordedDaysSince250\",\"oo1Since250\",\"oo1Drawdown5Since250\",\"oo1Drawdown10Since250\",\"oo1Drawdown20Since250\",\"oo1Drawdown(10-5)Since250\",\"oo1Drawdown(20-10)Since250\",\"oo1MinSince250\",\"aoo1Since250\",\"aoo1Drawdown5Since250\",\"aoo1Drawdown10Since250\",\"aoo1Drawdown20Since250\",\"aoo1Drawdown(10-5)Since250\",\"aoo1Drawdown(20-10)Since250\",\"aoo1MinSince250\",\"oo10Since250\",\"oo10Drawdown5Since250\",\"oo10Drawdown10Since250\",\"oo10Drawdown20Since250\",\"oo10Drawdown(10-5)Since250\",\"oo10Drawdown(20-10)Since250\",\"oo10MinSince250\",\"aoo10Since250\",\"aoo10Drawdown5Since250\",\"aoo10Drawdown10Since250\",\"aoo10Drawdown20Since250\",\"aoo10Drawdown(10-5)Since250\",\"aoo10Drawdown(20-10)Since250\",\"aoo10MinSince250\",\"volatility20MaxSince250\",\"volatility20Drawdown20Since250\",\"volatility20MaxSince250{20}\",\"volatility20Drawup1Since250\",\"volatility20Drawup(20-10)Since250\",\"assetCode_inUniCount\"]\n",
      "        feats_ctor = '<TryIt>\\n    <>~Market & (\\n        <>Return{.&pure&~digit&~TEN} & ~Since & Return{.&\\n            <>(oo|aoo|doo|doc|daoc|vp1dd)\\n            & index[0,1,2]\\n          }\\n        | Return{.&pure&~index} & ~Since & Return{.&\\n            <>(oo|aoo|vp1dd)\\n            & [5:,10:,15:,10:5,15:10,20:15,15:5,20:10,20:5]\\n          }\\n        | (\\n            <>Return{(oo{.&[1:]}|aoo[1:]|oo{.&[10:]}|aoo[10:])}\\n            & (\\n                <> ~Drawdown&~Drawup&~Since{Min}&~Since{Max}\\n                | Drawdown[5:,10:,20:, 10:5,20:10]\\n                | Since{Min&index[0]}\\n              )\\n            & Since[21:,125:,250:]\\n          )\\n        | (\\n            <> Volatility[60:]\\n            | Volatility[20:]\\n            & (\\n                | Drawdown[20:]\\n                | Since{Max & index[0,20]}\\n                | Drawup[1:, 20:10]\\n              )\\n            & Since[21:,125:,250:]\\n          )\\n      )\\n    |\\n        <>Return{pure&~dd} & VP[10:,20:]\\n        | FracRec[21:,125:,250:]\\n    |\\n        <>AssetEnc{InUni}\\n    |\\n        Time{long | short}\\n    '\n",
      "        train_on = fullhouse\n",
      "        weight = 'flat_weight'\n",
      "        params = dict(learning_rate=0.05,max_depth=-1,num_leaves=4096,min_data_in_leaf=120,min_sum_hessian_in_leaf=100,lambda_l1=0,lambda_l2=0,num_iterations=446)\n",
      "    class aIKGCoverTenDraw(NamedO()):\n",
      "        features = [\"assetCodeId\",\"volume\",\"cc\",\"oo\",\"acc\",\"aoo\",\"oo5\",\"oo10\",\"oo15\",\"aoo5\",\"aoo10\",\"aoo15\",\"af\",\"it\",\"rr\",\"oo(10-5)\",\"oo(15-10)\",\"oo(20-15)\",\"oo(15-5)\",\"oo(20-10)\",\"oo(20-5)\",\"aoo(10-5)\",\"aoo(15-10)\",\"aoo(20-15)\",\"aoo(15-5)\",\"aoo(20-10)\",\"aoo(20-5)\",\"af{1}\",\"it{1}\",\"(it,af,it{1},aoo,acc){0/1}\",\"(it{1},af{1},it{2},aoo{1},acc{1}){0/1}\",\"(it,af,it{1},aoo,acc){0/2}\",\"(it{1},af{1},it{2},aoo{1},acc{1}){0/2}\",\"(it,af,it{1},aoo,acc){0/3}\",\"(it{1},af{1},it{2},aoo{1},acc{1}){0/3}\",\"(it,af,it{1},aoo,acc){0/4}\",\"(it{1},af{1},it{2},aoo{1},acc{1}){0/4}\",\"(it,af,it{1},aoo,acc){1/2}\",\"(it{1},af{1},it{2},aoo{1},acc{1}){1/2}\",\"(it,af,it{1},aoo,acc){1/3}\",\"(it{1},af{1},it{2},aoo{1},acc{1}){1/3}\",\"(it,af,it{1},aoo,acc){1/4}\",\"(it{1},af{1},it{2},aoo{1},acc{1}){1/4}\",\"(it,af,it{1},aoo,acc){2/3}\",\"(it{1},af{1},it{2},aoo{1},acc{1}){2/3}\",\"(it,af,it{1},aoo,acc){2/4}\",\"(it{1},af{1},it{2},aoo{1},acc{1}){2/4}\",\"oo1Since21\",\"oo1MaxSince21\",\"oo1Drawdown1Since21\",\"oo1Drawdown5Since21\",\"oo1Drawdown10Since21\",\"oo1MinSince21\",\"oo1MinSince21{10}\",\"aoo1Since21\",\"aoo1MaxSince21\",\"aoo1Drawdown1Since21\",\"aoo1Drawdown5Since21\",\"aoo1Drawdown10Since21\",\"aoo1MinSince21\",\"aoo1MinSince21{10}\",\"oo10Since21\",\"oo10MaxSince21\",\"oo10Drawdown1Since21\",\"oo10Drawdown5Since21\",\"oo10Drawdown10Since21\",\"oo10MinSince21\",\"oo10MinSince21{10}\",\"aoo10Since21\",\"aoo10MaxSince21\",\"aoo10Drawdown1Since21\",\"aoo10Drawdown5Since21\",\"aoo10Drawdown10Since21\",\"aoo10MinSince21\",\"aoo10MinSince21{10}\",\"oo1Since62\",\"oo1MaxSince62\",\"oo1Drawdown1Since62\",\"oo1Drawdown5Since62\",\"oo1Drawdown10Since62\",\"oo1MinSince62\",\"oo1MinSince62{10}\",\"aoo1Since62\",\"aoo1MaxSince62\",\"aoo1Drawdown1Since62\",\"aoo1Drawdown5Since62\",\"aoo1Drawdown10Since62\",\"aoo1MinSince62\",\"aoo1MinSince62{10}\",\"oo10Since62\",\"oo10MaxSince62\",\"oo10Drawdown1Since62\",\"oo10Drawdown5Since62\",\"oo10Drawdown10Since62\",\"oo10MinSince62\",\"oo10MinSince62{10}\",\"aoo10Since62\",\"aoo10MaxSince62\",\"aoo10Drawdown1Since62\",\"aoo10Drawdown5Since62\",\"aoo10Drawdown10Since62\",\"aoo10MinSince62\",\"aoo10MinSince62{10}\",\"oo1Since125\",\"oo1MaxSince125\",\"oo1Drawdown1Since125\",\"oo1Drawdown5Since125\",\"oo1Drawdown10Since125\",\"oo1MinSince125\",\"oo1MinSince125{10}\",\"aoo1Since125\",\"aoo1MaxSince125\",\"aoo1Drawdown1Since125\",\"aoo1Drawdown5Since125\",\"aoo1Drawdown10Since125\",\"aoo1MinSince125\",\"aoo1MinSince125{10}\",\"oo10Since125\",\"oo10MaxSince125\",\"oo10Drawdown1Since125\",\"oo10Drawdown5Since125\",\"oo10Drawdown10Since125\",\"oo10MinSince125\",\"oo10MinSince125{10}\",\"aoo10Since125\",\"aoo10MaxSince125\",\"aoo10Drawdown1Since125\",\"aoo10Drawdown5Since125\",\"aoo10Drawdown10Since125\",\"aoo10MinSince125\",\"aoo10MinSince125{10}\",\"oo1Since250\",\"oo1MaxSince250\",\"oo1Drawdown1Since250\",\"oo1Drawdown5Since250\",\"oo1Drawdown10Since250\",\"oo1MinSince250\",\"oo1MinSince250{10}\",\"aoo1Since250\",\"aoo1MaxSince250\",\"aoo1Drawdown1Since250\",\"aoo1Drawdown5Since250\",\"aoo1Drawdown10Since250\",\"aoo1MinSince250\",\"aoo1MinSince250{10}\",\"oo10Since250\",\"oo10MaxSince250\",\"oo10Drawdown1Since250\",\"oo10Drawdown5Since250\",\"oo10Drawdown10Since250\",\"oo10MinSince250\",\"oo10MinSince250{10}\",\"aoo10Since250\",\"aoo10MaxSince250\",\"aoo10Drawdown1Since250\",\"aoo10Drawdown5Since250\",\"aoo10Drawdown10Since250\",\"aoo10MinSince250\",\"aoo10MinSince250{10}\",\"assetCode_inUniCount\"]\n",
      "        feats_ctor = '<IKGCoverTenDraw>\\n    <>~Market & (\\n        <>Return{.&pure&~digit&~TEN} & ~Since & Return{.&\\n            <>(oo|cc|aoo|acc|daoc)\\n            & index[0]\\n          }\\n        | Return{.&pure&~index} & ~Since & Return{.&\\n            <>(oo|aoo)\\n            & [5:,10:,15:,10:5,15:10,20:15,15:5,20:10,20:5]\\n          }\\n        | (\\n            <>Return{(oo{.&[1:]}|aoo[1:]|oo{.&[10:]}|aoo[10:])}\\n            & (\\n                <> ~Drawdown&~Drawup&~Since{Min}&~Since{Max}\\n                | Drawdown[1:, 5:,10:]\\n                | Since{Max&index[0]}\\n                | Since{Min&index[0,10]}\\n              )\\n            & Since[21:,62:,125:,250:]\\n          )\\n      )\\n    |\\n        <>AssetEnc{InUni}\\n        | AssetEnc{Code}\\n    |\\n        <>FaceValue{Volume}\\n        | Return{mix[1,2,3,4,5,6,7,8,9,11,12,13,14,15,16,17,18,19]}\\n        | Return{rr|af|it}\\n    '\n",
      "        train_on = fullhouse\n",
      "        weight = 'flat_weight'\n",
      "        params = dict(learning_rate=0.05,max_depth=-1,num_leaves=4096,min_data_in_leaf=120,min_sum_hessian_in_leaf=100,lambda_l1=0,lambda_l2=0,num_iterations=400)\n"
     ]
    },
    {
     "name": "stdout",
     "output_type": "stream",
     "text": [
      "    class aIKGCoverThree(NamedO()):\n",
      "        features = [\"assetCodeId\",\"volume\",\"cc\",\"oo\",\"acc\",\"aoo\",\"oo15\",\"aoo15\",\"af\",\"it\",\"rr\",\"af{1}\",\"it{1}\",\"(it,af,it{1},aoo,acc){0/1}\",\"(it{1},af{1},it{2},aoo{1},acc{1}){0/1}\",\"(it,af,it{1},aoo,acc){0/2}\",\"(it{1},af{1},it{2},aoo{1},acc{1}){0/2}\",\"(it,af,it{1},aoo,acc){0/3}\",\"(it{1},af{1},it{2},aoo{1},acc{1}){0/3}\",\"(it,af,it{1},aoo,acc){0/4}\",\"(it{1},af{1},it{2},aoo{1},acc{1}){0/4}\",\"(it,af,it{1},aoo,acc){1/2}\",\"(it{1},af{1},it{2},aoo{1},acc{1}){1/2}\",\"(it,af,it{1},aoo,acc){1/3}\",\"(it{1},af{1},it{2},aoo{1},acc{1}){1/3}\",\"(it,af,it{1},aoo,acc){1/4}\",\"(it{1},af{1},it{2},aoo{1},acc{1}){1/4}\",\"(it,af,it{1},aoo,acc){2/3}\",\"(it{1},af{1},it{2},aoo{1},acc{1}){2/3}\",\"(it,af,it{1},aoo,acc){2/4}\",\"(it{1},af{1},it{2},aoo{1},acc{1}){2/4}\",\"oo1Since21\",\"oo1MaxSince21\",\"oo1Drawdown1Since21\",\"oo1Drawdown5Since21\",\"oo1Drawdown10Since21\",\"oo1MinSince21\",\"oo1MinSince21{10}\",\"aoo1Since21\",\"aoo1MaxSince21\",\"aoo1Drawdown1Since21\",\"aoo1Drawdown5Since21\",\"aoo1Drawdown10Since21\",\"aoo1MinSince21\",\"aoo1MinSince21{10}\",\"oo1Since62\",\"oo1MaxSince62\",\"oo1Drawdown1Since62\",\"oo1Drawdown5Since62\",\"oo1Drawdown10Since62\",\"oo1MinSince62\",\"oo1MinSince62{10}\",\"aoo1Since62\",\"aoo1MaxSince62\",\"aoo1Drawdown1Since62\",\"aoo1Drawdown5Since62\",\"aoo1Drawdown10Since62\",\"aoo1MinSince62\",\"aoo1MinSince62{10}\",\"oo1Since125\",\"oo1MaxSince125\",\"oo1Drawdown1Since125\",\"oo1Drawdown5Since125\",\"oo1Drawdown10Since125\",\"oo1MinSince125\",\"oo1MinSince125{10}\",\"aoo1Since125\",\"aoo1MaxSince125\",\"aoo1Drawdown1Since125\",\"aoo1Drawdown5Since125\",\"aoo1Drawdown10Since125\",\"aoo1MinSince125\",\"aoo1MinSince125{10}\",\"oo1Since250\",\"oo1MaxSince250\",\"oo1Drawdown1Since250\",\"oo1Drawdown5Since250\",\"oo1Drawdown10Since250\",\"oo1MinSince250\",\"oo1MinSince250{10}\",\"aoo1Since250\",\"aoo1MaxSince250\",\"aoo1Drawdown1Since250\",\"aoo1Drawdown5Since250\",\"aoo1Drawdown10Since250\",\"aoo1MinSince250\",\"aoo1MinSince250{10}\",\"assetCode_inUniCount\",\"oo3\",\"oo6\",\"oo9\",\"oo12\",\"oo18\",\"aoo3\",\"aoo6\",\"aoo9\",\"aoo12\",\"aoo18\"]\n",
      "        feats_ctor = '<IKGCoverThree>\\n    <>~Market & (\\n        <>Return{.&pure&~digit&~TEN} & ~Since & Return{.&\\n            <>(oo|cc|aoo|acc|daoc)\\n            & index[0]\\n          }\\n        | Return{.&pure&~index} & ~Since & Return{.&\\n            <>(oo|aoo)\\n            & [3:,6:,9:,12:,15:,18:,6:3,9:6,12:9,15:12,18:15,21:18,9:3,12:6,            15:9,18:12,21:15,12:3,15:6,18:9,21:12,15:3,18:6,21:9,18:3,21:6,21:3]\\n          }\\n        | (\\n            <>Return{(oo{.&[1:]}|aoo[1:])}\\n            & (\\n                <> ~Drawdown&~Drawup&~Since{Min}&~Since{Max}\\n                | Drawdown[1:, 5:,10:]\\n                | Since{Max&index[0]}\\n                | Since{Min&index[0,10]}\\n              )\\n            & Since[21:,62:,125:,250:]\\n          )\\n      )\\n    |\\n        <>AssetEnc{InUni}\\n        | AssetEnc{Code}\\n    |\\n        <>FaceValue{Volume}\\n        | Return{mix[1,2,3,4,5,6,7,8,9,11,12,13,14,15,16,17,18,19]}\\n        | Return{rr|af|it}\\n    '\n",
      "        train_on = fullhouse\n",
      "        weight = 'flat_weight'\n",
      "        params = dict(learning_rate=0.05,max_depth=-1,num_leaves=4096,min_data_in_leaf=120,min_sum_hessian_in_leaf=100,lambda_l1=0,lambda_l2=0,num_iterations=562)\n",
      "    class aIKGCoverThreeVP1(NamedO()):\n",
      "        features = [\"assetCodeId\",\"volume\",\"cc\",\"oo\",\"acc\",\"aoo\",\"oo15\",\"aoo15\",\"vp1dd15\",\"af\",\"it\",\"rr\",\"vp1dd\",\"af{1}\",\"it{1}\",\"(it,af,it{1},aoo,acc){0/1}\",\"(it{1},af{1},it{2},aoo{1},acc{1}){0/1}\",\"(it,af,it{1},aoo,acc){0/2}\",\"(it{1},af{1},it{2},aoo{1},acc{1}){0/2}\",\"(it,af,it{1},aoo,acc){0/3}\",\"(it{1},af{1},it{2},aoo{1},acc{1}){0/3}\",\"(it,af,it{1},aoo,acc){0/4}\",\"(it{1},af{1},it{2},aoo{1},acc{1}){0/4}\",\"(it,af,it{1},aoo,acc){1/2}\",\"(it{1},af{1},it{2},aoo{1},acc{1}){1/2}\",\"(it,af,it{1},aoo,acc){1/3}\",\"(it{1},af{1},it{2},aoo{1},acc{1}){1/3}\",\"(it,af,it{1},aoo,acc){1/4}\",\"(it{1},af{1},it{2},aoo{1},acc{1}){1/4}\",\"(it,af,it{1},aoo,acc){2/3}\",\"(it{1},af{1},it{2},aoo{1},acc{1}){2/3}\",\"(it,af,it{1},aoo,acc){2/4}\",\"(it{1},af{1},it{2},aoo{1},acc{1}){2/4}\",\"oo1Since21\",\"oo1MaxSince21\",\"oo1Drawdown1Since21\",\"oo1Drawdown5Since21\",\"oo1Drawdown10Since21\",\"oo1MinSince21\",\"oo1MinSince21{10}\",\"aoo1Since21\",\"aoo1MaxSince21\",\"aoo1Drawdown1Since21\",\"aoo1Drawdown5Since21\",\"aoo1Drawdown10Since21\",\"aoo1MinSince21\",\"aoo1MinSince21{10}\",\"vp1dd1Since21\",\"vp1dd1MaxSince21\",\"vp1dd1Drawdown1Since21\",\"vp1dd1Drawdown5Since21\",\"vp1dd1Drawdown10Since21\",\"vp1dd1MinSince21\",\"vp1dd1MinSince21{10}\",\"oo1Since62\",\"oo1MaxSince62\",\"oo1Drawdown1Since62\",\"oo1Drawdown5Since62\",\"oo1Drawdown10Since62\",\"oo1MinSince62\",\"oo1MinSince62{10}\",\"aoo1Since62\",\"aoo1MaxSince62\",\"aoo1Drawdown1Since62\",\"aoo1Drawdown5Since62\",\"aoo1Drawdown10Since62\",\"aoo1MinSince62\",\"aoo1MinSince62{10}\",\"vp1dd1Since62\",\"vp1dd1MaxSince62\",\"vp1dd1Drawdown1Since62\",\"vp1dd1Drawdown5Since62\",\"vp1dd1Drawdown10Since62\",\"vp1dd1MinSince62\",\"vp1dd1MinSince62{10}\",\"oo1Since125\",\"oo1MaxSince125\",\"oo1Drawdown1Since125\",\"oo1Drawdown5Since125\",\"oo1Drawdown10Since125\",\"oo1MinSince125\",\"oo1MinSince125{10}\",\"aoo1Since125\",\"aoo1MaxSince125\",\"aoo1Drawdown1Since125\",\"aoo1Drawdown5Since125\",\"aoo1Drawdown10Since125\",\"aoo1MinSince125\",\"aoo1MinSince125{10}\",\"vp1dd1Since125\",\"vp1dd1MaxSince125\",\"vp1dd1Drawdown1Since125\",\"vp1dd1Drawdown5Since125\",\"vp1dd1Drawdown10Since125\",\"vp1dd1MinSince125\",\"vp1dd1MinSince125{10}\",\"oo1Since250\",\"oo1MaxSince250\",\"oo1Drawdown1Since250\",\"oo1Drawdown5Since250\",\"oo1Drawdown10Since250\",\"oo1MinSince250\",\"oo1MinSince250{10}\",\"aoo1Since250\",\"aoo1MaxSince250\",\"aoo1Drawdown1Since250\",\"aoo1Drawdown5Since250\",\"aoo1Drawdown10Since250\",\"aoo1MinSince250\",\"aoo1MinSince250{10}\",\"vp1dd1Since250\",\"vp1dd1MaxSince250\",\"vp1dd1Drawdown1Since250\",\"vp1dd1Drawdown5Since250\",\"vp1dd1Drawdown10Since250\",\"vp1dd1MinSince250\",\"vp1dd1MinSince250{10}\",\"assetCode_inUniCount\",\"oo3\",\"oo6\",\"oo9\",\"oo12\",\"oo18\",\"aoo3\",\"aoo6\",\"aoo9\",\"aoo12\",\"aoo18\",\"vp1dd3\",\"vp1dd6\",\"vp1dd9\",\"vp1dd12\",\"vp1dd18\"]\n",
      "        feats_ctor = '<IKGCoverThreeVP1>\\n    <>~Market & (\\n        <>Return{.&pure&~digit&~TEN} & ~Since & Return{.&\\n            <>(oo|cc|aoo|acc|daoc|vp1dd)\\n            & index[0]\\n          }\\n        | Return{.&pure&~index} & ~Since & Return{.&\\n            <>(oo|aoo|vp1dd)\\n            & [3:,6:,9:,12:,15:,18:,6:3,9:6,12:9,15:12,18:15,21:18,9:3,12:6,            15:9,18:12,21:15,12:3,15:6,18:9,21:12,15:3,18:6,21:9,18:3,21:6,21:3]\\n          }\\n        | (\\n            <>Return{(oo{.&[1:]}|aoo[1:]|vp1dd)}\\n            & (\\n                <> ~Drawdown&~Drawup&~Since{Min}&~Since{Max}\\n                | Drawdown[1:, 5:,10:]\\n                | Since{Max&index[0]}\\n                | Since{Min&index[0,10]}\\n              )\\n            & Since[21:,62:,125:,250:]\\n          )\\n      )\\n    |\\n        <>AssetEnc{InUni}\\n        | AssetEnc{Code}\\n    |\\n        <>FaceValue{Volume}\\n        | Return{mix[1,2,3,4,5,6,7,8,9,11,12,13,14,15,16,17,18,19]}\\n        | Return{rr|af|it}\\n    '\n",
      "        train_on = fullhouse\n",
      "        weight = 'flat_weight'\n",
      "        params = dict(learning_rate=0.05,max_depth=-1,num_leaves=4096,min_data_in_leaf=120,min_sum_hessian_in_leaf=100,lambda_l1=0,lambda_l2=0,num_iterations=554)\n",
      "    class aIKGCoverThreeMoreShort(NamedO()):\n",
      "        features = [\"assetCodeId\",\"volume\",\"cc\",\"oo\",\"acc\",\"aoo\",\"oo15\",\"aoo15\",\"af\",\"it\",\"rr\",\"oo{0/1}\",\"oo{0/2}\",\"oo{1/2}\",\"oo{1}\",\"oo{2}\",\"(aoo-acc){0/1}\",\"(aoo-acc){0/2}\",\"(aoo-acc){1/2}\",\"(aoo-acc){1}\",\"(aoo-acc){2}\",\"af{1}\",\"it{1}\",\"(it,af,it{1},aoo,acc){0/1}\",\"(it{1},af{1},it{2},aoo{1},acc{1}){0/1}\",\"(it,af,it{1},aoo,acc){0/2}\",\"(it{1},af{1},it{2},aoo{1},acc{1}){0/2}\",\"(it,af,it{1},aoo,acc){0/3}\",\"(it{1},af{1},it{2},aoo{1},acc{1}){0/3}\",\"(it,af,it{1},aoo,acc){0/4}\",\"(it{1},af{1},it{2},aoo{1},acc{1}){0/4}\",\"(it,af,it{1},aoo,acc){1/2}\",\"(it{1},af{1},it{2},aoo{1},acc{1}){1/2}\",\"(it,af,it{1},aoo,acc){1/3}\",\"(it{1},af{1},it{2},aoo{1},acc{1}){1/3}\",\"(it,af,it{1},aoo,acc){1/4}\",\"(it{1},af{1},it{2},aoo{1},acc{1}){1/4}\",\"(it,af,it{1},aoo,acc){2/3}\",\"(it{1},af{1},it{2},aoo{1},acc{1}){2/3}\",\"(it,af,it{1},aoo,acc){2/4}\",\"(it{1},af{1},it{2},aoo{1},acc{1}){2/4}\",\"oo1Since21\",\"oo1MaxSince21\",\"oo1Drawdown1Since21\",\"oo1Drawdown5Since21\",\"oo1Drawdown10Since21\",\"oo1MinSince21\",\"oo1MinSince21{10}\",\"aoo1Since21\",\"aoo1MaxSince21\",\"aoo1Drawdown1Since21\",\"aoo1Drawdown5Since21\",\"aoo1Drawdown10Since21\",\"aoo1MinSince21\",\"aoo1MinSince21{10}\",\"oo1Since62\",\"oo1MaxSince62\",\"oo1Drawdown1Since62\",\"oo1Drawdown5Since62\",\"oo1Drawdown10Since62\",\"oo1MinSince62\",\"oo1MinSince62{10}\",\"aoo1Since62\",\"aoo1MaxSince62\",\"aoo1Drawdown1Since62\",\"aoo1Drawdown5Since62\",\"aoo1Drawdown10Since62\",\"aoo1MinSince62\",\"aoo1MinSince62{10}\",\"oo1Since125\",\"oo1MaxSince125\",\"oo1Drawdown1Since125\",\"oo1Drawdown5Since125\",\"oo1Drawdown10Since125\",\"oo1MinSince125\",\"oo1MinSince125{10}\",\"aoo1Since125\",\"aoo1MaxSince125\",\"aoo1Drawdown1Since125\",\"aoo1Drawdown5Since125\",\"aoo1Drawdown10Since125\",\"aoo1MinSince125\",\"aoo1MinSince125{10}\",\"oo1Since250\",\"oo1MaxSince250\",\"oo1Drawdown1Since250\",\"oo1Drawdown5Since250\",\"oo1Drawdown10Since250\",\"oo1MinSince250\",\"oo1MinSince250{10}\",\"aoo1Since250\",\"aoo1MaxSince250\",\"aoo1Drawdown1Since250\",\"aoo1Drawdown5Since250\",\"aoo1Drawdown10Since250\",\"aoo1MinSince250\",\"aoo1MinSince250{10}\",\"assetCode_inUniCount\",\"oo3\",\"oo6\",\"oo9\",\"oo12\",\"oo18\",\"aoo3\",\"aoo6\",\"aoo9\",\"aoo12\",\"aoo18\"]\n",
      "        feats_ctor = '<IKGCoverThreeMoreShort>\\n    <>~Market & (\\n        <>Return{.&pure&~digit&~TEN} & ~Since & Return{.&\\n            <>(oo|cc|aoo|acc|daoc)\\n            & index[0,1,2,0:1,1:2,0:2]\\n          }\\n        | Return{.&pure&~index} & ~Since & Return{.&\\n            <>(oo|aoo)\\n            & [3:,6:,9:,12:,15:,18:,6:3,9:6,12:9,15:12,18:15,21:18,9:3,12:6,            15:9,18:12,21:15,12:3,15:6,18:9,21:12,15:3,18:6,21:9,18:3,21:6,21:3]\\n          }\\n        | (\\n            <>Return{(oo{.&[1:]}|aoo[1:])}\\n            & (\\n                <> ~Drawdown&~Drawup&~Since{Min}&~Since{Max}\\n                | Drawdown[1:, 5:,10:]\\n                | Since{Max&index[0]}\\n                | Since{Min&index[0,10]}\\n              )\\n            & Since[21:,62:,125:,250:]\\n          )\\n      )\\n    |\\n        <>AssetEnc{InUni}\\n        | AssetEnc{Code}\\n    |\\n        <>FaceValue{Volume}\\n        | Return{mix[1,2,3,4,5,6,7,8,9,11,12,13,14,15,16,17,18,19]}\\n        | Return{rr|af|it}\\n    '\n",
      "        train_on = fullhouse\n",
      "        weight = 'flat_weight'\n",
      "        params = dict(learning_rate=0.05,max_depth=-1,num_leaves=4096,min_data_in_leaf=120,min_sum_hessian_in_leaf=100,lambda_l1=0,lambda_l2=0,num_iterations=594)\n"
     ]
    },
    {
     "name": "stdout",
     "output_type": "stream",
     "text": [
      "    class ms20(NamedO()):\n",
      "        features = [\"dayOfYear\",\"oo15\",\"aoo15\",\"vp1dd15\",\"volatility60\",\"vp60\",\"fracRecordedDaysSince21\",\"oo10MaxSince21\",\"oo10Drawdown5Since21\",\"oo10Drawdown10Since21\",\"oo10Drawdown20Since21\",\"oo10MaxSince21{5}\",\"oo10MinSince21\",\"oo10MinSince21{5}\",\"(oo-aoo)10MaxSince21\",\"(oo-aoo)10Drawdown5Since21\",\"(oo-aoo)10Drawdown10Since21\",\"(oo-aoo)10Drawdown20Since21\",\"(oo-aoo)10MaxSince21{5}\",\"(oo-aoo)10MinSince21\",\"(oo-aoo)10MinSince21{5}\",\"oo10MaxSince62\",\"oo10Drawdown5Since62\",\"oo10Drawdown10Since62\",\"oo10Drawdown20Since62\",\"oo10MaxSince62{5}\",\"oo10MinSince62\",\"oo10MinSince62{5}\",\"(oo-aoo)10MaxSince62\",\"(oo-aoo)10Drawdown5Since62\",\"(oo-aoo)10Drawdown10Since62\",\"(oo-aoo)10Drawdown20Since62\",\"(oo-aoo)10MaxSince62{5}\",\"(oo-aoo)10MinSince62\",\"(oo-aoo)10MinSince62{5}\",\"oo10MaxSince250\",\"oo10Drawdown5Since250\",\"oo10Drawdown10Since250\",\"oo10Drawdown20Since250\",\"oo10MaxSince250{5}\",\"oo10MinSince250\",\"oo10MinSince250{5}\",\"(oo-aoo)10MaxSince250\",\"(oo-aoo)10Drawdown5Since250\",\"(oo-aoo)10Drawdown10Since250\",\"(oo-aoo)10Drawdown20Since250\",\"(oo-aoo)10MaxSince250{5}\",\"(oo-aoo)10MinSince250\",\"(oo-aoo)10MinSince250{5}\",\"volatility10MaxSince250\",\"volatility10MaxSince250{5}\",\"volatility10MinSince250{10}\",\"volatility20MaxSince250\",\"volatility20MaxSince250{5}\",\"volatility20MinSince250{10}\"]\n",
      "        feats_ctor = '<s20>    <>~Market & (\\n        | Return{.&pure&~index} & ~Since & Return{.&\\n            <>(oo|aoo|vp1dd|Volatility)\\n            & [15:,6:3,9:6,12:9,12:6,18:12,18:9,21:12,18:6,21:9,18:3,21:6,21:3]\\n          }\\n        | (\\n            <>Return{(oo{.&[10:]}|doo[10:])}\\n            & (\\n                | Drawdown[ 5:,10:,20:]\\n                | Since{Max&index[0,5]}\\n                | Since{Min&index[0,5]}\\n              )\\n            & Since[21:, 62:, 250:]\\n          )\\n        | (\\n            <> Volatility[ 60:]\\n            | Volatility[10:, 20:]\\n            & (\\n                | Since{Max & index[0,5]}\\n                | Since{Min & index[10]}\\n              )\\n            & Since[ 250:]\\n          )\\n      )\\n    |\\n        <>Return{pure&~dd} & VP[60:]\\n        | FracRec[21:]\\n    |\\n        Time{long}'\n",
      "        train_on = fullhouse\n",
      "        weight = 'vp10_weight'\n",
      "        params = dict(learning_rate=0.05,max_depth=-1,num_leaves=4096,min_data_in_leaf=120,min_sum_hessian_in_leaf=100,lambda_l1=0,lambda_l2=0,num_iterations=115)\n",
      "    class ms21(NamedO()):\n",
      "        features = [\"(oo-aoo)5\",\"(oo-aoo)15\",\"(oo-aoo)(10-5)\",\"(oo-aoo)(15-10)\",\"(oo-aoo)(20-15)\",\"(oo-aoo)(15-5)\",\"(oo-aoo)(20-5)\",\"vp1dd{0/1}\",\"vp1dd\",\"vp1dd{2}\",\"fracRecordedDaysSince21\",\"oo1Since21\",\"oo1MaxSince21\",\"oo1Drawdown1Since21\",\"oo1Drawdown10Since21\",\"oo1Drawdown20Since21\",\"oo1MaxSince21{10}\",\"oo1MinSince21\",\"oo1MinSince21{20}\",\"aoo1Since21\",\"aoo1MaxSince21\",\"aoo1Drawdown1Since21\",\"aoo1Drawdown10Since21\",\"aoo1Drawdown20Since21\",\"aoo1MaxSince21{10}\",\"aoo1MinSince21\",\"aoo1MinSince21{20}\",\"oo10Since21\",\"oo10MaxSince21\",\"oo10Drawdown1Since21\",\"oo10Drawdown10Since21\",\"oo10Drawdown20Since21\",\"oo10MaxSince21{10}\",\"oo10MinSince21\",\"oo10MinSince21{20}\",\"fracRecordedDaysSince125\",\"oo1Since125\",\"oo1MaxSince125\",\"oo1Drawdown1Since125\",\"oo1Drawdown10Since125\",\"oo1Drawdown20Since125\",\"oo1MaxSince125{10}\",\"oo1MinSince125\",\"oo1MinSince125{20}\",\"aoo1Since125\",\"aoo1MaxSince125\",\"aoo1Drawdown1Since125\",\"aoo1Drawdown10Since125\",\"aoo1Drawdown20Since125\",\"aoo1MaxSince125{10}\",\"aoo1MinSince125\",\"aoo1MinSince125{20}\",\"oo10Since125\",\"oo10MaxSince125\",\"oo10Drawdown1Since125\",\"oo10Drawdown10Since125\",\"oo10Drawdown20Since125\",\"oo10MaxSince125{10}\",\"oo10MinSince125\",\"oo10MinSince125{20}\",\"fracRecordedDaysSince250\",\"oo1Since250\",\"oo1MaxSince250\",\"oo1Drawdown1Since250\",\"oo1Drawdown10Since250\",\"oo1Drawdown20Since250\",\"oo1MaxSince250{10}\",\"oo1MinSince250\",\"oo1MinSince250{20}\",\"aoo1Since250\",\"aoo1MaxSince250\",\"aoo1Drawdown1Since250\",\"aoo1Drawdown10Since250\",\"aoo1Drawdown20Since250\",\"aoo1MaxSince250{10}\",\"aoo1MinSince250\",\"aoo1MinSince250{20}\",\"oo10Since250\",\"oo10MaxSince250\",\"oo10Drawdown1Since250\",\"oo10Drawdown10Since250\",\"oo10Drawdown20Since250\",\"oo10MaxSince250{10}\",\"oo10MinSince250\",\"oo10MinSince250{20}\",\"m_oo20\",\"m_volatility20\",\"m_oo60\",\"m_volatility60\"]\n",
      "        feats_ctor = '<s21>    <>~Market & (\\n        <>Return{.&pure&~digit&~TEN} & ~Since & Return{.&\\n            <>(vp1dd)\\n            & index[0,2, 0:1]\\n          }\\n        | Return{.&pure&~index} & ~Since & Return{.&\\n            <>(doo|vp5dd|Volatility)\\n            & [5:,15:,10:5,15:10,20:15,15:5,20:5]\\n          }\\n        | (\\n            <>Return{(oo{.&[1:]}|aoo[1:]|oo{.&[10:]})}\\n            & (\\n                <> ~Drawdown&~Drawup&~Since{Min}&~Since{Max}\\n                | Drawdown[1:,10:,20:]\\n                | Since{Max&index[0,10]}\\n                | Since{Min&index[0,20]}\\n              )\\n            & Since[21:, 125:, 250:]\\n          )\\n      )\\n    | Market{.&\\n        <>(~Weight)\\n        & (Return| Volatility)\\n        & [20:,60:]\\n      }\\n    |\\n        | FracRec[21:,125:,250:]\\n    |'\n",
      "        train_on = fullhouse\n",
      "        weight = 'vp10_weight'\n",
      "        params = dict(learning_rate=0.05,max_depth=-1,num_leaves=4096,min_data_in_leaf=120,min_sum_hessian_in_leaf=100,lambda_l1=0,lambda_l2=0,num_iterations=138)\n",
      "    class ms22(NamedO()):\n",
      "        features = [\"dayOfYear\",\"dayOfWeek\",\"oo10\",\"aoo10\",\"(oo-aoo)10\",\"vp1dd10\",\"oo(10-5)\",\"oo(15-10)\",\"oo(15-5)\",\"oo(20-5)\",\"aoo(10-5)\",\"aoo(15-10)\",\"aoo(15-5)\",\"aoo(20-5)\",\"(oo-aoo)(10-5)\",\"(oo-aoo)(15-10)\",\"(oo-aoo)(15-5)\",\"(oo-aoo)(20-5)\",\"vp1dd(10-5)\",\"vp1dd(15-10)\",\"vp1dd(15-5)\",\"vp1dd(20-5)\",\"oo1Drawdown10Since21\",\"oo1Drawdown(20-10)Since21\",\"oo1MaxSince21{20}\",\"oo1MinSince21{20}\",\"vp5dd1MaxSince21\",\"vp5dd1Drawdown1Since21\",\"vp5dd1MinSince21\",\"vp10dd1MaxSince21\",\"vp10dd1Drawdown1Since21\",\"vp10dd1MinSince21\",\"oo1Drawdown10Since250\",\"oo1Drawdown(20-10)Since250\",\"oo1MaxSince250{20}\",\"oo1MinSince250{20}\",\"vp5dd1MaxSince250\",\"vp5dd1Drawdown1Since250\",\"vp5dd1MinSince250\",\"vp10dd1MaxSince250\",\"vp10dd1Drawdown1Since250\",\"vp10dd1MinSince250\"]\n",
      "        feats_ctor = '<s22>    <>~Market & (\\n        | Return{.&pure&~index} & ~Since & Return{.&\\n            <>(oo|aoo|doo|vp1dd|vp5dd)\\n            & [10:,10:5,15:10,15:5,20:5]\\n          }\\n        | (\\n            <>Return{(oo{.&[1:]})}\\n            & (\\n                | Drawdown[10:,20:10]\\n                | Since{Max&index[20]}\\n                | Since{Min&index[20]}\\n              )\\n            & Since[21:, 250:]\\n          )\\n        | (\\n            <>Return{dd} & VP[ 5:, 10:]\\n            & (\\n                | Drawdown[1:]\\n                | Since{Max & index[0]}\\n                | Since{Min & index[0]}\\n              )\\n            & Since[21:, 250:]\\n          )\\n      )\\n    |\\n        Time{long| short}'\n",
      "        train_on = fullhouse\n",
      "        weight = 'vp10_weight'\n",
      "        params = dict(learning_rate=0.05,max_depth=-1,num_leaves=4096,min_data_in_leaf=120,min_sum_hessian_in_leaf=100,lambda_l1=0,lambda_l2=0,num_iterations=194)\n",
      "    class ms00(NamedO()):\n",
      "        features = [\"cc\",\"oo\",\"acc\",\"aoo\",\"vp10\",\"oo5\",\"oo10\",\"oo15\",\"aoo5\",\"aoo10\",\"aoo15\",\"vp1dd5\",\"vp1dd10\",\"vp1dd15\",\"volatility60\",\"oo(15-10)\",\"oo(20-15)\",\"oo(15-5)\",\"oo(20-10)\",\"aoo(15-10)\",\"aoo(20-15)\",\"aoo(15-5)\",\"aoo(20-10)\",\"vp1dd(15-10)\",\"vp1dd(20-15)\",\"vp1dd(15-5)\",\"vp1dd(20-10)\",\"oo{0/1}\",\"oo{0/2}\",\"oo{1}\",\"oo{2}\",\"(oo-aoo){0/1}\",\"(oo-aoo){0/2}\",\"(oo-aoo){1}\",\"(oo-aoo){2}\",\"vp1dd{0/1}\",\"vp1dd{0/2}\",\"vp1dd\",\"vp1dd{1}\",\"vp1dd{2}\",\"oo1Drawdown10Since62\",\"oo1Drawdown20Since62\",\"oo1MaxSince62{10}\",\"oo1MaxSince62{20}\",\"oo1MinSince62\",\"oo1Drawup1Since62\",\"oo1MinSince62{5}\",\"volatility20MaxSince62\",\"volatility20MaxSince62{5}\",\"volatility20Drawup(10-5)Since62\",\"volatility20Drawup(20-10)Since62\",\"volatility20MinSince62{20}\",\"oo1Drawdown10Since250\",\"oo1Drawdown20Since250\",\"oo1MaxSince250{10}\",\"oo1MaxSince250{20}\",\"oo1MinSince250\",\"oo1Drawup1Since250\",\"oo1MinSince250{5}\",\"volatility20MaxSince250\",\"volatility20MaxSince250{5}\",\"volatility20Drawup(10-5)Since250\",\"volatility20Drawup(20-10)Since250\",\"volatility20MinSince250{20}\"]\n",
      "        feats_ctor = '<s00>    <>~Market & (\\n        <>Return{.&pure&~digit&~TEN} & ~Since & Return{.&\\n            <>(oo|cc|aoo|acc|doo|vp1dd)\\n            & index[0,1,2, 0:1,0:2]\\n          }\\n        | Return{.&pure&~index} & ~Since & Return{.&\\n            <>(oo|aoo|vp1dd)\\n            & [5:,10:,15:,15:10,20:15,15:5,20:10]\\n          }\\n        | (\\n            <>Return{(oo{.&[1:]})}\\n            & (\\n                | Drawdown[10:,20:]\\n                | Since{Max&index[10,20]}\\n                | Drawup[1:]\\n                | Since{Min&index[0,5]}\\n              )\\n            & Since[ 62:, 250:]\\n          )\\n        | (\\n            <> Volatility[ 60:]\\n            | Volatility[ 20:]\\n            & (\\n                | Since{Max & index[0,5]}\\n                | Drawup[ 10:5,20:10]\\n                | Since{Min & index[20]}\\n              )\\n            & Since[ 62:, 250:]\\n          )\\n      )\\n    |\\n        <>Return{pure&~dd} & VP[10:]\\n    |'\n",
      "        train_on = fullhouse\n",
      "        weight = 'vp10_weight'\n",
      "        params = dict(learning_rate=0.05,max_depth=-1,num_leaves=4096,min_data_in_leaf=120,min_sum_hessian_in_leaf=100,lambda_l1=0,lambda_l2=0,num_iterations=592)\n"
     ]
    },
    {
     "name": "stdout",
     "output_type": "stream",
     "text": [
      "    class ms10(NamedO()):\n",
      "        features = [\"cc\",\"oo\",\"dayOfYear\",\"dayOfWeek\",\"volatility60\",\"oo{0/1}\",\"oo{1/2}\",\"oo{1}\",\"oo{2}\",\"(cc-acc){0/1}\",\"(cc-acc){1/2}\",\"(cc-acc){1}\",\"(cc-acc){2}\",\"oo1Since21\",\"oo1MaxSince21\",\"oo1Drawdown1Since21\",\"oo1Drawdown5Since21\",\"oo1Drawdown10Since21\",\"oo1Drawdown(10-5)Since21\",\"oo1MinSince21\",\"oo1MinSince21{5}\",\"oo10Since21\",\"oo10MaxSince21\",\"oo10Drawdown1Since21\",\"oo10Drawdown5Since21\",\"oo10Drawdown10Since21\",\"oo10Drawdown(10-5)Since21\",\"oo10MinSince21\",\"oo10MinSince21{5}\",\"(oo-aoo)10Since21\",\"(oo-aoo)10MaxSince21\",\"(oo-aoo)10Drawdown1Since21\",\"(oo-aoo)10Drawdown5Since21\",\"(oo-aoo)10Drawdown10Since21\",\"(oo-aoo)10Drawdown(10-5)Since21\",\"(oo-aoo)10MinSince21\",\"(oo-aoo)10MinSince21{5}\",\"vp1dd1Since21\",\"vp1dd1MaxSince21{5}\",\"vp1dd1Drawup(20-10)Since21\",\"vp1dd1MinSince21{20}\",\"vp5dd1Since21\",\"vp5dd1MaxSince21{5}\",\"vp5dd1Drawup(20-10)Since21\",\"vp5dd1MinSince21{20}\",\"vp10dd1Since21\",\"vp10dd1MaxSince21{5}\",\"vp10dd1Drawup(20-10)Since21\",\"vp10dd1MinSince21{20}\",\"volatility10MaxSince21{20}\",\"volatility10MinSince21{20}\",\"oo1Since125\",\"oo1MaxSince125\",\"oo1Drawdown1Since125\",\"oo1Drawdown5Since125\",\"oo1Drawdown10Since125\",\"oo1Drawdown(10-5)Since125\",\"oo1MinSince125\",\"oo1MinSince125{5}\",\"oo10Since125\",\"oo10MaxSince125\",\"oo10Drawdown1Since125\",\"oo10Drawdown5Since125\",\"oo10Drawdown10Since125\",\"oo10Drawdown(10-5)Since125\",\"oo10MinSince125\",\"oo10MinSince125{5}\",\"(oo-aoo)10Since125\",\"(oo-aoo)10MaxSince125\",\"(oo-aoo)10Drawdown1Since125\",\"(oo-aoo)10Drawdown5Since125\",\"(oo-aoo)10Drawdown10Since125\",\"(oo-aoo)10Drawdown(10-5)Since125\",\"(oo-aoo)10MinSince125\",\"(oo-aoo)10MinSince125{5}\",\"vp1dd1Since125\",\"vp1dd1MaxSince125{5}\",\"vp1dd1Drawup(20-10)Since125\",\"vp1dd1MinSince125{20}\",\"vp5dd1Since125\",\"vp5dd1MaxSince125{5}\",\"vp5dd1Drawup(20-10)Since125\",\"vp5dd1MinSince125{20}\",\"vp10dd1Since125\",\"vp10dd1MaxSince125{5}\",\"vp10dd1Drawup(20-10)Since125\",\"vp10dd1MinSince125{20}\",\"volatility10MaxSince125{20}\",\"volatility10MinSince125{20}\",\"oo1Since250\",\"oo1MaxSince250\",\"oo1Drawdown1Since250\",\"oo1Drawdown5Since250\",\"oo1Drawdown10Since250\",\"oo1Drawdown(10-5)Since250\",\"oo1MinSince250\",\"oo1MinSince250{5}\",\"oo10Since250\",\"oo10MaxSince250\",\"oo10Drawdown1Since250\",\"oo10Drawdown5Since250\",\"oo10Drawdown10Since250\",\"oo10Drawdown(10-5)Since250\",\"oo10MinSince250\",\"oo10MinSince250{5}\",\"(oo-aoo)10Since250\",\"(oo-aoo)10MaxSince250\",\"(oo-aoo)10Drawdown1Since250\",\"(oo-aoo)10Drawdown5Since250\",\"(oo-aoo)10Drawdown10Since250\",\"(oo-aoo)10Drawdown(10-5)Since250\",\"(oo-aoo)10MinSince250\",\"(oo-aoo)10MinSince250{5}\",\"vp1dd1Since250\",\"vp1dd1MaxSince250{5}\",\"vp1dd1Drawup(20-10)Since250\",\"vp1dd1MinSince250{20}\",\"vp5dd1Since250\",\"vp5dd1MaxSince250{5}\",\"vp5dd1Drawup(20-10)Since250\",\"vp5dd1MinSince250{20}\",\"vp10dd1Since250\",\"vp10dd1MaxSince250{5}\",\"vp10dd1Drawup(20-10)Since250\",\"vp10dd1MinSince250{20}\",\"volatility10MaxSince250{20}\",\"volatility10MinSince250{20}\"]\n",
      "        feats_ctor = '<s10>    <>~Market & (\\n        <>Return{.&pure&~digit&~TEN} & ~Since & Return{.&\\n            <>(oo|cc|dcc)\\n            & index[0,1,2, 0:1,1:2]\\n          }\\n        | (\\n            <>Return{(oo{.&[1:]}|oo{.&[10:]}|doo[10:])}\\n            & (\\n                <> ~Drawdown&~Drawup&~Since{Min}&~Since{Max}\\n                | Drawdown[1:, 5:,10:, 10:5]\\n                | Since{Max&index[0]}\\n                | Since{Min&index[0,5]}\\n              )\\n            & Since[21:, 125:, 250:]\\n          )\\n        | (\\n            <>Return{dd} & VP[1:, 5:, 10:]\\n            & (\\n                <> ~Drawdown&~Drawup&~Since{Min}&~Since{Max}\\n                | Since{Max & index[5]}\\n                | Drawup[20:10]\\n                | Since{Min & index[20]}\\n              )\\n            & Since[21:, 125:, 250:]\\n          )\\n        | (\\n            <> Volatility[ 60:]\\n            | Volatility[10:]\\n            & (\\n                | Since{Max & index[20]}\\n                | Since{Min & index[20]}\\n              )\\n            & Since[21:, 125:, 250:]\\n          )\\n      )\\n    |\\n        Time{long| short}'\n",
      "        train_on = fullhouse\n",
      "        weight = 'vp10_weight'\n",
      "        params = dict(learning_rate=0.05,max_depth=-1,num_leaves=4096,min_data_in_leaf=120,min_sum_hessian_in_leaf=100,lambda_l1=0,lambda_l2=0,num_iterations=265)\n",
      "    class ms11(NamedO()):\n",
      "        features = [\"close\",\"cc\",\"oo\",\"acc\",\"aoo10\",\"(oo-aoo)10\",\"vp1dd10\",\"rr\",\"aoo(10-5)\",\"aoo(15-5)\",\"aoo(20-5)\",\"(oo-aoo)(10-5)\",\"(oo-aoo)(15-5)\",\"(oo-aoo)(20-5)\",\"vp1dd(10-5)\",\"vp1dd(15-5)\",\"vp1dd(20-5)\",\"oo{1}\",\"(oo-aoo){1}\",\"(cc-acc){1}\",\"(aoo-acc){1}\",\"(it,af,it{1},aoo,acc){0/1}\",\"(it{1},af{1},it{2},aoo{1},acc{1}){0/1}\",\"(it,af,it{1},aoo,acc){0/2}\",\"(it{1},af{1},it{2},aoo{1},acc{1}){0/2}\",\"(it{1},af{1},it{2},aoo{1},acc{1}){0/3}\",\"(it,af,it{1},aoo,acc){0/4}\",\"(it{1},af{1},it{2},aoo{1},acc{1}){1/2}\",\"(it,af,it{1},aoo,acc){1/3}\",\"(it,af,it{1},aoo,acc){1/4}\",\"(it{1},af{1},it{2},aoo{1},acc{1}){1/4}\",\"(it,af,it{1},aoo,acc){2/3}\",\"(it,af,it{1},aoo,acc){2/4}\",\"(it{1},af{1},it{2},aoo{1},acc{1}){2/4}\",\"oo1Drawdown1Since21\",\"oo1Drawdown10Since21\",\"oo1Drawdown(10-5)Since21\",\"oo1Drawdown(20-10)Since21\",\"oo1MaxSince21{10}\",\"oo1MinSince21\",\"oo1Drawup(20-10)Since21\",\"oo10Drawdown1Since21\",\"oo10Drawdown10Since21\",\"oo10Drawdown(10-5)Since21\",\"oo10Drawdown(20-10)Since21\",\"oo10MaxSince21{10}\",\"oo10MinSince21\",\"oo10Drawup(20-10)Since21\",\"vp1dd1Since21\",\"vp1dd1MaxSince21\",\"vp1dd1MinSince21\",\"vp10dd1Since21\",\"vp10dd1MaxSince21\",\"vp10dd1MinSince21\",\"oo1Drawdown1Since62\",\"oo1Drawdown10Since62\",\"oo1Drawdown(10-5)Since62\",\"oo1Drawdown(20-10)Since62\",\"oo1MaxSince62{10}\",\"oo1MinSince62\",\"oo1Drawup(20-10)Since62\",\"oo10Drawdown1Since62\",\"oo10Drawdown10Since62\",\"oo10Drawdown(10-5)Since62\",\"oo10Drawdown(20-10)Since62\",\"oo10MaxSince62{10}\",\"oo10MinSince62\",\"oo10Drawup(20-10)Since62\",\"vp1dd1Since62\",\"vp1dd1MaxSince62\",\"vp1dd1MinSince62\",\"vp10dd1Since62\",\"vp10dd1MaxSince62\",\"vp10dd1MinSince62\",\"oo1Drawdown1Since125\",\"oo1Drawdown10Since125\",\"oo1Drawdown(10-5)Since125\",\"oo1Drawdown(20-10)Since125\",\"oo1MaxSince125{10}\",\"oo1MinSince125\",\"oo1Drawup(20-10)Since125\",\"oo10Drawdown1Since125\",\"oo10Drawdown10Since125\",\"oo10Drawdown(10-5)Since125\",\"oo10Drawdown(20-10)Since125\",\"oo10MaxSince125{10}\",\"oo10MinSince125\",\"oo10Drawup(20-10)Since125\",\"vp1dd1Since125\",\"vp1dd1MaxSince125\",\"vp1dd1MinSince125\",\"vp10dd1Since125\",\"vp10dd1MaxSince125\",\"vp10dd1MinSince125\",\"oo1Drawdown1Since250\",\"oo1Drawdown10Since250\",\"oo1Drawdown(10-5)Since250\",\"oo1Drawdown(20-10)Since250\",\"oo1MaxSince250{10}\",\"oo1MinSince250\",\"oo1Drawup(20-10)Since250\",\"oo10Drawdown1Since250\",\"oo10Drawdown10Since250\",\"oo10Drawdown(10-5)Since250\",\"oo10Drawdown(20-10)Since250\",\"oo10MaxSince250{10}\",\"oo10MinSince250\",\"oo10Drawup(20-10)Since250\",\"vp1dd1Since250\",\"vp1dd1MaxSince250\",\"vp1dd1MinSince250\",\"vp10dd1Since250\",\"vp10dd1MaxSince250\",\"vp10dd1MinSince250\"]\n",
      "        feats_ctor = '<s11>    <>~Market & (\\n        <>Return{.&pure&~digit&~TEN} & ~Since & Return{.&\\n            <>(oo|cc|acc|doo|dcc|daoc)\\n            & index[0,1]\\n          }\\n        | Return{.&pure&~index} & ~Since & Return{.&\\n            <>(aoo|doo|vp1dd|vp5dd|Volatility)\\n            & [10:,10:5,15:5,20:5]\\n          }\\n        | (\\n            <>Return{(oo{.&[1:]}|oo{.&[10:]})}\\n            & (\\n                | Drawdown[1:,10:, 10:5,20:10]\\n                | Since{Max&index[10]}\\n                | Drawup[20:10]\\n                | Since{Min&index[0]}\\n              )\\n            & Since[21:, 62:, 125:, 250:]\\n          )\\n        | (\\n            <>Return{dd} & VP[1:, 10:]\\n            & (\\n                <> ~Drawdown&~Drawup&~Since{Min}&~Since{Max}\\n                | Since{Max & index[0]}\\n                | Since{Min & index[0]}\\n              )\\n            & Since[21:, 62:, 125:, 250:]\\n          )\\n      )\\n    |\\n        <>FaceValue{ Close}\\n        | Return{mix[1,3,5,6,7,8,9,11,12,13,14,18,19]}\\n        | Return{rr}'\n",
      "        train_on = fullhouse\n",
      "        weight = 'vp10_weight'\n",
      "        params = dict(learning_rate=0.05,max_depth=-1,num_leaves=4096,min_data_in_leaf=120,min_sum_hessian_in_leaf=100,lambda_l1=0,lambda_l2=0,num_iterations=599)\n",
      "    class mIKGCover(NamedO()):\n",
      "        features = [\"assetCodeId\",\"volume\",\"cc\",\"oo\",\"acc\",\"aoo\",\"oo5\",\"oo10\",\"oo15\",\"aoo5\",\"aoo10\",\"aoo15\",\"af\",\"it\",\"rr\",\"oo(10-5)\",\"oo(15-10)\",\"oo(20-15)\",\"oo(15-5)\",\"oo(20-10)\",\"oo(20-5)\",\"aoo(10-5)\",\"aoo(15-10)\",\"aoo(20-15)\",\"aoo(15-5)\",\"aoo(20-10)\",\"aoo(20-5)\",\"af{1}\",\"it{1}\",\"(it,af,it{1},aoo,acc){0/1}\",\"(it{1},af{1},it{2},aoo{1},acc{1}){0/1}\",\"(it,af,it{1},aoo,acc){0/2}\",\"(it{1},af{1},it{2},aoo{1},acc{1}){0/2}\",\"(it,af,it{1},aoo,acc){0/3}\",\"(it{1},af{1},it{2},aoo{1},acc{1}){0/3}\",\"(it,af,it{1},aoo,acc){0/4}\",\"(it{1},af{1},it{2},aoo{1},acc{1}){0/4}\",\"(it,af,it{1},aoo,acc){1/2}\",\"(it{1},af{1},it{2},aoo{1},acc{1}){1/2}\",\"(it,af,it{1},aoo,acc){1/3}\",\"(it{1},af{1},it{2},aoo{1},acc{1}){1/3}\",\"(it,af,it{1},aoo,acc){1/4}\",\"(it{1},af{1},it{2},aoo{1},acc{1}){1/4}\",\"(it,af,it{1},aoo,acc){2/3}\",\"(it{1},af{1},it{2},aoo{1},acc{1}){2/3}\",\"(it,af,it{1},aoo,acc){2/4}\",\"(it{1},af{1},it{2},aoo{1},acc{1}){2/4}\",\"oo1Since21\",\"oo1MaxSince21\",\"oo1Drawdown1Since21\",\"oo1Drawdown5Since21\",\"oo1Drawdown10Since21\",\"oo1MinSince21\",\"oo1MinSince21{10}\",\"aoo1Since21\",\"aoo1MaxSince21\",\"aoo1Drawdown1Since21\",\"aoo1Drawdown5Since21\",\"aoo1Drawdown10Since21\",\"aoo1MinSince21\",\"aoo1MinSince21{10}\",\"oo1Since62\",\"oo1MaxSince62\",\"oo1Drawdown1Since62\",\"oo1Drawdown5Since62\",\"oo1Drawdown10Since62\",\"oo1MinSince62\",\"oo1MinSince62{10}\",\"aoo1Since62\",\"aoo1MaxSince62\",\"aoo1Drawdown1Since62\",\"aoo1Drawdown5Since62\",\"aoo1Drawdown10Since62\",\"aoo1MinSince62\",\"aoo1MinSince62{10}\",\"oo1Since125\",\"oo1MaxSince125\",\"oo1Drawdown1Since125\",\"oo1Drawdown5Since125\",\"oo1Drawdown10Since125\",\"oo1MinSince125\",\"oo1MinSince125{10}\",\"aoo1Since125\",\"aoo1MaxSince125\",\"aoo1Drawdown1Since125\",\"aoo1Drawdown5Since125\",\"aoo1Drawdown10Since125\",\"aoo1MinSince125\",\"aoo1MinSince125{10}\",\"oo1Since250\",\"oo1MaxSince250\",\"oo1Drawdown1Since250\",\"oo1Drawdown5Since250\",\"oo1Drawdown10Since250\",\"oo1MinSince250\",\"oo1MinSince250{10}\",\"aoo1Since250\",\"aoo1MaxSince250\",\"aoo1Drawdown1Since250\",\"aoo1Drawdown5Since250\",\"aoo1Drawdown10Since250\",\"aoo1MinSince250\",\"aoo1MinSince250{10}\",\"assetCode_inUniCount\"]\n",
      "        feats_ctor = '<IKGCover>\\n    <>~Market & (\\n        <>Return{.&pure&~digit&~TEN} & ~Since & Return{.&\\n            <>(oo|cc|aoo|acc|daoc)\\n            & index[0]\\n          }\\n        | Return{.&pure&~index} & ~Since & Return{.&\\n            <>(oo|aoo)\\n            & [5:,10:,15:,10:5,15:10,20:15,15:5,20:10,20:5]\\n          }\\n        | (\\n            <>Return{(oo{.&[1:]}|aoo[1:])}\\n            & (\\n                <> ~Drawdown&~Drawup&~Since{Min}&~Since{Max}\\n                | Drawdown[1:, 5:,10:]\\n                | Since{Max&index[0]}\\n                | Since{Min&index[0,10]}\\n              )\\n            & Since[21:,62:,125:,250:]\\n          )\\n      )\\n    |\\n        <>AssetEnc{InUni}\\n        | AssetEnc{Code}\\n    |\\n        <>FaceValue{Volume}\\n        | Return{mix[1,2,3,4,5,6,7,8,9,11,12,13,14,15,16,17,18,19]}\\n        | Return{rr|af|it}\\n    '\n",
      "        train_on = fullhouse\n",
      "        weight = 'vp10_weight'\n",
      "        params = dict(learning_rate=0.05,max_depth=-1,num_leaves=4096,min_data_in_leaf=120,min_sum_hessian_in_leaf=100,lambda_l1=0,lambda_l2=0,num_iterations=518)\n"
     ]
    },
    {
     "name": "stdout",
     "output_type": "stream",
     "text": [
      "    class mTryIt(NamedO()):\n",
      "        features = [\"oo\",\"aoo\",\"dayOfYear\",\"dayOfWeek\",\"vp10\",\"oo5\",\"oo10\",\"oo15\",\"aoo5\",\"aoo10\",\"aoo15\",\"vp1dd5\",\"vp1dd10\",\"vp1dd15\",\"volatility60\",\"vp20\",\"oo(10-5)\",\"oo(15-10)\",\"oo(20-15)\",\"oo(15-5)\",\"oo(20-10)\",\"oo(20-5)\",\"aoo(10-5)\",\"aoo(15-10)\",\"aoo(20-15)\",\"aoo(15-5)\",\"aoo(20-10)\",\"aoo(20-5)\",\"vp1dd(10-5)\",\"vp1dd(15-10)\",\"vp1dd(20-15)\",\"vp1dd(15-5)\",\"vp1dd(20-10)\",\"vp1dd(20-5)\",\"oo{1}\",\"oo{2}\",\"(oo-aoo){1}\",\"(oo-aoo){2}\",\"(oo-cc){1}\",\"(oo-cc){2}\",\"(aoo-acc){1}\",\"(aoo-acc){2}\",\"vp1dd\",\"vp1dd{1}\",\"vp1dd{2}\",\"fracRecordedDaysSince21\",\"oo1Since21\",\"oo1Drawdown5Since21\",\"oo1Drawdown10Since21\",\"oo1Drawdown20Since21\",\"oo1Drawdown(10-5)Since21\",\"oo1Drawdown(20-10)Since21\",\"oo1MinSince21\",\"aoo1Since21\",\"aoo1Drawdown5Since21\",\"aoo1Drawdown10Since21\",\"aoo1Drawdown20Since21\",\"aoo1Drawdown(10-5)Since21\",\"aoo1Drawdown(20-10)Since21\",\"aoo1MinSince21\",\"oo10Since21\",\"oo10Drawdown5Since21\",\"oo10Drawdown10Since21\",\"oo10Drawdown20Since21\",\"oo10Drawdown(10-5)Since21\",\"oo10Drawdown(20-10)Since21\",\"oo10MinSince21\",\"aoo10Since21\",\"aoo10Drawdown5Since21\",\"aoo10Drawdown10Since21\",\"aoo10Drawdown20Since21\",\"aoo10Drawdown(10-5)Since21\",\"aoo10Drawdown(20-10)Since21\",\"aoo10MinSince21\",\"volatility20MaxSince21\",\"volatility20Drawdown20Since21\",\"volatility20MaxSince21{20}\",\"volatility20Drawup1Since21\",\"volatility20Drawup(20-10)Since21\",\"fracRecordedDaysSince125\",\"oo1Since125\",\"oo1Drawdown5Since125\",\"oo1Drawdown10Since125\",\"oo1Drawdown20Since125\",\"oo1Drawdown(10-5)Since125\",\"oo1Drawdown(20-10)Since125\",\"oo1MinSince125\",\"aoo1Since125\",\"aoo1Drawdown5Since125\",\"aoo1Drawdown10Since125\",\"aoo1Drawdown20Since125\",\"aoo1Drawdown(10-5)Since125\",\"aoo1Drawdown(20-10)Since125\",\"aoo1MinSince125\",\"oo10Since125\",\"oo10Drawdown5Since125\",\"oo10Drawdown10Since125\",\"oo10Drawdown20Since125\",\"oo10Drawdown(10-5)Since125\",\"oo10Drawdown(20-10)Since125\",\"oo10MinSince125\",\"aoo10Since125\",\"aoo10Drawdown5Since125\",\"aoo10Drawdown10Since125\",\"aoo10Drawdown20Since125\",\"aoo10Drawdown(10-5)Since125\",\"aoo10Drawdown(20-10)Since125\",\"aoo10MinSince125\",\"volatility20MaxSince125\",\"volatility20Drawdown20Since125\",\"volatility20MaxSince125{20}\",\"volatility20Drawup1Since125\",\"volatility20Drawup(20-10)Since125\",\"fracRecordedDaysSince250\",\"oo1Since250\",\"oo1Drawdown5Since250\",\"oo1Drawdown10Since250\",\"oo1Drawdown20Since250\",\"oo1Drawdown(10-5)Since250\",\"oo1Drawdown(20-10)Since250\",\"oo1MinSince250\",\"aoo1Since250\",\"aoo1Drawdown5Since250\",\"aoo1Drawdown10Since250\",\"aoo1Drawdown20Since250\",\"aoo1Drawdown(10-5)Since250\",\"aoo1Drawdown(20-10)Since250\",\"aoo1MinSince250\",\"oo10Since250\",\"oo10Drawdown5Since250\",\"oo10Drawdown10Since250\",\"oo10Drawdown20Since250\",\"oo10Drawdown(10-5)Since250\",\"oo10Drawdown(20-10)Since250\",\"oo10MinSince250\",\"aoo10Since250\",\"aoo10Drawdown5Since250\",\"aoo10Drawdown10Since250\",\"aoo10Drawdown20Since250\",\"aoo10Drawdown(10-5)Since250\",\"aoo10Drawdown(20-10)Since250\",\"aoo10MinSince250\",\"volatility20MaxSince250\",\"volatility20Drawdown20Since250\",\"volatility20MaxSince250{20}\",\"volatility20Drawup1Since250\",\"volatility20Drawup(20-10)Since250\",\"assetCode_inUniCount\"]\n",
      "        feats_ctor = '<TryIt>\\n    <>~Market & (\\n        <>Return{.&pure&~digit&~TEN} & ~Since & Return{.&\\n            <>(oo|aoo|doo|doc|daoc|vp1dd)\\n            & index[0,1,2]\\n          }\\n        | Return{.&pure&~index} & ~Since & Return{.&\\n            <>(oo|aoo|vp1dd)\\n            & [5:,10:,15:,10:5,15:10,20:15,15:5,20:10,20:5]\\n          }\\n        | (\\n            <>Return{(oo{.&[1:]}|aoo[1:]|oo{.&[10:]}|aoo[10:])}\\n            & (\\n                <> ~Drawdown&~Drawup&~Since{Min}&~Since{Max}\\n                | Drawdown[5:,10:,20:, 10:5,20:10]\\n                | Since{Min&index[0]}\\n              )\\n            & Since[21:,125:,250:]\\n          )\\n        | (\\n            <> Volatility[60:]\\n            | Volatility[20:]\\n            & (\\n                | Drawdown[20:]\\n                | Since{Max & index[0,20]}\\n                | Drawup[1:, 20:10]\\n              )\\n            & Since[21:,125:,250:]\\n          )\\n      )\\n    |\\n        <>Return{pure&~dd} & VP[10:,20:]\\n        | FracRec[21:,125:,250:]\\n    |\\n        <>AssetEnc{InUni}\\n    |\\n        Time{long | short}\\n    '\n",
      "        train_on = fullhouse\n",
      "        weight = 'vp10_weight'\n",
      "        params = dict(learning_rate=0.05,max_depth=-1,num_leaves=4096,min_data_in_leaf=120,min_sum_hessian_in_leaf=100,lambda_l1=0,lambda_l2=0,num_iterations=346)\n",
      "    class mIKGCoverTenDraw(NamedO()):\n",
      "        features = [\"assetCodeId\",\"volume\",\"cc\",\"oo\",\"acc\",\"aoo\",\"oo5\",\"oo10\",\"oo15\",\"aoo5\",\"aoo10\",\"aoo15\",\"af\",\"it\",\"rr\",\"oo(10-5)\",\"oo(15-10)\",\"oo(20-15)\",\"oo(15-5)\",\"oo(20-10)\",\"oo(20-5)\",\"aoo(10-5)\",\"aoo(15-10)\",\"aoo(20-15)\",\"aoo(15-5)\",\"aoo(20-10)\",\"aoo(20-5)\",\"af{1}\",\"it{1}\",\"(it,af,it{1},aoo,acc){0/1}\",\"(it{1},af{1},it{2},aoo{1},acc{1}){0/1}\",\"(it,af,it{1},aoo,acc){0/2}\",\"(it{1},af{1},it{2},aoo{1},acc{1}){0/2}\",\"(it,af,it{1},aoo,acc){0/3}\",\"(it{1},af{1},it{2},aoo{1},acc{1}){0/3}\",\"(it,af,it{1},aoo,acc){0/4}\",\"(it{1},af{1},it{2},aoo{1},acc{1}){0/4}\",\"(it,af,it{1},aoo,acc){1/2}\",\"(it{1},af{1},it{2},aoo{1},acc{1}){1/2}\",\"(it,af,it{1},aoo,acc){1/3}\",\"(it{1},af{1},it{2},aoo{1},acc{1}){1/3}\",\"(it,af,it{1},aoo,acc){1/4}\",\"(it{1},af{1},it{2},aoo{1},acc{1}){1/4}\",\"(it,af,it{1},aoo,acc){2/3}\",\"(it{1},af{1},it{2},aoo{1},acc{1}){2/3}\",\"(it,af,it{1},aoo,acc){2/4}\",\"(it{1},af{1},it{2},aoo{1},acc{1}){2/4}\",\"oo1Since21\",\"oo1MaxSince21\",\"oo1Drawdown1Since21\",\"oo1Drawdown5Since21\",\"oo1Drawdown10Since21\",\"oo1MinSince21\",\"oo1MinSince21{10}\",\"aoo1Since21\",\"aoo1MaxSince21\",\"aoo1Drawdown1Since21\",\"aoo1Drawdown5Since21\",\"aoo1Drawdown10Since21\",\"aoo1MinSince21\",\"aoo1MinSince21{10}\",\"oo10Since21\",\"oo10MaxSince21\",\"oo10Drawdown1Since21\",\"oo10Drawdown5Since21\",\"oo10Drawdown10Since21\",\"oo10MinSince21\",\"oo10MinSince21{10}\",\"aoo10Since21\",\"aoo10MaxSince21\",\"aoo10Drawdown1Since21\",\"aoo10Drawdown5Since21\",\"aoo10Drawdown10Since21\",\"aoo10MinSince21\",\"aoo10MinSince21{10}\",\"oo1Since62\",\"oo1MaxSince62\",\"oo1Drawdown1Since62\",\"oo1Drawdown5Since62\",\"oo1Drawdown10Since62\",\"oo1MinSince62\",\"oo1MinSince62{10}\",\"aoo1Since62\",\"aoo1MaxSince62\",\"aoo1Drawdown1Since62\",\"aoo1Drawdown5Since62\",\"aoo1Drawdown10Since62\",\"aoo1MinSince62\",\"aoo1MinSince62{10}\",\"oo10Since62\",\"oo10MaxSince62\",\"oo10Drawdown1Since62\",\"oo10Drawdown5Since62\",\"oo10Drawdown10Since62\",\"oo10MinSince62\",\"oo10MinSince62{10}\",\"aoo10Since62\",\"aoo10MaxSince62\",\"aoo10Drawdown1Since62\",\"aoo10Drawdown5Since62\",\"aoo10Drawdown10Since62\",\"aoo10MinSince62\",\"aoo10MinSince62{10}\",\"oo1Since125\",\"oo1MaxSince125\",\"oo1Drawdown1Since125\",\"oo1Drawdown5Since125\",\"oo1Drawdown10Since125\",\"oo1MinSince125\",\"oo1MinSince125{10}\",\"aoo1Since125\",\"aoo1MaxSince125\",\"aoo1Drawdown1Since125\",\"aoo1Drawdown5Since125\",\"aoo1Drawdown10Since125\",\"aoo1MinSince125\",\"aoo1MinSince125{10}\",\"oo10Since125\",\"oo10MaxSince125\",\"oo10Drawdown1Since125\",\"oo10Drawdown5Since125\",\"oo10Drawdown10Since125\",\"oo10MinSince125\",\"oo10MinSince125{10}\",\"aoo10Since125\",\"aoo10MaxSince125\",\"aoo10Drawdown1Since125\",\"aoo10Drawdown5Since125\",\"aoo10Drawdown10Since125\",\"aoo10MinSince125\",\"aoo10MinSince125{10}\",\"oo1Since250\",\"oo1MaxSince250\",\"oo1Drawdown1Since250\",\"oo1Drawdown5Since250\",\"oo1Drawdown10Since250\",\"oo1MinSince250\",\"oo1MinSince250{10}\",\"aoo1Since250\",\"aoo1MaxSince250\",\"aoo1Drawdown1Since250\",\"aoo1Drawdown5Since250\",\"aoo1Drawdown10Since250\",\"aoo1MinSince250\",\"aoo1MinSince250{10}\",\"oo10Since250\",\"oo10MaxSince250\",\"oo10Drawdown1Since250\",\"oo10Drawdown5Since250\",\"oo10Drawdown10Since250\",\"oo10MinSince250\",\"oo10MinSince250{10}\",\"aoo10Since250\",\"aoo10MaxSince250\",\"aoo10Drawdown1Since250\",\"aoo10Drawdown5Since250\",\"aoo10Drawdown10Since250\",\"aoo10MinSince250\",\"aoo10MinSince250{10}\",\"assetCode_inUniCount\"]\n",
      "        feats_ctor = '<IKGCoverTenDraw>\\n    <>~Market & (\\n        <>Return{.&pure&~digit&~TEN} & ~Since & Return{.&\\n            <>(oo|cc|aoo|acc|daoc)\\n            & index[0]\\n          }\\n        | Return{.&pure&~index} & ~Since & Return{.&\\n            <>(oo|aoo)\\n            & [5:,10:,15:,10:5,15:10,20:15,15:5,20:10,20:5]\\n          }\\n        | (\\n            <>Return{(oo{.&[1:]}|aoo[1:]|oo{.&[10:]}|aoo[10:])}\\n            & (\\n                <> ~Drawdown&~Drawup&~Since{Min}&~Since{Max}\\n                | Drawdown[1:, 5:,10:]\\n                | Since{Max&index[0]}\\n                | Since{Min&index[0,10]}\\n              )\\n            & Since[21:,62:,125:,250:]\\n          )\\n      )\\n    |\\n        <>AssetEnc{InUni}\\n        | AssetEnc{Code}\\n    |\\n        <>FaceValue{Volume}\\n        | Return{mix[1,2,3,4,5,6,7,8,9,11,12,13,14,15,16,17,18,19]}\\n        | Return{rr|af|it}\\n    '\n",
      "        train_on = fullhouse\n",
      "        weight = 'vp10_weight'\n",
      "        params = dict(learning_rate=0.05,max_depth=-1,num_leaves=4096,min_data_in_leaf=120,min_sum_hessian_in_leaf=100,lambda_l1=0,lambda_l2=0,num_iterations=560)\n"
     ]
    },
    {
     "name": "stdout",
     "output_type": "stream",
     "text": [
      "    class mIKGCoverThree(NamedO()):\n",
      "        features = [\"assetCodeId\",\"volume\",\"cc\",\"oo\",\"acc\",\"aoo\",\"oo15\",\"aoo15\",\"af\",\"it\",\"rr\",\"af{1}\",\"it{1}\",\"(it,af,it{1},aoo,acc){0/1}\",\"(it{1},af{1},it{2},aoo{1},acc{1}){0/1}\",\"(it,af,it{1},aoo,acc){0/2}\",\"(it{1},af{1},it{2},aoo{1},acc{1}){0/2}\",\"(it,af,it{1},aoo,acc){0/3}\",\"(it{1},af{1},it{2},aoo{1},acc{1}){0/3}\",\"(it,af,it{1},aoo,acc){0/4}\",\"(it{1},af{1},it{2},aoo{1},acc{1}){0/4}\",\"(it,af,it{1},aoo,acc){1/2}\",\"(it{1},af{1},it{2},aoo{1},acc{1}){1/2}\",\"(it,af,it{1},aoo,acc){1/3}\",\"(it{1},af{1},it{2},aoo{1},acc{1}){1/3}\",\"(it,af,it{1},aoo,acc){1/4}\",\"(it{1},af{1},it{2},aoo{1},acc{1}){1/4}\",\"(it,af,it{1},aoo,acc){2/3}\",\"(it{1},af{1},it{2},aoo{1},acc{1}){2/3}\",\"(it,af,it{1},aoo,acc){2/4}\",\"(it{1},af{1},it{2},aoo{1},acc{1}){2/4}\",\"oo1Since21\",\"oo1MaxSince21\",\"oo1Drawdown1Since21\",\"oo1Drawdown5Since21\",\"oo1Drawdown10Since21\",\"oo1MinSince21\",\"oo1MinSince21{10}\",\"aoo1Since21\",\"aoo1MaxSince21\",\"aoo1Drawdown1Since21\",\"aoo1Drawdown5Since21\",\"aoo1Drawdown10Since21\",\"aoo1MinSince21\",\"aoo1MinSince21{10}\",\"oo1Since62\",\"oo1MaxSince62\",\"oo1Drawdown1Since62\",\"oo1Drawdown5Since62\",\"oo1Drawdown10Since62\",\"oo1MinSince62\",\"oo1MinSince62{10}\",\"aoo1Since62\",\"aoo1MaxSince62\",\"aoo1Drawdown1Since62\",\"aoo1Drawdown5Since62\",\"aoo1Drawdown10Since62\",\"aoo1MinSince62\",\"aoo1MinSince62{10}\",\"oo1Since125\",\"oo1MaxSince125\",\"oo1Drawdown1Since125\",\"oo1Drawdown5Since125\",\"oo1Drawdown10Since125\",\"oo1MinSince125\",\"oo1MinSince125{10}\",\"aoo1Since125\",\"aoo1MaxSince125\",\"aoo1Drawdown1Since125\",\"aoo1Drawdown5Since125\",\"aoo1Drawdown10Since125\",\"aoo1MinSince125\",\"aoo1MinSince125{10}\",\"oo1Since250\",\"oo1MaxSince250\",\"oo1Drawdown1Since250\",\"oo1Drawdown5Since250\",\"oo1Drawdown10Since250\",\"oo1MinSince250\",\"oo1MinSince250{10}\",\"aoo1Since250\",\"aoo1MaxSince250\",\"aoo1Drawdown1Since250\",\"aoo1Drawdown5Since250\",\"aoo1Drawdown10Since250\",\"aoo1MinSince250\",\"aoo1MinSince250{10}\",\"assetCode_inUniCount\",\"oo3\",\"oo6\",\"oo9\",\"oo12\",\"oo18\",\"aoo3\",\"aoo6\",\"aoo9\",\"aoo12\",\"aoo18\"]\n",
      "        feats_ctor = '<IKGCoverThree>\\n    <>~Market & (\\n        <>Return{.&pure&~digit&~TEN} & ~Since & Return{.&\\n            <>(oo|cc|aoo|acc|daoc)\\n            & index[0]\\n          }\\n        | Return{.&pure&~index} & ~Since & Return{.&\\n            <>(oo|aoo)\\n            & [3:,6:,9:,12:,15:,18:,6:3,9:6,12:9,15:12,18:15,21:18,9:3,12:6,            15:9,18:12,21:15,12:3,15:6,18:9,21:12,15:3,18:6,21:9,18:3,21:6,21:3]\\n          }\\n        | (\\n            <>Return{(oo{.&[1:]}|aoo[1:])}\\n            & (\\n                <> ~Drawdown&~Drawup&~Since{Min}&~Since{Max}\\n                | Drawdown[1:, 5:,10:]\\n                | Since{Max&index[0]}\\n                | Since{Min&index[0,10]}\\n              )\\n            & Since[21:,62:,125:,250:]\\n          )\\n      )\\n    |\\n        <>AssetEnc{InUni}\\n        | AssetEnc{Code}\\n    |\\n        <>FaceValue{Volume}\\n        | Return{mix[1,2,3,4,5,6,7,8,9,11,12,13,14,15,16,17,18,19]}\\n        | Return{rr|af|it}\\n    '\n",
      "        train_on = fullhouse\n",
      "        weight = 'vp10_weight'\n",
      "        params = dict(learning_rate=0.05,max_depth=-1,num_leaves=4096,min_data_in_leaf=120,min_sum_hessian_in_leaf=100,lambda_l1=0,lambda_l2=0,num_iterations=576)\n",
      "    class mIKGCoverThreeVP1(NamedO()):\n",
      "        features = [\"assetCodeId\",\"volume\",\"cc\",\"oo\",\"acc\",\"aoo\",\"oo15\",\"aoo15\",\"vp1dd15\",\"af\",\"it\",\"rr\",\"vp1dd\",\"af{1}\",\"it{1}\",\"(it,af,it{1},aoo,acc){0/1}\",\"(it{1},af{1},it{2},aoo{1},acc{1}){0/1}\",\"(it,af,it{1},aoo,acc){0/2}\",\"(it{1},af{1},it{2},aoo{1},acc{1}){0/2}\",\"(it,af,it{1},aoo,acc){0/3}\",\"(it{1},af{1},it{2},aoo{1},acc{1}){0/3}\",\"(it,af,it{1},aoo,acc){0/4}\",\"(it{1},af{1},it{2},aoo{1},acc{1}){0/4}\",\"(it,af,it{1},aoo,acc){1/2}\",\"(it{1},af{1},it{2},aoo{1},acc{1}){1/2}\",\"(it,af,it{1},aoo,acc){1/3}\",\"(it{1},af{1},it{2},aoo{1},acc{1}){1/3}\",\"(it,af,it{1},aoo,acc){1/4}\",\"(it{1},af{1},it{2},aoo{1},acc{1}){1/4}\",\"(it,af,it{1},aoo,acc){2/3}\",\"(it{1},af{1},it{2},aoo{1},acc{1}){2/3}\",\"(it,af,it{1},aoo,acc){2/4}\",\"(it{1},af{1},it{2},aoo{1},acc{1}){2/4}\",\"oo1Since21\",\"oo1MaxSince21\",\"oo1Drawdown1Since21\",\"oo1Drawdown5Since21\",\"oo1Drawdown10Since21\",\"oo1MinSince21\",\"oo1MinSince21{10}\",\"aoo1Since21\",\"aoo1MaxSince21\",\"aoo1Drawdown1Since21\",\"aoo1Drawdown5Since21\",\"aoo1Drawdown10Since21\",\"aoo1MinSince21\",\"aoo1MinSince21{10}\",\"vp1dd1Since21\",\"vp1dd1MaxSince21\",\"vp1dd1Drawdown1Since21\",\"vp1dd1Drawdown5Since21\",\"vp1dd1Drawdown10Since21\",\"vp1dd1MinSince21\",\"vp1dd1MinSince21{10}\",\"oo1Since62\",\"oo1MaxSince62\",\"oo1Drawdown1Since62\",\"oo1Drawdown5Since62\",\"oo1Drawdown10Since62\",\"oo1MinSince62\",\"oo1MinSince62{10}\",\"aoo1Since62\",\"aoo1MaxSince62\",\"aoo1Drawdown1Since62\",\"aoo1Drawdown5Since62\",\"aoo1Drawdown10Since62\",\"aoo1MinSince62\",\"aoo1MinSince62{10}\",\"vp1dd1Since62\",\"vp1dd1MaxSince62\",\"vp1dd1Drawdown1Since62\",\"vp1dd1Drawdown5Since62\",\"vp1dd1Drawdown10Since62\",\"vp1dd1MinSince62\",\"vp1dd1MinSince62{10}\",\"oo1Since125\",\"oo1MaxSince125\",\"oo1Drawdown1Since125\",\"oo1Drawdown5Since125\",\"oo1Drawdown10Since125\",\"oo1MinSince125\",\"oo1MinSince125{10}\",\"aoo1Since125\",\"aoo1MaxSince125\",\"aoo1Drawdown1Since125\",\"aoo1Drawdown5Since125\",\"aoo1Drawdown10Since125\",\"aoo1MinSince125\",\"aoo1MinSince125{10}\",\"vp1dd1Since125\",\"vp1dd1MaxSince125\",\"vp1dd1Drawdown1Since125\",\"vp1dd1Drawdown5Since125\",\"vp1dd1Drawdown10Since125\",\"vp1dd1MinSince125\",\"vp1dd1MinSince125{10}\",\"oo1Since250\",\"oo1MaxSince250\",\"oo1Drawdown1Since250\",\"oo1Drawdown5Since250\",\"oo1Drawdown10Since250\",\"oo1MinSince250\",\"oo1MinSince250{10}\",\"aoo1Since250\",\"aoo1MaxSince250\",\"aoo1Drawdown1Since250\",\"aoo1Drawdown5Since250\",\"aoo1Drawdown10Since250\",\"aoo1MinSince250\",\"aoo1MinSince250{10}\",\"vp1dd1Since250\",\"vp1dd1MaxSince250\",\"vp1dd1Drawdown1Since250\",\"vp1dd1Drawdown5Since250\",\"vp1dd1Drawdown10Since250\",\"vp1dd1MinSince250\",\"vp1dd1MinSince250{10}\",\"assetCode_inUniCount\",\"oo3\",\"oo6\",\"oo9\",\"oo12\",\"oo18\",\"aoo3\",\"aoo6\",\"aoo9\",\"aoo12\",\"aoo18\",\"vp1dd3\",\"vp1dd6\",\"vp1dd9\",\"vp1dd12\",\"vp1dd18\"]\n",
      "        feats_ctor = '<IKGCoverThreeVP1>\\n    <>~Market & (\\n        <>Return{.&pure&~digit&~TEN} & ~Since & Return{.&\\n            <>(oo|cc|aoo|acc|daoc|vp1dd)\\n            & index[0]\\n          }\\n        | Return{.&pure&~index} & ~Since & Return{.&\\n            <>(oo|aoo|vp1dd)\\n            & [3:,6:,9:,12:,15:,18:,6:3,9:6,12:9,15:12,18:15,21:18,9:3,12:6,            15:9,18:12,21:15,12:3,15:6,18:9,21:12,15:3,18:6,21:9,18:3,21:6,21:3]\\n          }\\n        | (\\n            <>Return{(oo{.&[1:]}|aoo[1:]|vp1dd)}\\n            & (\\n                <> ~Drawdown&~Drawup&~Since{Min}&~Since{Max}\\n                | Drawdown[1:, 5:,10:]\\n                | Since{Max&index[0]}\\n                | Since{Min&index[0,10]}\\n              )\\n            & Since[21:,62:,125:,250:]\\n          )\\n      )\\n    |\\n        <>AssetEnc{InUni}\\n        | AssetEnc{Code}\\n    |\\n        <>FaceValue{Volume}\\n        | Return{mix[1,2,3,4,5,6,7,8,9,11,12,13,14,15,16,17,18,19]}\\n        | Return{rr|af|it}\\n    '\n",
      "        train_on = fullhouse\n",
      "        weight = 'vp10_weight'\n",
      "        params = dict(learning_rate=0.05,max_depth=-1,num_leaves=4096,min_data_in_leaf=120,min_sum_hessian_in_leaf=100,lambda_l1=0,lambda_l2=0,num_iterations=958)\n",
      "    class mIKGCoverThreeMoreShort(NamedO()):\n",
      "        features = [\"assetCodeId\",\"volume\",\"cc\",\"oo\",\"acc\",\"aoo\",\"oo15\",\"aoo15\",\"af\",\"it\",\"rr\",\"oo{0/1}\",\"oo{0/2}\",\"oo{1/2}\",\"oo{1}\",\"oo{2}\",\"(aoo-acc){0/1}\",\"(aoo-acc){0/2}\",\"(aoo-acc){1/2}\",\"(aoo-acc){1}\",\"(aoo-acc){2}\",\"af{1}\",\"it{1}\",\"(it,af,it{1},aoo,acc){0/1}\",\"(it{1},af{1},it{2},aoo{1},acc{1}){0/1}\",\"(it,af,it{1},aoo,acc){0/2}\",\"(it{1},af{1},it{2},aoo{1},acc{1}){0/2}\",\"(it,af,it{1},aoo,acc){0/3}\",\"(it{1},af{1},it{2},aoo{1},acc{1}){0/3}\",\"(it,af,it{1},aoo,acc){0/4}\",\"(it{1},af{1},it{2},aoo{1},acc{1}){0/4}\",\"(it,af,it{1},aoo,acc){1/2}\",\"(it{1},af{1},it{2},aoo{1},acc{1}){1/2}\",\"(it,af,it{1},aoo,acc){1/3}\",\"(it{1},af{1},it{2},aoo{1},acc{1}){1/3}\",\"(it,af,it{1},aoo,acc){1/4}\",\"(it{1},af{1},it{2},aoo{1},acc{1}){1/4}\",\"(it,af,it{1},aoo,acc){2/3}\",\"(it{1},af{1},it{2},aoo{1},acc{1}){2/3}\",\"(it,af,it{1},aoo,acc){2/4}\",\"(it{1},af{1},it{2},aoo{1},acc{1}){2/4}\",\"oo1Since21\",\"oo1MaxSince21\",\"oo1Drawdown1Since21\",\"oo1Drawdown5Since21\",\"oo1Drawdown10Since21\",\"oo1MinSince21\",\"oo1MinSince21{10}\",\"aoo1Since21\",\"aoo1MaxSince21\",\"aoo1Drawdown1Since21\",\"aoo1Drawdown5Since21\",\"aoo1Drawdown10Since21\",\"aoo1MinSince21\",\"aoo1MinSince21{10}\",\"oo1Since62\",\"oo1MaxSince62\",\"oo1Drawdown1Since62\",\"oo1Drawdown5Since62\",\"oo1Drawdown10Since62\",\"oo1MinSince62\",\"oo1MinSince62{10}\",\"aoo1Since62\",\"aoo1MaxSince62\",\"aoo1Drawdown1Since62\",\"aoo1Drawdown5Since62\",\"aoo1Drawdown10Since62\",\"aoo1MinSince62\",\"aoo1MinSince62{10}\",\"oo1Since125\",\"oo1MaxSince125\",\"oo1Drawdown1Since125\",\"oo1Drawdown5Since125\",\"oo1Drawdown10Since125\",\"oo1MinSince125\",\"oo1MinSince125{10}\",\"aoo1Since125\",\"aoo1MaxSince125\",\"aoo1Drawdown1Since125\",\"aoo1Drawdown5Since125\",\"aoo1Drawdown10Since125\",\"aoo1MinSince125\",\"aoo1MinSince125{10}\",\"oo1Since250\",\"oo1MaxSince250\",\"oo1Drawdown1Since250\",\"oo1Drawdown5Since250\",\"oo1Drawdown10Since250\",\"oo1MinSince250\",\"oo1MinSince250{10}\",\"aoo1Since250\",\"aoo1MaxSince250\",\"aoo1Drawdown1Since250\",\"aoo1Drawdown5Since250\",\"aoo1Drawdown10Since250\",\"aoo1MinSince250\",\"aoo1MinSince250{10}\",\"assetCode_inUniCount\",\"oo3\",\"oo6\",\"oo9\",\"oo12\",\"oo18\",\"aoo3\",\"aoo6\",\"aoo9\",\"aoo12\",\"aoo18\"]\n",
      "        feats_ctor = '<IKGCoverThreeMoreShort>\\n    <>~Market & (\\n        <>Return{.&pure&~digit&~TEN} & ~Since & Return{.&\\n            <>(oo|cc|aoo|acc|daoc)\\n            & index[0,1,2,0:1,1:2,0:2]\\n          }\\n        | Return{.&pure&~index} & ~Since & Return{.&\\n            <>(oo|aoo)\\n            & [3:,6:,9:,12:,15:,18:,6:3,9:6,12:9,15:12,18:15,21:18,9:3,12:6,            15:9,18:12,21:15,12:3,15:6,18:9,21:12,15:3,18:6,21:9,18:3,21:6,21:3]\\n          }\\n        | (\\n            <>Return{(oo{.&[1:]}|aoo[1:])}\\n            & (\\n                <> ~Drawdown&~Drawup&~Since{Min}&~Since{Max}\\n                | Drawdown[1:, 5:,10:]\\n                | Since{Max&index[0]}\\n                | Since{Min&index[0,10]}\\n              )\\n            & Since[21:,62:,125:,250:]\\n          )\\n      )\\n    |\\n        <>AssetEnc{InUni}\\n        | AssetEnc{Code}\\n    |\\n        <>FaceValue{Volume}\\n        | Return{mix[1,2,3,4,5,6,7,8,9,11,12,13,14,15,16,17,18,19]}\\n        | Return{rr|af|it}\\n    '\n",
      "        train_on = fullhouse\n",
      "        weight = 'vp10_weight'\n",
      "        params = dict(learning_rate=0.05,max_depth=-1,num_leaves=4096,min_data_in_leaf=120,min_sum_hessian_in_leaf=100,lambda_l1=0,lambda_l2=0,num_iterations=991)\n"
     ]
    },
    {
     "name": "stdout",
     "output_type": "stream",
     "text": [
      "    class pPairFiveShortVP1_1_0_0_NoCorr(NamedO()):\n",
      "        copy_features = [\"cc\",\"oo\",\"acc\",\"aoo\",\"oo5\",\"oo10\",\"oo15\",\"aoo5\",\"aoo10\",\"aoo15\",\"vp1dd5\",\"vp1dd10\",\"vp1dd15\",\"oo(10-5)\",\"oo(15-10)\",\"oo(20-15)\",\"oo(15-5)\",\"oo(20-10)\",\"oo(20-5)\",\"aoo(10-5)\",\"aoo(15-10)\",\"aoo(20-15)\",\"aoo(15-5)\",\"aoo(20-10)\",\"aoo(20-5)\",\"vp1dd(10-5)\",\"vp1dd(15-10)\",\"vp1dd(20-15)\",\"vp1dd(15-5)\",\"vp1dd(20-10)\",\"vp1dd(20-5)\",\"oo{0/1}\",\"oo{0/2}\",\"oo{1/2}\",\"oo{1}\",\"oo{2}\",\"(oo-cc){0/1}\",\"(oo-cc){0/2}\",\"(oo-cc){1/2}\",\"(oo-cc){1}\",\"(oo-cc){2}\",\"(aoo-acc){0/1}\",\"(aoo-acc){0/2}\",\"(aoo-acc){1/2}\",\"(aoo-acc){1}\",\"(aoo-acc){2}\",\"vp1dd{0/1}\",\"vp1dd{0/2}\",\"vp1dd{1/2}\",\"vp1dd\",\"vp1dd{1}\",\"vp1dd{2}\"]\n",
      "diff_features = [\"\"]\n",
      "plus_features = [\"\"]\n",
      "corr_features = [\"\"]\n",
      "        feats_ctor = '<PairFiveShortVP1_1_0_0_NoCorr>0|Return{oo|cc|aoo|acc|doc|daoc|vp1dd}&(\\n    <>~Market&(\\n        | Return{.&pure&~index} & ~Since & Return{.&\\n            <>(oo|aoo|doo|vp1dd|vp5dd|Volatility)\\n            & [5:,10:,15:,10:5,15:10,20:15,15:5,20:10,20:5]\\n          }\\n      )|\\n    <>~Market & (\\n        <>Return{.&pure&~digit&~TEN} & ~Since & Return{.&\\n            <>(oo|cc|aoo|acc|doo|dcc|doc|daoc|vp1dd)\\n            & index[0,1,2, 0:1,1:2,0:2]\\n          }\\n      ))#<>#0|#<>#0|#<>#0'\n",
      "        train_on = fullhouse\n",
      "        weight = 'flat_weight'\n",
      "        params = dict(learning_rate=0.05,max_depth=-1,num_leaves=4096,min_data_in_leaf=120,min_sum_hessian_in_leaf=10,lambda_l1=0,lambda_l2=0,num_iterations=438)\n"
     ]
    }
   ],
   "source": [
    "copy_production(names, nbests)"
   ]
  },
  {
   "cell_type": "code",
   "execution_count": null,
   "metadata": {
    "collapsed": true
   },
   "outputs": [],
   "source": []
  },
  {
   "cell_type": "code",
   "execution_count": null,
   "metadata": {
    "collapsed": true
   },
   "outputs": [],
   "source": []
  },
  {
   "cell_type": "markdown",
   "metadata": {},
   "source": [
    "# scratch"
   ]
  },
  {
   "cell_type": "code",
   "execution_count": 29,
   "metadata": {
    "collapsed": true
   },
   "outputs": [],
   "source": [
    "pZing = '''\n",
    "    <>~Market & (\n",
    "        <>Return{.&pure&~digit&~TEN} & ~Since & Return{.&\n",
    "            <>(oo|cc|doo)\n",
    "            & index[0,1,2, 0:1,1:2]\n",
    "          }\n",
    "        | (\n",
    "            <>Return{(oo{.&[1:]}|aoo[1:]|oo{.&[10:]})}\n",
    "            & (\n",
    "                <> ~Drawdown&~Drawup&~Since{Min}&~Since{Max}\n",
    "                | Drawdown[10:,20:]\n",
    "                | Since{Min&index[20]}\n",
    "              )\n",
    "            & Since[21:, 250:]\n",
    "          )\n",
    "        | (\n",
    "            <>Return{dd} & VP[1:, 10:]\n",
    "            & (\n",
    "                | Since{Max & index[0]}\n",
    "                | Drawup[20:,20:10]\n",
    "                | Since{Min & index[0]}\n",
    "              )\n",
    "            & Since[ 62:, 250:]\n",
    "          )\n",
    "      )\n",
    "    | Market{.&\n",
    "        <>( Weight)\n",
    "        & (Return| Volatility)\n",
    "        & [5:]\n",
    "      }\n",
    "    |\n",
    "        <>Return{pure&~dd} & VP[60:]\n",
    "        | FracRec[62:]\n",
    "    |\n",
    "        | Return{rr| af}\n",
    "#<>#\n",
    "    <>~Market & (\n",
    "        <>Return{.&pure&~digit&~TEN} & ~Since & Return{.&\n",
    "            <>(oo|cc|daoc)\n",
    "            & index[0,1,2, 0:1,1:2,0:2]\n",
    "          }\n",
    "        | Return{.&pure&~index} & ~Since & Return{.&\n",
    "            <>(oo)\n",
    "            & [18:,9:6,15:12,18:15,12:6,18:12,15:6,18:6,21:9,18:3]\n",
    "          }\n",
    "      )\n",
    "#<>#\n",
    "0\n",
    "#<>#\n",
    "    <>0\n",
    "    | Corr & Corr{\n",
    "        <>[21,62]\n",
    "        & (aoo|aooTEN)\n",
    "      }\n",
    "'''"
   ]
  },
  {
   "cell_type": "code",
   "execution_count": 33,
   "metadata": {},
   "outputs": [],
   "source": [
    "copy = bigF.query_solo(pZing.split('#<>#')[0])[0]\n",
    "diff = bigF.query_solo(pZing.split('#<>#')[1])[0]\n",
    "plus = bigF.query_solo(pZing.split('#<>#')[2])[0]\n",
    "corr = '__corr__aoo_21 __corr__aoo_62 __corr__aooTEN_21 __corr__aooTEN_62'.split()"
   ]
  },
  {
   "cell_type": "code",
   "execution_count": 41,
   "metadata": {},
   "outputs": [
    {
     "name": "stdout",
     "output_type": "stream",
     "text": [
      "[\"\"]\n"
     ]
    }
   ],
   "source": [
    "/print stringify_list(plus)"
   ]
  },
  {
   "cell_type": "code",
   "execution_count": 35,
   "metadata": {},
   "outputs": [
    {
     "name": "stdout",
     "output_type": "stream",
     "text": [
      "'\\n    <>~Market & (\\n        <>Return{.&pure&~digit&~TEN} & ~Since & Return{.&\\n            <>(oo|cc|doo)\\n            & index[0,1,2, 0:1,1:2]\\n          }\\n        | (\\n            <>Return{(oo{.&[1:]}|aoo[1:]|oo{.&[10:]})}\\n            & (\\n                <> ~Drawdown&~Drawup&~Since{Min}&~Since{Max}\\n                | Drawdown[10:,20:]\\n                | Since{Min&index[20]}\\n              )\\n            & Since[21:, 250:]\\n          )\\n        | (\\n            <>Return{dd} & VP[1:, 10:]\\n            & (\\n                | Since{Max & index[0]}\\n                | Drawup[20:,20:10]\\n                | Since{Min & index[0]}\\n              )\\n            & Since[ 62:, 250:]\\n          )\\n      )\\n    | Market{.&\\n        <>( Weight)\\n        & (Return| Volatility)\\n        & [5:]\\n      }\\n    |\\n        <>Return{pure&~dd} & VP[60:]\\n        | FracRec[62:]\\n    |\\n        | Return{rr| af}\\n#<>#\\n    <>~Market & (\\n        <>Return{.&pure&~digit&~TEN} & ~Since & Return{.&\\n            <>(oo|cc|daoc)\\n            & index[0,1,2, 0:1,1:2,0:2]\\n          }\\n        | Return{.&pure&~index} & ~Since & Return{.&\\n            <>(oo)\\n            & [18:,9:6,15:12,18:15,12:6,18:12,15:6,18:6,21:9,18:3]\\n          }\\n      )\\n#<>#\\n0\\n#<>#\\n    <>0\\n    | Corr & Corr{\\n        <>[21,62]\\n        & (aoo|aooTEN)\\n      }\\n'\n"
     ]
    }
   ],
   "source": [
    "/print repr(pZing)"
   ]
  },
  {
   "cell_type": "code",
   "execution_count": 309,
   "metadata": {},
   "outputs": [
    {
     "data": {
      "text/plain": [
       "False"
      ]
     },
     "execution_count": 309,
     "metadata": {},
     "output_type": "execute_result"
    }
   ],
   "source": [
    "pZing==TP.SearchedPair"
   ]
  }
 ],
 "metadata": {
  "kernelspec": {
   "display_name": "Python 3",
   "language": "python",
   "name": "python3"
  },
  "language_info": {
   "codemirror_mode": {
    "name": "ipython",
    "version": 3
   },
   "file_extension": ".py",
   "mimetype": "text/x-python",
   "name": "python",
   "nbconvert_exporter": "python",
   "pygments_lexer": "ipython3",
   "version": "3.6.2"
  }
 },
 "nbformat": 4,
 "nbformat_minor": 2
}
