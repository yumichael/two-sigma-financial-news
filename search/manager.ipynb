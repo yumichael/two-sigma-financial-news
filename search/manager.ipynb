{
 "cells": [
  {
   "cell_type": "code",
   "execution_count": 1,
   "metadata": {
    "collapsed": true
   },
   "outputs": [],
   "source": [
    "from common import *\n",
    "from search.imports import *\n",
    "from search.file import *\n",
    "import FDF as _FDF, FDS as _FDS, FDP as _FDP"
   ]
  },
  {
   "cell_type": "markdown",
   "metadata": {},
   "source": [
    "## Model Manager"
   ]
  },
  {
   "cell_type": "code",
   "execution_count": null,
   "metadata": {
    "collapsed": true
   },
   "outputs": [],
   "source": [
    "class ModelManager():\n",
    "    features_dir = '.features'\n",
    "    samples_dir = '.samples'\n",
    "    models_dir = 'models'\n",
    "    \n",
    "    def __init__(self, directory, f_specs=None, s_specs=None, p_specs=None):\n",
    "        if f_specs is None:\n",
    "            f_specs = _FDF.FDF\n",
    "        if s_specs is None:\n",
    "            s_specs = _FDS.FDS\n",
    "        if p_specs is None:\n",
    "            p_specs = _FDP.FDP\n",
    "        self.p_specs = p_specs\n",
    "        self.dir = directory if isinstance(directory, Path) else Path(directory)\n",
    "        self.dir.mkdir(exist_ok=True) # no parents because this is user facing and enabling parents could get gnarly\n",
    "        self.F = IndexDataStore.from_specs(f_specs, dir=self.dir/self.features_dir)\n",
    "        self.S = IndexDataStore.from_specs(s_specs, dir=self.dir/self.samples_dir)\n",
    "        (self.dir/self.models_dir).mkdir(exist_ok=True)\n",
    "        self.load()\n",
    "        \n",
    "    def load(self):\n",
    "        self.pms = {}\n",
    "        for fi, si in self.iterIndices():\n",
    "            self.make_params_manager(i=(fi, si))\n",
    "        \n",
    "    def iterIndices(self):\n",
    "        for fdir in (self.dir/self.models_dir).iterdir():\n",
    "            try:\n",
    "                fi = int(fdir.name)\n",
    "            except ValueError:\n",
    "                continue\n",
    "            assert fdir.is_dir(), \"folder in models folder whose name is just a number must be a folder\"\n",
    "            assert fi < self.F.nextIndex, \"features folder found with greater index than what has been labelled\"\n",
    "            for sdir in fdir.iterdir():\n",
    "                try:\n",
    "                    si = int(sdir.name)\n",
    "                except ValueError:\n",
    "                    continue\n",
    "                assert sdir.is_dir(), \"folder in models folder 1 layer down whose name is just a number must be a folder\"\n",
    "                assert si < self.S.nextIndex, \"samples folder found with greater index than what has been labelled\"\n",
    "                yield (fi, si)\n",
    "        \n",
    "    def make_params_manager(self, features=None, samples=None, i=None):\n",
    "        assert (\n",
    "            not ((features is None) ^ (samples is None)) and\n",
    "            ((features is not None and samples is not None) ^ (i is not None)),\n",
    "            \"invalid arguments to `make_param_manager`\"\n",
    "        )\n",
    "        if i is None:\n",
    "            i = self.F.i(features), self.S.i(samples)\n",
    "        fi, si = i\n",
    "        assert 0 <= fi < self.F.nextIndex and 0 <= si < self.S.nextIndex, \"bad arguments to `make_params_manager`\"\n",
    "        pm = IndexDataStore.from_specs(self.p_specs, dir=self.dir/self.models_dir/str(fi)/str(si))\n",
    "        self.pms[fi, si] = pm\n",
    "        return pm\n",
    "    \n",
    "    def i(features, samples): # purely convenience public interface\n",
    "        return self.F.i(features), self.S.i(samples)\n",
    "        \n",
    "    def PM(self, features, samples, get_i=False):\n",
    "        fi, si = self.F.i(features), self.S.i(samples)\n",
    "        if get_i:\n",
    "            return self.iPM(fi, si), (fi, si)\n",
    "        else:\n",
    "            return self.iPM(fi, si)\n",
    "        \n",
    "    def iPM(self, fi, si):\n",
    "        if (fi, si) not in self.pms:\n",
    "            self.make_params_manager(i=(fi, si))\n",
    "        return self.pms[fi, si]"
   ]
  }
 ],
 "metadata": {
  "kernelspec": {
   "display_name": "Python 3",
   "language": "python",
   "name": "python3"
  },
  "language_info": {
   "codemirror_mode": {
    "name": "ipython",
    "version": 3
   },
   "file_extension": ".py",
   "mimetype": "text/x-python",
   "name": "python",
   "nbconvert_exporter": "python",
   "pygments_lexer": "ipython3",
   "version": "3.6.2"
  }
 },
 "nbformat": 4,
 "nbformat_minor": 2
}
