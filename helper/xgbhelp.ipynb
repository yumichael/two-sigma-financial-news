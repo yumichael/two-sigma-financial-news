{
 "cells": [
  {
   "cell_type": "code",
   "execution_count": null,
   "metadata": {
    "collapsed": true
   },
   "outputs": [],
   "source": [
    "import notebook_import_hook\n",
    "notebook_import_hook.attach()\n",
    "from helper.helper import *\n",
    "import xgboost as xgb"
   ]
  },
  {
   "cell_type": "code",
   "execution_count": null,
   "metadata": {
    "collapsed": true
   },
   "outputs": [],
   "source": [
    "def xgbf_rename(s):\n",
    "    '''Make feature name `str` s usable for XGBoost'''\n",
    "    return s.replace('[', '{|').replace(']', '|}').replace('<', '(|').replace('>', '|)')"
   ]
  },
  {
   "cell_type": "code",
   "execution_count": null,
   "metadata": {
    "collapsed": true
   },
   "outputs": [],
   "source": [
    "def xgb_eval(bst, evals, i):\n",
    "    '''Params - bst: `xgb.Booster`\n",
    "                evals: list-like as passed to XGBoost eval_set param\n",
    "                i: iteration number'''\n",
    "    n = len(evals)\n",
    "    line = bst.eval_set(evals, i)\n",
    "    import re\n",
    "    m = re.match(r'\\[\\-?\\d+\\]' + r'\\t(\\w+)\\-[^\\:]+\\:(\\S+)' * n, line)\n",
    "    assert m and len(m.groups()) == n * 2, (line, m)\n",
    "    fields, values = m.groups()[::2], tuple(float(x) for x in m.groups()[1::2])\n",
    "    return O(**{f: v for f, v in zip(fields, values)}, _orig=line)"
   ]
  },
  {
   "cell_type": "code",
   "execution_count": null,
   "metadata": {
    "collapsed": true
   },
   "outputs": [],
   "source": [
    "def make_dmat(X, T, W, s, include='tr cv ho'):\n",
    "    include = include.split() if isinstance(include, str) else include\n",
    "    dmat = O()\n",
    "    for se in include:\n",
    "        dmat[se] = xgb.DMatrix(X[s[se]], T[s[se]], weight=W[s[se]], feature_names=[xgbf_rename(c) for c in X.columns])\n",
    "    return dmat"
   ]
  },
  {
   "cell_type": "code",
   "execution_count": 6,
   "metadata": {
    "collapsed": true
   },
   "outputs": [],
   "source": [
    "from common import *\n",
    "\n",
    "class BoostTransformer():\n",
    "    def __init__(bt, ref=dh):\n",
    "        bt.ref = ref\n",
    "        bt.o = O()\n",
    "        def_W(bt.o, ref)\n",
    "        def_Y(bt.o, ref, include='scl std')\n",
    "    \n",
    "    @property\n",
    "    def id(bt):\n",
    "        class IdentityTransform():\n",
    "            to_T = lambda self, Y, WY: (Y, WY)\n",
    "            to_Y = lambda self, T: T\n",
    "        return IdentityTransform()\n",
    "    \n",
    "    #@property\n",
    "    #def zm(bt):\n",
    "    #    class ZmeanTransform():\n",
    "    #        def __init__(self):\n",
    "    #            self.Y_wmean = bt.o.Y_wmeana.makeil_like(bt.ref)      \n",
    "    #        to_T = lambda self, Y, WY: (Y - self.Y_wmean, WY)\n",
    "    #        to_Y = lambda self, T: T + self.Y_wmean\n",
    "    #    return ZmeanTransform()\n",
    "    \n",
    "    @property\n",
    "    def scl(bt):\n",
    "        class ScaleTransform():\n",
    "            def __init__(self):\n",
    "                self.Y_wzvar = bt.o.Y_wzvar.replace(0, 1).makeil_like(bt.ref)      \n",
    "            to_T = lambda self, Y, WY: (Y / np.sqrt(self.Y_wzvar), WY * self.Y_wzvar)\n",
    "            to_Y = lambda self, T: T * np.sqrt(self.Y_wzvar)\n",
    "        return ScaleTransform()\n",
    "    \n",
    "    @property\n",
    "    def std(bt):\n",
    "        class StdevTransform():\n",
    "            def __init__(self): \n",
    "                self.Y_wvar = bt.o.Y_wvar.replace(0, 1).makeil_like(bt.ref)      \n",
    "            to_T = lambda self, Y, WY: (Y / np.sqrt(self.Y_wvar), WY * self.Y_wvar)\n",
    "            to_Y = lambda self, T: T * np.sqrt(self.Y_wvar)\n",
    "        return StdevTransform()\n",
    "    \n",
    "    @staticmethod\n",
    "    def boost(Y0):\n",
    "        class BoostTransform():\n",
    "            def __init__(self):\n",
    "                self.Y0 = Y0\n",
    "            to_T = lambda self, Y, WY: (Y - self.Y0, WY)\n",
    "            to_Y = lambda self, T: T + self.Y0\n",
    "        return BoostTransform()"
   ]
  },
  {
   "cell_type": "code",
   "execution_count": null,
   "metadata": {
    "collapsed": true
   },
   "outputs": [],
   "source": []
  },
  {
   "cell_type": "code",
   "execution_count": null,
   "metadata": {
    "collapsed": true
   },
   "outputs": [],
   "source": []
  },
  {
   "cell_type": "code",
   "execution_count": null,
   "metadata": {
    "collapsed": true
   },
   "outputs": [],
   "source": [
    "if __name__ == '__main__':\n",
    "    Y, WY = dh.y, dh.w\n",
    "    bt = BoostTransformer()\n",
    "    T, WT = bt.scl.to_T(dh.y, dh.w)\n",
    "    T, WT = Y, WY\n",
    "    print(np.sqrt((T ** 2 * WT).sum() / WT.sum()))\n",
    "    print((T ** 2 * WT).sum() / WT.sum())"
   ]
  },
  {
   "cell_type": "code",
   "execution_count": null,
   "metadata": {
    "collapsed": true
   },
   "outputs": [],
   "source": []
  }
 ],
 "metadata": {
  "kernelspec": {
   "display_name": "Python 3",
   "language": "python",
   "name": "python3"
  },
  "language_info": {
   "codemirror_mode": {
    "name": "ipython",
    "version": 3
   },
   "file_extension": ".py",
   "mimetype": "text/x-python",
   "name": "python",
   "nbconvert_exporter": "python",
   "pygments_lexer": "ipython3",
   "version": "3.6.2"
  }
 },
 "nbformat": 4,
 "nbformat_minor": 2
}
