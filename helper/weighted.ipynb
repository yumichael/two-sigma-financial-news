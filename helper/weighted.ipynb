{
 "cells": [
  {
   "cell_type": "code",
   "execution_count": 12,
   "metadata": {
    "collapsed": true
   },
   "outputs": [],
   "source": [
    "import notebook_import_hook\n",
    "notebook_import_hook.attach()\n",
    "from helper.helper import *"
   ]
  },
  {
   "cell_type": "code",
   "execution_count": null,
   "metadata": {
    "collapsed": true
   },
   "outputs": [],
   "source": [
    "def wmean(a, weights):\n",
    "    '''Params - a: either a {observations}x{features} `DataFrame`/`ndarray` or a 1D `ndarray`\n",
    "                    if `ndarray`, must not contain NaN\n",
    "                weights: weights of same shape as `a` or else broadcastable to `a`\n",
    "    Weighted mean, with `a.shape` minus the {observations} dimension.'''\n",
    "    w = weights + only_nans(a) #broadcast(weights, only_nans(a), '+')\n",
    "    return (a * w).sum(axis=0) / w.sum(axis=0)\n",
    "pd.DataFrame.wmean = wmean\n",
    "pd.Series.wmean = wmean"
   ]
  },
  {
   "cell_type": "code",
   "execution_count": 2,
   "metadata": {
    "collapsed": true
   },
   "outputs": [],
   "source": [
    "def wvar(a, weights, ddof=1):\n",
    "    '''Params - a: either a {observations}x{features} `DataFrame`/`ndarray` or a 1D `ndarray`\n",
    "                    if `ndarray`, must not contain NaN\n",
    "                weights: weights of same shape as a\n",
    "                ddof: mimics ddof of unweighted stats calculation in scipy\n",
    "    Weighted variance (reduced 1 dimension). Every +1 on ddof corresponds to weights.mean() deducted from the denominator.'''\n",
    "    w = weights + only_nans(a)\n",
    "    w_sum = w.sum(axis=0)\n",
    "    a_mean = (a * w).sum(axis=0) / w_sum\n",
    "    return (w * (a - a_mean) ** 2).sum(axis=0) / (w_sum - w.mean(axis=0) * ddof)\n",
    "pd.DataFrame.wvar = wvar\n",
    "pd.Series.wvar = wvar"
   ]
  },
  {
   "cell_type": "code",
   "execution_count": null,
   "metadata": {
    "collapsed": true
   },
   "outputs": [],
   "source": [
    "def weighted_quantile_transform(X, weights, range=None):\n",
    "    '''Params - X: {observations}x{features} `DataFrame`/`ndarray`\n",
    "                    if `ndarray`, must not contain NaN\n",
    "                weights: weights of same shape as `X` or else broadcastable to `X`\n",
    "                range: 2-`tuple`-like indicating the lower and upper range of resulting quantiles, e.g. [0,1]->range\n",
    "    Weighted quantiles, with `X.shape` minus the {observations} dimension.'''\n",
    "    W = weights + only_nans(X)\n",
    "    try:\n",
    "        X.replace(np.nan, np.inf, inplace=True)\n",
    "        Wsort = W.values_sort(X)\n",
    "        rev = X.values.argsort(axis=0).argsort(axis=0)\n",
    "    finally:\n",
    "        X.replace(np.inf, np.nan, inplace=True)\n",
    "    wavg, wsum = W.mean(), W.sum()\n",
    "    Wavg, Wsum = wavg.values[np.newaxis, :], wsum.values[np.newaxis, :]\n",
    "    pct = (Wavg / 2 + Wsort.cumsum(axis=0) - Wsort / 2) / (Wsum + Wavg)\n",
    "    pct = pct[rev, np.arange(pct.shape[1])]\n",
    "    if range:\n",
    "        pct *= range[1] - range[0]\n",
    "        pct -= (range[1] - range[0]) / 2\n",
    "    return pd.DataFrame(pct, index=X.index, columns=X.columns)\n",
    "pd.DataFrame.wqtl = weighted_quantile_transform"
   ]
  },
  {
   "cell_type": "code",
   "execution_count": 245,
   "metadata": {
    "collapsed": true
   },
   "outputs": [],
   "source": [
    "def wmedian(a, weights):\n",
    "    '''Params - a: either a {observations}x{features} `DataFrame`/`ndarray` or a 1D `ndarray`\n",
    "                    if `ndarray`, must not contain NaN\n",
    "                weights: weights of same shape as a\n",
    "    Weighted quantiles, with `X.shape` minus the {observations} dimension.'''\n",
    "    weights = weights + only_nans(a)\n",
    "    orig_type = None\n",
    "    if not isinstance(a, np.ndarray):\n",
    "        orig_type = a.min(axis=0) * 0\n",
    "        a = np.ma.array(a.values, mask=np.isnan(a.values))\n",
    "    w = weights\n",
    "    if not isinstance(w, np.ndarray):\n",
    "        w = np.ma.array(w.values, mask=np.isnan(w.values))\n",
    "    order = a.argsort(axis=0)\n",
    "    ordereda = a[(order,) + ((np.arange(a.shape[1]),) if len(a.shape) > 1 else ())]\n",
    "    orderedw = w[(order,) + ((np.arange(a.shape[1]),) if len(a.shape) > 1 else ())]\n",
    "    cumdist = orderedw.cumsum(axis=0)\n",
    "    half = cumdist.max(axis=0) / 2\n",
    "    atleast = np.ma.array(ordereda, mask=(cumdist < half))\n",
    "    median = atleast.min(axis=0)\n",
    "    median = np.ma.filled(median, np.nan)\n",
    "    if orig_type is not None:\n",
    "        return median + orig_type\n",
    "    return median\n",
    "pd.DataFrame.wmedian = wmedian"
   ]
  },
  {
   "cell_type": "code",
   "execution_count": null,
   "metadata": {
    "collapsed": true
   },
   "outputs": [],
   "source": [
    "def wskew(a, weights, ddof=0):\n",
    "    '''Params - a: either a {observations}x{features} `DataFrame`/`ndarray` or a 1D `ndarray`\n",
    "                    if `ndarray`, must not contain NaN\n",
    "                weights: weights of same shape as a\n",
    "                ddof: mimics ddof of unweighted stats calculation in scipy\n",
    "    Weighted skew. Every +1 on ddof corresponds to weights.mean() deducted from the denominator.'''\n",
    "    pass"
   ]
  }
 ],
 "metadata": {
  "kernelspec": {
   "display_name": "Python 3",
   "language": "python",
   "name": "python3"
  },
  "language_info": {
   "codemirror_mode": {
    "name": "ipython",
    "version": 3
   },
   "file_extension": ".py",
   "mimetype": "text/x-python",
   "name": "python",
   "nbconvert_exporter": "python",
   "pygments_lexer": "ipython3",
   "version": "3.6.2"
  }
 },
 "nbformat": 4,
 "nbformat_minor": 2
}
