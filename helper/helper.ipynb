{
 "cells": [
  {
   "cell_type": "code",
   "execution_count": 1,
   "metadata": {
    "collapsed": true
   },
   "outputs": [],
   "source": [
    "import notebook_import_hook\n",
    "notebook_import_hook.attach()\n",
    "from globals import *"
   ]
  },
  {
   "cell_type": "code",
   "execution_count": null,
   "metadata": {
    "collapsed": true
   },
   "outputs": [],
   "source": [
    "class staticclass(type):\n",
    "    class InstantiationError(Exception):\n",
    "        pass\n",
    "    def __new__(cls, name, parents, attrs):\n",
    "        for k, v in list(dict.items(attrs)):\n",
    "            if not isinstance(v, staticmethod) and callable(v):\n",
    "                attrs[k] = staticmethod(v)\n",
    "        return super(__class__, __class__).__new__(cls, name, parents, attrs)\n",
    "    def __call__(cls, *a, **k):\n",
    "        raise __class__.InstantiationError('cannot instantiate a staticclass')"
   ]
  },
  {
   "cell_type": "code",
   "execution_count": null,
   "metadata": {
    "collapsed": true
   },
   "outputs": [],
   "source": [
    "def flatten(*it):\n",
    "    for x in it:\n",
    "        try:\n",
    "            assert not isinstance(x, str)\n",
    "            yield from flatten(*x)\n",
    "        except (TypeError, AssertionError):\n",
    "            yield x"
   ]
  },
  {
   "cell_type": "markdown",
   "metadata": {},
   "source": [
    "** need to add to Kaggle ^**"
   ]
  },
  {
   "cell_type": "code",
   "execution_count": 71,
   "metadata": {
    "collapsed": true
   },
   "outputs": [],
   "source": [
    "def rolling_windows_axis0(a, size, step=1):\n",
    "    '''backward rolling window only\n",
    "    windows dimension will be appended to a.shape (available at index -1)'''\n",
    "    a_ext = np.concatenate(( np.full((step*(L-1),)+a.shape[1:],np.nan) ,a))\n",
    "    n = a_ext.strides[0]\n",
    "    strided = np.lib.stride_tricks.as_strided     \n",
    "    return strided(a_ext, shape=a.shape+(L,), strides=a_ext.strides+(step*n,))"
   ]
  },
  {
   "cell_type": "code",
   "execution_count": 72,
   "metadata": {},
   "outputs": [
    {
     "data": {
      "text/plain": [
       "array([[701, 349, 851, 487, 957],\n",
       "       [687,  53, 938, 757, 976],\n",
       "       [846, 573, 337, 116, 306],\n",
       "       [754, 541, 985, 415, 432],\n",
       "       [414,  53, 596,  22, 906],\n",
       "       [670, 741, 274, 473, 361],\n",
       "       [351, 522, 266, 662, 467],\n",
       "       [199, 179, 479, 398, 275]])"
      ]
     },
     "execution_count": 72,
     "metadata": {},
     "output_type": "execute_result"
    }
   ],
   "source": [
    "#a = (np.random.rand(8, 5)*1000).astype(int)\n",
    "#a"
   ]
  },
  {
   "cell_type": "code",
   "execution_count": 77,
   "metadata": {},
   "outputs": [
    {
     "data": {
      "text/plain": [
       "array([[  nan,   nan,  957.],\n",
       "       [  nan,   nan,  976.],\n",
       "       [  nan,  957.,  306.],\n",
       "       [  nan,  976.,  432.],\n",
       "       [ 957.,  306.,  906.],\n",
       "       [ 976.,  432.,  361.],\n",
       "       [ 306.,  906.,  467.],\n",
       "       [ 432.,  361.,  275.]])"
      ]
     },
     "execution_count": 77,
     "metadata": {},
     "output_type": "execute_result"
    }
   ],
   "source": [
    "#rolling_windows_1d(a, 3, step=2)[:, -1]"
   ]
  },
  {
   "cell_type": "code",
   "execution_count": 1,
   "metadata": {
    "collapsed": true
   },
   "outputs": [],
   "source": [
    "from collections import namedtuple\n",
    "\n",
    "NamedTuple = lambda typename, fields, values: namedtuple(typename, fields)(*values)"
   ]
  },
  {
   "cell_type": "code",
   "execution_count": null,
   "metadata": {
    "collapsed": true
   },
   "outputs": [],
   "source": [
    "def lens(*it):\n",
    "    return tuple(len(x) for x in it)\n",
    "def shapes(*arrs):\n",
    "    return tuple(x.shape for x in arrs)\n",
    "def sums(*it):\n",
    "    return tuple(sum(x) for x in it)"
   ]
  },
  {
   "cell_type": "code",
   "execution_count": null,
   "metadata": {
    "collapsed": true
   },
   "outputs": [],
   "source": [
    "offdiag = lambda a: a[np.where(~np.eye(a.shape[0],dtype=bool))]\n",
    "nonnans = lambda a: a[np.isfinite(a)]"
   ]
  },
  {
   "cell_type": "code",
   "execution_count": null,
   "metadata": {
    "collapsed": true
   },
   "outputs": [],
   "source": [
    "def shift(a, shift, axis=None):\n",
    "    '''Params - a: np.ndarray\n",
    "                shift: integer, + means entries moved to greater indices, - means entries moved to smaller indices\n",
    "                axis: one integer\n",
    "    Equivalent to pd.DataFrame.shift\n",
    "    '''\n",
    "    if axis is None:\n",
    "        assert len(a.shape)==1, \"Only an array of single dimension can be shifted without specifying axis\"\n",
    "        axis = 0\n",
    "    assert isinstance(axis, int)\n",
    "    if not shift:\n",
    "        return a\n",
    "    padding = (shift,0) if shift>0 else (0,-shift)\n",
    "    slicing = slice(None,-shift) if shift>0 else slice(-shift,None)\n",
    "    n = len(a.shape)\n",
    "    axis = n+axis if axis<0 else axis\n",
    "    ret = np.pad(a, ((0,0),)*axis+(padding,)+((0,0),)*(n-axis-1), mode='constant', constant_values=(np.nan,)*n)\n",
    "    ret = ret[(slice(None),)*axis + (slicing,) + (slice(None),)*(n-axis-1)]\n",
    "    return ret\n",
    "np.shift = shift"
   ]
  },
  {
   "cell_type": "code",
   "execution_count": null,
   "metadata": {
    "collapsed": true
   },
   "outputs": [],
   "source": [
    "def print_progress(i, dot=1, numdot=10):\n",
    "    print('.' if i // dot % numdot else i, end='', flush=True) if i % dot == 0 else None"
   ]
  },
  {
   "cell_type": "code",
   "execution_count": 26,
   "metadata": {
    "collapsed": true
   },
   "outputs": [],
   "source": [
    "from contextlib import contextmanager\n",
    "\n",
    "@contextmanager\n",
    "def let(**var):\n",
    "    '''Example usage:\n",
    "    >>> var1 = 50\n",
    "    >>> with let(var1=200, var2=33):\n",
    "    >>>   result = var1 + var2\n",
    "    >>> var1\n",
    "    50\n",
    "    >>> result\n",
    "    233\n",
    "    '''\n",
    "    class NotDefined():\n",
    "        pass\n",
    "    NDEF = NotDefined()\n",
    "    orig = {k: (globals()[k] if k in globals() else NDEF) for k in var}\n",
    "    globals().update(**var)\n",
    "    yield orig\n",
    "    globals().update(**orig)\n",
    "    \n",
    "@contextmanager\n",
    "def put(**var):\n",
    "    '''Example usage:\n",
    "    >>> var1 = 50\n",
    "    >>> with put(var1=200, var2=33):\n",
    "    >>>   result = var1 + var2\n",
    "    >>> var1\n",
    "    200\n",
    "    >>> var2\n",
    "    33\n",
    "    >>> result\n",
    "    233\n",
    "    '''\n",
    "    class NotDefined():\n",
    "        pass\n",
    "    NDEF = NotDefined()\n",
    "    orig = {k: (globals()[k] if k in globals() else NDEF) for k in var}\n",
    "    globals().update(**var)\n",
    "    yield orig"
   ]
  },
  {
   "cell_type": "code",
   "execution_count": 21,
   "metadata": {
    "collapsed": true
   },
   "outputs": [],
   "source": [
    "@property\n",
    "def _chain(self):\n",
    "    '''ready `self` for chaining a method that does a side effect but returns nothing. Example:\n",
    "    >>> df = pd.DataFrame({'hi': [1,2,3,4]}, index=[5,6,9,2])\n",
    "    >>> result = df.chain.sort_index(inplace=True)\n",
    "    # `result` is equivalent to `df.sort_index()`\n",
    "    '''\n",
    "    class Chain():\n",
    "        def __getattribute__(this, *args, **kw):\n",
    "            method = self.__getattribute__(*args, **kw)\n",
    "            @wraps(method)\n",
    "            def chained(*args, **kw):\n",
    "                method(*args, **kw)\n",
    "                return self\n",
    "            return chained\n",
    "    return Chain()\n",
    "pd.DataFrame.chain = _chain\n",
    "pd.Series.chain = _chain\n",
    "\n",
    "if __name__ == '__main__':\n",
    "    df = pd.DataFrame({'a':[9,np.nan,0],'b':[5,5,np.nan]})\n",
    "    test = df.chain.fillna(0, inplace=True)\n",
    "    assert test is df"
   ]
  },
  {
   "cell_type": "code",
   "execution_count": null,
   "metadata": {
    "collapsed": true
   },
   "outputs": [],
   "source": [
    "def rename(series, name):\n",
    "    '''rename `series` name to `name` and return `series`'''\n",
    "    series.name = name\n",
    "    return series\n",
    "pd.Series.rename = rename\n",
    "\n",
    "def colname_append(df, suffix, level=None):\n",
    "    '''Params - df: `DataFrame`\n",
    "                suffix: `str`\n",
    "                level: `int` of the column level at which to append label suffix. use only if `df` has multiindex column\n",
    "    Append `suffix` to the label names of `df` columns, at level `level` of multiindex if applicable'''\n",
    "    if level is None:\n",
    "        df.columns = df.columns + suffix\n",
    "    else:\n",
    "        df.columns = df.columns.set_levels(df.columns.levels[level] + suffix, level=level)\n",
    "    return df\n",
    "pd.DataFrame.colname_append = colname_append"
   ]
  },
  {
   "cell_type": "code",
   "execution_count": null,
   "metadata": {
    "collapsed": true
   },
   "outputs": [],
   "source": [
    "def repeat_like(small, df):\n",
    "    '''Params - small: `DataFrame`\n",
    "                df: `DataFrame`\n",
    "    Assume `small` has same shape as `df` with only the last dimension of column multiindex.\n",
    "    Repeats `small` columnwise until has shape as `df`.'''\n",
    "    ret = pd.concat([small] * prod(lvl.shape[0] for lvl in list(df.columns.levels)[:-1]), axis=1)\n",
    "    ret.columns = df.columns\n",
    "    return ret\n",
    "pd.DataFrame.repeat_like = repeat_like\n",
    "\n",
    "def wide_filter(df, filter):\n",
    "    '''Params - df: `DataFrame`\n",
    "                filter: boolean array\n",
    "    only handles `filter` being the -1 level of columns (TODO: handle all levels) and no labels being missing\n",
    "    from the `df.columns.levels` in the actual column labels.'''\n",
    "    if isinstance(df.columns, pd.MultiIndex):\n",
    "        return df.iloc[:, np.concatenate([filter] * prod(lvl.shape[0] for lvl in list(df.columns.levels)[:-1]))]\n",
    "    else:\n",
    "        return df.T[filter].T\n",
    "pd.DataFrame.wide_filter = wide_filter"
   ]
  },
  {
   "cell_type": "code",
   "execution_count": null,
   "metadata": {
    "collapsed": true
   },
   "outputs": [],
   "source": [
    "def only_nans(a):\n",
    "    '''`a` but with all non-NaN values replaced with 0'''\n",
    "    if isinstance(a, pd.DataFrame) or isinstance(a, pd.Series):\n",
    "        return a.isna().replace(True, np.nan)\n",
    "    else:\n",
    "        a = a.copy()\n",
    "        a[~np.isnan(a)] = 0\n",
    "        return a"
   ]
  },
  {
   "cell_type": "code",
   "execution_count": null,
   "metadata": {
    "collapsed": true
   },
   "outputs": [],
   "source": [
    "def broadcast(a, b, op):\n",
    "    ''' return `eval('a{}b'.format(op))`, with `a` and `b` transposed as necessary to carry out the op'''\n",
    "    magic = {'+': '__add__', '*': '__mul__'}\n",
    "    if not isinstance(a, pd.DataFrame):\n",
    "        assert isinstance(b, pd.DataFrame), 'one of `a` or `b` must be a `DataFrame`!'\n",
    "        a, b = b, a\n",
    "    try:\n",
    "        try:\n",
    "            return a.__getattribute__(magic[op])(b)\n",
    "        except ValueError:\n",
    "            return a.T.__getattribute__(magic[op])(b).T\n",
    "    except:\n",
    "        raise"
   ]
  },
  {
   "cell_type": "code",
   "execution_count": 2,
   "metadata": {
    "collapsed": true
   },
   "outputs": [],
   "source": [
    "def quantile_normal(a):\n",
    "    from scipy.stats import norm\n",
    "    return norm.ppf(a) + a * 0"
   ]
  },
  {
   "cell_type": "code",
   "execution_count": 2,
   "metadata": {
    "collapsed": true
   },
   "outputs": [],
   "source": [
    "def center(matrix):\n",
    "    '''Params - matrix: pandas.DataFrame without NaNs\n",
    "    Effectively returns C @ matrix @ C, where C is the centering matrix of appropriate dimensions.'''\n",
    "    assert not np.isnan(matrix).any().any()\n",
    "    demean = lambda x: x - x.mean()\n",
    "    return matrix.pipe(demean).T.pipe(demean).T"
   ]
  },
  {
   "cell_type": "code",
   "execution_count": null,
   "metadata": {
    "collapsed": true
   },
   "outputs": [],
   "source": [
    "def quantile_transform_old(X, positive=False):\n",
    "    '''Params - X: `DataFrame` of observations (has maybe NaNs), positive: (`bool`) if values are > 0 intrinsically\n",
    "    Return \"canonical\" use quantile transformed (per column) values for X\n",
    "    DEPRECIATED'''\n",
    "    bot = X.min().min() - 1 if not positive else 0\n",
    "    Y = X.append(pd.Series(bot, index=X.columns), ignore_index=True)\n",
    "    method = 'max' if positive else 'average'\n",
    "    pct = 1 - Y.rank(pct=True, ascending=False, method=method)\n",
    "    pct.drop(pct.index[-1], inplace=True)\n",
    "    pct.index = X.index\n",
    "    return pct\n",
    "\n",
    "def quantile_transform(X):\n",
    "    '''Params - X: `DataFrame` of observations (has maybe NaNs)\n",
    "    Return unbiased estimate of (cf German tank problem) quantile transformed (per column) values for X'''\n",
    "    themax = X.max().max()\n",
    "    themin = X.min().min()\n",
    "    top = themax + (themax - themin)\n",
    "    imin = X.index.min()\n",
    "    imax = X.index.max()\n",
    "    itop = imax + (imax - imin)\n",
    "    X.loc[itop] = pd.Series(top, index=X.columns)\n",
    "    try:\n",
    "        pct = X.rank(pct=True)\n",
    "    finally:\n",
    "        X.drop(X.index[-1], inplace=True)\n",
    "    pct.drop(pct.index[-1], inplace=True)\n",
    "    return pct\n",
    "pd.DataFrame.qtl = quantile_transform\n",
    "\n",
    "def quantile_transform_series(X):\n",
    "    '''Params - X: `Series` of observations (has maybe NaNs)\n",
    "    Return unbiased estimate of (cf German tank problem) quantile transformed values for X'''\n",
    "    themax = X.max().max()\n",
    "    themin = X.min().min()\n",
    "    top = themax + (themax - themin)\n",
    "    imin = X.index.min()\n",
    "    imax = X.index.max()\n",
    "    itop = imax + (imax - imin)\n",
    "    X.loc[itop] = top\n",
    "    try:\n",
    "        pct = X.rank(pct=True)\n",
    "    finally:\n",
    "        X.drop(X.index[-1], inplace=True)\n",
    "    pct.drop(pct.index[-1], inplace=True)\n",
    "    return pct\n",
    "pd.Series.qtl = quantile_transform_series\n",
    "\n",
    "#def weighted_percentile_transform(X, weights):\n",
    "#    W = weights[~X.isna()]\n",
    "#    Wsort = W.values_sort(X)\n",
    "#    rev = X.values.argsort(axis=0).argsort(axis=0)\n",
    "#    wavg, wsum = W.mean(), W.count()\n",
    "#    Wavg, Wsum = wavg.values[np.newaxis, :], wsum.values[np.newaxis, :]\n",
    "#    pct = (Wavg + Wsort.cumsum() - Wsort / 2) / (Wsum + Wavg * 2)\n",
    "#    pct = pct[rev, np.arange(pct.shape[1])]\n",
    "#    return pd.DataFrame(pct, index=X.index, columns=X.columns)\n",
    "\n",
    "#pd.DataFrame.pct = percentile_transform"
   ]
  },
  {
   "cell_type": "code",
   "execution_count": null,
   "metadata": {
    "collapsed": true
   },
   "outputs": [],
   "source": [
    "def values_sort(X, key=None, order=None):\n",
    "    '''Params - X: 2D array-like\n",
    "                key: 2D array-like same shape as `X`\n",
    "                order: 2D array-like of index ints (same shape)\n",
    "    Return values of `X` (as `ndarray`) sorted columnwise by the values of `key` or\n",
    "    according to `order` row indices (per each column). `key` is `X` by default unless `order` is specified.'''\n",
    "    assert key is None or order is None, '`key` and `order` cannot both be given'\n",
    "    assert not key.isna().any().any(), '`key` must not contain NaNs!'\n",
    "    if order is None and key is None:\n",
    "        key = X\n",
    "    if order is None:\n",
    "        if not isinstance(key, np.ndarray):\n",
    "            key = key.values\n",
    "        order = key.argsort(axis=0)\n",
    "    values = X\n",
    "    if not isinstance(X, np.ndarray):\n",
    "        values = values.values\n",
    "    return values[(order,) + ((np.arange(X.shape[1]),) if len(X.shape) > 1 else ())]\n",
    "\n",
    "pd.DataFrame.values_sort = values_sort\n",
    "pd.Series.values_sort = values_sort"
   ]
  },
  {
   "cell_type": "code",
   "execution_count": 160,
   "metadata": {},
   "outputs": [
    {
     "data": {
      "image/png": "[encoded data removed]",
      "text/plain": [
       "<matplotlib.figure.Figure at 0x7f66381e4198>"
      ]
     },
     "metadata": {},
     "output_type": "display_data"
    }
   ],
   "source": [
    "def lead_digit(x):\n",
    "    '''the leading decimal digit of `x`'''\n",
    "    return np.abs(x) // 10 ** (np.floor(np.log10(np.abs(x))))\n",
    "\n",
    "#lead_digit = np.vectorize(lead_digit)\n",
    "\n",
    "def plot_benford(a, *args, **kwargs):\n",
    "    benford = np.log10(1 + 1 / np.arange(1, 10))\n",
    "    ld = lead_digit(a)\n",
    "    plt.hist(ld[~np.isnan(ld)], bins=np.arange(0.5, 10))\n",
    "    plt.plot(np.arange(1, 10), benford * (~np.isnan(a)).sum())\n",
    "    \n",
    "if __name__ == '__main__':\n",
    "    %matplotlib inline\n",
    "    #plot_benford(np.random.exponential(size=1000))"
   ]
  },
  {
   "cell_type": "code",
   "execution_count": null,
   "metadata": {
    "collapsed": true
   },
   "outputs": [],
   "source": [
    "def feature_filter(x, feats):\n",
    "    import re\n",
    "    return x[[c for c in x.columns if any(re.match('{0}\\W|{0}$'.format(f), c) for f in feats)]]"
   ]
  }
 ],
 "metadata": {
  "kernelspec": {
   "display_name": "Python 3",
   "language": "python",
   "name": "python3"
  },
  "language_info": {
   "codemirror_mode": {
    "name": "ipython",
    "version": 3
   },
   "file_extension": ".py",
   "mimetype": "text/x-python",
   "name": "python",
   "nbconvert_exporter": "python",
   "pygments_lexer": "ipython3",
   "version": "3.6.2"
  }
 },
 "nbformat": 4,
 "nbformat_minor": 2
}
