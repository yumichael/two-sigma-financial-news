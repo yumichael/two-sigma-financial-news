{
 "cells": [
  {
   "cell_type": "code",
   "execution_count": null,
   "metadata": {
    "collapsed": true
   },
   "outputs": [],
   "source": [
    "from pathlib import Path"
   ]
  },
  {
   "cell_type": "code",
   "execution_count": null,
   "metadata": {
    "collapsed": true
   },
   "outputs": [],
   "source": [
    "class logger():\n",
    "    def __init__(self, prefix=None, *, print=print, file=None, display=True):\n",
    "        self.print = print\n",
    "        \n",
    "        if not isinstance(print, __class__): # print is the raw print\n",
    "            self._queue = []\n",
    "        else: # print is another logger\n",
    "            assert file is None, '`file` cannot be given if logger is a sublogger of another logger'\n",
    "            \n",
    "        if isinstance(file, str) or isinstance(file, Path):\n",
    "            self.file = open(file, 'w')\n",
    "        else: # can only assume file is either an actual file or None\n",
    "            self.file = file\n",
    "            \n",
    "        self.prefix = prefix\n",
    "        \n",
    "        self.display = display\n",
    "        \n",
    "    def queue(self, *a, caller=None, **k):\n",
    "        if caller is None:\n",
    "            caller = self\n",
    "        \n",
    "        if isinstance(self.print, __class__):\n",
    "            self.print.queue(*a, caller=caller, **k)\n",
    "        else:\n",
    "            self._queue.append((caller, a, k))\n",
    "        \n",
    "    def __call__(self, *a, display=None, file=None, **k):\n",
    "        display = self.display if display is None else display\n",
    "        file = self.file if file is None else file\n",
    "        \n",
    "        prepend = () if self.prefix is None else (self.prefix,)\n",
    "        \n",
    "        if file is None or file:\n",
    "            if isinstance(self.print, __class__):\n",
    "                k['display'] = False\n",
    "            self.print(*(prepend+a), file=file, **k)\n",
    "        \n",
    "        if display is None or display:\n",
    "            if isinstance(self.print, __class__):\n",
    "                k['display'] = True\n",
    "                k['file'] = False\n",
    "            self.print(*(prepend+a), **k)\n",
    "            \n",
    "        self.dequeue()\n",
    "        \n",
    "    def dequeue(self):\n",
    "        if hasattr(self, '_queue') and self._queue:\n",
    "            queue = self._queue\n",
    "            self._queue = [] # important to avoid infinite recursion when calling self\n",
    "            for caller, a_, k_ in queue:\n",
    "                caller(*a_, **k_)\n",
    "                \n",
    "    def logger(self, prefix=None, **k):\n",
    "        return __class__(print=self, prefix=prefix, **k)\n",
    "    \n",
    "    def __del__(self):\n",
    "        if self.file is not None:\n",
    "            self.file.close()"
   ]
  }
 ],
 "metadata": {
  "kernelspec": {
   "display_name": "Python 3",
   "language": "python",
   "name": "python3"
  },
  "language_info": {
   "codemirror_mode": {
    "name": "ipython",
    "version": 3
   },
   "file_extension": ".py",
   "mimetype": "text/x-python",
   "name": "python",
   "nbconvert_exporter": "python",
   "pygments_lexer": "ipython3",
   "version": "3.6.2"
  }
 },
 "nbformat": 4,
 "nbformat_minor": 2
}
