{
 "cells": [
  {
   "cell_type": "markdown",
   "metadata": {},
   "source": [
    "# definitely not production code"
   ]
  },
  {
   "cell_type": "markdown",
   "metadata": {},
   "source": [
    "hashtags: #edit #kill #todo #note #float32 #new #del 1/0"
   ]
  },
  {
   "cell_type": "markdown",
   "metadata": {},
   "source": [
    "debug vars: SEE DEBUG TEST PROD BUG"
   ]
  },
  {
   "cell_type": "code",
   "execution_count": 1,
   "metadata": {
    "collapsed": true
   },
   "outputs": [],
   "source": [
    "# from common import *\n",
    "# from pandas.api.types import CategoricalDtype\n",
    "# import warnings \n",
    "# warnings.filterwarnings('ignore')\n",
    "# %matplotlib inline\n",
    "# canvas(12,12)"
   ]
  },
  {
   "cell_type": "code",
   "execution_count": 2,
   "metadata": {
    "collapsed": true
   },
   "outputs": [],
   "source": [
    "# ho_time = pd.Timestamp('2015-07-01',tz='UTC')\n",
    "\n",
    "# def fake(*,M,N):\n",
    "#     M_, N_ = M, N\n",
    "#     for time, M in M_.groupby('time'):\n",
    "#         if time<ho_time:\n",
    "#             continue\n",
    "#         M['quarter'] = M.time.dt.year+(M.time.dt.quarter-1)/4\n",
    "#         P = M[excluded_columns]\n",
    "#         M = M.drop(columns=['returnsOpenNextMktres10','quarter'])\n",
    "#         P['confidenceValue'] = 0.\n",
    "#         yield M, None, P"
   ]
  },
  {
   "cell_type": "code",
   "execution_count": 3,
   "metadata": {
    "collapsed": true
   },
   "outputs": [],
   "source": [
    "# from common import *"
   ]
  },
  {
   "cell_type": "markdown",
   "metadata": {},
   "source": [
    "### important devops code"
   ]
  },
  {
   "cell_type": "code",
   "execution_count": 4,
   "metadata": {
    "collapsed": true
   },
   "outputs": [],
   "source": [
    "TEST = False"
   ]
  },
  {
   "cell_type": "markdown",
   "metadata": {},
   "source": [
    "# #################################################### START HERE"
   ]
  },
  {
   "cell_type": "code",
   "execution_count": 5,
   "metadata": {
    "collapsed": true
   },
   "outputs": [],
   "source": [
    "import pandas as pd\n",
    "M = pd.read_pickle('../data/given/M.pkl') # market obs\n",
    "N = None #pd.read_pickle('../data/given/N.pkl') # news\n",
    "#test = pd.read_pickle('../data/given/test.pkl')"
   ]
  },
  {
   "cell_type": "code",
   "execution_count": 6,
   "metadata": {
    "collapsed": true
   },
   "outputs": [],
   "source": [
    "def _make_env():\n",
    "    '''this creates a testing version of the actual env from Kaggle kernels'''\n",
    "    class __env__():\n",
    "        _submitted = []\n",
    "        # -1 = begin, 0 = just yielded, 1 = just predicted, -2 = finished, -3 = finished and submission file written too\n",
    "        _states = [-1]\n",
    "\n",
    "        class KaggleEnvError(Exception):\n",
    "            pass\n",
    "\n",
    "        @staticmethod\n",
    "        def get_training_data():\n",
    "            global N\n",
    "            try:\n",
    "                return M, N\n",
    "            except NameError:\n",
    "                return M, None\n",
    "\n",
    "        @staticmethod\n",
    "        def get_prediction_days():\n",
    "            env = __class__\n",
    "\n",
    "            class iter_get_prediction_days():\n",
    "                def __iter__(self):\n",
    "                    if env._states[-1] != -1:\n",
    "                        raise env.KaggleEnvError('can only call get_prediction_days once!')\n",
    "                    \n",
    "                    global test\n",
    "                    test = pd.read_pickle('../data/given/test.pkl')\n",
    "                    env._days_iter = test.__iter__()\n",
    "                    return self\n",
    "\n",
    "                def __next__(self):\n",
    "                    if env._states[-1] == 0:\n",
    "                        raise env.KaggleEnvError('can only yield next day after the previous day was submitted')\n",
    "                    elif env._states[-1] not in [-1, 1, -2, -3]:\n",
    "                        raise env.KaggleEnvError(\n",
    "                            'environment internal error [bad state {} for __next__]'.format(env._states[-1]))\n",
    "\n",
    "                    try:\n",
    "                        ret = env._days_iter.__next__()\n",
    "                    except StopIteration:\n",
    "                        if env._states[-1] not in [-2, -3]:\n",
    "                            env._states.append(-2)\n",
    "                        raise\n",
    "\n",
    "                    env._states.append(0)\n",
    "                    return ret\n",
    "\n",
    "            return iter_get_prediction_days()\n",
    "\n",
    "        @staticmethod\n",
    "        def predict(p):\n",
    "            env = __class__\n",
    "            if env._states[-1] == 1:\n",
    "                raise env.KaggleEnvError('must get next prediction day before submitting a prediction again')\n",
    "            elif env._states[-1] == -1:\n",
    "                raise env.KaggleEnvError('must get next prediction day before submitting a prediction')\n",
    "            elif env._states[-1] in [-2, -3]:\n",
    "                raise env.KaggleEnvError('cannot submit prediction, every prediction has already been submitted')\n",
    "            elif env._states[-1] != 0:\n",
    "                raise env.KaggleEnvError('environment internal error [bad state {}]'.format(env._states[-1]))\n",
    "            env._submitted.append(p)\n",
    "            env._states.append(1)\n",
    "\n",
    "        @staticmethod\n",
    "        def write_submission_file():\n",
    "            env = __class__\n",
    "            if env._states[-1] not in [-2, -3]:\n",
    "                raise env.KaggleEnvError('must be finished predicting before writing submission file')\n",
    "\n",
    "            template = pd.concat((day[2] for day in test), axis=0)\n",
    "            try:\n",
    "                submission = pd.concat((sub for sub in env._submitted), axis=0)\n",
    "                assert (template.shape==submission.shape), 'submissions have malformed shape'\n",
    "                assert (template.index==submission.index).all(), 'submissions have malformed index'\n",
    "                assert (template.columns==submission.columns).all(), 'submissions have malformed columns'\n",
    "                assert (template.assetCode==submission.assetCode).all(), 'submissions have malformed assetCode column'\n",
    "            except Exception as e:\n",
    "                raise env.KaggleEnvError(e)\n",
    "\n",
    "            env._submission = submission\n",
    "            if env._states[-1] != -3:\n",
    "                env._states.append(-3)\n",
    "            print('''Your submission file has been saved. Once you `Commit` your Kernel and it finishes running, '''+\n",
    "                    '''you can submit the file to the competition from the Kernel Viewer `Output` tab.''')\n",
    "    return __env__"
   ]
  },
  {
   "cell_type": "code",
   "execution_count": 7,
   "metadata": {
    "collapsed": true
   },
   "outputs": [],
   "source": [
    "__env__ = _make_env()"
   ]
  },
  {
   "cell_type": "markdown",
   "metadata": {},
   "source": [
    "# +++++++++++++++++++++ production additions ++++++++++++++++++++++"
   ]
  },
  {
   "cell_type": "markdown",
   "metadata": {},
   "source": [
    "### imports"
   ]
  },
  {
   "cell_type": "code",
   "execution_count": 8,
   "metadata": {
    "collapsed": true
   },
   "outputs": [],
   "source": [
    "import numpy as np\n",
    "import pandas as pd\n",
    "\n",
    "import random, math, functools, itertools, os, gc\n",
    "from collections import Counter, namedtuple\n",
    "\n",
    "import matplotlib as mpl\n",
    "import matplotlib.pyplot as plt\n",
    "import seaborn as sns\n",
    "#import altair as alt\n",
    "#from altair import *\n",
    "#sns.set()\n",
    "plt.style.use(['classic', 'seaborn', 'seaborn-colorblind'])\n",
    "\n",
    "def canvas(width, height):\n",
    "    dpi = 96\n",
    "    from pylab import rcParams\n",
    "    rcParams['figure.figsize'] = width, height\n",
    "    \n",
    "import lightgbm as lgb\n",
    "import numba\n",
    "from numba import njit"
   ]
  },
  {
   "cell_type": "markdown",
   "metadata": {},
   "source": [
    "### `utility.py`"
   ]
  },
  {
   "cell_type": "code",
   "execution_count": 9,
   "metadata": {
    "collapsed": true
   },
   "outputs": [],
   "source": [
    "from itertools import chain\n",
    "from importlib import reload\n",
    "from functools import wraps, reduce, lru_cache\n",
    "memoized = lru_cache(maxsize=-1, typed=False)"
   ]
  },
  {
   "cell_type": "code",
   "execution_count": 10,
   "metadata": {
    "collapsed": true
   },
   "outputs": [],
   "source": [
    "def inside(cls, name=None):\n",
    "    '''decorator with one argument that sets the decorated as an attribute of the argument.\n",
    "    also optional argument `name` exists for assigning things that don't automatically get __name__ attribute attached'''\n",
    "    def put_inside(a):\n",
    "        nonlocal name\n",
    "        name = name if name is not None else a.__name__\n",
    "        setattr(cls, name, a)\n",
    "        return a\n",
    "    return put_inside"
   ]
  },
  {
   "cell_type": "markdown",
   "metadata": {},
   "source": [
    "### `object.py`"
   ]
  },
  {
   "cell_type": "code",
   "execution_count": 11,
   "metadata": {
    "collapsed": true
   },
   "outputs": [],
   "source": [
    "# This cell implements Namespace objects. Read the README here https://github.com/yumichael/pytil\n",
    "\n",
    "import collections\n",
    "\n",
    "def _mydict_init_items_(*args, **kwargs):\n",
    "    items = ()\n",
    "    if len(args) == 3:\n",
    "        space = args[2]\n",
    "        for k in list(space.keys()):\n",
    "            if str.startswith(k, '__') and str.endswith(k, '__'):\n",
    "                del space[k]\n",
    "        items = space.items()\n",
    "    elif args and isinstance(args[0], collections.Mapping):\n",
    "        items = args[0].items()\n",
    "    elif args and isinstance(args[0], collections.Iterable):\n",
    "        items = args[0]\n",
    "    if kwargs:\n",
    "        items = chain(items, kwargs.items())\n",
    "    return items\n",
    "\n",
    "def _mydict_pretty_factory_(start='{', end='}', relater=': ', delimiter=',',\n",
    "                            key_action=lambda p, k: p.pretty(k), base=None):\n",
    "    def _repr_pretty_(obj, p, cycle):\n",
    "        nonlocal start, end, relater, delimiter, key_action, base\n",
    "        typ = type(obj)\n",
    "\n",
    "        beginning = typ.__name__ + '(' + start\n",
    "        ending = end + \")\"\n",
    "\n",
    "        if typ is not base and typ.__repr__ != base.__repr__:\n",
    "            # If the subclass provides its own repr, use it instead.\n",
    "            return p.text(typ.__repr__(obj))\n",
    "\n",
    "        if cycle:\n",
    "            return p.text(beginning + '...' + ending)\n",
    "        p.begin_group(1, beginning)\n",
    "        keys = typ.keys(obj)\n",
    "        # if dict isn't large enough to be truncated,\n",
    "        #   sort keys before displaying\n",
    "        if not (p.max_seq_length and len(obj) >= p.max_seq_length):\n",
    "            try:\n",
    "                keys = sorted(keys)\n",
    "            except Exception:\n",
    "                # Sometimes the keys don't sort.\n",
    "                pass\n",
    "        for idx, key in p._enumerate(keys):\n",
    "            if idx:\n",
    "                p.text(delimiter)\n",
    "                p.breakable()\n",
    "            key_action(p, key)\n",
    "            p.text(relater)\n",
    "            p.pretty(obj[key])\n",
    "        p.end_group(1, ending)\n",
    "    return _repr_pretty_\n",
    "\n",
    "def add_mydict_pprinter(*args, **kwargs):\n",
    "    def decorator(cls):\n",
    "        kwds = dict(kwargs)\n",
    "        kwds['base'] = cls\n",
    "        cls._repr_pretty_ = _mydict_pretty_factory_(*args, **kwds)\n",
    "        return cls\n",
    "    return decorator\n",
    "\n",
    "\n",
    "class DefaultSlots(type):\n",
    "    def __new__(meta, name, bases, attrs):\n",
    "        if '__slots__' not in attrs:\n",
    "            attrs['__slots__'] = ()\n",
    "        return super().__new__(meta, name, bases, attrs)\n",
    "\n",
    "@add_mydict_pprinter()\n",
    "class DictObject(dict, metaclass=DefaultSlots):\n",
    "    def __init__(self, *args, **kwargs):\n",
    "        data = ((k, v) for k, v in _mydict_init_items_(*args, **kwargs))\n",
    "        super().__init__(data)\n",
    "    \n",
    "    def __repr__(self):\n",
    "        return \"{}({})\".format(type(self).__name__, super().__repr__())\n",
    "\n",
    "    \n",
    "    def __getattribute__(self, name):\n",
    "        try:\n",
    "            return self[name]\n",
    "        except KeyError:\n",
    "            errstr = \"'{}' object has no attribute '{}'\"\n",
    "            raise AttributeError(errstr.format(type(self).__name__, name))\n",
    "\n",
    "    def __setattr__(self, name, value):\n",
    "        self[name] = value\n",
    "\n",
    "    def __delattr__(self, name):\n",
    "        try:\n",
    "            del self[name]\n",
    "        except KeyError:\n",
    "            raise AttributeError(name)\n",
    "\n",
    "@add_mydict_pprinter('', '', '=', ',', lambda p, k: p.text(k))\n",
    "class Namespace(DictObject):\n",
    "    def __init__(self, *args, **kwargs):\n",
    "        items = _mydict_init_items_(*args, **kwargs)\n",
    "        data = ((k, v) for k, v in items if isinstance(k, str))\n",
    "        super(__class__, type(self)).__init__(self, data)\n",
    "\n",
    "    def __setattr__(self, name, value):\n",
    "        if not isinstance(name, str):\n",
    "            errstr = \"{} is not a valid attribute name identifier\"\n",
    "            raise ValueError(errstr.format(name))\n",
    "        self[name] = value\n",
    "\n",
    "    def __repr__(self):\n",
    "        attach = __class__.__repr__\n",
    "        is_orig = False\n",
    "        if not hasattr(attach, '_seen'):\n",
    "            is_orig = True\n",
    "            attach._seen = {}\n",
    "        elif id(self) in attach._seen:\n",
    "            return type(self).__name__ + \"(...)\"\n",
    "        attach._seen[id(self)] = self\n",
    "        try:\n",
    "            it = type(self).items(self)\n",
    "            body = ', '.join(\"{}={}\".format(a, repr(v)) for a, v in it)\n",
    "            return \"{}({})\".format(type(self).__name__, body)\n",
    "        finally:\n",
    "            del attach._seen[id(self)]\n",
    "            if is_orig:\n",
    "                del attach._seen\n",
    "\n",
    "    def mycopy(self, copied={}):\n",
    "        is_orig = not copied\n",
    "        selfc = copied[id(self)] = type(self)()\n",
    "        for key, obj in type(self).items(self):\n",
    "            if isinstance(obj, __class__):\n",
    "                if id(obj) in copied:\n",
    "                    selfc[key] = copied[id(obj)]\n",
    "                else:\n",
    "                    selfc[key] = type(obj).mycopy(obj, copied=copied)\n",
    "            else:\n",
    "                selfc[key] = obj\n",
    "        if is_orig:\n",
    "            copied.clear()\n",
    "        return selfc\n",
    "    \n",
    "    py = lambda o: {str(k): v for k, v in dict.items(o)}\n",
    "\n",
    "def copy(obj):\n",
    "    assert isinstance(obj, Namespace)\n",
    "    return type(obj).mycopy(obj)\n",
    "\n",
    "########################################################################\n",
    "O = Namespace\n",
    "Namespace.__name__ = '<>'\n",
    "\n",
    "class NamedNamespace(Namespace):\n",
    "    def __init__(self, *args, **kwargs):\n",
    "        super().__init__(*args, **kwargs)\n",
    "        if len(args) == 3:\n",
    "            self.__name__ = args[0]\n",
    "    def __repr__(self):\n",
    "        attach = __class__.__repr__\n",
    "        is_orig = False\n",
    "        if not hasattr(attach, '_seen'):\n",
    "            is_orig = True\n",
    "            attach._seen = {}\n",
    "        elif id(self) in attach._seen:\n",
    "            return f\"<{self.__name__}>(...)\"\n",
    "        attach._seen[id(self)] = self\n",
    "        try:\n",
    "            it = type(self).items(self)\n",
    "            body = ', '.join(\"{}={}\".format(a, repr(v)) for a, v in it if a != '__name__')\n",
    "            return f\"<{self.__name__}>({body})\"\n",
    "        finally:\n",
    "            del attach._seen[id(self)]\n",
    "            if is_orig:\n",
    "                del attach._seen\n",
    "NamedO = NamedNamespace\n",
    "NamedO.__name__ = '<>'"
   ]
  },
  {
   "cell_type": "markdown",
   "metadata": {},
   "source": [
    "### `combos.py`"
   ]
  },
  {
   "cell_type": "code",
   "execution_count": 12,
   "metadata": {
    "collapsed": true
   },
   "outputs": [],
   "source": [
    "# mostly ignore this cell, it's only here because it would be annoying to rework one bit of feature generation code to not\n",
    "# use the code here\n",
    "\n",
    "import itertools\n",
    "import functools\n",
    "import math\n",
    "import operator\n",
    "\n",
    "\n",
    "def binom(n, k):\n",
    "    k = min(k, n - k)\n",
    "    return functools.reduce(lambda a, b: a * (n - b) // (b + 1), range(k), 1)\n",
    "\n",
    "\n",
    "@memoized\n",
    "def consecutive_1s(n):\n",
    "    s = n * (n + 1) // 2\n",
    "    c = np.zeros([s, n], dtype=np.int8)\n",
    "    t = 0\n",
    "    for i in range(n):\n",
    "        for j in range(i + 1, n + 1):\n",
    "            for k in range(i, j):\n",
    "                c[t, k] = 1\n",
    "            t += 1\n",
    "    return c\n",
    "\n",
    "\n",
    "@memoized\n",
    "def one_minus_one(n):\n",
    "    s = n * (n - 1) // 2\n",
    "    c = np.zeros([s, n], dtype=np.int8)\n",
    "    t = 0\n",
    "    for i in range(n):\n",
    "        for j in range(i + 1, n):\n",
    "            c[t, i] = 1\n",
    "            c[t, j] = -1\n",
    "            t += 1\n",
    "    return c\n",
    "\n",
    "\n",
    "@memoized\n",
    "def one_minus_one_skip_by_k(n, k):\n",
    "    m = math.ceil(n / k)\n",
    "    s = m * (m - 1) // 2\n",
    "    c = np.zeros([s, n], dtype=np.int8)\n",
    "    t = 0\n",
    "    for i in range(0,n,k):\n",
    "        for j in range(i + k, n, k):\n",
    "            c[t, i] = 1\n",
    "            c[t, j] = -1\n",
    "            t += 1\n",
    "    return c\n",
    "\n",
    "\n",
    "\n",
    "\n",
    "@memoized\n",
    "def int_coefficients_mod_sign(n, m, duplicates=True):\n",
    "    guys = []\n",
    "    path = [0]\n",
    "    while True:\n",
    "        while True:\n",
    "            if not path:\n",
    "                return np.stack(guys, axis=0) if guys else np.ndarray([0, n], dtype=np.int8)\n",
    "            path[-1] += 1\n",
    "            if path[-1] == 0:\n",
    "                path[-1] += 1\n",
    "            if path[-1] > m:\n",
    "                path.pop()\n",
    "                continue\n",
    "            if len(path) == n:\n",
    "                break\n",
    "            path.append(-m - 1)\n",
    "        if duplicates or functools.reduce(math.gcd, path) == 1:\n",
    "            guys.append(np.asarray(path, dtype=np.int8))\n",
    "\n",
    "\n",
    "@memoized\n",
    "def up_to_m_int_coefficients_mod_sign(n, m, h, duplicates=True):\n",
    "    guys = []\n",
    "    ident = np.eye(n, dtype=np.int8)\n",
    "    for k in range(1, m + 1):\n",
    "        for x_list in itertools.combinations(ident, k):\n",
    "            for sc in int_coefficients_mod_sign(k, h, duplicates):\n",
    "                guy = sum(x * b for b, x in zip(sc, x_list))\n",
    "                guys.append(guy)\n",
    "    return np.stack(guys, axis=0).astype(np.int8, copy=False)\n",
    "\n",
    "\n",
    "@memoized\n",
    "def consecutive_k_1s(m,k):\n",
    "    assert m%k==0, 'consecutive_k_1s argument m must be divisible by argument k'\n",
    "    n = m // k\n",
    "    s = n * (n + 1) // 2\n",
    "    c = np.zeros([s, k*n], dtype=np.int8)\n",
    "    t = 0\n",
    "    for i in range(0,k*n,k):\n",
    "        for j in range(i + k, k*n + 1, k):\n",
    "            for l in range(i, j):\n",
    "                c[t, l] = 1\n",
    "            t += 1\n",
    "    return c\n",
    "\n",
    "\n",
    "class name(metaclass=O):\n",
    "    def index(c):\n",
    "        assert len(c) < 16\n",
    "        pos, neg = [], []\n",
    "        for i, a in enumerate(c):\n",
    "            assert isinstance(a, np.integer) or isinstance(a, int)\n",
    "            if a != 0:\n",
    "                arr = pos if a > 0 else neg\n",
    "                arr += [i] * abs(a)\n",
    "        strpos = ''.join(hex(i)[2:] for i in pos)\n",
    "        strneg = ''.join(hex(i)[2:] for i in neg)\n",
    "        if not neg:\n",
    "            return strpos\n",
    "        else:\n",
    "            return strpos+'/'+strneg\n",
    "    def consec(c):\n",
    "        assert c.any() and (c!=np.shift(c,-1))[:-1].sum()<=2 # c switches from 0 to something then to 0, or switch less\n",
    "        nonzero = c.nonzero()[0]\n",
    "        i, j = nonzero[0], nonzero[-1]\n",
    "        return '({}..{})^{}'.format(i,j,c[i])\n",
    "\n",
    "\n",
    "def union(*cbs):\n",
    "    assert all(cb.shape[1] == cbs[0].shape[1] for cb in cbs)\n",
    "    seen, the = set(), []\n",
    "    for cb in cbs:\n",
    "        for c in cb:\n",
    "            if tuple(c) not in seen:\n",
    "                the.append(c)\n",
    "                seen.update([tuple(c), tuple(-c)])\n",
    "    return np.stack(the)\n",
    "    \n",
    "    \n",
    "class combos(metaclass=O):\n",
    "    name = name\n",
    "    union = union\n",
    "    c1co = consecutive_1s #(n)\n",
    "    ckco = consecutive_k_1s #(n)\n",
    "    mintco = lambda n, m, h: up_to_m_int_coefficients_mod_sign(n, m, h, False) #(n, m=<max # !=0 coefs>, <max |coef|>)\n",
    "    omo = one_minus_one\n",
    "    omok = one_minus_one_skip_by_k"
   ]
  },
  {
   "cell_type": "markdown",
   "metadata": {},
   "source": [
    "### `helper.ipynb`"
   ]
  },
  {
   "cell_type": "code",
   "execution_count": 13,
   "metadata": {
    "collapsed": true
   },
   "outputs": [],
   "source": [
    "def lens(*it):\n",
    "    return tuple(len(x) for x in it)\n",
    "def shapes(*arrs):\n",
    "    return tuple(x.shape for x in arrs)\n",
    "def sums(*it):\n",
    "    return tuple(sum(x) for x in it)"
   ]
  },
  {
   "cell_type": "code",
   "execution_count": 14,
   "metadata": {
    "collapsed": true
   },
   "outputs": [],
   "source": [
    "def shift(a, shift, axis=None):\n",
    "    '''Params - a: np.ndarray\n",
    "                shift: integer, + means entries moved to greater indices, - means entries moved to smaller indices\n",
    "                axis: one integer\n",
    "    Equivalent to pd.DataFrame.shift\n",
    "    '''\n",
    "    if axis is None:\n",
    "        assert len(a.shape)==1, \"Only an array of single dimension can be shifted without specifying axis\"\n",
    "        axis = 0\n",
    "    assert isinstance(axis, int) and isinstance(shift, int)\n",
    "    if not shift:\n",
    "        return a\n",
    "    padding = (shift,0) if shift>0 else (0,-shift)\n",
    "    slicing = slice(None,-shift) if shift>0 else slice(-shift,None)\n",
    "    n = len(a.shape)\n",
    "    axis = n+axis if axis<0 else axis\n",
    "    ret = np.pad(a, ((0,0),)*axis+(padding,)+((0,0),)*(n-axis-1), mode='constant', constant_values=(np.nan,))\n",
    "    ret = ret[(slice(None),)*axis + (slicing,) + (slice(None),)*(n-axis-1)]\n",
    "    return ret\n",
    "np.shift = shift"
   ]
  },
  {
   "cell_type": "code",
   "execution_count": 15,
   "metadata": {
    "collapsed": true
   },
   "outputs": [],
   "source": [
    "def print_progress(i, dot=1, numdot=10):\n",
    "    '''prints dots (.) on loop index at `dot` intervals and prints the actual index on `dot*numdot` intervals'''\n",
    "    print('.' if i // dot % numdot else i, end='', flush=True) if i % dot == 0 else None"
   ]
  },
  {
   "cell_type": "code",
   "execution_count": 16,
   "metadata": {
    "collapsed": true
   },
   "outputs": [],
   "source": [
    "offdiag = lambda a: a[np.where(~np.eye(a.shape[0],dtype=bool))]\n",
    "nonnans = lambda a: a[np.isfinite(a)]\n",
    "plist = lambda a, **kw: print('['+','.join(str(x) for x in a)+']', **kw)"
   ]
  },
  {
   "cell_type": "code",
   "execution_count": 17,
   "metadata": {
    "collapsed": true
   },
   "outputs": [],
   "source": [
    "def rolling_window_axis0(a, size, step=1):\n",
    "    '''backward rolling window only\n",
    "    windows dimension will be appended to a.shape (available at index -1)'''\n",
    "    a_ext = np.concatenate(( np.full((step*(size-1),)+a.shape[1:],np.nan), a), axis=0)\n",
    "    n = a_ext.strides[0]\n",
    "    strided = np.lib.stride_tricks.as_strided     \n",
    "    return strided(a_ext, shape=a.shape+(size,), strides=a_ext.strides+(step*n,))"
   ]
  },
  {
   "cell_type": "code",
   "execution_count": 18,
   "metadata": {
    "collapsed": true
   },
   "outputs": [],
   "source": [
    "def only_nans(a):\n",
    "    '''Assume `a` either pd.DataFrame, pd.Series, or np.ndarray\n",
    "    `a` but with all non-NaN values replaced with 0'''\n",
    "    if isinstance(a, pd.DataFrame) or isinstance(a, pd.Series):\n",
    "        return a.isna().replace(True, np.nan)\n",
    "    else:\n",
    "        a = a.copy()\n",
    "        a[~np.isnan(a)] = 0\n",
    "        return a"
   ]
  },
  {
   "cell_type": "code",
   "execution_count": 19,
   "metadata": {
    "collapsed": true
   },
   "outputs": [],
   "source": [
    "def wmean(a, weights, axis=0):\n",
    "    '''Params - a: either a {observations}x{features} `DataFrame`/`ndarray` or a 1D `ndarray`\n",
    "                weights: weights of same shape as `a` or else broadcastable to `a`\n",
    "    Weighted mean, with `a.shape` minus the {observations} dimension.'''\n",
    "    w = weights + only_nans(a) #broadcast(weights, only_nans(a), '+')\n",
    "    return np.nansum(a * w, axis=axis) / np.nansum(w, axis=axis)\n",
    "pd.DataFrame.wmean = wmean\n",
    "pd.Series.wmean = wmean"
   ]
  },
  {
   "cell_type": "code",
   "execution_count": 20,
   "metadata": {
    "collapsed": true
   },
   "outputs": [],
   "source": [
    "class staticclass(type):\n",
    "    '''The staticclass metatype. Use as a metaclass. Will make your class methods static by default.'''\n",
    "    class InstantiationError(Exception):\n",
    "        pass\n",
    "    def __new__(cls, name, parents, attrs):\n",
    "        for k, v in list(dict.items(attrs)):\n",
    "            if not isinstance(v, staticmethod) and callable(v):\n",
    "                attrs[k] = staticmethod(v)\n",
    "        return super(__class__, __class__).__new__(cls, name, parents, attrs)\n",
    "    def __call__(cls, *a, **k):\n",
    "        raise __class__.InstantiationError('cannot instantiate a staticclass')"
   ]
  },
  {
   "cell_type": "code",
   "execution_count": 21,
   "metadata": {
    "collapsed": true
   },
   "outputs": [],
   "source": [
    "def ffill_axis0(arr):\n",
    "    '''Forward fill your np.ndarray along the index 0 axis'''\n",
    "    n = len(arr.shape)\n",
    "    mask = np.isnan(arr)\n",
    "    idx = np.where(~mask, np.arange(mask.shape[0])[(slice(None),)+(np.newaxis,)*(n-1)], 0)\n",
    "    np.maximum.accumulate(idx,axis=0, out=idx)\n",
    "    out = arr[(idx,) + tuple(\n",
    "        np.arange(idx.shape[i])[(np.newaxis,)*i+(slice(None),)+(np.newaxis,)*(n-1-i)] for i in range(1, n)\n",
    "    ) ]\n",
    "    return out"
   ]
  },
  {
   "cell_type": "code",
   "execution_count": 22,
   "metadata": {
    "collapsed": true
   },
   "outputs": [],
   "source": [
    "stringify_list = lambda a: '[\"'+'\",\"'.join(str(x) for x in a)+'\"]'"
   ]
  },
  {
   "cell_type": "markdown",
   "metadata": {},
   "source": [
    "don't forget the others didn't import in `helper.py`"
   ]
  },
  {
   "cell_type": "markdown",
   "metadata": {},
   "source": [
    "### helper code but only for this project"
   ]
  },
  {
   "cell_type": "code",
   "execution_count": 23,
   "metadata": {
    "collapsed": true
   },
   "outputs": [],
   "source": [
    "# this cell's code is for scrambling a categorical (int) column\n",
    "# basically creates \"random numbers\". just an idea I had where I wanted to get \"random\" but deterministic assetCodeIds\n",
    "\n",
    "@njit\n",
    "def shiftWrap32(num, shift):\n",
    "    d = np.uint8(32)\n",
    "    n = np.uint32(num & 0xFFFFFFFF) # coerce num to a int32 value\n",
    "    i = np.uint8(shift % d) # coerce shift to a int8 value\n",
    "    return np.uint32(n << i) | np.uint32(n >> (d-i))\n",
    "\n",
    "@njit\n",
    "def randomThing(i, j):\n",
    "    return (\n",
    "        ((0x80085111 ^ shiftWrap32(i, j**2)) * \n",
    "        #(0xFA100000 - ~shiftWrap32(i, (j+1)**2))) * \n",
    "        #((0x1337C0DE + shiftWrap32(i, (j+2)**2)) ^ \n",
    "        (0xABCDEF77 ^ shiftWrap32(i, (j+3)**2)))\n",
    "    )\n",
    "\n",
    "@memoized\n",
    "def randMap32(ident):\n",
    "    i = ident\n",
    "    @njit\n",
    "    def func(n):\n",
    "        s = shiftWrap32\n",
    "        x = n\n",
    "        x *= randomThing(i, 777) | 0x5558982A\n",
    "        x += randomThing(i, 263435)\n",
    "        x *= x\n",
    "        x = (x >> 8) + (x << 8)\n",
    "        x ^= randomThing(i, 2000004444)\n",
    "        x *= x\n",
    "        return x\n",
    "    return func"
   ]
  },
  {
   "cell_type": "code",
   "execution_count": 24,
   "metadata": {
    "collapsed": true
   },
   "outputs": [],
   "source": [
    "def convert32(F):\n",
    "    '''just converts all columns in dataframe `F` into 32-bit dtypes'''\n",
    "    for c in F.columns:\n",
    "        if np.issubdtype(F[c].dtype, np.float):\n",
    "            if F[c].dtype != np.float32:\n",
    "                F[c] = F[c].astype(np.float32)\n",
    "        elif np.issubdtype(F[c].dtype, np.integer):\n",
    "            if F[c].dtype != np.int32:\n",
    "                F[c] = F[c].astype(np.int32)\n",
    "        else:\n",
    "            assert False, 'dtype other than float or int found in features'\n",
    "    gc.collect()"
   ]
  },
  {
   "cell_type": "code",
   "execution_count": 25,
   "metadata": {
    "collapsed": true
   },
   "outputs": [],
   "source": [
    "from types import LambdaType\n",
    "\n",
    "class Featurespace(Namespace):\n",
    "    '''This cell defines a Namespace subclass that chooses selectively to evaluate and save its attribute assignments or not.\n",
    "    It is needed because my feature generation code generates A LOT of features, not all of which I want to use.\n",
    "    So the `allow` function filters out features I don't want to use, so as to save memory and time.\n",
    "    \n",
    "    It has its __setitem__ overloaded so that it either takes the actual value, a function -> actual value, or a tuple\n",
    "    of (function -> actual value, function -> next row to append to actual value)\n",
    "    \n",
    "    Also, some features depend on previous features existing, so there is logic to build the dependent features set.\n",
    "    '''\n",
    "    allow = lambda name: True\n",
    "    depend_graph = {}\n",
    "    record_dependency = False\n",
    "    _accessed = set()\n",
    "    \n",
    "    @classmethod\n",
    "    def build_dependency(cls):\n",
    "        stack = list(filter(cls.allow, cls.depend_graph))\n",
    "        seen = set(stack)\n",
    "        cls.depends = set(stack)\n",
    "        while stack:\n",
    "            name = stack.pop()\n",
    "            for next in cls.depend_graph.get(name, frozenset()):\n",
    "                if next not in seen:\n",
    "                    stack.append(next)\n",
    "                    seen.add(next)\n",
    "                    cls.depends.add(next)\n",
    "    \n",
    "    def __getitem__(self, name):\n",
    "        cls = type(self)\n",
    "        if cls.record_dependency:\n",
    "            cls._accessed.add(name)\n",
    "        return super(__class__, type(self)).__getitem__(self, name)\n",
    "    \n",
    "    def __getattribute__(self, name):\n",
    "        cls = type(self)\n",
    "        if cls.record_dependency:\n",
    "            cls._accessed.add(name)\n",
    "        return super(__class__, type(self)).__getattribute__(self, name)\n",
    "    \n",
    "    def __setitem__(self, name, value):\n",
    "        cls = type(self)\n",
    "        \n",
    "        if hasattr(cls, 'depends'):\n",
    "            care = name in cls.depends\n",
    "        else:\n",
    "            care = cls.allow(name)\n",
    "        if not cls.record_dependency and not care:\n",
    "            return\n",
    "        \n",
    "        if isinstance(value, LambdaType):\n",
    "            ans = super(__class__, type(self)).__setitem__(self, name, value())\n",
    "        elif isinstance(value,tuple) and len(value)==2 and all(isinstance(value[i],LambdaType) for i in range(2)):\n",
    "            if name not in self:\n",
    "                ans = super(__class__, type(self)).__setitem__(self, name, value[0]())\n",
    "            else:\n",
    "                changed = np.concatenate([self[name], value[1]()[np.newaxis]], axis=0)\n",
    "                ans = super(__class__, type(self)).__setitem__(self, name, changed)\n",
    "        else:\n",
    "            ans = super(__class__, type(self)).__setitem__(self, name, value)\n",
    "            \n",
    "        if cls.record_dependency:\n",
    "            assert name not in cls.depend_graph, 'each name in Featurespace should only be assigned once'\n",
    "            cls.depend_graph[name] = frozenset(cls._accessed)\n",
    "            cls._accessed = set()\n",
    "            \n",
    "        return ans\n",
    "OX = Featurespace"
   ]
  },
  {
   "cell_type": "markdown",
   "metadata": {},
   "source": [
    "## %%%%%%%%%%% requirements check for main prediction code: %%%%%%%%%%%"
   ]
  },
  {
   "cell_type": "code",
   "execution_count": 26,
   "metadata": {},
   "outputs": [
    {
     "name": "stdout",
     "output_type": "stream",
     "text": [
      "ok go\n"
     ]
    }
   ],
   "source": [
    "__env__\n",
    "O\n",
    "gc\n",
    "canvas\n",
    "print(\"ok go\")"
   ]
  },
  {
   "cell_type": "markdown",
   "metadata": {},
   "source": [
    "# =================== MAIN PREDICTION CODE ===================="
   ]
  },
  {
   "cell_type": "code",
   "execution_count": 27,
   "metadata": {
    "collapsed": true
   },
   "outputs": [],
   "source": [
    "import warnings\n",
    "warnings.filterwarnings('ignore')\n",
    "\n",
    "BUG = O() # put stuff in this that you want to see for debugging needs\n",
    "\n",
    "%matplotlib inline\n",
    "canvas(12,12)"
   ]
  },
  {
   "cell_type": "code",
   "execution_count": 28,
   "metadata": {},
   "outputs": [
    {
     "data": {
      "text/plain": [
       "0"
      ]
     },
     "execution_count": 28,
     "metadata": {},
     "output_type": "execute_result"
    }
   ],
   "source": [
    "M, N = __env__.get_training_data()\n",
    "del N; gc.collect()"
   ]
  },
  {
   "cell_type": "markdown",
   "metadata": {},
   "source": [
    "#### bit of a hack of the previouly LB securing random values"
   ]
  },
  {
   "cell_type": "code",
   "execution_count": 29,
   "metadata": {
    "collapsed": true
   },
   "outputs": [],
   "source": [
    "#TODO #KILL? this should not be in the production code\n",
    "# this was an old feature of the scrambled assetCodeIds that I could not regenerate programmatically any more\n",
    "dfHack2 = pd.read_csv('dfHack2Str.csv', index_col='assetCodeId',\n",
    "                      dtype={'assetCodeId':np.int,'assetCodeIdWTFFlogabs':np.float32,'assetCodeIdWTFFsin2':np.float32})"
   ]
  },
  {
   "cell_type": "markdown",
   "metadata": {},
   "source": [
    "### ~/~/~/~/~/~/~/~/~/~/~/~/~/~/~/~/~/~/ Model Definitions ~/~/~/~/~/~/~/~/~/~/~/~/~/~/~/~/~/~/~/~/~/"
   ]
  },
  {
   "cell_type": "code",
   "execution_count": 30,
   "metadata": {
    "collapsed": true
   },
   "outputs": [],
   "source": [
    "\n",
    "#!!!!!!!!!!!!!!!!! BEGIN code that you should not read because it just defines the old InitKaggleGo features\n",
    "fTransNewfault = [\"volume\",\"close\",\"open\",\"assetCodeId\",\"assetNameId\",\"cc\",\"oo\",\"acc\",\"aoo\",\"ccTEN\",\"ooTEN\",\"accTEN\",\"aooTEN\",\"dayOfYear\",\"dayOfWeek\",\"oo1Since21\",\"oo1MaxSince21\",\"oo1Drawdown1Since21\",\"oo1Drawdown5Since21\",\"oo1Drawdown10Since21\",\"oo1MaxSince21{10}\",\"oo1MinSince21\",\"oo1MinSince21{10}\",\"oo1Since62\",\"oo1MaxSince62\",\"oo1Drawdown1Since62\",\"oo1Drawdown5Since62\",\"oo1Drawdown10Since62\",\"oo1MaxSince62{10}\",\"oo1MinSince62\",\"oo1MinSince62{10}\",\"oo1Since125\",\"oo1MaxSince125\",\"oo1Drawdown1Since125\",\"oo1Drawdown5Since125\",\"oo1Drawdown10Since125\",\"oo1MaxSince125{10}\",\"oo1MinSince125\",\"oo1MinSince125{10}\",\"oo1Since250\",\"oo1MaxSince250\",\"oo1Drawdown1Since250\",\"oo1Drawdown5Since250\",\"oo1Drawdown10Since250\",\"oo1MaxSince250{10}\",\"oo1MinSince250\",\"oo1MinSince250{10}\",\"aoo1Since21\",\"aoo1MaxSince21\",\"aoo1Drawdown1Since21\",\"aoo1Drawdown5Since21\",\"aoo1Drawdown10Since21\",\"aoo1MaxSince21{10}\",\"aoo1MinSince21\",\"aoo1MinSince21{10}\",\"aoo1Since62\",\"aoo1MaxSince62\",\"aoo1Drawdown1Since62\",\"aoo1Drawdown5Since62\",\"aoo1Drawdown10Since62\",\"aoo1MaxSince62{10}\",\"aoo1MinSince62\",\"aoo1MinSince62{10}\",\"aoo1Since125\",\"aoo1MaxSince125\",\"aoo1Drawdown1Since125\",\"aoo1Drawdown5Since125\",\"aoo1Drawdown10Since125\",\"aoo1MaxSince125{10}\",\"aoo1MinSince125\",\"aoo1MinSince125{10}\",\"aoo1Since250\",\"aoo1MaxSince250\",\"aoo1Drawdown1Since250\",\"aoo1Drawdown5Since250\",\"aoo1Drawdown10Since250\",\"aoo1MaxSince250{10}\",\"aoo1MinSince250\",\"aoo1MinSince250{10}\",\"oo5\",\"oo10\",\"oo15\",\"oo20\",\"oo(10-5)\",\"oo(15-5)\",\"oo(20-5)\",\"oo(15-10)\",\"oo(20-10)\",\"oo(20-15)\",\"aoo5\",\"aoo10\",\"aoo15\",\"aoo20\",\"aoo(10-5)\",\"aoo(15-5)\",\"aoo(20-5)\",\"aoo(15-10)\",\"aoo(20-10)\",\"aoo(20-15)\",\"(it,af,it{1},aoo,acc){3/4}\"]\n",
    "fTransNewnewfault = fTransNewfault[:-1] + ['(aoo-acc)']\n",
    "fTime = 'dayOfYear dayOfWeek'.split()\n",
    "fAsset = 'assetCodeId assetNameId'.split()\n",
    "fPriceAbsolute = 'close open'.split()\n",
    "def select_relative(f):\n",
    "    return f not in set(fTime+fAsset+fPriceAbsolute)\n",
    "fInitKaggleGo = list(filter(select_relative, fTransNewnewfault)) + ['assetCodeIdWTFFlogabs', 'assetCodeIdWTFFsin2']\n",
    "# _fMust = ['oo','(oo-aoo)','(cc-acc)','(oo-cc)','(aoo-acc)','vp1dd']\n",
    "# fMustInclude = _fMust+[c+'1' for c in _fMust]+[c+'*' for c in _fMust]\n",
    "# fMustInclude += 'af it aoo acc'.split()\n",
    "class ikg(NamedO()):\n",
    "    features = fInitKaggleGo\n",
    "    train_on = [2009.,2009.75,2010.75,2011.5,2012.25,2012.5,2012.75,2013.,2013.25,2013.75,2014.,2014.25,2015.]\n",
    "    weight = 'flat_weight'\n",
    "    params = dict(early_stopping_round=50,learning_rate=.05,num_leaves=1<<12,max_depth=12,min_data_in_leaf=150,min_sum_hessian_in_leaf=50,lambda_l1=.01,lambda_l2=.01)\n",
    "_ikg = ikg; del ikg\n",
    "#!!!!!!!!!!!!!!!!!!!!!! END code that you should not read\n",
    "\n",
    "class bstdefs(O()):\n",
    "    '''Each item under here fully defines a model\n",
    "        features = the list of feature names\n",
    "        train_on = the quarters that LightGBM should train on\n",
    "        weight = the name of the weight to use\n",
    "        params = LGBM params (in addition to default)\n",
    "    '''\n",
    "    ikg = _ikg # the InitKaggleGo model\n",
    "    class s00(NamedO()):\n",
    "        features = [\"cc\",\"oo\",\"acc\",\"aoo\",\"vp10\",\"oo5\",\"oo10\",\"oo15\",\"aoo5\",\"aoo10\",\"aoo15\",\"vp1dd5\",\"vp1dd10\",\"vp1dd15\",\"volatility60\",\"oo(15-10)\",\"oo(20-15)\",\"oo(15-5)\",\"oo(20-10)\",\"aoo(15-10)\",\"aoo(20-15)\",\"aoo(15-5)\",\"aoo(20-10)\",\"vp1dd(15-10)\",\"vp1dd(20-15)\",\"vp1dd(15-5)\",\"vp1dd(20-10)\",\"oo{0/1}\",\"oo{0/2}\",\"oo{1}\",\"oo{2}\",\"(oo-aoo){0/1}\",\"(oo-aoo){0/2}\",\"(oo-aoo){1}\",\"(oo-aoo){2}\",\"vp1dd{0/1}\",\"vp1dd{0/2}\",\"vp1dd\",\"vp1dd{1}\",\"vp1dd{2}\",\"oo1Drawdown10Since62\",\"oo1Drawdown20Since62\",\"oo1MaxSince62{10}\",\"oo1MaxSince62{20}\",\"oo1MinSince62\",\"oo1Drawup1Since62\",\"oo1MinSince62{5}\",\"volatility20MaxSince62\",\"volatility20MaxSince62{5}\",\"volatility20Drawup(10-5)Since62\",\"volatility20Drawup(20-10)Since62\",\"volatility20MinSince62{20}\",\"oo1Drawdown10Since250\",\"oo1Drawdown20Since250\",\"oo1MaxSince250{10}\",\"oo1MaxSince250{20}\",\"oo1MinSince250\",\"oo1Drawup1Since250\",\"oo1MinSince250{5}\",\"volatility20MaxSince250\",\"volatility20MaxSince250{5}\",\"volatility20Drawup(10-5)Since250\",\"volatility20Drawup(20-10)Since250\",\"volatility20MinSince250{20}\"]\n",
    "        train_on = [2010.0,2015.25,2011.5,2011.0,2012.25,2014.5,2009.5,2010.75,2011.25,2012.75,2013.0,2014.25,2015.0]\n",
    "        weight = 'flat_weight'\n",
    "        params = dict(learning_rate=0.05,max_depth=-1,num_leaves=1024,min_data_in_leaf=120,min_sum_hessian_in_leaf=100.0,lambda_l1=0,lambda_l2=0)\n",
    "    class s10(NamedO()):\n",
    "        features = [\"cc\",\"oo\",\"dayOfYear\",\"dayOfWeek\",\"volatility60\",\"oo{0/1}\",\"oo{1/2}\",\"oo{1}\",\"oo{2}\",\"(cc-acc){0/1}\",\"(cc-acc){1/2}\",\"(cc-acc){1}\",\"(cc-acc){2}\",\"oo1Since21\",\"oo1MaxSince21\",\"oo1Drawdown1Since21\",\"oo1Drawdown5Since21\",\"oo1Drawdown10Since21\",\"oo1Drawdown(10-5)Since21\",\"oo1MinSince21\",\"oo1MinSince21{5}\",\"oo10Since21\",\"oo10MaxSince21\",\"oo10Drawdown1Since21\",\"oo10Drawdown5Since21\",\"oo10Drawdown10Since21\",\"oo10Drawdown(10-5)Since21\",\"oo10MinSince21\",\"oo10MinSince21{5}\",\"(oo-aoo)10Since21\",\"(oo-aoo)10MaxSince21\",\"(oo-aoo)10Drawdown1Since21\",\"(oo-aoo)10Drawdown5Since21\",\"(oo-aoo)10Drawdown10Since21\",\"(oo-aoo)10Drawdown(10-5)Since21\",\"(oo-aoo)10MinSince21\",\"(oo-aoo)10MinSince21{5}\",\"vp1dd1Since21\",\"vp1dd1MaxSince21{5}\",\"vp1dd1Drawup(20-10)Since21\",\"vp1dd1MinSince21{20}\",\"vp5dd1Since21\",\"vp5dd1MaxSince21{5}\",\"vp5dd1Drawup(20-10)Since21\",\"vp5dd1MinSince21{20}\",\"vp10dd1Since21\",\"vp10dd1MaxSince21{5}\",\"vp10dd1Drawup(20-10)Since21\",\"vp10dd1MinSince21{20}\",\"volatility10MaxSince21{20}\",\"volatility10MinSince21{20}\",\"oo1Since125\",\"oo1MaxSince125\",\"oo1Drawdown1Since125\",\"oo1Drawdown5Since125\",\"oo1Drawdown10Since125\",\"oo1Drawdown(10-5)Since125\",\"oo1MinSince125\",\"oo1MinSince125{5}\",\"oo10Since125\",\"oo10MaxSince125\",\"oo10Drawdown1Since125\",\"oo10Drawdown5Since125\",\"oo10Drawdown10Since125\",\"oo10Drawdown(10-5)Since125\",\"oo10MinSince125\",\"oo10MinSince125{5}\",\"(oo-aoo)10Since125\",\"(oo-aoo)10MaxSince125\",\"(oo-aoo)10Drawdown1Since125\",\"(oo-aoo)10Drawdown5Since125\",\"(oo-aoo)10Drawdown10Since125\",\"(oo-aoo)10Drawdown(10-5)Since125\",\"(oo-aoo)10MinSince125\",\"(oo-aoo)10MinSince125{5}\",\"vp1dd1Since125\",\"vp1dd1MaxSince125{5}\",\"vp1dd1Drawup(20-10)Since125\",\"vp1dd1MinSince125{20}\",\"vp5dd1Since125\",\"vp5dd1MaxSince125{5}\",\"vp5dd1Drawup(20-10)Since125\",\"vp5dd1MinSince125{20}\",\"vp10dd1Since125\",\"vp10dd1MaxSince125{5}\",\"vp10dd1Drawup(20-10)Since125\",\"vp10dd1MinSince125{20}\",\"volatility10MaxSince125{20}\",\"volatility10MinSince125{20}\",\"oo1Since250\",\"oo1MaxSince250\",\"oo1Drawdown1Since250\",\"oo1Drawdown5Since250\",\"oo1Drawdown10Since250\",\"oo1Drawdown(10-5)Since250\",\"oo1MinSince250\",\"oo1MinSince250{5}\",\"oo10Since250\",\"oo10MaxSince250\",\"oo10Drawdown1Since250\",\"oo10Drawdown5Since250\",\"oo10Drawdown10Since250\",\"oo10Drawdown(10-5)Since250\",\"oo10MinSince250\",\"oo10MinSince250{5}\",\"(oo-aoo)10Since250\",\"(oo-aoo)10MaxSince250\",\"(oo-aoo)10Drawdown1Since250\",\"(oo-aoo)10Drawdown5Since250\",\"(oo-aoo)10Drawdown10Since250\",\"(oo-aoo)10Drawdown(10-5)Since250\",\"(oo-aoo)10MinSince250\",\"(oo-aoo)10MinSince250{5}\",\"vp1dd1Since250\",\"vp1dd1MaxSince250{5}\",\"vp1dd1Drawup(20-10)Since250\",\"vp1dd1MinSince250{20}\",\"vp5dd1Since250\",\"vp5dd1MaxSince250{5}\",\"vp5dd1Drawup(20-10)Since250\",\"vp5dd1MinSince250{20}\",\"vp10dd1Since250\",\"vp10dd1MaxSince250{5}\",\"vp10dd1Drawup(20-10)Since250\",\"vp10dd1MinSince250{20}\",\"volatility10MaxSince250{20}\",\"volatility10MinSince250{20}\"]\n",
    "        train_on = [2010.0,2015.25,2012.5,2009.5,2014.0,2014.5,2009.25,2010.5,2011.5,2012.75,2013.75,2014.25,2015.0]\n",
    "        weight = 'vp1_weight'\n",
    "        params = dict(learning_rate=0.05,max_depth=10,num_leaves=1024,min_data_in_leaf=120,min_sum_hessian_in_leaf=6.1,lambda_l1=0,lambda_l2=0)\n",
    "    class s22(NamedO()):\n",
    "        features = [\"dayOfYear\",\"dayOfWeek\",\"oo10\",\"aoo10\",\"(oo-aoo)10\",\"vp1dd10\",\"oo(10-5)\",\"oo(15-10)\",\"oo(15-5)\",\"oo(20-5)\",\"aoo(10-5)\",\"aoo(15-10)\",\"aoo(15-5)\",\"aoo(20-5)\",\"(oo-aoo)(10-5)\",\"(oo-aoo)(15-10)\",\"(oo-aoo)(15-5)\",\"(oo-aoo)(20-5)\",\"vp1dd(10-5)\",\"vp1dd(15-10)\",\"vp1dd(15-5)\",\"vp1dd(20-5)\",\"oo1Drawdown10Since21\",\"oo1Drawdown(20-10)Since21\",\"oo1MaxSince21{20}\",\"oo1MinSince21{20}\",\"vp5dd1MaxSince21\",\"vp5dd1Drawdown1Since21\",\"vp5dd1MinSince21\",\"vp10dd1MaxSince21\",\"vp10dd1Drawdown1Since21\",\"vp10dd1MinSince21\",\"oo1Drawdown10Since250\",\"oo1Drawdown(20-10)Since250\",\"oo1MaxSince250{20}\",\"oo1MinSince250{20}\",\"vp5dd1MaxSince250\",\"vp5dd1Drawdown1Since250\",\"vp5dd1MinSince250\",\"vp10dd1MaxSince250\",\"vp10dd1Drawdown1Since250\",\"vp10dd1MinSince250\"]\n",
    "        train_on = [2010.0,2010.5,2015.0,2009.75,2014.5,2014.0,2014.25,2009.5,2010.25,2009.25,2013.0,2014.75,2015.25]\n",
    "        weight = 'vp10_weight'\n",
    "        params = dict(learning_rate=0.05,max_depth=6,num_leaves=64,min_data_in_leaf=120,min_sum_hessian_in_leaf=100.0,lambda_l1=0,lambda_l2=0)\n",
    "    class s23(NamedO()):\n",
    "        features = [\"dayOfYear\",\"dayOfWeek\",\"oo10\",\"aoo10\",\"(oo-aoo)10\",\"vp1dd10\",\"oo(10-5)\",\"oo(15-10)\",\"oo(15-5)\",\"oo(20-5)\",\"aoo(10-5)\",\"aoo(15-10)\",\"aoo(15-5)\",\"aoo(20-5)\",\"(oo-aoo)(10-5)\",\"(oo-aoo)(15-10)\",\"(oo-aoo)(15-5)\",\"(oo-aoo)(20-5)\",\"vp1dd(10-5)\",\"vp1dd(15-10)\",\"vp1dd(15-5)\",\"vp1dd(20-5)\",\"oo1Drawdown10Since21\",\"oo1Drawdown(20-10)Since21\",\"oo1MaxSince21{20}\",\"oo1MinSince21{20}\",\"vp5dd1MaxSince21\",\"vp5dd1Drawdown1Since21\",\"vp5dd1MinSince21\",\"vp10dd1MaxSince21\",\"vp10dd1Drawdown1Since21\",\"vp10dd1MinSince21\",\"oo1Drawdown10Since250\",\"oo1Drawdown(20-10)Since250\",\"oo1MaxSince250{20}\",\"oo1MinSince250{20}\",\"vp5dd1MaxSince250\",\"vp5dd1Drawdown1Since250\",\"vp5dd1MinSince250\",\"vp10dd1MaxSince250\",\"vp10dd1Drawdown1Since250\",\"vp10dd1MinSince250\"]\n",
    "        train_on = [2010.0,2011.0,2012.0,2009.75,2009.5,2014.25,2009.0,2010.25,2011.5,2009.25,2013.25,2014.0,2015.25]\n",
    "        weight = 'vp10_weight'\n",
    "        params = dict(learning_rate=0.05,max_depth=10,num_leaves=64,min_data_in_leaf=120,min_sum_hessian_in_leaf=50,lambda_l1=0,lambda_l2=0)\n",
    "    class s24(NamedO()):\n",
    "        features = [\"oo\",\"oo10\",\"oo15\",\"(oo-aoo)10\",\"(oo-aoo)15\",\"oo(20-15)\",\"oo(15-5)\",\"oo(20-10)\",\"oo(20-5)\",\"(oo-aoo)(20-15)\",\"(oo-aoo)(15-5)\",\"(oo-aoo)(20-10)\",\"(oo-aoo)(20-5)\",\"oo{0/1}\",\"oo{0/2}\",\"oo{1}\",\"oo{2}\",\"(aoo-acc){0/1}\",\"(aoo-acc){0/2}\",\"(aoo-acc){1}\",\"(aoo-acc){2}\",\"oo1Drawdown5Since21\",\"oo1Drawdown(20-10)Since21\",\"oo1MinSince21\",\"oo10Drawdown5Since21\",\"oo10Drawdown(20-10)Since21\",\"oo10MinSince21\",\"(oo-aoo)10Drawdown5Since21\",\"(oo-aoo)10Drawdown(20-10)Since21\",\"(oo-aoo)10MinSince21\",\"vp1dd1MaxSince21\",\"vp1dd1MaxSince21{10}\",\"vp1dd1MinSince21\",\"vp5dd1MaxSince21\",\"vp5dd1MaxSince21{10}\",\"vp5dd1MinSince21\",\"assetCode_inUniCount\"]\n",
    "        train_on = [2010.75,2010.0,2012.5,2009.25,2013.75,2013.25,2014.25,2009.75,2010.25,2011.0,2012.0,2013.0,2014.0]\n",
    "        weight = 'vp10_weight'\n",
    "        params = dict(learning_rate=0.05,max_depth=8,num_leaves=256,min_data_in_leaf=120,min_sum_hessian_in_leaf=50,lambda_l1=0,lambda_l2=0)        \n",
    "_bd = bstdefs\n",
    "\n",
    "class themodel(O()):\n",
    "    '''this defines the model blending'''\n",
    "    solo = O(specs=[_bd.ikg, _bd.s00, _bd.s10, _bd.s22, _bd.s23, _bd.s24], coefs=[0, 1, .25, .25, .25, .25])\n",
    "    pair = O(specs=[], coefs=[])\n",
    "    xAllowed = reduce(operator.__or__,\n",
    "        [frozenset(s.features) for s,c in chain(zip(solo.specs,solo.coefs), zip(pair.specs,pair.coefs)) if c!=0])"
   ]
  },
  {
   "cell_type": "markdown",
   "metadata": {},
   "source": [
    "as a note, I sometimes begin a variable name with x, like 'xAllowed', and this just means it's a set (speeds up lookup)"
   ]
  },
  {
   "cell_type": "markdown",
   "metadata": {},
   "source": [
    "### ~/~/~/~/~/~/~/~/~/~/~/~/~/~/~/~/~/~/~/~/~/~/~/~/~/~/~/~/~/~/~/~/~/~/~/~/~/~/~/~/~/ END Model Definitions"
   ]
  },
  {
   "cell_type": "markdown",
   "metadata": {},
   "source": [
    "#### very important ID assignment code"
   ]
  },
  {
   "cell_type": "code",
   "execution_count": 31,
   "metadata": {
    "collapsed": true
   },
   "outputs": [],
   "source": [
    "class IdAssign:\n",
    "    '''This class assigns an integer (>=0) ID to things.\n",
    "    It automatically updates the count when it sees a new thing without an ID before.\n",
    "    \n",
    "    `self.series` gives you a pd.Series where index=ID and the column values give you the original value\n",
    "    Using `self` as a function maps values to their IDs\n",
    "    '''\n",
    "    class NO_MISSING(metaclass=staticclass): # special filler value because `None` might actually be meaningfully used\n",
    "        pass\n",
    "    def __init__(self, init, missing, name):\n",
    "        self.name = name\n",
    "        self.map = {}\n",
    "        if missing is not __class__.NO_MISSING:\n",
    "            self.map[missing] = -1\n",
    "        i = 0\n",
    "        for x in init:\n",
    "            if x not in self.map and x != missing:\n",
    "                self.map[x] = i\n",
    "                i += 1\n",
    "        self.cache = None\n",
    "    def __call__(self, key):\n",
    "        if key not in self.map:\n",
    "            self.map[key] = len(self.map)\n",
    "        return self.map[key]\n",
    "    def __len__(self):\n",
    "        return self.map.__len__()\n",
    "    @property\n",
    "    def series(self):\n",
    "        if self.cache==len(self):\n",
    "            return self._series\n",
    "        # Python 3.?+ guarantees that dict keys and values are itered in same order, and that order is insertion order\n",
    "        self._series = pd.Series(list(self.map.keys()), index=list(self.map.values()), name=self.name)\n",
    "        self._series.index.name = self.name+'Id'\n",
    "        self.cache = len(self)\n",
    "        return self._series\n",
    "\n",
    "assetCodeSeries = pd.Series(M.assetCode.unique())\n",
    "assetCodeIdAssign = IdAssign(assetCodeSeries, missing='', name='assetCode')\n",
    "del assetCodeSeries\n",
    "assetNameSeries = pd.Series(M.assetName.unique())\n",
    "assetNameIdAssign = IdAssign(assetNameSeries, missing='Unknown', name='assetName')\n",
    "del assetNameSeries"
   ]
  },
  {
   "cell_type": "markdown",
   "metadata": {},
   "source": [
    "#### some data specific helper func/structs"
   ]
  },
  {
   "cell_type": "code",
   "execution_count": 32,
   "metadata": {
    "collapsed": true
   },
   "outputs": [],
   "source": [
    "stringify_columns = stringify_list\n",
    "\n",
    "returns_columns = { # I map these guys from linear space to log space, and make them into shorter names\n",
    "    'returnsClosePrevRaw1':'cc', 'returnsOpenPrevRaw1':'oo',\n",
    "    'returnsClosePrevMktres1':'acc', 'returnsOpenPrevMktres1':'aoo',\n",
    "    'returnsClosePrevRaw10':'ccTEN','returnsOpenPrevRaw10':'ooTEN',\n",
    "    'returnsClosePrevMktres10':'accTEN','returnsOpenPrevMktres10':'aooTEN'\n",
    "}\n",
    "columns_for_U = set(returns_columns.values()) | set(['open', 'close', 'volume'])\n",
    "excluded_columns = [\n",
    "    'time','assetCode','assetName','universe','returnsOpenNextMktres10','quarter','y'\n",
    "]\n",
    "exclusion_filter = lambda c: c not in excluded_columns\n",
    "object_columns = ['assetCode', 'assetName']\n",
    "enumeration_columns = ['assetCodeId', 'assetNameId']"
   ]
  },
  {
   "cell_type": "markdown",
   "metadata": {
    "collapsed": true
   },
   "source": [
    "#### hard coded constants"
   ]
  },
  {
   "cell_type": "code",
   "execution_count": 33,
   "metadata": {
    "collapsed": true
   },
   "outputs": [],
   "source": [
    "train_start_time = pd.Timestamp('2009-01-01',tz='UTC')\n",
    "lookback = 60\n",
    "shortterm = 21\n",
    "longterm = 250 + lookback*2 #idk it's hard to reason about how much I _really_ need, so this should be pretty safe"
   ]
  },
  {
   "cell_type": "markdown",
   "metadata": {},
   "source": [
    "#### setting up only the stocks that we have seen in-universe"
   ]
  },
  {
   "cell_type": "code",
   "execution_count": 34,
   "metadata": {
    "collapsed": true
   },
   "outputs": [],
   "source": [
    "M['assetCodeId'] = M.assetCode.map(assetCodeIdAssign).astype(int)\n",
    "inUniCount = M[M.time>=train_start_time].groupby('assetCodeId').universe.sum()\n",
    "stocksInUni = (inUniCount != 0).pipe(lambda x: x.index[x])\n",
    "assert stocksInUni.is_monotonic\n",
    "xStocksInUni = set(stocksInUni) #EDITCELL\n",
    "inUniCountSeries = inUniCount.astype(float) #EDITCELL\n",
    "stocksAlways = (inUniCount >= 1981).pipe(lambda x: x.index[x])\n",
    "xStocksAlways = set(stocksAlways)"
   ]
  },
  {
   "cell_type": "markdown",
   "metadata": {},
   "source": [
    "### THE definitive features generators!"
   ]
  },
  {
   "cell_type": "code",
   "execution_count": 35,
   "metadata": {
    "collapsed": true
   },
   "outputs": [],
   "source": [
    "_rollwind = rolling_window_axis0\n",
    "\n",
    "def noinf_log(a):\n",
    "    '''np.log, but makes maps 0 => np.nan instead of -np.inf'''\n",
    "    ret = np.log(a)\n",
    "    if len(ret.shape)==0:\n",
    "        return ret if not np.isneginf(ret) else np.nan\n",
    "    ret[np.isneginf(ret)] = np.nan\n",
    "    return ret\n",
    "\n",
    "def _vol(a, axis, fill):\n",
    "    '''helper that calculates the volatility'''\n",
    "    var = np.nanvar(a, axis=axis, ddof=1) # ddof=1 for better estimate\n",
    "    nsamps = np.maximum(np.count_nonzero(~np.isnan(a), axis=axis) - 1, 0)\n",
    "    # weight by global average to help curb extreme values when cumulating in features constructed from this\n",
    "    return np.sqrt((var * np.expm1(nsamps) + fill**2) / (np.expm1(nsamps) + 1))\n",
    "_vol.fill = lambda r: np.sqrt(r) / 22 # these approximate the global average std"
   ]
  },
  {
   "cell_type": "markdown",
   "metadata": {},
   "source": [
    "Below until the next header are the main feature generation functions.\n",
    "\n",
    "To save myself time I use single capital letter variables to denote very specific entities\n",
    "\n",
    "- M = a DataFrame like the original given market obs\n",
    "- U = an O that maps feature name => np.ndarray of shape ({days up to current day}, {all the stocks, in assetCodeId order})\n",
    "  - The features are stored in this format to be able to generate lag and drawdown features\n",
    "- u = an O that maps feature name => np.ndarray of shape ({all the stocks, in assetCodeId order},)\n",
    "  - These features we don't care about past entries, so only the present day value is included acorss the stocks\n",
    "- V = an O that maps feature name => np.ndarray of shape ({days up to current day},)\n",
    "  - These are global (across stocks) features that we need to look back in time for\n",
    "- v = an O that maps feature name => numbers\n",
    "  - It's just one number which is the current value of this global feature on the current day"
   ]
  },
  {
   "cell_type": "code",
   "execution_count": 36,
   "metadata": {
    "collapsed": true
   },
   "outputs": [],
   "source": [
    "def set_basic_features(*,M):\n",
    "    M['assetCodeId'] = M.assetCode.map(assetCodeIdAssign)#.astype(int) # much more efficient to process everything as float\n",
    "    del M['assetCode']\n",
    "    M['assetNameId'] = M.assetName.map(assetNameIdAssign)#.astype(int)\n",
    "    del M['assetName']\n",
    "    for orig_col, new_col in returns_columns.items():\n",
    "        M[new_col] = np.log1p(M[orig_col])\n",
    "        del M[orig_col]\n",
    "    # time features\n",
    "    M['dayOfYear'] = M.time.dt.dayofyear.astype(float)\n",
    "    M['dayOfWeek'] = M.time.dt.dayofweek.astype(float)"
   ]
  },
  {
   "cell_type": "code",
   "execution_count": 37,
   "metadata": {
    "collapsed": true
   },
   "outputs": [],
   "source": [
    "def add_shortterm_price_features(*,U,u):\n",
    "    # volume*price ############################################################################\n",
    "    # just the volume*price. it is maximally NaN\n",
    "    U['vp'] = lambda: U.volume * U.open, lambda: U.volume[-1] * U.open[-1]\n",
    "    \n",
    "    # the 1 suffix means there is a best attempt at cleaning up the NaNs and is start of a series of things spanning n days\n",
    "    U['vp1'] = lambda: ffill_axis0(U['vp']), lambda: ffill_axis0(U['vp'][-2:])[-1]\n",
    "    # volume*price meaned over h days\n",
    "    for h in [5,10]:\n",
    "        U[f'vp{h}'] = lambda: np.nanmean(_rollwind(U.vp1, h), axis=-1), lambda: np.nanmean(U.vp1[-h:], axis=0)\n",
    "    for h in [20,60]:\n",
    "        u[f'vp{h}'] = lambda: np.nanmean(U.vp1[-h:], axis=0)\n",
    "        \n",
    "    # volume*price day-to-day over h days # 'dd' means \"day-to-day\". it is the \"return\" equivalent for volume*price\n",
    "    for h in [1,5,10]:\n",
    "        U[f'vp{h}dd1'] = (lambda: noinf_log(U[f'vp{h}']) - noinf_log(np.shift(U[f'vp{h}'],1,axis=0)),\n",
    "                          lambda: noinf_log(U[f'vp{h}'][-1]) - noinf_log(U[f'vp{h}'][-2]))\n",
    "    \n",
    "    #######################\n",
    "    # just because this wasn't defined for us in `make_single_A_...`\n",
    "    U['(oo-aoo)1'] = lambda: U.oo1 - U.aoo1\n",
    "    \n",
    "    # SHORT TERM COMBOS ######################################################################################\n",
    "    for ww in ['oo','aoo','(oo-aoo)','vp1dd','vp5dd','volatility']:\n",
    "        ww1 = ww+'1'\n",
    "        #! size 5 combos in this section\n",
    "        if 'olatility' not in ww:\n",
    "            for i in [5,10,15, 3,6,9,12,18]: # the (i-0) time slices needed by other calcs\n",
    "                U[ww+str(i)] = lambda: np.nansum(_rollwind(U[ww1],i), axis=-1), lambda: np.nansum(U[ww1][-i:], axis=0)\n",
    "            for i in [20,60]: # the (i-0) time slices not needed by others\n",
    "                u[ww+str(i)] = lambda: np.nansum(U[ww1][-i:], axis=0)\n",
    "        else:\n",
    "            for r in [5,10,15,20,60, 3,6,9,12,18]:\n",
    "                U['volatility'+str(r)] = (lambda: _vol(_rollwind(U.oo,r), axis=-1, fill=_vol.fill(r)),\n",
    "                                          lambda: _vol(U.oo[-r:], axis=0, fill=_vol.fill(r)))\n",
    "        for r,d in zip([5,10,15, 3,6,9,12,18], [5]*3+[3]*5): # lagged guys\n",
    "            i = 1\n",
    "            while r+d*i <= 21:\n",
    "                u[f'{ww}({r+d*i}-{d*i})'] = lambda: U[f'{ww}{r}'][-1-i*d]\n",
    "                i += 1\n",
    "        \n",
    "    #================================================== LEGACY ============================================================\n",
    "    T = OX()\n",
    "    ################################################################# can be NaNs:\n",
    "    U['(oo-aoo)'] = lambda: U.oo - U.aoo\n",
    "    U['(cc-acc)'] = lambda: U.cc - U.acc\n",
    "    U['(oo-cc)'] = lambda: U.oo - U.cc\n",
    "    U['(aoo-acc)'] = lambda: U.aoo - U.acc\n",
    "    for ww in ['oo','(oo-aoo)','(cc-acc)','(oo-cc)','(aoo-acc)','vp1dd']:\n",
    "        T[ww+'Window*'] = lambda: np.flip( (U[ww] if ww in U else U[ww+'*'] if ww+'*' in U else U[ww+'1']) ,axis=0)[:3]\n",
    "        window = lambda: T[ww+'Window*']\n",
    "        for c in combos.union(combos.omo(3),combos.mintco(3,1,1)):\n",
    "            name = '{}{{{}}}'.format(ww, combos.name.index(c))\n",
    "            if name[-3:]=='{0}':\n",
    "                name = name[:-3]\n",
    "            if name not in U and name not in u:\n",
    "                u[name] = lambda: c@window()\n",
    "    ################################################################# can be NaNs: # mostly still here for legacy reasons\n",
    "    log_open, log_close = np.log(U.open), np.log(U.close) # can be NaNs here\n",
    "    U['af'] = lambda: log_open - np.shift(log_close,1,axis=0)\n",
    "    U['it'] = lambda: log_close - log_open\n",
    "    U['rr'] = lambda: log_open - np.shift(log_open,1,axis=0)\n",
    "    u['af{1}'] = lambda: U.af[-2]\n",
    "    u['it{1}'] = lambda: U.it[-2]\n",
    "    \n",
    "    T['near0*'] = lambda: np.stack([U.it[-1],U.af[-1],U.it[-2],U.aoo[-1],U.acc[-1]], axis=0); near0 = lambda: T['near0*']\n",
    "    T['near1*'] = lambda: np.stack([U.it[-2],U.af[-2],U.it[-3],U.aoo[-2],U.acc[-2]], axis=0); near1 = lambda: T['near1*']\n",
    "    for c in combos.omo(5):\n",
    "        name = '(it,af,it{{1}},aoo,acc){{{}}}'.format(combos.name.index(c))\n",
    "        u[name] = lambda: c@near0()\n",
    "        name = '(it{{1}},af{{1}},it{{2}},aoo{{1}},acc{{1}}){{{}}}'.format(combos.name.index(c))\n",
    "        u[name] = lambda: c@near1()"
   ]
  },
  {
   "cell_type": "code",
   "execution_count": 38,
   "metadata": {
    "collapsed": true
   },
   "outputs": [],
   "source": [
    "def _add_minmax_pools(ww, h, lag, *, Z, z): #.-`~,-'~.-`~,-'~.-`~,-'~.-`~,-'~ HELPER FUNCTION!\n",
    "    strh = str(h)\n",
    "    T = OX()\n",
    "    \n",
    "    guy = lambda: Z[ww][-h:]\n",
    "    if lag == 0: # includes the case when we have 'volatility'\n",
    "        T[f'{ww}Since{strh}*'] = lambda: guy(); since = lambda: T[f'{ww}Since{strh}*']\n",
    "    else:\n",
    "        T[f'{ww}Since{strh}*'] = lambda: np.nancumsum(guy(), axis=0); since = lambda: T[f'{ww}Since{strh}*']\n",
    "        z[f'{ww}Since{strh}'] = lambda: since()[-1]\n",
    "        \n",
    "    \n",
    "    for mm, MM, flag, updown, nanfunc in [('max','Max',-np.inf,'down',np.nanmin), ('min','Min',np.inf,'up',np.nanmax)]:\n",
    "        def _mmSince():\n",
    "            sinceForMM = since().copy()\n",
    "            sinceForMM[np.isnan(since())] = flag\n",
    "            mmSince = (np.maximum if mm=='max' else np.minimum).accumulate(sinceForMM, axis=0)\n",
    "            mmSince[mmSince==flag] = np.nan\n",
    "            return mmSince\n",
    "        T[f'{ww}{MM}Since{strh}*'] = _mmSince; mmSince = lambda: T[f'{ww}{MM}Since{strh}*']\n",
    "        z[f'{ww}{MM}Since{strh}'] = lambda: mmSince()[-1]\n",
    "        \n",
    "        T[ww+f'Draw{updown}1Since{strh}*'] = lambda:since()-mmSince(); drawSince = lambda:T[ww+f'Draw{updown}1Since{strh}*']\n",
    "        z[f'{ww}Draw{updown}1Since{strh}'] = lambda: drawSince()[-1]\n",
    "        \n",
    "        # if mm=='max' Drawdown is negative so we take np.nanmin; if mm=='min' Drawup is positive so we take np.nanmax;\n",
    "        z[f'{ww}Draw{updown}5Since{strh}'] = lambda: nanfunc(drawSince()[-5:], axis=0)\n",
    "        z[f'{ww}Draw{updown}10Since{strh}'] = lambda: nanfunc(drawSince()[-10:], axis=0)\n",
    "        z[f'{ww}Draw{updown}20Since{strh}'] = lambda: nanfunc(drawSince()[-20:], axis=0)\n",
    "        z[f'{ww}Draw{updown}(10-5)Since{strh}'] = lambda: nanfunc(drawSince()[-10:-5], axis=0)\n",
    "        z[f'{ww}Draw{updown}(20-10)Since{strh}'] = lambda: nanfunc(drawSince()[-20:-10], axis=0)\n",
    "        z[f'{ww}{MM}Since{strh}{{5}}'] = lambda: mmSince()[-6]\n",
    "        z[f'{ww}{MM}Since{strh}{{10}}'] = lambda: mmSince()[-11]\n",
    "        z[f'{ww}{MM}Since{strh}{{20}}'] = lambda: mmSince()[-21]"
   ]
  },
  {
   "cell_type": "code",
   "execution_count": 39,
   "metadata": {
    "collapsed": true
   },
   "outputs": [],
   "source": [
    "def add_longterm_price_features(*,U,u,horizons=[21,62,125,250]):\n",
    "    # longterm return horizons ################################################################ oo + aoo already in mm_pool\n",
    "#     for ww in ['oo','aoo','(oo-aoo)']:\n",
    "#         U[ww+'60'] = lambda: np.nansum(_rollwind(U[ww+'20'],3,20), axis=-1), lambda: np.nansum(U[ww+'20'][-41::20], axis=0)\n",
    "#         u[ww+'120'] = lambda: np.nansum(U[ww+'60'][-61::60], axis=0)\n",
    "    # MINMAX POOLS ################################################################### no NaNs\n",
    "    for h in horizons:\n",
    "        ##### historical liquity #NEW\n",
    "        u['fracRecordedDaysSince'+str(h)] = lambda: (~np.isnan(U.volume[-h:])).sum(axis=0) / h\n",
    "        ##### drawdowns and drawups\n",
    "        for ww, lag in [('oo1',1),('aoo1',1),('(oo-aoo)1',1), ('oo10',10),('aoo10',10),('(oo-aoo)10',10),\n",
    "                        ('vp1dd1',1),('vp5dd1',1),('vp10dd1',1), ('volatility10',0),('volatility20',0)]:\n",
    "            _add_minmax_pools(ww, h, Z=U, z=u, lag=lag)"
   ]
  },
  {
   "cell_type": "code",
   "execution_count": 40,
   "metadata": {
    "collapsed": true
   },
   "outputs": [],
   "source": [
    "def add_global_price_features(*,U,u,V,v,horizons=[21,62,125,250]):\n",
    "    ''''m_' prefix means \"market\", i.e. averaged (weights uniform) across the market at each time\n",
    "    'wVPm_' prefix means \"market, weighted by volume*price\"'''\n",
    "#     V['m_vp1dd1'] = (lambda: noinf_log(V.m_vp1) - noinf_log(np.shift(V.m_vp1,1,axis=0)),\n",
    "#                      lambda: noinf_log(V.m_vp1[-1]) - noinf_log(V.m_vp1[-2]))\n",
    "    ################################################################## market returns, no NaNs #NEW\n",
    "    V['m_vp5_'] = lambda: noinf_log( np.nansum(U.vp5, axis=1) ), lambda: noinf_log( np.nansum(U.vp5[-1]) )\n",
    "    V['m_vp5dd1'] = lambda: V.m_vp5_ - np.shift(V.m_vp5_,1,axis=0), lambda: V.m_vp5_[-1] - V.m_vp5_[-2]\n",
    "    V['m_oo1'] = (lambda: noinf_log( np.nanmean( np.exp(U.oo1) , axis=1) ),\n",
    "                  lambda: noinf_log( np.nanmean( np.exp(U.oo1[-1]) ) ))\n",
    "    V['wVPm_oo1'] = (lambda: noinf_log( wmean( np.exp(U.oo1) , np.shift(U.vp1,1,axis=0), axis=1) ),\n",
    "                     lambda: noinf_log( wmean( np.exp(U.oo1[-1]) , U.vp1[-2]) ))\n",
    "    for i in [5,10,20,60]:\n",
    "        s = str(i) \n",
    "        # this 'm_oo{i}' is first taking returns over horizon for each stock, then averaging uniformly across market\n",
    "        if i < 20:\n",
    "            v['m_oo'+s] = lambda: noinf_log( np.nanmean( np.exp(U['oo'+s][-1]) ) )\n",
    "        else:\n",
    "            v['m_oo'+s] = lambda: noinf_log( np.nanmean( np.exp(u['oo'+s]) ) )\n",
    "        # we are doing log change of average 5 day volume*price speard globally\n",
    "        v['m_vp5dd'+s] = lambda: V.m_vp5_[-1] - V.m_vp5_[-1-i]\n",
    "        # 'wVPm_' returns are first averaged horizontally across market, then averaged vertically across time using\n",
    "        # changing market volume*price weight, and this is somewhat necessary because volume*price changes across time\n",
    "        v['wVPm_oo'+s] = lambda: np.nansum(V.wVPm_oo1[-i:])\n",
    "        # volatility here. just, straightforward calc off the global returns\n",
    "        v['m_volatility'+s] = lambda: np.nanstd(V.m_oo1[-i:])\n",
    "        v['wVPm_volatility'+s] = lambda: np.nanstd(V.wVPm_oo1[-i:])\n",
    "    ########################################################################\n",
    "#     for h in horizons:\n",
    "#         strh = str(h)\n",
    "#         for ww, lag in [('m_vp1dd1',1),('m_vp5dd1',1),('m_oo1',1),('m_oo10',10),('wVPm_oo1',1),('wVPm_oo10',10),\n",
    "#                         ('m_volatility10',0),('m_volatility20',0),('wVPm_volatility10',0),('wVPm_volatility20',0)]:\n",
    "#             _add_minmax_pools(ww, h, Z=V, z=v, lag=lag)"
   ]
  },
  {
   "cell_type": "code",
   "execution_count": 41,
   "metadata": {
    "collapsed": true
   },
   "outputs": [],
   "source": [
    "def add_postprocessing_features(*,F):\n",
    "    ################## systematic assetCode encodings ####################\n",
    "    F['assetCode_inUniCount'] = F.assetCodeId.map(inUniCountSeries)\n",
    "    \n",
    "    ############# random assetCode encodings ################################\n",
    "    for i in range(1,11):\n",
    "        F['assetCode_randMap32_'+str(i**2)] = F.assetCodeId.map(randMap32(i**2)).astype(float)\n",
    "    #F['assetCodeIdWTFlogabs'] = F.assetCodeId.map(str).map(hash).pipe(np.abs).pipe(np.log)\n",
    "    #F['assetCodeIdWTFsin2'] = F.assetCodeId.map(str).map(hash).pipe(np.sin).pipe(lambda x: x * x)\n",
    "    F['assetCodeIdWTFFlogabs'] = F.assetCodeId.map(dfHack2.assetCodeIdWTFFlogabs)\n",
    "    F['assetCodeIdWTFFsin2'] = F.assetCodeId.map(dfHack2.assetCodeIdWTFFsin2)"
   ]
  },
  {
   "cell_type": "markdown",
   "metadata": {},
   "source": [
    "### Some rather unfortunate hack-like code to reliably generate features day-by-day follows until the next section"
   ]
  },
  {
   "cell_type": "markdown",
   "metadata": {},
   "source": [
    "Honestly don't bother trying to understand the code from here up till the header \"**HELLO READ THIS**\"\n",
    "\n",
    "It's all just plumbing work to get the feature generation code above to work in production."
   ]
  },
  {
   "cell_type": "code",
   "execution_count": 42,
   "metadata": {
    "collapsed": true
   },
   "outputs": [],
   "source": [
    "def make_single_A_U_u_V_v(*,M):\n",
    "    '''M needs to assetCodeId indexed'''\n",
    "    assert M.index.name == 'assetCodeId', \"argument to make_single_A_U_u_V_v must be assetCodeId-indexed\"\n",
    "    A = pd.DataFrame(index=stocksInUni).join(M, how='left') #EDITLINE\n",
    "    #^ A = join onto standard assetCode row-index\n",
    "    U = OX(**{c:A[c].values[np.newaxis,:] for c in columns_for_U},\n",
    "          **{c+'1':np.nan_to_num(A[c].values[np.newaxis,:]) for c in set(returns_columns.values())})\n",
    "    if OX.record_dependency:\n",
    "        for c in (c for c in U if c not in OX.depend_graph):\n",
    "            U[c] = U[c] # for building dependency graph\n",
    "    return A, U, OX(), OX(), OX()\n",
    "\n",
    "def make_U(*,M):\n",
    "    Us = [make_single_A_U_u_V_v(M=m.set_index('assetCodeId'))[1] for _,m in M.groupby('time')]\n",
    "    U = OX(**{c:np.concatenate([U[c] for U in Us],axis=0) for c in Us[0]})\n",
    "    return U"
   ]
  },
  {
   "cell_type": "code",
   "execution_count": 43,
   "metadata": {},
   "outputs": [
    {
     "data": {
      "text/plain": [
       "119"
      ]
     },
     "execution_count": 43,
     "metadata": {},
     "output_type": "execute_result"
    }
   ],
   "source": [
    "# do a minimal initial run of feature generation to get the static list of columns of interest and\n",
    "# also generate feature dependency and the set of features to allow\n",
    "OX.allow = lambda x: x in themodel.xAllowed\n",
    "\n",
    "Minit = M[M.time<=M.time.unique()[longterm]]\n",
    "set_basic_features(M=Minit)\n",
    "Uinit = make_U(M=Minit)\n",
    "\n",
    "OX.record_dependency = True; OX.depend_graph = {}\n",
    "\n",
    "uinit = OX()\n",
    "BUG.U0_keys = set(dict.keys(Uinit))\n",
    "add_shortterm_price_features(U=Uinit,u=uinit)\n",
    "add_longterm_price_features(U=Uinit,u=uinit)\n",
    "Vinit, vinit = OX(), OX()\n",
    "add_global_price_features(U=Uinit,u=uinit,V=Vinit,v=vinit)\n",
    "\n",
    "OX.record_dependency = False; OX.build_dependency()\n",
    "\n",
    "Mcolumns = [c for c in Minit.columns if c not in excluded_columns]\n",
    "xMcolumns = set(Mcolumns)\n",
    "Ucolumns = [c for c in Uinit if c not in Mcolumns and c[-1] not in '*_' and c in OX.depends]\n",
    "ucolumns = [c for c in uinit if c not in Mcolumns and c[-1] not in '*_' and c in OX.depends]\n",
    "Vcolumns = [c for c in Vinit if c not in Mcolumns and c[-1] not in '*_' and c in OX.depends]\n",
    "vcolumns = [c for c in vinit if c not in Mcolumns and c[-1] not in '*_' and c in OX.depends]\n",
    "xUcolumns,xucolumns,xVcolumns,xvcolumns = [set(C) for C in [Ucolumns,ucolumns,Vcolumns,vcolumns]]\n",
    "for i, a in enumerate([xUcolumns,xucolumns,xVcolumns,xvcolumns]):\n",
    "    for j, b in enumerate([xUcolumns,xucolumns,xVcolumns,xvcolumns]):\n",
    "        assert a is b or len(a&b)==0, f'a and b: {i} {j}'\n",
    "\n",
    "del Minit,Uinit,uinit,Vinit,vinit; gc.collect()"
   ]
  },
  {
   "cell_type": "code",
   "execution_count": 44,
   "metadata": {
    "collapsed": true
   },
   "outputs": [],
   "source": [
    "def iter_features_templates(MNP_iter, *, U_, V_, train=False):\n",
    "    U_, termU = U_\n",
    "    V_, termV = V_\n",
    "    for M, N, P in MNP_iter:\n",
    "        orig_index = M.index\n",
    "        set_basic_features(M=M) # adds \"long\" features and deletes non-log price features\n",
    "        M.set_index('assetCodeId', inplace=True)\n",
    "        A, U, u, V, v = make_single_A_U_u_V_v(M=M); del V\n",
    "        \n",
    "        assert BUG.U0_keys==set(dict.keys(U))\n",
    "        M.drop(columns=[c for c in M.columns if c not in xMcolumns], inplace=True)\n",
    "        \n",
    "        try:\n",
    "            akey = next(iter(U))\n",
    "            assert U[akey].shape[1] == U_[akey].shape[1]\n",
    "            # expand rows in old U_ if new assetCodeIds were seen #NOTE don't need this anymore, decided to only use inUni assets\n",
    "    #         akey = next(iter(U))\n",
    "    #         diff = U[akey].shape[1] - U_[akey].shape[1]\n",
    "    #         if diff > 0:\n",
    "    #             for key in U_:\n",
    "    #                 if key[-1] != '_': # normal features\n",
    "    #                     U_[key] = np.pad(U_[key], pad_width=((0,0),(0,diff)), mode='constant', constant_values=np.nan)\n",
    "    #                 else: # NaN-filled-with-0 features\n",
    "    #                     U_[key] = np.pad(U_[key], pad_width=((0,0),(0,diff)), mode='constant', constant_values=0)\n",
    "        except StopIteration: # no features in U\n",
    "            pass\n",
    "        \n",
    "        # join new row vectors in U to the old tables in U_\n",
    "        for key in U:\n",
    "            U_[key] = np.concatenate([U_[key],U[key]], axis=0)\n",
    "        xsingleUcolumns = set(U); del U\n",
    "        \n",
    "        # retain dimensions of U_ and V_ objects for sanity check after feature generation\n",
    "        _U_shape, _V_shape = {k:x.shape for k,x in dict.items(U_)}, {k:x.shape for k,x in dict.items(V_)}\n",
    "        \n",
    "        # add features to U_ and u and V and v\n",
    "        gc.collect()\n",
    "        add_shortterm_price_features(U=U_,u=u)\n",
    "        gc.collect()\n",
    "        add_longterm_price_features(U=U_,u=u)\n",
    "        gc.collect()\n",
    "        add_global_price_features(U=U_,u=u,V=V_,v=v)\n",
    "        gc.collect()\n",
    "        assert len(set(U_)&set(u))==0 and len(set(V_)&set(v))==0\n",
    "        \n",
    "        # run time check that the shape of the U things are ok\n",
    "        ##############################################BEGIN####CHECK####################################################\n",
    "        #dict.update(BUG, U=U,U_=U_,V_=V_,u=u,v=v,_U_shape=_U_shape,_V_shape=_V_shape)\n",
    "#         assert all(c in xMcolumns or c[-1] in '*_' for c in set(U_)^xUcolumns), (\n",
    "#             '!F! columns found in U_ not in Ucolumns must be in Mcolumns or end in exclusion suffixes')\n",
    "        #\n",
    "        try: # for U, u\n",
    "            c0 = next(iter(Ucolumns))\n",
    "            for c in Ucolumns:\n",
    "                assert len(U_[c].shape)==2 and U_[c].shape[1]==U_[c0].shape[1], '!F! U_[c] must have expected shape'\n",
    "                if c in xsingleUcolumns:\n",
    "                    assert U_[c].shape==_U_shape[c], '!F! U_[c] shape must be consistent with same from make_single_A_U_...'\n",
    "                else:\n",
    "                    assert U_[c].shape[0]==_U_shape[c][0]+1 and U_[c].shape[1]==_U_shape[c][1], '!F! U_[c] shape consistency'\n",
    "            assert all(c in xMcolumns or c[-1] in '*_' for c in set(u)^xucolumns), (\n",
    "                '!F! columns found in u not in ucolumns must be in Mcolumns or end in exclusion suffixes')\n",
    "            for c in ucolumns:\n",
    "                assert len(u[c].shape)==1 and u[c].shape[0]==U_[c0].shape[1], (\n",
    "                    f'`u` items shape must match last dimension: c={c}, u={u[c].shape}, U_={U_[c0].shape}')\n",
    "        except StopIteration: # U has no features (#TODO also doesn't check u even if u has features)\n",
    "            pass\n",
    "        #                for V,v\n",
    "        try: \n",
    "            assert all(c in xMcolumns or c[-1] in '*_' for c in set(V_)^xVcolumns), (\n",
    "                '!F! columns found in V_ not in Vcolumns must be in Mcolumns or end in exclusion suffixes')\n",
    "            c0 = next(iter(Vcolumns))\n",
    "            for c in Vcolumns:\n",
    "                assert len(V_[c].shape)==1 and V_[c].shape[0]==V_[c0].shape[0], 'V_[c] shape must be consistent'\n",
    "                assert V_[c].shape[0]==_V_shape[c][0]+1, 'V_[c].shape[0] must grow by 1 each day'\n",
    "            assert all(c in xMcolumns or c[-1] in '*_' for c in set(v)^xvcolumns), (\n",
    "                '!F! columns found in v not in vcolumns must be in Mcolumns or end in exclusion suffixes')\n",
    "        except StopIteration: # V has no features\n",
    "            pass\n",
    "        for c in vcolumns:\n",
    "            assert v[c].shape==(), 'v[c] must be scalar (i.e. shape=()) shaped'\n",
    "        #################################################END#######CHECK###############################################\n",
    "        \n",
    "        # cutoff excess past terms to save memory\n",
    "        for key in U_:\n",
    "            if len(U_[key])>termU:\n",
    "                U_[key] = U_[key][-termU:]\n",
    "        for key in V_:\n",
    "            if len(V_[key])>termV:\n",
    "                V_[key] = V_[key][-termV:]\n",
    "        \n",
    "        # take out the bottom row of the feature tables to feed out as our feature construction iterator\n",
    "        _wide = np.zeros(u[next(iter(u))].shape, dtype=np.int8) # dtype as np.int8 to make it not upcast orig dtype\n",
    "        _dict = {c: U_[c][-1] for c in Ucolumns}\n",
    "        _dict.update({c: u[c] for c in ucolumns})\n",
    "        _dict.update({c: V_[c][-1] + _wide for c in Vcolumns})\n",
    "        _dict.update({c: v[c] + _wide for c in vcolumns})\n",
    "        del u, v\n",
    "#         dict.update(BUG, U_=U_,V_=V_,u=u,v=v)\n",
    "        # piece everything together\n",
    "        columns = Ucolumns + ucolumns + Vcolumns + vcolumns\n",
    "        F = pd.DataFrame([_dict[c] for c in columns], index=columns, columns=A.index).T\n",
    "        F = M.join(F, how='left')\n",
    "        assert 'assetCodeId' not in F.columns\n",
    "        F.reset_index(inplace=True)\n",
    "        F.index = orig_index\n",
    "        \n",
    "        if train: # remove rows of stocks that are not inUni\n",
    "            keep = F.assetCodeId.isin(xStocksInUni).values & (P.universe!=0).values\n",
    "            F, P = F[keep], P[keep]\n",
    "        \n",
    "#         for c in enumeration_columns:\n",
    "#             assert np.issubdtype(F[c].dtype, np.integer)\n",
    "        add_postprocessing_features(F=F)\n",
    "        \n",
    "        # downgrade columns to 32bit dtypes for memory saving\n",
    "#        convert32(F) #FLOAT32 # we don't do this anymore because memsave_concat can do it for us\n",
    "        yield F, P\n",
    "        del F, P; gc.collect()"
   ]
  },
  {
   "cell_type": "code",
   "execution_count": 45,
   "metadata": {},
   "outputs": [
    {
     "data": {
      "text/plain": [
       "0"
      ]
     },
     "execution_count": 45,
     "metadata": {},
     "output_type": "execute_result"
    }
   ],
   "source": [
    "# make initial historical U_ and u_ for creating the whole training features #EDITNOTE\n",
    "\n",
    "def iter_M_N_P_train(*,M,N):\n",
    "    assert M.time.iloc[0] >= train_start_time, '`iter_M_N_P_train` needs to be fed `M` and `N` filtered on the training days'\n",
    "    M_, N_ = M, N\n",
    "    for time, M in M_.groupby('time'):\n",
    "#         if time<train_start_time: # no longer needed because I enforce feeding M already filtered for the training days\n",
    "#             continue\n",
    "        #M['quarter'] = M.time.dt.year+(M.time.dt.quarter-1)/4\n",
    "        P = M[[c for c in excluded_columns if c in M]] #EDITLINE\n",
    "        M = M.drop(columns=['returnsOpenNextMktres10'])#,'quarter'])\n",
    "        yield M, None, P\n",
    "        \n",
    "Mstart = M[M.time<train_start_time]\n",
    "set_basic_features(M=Mstart)\n",
    "U_ = make_U(M=Mstart)\n",
    "u_ = OX()\n",
    "add_shortterm_price_features(U=U_,u=u_)\n",
    "add_longterm_price_features(U=U_,u=u_)\n",
    "V_, v_ = OX(), OX()\n",
    "add_global_price_features(U=U_,u=u_,V=V_,v=v_)\n",
    "del Mstart, u_, v_; gc.collect()\n",
    "\n",
    "Mtrain = M[M.time>=train_start_time]\n",
    "#del M; gc.collect() #NOPE #TODO? this is totally wrong I need M after to generate the test U_ and V_"
   ]
  },
  {
   "cell_type": "markdown",
   "metadata": {},
   "source": [
    "##### make train helper"
   ]
  },
  {
   "cell_type": "code",
   "execution_count": 46,
   "metadata": {
    "collapsed": true
   },
   "outputs": [],
   "source": [
    "def memsave_concat(train):\n",
    "    m = (Mtrain.assetCode.map(assetCodeIdAssign).isin(xStocksInUni) & (Mtrain.universe!=0)).sum()\n",
    "    P_ = []\n",
    "    for k, (F, P) in enumerate(train):\n",
    "        if k == 0:\n",
    "            col = F.columns\n",
    "            ans = np.zeros([m,len(col)], dtype=np.float32) # #FLOAT32\n",
    "            m0 = 0\n",
    "        assert (F.index == P.index).all()\n",
    "        P_.append(P)\n",
    "        del P\n",
    "        m1 = m0 + len(F)\n",
    "        assert (F.columns == col).all()\n",
    "        ans[m0:m1] = F\n",
    "        del F; gc.collect()\n",
    "        m0 = m1\n",
    "    Pret = pd.concat(P_, axis=0)\n",
    "    Fret = pd.DataFrame(ans, index=Pret.index, columns=col, copy=False)\n",
    "    return Fret, Pret"
   ]
  },
  {
   "cell_type": "markdown",
   "metadata": {},
   "source": [
    "#### The cell to generate the training features. WARNING: takes a long time!"
   ]
  },
  {
   "cell_type": "code",
   "execution_count": 199,
   "metadata": {},
   "outputs": [
    {
     "name": "stdout",
     "output_type": "stream",
     "text": [
      "0.........100.........200.........300.........400.........500.........600.........700.........800.........900.........1000.........1100.........1200.........1300.........1400.........1500.........1600.........1700.........1800.........1900.........2000.CPU times: user 2h 1min 53s, sys: 2min 29s, total: 2h 4min 22s\n",
      "Wall time: 1h 37min 3s\n"
     ]
    }
   ],
   "source": [
    "%%time\n",
    "def make_train():\n",
    "    global U_, V_\n",
    "    feat_iter = iter_features_templates(iter_M_N_P_train(M=Mtrain,N=None), U_=(U_,longterm), V_=(V_,longterm), train=True)\n",
    "    train = ( (print_progress(i,10), FP)[-1] for i,FP in enumerate(feat_iter) )\n",
    "    del U_, V_; gc.collect()\n",
    "    F, P = memsave_concat(train)\n",
    "    F.index = P.index\n",
    "    return F,P\n",
    "F,P = make_train()"
   ]
  },
  {
   "cell_type": "markdown",
   "metadata": {},
   "source": [
    "#### saving some variables for leaderboard submission loop before deletion"
   ]
  },
  {
   "cell_type": "code",
   "execution_count": 47,
   "metadata": {},
   "outputs": [
    {
     "ename": "NameError",
     "evalue": "name 'M' is not defined",
     "output_type": "error",
     "traceback": [
      "\u001b[0;31m---------------------------------------------------------------------------\u001b[0m",
      "\u001b[0;31mNameError\u001b[0m                                 Traceback (most recent call last)",
      "\u001b[0;32m<ipython-input-47-906f4adb212f>\u001b[0m in \u001b[0;36m<module>\u001b[0;34m()\u001b[0m\n\u001b[1;32m      1\u001b[0m \u001b[0;31m# defines U_ ahead of time for initial start of the feature processing loop in submission stage\u001b[0m\u001b[0;34m\u001b[0m\u001b[0;34m\u001b[0m\u001b[0m\n\u001b[1;32m      2\u001b[0m \u001b[0;34m\u001b[0m\u001b[0m\n\u001b[0;32m----> 3\u001b[0;31m \u001b[0mMstart\u001b[0m \u001b[0;34m=\u001b[0m \u001b[0mM\u001b[0m\u001b[0;34m[\u001b[0m\u001b[0mM\u001b[0m\u001b[0;34m.\u001b[0m\u001b[0mtime\u001b[0m\u001b[0;34m>=\u001b[0m\u001b[0mM\u001b[0m\u001b[0;34m.\u001b[0m\u001b[0mtime\u001b[0m\u001b[0;34m.\u001b[0m\u001b[0munique\u001b[0m\u001b[0;34m(\u001b[0m\u001b[0;34m)\u001b[0m\u001b[0;34m[\u001b[0m\u001b[0;34m-\u001b[0m\u001b[0mlongterm\u001b[0m\u001b[0;34m]\u001b[0m\u001b[0;34m]\u001b[0m\u001b[0;34m\u001b[0m\u001b[0m\n\u001b[0m\u001b[1;32m      4\u001b[0m \u001b[0mset_basic_features\u001b[0m\u001b[0;34m(\u001b[0m\u001b[0mM\u001b[0m\u001b[0;34m=\u001b[0m\u001b[0mMstart\u001b[0m\u001b[0;34m)\u001b[0m\u001b[0;34m\u001b[0m\u001b[0m\n\u001b[1;32m      5\u001b[0m \u001b[0mU_\u001b[0m \u001b[0;34m=\u001b[0m \u001b[0mmake_U\u001b[0m\u001b[0;34m(\u001b[0m\u001b[0mM\u001b[0m\u001b[0;34m=\u001b[0m\u001b[0mMstart\u001b[0m\u001b[0;34m)\u001b[0m\u001b[0;34m\u001b[0m\u001b[0m\n",
      "\u001b[0;31mNameError\u001b[0m: name 'M' is not defined"
     ]
    }
   ],
   "source": [
    "# defines U_ ahead of time for initial start of the feature processing loop in submission stage\n",
    "\n",
    "Mstart = M[M.time>=M.time.unique()[-longterm]]\n",
    "set_basic_features(M=Mstart)\n",
    "U_ = make_U(M=Mstart)\n",
    "del Mstart; gc.collect()\n",
    "u_, V_, v_ = OX(), OX(), OX()\n",
    "add_shortterm_price_features(U=U_,u=u_)\n",
    "add_longterm_price_features(U=U_,u=u_)\n",
    "add_global_price_features(U=U_,u=u_,V=V_,v=v_)\n",
    "del u_, v_; gc.collect()"
   ]
  },
  {
   "cell_type": "code",
   "execution_count": 104,
   "metadata": {
    "collapsed": true
   },
   "outputs": [
    {
     "ename": "NameError",
     "evalue": "name 'Mstart' is not defined",
     "output_type": "error",
     "traceback": [
      "\u001b[0;31m---------------------------------------------------------------------------\u001b[0m",
      "\u001b[0;31mNameError\u001b[0m                                 Traceback (most recent call last)",
      "\u001b[0;32m<ipython-input-104-e360e0574901>\u001b[0m in \u001b[0;36m<module>\u001b[0;34m()\u001b[0m\n\u001b[0;32m----> 1\u001b[0;31m \u001b[0;32mdel\u001b[0m \u001b[0mM\u001b[0m\u001b[0;34m,\u001b[0m \u001b[0mMstart\u001b[0m\u001b[0;34m;\u001b[0m \u001b[0mgc\u001b[0m\u001b[0;34m.\u001b[0m\u001b[0mcollect\u001b[0m\u001b[0;34m(\u001b[0m\u001b[0;34m)\u001b[0m \u001b[0;31m# We still need U_ and V_ for final submission loop\u001b[0m\u001b[0;34m\u001b[0m\u001b[0m\n\u001b[0m",
      "\u001b[0;31mNameError\u001b[0m: name 'Mstart' is not defined"
     ]
    }
   ],
   "source": [
    "del M; gc.collect() # We still need U_ and V_ for final submission loop"
   ]
  },
  {
   "cell_type": "markdown",
   "metadata": {},
   "source": [
    "# HELLO READ THIS"
   ]
  },
  {
   "cell_type": "markdown",
   "metadata": {},
   "source": [
    "By now we have DataFrames F and P\n",
    "- F = The features data. shape = ({training and cv days}, {all the features})\n",
    "- P = The target and other columns not in F. Same index as F\n",
    "\n",
    "import to note,\n",
    "- columns under F: assetCodeId\n",
    "- columns under P: assetCode, time, quarter"
   ]
  },
  {
   "cell_type": "markdown",
   "metadata": {},
   "source": [
    "##### some P columns setup"
   ]
  },
  {
   "cell_type": "code",
   "execution_count": 200,
   "metadata": {
    "collapsed": true
   },
   "outputs": [],
   "source": [
    "##P.rename(columns={'returnsOpenNextMktres10':'y'}, inplace=True)\n",
    "P['y'] = P.returnsOpenNextMktres10\n",
    "#globalStd = (P.universe*P.y).std()\n",
    "#grp = P.groupby(F.assetCodeId)[['y','universe']]\n",
    "#assetStds = grp.apply(lambda x: np.sqrt((x.universe*x.y**2).sum()/(x.universe).sum()) if x.universe.sum()>25 else globalStd)\n",
    "#P['assetCodeId'] = P.assetCode.map(assetCodeIdAssign)\n",
    "#P.y /= P.assetCodeId.map(assetStds)"
   ]
  },
  {
   "cell_type": "code",
   "execution_count": 203,
   "metadata": {
    "collapsed": true
   },
   "outputs": [],
   "source": [
    "def setup_P(*, F, P, vp=True, always=True):\n",
    "    P['quarter'] = P.time.dt.year+(P.time.dt.quarter-1)/4\n",
    "    P['target'] = P.y>0\n",
    "    P['upDown'] = (P.target*2-1)\n",
    "    P['absVal'] = np.abs(P.y)\n",
    "    P['flat_weight'] = P.absVal\n",
    "    if vp:\n",
    "        P['vp1_weight'] = P.absVal*F.vp1/1e9\n",
    "        P['vp5_weight'] = P.absVal*F.vp5/1e9\n",
    "        P['vp10_weight'] = P.absVal*F.vp10/1e9\n",
    "        P['vp20_weight'] = P.absVal*F.vp20/1e9\n",
    "    if always:\n",
    "        P['always_weight'] = P.absVal*F.assetCodeId.isin(xStocksAlways)\n",
    "setup_P(F=F,P=P,vp=False)"
   ]
  },
  {
   "cell_type": "markdown",
   "metadata": {},
   "source": [
    "#### _~ ~ ~ ~ ~ saving/loading for local testing_ #TODO #KILL"
   ]
  },
  {
   "cell_type": "code",
   "execution_count": 205,
   "metadata": {
    "collapsed": true
   },
   "outputs": [],
   "source": [
    "# pd.to_pickle((F,P),'../data/saves/ikg.test.pkl')"
   ]
  },
  {
   "cell_type": "code",
   "execution_count": 48,
   "metadata": {
    "collapsed": true
   },
   "outputs": [],
   "source": [
    "#pd.to_pickle((F,P), '/big/data/saves/train_5fixedsince.32.pkl')\n",
    "#pd.to_pickle((F,P), '/big/data/saves/train_5fixedsince+1threecombos.32.pkl')\n",
    "F,P = pd.read_pickle('/big/data/saves/train_5fixedsince+1.32.pkl')"
   ]
  },
  {
   "cell_type": "code",
   "execution_count": 96,
   "metadata": {
    "collapsed": true
   },
   "outputs": [],
   "source": [
    "#pd.to_pickle((F,P), '/big/data/saves/train_4Newnewfault64xx.pkl')\n",
    "#F,P = pd.read_pickle('/big/data/saves/train_4Newnewfault64xx.pkl')"
   ]
  },
  {
   "cell_type": "code",
   "execution_count": 51,
   "metadata": {
    "collapsed": true
   },
   "outputs": [],
   "source": [
    "# FF,PP = pd.read_pickle('/big/data/saves/train_3allright32.pkl')"
   ]
  },
  {
   "cell_type": "code",
   "execution_count": 52,
   "metadata": {
    "collapsed": true
   },
   "outputs": [],
   "source": [
    "#F0,P0 = pd.read_pickle('/big/data/saves/train_thefault.pkl')"
   ]
  },
  {
   "cell_type": "code",
   "execution_count": 53,
   "metadata": {
    "collapsed": true
   },
   "outputs": [],
   "source": [
    "# F,P = FF,PP"
   ]
  },
  {
   "cell_type": "markdown",
   "metadata": {},
   "source": [
    "## @#@///////////////////////////////////// Training some particular model! /////////////////////////////////@#@"
   ]
  },
  {
   "cell_type": "code",
   "execution_count": 49,
   "metadata": {
    "collapsed": true
   },
   "outputs": [],
   "source": [
    "def lgb_kaggle_metric(preds, valid_data):\n",
    "    df_time = valid_data.timeFactor\n",
    "    #labels = valid_data.get_label()\n",
    "    values = valid_data.value\n",
    "    #assert len(labels) == len(df_time)\n",
    "\n",
    "    preds = preds*2-1\n",
    "    #labels = labels*2-1\n",
    "    x_t = preds * values\n",
    "    \n",
    "    # Here we take advantage of the fact that `labels` (used to calculate `x_t`)\n",
    "    # is a pd.Series and call `group_by`\n",
    "    x_t_sum = x_t.groupby(df_time).sum()\n",
    "    score = x_t_sum.mean() / x_t_sum.std()\n",
    "\n",
    "    valid_data.i += lgb_kaggle_metric.hack\n",
    "    return 'kaggle', score+valid_data.i, True\n",
    "lgb_kaggle_metric.hack = 0"
   ]
  },
  {
   "cell_type": "markdown",
   "metadata": {},
   "source": [
    "### load the lgb data structure and train and evaluate"
   ]
  },
  {
   "cell_type": "code",
   "execution_count": 50,
   "metadata": {
    "collapsed": true
   },
   "outputs": [],
   "source": [
    "def create_booster(model):\n",
    "    F_, P_ = F[model.features], P.copy() #TODO #MEM\n",
    "    lgb_data_info = dict(\n",
    "        feature_name = list(F_.columns),\n",
    "        categorical_feature = list(F_.dtypes[F_.dtypes.isin([np.int64,np.int32])].index),\n",
    "        free_raw_data = True,\n",
    "    )\n",
    "    theweight = model.weight\n",
    "    ho = P_.quarter >= 2015.5\n",
    "    tr = P_.quarter.isin(model.train_on)\n",
    "    cv = (P_.time>=train_start_time) & ~(tr|ho)\n",
    "    L = O()\n",
    "    L.tr = lgb.Dataset(F_[tr], P_.target[tr], weight=P_[theweight][tr], **lgb_data_info)\n",
    "    L.cv = lgb.Dataset(F_[cv], P_.target[cv], reference=L.tr, weight=P_[theweight][cv], **lgb_data_info)\n",
    "    L.ho = lgb.Dataset(F_[ho], P_.target[ho], weight=P_[theweight][ho], **lgb_data_info)\n",
    "    \n",
    "    L.tr.timeFactor = P_.time[tr].factorize()[0]\n",
    "    L.cv.timeFactor = P_.time[cv].factorize()[0]\n",
    "    _value = (P_.upDown*P_[theweight])\n",
    "    L.tr.value = _value[tr]\n",
    "    L.cv.value = _value[cv]\n",
    "    L.tr.i = 0\n",
    "    L.cv.i = 0\n",
    "    \n",
    "    params = dict(\n",
    "        objective = 'binary',\n",
    "        num_iterations = 100000,\n",
    "        early_stopping_round = 32,\n",
    "        metric = 'None',\n",
    "        seed = 44,\n",
    "        bagging_seed = 45,\n",
    "        feature_fraction_seed = 46,\n",
    "    )\n",
    "    params.update(model.params)\n",
    "    global VERBOSE_EVAL\n",
    "    model.bst = bst = lgb.train(params, L.tr, valid_sets=[L.tr,L.cv], valid_names=['tr','cv'],\n",
    "                                feval=lgb_kaggle_metric, verbose_eval=VERBOSE_EVAL)\n",
    "    if VERBOSE_EVAL:\n",
    "        print('='*60)\n",
    "    P_['guess'] = bst.predict(F_)*2-1\n",
    "    P_['trade'] = P_.guess*P_.upDown*P_[theweight]\n",
    "    daily = P_[~ho].groupby('time').trade.sum()\n",
    "    bst.std = daily.std(ddof=0)"
   ]
  },
  {
   "cell_type": "code",
   "execution_count": 51,
   "metadata": {
    "collapsed": true
   },
   "outputs": [
    {
     "name": "stdout",
     "output_type": "stream",
     "text": [
      "Training until validation scores don't improve for 32 rounds.\n",
      "[50]\ttr's kaggle: 0.886403\tcv's kaggle: 0.697499\n",
      "[100]\ttr's kaggle: 1.03871\tcv's kaggle: 0.727649\n",
      "[150]\ttr's kaggle: 1.13504\tcv's kaggle: 0.732316\n",
      "[200]\ttr's kaggle: 1.23038\tcv's kaggle: 0.747616\n",
      "[250]\ttr's kaggle: 1.3062\tcv's kaggle: 0.751806\n",
      "[300]\ttr's kaggle: 1.37325\tcv's kaggle: 0.75537\n",
      "[350]\ttr's kaggle: 1.43647\tcv's kaggle: 0.755318\n",
      "Early stopping, best iteration is:\n",
      "[328]\ttr's kaggle: 1.41105\tcv's kaggle: 0.757051\n",
      "============================================================\n",
      "Training until validation scores don't improve for 32 rounds.\n",
      "[50]\ttr's kaggle: 1.07022\tcv's kaggle: 0.56358\n",
      "Early stopping, best iteration is:\n",
      "[24]\ttr's kaggle: 1.03679\tcv's kaggle: 0.607513\n",
      "============================================================\n",
      "Training until validation scores don't improve for 32 rounds.\n",
      "[50]\ttr's kaggle: 0.669139\tcv's kaggle: 0.610482\n",
      "[100]\ttr's kaggle: 0.721792\tcv's kaggle: 0.65056\n",
      "[150]\ttr's kaggle: 0.769723\tcv's kaggle: 0.672569\n",
      "[200]\ttr's kaggle: 0.800227\tcv's kaggle: 0.678887\n",
      "[250]\ttr's kaggle: 0.828881\tcv's kaggle: 0.675113\n",
      "Early stopping, best iteration is:\n",
      "[226]\ttr's kaggle: 0.817518\tcv's kaggle: 0.682471\n",
      "============================================================\n",
      "Training until validation scores don't improve for 32 rounds.\n",
      "[50]\ttr's kaggle: 0.77272\tcv's kaggle: 0.596703\n",
      "[100]\ttr's kaggle: 0.845563\tcv's kaggle: 0.625963\n",
      "[150]\ttr's kaggle: 0.884677\tcv's kaggle: 0.642798\n",
      "[200]\ttr's kaggle: 0.906609\tcv's kaggle: 0.645239\n",
      "Early stopping, best iteration is:\n",
      "[180]\ttr's kaggle: 0.898821\tcv's kaggle: 0.649455\n",
      "============================================================\n",
      "Training until validation scores don't improve for 32 rounds.\n",
      "[50]\ttr's kaggle: 0.743714\tcv's kaggle: 0.630192\n",
      "[100]\ttr's kaggle: 0.798329\tcv's kaggle: 0.637158\n",
      "Early stopping, best iteration is:\n",
      "[84]\ttr's kaggle: 0.783533\tcv's kaggle: 0.64117\n",
      "============================================================\n",
      "CPU times: user 35min 36s, sys: 42.5 s, total: 36min 18s\n",
      "Wall time: 4min 48s\n"
     ]
    }
   ],
   "source": [
    "%%time\n",
    "VERBOSE_EVAL = 50\n",
    "for model, c in zip(themodel.solo.specs, themodel.solo.coefs):\n",
    "    if c != 0:\n",
    "        create_booster(model)"
   ]
  },
  {
   "cell_type": "code",
   "execution_count": 52,
   "metadata": {
    "collapsed": true
   },
   "outputs": [],
   "source": [
    "@inside(themodel)\n",
    "def guess(*, F):\n",
    "    weight_map_multiplier = {'vp1_weight':F.vp1/1e9,'vp10_weight':F.vp10/1e9,'flat_weight':1,}\n",
    "    solos = [np.nan_to_num((s.bst.predict(F[s.features])*2-1) * weight_map_multiplier[s.weight]) * c / s.bst.std\n",
    "             for s,c in zip(themodel.solo.specs,themodel.solo.coefs) if c!=0]\n",
    "    pairs = [np.nan_to_num((s.bst.predict(F[s.features])*2-1) * weight_map_multiplier[s.weight]) * c / s.bst.std\n",
    "             for s,c in zip(themodel.pair.specs,themodel.pair.coefs) if c!=0]\n",
    "    return (sum(solos+pairs)/1000000).clip(-1,1)"
   ]
  },
  {
   "cell_type": "code",
   "execution_count": 53,
   "metadata": {},
   "outputs": [
    {
     "name": "stdout",
     "output_type": "stream",
     "text": [
      "ikg, s00, s10, s22, s23, s24, "
     ]
    }
   ],
   "source": [
    "[print((spec.__name__ if spec is not None else 'None'), end=', ') for spec in themodel.solo.specs];"
   ]
  },
  {
   "cell_type": "code",
   "execution_count": 54,
   "metadata": {
    "collapsed": true
   },
   "outputs": [],
   "source": [
    "# themodel.solo.coefs = [0, 1, .25, .25, .25, .25]"
   ]
  },
  {
   "cell_type": "code",
   "execution_count": 56,
   "metadata": {},
   "outputs": [
    {
     "name": "stdout",
     "output_type": "stream",
     "text": [
      "0.6946364964960793\n"
     ]
    },
    {
     "data": {
      "image/png": "[encoded data removed]",
      "text/plain": [
       "<matplotlib.figure.Figure at 0x7f60fc6f15f8>"
      ]
     },
     "metadata": {},
     "output_type": "display_data"
    }
   ],
   "source": [
    "ho = P.quarter >= 2015.5\n",
    "\n",
    "P['guess'] = themodel.guess(F=F)\n",
    "P.guess = P.guess*(np.abs(P.guess)>=0.0)\n",
    "\n",
    "P['trade'] = P.guess*P.upDown*P.flat_weight\n",
    "\n",
    "daily = P[ho].groupby('time').trade.sum()\n",
    "print(daily.mean()/daily.std(ddof=0))\n",
    "plt.hist(daily, bins=80);"
   ]
  },
  {
   "cell_type": "code",
   "execution_count": 57,
   "metadata": {
    "collapsed": true
   },
   "outputs": [],
   "source": [
    "time = P[ho].groupby('time').time.first()\n",
    "market = F[ho].groupby(P.time).m_oo1.first()\n",
    "trade = P[ho].groupby('time').trade.sum()"
   ]
  },
  {
   "cell_type": "code",
   "execution_count": 58,
   "metadata": {},
   "outputs": [
    {
     "data": {
      "image/png": "[encoded data removed]",
      "text/plain": [
       "<matplotlib.figure.Figure at 0x7f60fcfdd278>"
      ]
     },
     "metadata": {},
     "output_type": "display_data"
    }
   ],
   "source": [
    "%matplotlib inline\n",
    "canvas(12,6)\n",
    "plt.plot(time, market/market.std(ddof=0), linewidth=.2);\n",
    "plt.plot(time, trade/trade.std(ddof=0), linewidth=1);"
   ]
  },
  {
   "cell_type": "markdown",
   "metadata": {},
   "source": [
    "## +-+-+-+-+-+-+-+-+-+-+-+-+-+-+- Prediction and submission +-+-+-+-+-+-+-+-+-+-+-+-+-+-+-+-"
   ]
  },
  {
   "cell_type": "markdown",
   "metadata": {},
   "source": [
    "#### the rest of the administrative pipeline"
   ]
  },
  {
   "cell_type": "code",
   "execution_count": 59,
   "metadata": {
    "collapsed": true
   },
   "outputs": [],
   "source": [
    "__env__ = _make_env() #TODO #KILL"
   ]
  },
  {
   "cell_type": "code",
   "execution_count": 60,
   "metadata": {},
   "outputs": [
    {
     "name": "stdout",
     "output_type": "stream",
     "text": [
      "0.........10.........20.........30.........40.........50.........60.........70.........80.........90.........100.........110.........120.........130.........140.........150.........160.........170.........180.........190.........200.........210.........220.........230.........240.........250.........260.........270.........280.........290.........300.........310.........320.........330.........340.........350.........360.........370.........380.........390.........400.........410.........420.........430.........440.........450.........460.........470.........480.........490.........500.........510.........520.........530.........540.........550.........560.........570.........580.........590.........600.........610.........620.........630........CPU times: user 57min 32s, sys: 2min, total: 59min 33s\n",
      "Wall time: 18min 38s\n"
     ]
    }
   ],
   "source": [
    "%%time\n",
    "def do_submission_loop():\n",
    "    feat_iter = iter_features_templates(__env__.get_prediction_days(), U_=(U_,longterm), V_=(V_,longterm))\n",
    "    for i, (f, p) in enumerate(feat_iter):\n",
    "        print_progress(i)\n",
    "        p.confidenceValue = ans = themodel.guess(F=f)\n",
    "        if np.isnan(ans).any() or (ans<-1).any() or (ans>1).any():\n",
    "            BUG.i, BUG.f, BUG.p, BUG.ans = i, f, p, ans\n",
    "            assert False\n",
    "        __env__.predict(p)\n",
    "        gc.collect()\n",
    "do_submission_loop()"
   ]
  },
  {
   "cell_type": "code",
   "execution_count": 61,
   "metadata": {},
   "outputs": [
    {
     "name": "stdout",
     "output_type": "stream",
     "text": [
      "Your submission file has been saved. Once you `Commit` your Kernel and it finishes running, you can submit the file to the competition from the Kernel Viewer `Output` tab.\n"
     ]
    }
   ],
   "source": [
    "__env__.write_submission_file()"
   ]
  },
  {
   "cell_type": "markdown",
   "metadata": {},
   "source": [
    "# ~ ~ ~ ~ ~ ~ ~ ~ ~ ~ ~ ~ ~ ~ ~ LOCAL TESTING ~ ~ ~ ~ ~ ~ ~ ~ ~ ~ ~ ~ ~ ~ ~ ~ ~ "
   ]
  }
 ],
 "metadata": {
  "kernelspec": {
   "display_name": "Python 3",
   "language": "python",
   "name": "python3"
  },
  "language_info": {
   "codemirror_mode": {
    "name": "ipython",
    "version": 3
   },
   "file_extension": ".py",
   "mimetype": "text/x-python",
   "name": "python",
   "nbconvert_exporter": "python",
   "pygments_lexer": "ipython3",
   "version": "3.6.2"
  }
 },
 "nbformat": 4,
 "nbformat_minor": 2
}
