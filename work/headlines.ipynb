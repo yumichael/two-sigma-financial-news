{
 "cells": [
  {
   "cell_type": "code",
   "execution_count": 1,
   "metadata": {
    "collapsed": true
   },
   "outputs": [],
   "source": [
    "from common import *\n",
    "import globals as top_imports\n",
    "top_imports.use_N = True\n",
    "from given import *\n",
    "import re"
   ]
  },
  {
   "cell_type": "code",
   "execution_count": 2,
   "metadata": {
    "collapsed": true
   },
   "outputs": [],
   "source": [
    "quarter = lambda time: (lambda time: (time.dt.year+(time.dt.quarter-1)/4).astype(np.float32))(pd.Series(time))\n",
    "halfYear = lambda time: (quarter(time)*2).astype(int).values/2"
   ]
  },
  {
   "cell_type": "code",
   "execution_count": 3,
   "metadata": {
    "collapsed": true
   },
   "outputs": [],
   "source": [
    "pd.set_option('display.max_colwidth', 115)"
   ]
  },
  {
   "cell_type": "code",
   "execution_count": 4,
   "metadata": {},
   "outputs": [],
   "source": [
    "def setup_N(*, N):\n",
    "    #_N_ = get_N() #pd.read_pickle(the_data/'trans/N10.pkl') #get_N()\n",
    "    N['assetName'] = N.assetName.astype(str)\n",
    "    N['assetNameId'] = N.assetName.map(assetNameIdAssign)\n",
    "    N['assetNamesCount'] = N[['sourceId','assetNameId']].groupby('sourceId').transform('count')\n",
    "    #N['assetNames'] = N[['sourceId','assetNameId']].groupby('sourceId').transform(frozenset)\n",
    "    N['firstMentionFixed'] = N.firstMentionSentence.replace(0, 999)\n",
    "\n",
    "    @njit\n",
    "    def make_news_groupby_day(ref, col):\n",
    "        '''Params - ref: np.ndarray {1d} should be something like np.unique(M.time.values)\n",
    "                    col: np.ndarray {1d} should be something like N.time.values\n",
    "        Return N.time mapped to the corresponding M.time values\n",
    "        '''\n",
    "        i, j = 0, 0\n",
    "        ret = col.copy()\n",
    "        for j in range(len(col)):\n",
    "            while ref[i] < col[j]:\n",
    "                i += 1\n",
    "            ret[j] = ref[i]\n",
    "        return ret\n",
    "    N['groupbyTime'] = pd.Series(make_news_groupby_day(np.unique(M.time.values), N.time.values)).astype(M.time.dtype)"
   ]
  },
  {
   "cell_type": "code",
   "execution_count": 5,
   "metadata": {},
   "outputs": [
    {
     "ename": "NameError",
     "evalue": "name '_N_' is not defined",
     "output_type": "error",
     "traceback": [
      "\u001b[0;31m---------------------------------------------------------------------------\u001b[0m",
      "\u001b[0;31mNameError\u001b[0m                                 Traceback (most recent call last)",
      "\u001b[0;32m<ipython-input-5-c4f907c1d489>\u001b[0m in \u001b[0;36m<module>\u001b[0;34m()\u001b[0m\n\u001b[0;32m----> 1\u001b[0;31m \u001b[0mN\u001b[0m \u001b[0;34m=\u001b[0m \u001b[0m_N_small\u001b[0m \u001b[0;34m=\u001b[0m \u001b[0m_N_\u001b[0m\u001b[0;34m[\u001b[0m\u001b[0;34m(\u001b[0m\u001b[0;34m'2015-01-01'\u001b[0m\u001b[0;34m<=\u001b[0m\u001b[0m_N_\u001b[0m\u001b[0;34m.\u001b[0m\u001b[0mtime\u001b[0m\u001b[0;34m)\u001b[0m\u001b[0;34m&\u001b[0m\u001b[0;34m(\u001b[0m\u001b[0m_N_\u001b[0m\u001b[0;34m.\u001b[0m\u001b[0mtime\u001b[0m\u001b[0;34m<\u001b[0m\u001b[0;34m'2015-04-01'\u001b[0m\u001b[0;34m)\u001b[0m\u001b[0;34m]\u001b[0m\u001b[0;34m\u001b[0m\u001b[0;34m\u001b[0m\u001b[0m\n\u001b[0m",
      "\u001b[0;31mNameError\u001b[0m: name '_N_' is not defined"
     ]
    }
   ],
   "source": [
    "# N = _N_small = _N_[('2015-01-01'<=_N_.time)&(_N_.time<'2015-04-01')]"
   ]
  },
  {
   "cell_type": "code",
   "execution_count": 7,
   "metadata": {
    "collapsed": true
   },
   "outputs": [],
   "source": [
    "from akamap import akamap\n",
    "xAssetNames = set(assetNameIdAssign.series)\n",
    "_flag = False\n",
    "for x in akamap:\n",
    "    if x not in xAssetNames:\n",
    "        _flag = True\n",
    "        print(x)\n",
    "assert not _flag"
   ]
  },
  {
   "cell_type": "markdown",
   "metadata": {},
   "source": [
    "# Helpers"
   ]
  },
  {
   "cell_type": "code",
   "execution_count": 8,
   "metadata": {
    "collapsed": true
   },
   "outputs": [],
   "source": [
    "ljust = lambda s: s.str.ljust(s.str.len().max())\n",
    "def ljust_c(columns):\n",
    "    if isinstance(columns, str):\n",
    "        columns = [columns]\n",
    "    def ljust_df(df):\n",
    "        df = df.copy()\n",
    "        for c in columns:\n",
    "            df[c] = ljust(df[c])\n",
    "        return df\n",
    "    return ljust_df"
   ]
  },
  {
   "cell_type": "code",
   "execution_count": 9,
   "metadata": {
    "collapsed": true
   },
   "outputs": [],
   "source": [
    "def sample(k):\n",
    "    def sample_k(df):\n",
    "        n = len(df)\n",
    "        samps = sorted(random.sample(range(n), k))\n",
    "        return df.iloc[samps]\n",
    "    return sample_k"
   ]
  },
  {
   "cell_type": "markdown",
   "metadata": {},
   "source": [
    "# Notes and TODOs"
   ]
  },
  {
   "cell_type": "code",
   "execution_count": 10,
   "metadata": {
    "collapsed": true
   },
   "outputs": [],
   "source": [
    "'STCKa.O vs STCKb.O';"
   ]
  },
  {
   "cell_type": "code",
   "execution_count": 11,
   "metadata": {
    "collapsed": true
   },
   "outputs": [],
   "source": [
    "'''\n",
    "stock matching algorithm:\n",
    "    match whole\n",
    "    loop take away one token from right and try match\n",
    "    repeat above with symbols removed (add no space)\n",
    "''';"
   ]
  },
  {
   "cell_type": "code",
   "execution_count": 12,
   "metadata": {
    "collapsed": true
   },
   "outputs": [],
   "source": [
    "'''\n",
    "preprocessing pipeline:\n",
    "    replace \\ => [delete]\n",
    "    replace ` => '\n",
    "    convert numbers\n",
    "    convert stock ticker symbols\n",
    "    replace ... => #ellipsis\n",
    "    replace . => [delete]\n",
    "    replace -- => #dash\n",
    "    replace [symbol not backslash] => [same symbol with spaces on either side]\n",
    "    lowercase\n",
    "    split\n",
    "    remove stock endings words\n",
    "    match stock name\n",
    "        match canonical name in decreasing num words right to left\n",
    "            also try get rid of symbol words inside decreasing word loop # also commas before Inc, Ltd\n",
    "        repeat prev 2 lines with all aka names\n",
    "            order of which choose aka names as follows:\n",
    "                if aka maps to list, do canon name first, then the list in order\n",
    "                if aka maps to one str, see if wordified the aka str is sublist of canon name,\n",
    "                    if so, do canon name first, then aka name\n",
    "                    else, do aka name first, then canon\n",
    "    remove CORPORATION/INCORPORATED and the likes from after the stock mention #TODO\n",
    "''';"
   ]
  },
  {
   "cell_type": "markdown",
   "metadata": {},
   "source": [
    "# Preprocessing"
   ]
  },
  {
   "cell_type": "code",
   "execution_count": 13,
   "metadata": {
    "collapsed": true
   },
   "outputs": [],
   "source": [
    "def make_replacer(key_values):\n",
    "    try:\n",
    "        replace_dict = dict(key_values)\n",
    "    except (TypeError, ValueError):\n",
    "        replace_dict = {a: '' for a in key_values}\n",
    "    replacement_function = lambda match: replace_dict[match.group(0)]\n",
    "    pattern = re.compile(\"|\".join([re.escape(k) for k, v in replace_dict.items()]), re.M)\n",
    "    return lambda string: pattern.sub(replacement_function, string)"
   ]
  },
  {
   "cell_type": "markdown",
   "metadata": {},
   "source": [
    "## real code"
   ]
  },
  {
   "cell_type": "markdown",
   "metadata": {},
   "source": [
    "#### define some constants"
   ]
  },
  {
   "cell_type": "code",
   "execution_count": 14,
   "metadata": {
    "collapsed": true
   },
   "outputs": [],
   "source": [
    "corpFull = {\n",
    "    'Incorporated': 'Inc',\n",
    "    ',Incorporated': ',Inc',\n",
    "    'Corporation': 'Corp',\n",
    "    'Company': 'Co',\n",
    "    'Limited': 'Ltd',\n",
    "    ',Limited': ',Ltd',\n",
    "    ',Limited Liability Company': 'LLC',\n",
    "    ',Limited Liability Company': ',LLC',\n",
    "    'Public Limited Company': 'PLC',\n",
    "    ',Public Limited Company': ',PLC',\n",
    "    'Limited Partnership': ['LP', 'L P'],\n",
    "    ',Limited Partnership': [',LP', ', L P'],\n",
    "    'Companies': 'Cos',\n",
    "    'Societe anonyme': ['SA','S A'],\n",
    "    'Naamloze vennootschap': ['NV', 'N V'],\n",
    "    # AS A/S ASA full names don't show up in news\n",
    "    'Aktiengesellschaft': 'AG',\n",
    "}\n",
    "corpAbbrMapFull = {}\n",
    "for full, abbrs in corpFull.items():\n",
    "    if isinstance(abbrs, str):\n",
    "        abbrs = [abbrs]\n",
    "    for abbr in abbrs:\n",
    "        corpAbbrMapFull[abbr] = full\n",
    "corpFull = list(corpFull.keys())\n",
    "corpAbbr = 'Inc ,Inc Corp Co Ltd ,Ltd LLC ,LLC PLC ,PLC LP ,LP Cos SA ,SA NV ,NV ASA A/S AS PAO AG'.split()\n",
    "corpAbbr += ['S A',', S A','L P','P L C','N V','SA de CV',',SA de CV']\n",
    "corpSpec = 'co company cos companies'.split()"
   ]
  },
  {
   "cell_type": "markdown",
   "metadata": {},
   "source": [
    "#### simple subs"
   ]
  },
  {
   "cell_type": "code",
   "execution_count": 15,
   "metadata": {
    "collapsed": true
   },
   "outputs": [],
   "source": [
    "if TEST:\n",
    "    re_money = re.compile(r'(?<!\\w)\\$[0-9]+(,[0-9][0-9][0-9])*.?[0-9]*')\n",
    "    re_money.search('hi :$5,666.00').group(0)\n",
    "    re_year = re.compile(r'(?<![0-9])('+'|'.join(str(i) for i in range(1999, 2022))+')(?![0-9])')\n",
    "    re_year.search('hi what 2009e  ').group()\n",
    "    re_percent = re.compile(r'(?<!\\w)[0-9]+(,[0-9][0-9][0-9])*\\.?[0-9]*\\%')\n",
    "    re_percent.search('hi 66%').group()"
   ]
  },
  {
   "cell_type": "code",
   "execution_count": 16,
   "metadata": {
    "collapsed": true
   },
   "outputs": [],
   "source": [
    "class resub(metaclass=staticclass):\n",
    "    @classmethod\n",
    "    def replace(cls, text):\n",
    "        return cls.re.sub(cls.put, text)\n",
    "\n",
    "# stupid fucking re.sub interprets backslash+<char> as escape sequences IN THE REPLACEMENT STRING!\n",
    "# like, bitch, I give you a string when I could have equally well given you a function, I want you to take it as it fck'ng is\n",
    "    \n",
    "class HPL(metaclass=staticclass): # headline @pipeline #TODO test the regexes\n",
    "    class Money(resub):\n",
    "        re = re.compile(r'[\\$\\¤\\¥\\£\\€]\\ ?[0-9]+(\\,[0-9][0-9][0-9])*\\.?[0-9]*')\n",
    "        put = r'\\\\money'+'\\\\'*4\n",
    "    class Percent(resub): # a percent number - if connected to words don't include\n",
    "        re = re.compile(r'(?<!\\w)[0-9]+(\\,[0-9][0-9][0-9])*\\.?[0-9]*\\%')\n",
    "        put = r'\\\\decimal'+'\\\\'*4\n",
    "    class Year(resub): # any digits that look like dates will be replaced\n",
    "        re = re.compile(r'(?<![0-9])('+'|'.join(str(i) for i in range(2008, 2020))+'|'\n",
    "                        +'|'.join(fr\"\\'{i:02}\" for i in range(8,20))+')(?![0-9])')\n",
    "        put = r'\\\\year'+'\\\\'*4\n",
    "    class Decimal(resub): # a number with decimals - if connected to words don't include\n",
    "        re = re.compile(r'(?<!\\w)[0-9]+(,[0-9][0-9][0-9])*\\.[0-9]+(?!\\w)')\n",
    "        put = r'\\\\decimal'+'\\\\'*4\n",
    "    class Count(resub): # a natural number - if connected to words don't include\n",
    "        re = re.compile(r'(?<!\\w)[0-9]+(,[0-9][0-9][0-9])*(?!\\w)')\n",
    "        def put(match):\n",
    "            guy = match.group().replace(',', '')\n",
    "            sz = str(len(guy) if guy[0] not in '01' else len(guy)-1)\n",
    "            return '\\\\count\\\\' + sz + r'\\\\'\n",
    "        \n",
    "    class Misc(resub): # add spaces around symbols that are not backslash\n",
    "        re = re.compile(r'[^\\w\\.\\s\\\\]')\n",
    "        put = lambda match: ' ' + match.group() + ' '\n",
    "    \n",
    "    # post wordify\n",
    "    \n",
    "    class Quarter(resub):\n",
    "        re = re.compile(r'\\ '+\n",
    "            r'(q1|q2|q3|q4|(first|1st|second|2nd|third|3rd|fourth|4th)\\ \\ quarter|quarter\\ \\ \\\\count\\\\(0|1)\\.)'+\n",
    "        r'\\ ')\n",
    "        put = r' \\\\quarter\\\\labelled. '\n",
    "    class Month(resub):\n",
    "        re = re.compile(r'\\ (january|jan|february|feb|march|mar|april|apr|may|june|jun|july|jul|august|aug|'+\n",
    "                        r'september|sep|sept|october|oct|november|nov|december|dec)\\ ')\n",
    "        put = r' \\\\month. '\n",
    "    class Possesive(resub):\n",
    "        re = re.compile(r'\\ \\'\\ \\ s\\ ')\n",
    "        put = r' \\\\possesive. '\n",
    "    \n",
    "# put into HPL context: HPL.self (an assetNameId) and HPL.assets (container of assetNameIds)\n",
    "    \n",
    "@inside(HPL)\n",
    "class Ticker(resub):\n",
    "    re_lowercase = re.compile(r'[a-z]')\n",
    "    def norm(ticker):\n",
    "        ticker = Ticker.re_lowercase.sub('', ticker)\n",
    "        return ticker[:ticker.index('.')] if '.' in ticker else ticker\n",
    "    \n",
    "    re = re.compile(r'<[A-Z]+[a-z]*.?[A-Z]*>')\n",
    "    \n",
    "    def put(match):\n",
    "        try:\n",
    "            codes = assetNameMapCodes[HPL.self]\n",
    "        except KeyError:\n",
    "            return r' \\ticker\\\\ '\n",
    "        normed = Ticker.norm(match.group()[1:-1]) # match.group() is of form <AAPL.O>\n",
    "        if any(Ticker.norm(x)==normed for x in assetCodeIdAssign.series[list(codes)]):\n",
    "            return r' \\ticker\\self\\\\ '\n",
    "        else:\n",
    "            return r' \\ticker\\\\ '"
   ]
  },
  {
   "cell_type": "code",
   "execution_count": 17,
   "metadata": {
    "collapsed": true
   },
   "outputs": [],
   "source": [
    "@inside(HPL)\n",
    "def listify(text):\n",
    "    text = text.replace('\\\\','').replace('`',\"'\")\n",
    "    text = compose(*[getattr(getattr(HPL,a),'replace') for a in ['Year','Money','Percent','Decimal','Count']])(text)\n",
    "    text = HPL.Ticker.replace(text)\n",
    "    text = text.replace('...',r' \\ellipsis\\\\ ').replace('.','').replace('\\\\\\\\','.').replace('--','—')\n",
    "    text = HPL.Misc.replace(text).lower()\n",
    "    return text.split()\n",
    "\n",
    "@inside(HPL)\n",
    "def wordify(text):\n",
    "    return ' '+'  '.join(HPL.listify(text))+' '\n",
    "\n",
    "@inside(HPL)\n",
    "def postproc(text):\n",
    "    return compose(*[getattr(getattr(HPL,a),'replace') for a in ['Quarter','Month','Possesive']])(text)"
   ]
  },
  {
   "cell_type": "code",
   "execution_count": 19,
   "metadata": {},
   "outputs": [],
   "source": [
    "# store the wordified things inside one place\n",
    "\n",
    "@inside(HPL, name='words')\n",
    "class words(O()):\n",
    "    cAbbr = list(map(HPL.wordify, corpAbbr))\n",
    "    cFull = list(map(HPL.wordify, corpFull))\n",
    "    cSpec = list(map(HPL.wordify, corpSpec))\n",
    "\n",
    "_replace_corpwords = make_replacer(HPL.words.cAbbr)\n",
    "_rp = lambda x: _replace_corpwords(HPL.wordify(x))\n",
    "HPL.words.assetNameSeries = assetNameIdAssign.series.map(_rp)\n",
    "HPL.words.akamap = {x: (list([_rp(y)]) if isinstance(y, str) else list(map(_rp, y))) for x,y in dict.items(akamap)}\n",
    "\n",
    "\n",
    "# store the regex of wordified things in one place\n",
    "\n",
    "@memoized\n",
    "def _make_stock_ending():\n",
    "    maybe = '('+'|'.join(re.escape(' '+a+' ') for a in HPL.words.cSpec)+')?'\n",
    "    corps = '('+'|'.join(re.escape(a) for a in HPL.words.cAbbr+HPL.words.cFull)+')?'\n",
    "    return maybe+corps\n",
    "\n",
    "def make_regex_for_stock(words): #TODO save time by considering only relevant stock endings\n",
    "    lst = words.split()\n",
    "    def rec_make_sub_chain(lst):\n",
    "        return re.escape(' '+lst[0]+' ') if len(lst)==1 else re.escape(' '+lst[0]+' ')+'('+rec_make_sub_chain(lst[1:])+')?'\n",
    "    return re.compile(rec_make_sub_chain(lst)+_make_stock_ending())\n",
    "\n",
    "\n",
    "@inside(HPL, name='regex')\n",
    "class regex(O()):\n",
    "    assetNameSeries = HPL.words.assetNameSeries.map(make_regex_for_stock)\n",
    "    akamap = {x: list(map(make_regex_for_stock, y)) for x,y in dict.items(HPL.words.akamap)}"
   ]
  },
  {
   "cell_type": "code",
   "execution_count": 20,
   "metadata": {
    "collapsed": true
   },
   "outputs": [],
   "source": [
    "# @inside(HPL) \n",
    "# def match_stocks(words):\n",
    "#     for asset in HPL.assets:\n",
    "#         put = r'\\asset\\self.' if asset==HPL.self else r'\\asset.'\n",
    "#         assetWords = HPL.words.assetNameSeries.loc[asset]\n",
    "#         for i in range(len(assetWords), 0, -1):\n",
    "#             useWords = assetWords[:i]\n",
    "#             k = 0\n",
    "#             while k+i <= len(words):\n",
    "#                 if words[k:k+i] == useWords:\n",
    "#                     words[k:k+i] = [put]\n",
    "#                 k += 1\n",
    "#     return words\n",
    "\n",
    "@inside(HPL)\n",
    "def match_stocks(words):\n",
    "    for asset in [HPL.self] + [a for a in HPL.assets if a!=HPL.self]:\n",
    "        put = r' \\\\asset\\\\self. ' if asset==HPL.self else r' \\\\asset. '\n",
    "        \n",
    "        assetCanon = assetNameIdAssign.series.loc[asset]\n",
    "        assetWords, assetRegex = HPL.words.assetNameSeries.loc[asset], HPL.regex.assetNameSeries.loc[asset]\n",
    "        akaWords, akaRegex = HPL.words.akamap.get(assetCanon, []), HPL.regex.akamap.get(assetCanon, [])\n",
    "        if len(akaWords)==0:\n",
    "            assetRegexList = [assetRegex]\n",
    "        elif len(akaWords)==1 and next(iter(akaWords)) not in assetWords:\n",
    "            assetRegexList = [next(iter(akaRegex)), assetRegex]\n",
    "        else:\n",
    "            assetRegexList = [assetRegex] + list(akaRegex)\n",
    "        \n",
    "        for assetRegex in assetRegexList:\n",
    "            words = assetRegex.sub(put, words)\n",
    "    return words"
   ]
  },
  {
   "cell_type": "code",
   "execution_count": 21,
   "metadata": {
    "collapsed": true
   },
   "outputs": [],
   "source": [
    "def transform_headlines(*, N):\n",
    "    ret = [None] * len(N)\n",
    "    # idk probably save time looking up N's hash table:\n",
    "    sourceIds, assetNameIds, inHeadline = N.sourceId.values, N.assetNameId.values, (N.firstMentionSentence==1).values\n",
    "    hTags, hTagIds = N.headlineTag.values, N.headlineTagId.values\n",
    "    new_i = 0 # this tracks grouping of sourceIds\n",
    "    # basically, I see that same sourceIds are always consecutive. so every time I see new news item I walk down table\n",
    "    # to see where the same news item ends, and collect all the assetNameIds along the way and keep them for use\n",
    "    print('['+str(len(N.headline))+']', end='')\n",
    "    for i, text in enumerate(N.headline.values):\n",
    "        print_progress(i, 1000)\n",
    "        if i == new_i: # starting a new sourceId group, have to look ahead to see where it ends and gather assetNameIds\n",
    "            HPL.assets = set()\n",
    "            while new_i<len(sourceIds) and sourceIds[new_i]==sourceIds[i]:\n",
    "                if inHeadline[new_i]:\n",
    "                    HPL.assets.add(assetNameIds[new_i])\n",
    "                new_i += 1\n",
    "        HPL.self = assetNameIds[i]\n",
    "        \n",
    "        tag = hTags[i]\n",
    "        text = text.strip()\n",
    "        if tag and text[:len(tag)]==tag:\n",
    "            _has_tag = True\n",
    "            text = text[len(tag):].lstrip()\n",
    "            if text[0] in '-–—:':\n",
    "                text = text[1:]\n",
    "                text = text.lstrip()\n",
    "        else:\n",
    "            _has_tag = False\n",
    "            \n",
    "        ret[i] = compose(HPL.wordify,HPL.match_stocks,HPL.postproc)(text)\n",
    "        \n",
    "        if _has_tag:\n",
    "#             ret[i] = [fr'\\htag\\{hTagIds[i]}.', r'\\htag\\conn.'] + ret[i]\n",
    "            ret[i] = fr' \\htag\\{hTagIds[i]}.  \\htag\\conn. ' + ret[i]\n",
    "        \n",
    "    N['headlineWords'] = ret"
   ]
  },
  {
   "cell_type": "markdown",
   "metadata": {},
   "source": [
    "#### go do it"
   ]
  },
  {
   "cell_type": "code",
   "execution_count": 18,
   "metadata": {
    "scrolled": true
   },
   "outputs": [
    {
     "name": "stdout",
     "output_type": "stream",
     "text": [
      "[7114576]0.........10000.........20000.........30000.........40000.........50000.........60000.........70000.........80000.........90000.........100000.........110000.........120000.........130000.........140000.........150000.........160000.........170000.........180000.........190000.........200000.........210000.........220000.........230000.........240000.........250000.........260000.........270000.........280000.........290000.........300000.........310000.........320000.........330000.........340000.........350000.........360000.........370000.........380000.........390000.........400000.........410000.........420000.........430000.........440000.........450000.........460000.........470000.........480000.........490000.........500000.........510000.........520000.........530000.........540000.........550000.........560000.........570000.........580000.........590000.........600000.........610000.........620000.........630000.........640000.........650000.........660000.........670000.........680000.........690000.........700000.........710000.........720000.........730000.........740000.........750000.........760000.........770000.........780000.........790000.........800000.........810000.........820000.........830000.........840000.........850000.........860000.........870000.........880000.........890000.........900000.........910000.........920000.........930000.........940000.........950000.........960000.........970000.........980000.........990000.........1000000.........1010000.........1020000.........1030000.........1040000.........1050000.........1060000.........1070000.........1080000.........1090000.........1100000.........1110000.........1120000.........1130000.........1140000.........1150000.........1160000.........1170000.........1180000.........1190000.........1200000.........1210000.........1220000.........1230000.........1240000.........1250000.........1260000.........1270000.........1280000.........1290000.........1300000.........1310000.........1320000.........1330000.........1340000.........1350000.........1360000.........1370000.........1380000.........1390000.........1400000.........1410000.........1420000.........1430000.........1440000.........1450000.........1460000.........1470000.........1480000.........1490000.........1500000.........1510000.........1520000.........1530000.........1540000.........1550000.........1560000.........1570000.........1580000.........1590000.........1600000.........1610000.........1620000.........1630000.........1640000.........1650000.........1660000.........1670000.........1680000.........1690000.........1700000.........1710000.........1720000.........1730000.........1740000.........1750000.........1760000.........1770000.........1780000.........1790000.........1800000.........1810000.........1820000.........1830000.........1840000.........1850000.........1860000.........1870000.........1880000.........1890000.........1900000.........1910000.........1920000.........1930000.........1940000.........1950000.........1960000.........1970000.........1980000.........1990000.........2000000.........2010000.........2020000.........2030000.........2040000.........2050000.........2060000.........2070000.........2080000.........2090000.........2100000.........2110000.........2120000.........2130000.........2140000.........2150000.........2160000.........2170000.........2180000.........2190000.........2200000.........2210000.........2220000.........2230000.........2240000.........2250000.........2260000.........2270000.........2280000.........2290000.........2300000.........2310000.........2320000.........2330000.........2340000.........2350000.........2360000.........2370000.........2380000.........2390000.........2400000.........2410000.........2420000.........2430000.........2440000.........2450000.........2460000.........2470000.........2480000.........2490000.........2500000.........2510000.........2520000.........2530000.........2540000.........2550000.........2560000.........2570000.........2580000.........2590000.........2600000.........2610000.........2620000.........2630000.........2640000.........2650000.........2660000.........2670000.........2680000.........2690000.........2700000.........2710000.........2720000.........2730000.........2740000.........2750000.........2760000.........2770000.........2780000.........2790000.........2800000.........2810000.........2820000.........2830000.........2840000.........2850000.........2860000.........2870000.........2880000.........2890000.........2900000.........2910000.........2920000.........2930000.........2940000.........2950000.........2960000.........2970000.........2980000.........2990000.........3000000.........3010000.........3020000.........3030000.........3040000.........3050000.........3060000.........3070000.........3080000.........3090000.........3100000.........3110000.........3120000.........3130000.........3140000.........3150000.........3160000.........3170000.........3180000.........3190000.........3200000.........3210000.........3220000.........3230000.........3240000.........3250000.........3260000.........3270000.........3280000.........3290000.........3300000.........3310000.........3320000.........3330000.........3340000.........3350000.........3360000.........3370000.........3380000.........3390000.........3400000.........3410000.........3420000.........3430000.........3440000.........3450000.........3460000.........3470000.........3480000.........3490000.........3500000.........3510000.........3520000.........3530000.........3540000.........3550000.........3560000.........3570000.........3580000.........3590000.........3600000.........3610000.........3620000.........3630000.........3640000.........3650000.........3660000.........3670000.........3680000.........3690000.........3700000.........3710000.........3720000.........3730000.........3740000.........3750000.........3760000.........3770000.........3780000.........3790000.........3800000.........3810000.........3820000.........3830000.........3840000.........3850000.........3860000.........3870000.........3880000.........3890000.........3900000.........3910000.........3920000.........3930000.........3940000.........3950000.........3960000.........3970000.........3980000.........3990000.........4000000.........4010000.........4020000.........4030000.........4040000.........4050000.........4060000.........4070000.........4080000.........4090000.........4100000.........4110000.........4120000.........4130000.........4140000.........4150000.........4160000.........4170000.........4180000.........4190000.........4200000.........4210000.........4220000.........4230000.........4240000.........4250000.........4260000.........4270000.........4280000.........4290000.........4300000.........4310000.........4320000.........4330000.........4340000.........4350000.........4360000.........4370000.........4380000.........4390000.........4400000.........4410000.........4420000.........4430000.........4440000.........4450000.........4460000.........4470000.........4480000.........4490000.........4500000.........4510000.........4520000.........4530000.........4540000.........4550000.........4560000.........4570000.........4580000.........4590000.........4600000.........4610000.........4620000.........4630000.........4640000.........4650000.........4660000.........4670000.........4680000.........4690000.........4700000.........4710000.........4720000.........4730000.........4740000.........4750000.........4760000.........4770000.........4780000.........4790000.........4800000.........4810000.........4820000.........4830000.........4840000.........4850000.........4860000.........4870000.........4880000.........4890000.........4900000.........4910000.........4920000.........4930000.........4940000.........4950000.........4960000.........4970000.........4980000.........4990000.........5000000.........5010000.........5020000.........5030000.........5040000.........5050000.........5060000.........5070000.........5080000.........5090000.........5100000.........5110000.........5120000.........5130000.........5140000.........5150000.........5160000.........5170000.........5180000..."
     ]
    },
    {
     "name": "stdout",
     "output_type": "stream",
     "text": [
      "......5190000.........5200000.........5210000.........5220000.........5230000.........5240000.........5250000.........5260000.........5270000.........5280000.........5290000.........5300000.........5310000.........5320000.........5330000.........5340000.........5350000.........5360000.........5370000.........5380000.........5390000.........5400000.........5410000.........5420000.........5430000.........5440000.........5450000.........5460000.........5470000.........5480000.........5490000.........5500000.........5510000.........5520000.........5530000.........5540000.........5550000.........5560000.........5570000.........5580000.........5590000.........5600000.........5610000.........5620000.........5630000.........5640000.........5650000.........5660000.........5670000.........5680000.........5690000.........5700000.........5710000.........5720000.........5730000.........5740000.........5750000.........5760000.........5770000.........5780000.........5790000.........5800000.........5810000.........5820000.........5830000.........5840000.........5850000.........5860000.........5870000.........5880000.........5890000.........5900000.........5910000.........5920000.........5930000.........5940000.........5950000.........5960000.........5970000.........5980000.........5990000.........6000000.........6010000.........6020000.........6030000.........6040000.........6050000.........6060000.........6070000.........6080000.........6090000.........6100000.........6110000.........6120000.........6130000.........6140000.........6150000.........6160000.........6170000.........6180000.........6190000.........6200000.........6210000.........6220000.........6230000.........6240000.........6250000.........6260000.........6270000.........6280000.........6290000.........6300000.........6310000.........6320000.........6330000.........6340000.........6350000.........6360000.........6370000.........6380000.........6390000.........6400000.........6410000.........6420000.........6430000.........6440000.........6450000.........6460000.........6470000.........6480000.........6490000.........6500000.........6510000.........6520000.........6530000.........6540000.........6550000.........6560000.........6570000.........6580000.........6590000.........6600000.........6610000.........6620000.........6630000.........6640000.........6650000.........6660000.........6670000.........6680000.........6690000.........6700000.........6710000.........6720000.........6730000.........6740000.........6750000.........6760000.........6770000.........6780000.........6790000.........6800000.........6810000.........6820000.........6830000.........6840000.........6850000.........6860000.........6870000.........6880000.........6890000.........6900000.........6910000.........6920000.........6930000.........6940000.........6950000.........6960000.........6970000.........6980000.........6990000.........7000000.........7010000.........7020000.........7030000.........7040000.........7050000.........7060000.........7070000.........7080000.........7090000.........7100000.........7110000....CPU times: user 1h 23min 4s, sys: 46.4 s, total: 1h 23min 50s\n",
      "Wall time: 1h 23min 41s\n"
     ]
    }
   ],
   "source": [
    "%%time\n",
    "N = _N_.pipe(lambda N: N[N.assetNameId.isin(assetNameMapCodes)])\n",
    "transform_headlines(N=N)"
   ]
  },
  {
   "cell_type": "code",
   "execution_count": 45,
   "metadata": {
    "collapsed": true
   },
   "outputs": [],
   "source": [
    "N.to_pickle(the_data/'trans/N1010.pkl')"
   ]
  },
  {
   "cell_type": "markdown",
   "metadata": {},
   "source": [
    "#### let's see the results"
   ]
  },
  {
   "cell_type": "code",
   "execution_count": 22,
   "metadata": {
    "collapsed": true
   },
   "outputs": [],
   "source": [
    "N = _N_ = pd.read_pickle(the_data/'trans/N1010.pkl')"
   ]
  },
  {
   "cell_type": "code",
   "execution_count": 163,
   "metadata": {},
   "outputs": [
    {
     "data": {
      "text/plain": [
       "26187                      webcast_alert : \\asset\\self. announces \\quarter\\labelled. \\count\\4. earnings webcast \\ticker\\self.\n",
       "1168961                                   \\htag\\95. \\htag\\conn. \\asset\\self. amends and extends equity forward sale agreement\n",
       "1358545    \\asset\\self. microsystems announces production shipments of the industry ' s first knowledge - based \\ellipsis....\n",
       "3262523                                                    barron ' s sees stock market rise ; picks \\count\\1. top big - caps\n",
       "3924890                                                 \\htag\\98. \\htag\\conn. s &_p \\count\\3. \\month. \\count\\1. \\count\\3._gmt\n",
       "5073508                                                                   \\asset\\self. launches \\asset\\self. payment exchange\n",
       "7017872                             \\asset\\self. opens denver office and hires executive_vice president of land \\ticker\\self.\n",
       "7422198                                      \\htag\\14. \\htag\\conn. union investment hires benjardin gartner from \\asset\\self.\n",
       "8257475                     \\htag\\40. \\htag\\conn. us crude_oil pipeline_projects : jp_energy starts initial_permian expansion\n",
       "8462110    brazil ' s \\asset\\self. cfo_angelotti expects to capture higher borrowing_costs , propping_up interest income t...\n",
       "Name: headlineWords, dtype: object"
      ]
     },
     "execution_count": 163,
     "metadata": {},
     "output_type": "execute_result"
    }
   ],
   "source": [
    "seeN = N.pipe(sample(10))\n",
    "seeN.headlineWords.map(lambda x: ' '.join(grams4[x.split()]))"
   ]
  },
  {
   "cell_type": "code",
   "execution_count": 133,
   "metadata": {},
   "outputs": [],
   "source": [
    "seeN[['assetName','assetCodes','headlineTag','headline']];"
   ]
  },
  {
   "cell_type": "code",
   "execution_count": 134,
   "metadata": {},
   "outputs": [],
   "source": [
    "seeN.headlineWords;"
   ]
  },
  {
   "cell_type": "markdown",
   "metadata": {
    "collapsed": true
   },
   "source": [
    "#### see more crap"
   ]
  },
  {
   "cell_type": "markdown",
   "metadata": {},
   "source": [
    "# Embed"
   ]
  },
  {
   "cell_type": "code",
   "execution_count": 23,
   "metadata": {
    "collapsed": true
   },
   "outputs": [],
   "source": [
    "from gensim.models import FastText\n",
    "from gensim.models.phrases import Phrases, Phraser"
   ]
  },
  {
   "cell_type": "code",
   "execution_count": 24,
   "metadata": {},
   "outputs": [
    {
     "data": {
      "text/plain": [
       "14"
      ]
     },
     "execution_count": 24,
     "metadata": {},
     "output_type": "execute_result"
    }
   ],
   "source": [
    "N['headlineFeeds'] = N.headlineWords.map(lambda x: x.split())\n",
    "del N['headlineWords']; gc.collect()"
   ]
  },
  {
   "cell_type": "code",
   "execution_count": null,
   "metadata": {},
   "outputs": [],
   "source": [
    "%%time\n",
    "grams2 = Phrases(iter(N.headlineFeeds)); grams2 = Phraser(grams2); grams2.save('../data/news/grams2')\n",
    "grams3 = Phrases(grams2[iter(N.headlineFeeds)]); grams3 = Phraser(grams3); grams3.save('../data/news/grams3')\n",
    "grams4 = Phrases(grams3[grams2[iter(N.headlineFeeds)]]); grams4 = Phraser(grams4); grams4.save('../data/news/grams4')\n",
    "phrases = lambda x: grams4[grams3[grams2[x]]]"
   ]
  },
  {
   "cell_type": "code",
   "execution_count": 25,
   "metadata": {},
   "outputs": [
    {
     "name": "stdout",
     "output_type": "stream",
     "text": [
      "CPU times: user 1.66 s, sys: 186 ms, total: 1.84 s\n",
      "Wall time: 1.8 s\n"
     ]
    }
   ],
   "source": [
    "%%time\n",
    "grams2 = Phraser.load('../data/news/grams2')\n",
    "grams3 = Phraser.load('../data/news/grams3')\n",
    "grams4 = Phraser.load('../data/news/grams4')\n",
    "phrases = lambda x: grams4[grams3[grams2[x]]]"
   ]
  },
  {
   "cell_type": "code",
   "execution_count": 23,
   "metadata": {},
   "outputs": [
    {
     "name": "stdout",
     "output_type": "stream",
     "text": [
      "CPU times: user 3h 14min 21s, sys: 3.44 s, total: 3h 14min 24s\n",
      "Wall time: 2h 28min 18s\n"
     ]
    }
   ],
   "source": [
    "%%time\n",
    "bed = FastText(phrases(feeds), size=120, window=5, min_count=20, workers=12, sg=1, seed=0)"
   ]
  },
  {
   "cell_type": "code",
   "execution_count": 26,
   "metadata": {
    "collapsed": true
   },
   "outputs": [],
   "source": [
    "#bed.save('../data/news/FT_size120_window5_mincount20_sg1_seed0')\n",
    "bed = FastText.load('../data/news/FT_size120_window5_mincount20_sg1_seed0')"
   ]
  },
  {
   "cell_type": "markdown",
   "metadata": {},
   "source": [
    "LOOK HERE"
   ]
  },
  {
   "cell_type": "code",
   "execution_count": 81,
   "metadata": {},
   "outputs": [
    {
     "data": {
      "text/plain": [
       "[('unexpectedly', 0.8049476742744446),\n",
       " ('experienced', 0.6410397291183472),\n",
       " ('posturing', 0.6384972333908081),\n",
       " ('surprising', 0.6362307667732239),\n",
       " ('caused', 0.6239986419677734),\n",
       " ('causing', 0.6239521503448486),\n",
       " ('discounting', 0.6214480400085449),\n",
       " ('precautionary', 0.6193425059318542),\n",
       " ('interruptions', 0.6138929724693298),\n",
       " ('experiencing', 0.612444281578064)]"
      ]
     },
     "execution_count": 81,
     "metadata": {},
     "output_type": "execute_result"
    }
   ],
   "source": [
    "bed.wv.most_similar(r'')"
   ]
  },
  {
   "cell_type": "code",
   "execution_count": 27,
   "metadata": {
    "collapsed": true
   },
   "outputs": [],
   "source": [
    "vectify = lambda x: bed[grams4[grams3[grams2[x]]]]"
   ]
  },
  {
   "cell_type": "code",
   "execution_count": 28,
   "metadata": {},
   "outputs": [
    {
     "name": "stderr",
     "output_type": "stream",
     "text": [
      "Using TensorFlow backend.\n"
     ]
    }
   ],
   "source": [
    "from keras.layers import Dense, Input, Flatten, TimeDistributed\n",
    "from keras.layers import Conv1D, MaxPooling1D, GlobalMaxPooling1D, Embedding, Dropout\n",
    "from keras.models import Model, load_model\n",
    "_td = TimeDistributed"
   ]
  },
  {
   "cell_type": "code",
   "execution_count": 40,
   "metadata": {},
   "outputs": [],
   "source": [
    "class dim(O()):\n",
    "    NewsInDay = None\n",
    "    WordsInHeadline = 36\n",
    "    WordsEmbedding = 120\n",
    "    \n",
    "entry = Input(shape=(dim.NewsInDay,dim.WordsInHeadline,dim.WordsEmbedding))\n",
    "conv0 = _td(Conv1D(80, kernel_size=3, strides=1, padding='valid', activation='relu'))(entry)\n",
    "pool0 = _td(MaxPooling1D(3))(conv0)\n",
    "conv1 = _td(Conv1D(40, 5, activation='relu'))(pool0)\n",
    "pool1 = _td(MaxPooling1D(5))(conv1)\n",
    "globe = _td(Flatten())(pool1)\n",
    "dense = _td(Dense(6, activation='relu'))(globe)\n",
    "aggs = GlobalMaxPooling1D()(dense)\n",
    "pred = Dense(1, activation='sigmoid')(aggs)"
   ]
  },
  {
   "cell_type": "code",
   "execution_count": 41,
   "metadata": {
    "collapsed": true
   },
   "outputs": [],
   "source": [
    "model = Model(entry, pred)\n",
    "model.compile(loss='binary_crossentropy', optimizer='adam', metrics=['accuracy'])"
   ]
  },
  {
   "cell_type": "code",
   "execution_count": 42,
   "metadata": {},
   "outputs": [],
   "source": [
    "M['y'] = M.returnsOpenNextMktres10"
   ]
  },
  {
   "cell_type": "code",
   "execution_count": 43,
   "metadata": {},
   "outputs": [
    {
     "name": "stdout",
     "output_type": "stream",
     "text": [
      "CPU times: user 3min 10s, sys: 7.47 s, total: 3min 18s\n",
      "Wall time: 3min 16s\n"
     ]
    }
   ],
   "source": [
    "%%time\n",
    "tmMapIndex = {(row.time,row.assetCodeId):i for i,row in enumerate(M.itertuples()) if row.universe}\n",
    "tnMapIndices = {}\n",
    "for i,row in enumerate(N.itertuples()):\n",
    "    if row.headlineFeeds:\n",
    "        tnMapIndices.setdefault((row.groupbyTime,row.assetNameId), []).append(i)"
   ]
  },
  {
   "cell_type": "code",
   "execution_count": 44,
   "metadata": {},
   "outputs": [],
   "source": [
    "def vectify_reshape(a):\n",
    "    if len(a) > dim.WordsInHeadline:\n",
    "        a = a[:dim.WordsInHeadline]\n",
    "    elif len(a) < dim.WordsInHeadline:\n",
    "        a = np.concatenate([a, np.zeros((dim.WordsInHeadline-len(a), a.shape[1]))], axis=0)\n",
    "    return a\n",
    "\n",
    "def index_batches(N):\n",
    "    for time, theN in N.groupby('groupbyTime'):\n",
    "        theN = theN.sample(frac=1)\n",
    "        oneday = list(theN.groupby('assetNameId'))\n",
    "        random.shuffle(oneday)\n",
    "        mi = []\n",
    "        nis = []\n",
    "        for aName, theN in oneday:\n",
    "            \n",
    "            theN = theN[theN.headlineFeeds.map(bool)] # get rid of empty lists of words\n",
    "            if len(theN) == 0:\n",
    "                continue\n",
    "                \n",
    "            try:\n",
    "                vectified = np.stack(theN.headlineFeeds.map(vectify).map(vectify_reshape).head(1), axis=0)\n",
    "            except KeyError: # fucking FastText errors out when given unseen ngram (WHY CAN'T YOU JUST GIVE RANDOM ANSWER)\n",
    "                continue\n",
    "                \n",
    "            aCodes = list(assetNameMapCodes[aName])\n",
    "            for aC in aCodes:\n",
    "                if (time, aC) in tmMapIndex:\n",
    "                    mi.append(tmMapIndex[time,aC])\n",
    "                    nis.append(tnMapIndices[time,aName]);\n",
    "\n",
    "            if len(mi) > 32:\n",
    "                yield mi, nis\n",
    "                mi = []\n",
    "                nis = []\n",
    "        if len(mi) != 0:\n",
    "            yield mi, nis\n",
    "            \n",
    "def iter_batches(N, indices):\n",
    "    i = 0\n",
    "    def _yield(X, Y):\n",
    "        BUG.X, BUG.Y = X, Y\n",
    "        nonlocal i; print_progress(i, 10); i += 1\n",
    "        Y = Y.values\n",
    "        target = (Y > 0).astype(float)\n",
    "        weight = np.abs(Y)\n",
    "        X = np.stack(X, axis=0)\n",
    "        return X, target, weight\n",
    "    \n",
    "    print(f'[{len(indices)}]', end='')\n",
    "    for mi_, nis_ in indices:\n",
    "        BUG.mi_, BUG.nis_ = mi_, nis_\n",
    "        \n",
    "        X = []\n",
    "        Y = M.y.iloc[mi_]\n",
    "        \n",
    "        for nis in nis_:\n",
    "            theN = N.iloc[nis]\n",
    "            \n",
    "#             theN = theN[theN.headlineFeeds.map(bool)] # get rid of empty lists of words\n",
    "#             if len(theN) == 0:\n",
    "#                 continue\n",
    "            \n",
    "            vectified = np.stack(theN.headlineFeeds.map(vectify).map(vectify_reshape).head(1), axis=0)\n",
    "            X.append(vectified)\n",
    "\n",
    "        yield _yield(X, Y)"
   ]
  },
  {
   "cell_type": "code",
   "execution_count": 301,
   "metadata": {},
   "outputs": [
    {
     "name": "stdout",
     "output_type": "stream",
     "text": [
      "CPU times: user 1h 36min 29s, sys: 0 ns, total: 1h 36min 29s\n",
      "Wall time: 1h 36min 28s\n"
     ]
    }
   ],
   "source": [
    "%%time\n",
    "batch_indices = list(index_batches(N))"
   ]
  },
  {
   "cell_type": "code",
   "execution_count": 302,
   "metadata": {
    "collapsed": true
   },
   "outputs": [],
   "source": [
    "pd.to_pickle(batch_indices, '../data/news/batch_indices.pkl')"
   ]
  },
  {
   "cell_type": "code",
   "execution_count": 45,
   "metadata": {
    "collapsed": true
   },
   "outputs": [],
   "source": [
    "batch_indices = pd.read_pickle('../data/news/batch_indices.pkl')"
   ]
  },
  {
   "cell_type": "code",
   "execution_count": 294,
   "metadata": {
    "collapsed": true
   },
   "outputs": [
    {
     "name": "stdout",
     "output_type": "stream",
     "text": [
      "Epoch 1/1\n",
      "   218/127279 [..............................] - ETA: 6:37:34 - loss: 0.0214 - acc: 0.5695"
     ]
    },
    {
     "ename": "KeyboardInterrupt",
     "evalue": "",
     "output_type": "error",
     "traceback": [
      "\u001b[0;31m---------------------------------------------------------------------------\u001b[0m",
      "\u001b[0;31mKeyboardInterrupt\u001b[0m                         Traceback (most recent call last)",
      "\u001b[0;32m<timed exec>\u001b[0m in \u001b[0;36m<module>\u001b[0;34m()\u001b[0m\n",
      "\u001b[0;32m~/anaconda3/lib/python3.6/site-packages/keras/legacy/interfaces.py\u001b[0m in \u001b[0;36mwrapper\u001b[0;34m(*args, **kwargs)\u001b[0m\n\u001b[1;32m     89\u001b[0m                 warnings.warn('Update your `' + object_name + '` call to the ' +\n\u001b[1;32m     90\u001b[0m                               'Keras 2 API: ' + signature, stacklevel=2)\n\u001b[0;32m---> 91\u001b[0;31m             \u001b[0;32mreturn\u001b[0m \u001b[0mfunc\u001b[0m\u001b[0;34m(\u001b[0m\u001b[0;34m*\u001b[0m\u001b[0margs\u001b[0m\u001b[0;34m,\u001b[0m \u001b[0;34m**\u001b[0m\u001b[0mkwargs\u001b[0m\u001b[0;34m)\u001b[0m\u001b[0;34m\u001b[0m\u001b[0;34m\u001b[0m\u001b[0m\n\u001b[0m\u001b[1;32m     92\u001b[0m         \u001b[0mwrapper\u001b[0m\u001b[0;34m.\u001b[0m\u001b[0m_original_function\u001b[0m \u001b[0;34m=\u001b[0m \u001b[0mfunc\u001b[0m\u001b[0;34m\u001b[0m\u001b[0;34m\u001b[0m\u001b[0m\n\u001b[1;32m     93\u001b[0m         \u001b[0;32mreturn\u001b[0m \u001b[0mwrapper\u001b[0m\u001b[0;34m\u001b[0m\u001b[0;34m\u001b[0m\u001b[0m\n",
      "\u001b[0;32m~/anaconda3/lib/python3.6/site-packages/keras/engine/training.py\u001b[0m in \u001b[0;36mfit_generator\u001b[0;34m(self, generator, steps_per_epoch, epochs, verbose, callbacks, validation_data, validation_steps, class_weight, max_queue_size, workers, use_multiprocessing, shuffle, initial_epoch)\u001b[0m\n\u001b[1;32m   1416\u001b[0m             \u001b[0muse_multiprocessing\u001b[0m\u001b[0;34m=\u001b[0m\u001b[0muse_multiprocessing\u001b[0m\u001b[0;34m,\u001b[0m\u001b[0;34m\u001b[0m\u001b[0;34m\u001b[0m\u001b[0m\n\u001b[1;32m   1417\u001b[0m             \u001b[0mshuffle\u001b[0m\u001b[0;34m=\u001b[0m\u001b[0mshuffle\u001b[0m\u001b[0;34m,\u001b[0m\u001b[0;34m\u001b[0m\u001b[0;34m\u001b[0m\u001b[0m\n\u001b[0;32m-> 1418\u001b[0;31m             initial_epoch=initial_epoch)\n\u001b[0m\u001b[1;32m   1419\u001b[0m \u001b[0;34m\u001b[0m\u001b[0m\n\u001b[1;32m   1420\u001b[0m     \u001b[0;34m@\u001b[0m\u001b[0minterfaces\u001b[0m\u001b[0;34m.\u001b[0m\u001b[0mlegacy_generator_methods_support\u001b[0m\u001b[0;34m\u001b[0m\u001b[0;34m\u001b[0m\u001b[0m\n",
      "\u001b[0;32m~/anaconda3/lib/python3.6/site-packages/keras/engine/training_generator.py\u001b[0m in \u001b[0;36mfit_generator\u001b[0;34m(model, generator, steps_per_epoch, epochs, verbose, callbacks, validation_data, validation_steps, class_weight, max_queue_size, workers, use_multiprocessing, shuffle, initial_epoch)\u001b[0m\n\u001b[1;32m    179\u001b[0m             \u001b[0mbatch_index\u001b[0m \u001b[0;34m=\u001b[0m \u001b[0;36m0\u001b[0m\u001b[0;34m\u001b[0m\u001b[0;34m\u001b[0m\u001b[0m\n\u001b[1;32m    180\u001b[0m             \u001b[0;32mwhile\u001b[0m \u001b[0msteps_done\u001b[0m \u001b[0;34m<\u001b[0m \u001b[0msteps_per_epoch\u001b[0m\u001b[0;34m:\u001b[0m\u001b[0;34m\u001b[0m\u001b[0;34m\u001b[0m\u001b[0m\n\u001b[0;32m--> 181\u001b[0;31m                 \u001b[0mgenerator_output\u001b[0m \u001b[0;34m=\u001b[0m \u001b[0mnext\u001b[0m\u001b[0;34m(\u001b[0m\u001b[0moutput_generator\u001b[0m\u001b[0;34m)\u001b[0m\u001b[0;34m\u001b[0m\u001b[0;34m\u001b[0m\u001b[0m\n\u001b[0m\u001b[1;32m    182\u001b[0m \u001b[0;34m\u001b[0m\u001b[0m\n\u001b[1;32m    183\u001b[0m                 \u001b[0;32mif\u001b[0m \u001b[0;32mnot\u001b[0m \u001b[0mhasattr\u001b[0m\u001b[0;34m(\u001b[0m\u001b[0mgenerator_output\u001b[0m\u001b[0;34m,\u001b[0m \u001b[0;34m'__len__'\u001b[0m\u001b[0;34m)\u001b[0m\u001b[0;34m:\u001b[0m\u001b[0;34m\u001b[0m\u001b[0;34m\u001b[0m\u001b[0m\n",
      "\u001b[0;32m~/anaconda3/lib/python3.6/site-packages/keras/utils/data_utils.py\u001b[0m in \u001b[0;36mget\u001b[0;34m(self)\u001b[0m\n\u001b[1;32m    683\u001b[0m         \u001b[0;32mtry\u001b[0m\u001b[0;34m:\u001b[0m\u001b[0;34m\u001b[0m\u001b[0;34m\u001b[0m\u001b[0m\n\u001b[1;32m    684\u001b[0m             \u001b[0;32mwhile\u001b[0m \u001b[0mself\u001b[0m\u001b[0;34m.\u001b[0m\u001b[0mis_running\u001b[0m\u001b[0;34m(\u001b[0m\u001b[0;34m)\u001b[0m\u001b[0;34m:\u001b[0m\u001b[0;34m\u001b[0m\u001b[0;34m\u001b[0m\u001b[0m\n\u001b[0;32m--> 685\u001b[0;31m                 \u001b[0minputs\u001b[0m \u001b[0;34m=\u001b[0m \u001b[0mself\u001b[0m\u001b[0;34m.\u001b[0m\u001b[0mqueue\u001b[0m\u001b[0;34m.\u001b[0m\u001b[0mget\u001b[0m\u001b[0;34m(\u001b[0m\u001b[0mblock\u001b[0m\u001b[0;34m=\u001b[0m\u001b[0;32mTrue\u001b[0m\u001b[0;34m)\u001b[0m\u001b[0;34m.\u001b[0m\u001b[0mget\u001b[0m\u001b[0;34m(\u001b[0m\u001b[0;34m)\u001b[0m\u001b[0;34m\u001b[0m\u001b[0;34m\u001b[0m\u001b[0m\n\u001b[0m\u001b[1;32m    686\u001b[0m                 \u001b[0mself\u001b[0m\u001b[0;34m.\u001b[0m\u001b[0mqueue\u001b[0m\u001b[0;34m.\u001b[0m\u001b[0mtask_done\u001b[0m\u001b[0;34m(\u001b[0m\u001b[0;34m)\u001b[0m\u001b[0;34m\u001b[0m\u001b[0;34m\u001b[0m\u001b[0m\n\u001b[1;32m    687\u001b[0m                 \u001b[0;32mif\u001b[0m \u001b[0minputs\u001b[0m \u001b[0;32mis\u001b[0m \u001b[0;32mnot\u001b[0m \u001b[0;32mNone\u001b[0m\u001b[0;34m:\u001b[0m\u001b[0;34m\u001b[0m\u001b[0;34m\u001b[0m\u001b[0m\n",
      "\u001b[0;32m~/anaconda3/lib/python3.6/multiprocessing/pool.py\u001b[0m in \u001b[0;36mget\u001b[0;34m(self, timeout)\u001b[0m\n\u001b[1;32m    662\u001b[0m \u001b[0;34m\u001b[0m\u001b[0m\n\u001b[1;32m    663\u001b[0m     \u001b[0;32mdef\u001b[0m \u001b[0mget\u001b[0m\u001b[0;34m(\u001b[0m\u001b[0mself\u001b[0m\u001b[0;34m,\u001b[0m \u001b[0mtimeout\u001b[0m\u001b[0;34m=\u001b[0m\u001b[0;32mNone\u001b[0m\u001b[0;34m)\u001b[0m\u001b[0;34m:\u001b[0m\u001b[0;34m\u001b[0m\u001b[0;34m\u001b[0m\u001b[0m\n\u001b[0;32m--> 664\u001b[0;31m         \u001b[0mself\u001b[0m\u001b[0;34m.\u001b[0m\u001b[0mwait\u001b[0m\u001b[0;34m(\u001b[0m\u001b[0mtimeout\u001b[0m\u001b[0;34m)\u001b[0m\u001b[0;34m\u001b[0m\u001b[0;34m\u001b[0m\u001b[0m\n\u001b[0m\u001b[1;32m    665\u001b[0m         \u001b[0;32mif\u001b[0m \u001b[0;32mnot\u001b[0m \u001b[0mself\u001b[0m\u001b[0;34m.\u001b[0m\u001b[0mready\u001b[0m\u001b[0;34m(\u001b[0m\u001b[0;34m)\u001b[0m\u001b[0;34m:\u001b[0m\u001b[0;34m\u001b[0m\u001b[0;34m\u001b[0m\u001b[0m\n\u001b[1;32m    666\u001b[0m             \u001b[0;32mraise\u001b[0m \u001b[0mTimeoutError\u001b[0m\u001b[0;34m\u001b[0m\u001b[0;34m\u001b[0m\u001b[0m\n",
      "\u001b[0;32m~/anaconda3/lib/python3.6/multiprocessing/pool.py\u001b[0m in \u001b[0;36mwait\u001b[0;34m(self, timeout)\u001b[0m\n\u001b[1;32m    659\u001b[0m \u001b[0;34m\u001b[0m\u001b[0m\n\u001b[1;32m    660\u001b[0m     \u001b[0;32mdef\u001b[0m \u001b[0mwait\u001b[0m\u001b[0;34m(\u001b[0m\u001b[0mself\u001b[0m\u001b[0;34m,\u001b[0m \u001b[0mtimeout\u001b[0m\u001b[0;34m=\u001b[0m\u001b[0;32mNone\u001b[0m\u001b[0;34m)\u001b[0m\u001b[0;34m:\u001b[0m\u001b[0;34m\u001b[0m\u001b[0;34m\u001b[0m\u001b[0m\n\u001b[0;32m--> 661\u001b[0;31m         \u001b[0mself\u001b[0m\u001b[0;34m.\u001b[0m\u001b[0m_event\u001b[0m\u001b[0;34m.\u001b[0m\u001b[0mwait\u001b[0m\u001b[0;34m(\u001b[0m\u001b[0mtimeout\u001b[0m\u001b[0;34m)\u001b[0m\u001b[0;34m\u001b[0m\u001b[0;34m\u001b[0m\u001b[0m\n\u001b[0m\u001b[1;32m    662\u001b[0m \u001b[0;34m\u001b[0m\u001b[0m\n\u001b[1;32m    663\u001b[0m     \u001b[0;32mdef\u001b[0m \u001b[0mget\u001b[0m\u001b[0;34m(\u001b[0m\u001b[0mself\u001b[0m\u001b[0;34m,\u001b[0m \u001b[0mtimeout\u001b[0m\u001b[0;34m=\u001b[0m\u001b[0;32mNone\u001b[0m\u001b[0;34m)\u001b[0m\u001b[0;34m:\u001b[0m\u001b[0;34m\u001b[0m\u001b[0;34m\u001b[0m\u001b[0m\n",
      "\u001b[0;32m~/anaconda3/lib/python3.6/threading.py\u001b[0m in \u001b[0;36mwait\u001b[0;34m(self, timeout)\u001b[0m\n\u001b[1;32m    549\u001b[0m             \u001b[0msignaled\u001b[0m \u001b[0;34m=\u001b[0m \u001b[0mself\u001b[0m\u001b[0;34m.\u001b[0m\u001b[0m_flag\u001b[0m\u001b[0;34m\u001b[0m\u001b[0;34m\u001b[0m\u001b[0m\n\u001b[1;32m    550\u001b[0m             \u001b[0;32mif\u001b[0m \u001b[0;32mnot\u001b[0m \u001b[0msignaled\u001b[0m\u001b[0;34m:\u001b[0m\u001b[0;34m\u001b[0m\u001b[0;34m\u001b[0m\u001b[0m\n\u001b[0;32m--> 551\u001b[0;31m                 \u001b[0msignaled\u001b[0m \u001b[0;34m=\u001b[0m \u001b[0mself\u001b[0m\u001b[0;34m.\u001b[0m\u001b[0m_cond\u001b[0m\u001b[0;34m.\u001b[0m\u001b[0mwait\u001b[0m\u001b[0;34m(\u001b[0m\u001b[0mtimeout\u001b[0m\u001b[0;34m)\u001b[0m\u001b[0;34m\u001b[0m\u001b[0;34m\u001b[0m\u001b[0m\n\u001b[0m\u001b[1;32m    552\u001b[0m             \u001b[0;32mreturn\u001b[0m \u001b[0msignaled\u001b[0m\u001b[0;34m\u001b[0m\u001b[0;34m\u001b[0m\u001b[0m\n\u001b[1;32m    553\u001b[0m \u001b[0;34m\u001b[0m\u001b[0m\n",
      "\u001b[0;32m~/anaconda3/lib/python3.6/threading.py\u001b[0m in \u001b[0;36mwait\u001b[0;34m(self, timeout)\u001b[0m\n\u001b[1;32m    293\u001b[0m         \u001b[0;32mtry\u001b[0m\u001b[0;34m:\u001b[0m    \u001b[0;31m# restore state no matter what (e.g., KeyboardInterrupt)\u001b[0m\u001b[0;34m\u001b[0m\u001b[0;34m\u001b[0m\u001b[0m\n\u001b[1;32m    294\u001b[0m             \u001b[0;32mif\u001b[0m \u001b[0mtimeout\u001b[0m \u001b[0;32mis\u001b[0m \u001b[0;32mNone\u001b[0m\u001b[0;34m:\u001b[0m\u001b[0;34m\u001b[0m\u001b[0;34m\u001b[0m\u001b[0m\n\u001b[0;32m--> 295\u001b[0;31m                 \u001b[0mwaiter\u001b[0m\u001b[0;34m.\u001b[0m\u001b[0macquire\u001b[0m\u001b[0;34m(\u001b[0m\u001b[0;34m)\u001b[0m\u001b[0;34m\u001b[0m\u001b[0;34m\u001b[0m\u001b[0m\n\u001b[0m\u001b[1;32m    296\u001b[0m                 \u001b[0mgotit\u001b[0m \u001b[0;34m=\u001b[0m \u001b[0;32mTrue\u001b[0m\u001b[0;34m\u001b[0m\u001b[0;34m\u001b[0m\u001b[0m\n\u001b[1;32m    297\u001b[0m             \u001b[0;32melse\u001b[0m\u001b[0;34m:\u001b[0m\u001b[0;34m\u001b[0m\u001b[0;34m\u001b[0m\u001b[0m\n",
      "\u001b[0;31mKeyboardInterrupt\u001b[0m: "
     ]
    }
   ],
   "source": [
    "# %%time\n",
    "# q = quarter(N.groupbyTime)\n",
    "# model.fit_generator(iter_data(N[(2009.<=q)&(q<2015.5)]), steps_per_epoch=len(M)//32)"
   ]
  },
  {
   "cell_type": "code",
   "execution_count": 352,
   "metadata": {},
   "outputs": [
    {
     "data": {
      "text/plain": [
       "Timestamp('2008-12-31 22:00:00+0000', tz='UTC')"
      ]
     },
     "metadata": {},
     "output_type": "display_data"
    },
    {
     "data": {
      "text/plain": [
       "Timestamp('2009-01-02 22:00:00+0000', tz='UTC')"
      ]
     },
     "metadata": {},
     "output_type": "display_data"
    }
   ],
   "source": [
    "/display M.iloc[batch_indices[3621][0][0]].time\n",
    "/display M.iloc[batch_indices[3622][0][0]].time"
   ]
  },
  {
   "cell_type": "code",
   "execution_count": 353,
   "metadata": {},
   "outputs": [
    {
     "data": {
      "text/plain": [
       "Timestamp('2015-06-30 22:00:00+0000', tz='UTC')"
      ]
     },
     "metadata": {},
     "output_type": "display_data"
    },
    {
     "data": {
      "text/plain": [
       "Timestamp('2015-07-01 22:00:00+0000', tz='UTC')"
      ]
     },
     "metadata": {},
     "output_type": "display_data"
    }
   ],
   "source": [
    "/display M.iloc[batch_indices[18422][0][0]].time\n",
    "/display M.iloc[batch_indices[18423][0][0]].time"
   ]
  },
  {
   "cell_type": "code",
   "execution_count": 46,
   "metadata": {},
   "outputs": [
    {
     "name": "stdout",
     "output_type": "stream",
     "text": [
      "Epoch 1/5\n",
      "14801/14801 [==============================] - 1852s 125ms/step - loss: 0.0260 - acc: 0.509301\n",
      "Epoch 2/5\n",
      "14801/14801 [==============================] - 1856s 125ms/step - loss: 0.0261 - acc: 0.507701\n",
      "Epoch 3/5\n",
      "14801/14801 [==============================] - 1860s 126ms/step - loss: 0.0261 - acc: 0.507701\n",
      "Epoch 4/5\n",
      "14801/14801 [==============================] - 1858s 126ms/step - loss: 0.0261 - acc: 0.507701\n",
      "Epoch 5/5\n",
      "14801/14801 [==============================] - 1861s 126ms/step - loss: 0.0261 - acc: 0.5077\n",
      "CPU times: user 3h 8min 37s, sys: 2min 3s, total: 3h 10min 41s\n",
      "Wall time: 2h 34min 47s\n"
     ]
    }
   ],
   "source": [
    "%%time\n",
    "the_batches = chain(*[iter_batches(N, batch_indices[3622:18423]) for i in range(5)])\n",
    "model.fit_generator(the_batches, steps_per_epoch=len(batch_indices[3622:18423]), epochs=5);"
   ]
  },
  {
   "cell_type": "code",
   "execution_count": null,
   "metadata": {
    "collapsed": true
   },
   "outputs": [],
   "source": []
  },
  {
   "cell_type": "code",
   "execution_count": 47,
   "metadata": {},
   "outputs": [],
   "source": [
    "model.save('../data/news/keras3')"
   ]
  },
  {
   "cell_type": "code",
   "execution_count": 33,
   "metadata": {
    "collapsed": true
   },
   "outputs": [],
   "source": [
    "model = load_model('../data/news/keras')"
   ]
  },
  {
   "cell_type": "code",
   "execution_count": null,
   "metadata": {
    "collapsed": true
   },
   "outputs": [],
   "source": []
  },
  {
   "cell_type": "code",
   "execution_count": 51,
   "metadata": {
    "collapsed": true
   },
   "outputs": [],
   "source": [
    "def filter_indices(N, indices):    \n",
    "    print(f'[{len(indices)}]', end=''); i = 0\n",
    "    \n",
    "    for mi_, nis_ in indices:\n",
    "        print_progress(i, 10); i += 1\n",
    "        BUG.mi_, BUG.nis_ = mi_, nis_\n",
    "        \n",
    "        MI, NIS = [], []\n",
    "        \n",
    "        for mi, nis in zip(mi_, nis_):\n",
    "            BUG.mi, BUG.nis = mi, nis\n",
    "            theN = N.iloc[nis]\n",
    "            \n",
    "            theN = theN[theN.headlineFeeds.map(bool)] # get rid of empty lists of words\n",
    "            if len(theN) == 0:\n",
    "                continue\n",
    "            \n",
    "            MI.append(mi)\n",
    "            NIS.append(nis)\n",
    "\n",
    "        yield theN.time.iloc[0], MI, NIS"
   ]
  },
  {
   "cell_type": "code",
   "execution_count": 52,
   "metadata": {},
   "outputs": [
    {
     "name": "stdout",
     "output_type": "stream",
     "text": [
      "[3766]0.........100.........200.........300.........400.........500.........600.........700.........800.........900.........1000.........1100.........1200.........1300.........1400.........1500.........1600.........1700.........1800.........1900.........2000.........2100.........2200.........2300.........2400.........2500.........2600.........2700.........2800.........2900.........3000.........3100.........3200.........3300.........3400.........3500.........3600.........3700......"
     ]
    }
   ],
   "source": [
    "ho_time_batch_indices = list(filter_indices(N, batch_indices[18420:]))\n",
    "ho_time = [tup[0] for tup in ho_time_batch_indices]\n",
    "ho_batch_indices = [tup[1:] for tup in ho_time_batch_indices]"
   ]
  },
  {
   "cell_type": "code",
   "execution_count": 53,
   "metadata": {},
   "outputs": [
    {
     "name": "stdout",
     "output_type": "stream",
     "text": [
      "[3766]0.........100.........200.........300.........400.........500.........600.........700.........800.........900.........1000.........1100.........1200.........1300.........1400.........1500.........1600.........1700.........1800.........1900.........2000.........2100.........2200.........2300.........2400.........2500.........2600.........2700.........2800.........2900.........3000.........3100.........3200.........3300.........3400.........3500.........3600.........3700......"
     ]
    }
   ],
   "source": [
    "ho_batches_list = list(iter_batches(N, ho_batch_indices))"
   ]
  },
  {
   "cell_type": "code",
   "execution_count": 54,
   "metadata": {},
   "outputs": [],
   "source": [
    "ans = model.predict_generator(iter(ho_batches_list), steps=len(ho_batches_list))"
   ]
  },
  {
   "cell_type": "code",
   "execution_count": null,
   "metadata": {
    "collapsed": true
   },
   "outputs": [],
   "source": []
  },
  {
   "cell_type": "code",
   "execution_count": 55,
   "metadata": {},
   "outputs": [],
   "source": [
    "time = np.concatenate(list(np.full(len(guy[1]), ho_time[i]) for i,guy in enumerate(ho_batches_list)))\n",
    "upDown = np.concatenate(list(guy[1] for guy in ho_batches_list))\n",
    "absVal = np.concatenate(list(guy[2] for guy in ho_batches_list))"
   ]
  },
  {
   "cell_type": "code",
   "execution_count": 56,
   "metadata": {},
   "outputs": [],
   "source": [
    "myho = pd.DataFrame(dict(time=time,upDown=upDown,absVal=absVal,pred=ans[:,0]))"
   ]
  },
  {
   "cell_type": "code",
   "execution_count": 72,
   "metadata": {
    "collapsed": true
   },
   "outputs": [],
   "source": [
    "myho['y'] = (myho.upDown*2-1)*myho.absVal\n",
    "myho['guess'] = myho.pred*2-1\n",
    "myho['guess'] = myho.groupby('time').guess.transform(lambda x: np.tanh((x-x.mean())*7)+x.mean())\n",
    "myho['trade'] = myho.y * myho.guess"
   ]
  },
  {
   "cell_type": "code",
   "execution_count": 73,
   "metadata": {},
   "outputs": [
    {
     "name": "stdout",
     "output_type": "stream",
     "text": [
      "0.08238235145368322\n"
     ]
    },
    {
     "data": {
      "application/javascript": [
       "/* Put everything inside the global mpl namespace */\n",
       "window.mpl = {};\n",
       "\n",
       "\n",
       "mpl.get_websocket_type = function() {\n",
       "    if (typeof(WebSocket) !== 'undefined') {\n",
       "        return WebSocket;\n",
       "    } else if (typeof(MozWebSocket) !== 'undefined') {\n",
       "        return MozWebSocket;\n",
       "    } else {\n",
       "        alert('Your browser does not have WebSocket support.' +\n",
       "              'Please try Chrome, Safari or Firefox ≥ 6. ' +\n",
       "              'Firefox 4 and 5 are also supported but you ' +\n",
       "              'have to enable WebSockets in about:config.');\n",
       "    };\n",
       "}\n",
       "\n",
       "mpl.figure = function(figure_id, websocket, ondownload, parent_element) {\n",
       "    this.id = figure_id;\n",
       "\n",
       "    this.ws = websocket;\n",
       "\n",
       "    this.supports_binary = (this.ws.binaryType != undefined);\n",
       "\n",
       "    if (!this.supports_binary) {\n",
       "        var warnings = document.getElementById(\"mpl-warnings\");\n",
       "        if (warnings) {\n",
       "            warnings.style.display = 'block';\n",
       "            warnings.textContent = (\n",
       "                \"This browser does not support binary websocket messages. \" +\n",
       "                    \"Performance may be slow.\");\n",
       "        }\n",
       "    }\n",
       "\n",
       "    this.imageObj = new Image();\n",
       "\n",
       "    this.context = undefined;\n",
       "    this.message = undefined;\n",
       "    this.canvas = undefined;\n",
       "    this.rubberband_canvas = undefined;\n",
       "    this.rubberband_context = undefined;\n",
       "    this.format_dropdown = undefined;\n",
       "\n",
       "    this.image_mode = 'full';\n",
       "\n",
       "    this.root = $('<div/>');\n",
       "    this._root_extra_style(this.root)\n",
       "    this.root.attr('style', 'display: inline-block');\n",
       "\n",
       "    $(parent_element).append(this.root);\n",
       "\n",
       "    this._init_header(this);\n",
       "    this._init_canvas(this);\n",
       "    this._init_toolbar(this);\n",
       "\n",
       "    var fig = this;\n",
       "\n",
       "    this.waiting = false;\n",
       "\n",
       "    this.ws.onopen =  function () {\n",
       "            fig.send_message(\"supports_binary\", {value: fig.supports_binary});\n",
       "            fig.send_message(\"send_image_mode\", {});\n",
       "            if (mpl.ratio != 1) {\n",
       "                fig.send_message(\"set_dpi_ratio\", {'dpi_ratio': mpl.ratio});\n",
       "            }\n",
       "            fig.send_message(\"refresh\", {});\n",
       "        }\n",
       "\n",
       "    this.imageObj.onload = function() {\n",
       "            if (fig.image_mode == 'full') {\n",
       "                // Full images could contain transparency (where diff images\n",
       "                // almost always do), so we need to clear the canvas so that\n",
       "                // there is no ghosting.\n",
       "                fig.context.clearRect(0, 0, fig.canvas.width, fig.canvas.height);\n",
       "            }\n",
       "            fig.context.drawImage(fig.imageObj, 0, 0);\n",
       "        };\n",
       "\n",
       "    this.imageObj.onunload = function() {\n",
       "        this.ws.close();\n",
       "    }\n",
       "\n",
       "    this.ws.onmessage = this._make_on_message_function(this);\n",
       "\n",
       "    this.ondownload = ondownload;\n",
       "}\n",
       "\n",
       "mpl.figure.prototype._init_header = function() {\n",
       "    var titlebar = $(\n",
       "        '<div class=\"ui-dialog-titlebar ui-widget-header ui-corner-all ' +\n",
       "        'ui-helper-clearfix\"/>');\n",
       "    var titletext = $(\n",
       "        '<div class=\"ui-dialog-title\" style=\"width: 100%; ' +\n",
       "        'text-align: center; padding: 3px;\"/>');\n",
       "    titlebar.append(titletext)\n",
       "    this.root.append(titlebar);\n",
       "    this.header = titletext[0];\n",
       "}\n",
       "\n",
       "\n",
       "\n",
       "mpl.figure.prototype._canvas_extra_style = function(canvas_div) {\n",
       "\n",
       "}\n",
       "\n",
       "\n",
       "mpl.figure.prototype._root_extra_style = function(canvas_div) {\n",
       "\n",
       "}\n",
       "\n",
       "mpl.figure.prototype._init_canvas = function() {\n",
       "    var fig = this;\n",
       "\n",
       "    var canvas_div = $('<div/>');\n",
       "\n",
       "    canvas_div.attr('style', 'position: relative; clear: both; outline: 0');\n",
       "\n",
       "    function canvas_keyboard_event(event) {\n",
       "        return fig.key_event(event, event['data']);\n",
       "    }\n",
       "\n",
       "    canvas_div.keydown('key_press', canvas_keyboard_event);\n",
       "    canvas_div.keyup('key_release', canvas_keyboard_event);\n",
       "    this.canvas_div = canvas_div\n",
       "    this._canvas_extra_style(canvas_div)\n",
       "    this.root.append(canvas_div);\n",
       "\n",
       "    var canvas = $('<canvas/>');\n",
       "    canvas.addClass('mpl-canvas');\n",
       "    canvas.attr('style', \"left: 0; top: 0; z-index: 0; outline: 0\")\n",
       "\n",
       "    this.canvas = canvas[0];\n",
       "    this.context = canvas[0].getContext(\"2d\");\n",
       "\n",
       "    var backingStore = this.context.backingStorePixelRatio ||\n",
       "\tthis.context.webkitBackingStorePixelRatio ||\n",
       "\tthis.context.mozBackingStorePixelRatio ||\n",
       "\tthis.context.msBackingStorePixelRatio ||\n",
       "\tthis.context.oBackingStorePixelRatio ||\n",
       "\tthis.context.backingStorePixelRatio || 1;\n",
       "\n",
       "    mpl.ratio = (window.devicePixelRatio || 1) / backingStore;\n",
       "\n",
       "    var rubberband = $('<canvas/>');\n",
       "    rubberband.attr('style', \"position: absolute; left: 0; top: 0; z-index: 1;\")\n",
       "\n",
       "    var pass_mouse_events = true;\n",
       "\n",
       "    canvas_div.resizable({\n",
       "        start: function(event, ui) {\n",
       "            pass_mouse_events = false;\n",
       "        },\n",
       "        resize: function(event, ui) {\n",
       "            fig.request_resize(ui.size.width, ui.size.height);\n",
       "        },\n",
       "        stop: function(event, ui) {\n",
       "            pass_mouse_events = true;\n",
       "            fig.request_resize(ui.size.width, ui.size.height);\n",
       "        },\n",
       "    });\n",
       "\n",
       "    function mouse_event_fn(event) {\n",
       "        if (pass_mouse_events)\n",
       "            return fig.mouse_event(event, event['data']);\n",
       "    }\n",
       "\n",
       "    rubberband.mousedown('button_press', mouse_event_fn);\n",
       "    rubberband.mouseup('button_release', mouse_event_fn);\n",
       "    // Throttle sequential mouse events to 1 every 20ms.\n",
       "    rubberband.mousemove('motion_notify', mouse_event_fn);\n",
       "\n",
       "    rubberband.mouseenter('figure_enter', mouse_event_fn);\n",
       "    rubberband.mouseleave('figure_leave', mouse_event_fn);\n",
       "\n",
       "    canvas_div.on(\"wheel\", function (event) {\n",
       "        event = event.originalEvent;\n",
       "        event['data'] = 'scroll'\n",
       "        if (event.deltaY < 0) {\n",
       "            event.step = 1;\n",
       "        } else {\n",
       "            event.step = -1;\n",
       "        }\n",
       "        mouse_event_fn(event);\n",
       "    });\n",
       "\n",
       "    canvas_div.append(canvas);\n",
       "    canvas_div.append(rubberband);\n",
       "\n",
       "    this.rubberband = rubberband;\n",
       "    this.rubberband_canvas = rubberband[0];\n",
       "    this.rubberband_context = rubberband[0].getContext(\"2d\");\n",
       "    this.rubberband_context.strokeStyle = \"#000000\";\n",
       "\n",
       "    this._resize_canvas = function(width, height) {\n",
       "        // Keep the size of the canvas, canvas container, and rubber band\n",
       "        // canvas in synch.\n",
       "        canvas_div.css('width', width)\n",
       "        canvas_div.css('height', height)\n",
       "\n",
       "        canvas.attr('width', width * mpl.ratio);\n",
       "        canvas.attr('height', height * mpl.ratio);\n",
       "        canvas.attr('style', 'width: ' + width + 'px; height: ' + height + 'px;');\n",
       "\n",
       "        rubberband.attr('width', width);\n",
       "        rubberband.attr('height', height);\n",
       "    }\n",
       "\n",
       "    // Set the figure to an initial 600x600px, this will subsequently be updated\n",
       "    // upon first draw.\n",
       "    this._resize_canvas(600, 600);\n",
       "\n",
       "    // Disable right mouse context menu.\n",
       "    $(this.rubberband_canvas).bind(\"contextmenu\",function(e){\n",
       "        return false;\n",
       "    });\n",
       "\n",
       "    function set_focus () {\n",
       "        canvas.focus();\n",
       "        canvas_div.focus();\n",
       "    }\n",
       "\n",
       "    window.setTimeout(set_focus, 100);\n",
       "}\n",
       "\n",
       "mpl.figure.prototype._init_toolbar = function() {\n",
       "    var fig = this;\n",
       "\n",
       "    var nav_element = $('<div/>')\n",
       "    nav_element.attr('style', 'width: 100%');\n",
       "    this.root.append(nav_element);\n",
       "\n",
       "    // Define a callback function for later on.\n",
       "    function toolbar_event(event) {\n",
       "        return fig.toolbar_button_onclick(event['data']);\n",
       "    }\n",
       "    function toolbar_mouse_event(event) {\n",
       "        return fig.toolbar_button_onmouseover(event['data']);\n",
       "    }\n",
       "\n",
       "    for(var toolbar_ind in mpl.toolbar_items) {\n",
       "        var name = mpl.toolbar_items[toolbar_ind][0];\n",
       "        var tooltip = mpl.toolbar_items[toolbar_ind][1];\n",
       "        var image = mpl.toolbar_items[toolbar_ind][2];\n",
       "        var method_name = mpl.toolbar_items[toolbar_ind][3];\n",
       "\n",
       "        if (!name) {\n",
       "            // put a spacer in here.\n",
       "            continue;\n",
       "        }\n",
       "        var button = $('<button/>');\n",
       "        button.addClass('ui-button ui-widget ui-state-default ui-corner-all ' +\n",
       "                        'ui-button-icon-only');\n",
       "        button.attr('role', 'button');\n",
       "        button.attr('aria-disabled', 'false');\n",
       "        button.click(method_name, toolbar_event);\n",
       "        button.mouseover(tooltip, toolbar_mouse_event);\n",
       "\n",
       "        var icon_img = $('<span/>');\n",
       "        icon_img.addClass('ui-button-icon-primary ui-icon');\n",
       "        icon_img.addClass(image);\n",
       "        icon_img.addClass('ui-corner-all');\n",
       "\n",
       "        var tooltip_span = $('<span/>');\n",
       "        tooltip_span.addClass('ui-button-text');\n",
       "        tooltip_span.html(tooltip);\n",
       "\n",
       "        button.append(icon_img);\n",
       "        button.append(tooltip_span);\n",
       "\n",
       "        nav_element.append(button);\n",
       "    }\n",
       "\n",
       "    var fmt_picker_span = $('<span/>');\n",
       "\n",
       "    var fmt_picker = $('<select/>');\n",
       "    fmt_picker.addClass('mpl-toolbar-option ui-widget ui-widget-content');\n",
       "    fmt_picker_span.append(fmt_picker);\n",
       "    nav_element.append(fmt_picker_span);\n",
       "    this.format_dropdown = fmt_picker[0];\n",
       "\n",
       "    for (var ind in mpl.extensions) {\n",
       "        var fmt = mpl.extensions[ind];\n",
       "        var option = $(\n",
       "            '<option/>', {selected: fmt === mpl.default_extension}).html(fmt);\n",
       "        fmt_picker.append(option)\n",
       "    }\n",
       "\n",
       "    // Add hover states to the ui-buttons\n",
       "    $( \".ui-button\" ).hover(\n",
       "        function() { $(this).addClass(\"ui-state-hover\");},\n",
       "        function() { $(this).removeClass(\"ui-state-hover\");}\n",
       "    );\n",
       "\n",
       "    var status_bar = $('<span class=\"mpl-message\"/>');\n",
       "    nav_element.append(status_bar);\n",
       "    this.message = status_bar[0];\n",
       "}\n",
       "\n",
       "mpl.figure.prototype.request_resize = function(x_pixels, y_pixels) {\n",
       "    // Request matplotlib to resize the figure. Matplotlib will then trigger a resize in the client,\n",
       "    // which will in turn request a refresh of the image.\n",
       "    this.send_message('resize', {'width': x_pixels, 'height': y_pixels});\n",
       "}\n",
       "\n",
       "mpl.figure.prototype.send_message = function(type, properties) {\n",
       "    properties['type'] = type;\n",
       "    properties['figure_id'] = this.id;\n",
       "    this.ws.send(JSON.stringify(properties));\n",
       "}\n",
       "\n",
       "mpl.figure.prototype.send_draw_message = function() {\n",
       "    if (!this.waiting) {\n",
       "        this.waiting = true;\n",
       "        this.ws.send(JSON.stringify({type: \"draw\", figure_id: this.id}));\n",
       "    }\n",
       "}\n",
       "\n",
       "\n",
       "mpl.figure.prototype.handle_save = function(fig, msg) {\n",
       "    var format_dropdown = fig.format_dropdown;\n",
       "    var format = format_dropdown.options[format_dropdown.selectedIndex].value;\n",
       "    fig.ondownload(fig, format);\n",
       "}\n",
       "\n",
       "\n",
       "mpl.figure.prototype.handle_resize = function(fig, msg) {\n",
       "    var size = msg['size'];\n",
       "    if (size[0] != fig.canvas.width || size[1] != fig.canvas.height) {\n",
       "        fig._resize_canvas(size[0], size[1]);\n",
       "        fig.send_message(\"refresh\", {});\n",
       "    };\n",
       "}\n",
       "\n",
       "mpl.figure.prototype.handle_rubberband = function(fig, msg) {\n",
       "    var x0 = msg['x0'] / mpl.ratio;\n",
       "    var y0 = (fig.canvas.height - msg['y0']) / mpl.ratio;\n",
       "    var x1 = msg['x1'] / mpl.ratio;\n",
       "    var y1 = (fig.canvas.height - msg['y1']) / mpl.ratio;\n",
       "    x0 = Math.floor(x0) + 0.5;\n",
       "    y0 = Math.floor(y0) + 0.5;\n",
       "    x1 = Math.floor(x1) + 0.5;\n",
       "    y1 = Math.floor(y1) + 0.5;\n",
       "    var min_x = Math.min(x0, x1);\n",
       "    var min_y = Math.min(y0, y1);\n",
       "    var width = Math.abs(x1 - x0);\n",
       "    var height = Math.abs(y1 - y0);\n",
       "\n",
       "    fig.rubberband_context.clearRect(\n",
       "        0, 0, fig.canvas.width, fig.canvas.height);\n",
       "\n",
       "    fig.rubberband_context.strokeRect(min_x, min_y, width, height);\n",
       "}\n",
       "\n",
       "mpl.figure.prototype.handle_figure_label = function(fig, msg) {\n",
       "    // Updates the figure title.\n",
       "    fig.header.textContent = msg['label'];\n",
       "}\n",
       "\n",
       "mpl.figure.prototype.handle_cursor = function(fig, msg) {\n",
       "    var cursor = msg['cursor'];\n",
       "    switch(cursor)\n",
       "    {\n",
       "    case 0:\n",
       "        cursor = 'pointer';\n",
       "        break;\n",
       "    case 1:\n",
       "        cursor = 'default';\n",
       "        break;\n",
       "    case 2:\n",
       "        cursor = 'crosshair';\n",
       "        break;\n",
       "    case 3:\n",
       "        cursor = 'move';\n",
       "        break;\n",
       "    }\n",
       "    fig.rubberband_canvas.style.cursor = cursor;\n",
       "}\n",
       "\n",
       "mpl.figure.prototype.handle_message = function(fig, msg) {\n",
       "    fig.message.textContent = msg['message'];\n",
       "}\n",
       "\n",
       "mpl.figure.prototype.handle_draw = function(fig, msg) {\n",
       "    // Request the server to send over a new figure.\n",
       "    fig.send_draw_message();\n",
       "}\n",
       "\n",
       "mpl.figure.prototype.handle_image_mode = function(fig, msg) {\n",
       "    fig.image_mode = msg['mode'];\n",
       "}\n",
       "\n",
       "mpl.figure.prototype.updated_canvas_event = function() {\n",
       "    // Called whenever the canvas gets updated.\n",
       "    this.send_message(\"ack\", {});\n",
       "}\n",
       "\n",
       "// A function to construct a web socket function for onmessage handling.\n",
       "// Called in the figure constructor.\n",
       "mpl.figure.prototype._make_on_message_function = function(fig) {\n",
       "    return function socket_on_message(evt) {\n",
       "        if (evt.data instanceof Blob) {\n",
       "            /* FIXME: We get \"Resource interpreted as Image but\n",
       "             * transferred with MIME type text/plain:\" errors on\n",
       "             * Chrome.  But how to set the MIME type?  It doesn't seem\n",
       "             * to be part of the websocket stream */\n",
       "            evt.data.type = \"image/png\";\n",
       "\n",
       "            /* Free the memory for the previous frames */\n",
       "            if (fig.imageObj.src) {\n",
       "                (window.URL || window.webkitURL).revokeObjectURL(\n",
       "                    fig.imageObj.src);\n",
       "            }\n",
       "\n",
       "            fig.imageObj.src = (window.URL || window.webkitURL).createObjectURL(\n",
       "                evt.data);\n",
       "            fig.updated_canvas_event();\n",
       "            fig.waiting = false;\n",
       "            return;\n",
       "        }\n",
       "        else if (typeof evt.data === 'string' && evt.data.slice(0, 21) == \"data:image/png;base64\") {\n",
       "            fig.imageObj.src = evt.data;\n",
       "            fig.updated_canvas_event();\n",
       "            fig.waiting = false;\n",
       "            return;\n",
       "        }\n",
       "\n",
       "        var msg = JSON.parse(evt.data);\n",
       "        var msg_type = msg['type'];\n",
       "\n",
       "        // Call the  \"handle_{type}\" callback, which takes\n",
       "        // the figure and JSON message as its only arguments.\n",
       "        try {\n",
       "            var callback = fig[\"handle_\" + msg_type];\n",
       "        } catch (e) {\n",
       "            console.log(\"No handler for the '\" + msg_type + \"' message type: \", msg);\n",
       "            return;\n",
       "        }\n",
       "\n",
       "        if (callback) {\n",
       "            try {\n",
       "                // console.log(\"Handling '\" + msg_type + \"' message: \", msg);\n",
       "                callback(fig, msg);\n",
       "            } catch (e) {\n",
       "                console.log(\"Exception inside the 'handler_\" + msg_type + \"' callback:\", e, e.stack, msg);\n",
       "            }\n",
       "        }\n",
       "    };\n",
       "}\n",
       "\n",
       "// from http://stackoverflow.com/questions/1114465/getting-mouse-location-in-canvas\n",
       "mpl.findpos = function(e) {\n",
       "    //this section is from http://www.quirksmode.org/js/events_properties.html\n",
       "    var targ;\n",
       "    if (!e)\n",
       "        e = window.event;\n",
       "    if (e.target)\n",
       "        targ = e.target;\n",
       "    else if (e.srcElement)\n",
       "        targ = e.srcElement;\n",
       "    if (targ.nodeType == 3) // defeat Safari bug\n",
       "        targ = targ.parentNode;\n",
       "\n",
       "    // jQuery normalizes the pageX and pageY\n",
       "    // pageX,Y are the mouse positions relative to the document\n",
       "    // offset() returns the position of the element relative to the document\n",
       "    var x = e.pageX - $(targ).offset().left;\n",
       "    var y = e.pageY - $(targ).offset().top;\n",
       "\n",
       "    return {\"x\": x, \"y\": y};\n",
       "};\n",
       "\n",
       "/*\n",
       " * return a copy of an object with only non-object keys\n",
       " * we need this to avoid circular references\n",
       " * http://stackoverflow.com/a/24161582/3208463\n",
       " */\n",
       "function simpleKeys (original) {\n",
       "  return Object.keys(original).reduce(function (obj, key) {\n",
       "    if (typeof original[key] !== 'object')\n",
       "        obj[key] = original[key]\n",
       "    return obj;\n",
       "  }, {});\n",
       "}\n",
       "\n",
       "mpl.figure.prototype.mouse_event = function(event, name) {\n",
       "    var canvas_pos = mpl.findpos(event)\n",
       "\n",
       "    if (name === 'button_press')\n",
       "    {\n",
       "        this.canvas.focus();\n",
       "        this.canvas_div.focus();\n",
       "    }\n",
       "\n",
       "    var x = canvas_pos.x * mpl.ratio;\n",
       "    var y = canvas_pos.y * mpl.ratio;\n",
       "\n",
       "    this.send_message(name, {x: x, y: y, button: event.button,\n",
       "                             step: event.step,\n",
       "                             guiEvent: simpleKeys(event)});\n",
       "\n",
       "    /* This prevents the web browser from automatically changing to\n",
       "     * the text insertion cursor when the button is pressed.  We want\n",
       "     * to control all of the cursor setting manually through the\n",
       "     * 'cursor' event from matplotlib */\n",
       "    event.preventDefault();\n",
       "    return false;\n",
       "}\n",
       "\n",
       "mpl.figure.prototype._key_event_extra = function(event, name) {\n",
       "    // Handle any extra behaviour associated with a key event\n",
       "}\n",
       "\n",
       "mpl.figure.prototype.key_event = function(event, name) {\n",
       "\n",
       "    // Prevent repeat events\n",
       "    if (name == 'key_press')\n",
       "    {\n",
       "        if (event.which === this._key)\n",
       "            return;\n",
       "        else\n",
       "            this._key = event.which;\n",
       "    }\n",
       "    if (name == 'key_release')\n",
       "        this._key = null;\n",
       "\n",
       "    var value = '';\n",
       "    if (event.ctrlKey && event.which != 17)\n",
       "        value += \"ctrl+\";\n",
       "    if (event.altKey && event.which != 18)\n",
       "        value += \"alt+\";\n",
       "    if (event.shiftKey && event.which != 16)\n",
       "        value += \"shift+\";\n",
       "\n",
       "    value += 'k';\n",
       "    value += event.which.toString();\n",
       "\n",
       "    this._key_event_extra(event, name);\n",
       "\n",
       "    this.send_message(name, {key: value,\n",
       "                             guiEvent: simpleKeys(event)});\n",
       "    return false;\n",
       "}\n",
       "\n",
       "mpl.figure.prototype.toolbar_button_onclick = function(name) {\n",
       "    if (name == 'download') {\n",
       "        this.handle_save(this, null);\n",
       "    } else {\n",
       "        this.send_message(\"toolbar_button\", {name: name});\n",
       "    }\n",
       "};\n",
       "\n",
       "mpl.figure.prototype.toolbar_button_onmouseover = function(tooltip) {\n",
       "    this.message.textContent = tooltip;\n",
       "};\n",
       "mpl.toolbar_items = [[\"Home\", \"Reset original view\", \"fa fa-home icon-home\", \"home\"], [\"Back\", \"Back to  previous view\", \"fa fa-arrow-left icon-arrow-left\", \"back\"], [\"Forward\", \"Forward to next view\", \"fa fa-arrow-right icon-arrow-right\", \"forward\"], [\"\", \"\", \"\", \"\"], [\"Pan\", \"Pan axes with left mouse, zoom with right\", \"fa fa-arrows icon-move\", \"pan\"], [\"Zoom\", \"Zoom to rectangle\", \"fa fa-square-o icon-check-empty\", \"zoom\"], [\"\", \"\", \"\", \"\"], [\"Download\", \"Download plot\", \"fa fa-floppy-o icon-save\", \"download\"]];\n",
       "\n",
       "mpl.extensions = [\"eps\", \"jpeg\", \"pdf\", \"png\", \"ps\", \"raw\", \"svg\", \"tif\"];\n",
       "\n",
       "mpl.default_extension = \"png\";var comm_websocket_adapter = function(comm) {\n",
       "    // Create a \"websocket\"-like object which calls the given IPython comm\n",
       "    // object with the appropriate methods. Currently this is a non binary\n",
       "    // socket, so there is still some room for performance tuning.\n",
       "    var ws = {};\n",
       "\n",
       "    ws.close = function() {\n",
       "        comm.close()\n",
       "    };\n",
       "    ws.send = function(m) {\n",
       "        //console.log('sending', m);\n",
       "        comm.send(m);\n",
       "    };\n",
       "    // Register the callback with on_msg.\n",
       "    comm.on_msg(function(msg) {\n",
       "        //console.log('receiving', msg['content']['data'], msg);\n",
       "        // Pass the mpl event to the overriden (by mpl) onmessage function.\n",
       "        ws.onmessage(msg['content']['data'])\n",
       "    });\n",
       "    return ws;\n",
       "}\n",
       "\n",
       "mpl.mpl_figure_comm = function(comm, msg) {\n",
       "    // This is the function which gets called when the mpl process\n",
       "    // starts-up an IPython Comm through the \"matplotlib\" channel.\n",
       "\n",
       "    var id = msg.content.data.id;\n",
       "    // Get hold of the div created by the display call when the Comm\n",
       "    // socket was opened in Python.\n",
       "    var element = $(\"#\" + id);\n",
       "    var ws_proxy = comm_websocket_adapter(comm)\n",
       "\n",
       "    function ondownload(figure, format) {\n",
       "        window.open(figure.imageObj.src);\n",
       "    }\n",
       "\n",
       "    var fig = new mpl.figure(id, ws_proxy,\n",
       "                           ondownload,\n",
       "                           element.get(0));\n",
       "\n",
       "    // Call onopen now - mpl needs it, as it is assuming we've passed it a real\n",
       "    // web socket which is closed, not our websocket->open comm proxy.\n",
       "    ws_proxy.onopen();\n",
       "\n",
       "    fig.parent_element = element.get(0);\n",
       "    fig.cell_info = mpl.find_output_cell(\"<div id='\" + id + \"'></div>\");\n",
       "    if (!fig.cell_info) {\n",
       "        console.error(\"Failed to find cell for figure\", id, fig);\n",
       "        return;\n",
       "    }\n",
       "\n",
       "    var output_index = fig.cell_info[2]\n",
       "    var cell = fig.cell_info[0];\n",
       "\n",
       "};\n",
       "\n",
       "mpl.figure.prototype.handle_close = function(fig, msg) {\n",
       "    var width = fig.canvas.width/mpl.ratio\n",
       "    fig.root.unbind('remove')\n",
       "\n",
       "    // Update the output cell to use the data from the current canvas.\n",
       "    fig.push_to_output();\n",
       "    var dataURL = fig.canvas.toDataURL();\n",
       "    // Re-enable the keyboard manager in IPython - without this line, in FF,\n",
       "    // the notebook keyboard shortcuts fail.\n",
       "    IPython.keyboard_manager.enable()\n",
       "    $(fig.parent_element).html('<img src=\"' + dataURL + '\" width=\"' + width + '\">');\n",
       "    fig.close_ws(fig, msg);\n",
       "}\n",
       "\n",
       "mpl.figure.prototype.close_ws = function(fig, msg){\n",
       "    fig.send_message('closing', msg);\n",
       "    // fig.ws.close()\n",
       "}\n",
       "\n",
       "mpl.figure.prototype.push_to_output = function(remove_interactive) {\n",
       "    // Turn the data on the canvas into data in the output cell.\n",
       "    var width = this.canvas.width/mpl.ratio\n",
       "    var dataURL = this.canvas.toDataURL();\n",
       "    this.cell_info[1]['text/html'] = '<img src=\"' + dataURL + '\" width=\"' + width + '\">';\n",
       "}\n",
       "\n",
       "mpl.figure.prototype.updated_canvas_event = function() {\n",
       "    // Tell IPython that the notebook contents must change.\n",
       "    IPython.notebook.set_dirty(true);\n",
       "    this.send_message(\"ack\", {});\n",
       "    var fig = this;\n",
       "    // Wait a second, then push the new image to the DOM so\n",
       "    // that it is saved nicely (might be nice to debounce this).\n",
       "    setTimeout(function () { fig.push_to_output() }, 1000);\n",
       "}\n",
       "\n",
       "mpl.figure.prototype._init_toolbar = function() {\n",
       "    var fig = this;\n",
       "\n",
       "    var nav_element = $('<div/>')\n",
       "    nav_element.attr('style', 'width: 100%');\n",
       "    this.root.append(nav_element);\n",
       "\n",
       "    // Define a callback function for later on.\n",
       "    function toolbar_event(event) {\n",
       "        return fig.toolbar_button_onclick(event['data']);\n",
       "    }\n",
       "    function toolbar_mouse_event(event) {\n",
       "        return fig.toolbar_button_onmouseover(event['data']);\n",
       "    }\n",
       "\n",
       "    for(var toolbar_ind in mpl.toolbar_items){\n",
       "        var name = mpl.toolbar_items[toolbar_ind][0];\n",
       "        var tooltip = mpl.toolbar_items[toolbar_ind][1];\n",
       "        var image = mpl.toolbar_items[toolbar_ind][2];\n",
       "        var method_name = mpl.toolbar_items[toolbar_ind][3];\n",
       "\n",
       "        if (!name) { continue; };\n",
       "\n",
       "        var button = $('<button class=\"btn btn-default\" href=\"#\" title=\"' + name + '\"><i class=\"fa ' + image + ' fa-lg\"></i></button>');\n",
       "        button.click(method_name, toolbar_event);\n",
       "        button.mouseover(tooltip, toolbar_mouse_event);\n",
       "        nav_element.append(button);\n",
       "    }\n",
       "\n",
       "    // Add the status bar.\n",
       "    var status_bar = $('<span class=\"mpl-message\" style=\"text-align:right; float: right;\"/>');\n",
       "    nav_element.append(status_bar);\n",
       "    this.message = status_bar[0];\n",
       "\n",
       "    // Add the close button to the window.\n",
       "    var buttongrp = $('<div class=\"btn-group inline pull-right\"></div>');\n",
       "    var button = $('<button class=\"btn btn-mini btn-primary\" href=\"#\" title=\"Stop Interaction\"><i class=\"fa fa-power-off icon-remove icon-large\"></i></button>');\n",
       "    button.click(function (evt) { fig.handle_close(fig, {}); } );\n",
       "    button.mouseover('Stop Interaction', toolbar_mouse_event);\n",
       "    buttongrp.append(button);\n",
       "    var titlebar = this.root.find($('.ui-dialog-titlebar'));\n",
       "    titlebar.prepend(buttongrp);\n",
       "}\n",
       "\n",
       "mpl.figure.prototype._root_extra_style = function(el){\n",
       "    var fig = this\n",
       "    el.on(\"remove\", function(){\n",
       "\tfig.close_ws(fig, {});\n",
       "    });\n",
       "}\n",
       "\n",
       "mpl.figure.prototype._canvas_extra_style = function(el){\n",
       "    // this is important to make the div 'focusable\n",
       "    el.attr('tabindex', 0)\n",
       "    // reach out to IPython and tell the keyboard manager to turn it's self\n",
       "    // off when our div gets focus\n",
       "\n",
       "    // location in version 3\n",
       "    if (IPython.notebook.keyboard_manager) {\n",
       "        IPython.notebook.keyboard_manager.register_events(el);\n",
       "    }\n",
       "    else {\n",
       "        // location in version 2\n",
       "        IPython.keyboard_manager.register_events(el);\n",
       "    }\n",
       "\n",
       "}\n",
       "\n",
       "mpl.figure.prototype._key_event_extra = function(event, name) {\n",
       "    var manager = IPython.notebook.keyboard_manager;\n",
       "    if (!manager)\n",
       "        manager = IPython.keyboard_manager;\n",
       "\n",
       "    // Check for shift+enter\n",
       "    if (event.shiftKey && event.which == 13) {\n",
       "        this.canvas_div.blur();\n",
       "        // select the cell after this one\n",
       "        var index = IPython.notebook.find_cell_index(this.cell_info[0]);\n",
       "        IPython.notebook.select(index + 1);\n",
       "    }\n",
       "}\n",
       "\n",
       "mpl.figure.prototype.handle_save = function(fig, msg) {\n",
       "    fig.ondownload(fig, null);\n",
       "}\n",
       "\n",
       "\n",
       "mpl.find_output_cell = function(html_output) {\n",
       "    // Return the cell and output element which can be found *uniquely* in the notebook.\n",
       "    // Note - this is a bit hacky, but it is done because the \"notebook_saving.Notebook\"\n",
       "    // IPython event is triggered only after the cells have been serialised, which for\n",
       "    // our purposes (turning an active figure into a static one), is too late.\n",
       "    var cells = IPython.notebook.get_cells();\n",
       "    var ncells = cells.length;\n",
       "    for (var i=0; i<ncells; i++) {\n",
       "        var cell = cells[i];\n",
       "        if (cell.cell_type === 'code'){\n",
       "            for (var j=0; j<cell.output_area.outputs.length; j++) {\n",
       "                var data = cell.output_area.outputs[j];\n",
       "                if (data.data) {\n",
       "                    // IPython >= 3 moved mimebundle to data attribute of output\n",
       "                    data = data.data;\n",
       "                }\n",
       "                if (data['text/html'] == html_output) {\n",
       "                    return [cell, data, j];\n",
       "                }\n",
       "            }\n",
       "        }\n",
       "    }\n",
       "}\n",
       "\n",
       "// Register the function which deals with the matplotlib target/channel.\n",
       "// The kernel may be null if the page has been refreshed.\n",
       "if (IPython.notebook.kernel != null) {\n",
       "    IPython.notebook.kernel.comm_manager.register_target('matplotlib', mpl.mpl_figure_comm);\n",
       "}\n"
      ],
      "text/plain": [
       "<IPython.core.display.Javascript object>"
      ]
     },
     "metadata": {},
     "output_type": "display_data"
    },
    {
     "data": {
      "text/html": [
       "<img src=\"data:image/png;base64,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\" width=\"900\">"
      ],
      "text/plain": [
       "<IPython.core.display.HTML object>"
      ]
     },
     "metadata": {},
     "output_type": "display_data"
    }
   ],
   "source": [
    "dl = myho.groupby('time').trade.sum()\n",
    "print(dl.mean()/dl.std())\n",
    "plt.hist(dl, bins=80);"
   ]
  },
  {
   "cell_type": "code",
   "execution_count": 59,
   "metadata": {},
   "outputs": [],
   "source": [
    "from keras.utils import plot_model\n",
    "plot_model(model, to_file='model.png', show_shapes=True)"
   ]
  },
  {
   "cell_type": "code",
   "execution_count": null,
   "metadata": {
    "collapsed": true
   },
   "outputs": [],
   "source": []
  },
  {
   "cell_type": "code",
   "execution_count": null,
   "metadata": {
    "collapsed": true
   },
   "outputs": [],
   "source": []
  },
  {
   "cell_type": "code",
   "execution_count": null,
   "metadata": {
    "collapsed": true
   },
   "outputs": [],
   "source": []
  },
  {
   "cell_type": "code",
   "execution_count": null,
   "metadata": {
    "collapsed": true
   },
   "outputs": [],
   "source": []
  },
  {
   "cell_type": "code",
   "execution_count": null,
   "metadata": {
    "collapsed": true
   },
   "outputs": [],
   "source": []
  },
  {
   "cell_type": "code",
   "execution_count": null,
   "metadata": {
    "collapsed": true
   },
   "outputs": [],
   "source": []
  },
  {
   "cell_type": "code",
   "execution_count": null,
   "metadata": {
    "collapsed": true
   },
   "outputs": [],
   "source": []
  },
  {
   "cell_type": "code",
   "execution_count": null,
   "metadata": {
    "collapsed": true
   },
   "outputs": [],
   "source": []
  },
  {
   "cell_type": "code",
   "execution_count": null,
   "metadata": {
    "collapsed": true
   },
   "outputs": [],
   "source": []
  },
  {
   "cell_type": "code",
   "execution_count": null,
   "metadata": {
    "collapsed": true
   },
   "outputs": [],
   "source": []
  },
  {
   "cell_type": "code",
   "execution_count": null,
   "metadata": {
    "collapsed": true
   },
   "outputs": [],
   "source": []
  },
  {
   "cell_type": "code",
   "execution_count": null,
   "metadata": {
    "collapsed": true
   },
   "outputs": [],
   "source": []
  },
  {
   "cell_type": "code",
   "execution_count": null,
   "metadata": {
    "collapsed": true
   },
   "outputs": [],
   "source": []
  },
  {
   "cell_type": "markdown",
   "metadata": {},
   "source": [
    "# The old post-listify stiff"
   ]
  },
  {
   "cell_type": "markdown",
   "metadata": {},
   "source": [
    "#### see which companies haven't found match"
   ]
  },
  {
   "cell_type": "code",
   "execution_count": 104,
   "metadata": {
    "collapsed": true
   },
   "outputs": [],
   "source": [
    "N = _N_"
   ]
  },
  {
   "cell_type": "code",
   "execution_count": 52,
   "metadata": {},
   "outputs": [
    {
     "name": "stdout",
     "output_type": "stream",
     "text": [
      "CPU times: user 25.7 s, sys: 3.11 s, total: 28.8 s\n",
      "Wall time: 28.7 s\n"
     ]
    }
   ],
   "source": [
    "N['headlineList'] = N.headlineWords.map(str.split)\n",
    "N['inHeadline'] = N.headlineList.map(lambda x: r'\\asset\\self.' in x)"
   ]
  },
  {
   "cell_type": "code",
   "execution_count": 105,
   "metadata": {
    "collapsed": true
   },
   "outputs": [],
   "source": [
    "Nnomatch = N.pipe(lambda N: N[(N.firstMentionSentence==1) & ~N.inHeadline & N.assetNameId.isin(assetNameMapCodes)])"
   ]
  },
  {
   "cell_type": "code",
   "execution_count": 107,
   "metadata": {
    "collapsed": true
   },
   "outputs": [],
   "source": [
    "nomatch = Nnomatch.assetNameId.value_counts()\n",
    "nomatch.index.name, nomatch.name = nomatch.name, 'Count'"
   ]
  },
  {
   "cell_type": "code",
   "execution_count": 180,
   "metadata": {
    "scrolled": true
   },
   "outputs": [],
   "source": [
    "nomatch.reset_index(drop=True)#.plot();"
   ]
  },
  {
   "cell_type": "code",
   "execution_count": 357,
   "metadata": {
    "collapsed": true
   },
   "outputs": [],
   "source": [
    "(Nnomatch, nomatch, lookup) = pd.read_pickle('stock-help.pkl')"
   ]
  },
  {
   "cell_type": "code",
   "execution_count": 179,
   "metadata": {},
   "outputs": [],
   "source": [
    "nomatch_i = 99\n",
    "asset = nomatch.index[nomatch_i]\n",
    "seeN = Nnomatch.pipe(lambda N: N[N.assetNameId==asset])\n",
    "print(assetNameIdAssign.series.loc[asset])\n",
    "seeN.headline.pipe(ljust)"
   ]
  },
  {
   "cell_type": "code",
   "execution_count": 182,
   "metadata": {},
   "outputs": [],
   "source": [
    "what = 24536\n",
    "_N_.loc[what-1:what+1+1]"
   ]
  },
  {
   "cell_type": "code",
   "execution_count": 381,
   "metadata": {
    "collapsed": true
   },
   "outputs": [],
   "source": [
    "oks, oke = M[M.assetCode=='OKS.N'], M[M.assetCode=='OKE.N']"
   ]
  },
  {
   "cell_type": "code",
   "execution_count": 387,
   "metadata": {},
   "outputs": [
    {
     "data": {
      "text/plain": [
       "0.6580509598009644"
      ]
     },
     "execution_count": 387,
     "metadata": {},
     "output_type": "execute_result"
    }
   ],
   "source": [
    "oks.set_index('time').returnsOpenNextMktres10.corr(oke.set_index('time').returnsOpenNextMktres10)"
   ]
  },
  {
   "cell_type": "markdown",
   "metadata": {},
   "source": [
    "## just looking"
   ]
  },
  {
   "cell_type": "code",
   "execution_count": 297,
   "metadata": {},
   "outputs": [
    {
     "data": {
      "text/plain": [
       "20772     Asia Netcom in $636 mln trans-Pacific cable project                                                            ...\n",
       "91927     PRESS DIGEST - Singapore newspapers - Feb 14                                                                   ...\n",
       "290017    Singapore Hot Stocks-STATS ChipPAC in focus amid bid speculation                                               ...\n",
       "321336    Pacific Internet to restate results from 2000 to 2006                                                          ...\n",
       "322182    CONNECT HOLDINGS SAYS TO DATE, THERE ARE NO ALTERNATIVE OFFERS OR CONCRETE PROPOSALS AVAILABLE TO ALL SHAREHOLD...\n",
       "322183    CONNECT HOLDINGS SAYS REVISED OFFER PRICE FOR PACIFIC INTERNET <PCNTF.O> REPRESENTS AN INCREASE OF 10 PCT FROM ...\n",
       "324658    PRESS DIGEST - Singapore newspapers - June 8                                                                   ...\n",
       "474706    PACIFIC INTERNET LTD <PCNTF.O> SAYS CEO PHEY TECK MOH TO STEP DOWN - SEC FILING                                ...\n",
       "474708    PACIFIC INTERNET LTD <PCNTF.O> NAMES BILL BARNEY ACTING CEO, EFFECTIVE IMMEDIATELY                             ...\n",
       "474730    Pacific Internet CEO steps down                                                                                ...\n",
       "546178    PACIFIC INTERNET LIMITED APPOINTS BRETT LAY AS CHIEF FINANCIAL OFFICER                                         ...\n",
       "546180    PACIFIC INTERNET LTD <PCNTF.O> SAYS BRETT LAY'S APPOINTMENT FOLLOWS STEPPING DOWN OF CURRENT CFO, HO TUCK CHUEN...\n",
       "561105    PRESS DIGEST - Singapore newspapers - Oct 22                                                                   ...\n",
       "Name: headline, dtype: object"
      ]
     },
     "execution_count": 297,
     "metadata": {},
     "output_type": "execute_result"
    }
   ],
   "source": [
    "_N_.pipe(lambda N: N.headline[N.assetNameId==7760].pipe(ljust))"
   ]
  },
  {
   "cell_type": "markdown",
   "metadata": {},
   "source": [
    "# Explore"
   ]
  }
 ],
 "metadata": {
  "kernelspec": {
   "display_name": "Python 3",
   "language": "python",
   "name": "python3"
  }
 },
 "nbformat": 4,
 "nbformat_minor": 2
}
