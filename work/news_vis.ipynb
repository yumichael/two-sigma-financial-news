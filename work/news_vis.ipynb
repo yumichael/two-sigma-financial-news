{
 "cells": [
  {
   "cell_type": "code",
   "execution_count": 1,
   "metadata": {
    "collapsed": true
   },
   "outputs": [],
   "source": [
    "from common import *\n",
    "from pandas.api.types import CategoricalDtype\n",
    "import warnings \n",
    "warnings.filterwarnings('ignore')\n",
    "debug = O()\n",
    "%matplotlib inline\n",
    "canvas(12,12)"
   ]
  },
  {
   "cell_type": "code",
   "execution_count": 2,
   "metadata": {
    "collapsed": true
   },
   "outputs": [],
   "source": [
    "#M = pd.read_pickle(top_dir+'data/given/M.pkl')\n",
    "N = pd.read_pickle(top_dir+'data/given/N1.pkl')\n",
    "#test = pd.read_pickle(top_dir+'data/given/test.pkl')"
   ]
  },
  {
   "cell_type": "code",
   "execution_count": 3,
   "metadata": {
    "collapsed": true
   },
   "outputs": [],
   "source": [
    "#N.to_pickle(top_dir+'data/given/N1.pkl')"
   ]
  },
  {
   "cell_type": "code",
   "execution_count": null,
   "metadata": {
    "collapsed": true
   },
   "outputs": [],
   "source": [
    "def fix_N(*,N):\n",
    "    for c in N:\n",
    "        if isinstance(N[c].dtype, CategoricalDtype):\n",
    "            print(c)\n",
    "            N[c] = N[c].astype(str)\n",
    "    N.assetCodes = N.assetCodes.map(lambda x: eval(x)); print(1)\n",
    "    N['assetCodesCount'] = N.assetCodes.map(len); print(2)\n",
    "    N.subjects = N.subjects.map(lambda x: eval(x)); print(3)\n",
    "    N['subjectsCount'] = N.subjects.map(len); print(4)\n",
    "    N.audiences = N.audiences.map(lambda x: eval(x)); print(5)\n",
    "    N['audiencesCount'] = N.audiences.map(len); print(6)"
   ]
  },
  {
   "cell_type": "code",
   "execution_count": null,
   "metadata": {
    "collapsed": true
   },
   "outputs": [],
   "source": []
  },
  {
   "cell_type": "code",
   "execution_count": null,
   "metadata": {
    "collapsed": true
   },
   "outputs": [],
   "source": []
  },
  {
   "cell_type": "code",
   "execution_count": 112,
   "metadata": {
    "collapsed": true
   },
   "outputs": [],
   "source": [
    "#N1 = np.concatenate([item[1].iloc[:,:3].values for item in test[:1000]], axis=0)\n",
    "#N1 = pd.DataFrame.from_items([(c,n) for n,c in zip(N1, N.columns[:3])])"
   ]
  },
  {
   "cell_type": "code",
   "execution_count": null,
   "metadata": {
    "collapsed": true
   },
   "outputs": [],
   "source": []
  },
  {
   "cell_type": "code",
   "execution_count": null,
   "metadata": {
    "collapsed": true
   },
   "outputs": [],
   "source": []
  },
  {
   "cell_type": "code",
   "execution_count": null,
   "metadata": {
    "collapsed": true
   },
   "outputs": [],
   "source": []
  },
  {
   "cell_type": "code",
   "execution_count": 14,
   "metadata": {},
   "outputs": [
    {
     "data": {
      "text/plain": [
       "[('time', datetime64[ns, UTC]),\n",
       " ('sourceTimestamp', datetime64[ns, UTC]),\n",
       " ('firstCreated', datetime64[ns, UTC]),\n",
       " ('sourceId', dtype('O')),\n",
       " ('headline', dtype('O')),\n",
       " ('urgency', dtype('int8')),\n",
       " ('takeSequence', dtype('int16')),\n",
       " ('provider', dtype('O')),\n",
       " ('subjects', dtype('O')),\n",
       " ('audiences', dtype('O')),\n",
       " ('bodySize', dtype('int32')),\n",
       " ('companyCount', dtype('int8')),\n",
       " ('headlineTag', dtype('O')),\n",
       " ('marketCommentary', dtype('bool')),\n",
       " ('sentenceCount', dtype('int16')),\n",
       " ('wordCount', dtype('int32')),\n",
       " ('assetCodes', dtype('O')),\n",
       " ('assetName', dtype('O')),\n",
       " ('firstMentionSentence', dtype('int16')),\n",
       " ('relevance', dtype('float32')),\n",
       " ('sentimentClass', dtype('int8')),\n",
       " ('sentimentNegative', dtype('float32')),\n",
       " ('sentimentNeutral', dtype('float32')),\n",
       " ('sentimentPositive', dtype('float32')),\n",
       " ('sentimentWordCount', dtype('int32')),\n",
       " ('noveltyCount12H', dtype('int16')),\n",
       " ('noveltyCount24H', dtype('int16')),\n",
       " ('noveltyCount3D', dtype('int16')),\n",
       " ('noveltyCount5D', dtype('int16')),\n",
       " ('noveltyCount7D', dtype('int16')),\n",
       " ('volumeCounts12H', dtype('int16')),\n",
       " ('volumeCounts24H', dtype('int16')),\n",
       " ('volumeCounts3D', dtype('int16')),\n",
       " ('volumeCounts5D', dtype('int16')),\n",
       " ('volumeCounts7D', dtype('int16')),\n",
       " ('assetCodesCount', dtype('int64')),\n",
       " ('subjectsCount', dtype('int64')),\n",
       " ('audiencesCount', dtype('int64'))]"
      ]
     },
     "execution_count": 14,
     "metadata": {},
     "output_type": "execute_result"
    }
   ],
   "source": [
    "list(zip(N.columns,N.dtypes))"
   ]
  },
  {
   "cell_type": "code",
   "execution_count": 4,
   "metadata": {
    "collapsed": true
   },
   "outputs": [],
   "source": [
    "import seaborn as sns"
   ]
  },
  {
   "cell_type": "code",
   "execution_count": 5,
   "metadata": {
    "collapsed": true
   },
   "outputs": [],
   "source": [
    "def iter_jittered_N(*,N):\n",
    "    n = len(N)\n",
    "    for c in N:\n",
    "        debug.c = c\n",
    "        try:\n",
    "            int_check = np.issubdtype(N[c].dtype,np.int)\n",
    "        except TypeError:\n",
    "            int_check = False\n",
    "        if int_check:\n",
    "            yield c, N[c].values+np.random.uniform(-.45,.45,size=[n])\n",
    "        else:\n",
    "            yield c, N[c].values\n",
    "N1 = pd.DataFrame.from_items(iter_jittered_N(N=N))"
   ]
  },
  {
   "cell_type": "code",
   "execution_count": 70,
   "metadata": {
    "collapsed": true
   },
   "outputs": [],
   "source": [
    "examp = pd.DataFrame({'a':[5,2.,6],'b':[0,3.,9],'c':[10,11,14.]})"
   ]
  },
  {
   "cell_type": "code",
   "execution_count": 73,
   "metadata": {
    "collapsed": true
   },
   "outputs": [
    {
     "data": {
      "image/png": "[encoded data removed]",
      "text/plain": [
       "<matplotlib.figure.Figure at 0x7f947ae3e828>"
      ]
     },
     "metadata": {},
     "output_type": "display_data"
    }
   ],
   "source": [
    "canvas(32,32)\n",
    "cols = 'a b c'.split()\n",
    "#sns.pairplot(examp)\n",
    "g = sns.PairGrid(examp[cols])\n",
    "g.map_diag(plt.hist, bins=80)\n",
    "g.map_offdiag(plt.scatter, s=.2, alpha=1);"
   ]
  },
  {
   "cell_type": "code",
   "execution_count": 12,
   "metadata": {},
   "outputs": [
    {
     "data": {
      "image/png": "[encoded data removed]",
      "text/plain": [
       "<matplotlib.figure.Figure at 0x7f22ca175d68>"
      ]
     },
     "metadata": {},
     "output_type": "display_data"
    }
   ],
   "source": [
    "cols = 'urgency takeSequence'.split()\n",
    "g = sns.PairGrid(N1[cols].head())\n",
    "g.map_diag(plt.hist, bins=80)\n",
    "g.map_offdiag(plt.scatter, s=.2, alpha=1);\n",
    "g.savefig(the_data+'vis/test+ing.png')"
   ]
  },
  {
   "cell_type": "code",
   "execution_count": 6,
   "metadata": {},
   "outputs": [
    {
     "data": {
      "text/plain": [
       "False    8814072\n",
       "True      514678\n",
       "Name: marketCommentary, dtype: int64"
      ]
     },
     "execution_count": 6,
     "metadata": {},
     "output_type": "execute_result"
    }
   ],
   "source": [
    "N.marketCommentary.value_counts()"
   ]
  },
  {
   "cell_type": "code",
   "execution_count": 7,
   "metadata": {},
   "outputs": [
    {
     "data": {
      "text/plain": [
       "3    6162567\n",
       "1    3166158\n",
       "2         25\n",
       "Name: urgency, dtype: int64"
      ]
     },
     "execution_count": 7,
     "metadata": {},
     "output_type": "execute_result"
    }
   ],
   "source": [
    "N.urgency.value_counts()"
   ]
  },
  {
   "cell_type": "markdown",
   "metadata": {},
   "source": [
    "pairplots"
   ]
  },
  {
   "cell_type": "code",
   "execution_count": null,
   "metadata": {
    "collapsed": true
   },
   "outputs": [],
   "source": [
    "Nsub = "
   ]
  },
  {
   "cell_type": "code",
   "execution_count": null,
   "metadata": {},
   "outputs": [
    {
     "name": "stdout",
     "output_type": "stream",
     "text": [
      "/home/ec2-user/Notebooks/two-sigma-financial-news/data/vis/categories+count_fuzzy.png\n"
     ]
    }
   ],
   "source": [
    "plot_columns = [\n",
    "    ('categories+count',\n",
    "     'urgency marketCommentary takeSequence bodySize sentenceCount wordCount subjectsCount audiencesCount'.split()),\n",
    "    ('categories+relevance',\n",
    "     'urgency marketCommentary takeSequence companyCount sentenceCount firstMentionSentence relevance'.split()),\n",
    "    ('sentiment',\n",
    "     'sentimentClass sentimentNegative sentimentNeutral sentimentPositive sentimentWordCount'.split()),\n",
    "    ('novelty+volume',\n",
    "     [c for c in N.columns if 'novelty' in c or 'volume' in c]),\n",
    "    ('categories+sentiment',\n",
    "     ('urgency marketCommentary takeSequence bodySize companyCount '\n",
    "      +'sentimentClass sentimentNegative sentimentNeutral sentimentPositive sentimentWordCount').split()),\n",
    "    ('relevance+sentiment',\n",
    "     ('sentenceCount wordCount firstMentionSentence relevance subjectsCount audiencesCount '\n",
    "      +'sentimentClass sentimentNegative sentimentNeutral sentimentPositive sentimentWordCount').split()),\n",
    "    ('sentiment+volume',\n",
    "     'sentimentClass sentimentNegative sentimentNeutral sentimentPositive sentimentWordCount'.split()\n",
    "     +[c for c in N.columns if 'volume' in c]),\n",
    "    ('sentiment+novelty',\n",
    "     'sentimentClass sentimentNegative sentimentNeutral sentimentPositive sentimentWordCount'.split()\n",
    "     +[c for c in N.columns if 'novelty' in c]),\n",
    "]\n",
    "for plot_name, cols in plot_columns:\n",
    "    for flavor, s, alpha in [('', .001, 1)]: #[('fuzzy', 1, .2), ('sharp', .2, 1)]:\n",
    "        print(the_data+'vis/'+plot_name+'_'+flavor+'.png')\n",
    "        N.iloc[:1][cols]\n",
    "        #continue\n",
    "        g = sns.PairGrid(N[cols])\n",
    "        g.map_diag(plt.hist, bins=80)\n",
    "        g.map_offdiag(plt.scatter, s=s, alpha=alpha);\n",
    "        g.savefig(the_data+'vis/'+plot_name+'_'+flavor+'.png')"
   ]
  },
  {
   "cell_type": "code",
   "execution_count": null,
   "metadata": {
    "collapsed": true
   },
   "outputs": [],
   "source": []
  },
  {
   "cell_type": "code",
   "execution_count": null,
   "metadata": {
    "collapsed": true
   },
   "outputs": [],
   "source": []
  },
  {
   "cell_type": "code",
   "execution_count": null,
   "metadata": {
    "collapsed": true
   },
   "outputs": [],
   "source": []
  },
  {
   "cell_type": "code",
   "execution_count": null,
   "metadata": {
    "collapsed": true
   },
   "outputs": [],
   "source": []
  },
  {
   "cell_type": "code",
   "execution_count": null,
   "metadata": {
    "collapsed": true
   },
   "outputs": [],
   "source": []
  },
  {
   "cell_type": "code",
   "execution_count": null,
   "metadata": {
    "collapsed": true
   },
   "outputs": [],
   "source": []
  },
  {
   "cell_type": "code",
   "execution_count": null,
   "metadata": {
    "collapsed": true
   },
   "outputs": [],
   "source": []
  },
  {
   "cell_type": "code",
   "execution_count": null,
   "metadata": {
    "collapsed": true
   },
   "outputs": [],
   "source": []
  },
  {
   "cell_type": "code",
   "execution_count": null,
   "metadata": {
    "collapsed": true
   },
   "outputs": [],
   "source": []
  },
  {
   "cell_type": "code",
   "execution_count": null,
   "metadata": {
    "collapsed": true
   },
   "outputs": [],
   "source": []
  }
 ],
 "metadata": {
  "kernelspec": {
   "display_name": "Python 3",
   "language": "python",
   "name": "python3"
  },
  "language_info": {
   "codemirror_mode": {
    "name": "ipython",
    "version": 3
   },
   "file_extension": ".py",
   "mimetype": "text/x-python",
   "name": "python",
   "nbconvert_exporter": "python",
   "pygments_lexer": "ipython3",
   "version": "3.6.2"
  }
 },
 "nbformat": 4,
 "nbformat_minor": 2
}
