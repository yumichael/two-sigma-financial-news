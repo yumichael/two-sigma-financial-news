{
 "cells": [
  {
   "cell_type": "code",
   "execution_count": 1,
   "metadata": {
    "collapsed": true
   },
   "outputs": [],
   "source": [
    "from common import *\n",
    "from pandas.api.types import CategoricalDtype\n",
    "from numba import njit\n",
    "\n",
    "from sklearn.preprocessing import QuantileTransformer as QT\n",
    "from scipy.stats import norm\n",
    "ppf = norm.ppf"
   ]
  },
  {
   "cell_type": "code",
   "execution_count": 7,
   "metadata": {
    "collapsed": true
   },
   "outputs": [],
   "source": [
    "from given import *"
   ]
  },
  {
   "cell_type": "markdown",
   "metadata": {},
   "source": [
    "\n",
    "# ------------------------------> looking at `W`"
   ]
  },
  {
   "cell_type": "markdown",
   "metadata": {},
   "source": [
    "### Scratcher"
   ]
  },
  {
   "cell_type": "code",
   "execution_count": 8,
   "metadata": {
    "collapsed": true
   },
   "outputs": [],
   "source": [
    "#pd.to_pickle((F,P), '/big/data/saves/train_5searchbase.32.pkl')\n",
    "F,P = pd.read_pickle('/big/data/saves/train_5fixedsince+1.32.pkl')"
   ]
  },
  {
   "cell_type": "code",
   "execution_count": null,
   "metadata": {
    "collapsed": true
   },
   "outputs": [],
   "source": [
    "F.index = P.index = F.index.map(lambda x: '{:x}'.format(x))"
   ]
  },
  {
   "cell_type": "code",
   "execution_count": 68,
   "metadata": {
    "collapsed": true
   },
   "outputs": [],
   "source": [
    "from sklearn.model_selection import GroupShuffleSplit\n",
    "\n",
    "ho = P.quarter>=2015.5\n",
    "ho.name = None\n",
    "tr, cv = next(GroupShuffleSplit(n_splits=5, test_size=.5, random_state=44).split(F[~ho], P[~ho], groups=P[~ho].quarter))\n",
    "_dummy = pd.Series(range(len(P)),index=P.index)\n",
    "#tr, cv = _dummy.isin(tr), _dummy.isin(cv)"
   ]
  },
  {
   "cell_type": "code",
   "execution_count": 71,
   "metadata": {},
   "outputs": [
    {
     "data": {
      "text/plain": [
       "Index(['b2e8c', 'b2e8d', 'b2e8e', 'b2e8f', 'b2e90', 'b2e91', 'b2e92', 'b2e93',\n",
       "       'b2e94', 'b2e95',\n",
       "       ...\n",
       "       '321a76', '321a77', '321a78', '321a79', '321a7a', '321a7b', '321a7c',\n",
       "       '321a7d', '321a7e', '321a7f'],\n",
       "      dtype='object', length=1346646)"
      ]
     },
     "execution_count": 71,
     "metadata": {},
     "output_type": "execute_result"
    }
   ],
   "source": [
    "F.index[tr]"
   ]
  },
  {
   "cell_type": "code",
   "execution_count": 72,
   "metadata": {},
   "outputs": [
    {
     "name": "stdout",
     "output_type": "stream",
     "text": [
      "[2009.0,2009.75,2010.75,2011.5,2012.25,2012.5,2012.75,2013.0,2013.25,2013.75,2014.0,2014.25,2015.0],\n",
      "[2009.25,2009.5,2010.0,2010.25,2010.5,2011.0,2011.25,2011.75,2012.0,2013.5,2014.5,2014.75,2015.25]\n",
      "\n",
      "[2009.25,2009.5,2011.0,2011.25,2011.5,2011.75,2012.0,2012.25,2013.0,2013.5,2014.5,2014.75,2015.0],\n",
      "[2009.0,2009.75,2010.0,2010.25,2010.5,2010.75,2012.5,2012.75,2013.25,2013.75,2014.0,2014.25,2015.25]\n",
      "\n",
      "[2011.0,2011.75,2012.0,2012.25,2012.75,2013.25,2013.5,2014.0,2014.25,2014.5,2014.75,2015.0,2015.25],\n",
      "[2009.0,2009.25,2009.5,2009.75,2010.0,2010.25,2010.5,2010.75,2011.25,2011.5,2012.5,2013.0,2013.75]\n",
      "\n",
      "[2009.5,2010.0,2010.25,2010.5,2011.0,2011.75,2012.25,2012.5,2013.0,2013.5,2014.25,2014.75,2015.25],\n",
      "[2009.0,2009.25,2009.75,2010.75,2011.25,2011.5,2012.0,2012.75,2013.25,2013.75,2014.0,2014.5,2015.0]\n",
      "\n",
      "[2009.75,2010.0,2010.25,2010.75,2011.75,2012.0,2012.25,2012.5,2013.0,2013.5,2013.75,2014.5,2015.0],\n",
      "[2009.0,2009.25,2009.5,2010.5,2011.0,2011.25,2011.5,2012.75,2013.25,2014.0,2014.25,2014.75,2015.25]\n",
      "\n",
      "[2009.25,2009.5,2010.0,2010.25,2010.5,2010.75,2011.5,2013.0,2013.5,2014.0,2014.5,2014.75,2015.25],\n",
      "[2009.0,2009.75,2011.0,2011.25,2011.75,2012.0,2012.25,2012.5,2012.75,2013.25,2013.75,2014.25,2015.0]\n",
      "\n"
     ]
    }
   ],
   "source": [
    "guy = GroupShuffleSplit(n_splits=6, test_size=.5, random_state=44).split(F[~ho], P[~ho], groups=P[~ho].quarter)\n",
    "for tr, cv in guy:\n",
    "    plist(P.quarter[_dummy.isin(tr)].unique(), end=',\\n')\n",
    "    plist(P.quarter[_dummy.isin(cv)].unique(), end='\\n\\n')"
   ]
  },
  {
   "cell_type": "markdown",
   "metadata": {},
   "source": [
    "### stock subsets"
   ]
  },
  {
   "cell_type": "code",
   "execution_count": 12,
   "metadata": {
    "collapsed": true
   },
   "outputs": [],
   "source": [
    "Mt = M[M.time>=train_start_time]"
   ]
  },
  {
   "cell_type": "code",
   "execution_count": 12,
   "metadata": {
    "collapsed": true
   },
   "outputs": [],
   "source": [
    "# # already in given.ipynb\n",
    "# inUniCount = Mt.groupby('assetCodeId').universe.sum()\n",
    "# stocksInUni = (inUniCount != 0).pipe(lambda x: x.index[x])\n",
    "# assert stocksInUni.is_monotonic\n",
    "# xStocksInUni = set(stocksInUni) #EDITCELL"
   ]
  },
  {
   "cell_type": "code",
   "execution_count": 18,
   "metadata": {
    "collapsed": true
   },
   "outputs": [],
   "source": [
    "W = O()\n",
    "W.y = Mt[['time','assetCodeId','ooTEN']].pivot('time','assetCodeId').ooTEN\n",
    "W.ay = Mt[['time','assetCodeId','aooTEN']].pivot('time','assetCodeId').aooTEN\n",
    "W.u = Mt[['time','assetCodeId','universe']].pivot('time','assetCodeId').universe.fillna(0).astype(int)"
   ]
  },
  {
   "cell_type": "code",
   "execution_count": 22,
   "metadata": {
    "collapsed": true
   },
   "outputs": [],
   "source": [
    "C = O()\n",
    "C.y = W.y.corr()\n",
    "C.ay = W.ay.corr()\n",
    "C.u = W.u.T @ W.u"
   ]
  },
  {
   "cell_type": "code",
   "execution_count": 23,
   "metadata": {
    "collapsed": true
   },
   "outputs": [],
   "source": [
    "@njit\n",
    "def offdiag_items(ix, x, y):\n",
    "    m, n = x.shape\n",
    "    assert (m, n) == y.shape\n",
    "    assert m == n\n",
    "    assert (m,) == ix.shape\n",
    "    t = (n**2-n) // 2\n",
    "    I = np.full(t, -1, dtype=np.int64)\n",
    "    J = np.full(t, -1, dtype=np.int64)\n",
    "    X = np.full(t, 0, dtype=x.dtype)\n",
    "    Y = np.full(t, 0, dtype=y.dtype)\n",
    "    k = -1\n",
    "    for i in range(m):\n",
    "        for j in range(i+1, n):\n",
    "            k += 1\n",
    "            I[k] = ix[i]\n",
    "            J[k] = ix[j]\n",
    "            X[k] = x[i,j]\n",
    "            Y[k] = y[i,j]\n",
    "    return I, J, X, Y"
   ]
  },
  {
   "cell_type": "code",
   "execution_count": 24,
   "metadata": {
    "collapsed": true
   },
   "outputs": [],
   "source": [
    "C.v = pd.DataFrame(dict(zip([0, 1, 'Corr', 'Unic'], offdiag_items(C.y.index.values, C.y.values, C.u.values))))\n",
    "C.av = pd.DataFrame(dict(zip([0, 1, 'Corr', 'Unic'], offdiag_items(C.ay.index.values, C.ay.values, C.u.values))))"
   ]
  },
  {
   "cell_type": "code",
   "execution_count": null,
   "metadata": {
    "collapsed": true
   },
   "outputs": [],
   "source": [
    "pd.to_pickle((O.py(W),O.py(C)), 'pair-working.pkl')"
   ]
  },
  {
   "cell_type": "code",
   "execution_count": 76,
   "metadata": {
    "collapsed": true
   },
   "outputs": [],
   "source": [
    "C.v = C.v[C.v.Unic!=0]\n",
    "C.v.sort_values('Corr', ascending=False, inplace=True)\n",
    "C.av = C.av[C.av.Unic!=0]\n",
    "C.av.sort_values('Corr', ascending=False, inplace=True)"
   ]
  },
  {
   "cell_type": "markdown",
   "metadata": {},
   "source": [
    "*see some stuff*"
   ]
  },
  {
   "cell_type": "code",
   "execution_count": 26,
   "metadata": {
    "scrolled": false
   },
   "outputs": [
    {
     "data": {
      "text/plain": [
       "1523"
      ]
     },
     "execution_count": 26,
     "metadata": {},
     "output_type": "execute_result"
    }
   ],
   "source": [
    "C.v[C.av.Unic>=1900].sort_values('Corr', ascending=False).Corr.pipe(lambda x: sum(x>.65))"
   ]
  },
  {
   "cell_type": "code",
   "execution_count": 31,
   "metadata": {},
   "outputs": [
    {
     "data": {
      "text/plain": [
       "('Syneos Health Inc', 'Varonis Systems Inc')"
      ]
     },
     "execution_count": 31,
     "metadata": {},
     "output_type": "execute_result"
    }
   ],
   "source": [
    "assetNameIdAssign.series.loc[3741], assetNameIdAssign.series.loc[3759]"
   ]
  },
  {
   "cell_type": "markdown",
   "metadata": {},
   "source": [
    "#### making pair feature table"
   ]
  },
  {
   "cell_type": "code",
   "execution_count": null,
   "metadata": {
    "collapsed": true
   },
   "outputs": [],
   "source": [
    "F['time'] = P.time\n",
    "F_ = F[['time','assetCodeId','oo1','oo10','oo(15-5)','aoo1','aoo10','aoo(15-5)']]\n",
    "F_['assetCodeId'] = F_.assetCodeId.astype(int)"
   ]
  },
  {
   "cell_type": "code",
   "execution_count": null,
   "metadata": {
    "collapsed": true
   },
   "outputs": [],
   "source": [
    "X = F_.pivot('time','assetCodeId')\n",
    "X.columns = X.columns.swaplevel()\n",
    "X = X.sort_index(axis=1)\n",
    "X.iloc[:12,:12]"
   ]
  },
  {
   "cell_type": "code",
   "execution_count": 82,
   "metadata": {},
   "outputs": [
    {
     "data": {
      "text/plain": [
       "[Pandas(Index=0, _1=4, _2=5, _3=6, _4=2, _5=2),\n",
       " Pandas(Index=1, _1=1, _2=4, _3=9, _4=8, _5=1)]"
      ]
     },
     "execution_count": 82,
     "metadata": {},
     "output_type": "execute_result"
    }
   ],
   "source": [
    "/list pd.DataFrame([[4,5,6,2,2],[1,4,9,8,1]],columns=[' a $',r' \\\\ !','\\t','\\n','_']).itertuples()"
   ]
  },
  {
   "cell_type": "code",
   "execution_count": 78,
   "metadata": {},
   "outputs": [
    {
     "data": {
      "text/html": [
       "<div>\n",
       "<style scoped>\n",
       "    .dataframe tbody tr th:only-of-type {\n",
       "        vertical-align: middle;\n",
       "    }\n",
       "\n",
       "    .dataframe tbody tr th {\n",
       "        vertical-align: top;\n",
       "    }\n",
       "\n",
       "    .dataframe thead th {\n",
       "        text-align: right;\n",
       "    }\n",
       "</style>\n",
       "<table border=\"1\" class=\"dataframe\">\n",
       "  <thead>\n",
       "    <tr style=\"text-align: right;\">\n",
       "      <th></th>\n",
       "      <th>0</th>\n",
       "      <th>1</th>\n",
       "      <th>Corr</th>\n",
       "      <th>Unic</th>\n",
       "    </tr>\n",
       "  </thead>\n",
       "  <tbody>\n",
       "    <tr>\n",
       "      <th>2590169</th>\n",
       "      <td>1000</td>\n",
       "      <td>3388</td>\n",
       "      <td>1.0</td>\n",
       "      <td>12</td>\n",
       "    </tr>\n",
       "    <tr>\n",
       "      <th>1322534</th>\n",
       "      <td>477</td>\n",
       "      <td>2551</td>\n",
       "      <td>1.0</td>\n",
       "      <td>13</td>\n",
       "    </tr>\n",
       "    <tr>\n",
       "      <th>2169896</th>\n",
       "      <td>819</td>\n",
       "      <td>2521</td>\n",
       "      <td>1.0</td>\n",
       "      <td>6</td>\n",
       "    </tr>\n",
       "    <tr>\n",
       "      <th>582837</th>\n",
       "      <td>198</td>\n",
       "      <td>2396</td>\n",
       "      <td>1.0</td>\n",
       "      <td>13</td>\n",
       "    </tr>\n",
       "    <tr>\n",
       "      <th>1691457</th>\n",
       "      <td>620</td>\n",
       "      <td>2966</td>\n",
       "      <td>1.0</td>\n",
       "      <td>6</td>\n",
       "    </tr>\n",
       "  </tbody>\n",
       "</table>\n",
       "</div>"
      ],
      "text/plain": [
       "            0     1  Corr  Unic\n",
       "2590169  1000  3388   1.0    12\n",
       "1322534   477  2551   1.0    13\n",
       "2169896   819  2521   1.0     6\n",
       "582837    198  2396   1.0    13\n",
       "1691457   620  2966   1.0     6"
      ]
     },
     "execution_count": 78,
     "metadata": {},
     "output_type": "execute_result"
    }
   ],
   "source": [
    "def make_G(*, F, Cv, cutoff):\n",
    "    X = F_.pivot('time','assetCodeId')\n",
    "    X.columns = X.columns.swaplevel()\n",
    "    X = X.sort_index(axis=1)\n",
    "    for "
   ]
  },
  {
   "cell_type": "markdown",
   "metadata": {
    "collapsed": true
   },
   "source": [
    "# ------------------------------> looking at `N`"
   ]
  },
  {
   "cell_type": "code",
   "execution_count": null,
   "metadata": {
    "collapsed": true
   },
   "outputs": [],
   "source": []
  }
 ],
 "metadata": {
  "kernelspec": {
   "display_name": "Python 3",
   "language": "python",
   "name": "python3"
  },
  "language_info": {
   "codemirror_mode": {
    "name": "ipython",
    "version": 3
   },
   "file_extension": ".py",
   "mimetype": "text/x-python",
   "name": "python",
   "nbconvert_exporter": "python",
   "pygments_lexer": "ipython3",
   "version": "3.6.2"
  }
 },
 "nbformat": 4,
 "nbformat_minor": 2
}
