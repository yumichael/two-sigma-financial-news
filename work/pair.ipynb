{
 "cells": [
  {
   "cell_type": "code",
   "execution_count": 1,
   "metadata": {
    "collapsed": true
   },
   "outputs": [],
   "source": [
    "from common import *\n",
    "from pandas.api.types import CategoricalDtype\n",
    "from numba import njit\n",
    "\n",
    "from sklearn.preprocessing import QuantileTransformer as QT\n",
    "from scipy.stats import norm\n",
    "ppf = norm.ppf\n",
    "\n",
    "import warnings \n",
    "warnings.filterwarnings('ignore')\n",
    "\n",
    "debug = O()\n",
    "%matplotlib inline\n",
    "canvas(9,9)\n",
    "\n",
    "pd.set_option('display.max_columns', 500)"
   ]
  },
  {
   "cell_type": "code",
   "execution_count": 2,
   "metadata": {
    "collapsed": true
   },
   "outputs": [],
   "source": [
    "offdiag = lambda a: a[np.where(~np.eye(a.shape[0],dtype=bool))]\n",
    "nonnans = lambda a: a[np.isfinite(a)]"
   ]
  },
  {
   "cell_type": "code",
   "execution_count": 3,
   "metadata": {
    "collapsed": true
   },
   "outputs": [],
   "source": [
    "'''\n",
    "N0: N without the too high memory columns (the sets of things columns)\n",
    "N1: N with the sets of things columns turned into actual Python sets\n",
    "N2: N with changes in this Notebook. It has these columns: [\n",
    "       'time', 'sourceTimestamp', 'firstCreated', 'sourceId', 'urgency',\n",
    "       'takeSequence', 'provider', 'bodySize', 'companyCount', 'headlineTag',\n",
    "       'marketCommentary', 'sentenceCount', 'wordCount', 'assetNameId',\n",
    "       'firstMentionFixed', 'relevance', 'sentimentNegative',\n",
    "       'sentimentNeutral', 'sentimentPositive', 'sentimentWordCount',\n",
    "       'noveltyCount12H', 'noveltyCount24H', 'noveltyCount3D',\n",
    "       'noveltyCount5D', 'noveltyCount7D', 'volumeCounts12H',\n",
    "       'volumeCounts24H', 'volumeCounts3D', 'volumeCounts5D', 'volumeCounts7D',\n",
    "       'assetCodesCount', 'subjectsCount', 'audiencesCount', 'groupbyTime',\n",
    "       'assetNamesCount'\n",
    "    ]\n",
    "N2.class: N2 but also with sentimentClass (maxed on duplicates)\n",
    "''';"
   ]
  },
  {
   "cell_type": "code",
   "execution_count": 4,
   "metadata": {
    "collapsed": true
   },
   "outputs": [],
   "source": [
    "M = pd.read_pickle(the_data+'given/M.pkl')\n",
    "N = pd.read_pickle(big_data+'trans/N0.pkl')\n",
    "#test = pd.read_pickle(the_data+'/given/test.pkl')"
   ]
  },
  {
   "cell_type": "code",
   "execution_count": 5,
   "metadata": {
    "collapsed": true
   },
   "outputs": [],
   "source": [
    "class IdAssign:\n",
    "    class MISSING():\n",
    "        pass\n",
    "    def __init__(self, init, missing=MISSING, name=''):\n",
    "        self.name = name\n",
    "        self.map = {}\n",
    "        if missing is not __class__.MISSING:\n",
    "            self.map[missing] = -1\n",
    "        i = 0\n",
    "        for x in init:\n",
    "            if x not in self.map and x != missing:\n",
    "                self.map[x] = i\n",
    "                i += 1\n",
    "        self.cache = None\n",
    "    def __call__(self, key):\n",
    "        if key not in self.map:\n",
    "            self.map[key] = len(self.map)\n",
    "        return self.map[key]\n",
    "    def __len__(self):\n",
    "        return self.map.__len__()\n",
    "    @property\n",
    "    def series(self):\n",
    "        if self.cache==len(self):\n",
    "            return self._series\n",
    "        self._series = pd.Series(list(self.map.keys()), index=list(self.map.values()), name=self.name)\n",
    "        self._series.index.name = self.name+'Id'\n",
    "        self.cache = len(self)\n",
    "        return self._series\n",
    "\n",
    "assetCodeSeries = pd.Series(M.assetCode.unique())\n",
    "assetCodeIdAssign = IdAssign(assetCodeSeries, missing='')\n",
    "del assetCodeSeries\n",
    "assetNameSeries = pd.Series(M.assetName.unique())\n",
    "assetNameIdAssign = IdAssign(assetNameSeries, missing='Unknown')\n",
    "del assetNameSeries"
   ]
  },
  {
   "cell_type": "code",
   "execution_count": 6,
   "metadata": {
    "collapsed": true
   },
   "outputs": [],
   "source": [
    "returns_columns = {\n",
    "    'returnsClosePrevRaw1':'cc', 'returnsOpenPrevRaw1':'oo',\n",
    "    'returnsClosePrevMktres1':'cc0', 'returnsOpenPrevMktres1':'oo0',\n",
    "    'returnsClosePrevRaw10':'cc_10','returnsOpenPrevRaw10':'oo_10',\n",
    "    'returnsClosePrevMktres10':'cc0_10','returnsOpenPrevMktres10':'oo0_10'\n",
    "}\n",
    "excluded_columns = [\n",
    "    'time','assetCode','assetName','universe','returnsOpenNextMktres10','quarter'\n",
    "]\n",
    "column_filter = lambda c: c not in returns_columns and c not in excluded_columns"
   ]
  },
  {
   "cell_type": "code",
   "execution_count": 7,
   "metadata": {
    "collapsed": true
   },
   "outputs": [],
   "source": [
    "train_start_time = pd.Timestamp('2009-01-01',tz='UTC')\n",
    "shortterm = 21\n",
    "longterm = 250"
   ]
  },
  {
   "cell_type": "code",
   "execution_count": 8,
   "metadata": {
    "collapsed": true
   },
   "outputs": [],
   "source": [
    "def add_basic_features(*,M):\n",
    "    M['assetCodeId'] = M.assetCode.map(assetCodeIdAssign)\n",
    "    M['assetNameId'] = M.assetName.map(assetNameIdAssign)\n",
    "    for orig_col, new_col in returns_columns.items():\n",
    "        M[new_col] = np.log1p(M[orig_col])\n",
    "    # time features\n",
    "    M['dayOfYear'] = M.time.dt.dayofyear\n",
    "    M['dayOfWeek'] = M.time.dt.dayofweek"
   ]
  },
  {
   "cell_type": "code",
   "execution_count": 9,
   "metadata": {
    "collapsed": true
   },
   "outputs": [],
   "source": [
    "add_basic_features(M=M)\n",
    "N['assetNameId'] = N.assetName.map(assetNameIdAssign)"
   ]
  },
  {
   "cell_type": "markdown",
   "metadata": {},
   "source": [
    "### Code I need to copy elsewhere"
   ]
  },
  {
   "cell_type": "code",
   "execution_count": 10,
   "metadata": {
    "collapsed": true
   },
   "outputs": [],
   "source": [
    "def makeMultimap(fr, to):\n",
    "    ret = {}\n",
    "    for f, t in zip(fr, to):\n",
    "        ret.setdefault(f, set()).add(t)\n",
    "    return ret\n",
    "assetNameMapCodes = makeMultimap(M.assetNameId, M.assetCodeId)\n",
    "\n",
    "def makeSinglemap(fr, to):\n",
    "    ret = {}\n",
    "    for f, t in zip(fr, to):\n",
    "        if f in ret:\n",
    "            assert t==ret[f], 'a \"from\" element must be mapped to a unique \"to\" element!'\n",
    "        else:\n",
    "            ret[f] = t\n",
    "    return ret\n",
    "assetCodeMapName = makeSinglemap(M.assetCodeId, M.assetNameId)"
   ]
  },
  {
   "cell_type": "markdown",
   "metadata": {},
   "source": [
    "\n",
    "# ------------------------------> looking at `W`"
   ]
  },
  {
   "cell_type": "markdown",
   "metadata": {},
   "source": [
    "### Scratcher"
   ]
  },
  {
   "cell_type": "code",
   "execution_count": 64,
   "metadata": {
    "collapsed": true
   },
   "outputs": [],
   "source": [
    "#pd.to_pickle((F,P), '/big/data/saves/train_5searchbase.32.pkl')\n",
    "F,P = pd.read_pickle('/big/data/saves/train_5searchbase.32.pkl')"
   ]
  },
  {
   "cell_type": "code",
   "execution_count": 46,
   "metadata": {
    "collapsed": true
   },
   "outputs": [],
   "source": [
    "plist = lambda a, **kw: print('['+','.join(str(x) for x in a)+']', **kw)"
   ]
  },
  {
   "cell_type": "code",
   "execution_count": 65,
   "metadata": {},
   "outputs": [],
   "source": [
    "F.index = P.index = F.index.map(lambda x: '{:x}'.format(x))"
   ]
  },
  {
   "cell_type": "code",
   "execution_count": 68,
   "metadata": {
    "collapsed": true
   },
   "outputs": [],
   "source": [
    "from sklearn.model_selection import GroupShuffleSplit\n",
    "\n",
    "ho = P.quarter>=2015.5\n",
    "ho.name = None\n",
    "tr, cv = next(GroupShuffleSplit(n_splits=5, test_size=.5, random_state=44).split(F[~ho], P[~ho], groups=P[~ho].quarter))\n",
    "_dummy = pd.Series(range(len(P)),index=P.index)\n",
    "#tr, cv = _dummy.isin(tr), _dummy.isin(cv)"
   ]
  },
  {
   "cell_type": "code",
   "execution_count": 71,
   "metadata": {},
   "outputs": [
    {
     "data": {
      "text/plain": [
       "Index(['b2e8c', 'b2e8d', 'b2e8e', 'b2e8f', 'b2e90', 'b2e91', 'b2e92', 'b2e93',\n",
       "       'b2e94', 'b2e95',\n",
       "       ...\n",
       "       '321a76', '321a77', '321a78', '321a79', '321a7a', '321a7b', '321a7c',\n",
       "       '321a7d', '321a7e', '321a7f'],\n",
       "      dtype='object', length=1346646)"
      ]
     },
     "execution_count": 71,
     "metadata": {},
     "output_type": "execute_result"
    }
   ],
   "source": [
    "F.index[tr]"
   ]
  },
  {
   "cell_type": "code",
   "execution_count": 72,
   "metadata": {},
   "outputs": [
    {
     "name": "stdout",
     "output_type": "stream",
     "text": [
      "[2009.0,2009.75,2010.75,2011.5,2012.25,2012.5,2012.75,2013.0,2013.25,2013.75,2014.0,2014.25,2015.0],\n",
      "[2009.25,2009.5,2010.0,2010.25,2010.5,2011.0,2011.25,2011.75,2012.0,2013.5,2014.5,2014.75,2015.25]\n",
      "\n",
      "[2009.25,2009.5,2011.0,2011.25,2011.5,2011.75,2012.0,2012.25,2013.0,2013.5,2014.5,2014.75,2015.0],\n",
      "[2009.0,2009.75,2010.0,2010.25,2010.5,2010.75,2012.5,2012.75,2013.25,2013.75,2014.0,2014.25,2015.25]\n",
      "\n",
      "[2011.0,2011.75,2012.0,2012.25,2012.75,2013.25,2013.5,2014.0,2014.25,2014.5,2014.75,2015.0,2015.25],\n",
      "[2009.0,2009.25,2009.5,2009.75,2010.0,2010.25,2010.5,2010.75,2011.25,2011.5,2012.5,2013.0,2013.75]\n",
      "\n",
      "[2009.5,2010.0,2010.25,2010.5,2011.0,2011.75,2012.25,2012.5,2013.0,2013.5,2014.25,2014.75,2015.25],\n",
      "[2009.0,2009.25,2009.75,2010.75,2011.25,2011.5,2012.0,2012.75,2013.25,2013.75,2014.0,2014.5,2015.0]\n",
      "\n",
      "[2009.75,2010.0,2010.25,2010.75,2011.75,2012.0,2012.25,2012.5,2013.0,2013.5,2013.75,2014.5,2015.0],\n",
      "[2009.0,2009.25,2009.5,2010.5,2011.0,2011.25,2011.5,2012.75,2013.25,2014.0,2014.25,2014.75,2015.25]\n",
      "\n",
      "[2009.25,2009.5,2010.0,2010.25,2010.5,2010.75,2011.5,2013.0,2013.5,2014.0,2014.5,2014.75,2015.25],\n",
      "[2009.0,2009.75,2011.0,2011.25,2011.75,2012.0,2012.25,2012.5,2012.75,2013.25,2013.75,2014.25,2015.0]\n",
      "\n"
     ]
    }
   ],
   "source": [
    "guy = GroupShuffleSplit(n_splits=6, test_size=.5, random_state=44).split(F[~ho], P[~ho], groups=P[~ho].quarter)\n",
    "for tr, cv in guy:\n",
    "    plist(P.quarter[_dummy.isin(tr)].unique(), end=',\\n')\n",
    "    plist(P.quarter[_dummy.isin(cv)].unique(), end='\\n\\n')"
   ]
  },
  {
   "cell_type": "markdown",
   "metadata": {},
   "source": [
    "#### stock subsets"
   ]
  },
  {
   "cell_type": "code",
   "execution_count": 11,
   "metadata": {
    "collapsed": true
   },
   "outputs": [],
   "source": [
    "Mt = M[M.time>=train_start_time]"
   ]
  },
  {
   "cell_type": "code",
   "execution_count": 12,
   "metadata": {
    "collapsed": true
   },
   "outputs": [],
   "source": [
    "inUniCount = Mt.groupby('assetCodeId').universe.sum()\n",
    "stocksInUni = (inUniCount != 0).pipe(lambda x: x.index[x])\n",
    "assert stocksInUni.is_monotonic\n",
    "xStocksInUni = set(stocksInUni) #EDITCELL"
   ]
  },
  {
   "cell_type": "code",
   "execution_count": 13,
   "metadata": {
    "collapsed": true
   },
   "outputs": [],
   "source": [
    "W = O()\n",
    "W.y = Mt[['time','assetCodeId','oo_10']].pivot('time','assetCodeId').oo_10\n",
    "W.y0 = Mt[['time','assetCodeId','oo0_10']].pivot('time','assetCodeId').oo0_10\n",
    "W.u = Mt[['time','assetCodeId','universe']].pivot('time','assetCodeId').universe.fillna(0).astype(int)"
   ]
  },
  {
   "cell_type": "code",
   "execution_count": 38,
   "metadata": {
    "collapsed": true
   },
   "outputs": [],
   "source": [
    "C = O()\n",
    "C.y = W.y.corr()\n",
    "C.y0 = W.y0.corr()\n",
    "C.u = W.u.T @ W.u"
   ]
  },
  {
   "cell_type": "code",
   "execution_count": 91,
   "metadata": {
    "collapsed": true
   },
   "outputs": [],
   "source": [
    "@njit\n",
    "def offdiag_items(ix, x, y):\n",
    "    m, n = x.shape\n",
    "    assert (m, n) == y.shape\n",
    "    assert m == n\n",
    "    assert (m,) == ix.shape\n",
    "    t = (n**2-n) // 2\n",
    "    I = np.full(t, -1, dtype=np.int64)\n",
    "    J = np.full(t, -1, dtype=np.int64)\n",
    "    X = np.full(t, 0, dtype=x.dtype)\n",
    "    Y = np.full(t, 0, dtype=y.dtype)\n",
    "    k = -1\n",
    "    for i in range(m):\n",
    "        for j in range(i+1, n):\n",
    "            k += 1\n",
    "            I[k] = ix[i]\n",
    "            J[k] = ix[j]\n",
    "            X[k] = x[i,j]\n",
    "            Y[k] = y[i,j]\n",
    "    return I, J, X, Y"
   ]
  },
  {
   "cell_type": "code",
   "execution_count": 114,
   "metadata": {
    "collapsed": true
   },
   "outputs": [],
   "source": [
    "C.v = pd.DataFrame(dict(zip([0, 1, 'Corr', 'Unic'], offdiag_items(C.y.index.values, C.y.values, C.u.values))))\n",
    "C.v0 = pd.DataFrame(dict(zip([0, 1, 'Corr', 'Unic'], offdiag_items(C.y0.index.values, C.y0.values, C.u.values))))"
   ]
  },
  {
   "cell_type": "code",
   "execution_count": 127,
   "metadata": {
    "scrolled": false
   },
   "outputs": [
    {
     "data": {
      "text/plain": [
       "2552"
      ]
     },
     "execution_count": 127,
     "metadata": {},
     "output_type": "execute_result"
    }
   ],
   "source": [
    "C.v[C.v0.Unic>=1500].sort_values('Corr', ascending=False).Corr.pipe(lambda x: sum(x>.65))"
   ]
  },
  {
   "cell_type": "code",
   "execution_count": 105,
   "metadata": {},
   "outputs": [
    {
     "data": {
      "text/plain": [
       "'CMCSA.O'"
      ]
     },
     "execution_count": 105,
     "metadata": {},
     "output_type": "execute_result"
    }
   ],
   "source": [
    "assetCodeIdAssign.series[301]"
   ]
  },
  {
   "cell_type": "code",
   "execution_count": 110,
   "metadata": {},
   "outputs": [
    {
     "data": {
      "image/png": "[encoded data removed]",
      "text/plain": [
       "<matplotlib.figure.Figure at 0x7f8ceddbb978>"
      ]
     },
     "metadata": {},
     "output_type": "display_data"
    }
   ],
   "source": [
    "(W.y0[301]-W.y0[302]).plot(linewidth=.5);"
   ]
  },
  {
   "cell_type": "markdown",
   "metadata": {
    "collapsed": true
   },
   "source": [
    "# ------------------------------> looking at `N`"
   ]
  },
  {
   "cell_type": "code",
   "execution_count": null,
   "metadata": {
    "collapsed": true
   },
   "outputs": [],
   "source": []
  }
 ],
 "metadata": {
  "kernelspec": {
   "display_name": "Python 3",
   "language": "python",
   "name": "python3"
  },
  "language_info": {
   "codemirror_mode": {
    "name": "ipython",
    "version": 3
   },
   "file_extension": ".py",
   "mimetype": "text/x-python",
   "name": "python",
   "nbconvert_exporter": "python",
   "pygments_lexer": "ipython3",
   "version": "3.6.2"
  }
 },
 "nbformat": 4,
 "nbformat_minor": 2
}
