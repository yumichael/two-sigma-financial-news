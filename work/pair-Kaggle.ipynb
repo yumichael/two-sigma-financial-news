{
 "cells": [
  {
   "cell_type": "code",
   "execution_count": 52,
   "metadata": {
    "collapsed": true
   },
   "outputs": [],
   "source": [
    "# from kaggle.competitions import twosigmanews\n",
    "# __env__ = twosigmanews.make_env()"
   ]
  },
  {
   "cell_type": "markdown",
   "metadata": {},
   "source": [
    "# definitely not production code"
   ]
  },
  {
   "cell_type": "markdown",
   "metadata": {},
   "source": [
    "hashtags: #edit #todo #note #float32 #new #del 1/0 #nope"
   ]
  },
  {
   "cell_type": "markdown",
   "metadata": {},
   "source": [
    "debug vars: SEE DEBUG TEST PROD BUG"
   ]
  },
  {
   "cell_type": "code",
   "execution_count": 53,
   "metadata": {
    "collapsed": true
   },
   "outputs": [],
   "source": [
    "# from common import *\n",
    "# from pandas.api.types import CategoricalDtype\n",
    "# import warnings \n",
    "# warnings.filterwarnings('ignore')\n",
    "# %matplotlib inline\n",
    "# canvas(12,12)"
   ]
  },
  {
   "cell_type": "code",
   "execution_count": 54,
   "metadata": {
    "collapsed": true
   },
   "outputs": [],
   "source": [
    "# ho_time = pd.Timestamp('2015-07-01',tz='UTC')\n",
    "\n",
    "# def fake(*,M,N):\n",
    "#     M_, N_ = M, N\n",
    "#     for time, M in M_.groupby('time'):\n",
    "#         if time<ho_time:\n",
    "#             continue\n",
    "#         M['quarter'] = M.time.dt.year+(M.time.dt.quarter-1)/4\n",
    "#         P = M[excluded_columns]\n",
    "#         M = M.drop(columns=['returnsOpenNextMktres10','quarter'])\n",
    "#         P['confidenceValue'] = 0.\n",
    "#         yield M, None, P"
   ]
  },
  {
   "cell_type": "code",
   "execution_count": 55,
   "metadata": {
    "collapsed": true
   },
   "outputs": [],
   "source": [
    "# from common import *"
   ]
  },
  {
   "cell_type": "markdown",
   "metadata": {},
   "source": [
    "### important devops code"
   ]
  },
  {
   "cell_type": "code",
   "execution_count": 56,
   "metadata": {
    "collapsed": true
   },
   "outputs": [],
   "source": [
    "TEST = False\n",
    "SEE = NULL = lambda*a,**k:None\n",
    "TRAIN = True"
   ]
  },
  {
   "cell_type": "code",
   "execution_count": 57,
   "metadata": {
    "collapsed": true
   },
   "outputs": [],
   "source": [
    "# relevant file names #TODO change it #NOPE(but change it)\n",
    "FILE_WORK = '/big/data/_work.pkl'\n",
    "FILE_MSTART = '/big/data/Mstart.pkl'"
   ]
  },
  {
   "cell_type": "markdown",
   "metadata": {},
   "source": [
    "# #################################################### START HERE"
   ]
  },
  {
   "cell_type": "markdown",
   "metadata": {},
   "source": [
    "# #NOPE things here until the next #NOPE"
   ]
  },
  {
   "cell_type": "code",
   "execution_count": 58,
   "metadata": {
    "collapsed": true
   },
   "outputs": [],
   "source": [
    "# import pandas as pd\n",
    "# M = pd.read_pickle('../data/given/M.pkl') # market obs\n",
    "# N = None #pd.read_pickle('../data/given/N.pkl') # news\n",
    "# #test = pd.read_pickle('../data/given/test.pkl')"
   ]
  },
  {
   "cell_type": "code",
   "execution_count": 59,
   "metadata": {
    "collapsed": true
   },
   "outputs": [],
   "source": [
    "def _make_env():\n",
    "    '''this creates a testing version of the actual env from Kaggle kernels'''\n",
    "    class __env__():\n",
    "        _submitted = []\n",
    "        # -1 = begin, 0 = just yielded, 1 = just predicted, -2 = finished, -3 = finished and submission file written too\n",
    "        _states = [-1]\n",
    "\n",
    "        class KaggleEnvError(Exception):\n",
    "            pass\n",
    "\n",
    "        @staticmethod\n",
    "        def get_training_data():\n",
    "            return pd.read_pickle('../data/given/M.pkl'), None\n",
    "#             global N\n",
    "#             try:\n",
    "#                 return M, N\n",
    "#             except NameError:\n",
    "#                 return M, None\n",
    "\n",
    "        @staticmethod\n",
    "        def get_prediction_days():\n",
    "            env = __class__\n",
    "\n",
    "            class iter_get_prediction_days():\n",
    "                def __iter__(self):\n",
    "                    if env._states[-1] != -1:\n",
    "                        raise env.KaggleEnvError('can only call get_prediction_days once!')\n",
    "                    \n",
    "                    global test\n",
    "                    test = pd.read_pickle('../data/given/test.pkl')\n",
    "                    env._days_iter = test.__iter__()\n",
    "                    return self\n",
    "\n",
    "                def __next__(self):\n",
    "                    if env._states[-1] == 0:\n",
    "                        raise env.KaggleEnvError('can only yield next day after the previous day was submitted')\n",
    "                    elif env._states[-1] not in [-1, 1, -2, -3]:\n",
    "                        raise env.KaggleEnvError(\n",
    "                            'environment internal error [bad state {} for __next__]'.format(env._states[-1]))\n",
    "\n",
    "                    try:\n",
    "                        ret = env._days_iter.__next__()\n",
    "                    except StopIteration:\n",
    "                        if env._states[-1] not in [-2, -3]:\n",
    "                            env._states.append(-2)\n",
    "                        raise\n",
    "\n",
    "                    env._states.append(0)\n",
    "                    return ret\n",
    "\n",
    "            return iter_get_prediction_days()\n",
    "\n",
    "        @staticmethod\n",
    "        def predict(p):\n",
    "            env = __class__\n",
    "            if env._states[-1] == 1:\n",
    "                raise env.KaggleEnvError('must get next prediction day before submitting a prediction again')\n",
    "            elif env._states[-1] == -1:\n",
    "                raise env.KaggleEnvError('must get next prediction day before submitting a prediction')\n",
    "            elif env._states[-1] in [-2, -3]:\n",
    "                raise env.KaggleEnvError('cannot submit prediction, every prediction has already been submitted')\n",
    "            elif env._states[-1] != 0:\n",
    "                raise env.KaggleEnvError('environment internal error [bad state {}]'.format(env._states[-1]))\n",
    "            env._submitted.append(p)\n",
    "            env._states.append(1)\n",
    "\n",
    "        @staticmethod\n",
    "        def write_submission_file():\n",
    "            env = __class__\n",
    "            if env._states[-1] not in [-2, -3]:\n",
    "                raise env.KaggleEnvError('must be finished predicting before writing submission file')\n",
    "\n",
    "            template = pd.concat((day[2] for day in test), axis=0)\n",
    "            try:\n",
    "                submission = pd.concat((sub for sub in env._submitted), axis=0)\n",
    "                assert (template.shape==submission.shape), 'submissions have malformed shape'\n",
    "                assert (template.index==submission.index).all(), 'submissions have malformed index'\n",
    "                assert (template.columns==submission.columns).all(), 'submissions have malformed columns'\n",
    "                assert (template.assetCode==submission.assetCode).all(), 'submissions have malformed assetCode column'\n",
    "            except Exception as e:\n",
    "                raise env.KaggleEnvError(e)\n",
    "\n",
    "            env._submission = submission\n",
    "            if env._states[-1] != -3:\n",
    "                env._states.append(-3)\n",
    "            print('''Your submission file has been saved. Once you `Commit` your Kernel and it finishes running, '''+\n",
    "                    '''you can submit the file to the competition from the Kernel Viewer `Output` tab.''')\n",
    "    return __env__"
   ]
  },
  {
   "cell_type": "code",
   "execution_count": 60,
   "metadata": {
    "collapsed": true
   },
   "outputs": [],
   "source": [
    "__env__ = _make_env()"
   ]
  },
  {
   "cell_type": "markdown",
   "metadata": {},
   "source": [
    "# #NOPE everything above this here ^^^^^^^^^^^^^^^^^^^^"
   ]
  },
  {
   "cell_type": "markdown",
   "metadata": {},
   "source": [
    "# +++++++++++++++++++++ production additions ++++++++++++++++++++++"
   ]
  },
  {
   "cell_type": "markdown",
   "metadata": {},
   "source": [
    "### imports"
   ]
  },
  {
   "cell_type": "code",
   "execution_count": 61,
   "metadata": {
    "collapsed": true
   },
   "outputs": [],
   "source": [
    "import numpy as np\n",
    "import pandas as pd\n",
    "\n",
    "import random, math, functools, itertools, os, gc\n",
    "from collections import Counter, namedtuple\n",
    "from itertools import product\n",
    "\n",
    "import matplotlib as mpl\n",
    "import matplotlib.pyplot as plt\n",
    "import seaborn as sns\n",
    "#import altair as alt\n",
    "#from altair import *\n",
    "#sns.set()\n",
    "plt.style.use(['classic', 'seaborn', 'seaborn-colorblind'])\n",
    "\n",
    "def canvas(width, height):\n",
    "    dpi = 96\n",
    "    from pylab import rcParams\n",
    "    rcParams['figure.figsize'] = width, height\n",
    "    \n",
    "import lightgbm as lgb\n",
    "import numba\n",
    "from numba import njit"
   ]
  },
  {
   "cell_type": "markdown",
   "metadata": {},
   "source": [
    "### `utility.py`"
   ]
  },
  {
   "cell_type": "code",
   "execution_count": 62,
   "metadata": {
    "collapsed": true
   },
   "outputs": [],
   "source": [
    "from itertools import chain\n",
    "from importlib import reload\n",
    "from functools import wraps, reduce, lru_cache\n",
    "memoized = lru_cache(maxsize=-1, typed=False)"
   ]
  },
  {
   "cell_type": "code",
   "execution_count": 63,
   "metadata": {
    "collapsed": true
   },
   "outputs": [],
   "source": [
    "def inside(cls, name=None):\n",
    "    '''decorator with one argument that sets the decorated as an attribute of the argument.\n",
    "    also optional argument `name` exists for assigning things that don't automatically get __name__ attribute attached'''\n",
    "    def put_inside(a):\n",
    "        nonlocal name\n",
    "        name = name if name is not None else a.__name__\n",
    "        setattr(cls, name, a)\n",
    "        return a\n",
    "    return put_inside"
   ]
  },
  {
   "cell_type": "markdown",
   "metadata": {},
   "source": [
    "### `object.py`"
   ]
  },
  {
   "cell_type": "code",
   "execution_count": 64,
   "metadata": {
    "collapsed": true
   },
   "outputs": [],
   "source": [
    "# This cell implements Namespace objects. Read the README here https://github.com/yumichael/pytil\n",
    "\n",
    "import collections\n",
    "\n",
    "def _mydict_init_items_(*args, **kwargs):\n",
    "    items = ()\n",
    "    if len(args) == 3:\n",
    "        space = args[2]\n",
    "        for k in list(space.keys()):\n",
    "            if str.startswith(k, '__') and str.endswith(k, '__'):\n",
    "                del space[k]\n",
    "        items = space.items()\n",
    "    elif args and isinstance(args[0], collections.Mapping):\n",
    "        items = args[0].items()\n",
    "    elif args and isinstance(args[0], collections.Iterable):\n",
    "        items = args[0]\n",
    "    if kwargs:\n",
    "        items = chain(items, kwargs.items())\n",
    "    return items\n",
    "\n",
    "def _mydict_pretty_factory_(start='{', end='}', relater=': ', delimiter=',',\n",
    "                            key_action=lambda p, k: p.pretty(k), base=None):\n",
    "    def _repr_pretty_(obj, p, cycle):\n",
    "        nonlocal start, end, relater, delimiter, key_action, base\n",
    "        typ = type(obj)\n",
    "\n",
    "        beginning = typ.__name__ + '(' + start\n",
    "        ending = end + \")\"\n",
    "\n",
    "        if typ is not base and typ.__repr__ != base.__repr__:\n",
    "            # If the subclass provides its own repr, use it instead.\n",
    "            return p.text(typ.__repr__(obj))\n",
    "\n",
    "        if cycle:\n",
    "            return p.text(beginning + '...' + ending)\n",
    "        p.begin_group(1, beginning)\n",
    "        keys = typ.keys(obj)\n",
    "        # if dict isn't large enough to be truncated,\n",
    "        #   sort keys before displaying\n",
    "        if not (p.max_seq_length and len(obj) >= p.max_seq_length):\n",
    "            try:\n",
    "                keys = sorted(keys)\n",
    "            except Exception:\n",
    "                # Sometimes the keys don't sort.\n",
    "                pass\n",
    "        for idx, key in p._enumerate(keys):\n",
    "            if idx:\n",
    "                p.text(delimiter)\n",
    "                p.breakable()\n",
    "            key_action(p, key)\n",
    "            p.text(relater)\n",
    "            p.pretty(obj[key])\n",
    "        p.end_group(1, ending)\n",
    "    return _repr_pretty_\n",
    "\n",
    "def add_mydict_pprinter(*args, **kwargs):\n",
    "    def decorator(cls):\n",
    "        kwds = dict(kwargs)\n",
    "        kwds['base'] = cls\n",
    "        cls._repr_pretty_ = _mydict_pretty_factory_(*args, **kwds)\n",
    "        return cls\n",
    "    return decorator\n",
    "\n",
    "\n",
    "class DefaultSlots(type):\n",
    "    def __new__(meta, name, bases, attrs):\n",
    "        if '__slots__' not in attrs:\n",
    "            attrs['__slots__'] = ()\n",
    "        return super().__new__(meta, name, bases, attrs)\n",
    "\n",
    "@add_mydict_pprinter()\n",
    "class DictObject(dict, metaclass=DefaultSlots):\n",
    "    def __init__(self, *args, **kwargs):\n",
    "        data = ((k, v) for k, v in _mydict_init_items_(*args, **kwargs))\n",
    "        super().__init__(data)\n",
    "    \n",
    "    def __repr__(self):\n",
    "        return \"{}({})\".format(type(self).__name__, super().__repr__())\n",
    "\n",
    "    \n",
    "    def __getattribute__(self, name):\n",
    "        try:\n",
    "            return self[name]\n",
    "        except KeyError:\n",
    "            errstr = \"'{}' object has no attribute '{}'\"\n",
    "            raise AttributeError(errstr.format(type(self).__name__, name))\n",
    "\n",
    "    def __setattr__(self, name, value):\n",
    "        self[name] = value\n",
    "\n",
    "    def __delattr__(self, name):\n",
    "        try:\n",
    "            del self[name]\n",
    "        except KeyError:\n",
    "            raise AttributeError(name)\n",
    "\n",
    "@add_mydict_pprinter('', '', '=', ',', lambda p, k: p.text(k))\n",
    "class Namespace(DictObject):\n",
    "    def __init__(self, *args, **kwargs):\n",
    "        items = _mydict_init_items_(*args, **kwargs)\n",
    "        data = ((k, v) for k, v in items if isinstance(k, str))\n",
    "        super(__class__, type(self)).__init__(self, data)\n",
    "\n",
    "    def __setattr__(self, name, value):\n",
    "        if not isinstance(name, str):\n",
    "            errstr = \"{} is not a valid attribute name identifier\"\n",
    "            raise ValueError(errstr.format(name))\n",
    "        self[name] = value\n",
    "\n",
    "    def __repr__(self):\n",
    "        attach = __class__.__repr__\n",
    "        is_orig = False\n",
    "        if not hasattr(attach, '_seen'):\n",
    "            is_orig = True\n",
    "            attach._seen = {}\n",
    "        elif id(self) in attach._seen:\n",
    "            return type(self).__name__ + \"(...)\"\n",
    "        attach._seen[id(self)] = self\n",
    "        try:\n",
    "            it = type(self).items(self)\n",
    "            body = ', '.join(\"{}={}\".format(a, repr(v)) for a, v in it)\n",
    "            return \"{}({})\".format(type(self).__name__, body)\n",
    "        finally:\n",
    "            del attach._seen[id(self)]\n",
    "            if is_orig:\n",
    "                del attach._seen\n",
    "\n",
    "    def mycopy(self, copied={}):\n",
    "        is_orig = not copied\n",
    "        selfc = copied[id(self)] = type(self)()\n",
    "        for key, obj in type(self).items(self):\n",
    "            if isinstance(obj, __class__):\n",
    "                if id(obj) in copied:\n",
    "                    selfc[key] = copied[id(obj)]\n",
    "                else:\n",
    "                    selfc[key] = type(obj).mycopy(obj, copied=copied)\n",
    "            else:\n",
    "                selfc[key] = obj\n",
    "        if is_orig:\n",
    "            copied.clear()\n",
    "        return selfc\n",
    "    \n",
    "    py = lambda o: {str(k): v for k, v in dict.items(o)}\n",
    "\n",
    "def copy(obj):\n",
    "    assert isinstance(obj, Namespace)\n",
    "    return type(obj).mycopy(obj)\n",
    "\n",
    "########################################################################\n",
    "O = Namespace\n",
    "Namespace.__name__ = '<>'\n",
    "\n",
    "class NamedNamespace(Namespace):\n",
    "    def __init__(self, *args, **kwargs):\n",
    "        super().__init__(*args, **kwargs)\n",
    "        if len(args) == 3:\n",
    "            self.__name__ = args[0]\n",
    "    def __repr__(self):\n",
    "        attach = __class__.__repr__\n",
    "        is_orig = False\n",
    "        if not hasattr(attach, '_seen'):\n",
    "            is_orig = True\n",
    "            attach._seen = {}\n",
    "        elif id(self) in attach._seen:\n",
    "            return f\"<{self.__name__}>(...)\"\n",
    "        attach._seen[id(self)] = self\n",
    "        try:\n",
    "            it = type(self).items(self)\n",
    "            body = ', '.join(\"{}={}\".format(a, repr(v)) for a, v in it if a != '__name__')\n",
    "            return f\"<{self.__name__}>({body})\"\n",
    "        finally:\n",
    "            del attach._seen[id(self)]\n",
    "            if is_orig:\n",
    "                del attach._seen\n",
    "NamedO = NamedNamespace\n",
    "NamedO.__name__ = '<>'"
   ]
  },
  {
   "cell_type": "markdown",
   "metadata": {},
   "source": [
    "### `combos.py`"
   ]
  },
  {
   "cell_type": "code",
   "execution_count": 65,
   "metadata": {
    "collapsed": true
   },
   "outputs": [],
   "source": [
    "# mostly ignore this cell, it's only here because it would be annoying to rework one bit of feature generation code to not\n",
    "# use the code here\n",
    "\n",
    "import itertools\n",
    "import functools\n",
    "import math\n",
    "import operator\n",
    "\n",
    "\n",
    "def binom(n, k):\n",
    "    k = min(k, n - k)\n",
    "    return functools.reduce(lambda a, b: a * (n - b) // (b + 1), range(k), 1)\n",
    "\n",
    "\n",
    "@memoized\n",
    "def consecutive_1s(n):\n",
    "    s = n * (n + 1) // 2\n",
    "    c = np.zeros([s, n], dtype=np.int8)\n",
    "    t = 0\n",
    "    for i in range(n):\n",
    "        for j in range(i + 1, n + 1):\n",
    "            for k in range(i, j):\n",
    "                c[t, k] = 1\n",
    "            t += 1\n",
    "    return c\n",
    "\n",
    "\n",
    "@memoized\n",
    "def one_minus_one(n):\n",
    "    s = n * (n - 1) // 2\n",
    "    c = np.zeros([s, n], dtype=np.int8)\n",
    "    t = 0\n",
    "    for i in range(n):\n",
    "        for j in range(i + 1, n):\n",
    "            c[t, i] = 1\n",
    "            c[t, j] = -1\n",
    "            t += 1\n",
    "    return c\n",
    "\n",
    "\n",
    "@memoized\n",
    "def one_minus_one_skip_by_k(n, k):\n",
    "    m = math.ceil(n / k)\n",
    "    s = m * (m - 1) // 2\n",
    "    c = np.zeros([s, n], dtype=np.int8)\n",
    "    t = 0\n",
    "    for i in range(0,n,k):\n",
    "        for j in range(i + k, n, k):\n",
    "            c[t, i] = 1\n",
    "            c[t, j] = -1\n",
    "            t += 1\n",
    "    return c\n",
    "\n",
    "\n",
    "\n",
    "\n",
    "@memoized\n",
    "def int_coefficients_mod_sign(n, m, duplicates=True):\n",
    "    guys = []\n",
    "    path = [0]\n",
    "    while True:\n",
    "        while True:\n",
    "            if not path:\n",
    "                return np.stack(guys, axis=0) if guys else np.ndarray([0, n], dtype=np.int8)\n",
    "            path[-1] += 1\n",
    "            if path[-1] == 0:\n",
    "                path[-1] += 1\n",
    "            if path[-1] > m:\n",
    "                path.pop()\n",
    "                continue\n",
    "            if len(path) == n:\n",
    "                break\n",
    "            path.append(-m - 1)\n",
    "        if duplicates or functools.reduce(math.gcd, path) == 1:\n",
    "            guys.append(np.asarray(path, dtype=np.int8))\n",
    "\n",
    "\n",
    "@memoized\n",
    "def up_to_m_int_coefficients_mod_sign(n, m, h, duplicates=True):\n",
    "    guys = []\n",
    "    ident = np.eye(n, dtype=np.int8)\n",
    "    for k in range(1, m + 1):\n",
    "        for x_list in itertools.combinations(ident, k):\n",
    "            for sc in int_coefficients_mod_sign(k, h, duplicates):\n",
    "                guy = sum(x * b for b, x in zip(sc, x_list))\n",
    "                guys.append(guy)\n",
    "    return np.stack(guys, axis=0).astype(np.int8, copy=False)\n",
    "\n",
    "\n",
    "@memoized\n",
    "def consecutive_k_1s(m,k):\n",
    "    assert m%k==0, 'consecutive_k_1s argument m must be divisible by argument k'\n",
    "    n = m // k\n",
    "    s = n * (n + 1) // 2\n",
    "    c = np.zeros([s, k*n], dtype=np.int8)\n",
    "    t = 0\n",
    "    for i in range(0,k*n,k):\n",
    "        for j in range(i + k, k*n + 1, k):\n",
    "            for l in range(i, j):\n",
    "                c[t, l] = 1\n",
    "            t += 1\n",
    "    return c\n",
    "\n",
    "\n",
    "class name(metaclass=O):\n",
    "    def index(c):\n",
    "        assert len(c) < 16\n",
    "        pos, neg = [], []\n",
    "        for i, a in enumerate(c):\n",
    "            assert isinstance(a, np.integer) or isinstance(a, int)\n",
    "            if a != 0:\n",
    "                arr = pos if a > 0 else neg\n",
    "                arr += [i] * abs(a)\n",
    "        strpos = ''.join(hex(i)[2:] for i in pos)\n",
    "        strneg = ''.join(hex(i)[2:] for i in neg)\n",
    "        if not neg:\n",
    "            return strpos\n",
    "        else:\n",
    "            return strpos+'/'+strneg\n",
    "    def consec(c):\n",
    "        assert c.any() and (c!=np.shift(c,-1))[:-1].sum()<=2 # c switches from 0 to something then to 0, or switch less\n",
    "        nonzero = c.nonzero()[0]\n",
    "        i, j = nonzero[0], nonzero[-1]\n",
    "        return '({}..{})^{}'.format(i,j,c[i])\n",
    "\n",
    "\n",
    "def union(*cbs):\n",
    "    assert all(cb.shape[1] == cbs[0].shape[1] for cb in cbs)\n",
    "    seen, the = set(), []\n",
    "    for cb in cbs:\n",
    "        for c in cb:\n",
    "            if tuple(c) not in seen:\n",
    "                the.append(c)\n",
    "                seen.update([tuple(c), tuple(-c)])\n",
    "    return np.stack(the)\n",
    "    \n",
    "    \n",
    "class combos(metaclass=O):\n",
    "    name = name\n",
    "    union = union\n",
    "    c1co = consecutive_1s #(n)\n",
    "    ckco = consecutive_k_1s #(n)\n",
    "    mintco = lambda n, m, h: up_to_m_int_coefficients_mod_sign(n, m, h, False) #(n, m=<max # !=0 coefs>, <max |coef|>)\n",
    "    omo = one_minus_one\n",
    "    omok = one_minus_one_skip_by_k"
   ]
  },
  {
   "cell_type": "markdown",
   "metadata": {},
   "source": [
    "### `helper.ipynb`"
   ]
  },
  {
   "cell_type": "code",
   "execution_count": 66,
   "metadata": {
    "collapsed": true
   },
   "outputs": [],
   "source": [
    "def lens(*it):\n",
    "    return tuple(len(x) for x in it)\n",
    "def shapes(*arrs):\n",
    "    return tuple(x.shape for x in arrs)\n",
    "def sums(*it):\n",
    "    return tuple(sum(x) for x in it)"
   ]
  },
  {
   "cell_type": "code",
   "execution_count": 67,
   "metadata": {
    "collapsed": true
   },
   "outputs": [],
   "source": [
    "def shift(a, shift, axis=None):\n",
    "    '''Params - a: np.ndarray\n",
    "                shift: integer, + means entries moved to greater indices, - means entries moved to smaller indices\n",
    "                axis: one integer\n",
    "    Equivalent to pd.DataFrame.shift\n",
    "    '''\n",
    "    if axis is None:\n",
    "        assert len(a.shape)==1, \"Only an array of single dimension can be shifted without specifying axis\"\n",
    "        axis = 0\n",
    "    assert isinstance(axis, int) and isinstance(shift, int)\n",
    "    if not shift:\n",
    "        return a\n",
    "    padding = (shift,0) if shift>0 else (0,-shift)\n",
    "    slicing = slice(None,-shift) if shift>0 else slice(-shift,None)\n",
    "    n = len(a.shape)\n",
    "    axis = n+axis if axis<0 else axis\n",
    "    ret = np.pad(a, ((0,0),)*axis+(padding,)+((0,0),)*(n-axis-1), mode='constant', constant_values=(np.nan,))\n",
    "    ret = ret[(slice(None),)*axis + (slicing,) + (slice(None),)*(n-axis-1)]\n",
    "    return ret\n",
    "np.shift = shift"
   ]
  },
  {
   "cell_type": "code",
   "execution_count": 68,
   "metadata": {
    "collapsed": true
   },
   "outputs": [],
   "source": [
    "def print_progress(i, dot=1, numdot=10, print=print):\n",
    "    '''prints dots (.) on loop index at `dot` intervals and prints the actual index on `dot*numdot` intervals'''\n",
    "    print('.' if i // dot % numdot else i, end='', flush=True) if i % dot == 0 else None"
   ]
  },
  {
   "cell_type": "code",
   "execution_count": 69,
   "metadata": {
    "collapsed": true
   },
   "outputs": [],
   "source": [
    "offdiag = lambda a: a[np.where(~np.eye(a.shape[0],dtype=bool))]\n",
    "nonnans = lambda a: a[np.isfinite(a)]\n",
    "plist = lambda a, **kw: print('['+','.join(str(x) for x in a)+']', **kw)"
   ]
  },
  {
   "cell_type": "code",
   "execution_count": 70,
   "metadata": {
    "collapsed": true
   },
   "outputs": [],
   "source": [
    "def rolling_window_axis0(a, size, step=1):\n",
    "    '''backward rolling window only\n",
    "    windows dimension will be appended to a.shape (available at index -1)'''\n",
    "    a_ext = np.concatenate(( np.full((step*(size-1),)+a.shape[1:],np.nan), a), axis=0)\n",
    "    n = a_ext.strides[0]\n",
    "    strided = np.lib.stride_tricks.as_strided     \n",
    "    return strided(a_ext, shape=a.shape+(size,), strides=a_ext.strides+(step*n,))"
   ]
  },
  {
   "cell_type": "code",
   "execution_count": 71,
   "metadata": {
    "collapsed": true
   },
   "outputs": [],
   "source": [
    "def only_nans(a):\n",
    "    '''Assume `a` either pd.DataFrame, pd.Series, or np.ndarray\n",
    "    `a` but with all non-NaN values replaced with 0'''\n",
    "    if isinstance(a, pd.DataFrame) or isinstance(a, pd.Series):\n",
    "        return a.isna().replace(True, np.nan)\n",
    "    else:\n",
    "        a = a.copy()\n",
    "        a[~np.isnan(a)] = 0\n",
    "        return a"
   ]
  },
  {
   "cell_type": "code",
   "execution_count": 72,
   "metadata": {
    "collapsed": true
   },
   "outputs": [],
   "source": [
    "def wmean(a, weights, axis=0):\n",
    "    '''Params - a: either a {observations}x{features} `DataFrame`/`ndarray` or a 1D `ndarray`\n",
    "                weights: weights of same shape as `a` or else broadcastable to `a`\n",
    "    Weighted mean, with `a.shape` minus the {observations} dimension.'''\n",
    "    w = weights + only_nans(a) #broadcast(weights, only_nans(a), '+')\n",
    "    return np.nansum(a * w, axis=axis) / np.nansum(w, axis=axis)\n",
    "pd.DataFrame.wmean = wmean\n",
    "pd.Series.wmean = wmean"
   ]
  },
  {
   "cell_type": "code",
   "execution_count": 73,
   "metadata": {
    "collapsed": true
   },
   "outputs": [],
   "source": [
    "class staticclass(type):\n",
    "    '''The staticclass metatype. Use as a metaclass. Will make your class methods static by default.'''\n",
    "    class InstantiationError(Exception):\n",
    "        pass\n",
    "    def __new__(cls, name, parents, attrs):\n",
    "        for k, v in list(dict.items(attrs)):\n",
    "            if not isinstance(v, staticmethod) and callable(v):\n",
    "                attrs[k] = staticmethod(v)\n",
    "        return super(__class__, __class__).__new__(cls, name, parents, attrs)\n",
    "    def __call__(cls, *a, **k):\n",
    "        raise __class__.InstantiationError('cannot instantiate a staticclass')"
   ]
  },
  {
   "cell_type": "code",
   "execution_count": 74,
   "metadata": {
    "collapsed": true
   },
   "outputs": [],
   "source": [
    "def ffill_axis0(arr):\n",
    "    '''Forward fill your np.ndarray along the index 0 axis'''\n",
    "    n = len(arr.shape)\n",
    "    mask = np.isnan(arr)\n",
    "    idx = np.where(~mask, np.arange(mask.shape[0])[(slice(None),)+(np.newaxis,)*(n-1)], 0)\n",
    "    np.maximum.accumulate(idx,axis=0, out=idx)\n",
    "    out = arr[(idx,) + tuple(\n",
    "        np.arange(idx.shape[i])[(np.newaxis,)*i+(slice(None),)+(np.newaxis,)*(n-1-i)] for i in range(1, n)\n",
    "    ) ]\n",
    "    return out"
   ]
  },
  {
   "cell_type": "code",
   "execution_count": 75,
   "metadata": {
    "collapsed": true
   },
   "outputs": [],
   "source": [
    "stringify_list = lambda a: '[\"'+'\",\"'.join(str(x) for x in a)+'\"]'"
   ]
  },
  {
   "cell_type": "code",
   "execution_count": 76,
   "metadata": {
    "collapsed": true
   },
   "outputs": [],
   "source": [
    "from collections import Iterable\n",
    "def flatten(*it):\n",
    "    '''flatten an iterable of possibly iterables into a one layer deep generator\n",
    "    (does not recursively flatten str, pd.DataFrame, pd.Series, np.ndarray)'''\n",
    "    for x in it:\n",
    "        if isinstance(x, Iterable) and not any(isinstance(x, T) for T in [str,pd.DataFrame,pd.Series,np.ndarray]):\n",
    "            yield from flatten(*x)\n",
    "        else:\n",
    "            yield x"
   ]
  },
  {
   "cell_type": "markdown",
   "metadata": {},
   "source": [
    "don't forget the others didn't import in `helper.py`"
   ]
  },
  {
   "cell_type": "markdown",
   "metadata": {},
   "source": [
    "### helper code but only for this project"
   ]
  },
  {
   "cell_type": "code",
   "execution_count": 77,
   "metadata": {
    "collapsed": true
   },
   "outputs": [],
   "source": [
    "\"\"\"Bisection algorithms. This is literally just copied from Python Library's bisect module, but numba decorated.\"\"\"\n",
    "@njit\n",
    "def bisect_left(a, x, lo=0, hi=None):\n",
    "    \"\"\"Return the index where to insert item x in list a, assuming a is sorted.\n",
    "    The return value i is such that all e in a[:i] have e < x, and all e in\n",
    "    a[i:] have e >= x.  So if x already appears in the list, a.insert(x) will\n",
    "    insert just before the leftmost x already there.\n",
    "    Optional args lo (default 0) and hi (default len(a)) bound the\n",
    "    slice of a to be searched.\n",
    "    \"\"\"\n",
    "\n",
    "    if lo < 0:\n",
    "        raise ValueError('lo must be non-negative')\n",
    "    if hi is None:\n",
    "        hi = len(a)\n",
    "    while lo < hi:\n",
    "        mid = (lo+hi)//2\n",
    "        if a[mid] < x: lo = mid+1\n",
    "        else: hi = mid\n",
    "    return lo"
   ]
  },
  {
   "cell_type": "code",
   "execution_count": 78,
   "metadata": {
    "collapsed": true
   },
   "outputs": [],
   "source": [
    "# this cell's code is for scrambling a categorical (int) column\n",
    "# basically creates \"random numbers\". just an idea I had where I wanted to get \"random\" but deterministic assetCodeIds\n",
    "\n",
    "@njit\n",
    "def shiftWrap32(num, shift):\n",
    "    d = np.uint8(32)\n",
    "    n = np.uint32(num & 0xFFFFFFFF) # coerce num to a int32 value\n",
    "    i = np.uint8(shift % d) # coerce shift to a int8 value\n",
    "    return np.uint32(n << i) | np.uint32(n >> (d-i))\n",
    "\n",
    "@njit\n",
    "def randomThing(i, j):\n",
    "    return (\n",
    "        ((0x80085111 ^ shiftWrap32(i, j**2)) * \n",
    "        #(0xFA100000 - ~shiftWrap32(i, (j+1)**2))) * \n",
    "        #((0x1337C0DE + shiftWrap32(i, (j+2)**2)) ^ \n",
    "        (0xABCDEF77 ^ shiftWrap32(i, (j+3)**2)))\n",
    "    )\n",
    "\n",
    "@memoized\n",
    "def randMap32(ident):\n",
    "    i = ident\n",
    "    @njit\n",
    "    def func(n):\n",
    "        s = shiftWrap32\n",
    "        x = n\n",
    "        x *= randomThing(i, 777) | 0x5558982A\n",
    "        x += randomThing(i, 263435)\n",
    "        x *= x\n",
    "        x = (x >> 8) + (x << 8)\n",
    "        x ^= randomThing(i, 2000004444)\n",
    "        x *= x\n",
    "        return x\n",
    "    return func"
   ]
  },
  {
   "cell_type": "code",
   "execution_count": 79,
   "metadata": {
    "collapsed": true
   },
   "outputs": [],
   "source": [
    "def convert32(F):\n",
    "    '''(inplace) just converts all columns in dataframe `F` into 32-bit dtypes'''\n",
    "    for c in F.columns:\n",
    "        if np.issubdtype(F[c].dtype, np.float):\n",
    "            if F[c].dtype != np.float32:\n",
    "                F[c] = F[c].astype(np.float32)\n",
    "        elif np.issubdtype(F[c].dtype, np.integer):\n",
    "            if F[c].dtype != np.int32:\n",
    "                F[c] = F[c].astype(np.int32)\n",
    "        else:\n",
    "            assert False, 'dtype other than float or int found in features'\n",
    "    gc.collect()"
   ]
  },
  {
   "cell_type": "code",
   "execution_count": 80,
   "metadata": {
    "collapsed": true
   },
   "outputs": [],
   "source": [
    "from types import LambdaType\n",
    "\n",
    "class Featurespace(Namespace):\n",
    "    '''This cell defines a Namespace subclass that chooses selectively to evaluate and save its attribute assignments or not.\n",
    "    It is needed because my feature generation code generates A LOT of features, not all of which I want to use.\n",
    "    So the `allow` function filters out features I don't want to use, so as to save memory and time.\n",
    "    \n",
    "    It has its __setitem__ overloaded so that it either takes the actual value, a function -> actual value, or a tuple\n",
    "    of (function -> actual value, function -> next row to append to actual value)\n",
    "    \n",
    "    Also, some features depend on previous features existing, so there is logic to build the dependent features set.\n",
    "    '''\n",
    "    allow = lambda name: True\n",
    "    depend_graph = {}\n",
    "    record_dependency = False\n",
    "    _accessed = set()\n",
    "    \n",
    "    @classmethod\n",
    "    def build_dependency(cls):\n",
    "        stack = list(filter(cls.allow, cls.depend_graph))\n",
    "        seen = set(stack)\n",
    "        cls.depends = set(stack)\n",
    "        while stack:\n",
    "            name = stack.pop()\n",
    "            for next in cls.depend_graph.get(name, frozenset()):\n",
    "                if next not in seen:\n",
    "                    stack.append(next)\n",
    "                    seen.add(next)\n",
    "                    cls.depends.add(next)\n",
    "    \n",
    "    def __getitem__(self, name):\n",
    "        cls = type(self)\n",
    "        if cls.record_dependency:\n",
    "            cls._accessed.add(name)\n",
    "        return super(__class__, type(self)).__getitem__(self, name)\n",
    "    \n",
    "    def __getattribute__(self, name):\n",
    "        cls = type(self)\n",
    "        if cls.record_dependency:\n",
    "            cls._accessed.add(name)\n",
    "        return super(__class__, type(self)).__getattribute__(self, name)\n",
    "    \n",
    "    def __setitem__(self, name, value):\n",
    "        cls = type(self)\n",
    "        \n",
    "        if hasattr(cls, 'depends'):\n",
    "            care = name in cls.depends or cls.allow(name)\n",
    "        else:\n",
    "            care = cls.allow(name)\n",
    "        care = care or cls.record_dependency\n",
    "        \n",
    "        ans = None\n",
    "        if isinstance(value, LambdaType):\n",
    "            if care:\n",
    "                ans = super(__class__, type(self)).__setitem__(self, name, value())\n",
    "        elif isinstance(value,tuple) and len(value)==2 and all(isinstance(value[i],LambdaType) for i in range(2)):\n",
    "            if care:\n",
    "                if name not in self:\n",
    "                    ans = super(__class__, type(self)).__setitem__(self, name, value[0]())\n",
    "                else:\n",
    "                    changed = np.concatenate([self[name], value[1]()[np.newaxis]], axis=0)\n",
    "                    ans = super(__class__, type(self)).__setitem__(self, name, changed)\n",
    "        else:\n",
    "            ans = super(__class__, type(self)).__setitem__(self, name, value)\n",
    "            \n",
    "        if cls.record_dependency:\n",
    "            assert name not in cls.depend_graph, 'each name in Featurespace should only be assigned once'\n",
    "            cls.depend_graph[name] = frozenset(cls._accessed)\n",
    "            cls._accessed = set()\n",
    "            \n",
    "        return ans\n",
    "OX = Featurespace"
   ]
  },
  {
   "cell_type": "markdown",
   "metadata": {},
   "source": [
    "## %%%%%%%%%%% requirements check for main prediction code: %%%%%%%%%%%"
   ]
  },
  {
   "cell_type": "code",
   "execution_count": 81,
   "metadata": {},
   "outputs": [
    {
     "name": "stdout",
     "output_type": "stream",
     "text": [
      "ok go\n"
     ]
    }
   ],
   "source": [
    "__env__\n",
    "O\n",
    "gc\n",
    "canvas\n",
    "print(\"ok go\")"
   ]
  },
  {
   "cell_type": "markdown",
   "metadata": {},
   "source": [
    "# =================== MAIN PREDICTION CODE ===================="
   ]
  },
  {
   "cell_type": "code",
   "execution_count": 82,
   "metadata": {
    "collapsed": true
   },
   "outputs": [],
   "source": [
    "import warnings\n",
    "warnings.filterwarnings('ignore')\n",
    "\n",
    "BUG = O() # put stuff in this that you want to see for debugging needs\n",
    "\n",
    "%matplotlib inline\n",
    "canvas(12,12)"
   ]
  },
  {
   "cell_type": "code",
   "execution_count": 83,
   "metadata": {},
   "outputs": [
    {
     "data": {
      "text/plain": [
       "28"
      ]
     },
     "execution_count": 83,
     "metadata": {},
     "output_type": "execute_result"
    }
   ],
   "source": [
    "M, N = __env__.get_training_data()\n",
    "del N; gc.collect()"
   ]
  },
  {
   "cell_type": "markdown",
   "metadata": {},
   "source": [
    "#### bit of a hack of the previouly LB securing random values"
   ]
  },
  {
   "cell_type": "code",
   "execution_count": 84,
   "metadata": {
    "collapsed": true
   },
   "outputs": [],
   "source": [
    "#NOPE this should not be in the production code\n",
    "# this was an old feature of the scrambled assetCodeIds that I could not regenerate programmatically any more\n",
    "dfHack2 = pd.read_csv('dfHack2Str.csv', index_col='assetCodeId',\n",
    "                      dtype={'assetCodeId':np.int,'assetCodeIdWTFFlogabs':np.float32,'assetCodeIdWTFFsin2':np.float32})"
   ]
  },
  {
   "cell_type": "markdown",
   "metadata": {},
   "source": [
    "### ~/~/~/~/~/~/~/~/~/~/~/~/~/~/~/~/~/~/ Model Definitions ~/~/~/~/~/~/~/~/~/~/~/~/~/~/~/~/~/~/~/~/~/"
   ]
  },
  {
   "cell_type": "code",
   "execution_count": null,
   "metadata": {
    "collapsed": true
   },
   "outputs": [],
   "source": [
    "import json"
   ]
  },
  {
   "cell_type": "code",
   "execution_count": null,
   "metadata": {
    "collapsed": true
   },
   "outputs": [],
   "source": [
    "#_fMust = ['oo','(oo-aoo)','(cc-acc)','(oo-cc)','(aoo-acc)','vp1dd']\n",
    "# fMustInclude = _fMust+[c+'1' for c in _fMust]+[c+'*' for c in _fMust]\n",
    "# fMustInclude += 'af it aoo acc'.split()\n",
    "fMustInclude = ['aoo','aooTEN','vp1','vp5','vp10','_aoo','_aooTEN','_aooTTY']\n",
    "\n",
    "fullhouse = [2009.,2009.25,2009.5,2009.75,\n",
    "             2010.,2010.25,2010.5,2010.75,\n",
    "             2011.,2011.25,2011.5,2011.75,\n",
    "             2012.,2012.25,2012.5,2012.75,\n",
    "             2013.,2013.25,2013.5,2013.75,\n",
    "             2014.,2014.25,2014.5,2014.75,\n",
    "             2015.,2015.25,#2015.5,2015.75,\n",
    "             #2016.,2016.25,2016.5,2016.75,\n",
    "             ]"
   ]
  },
  {
   "cell_type": "code",
   "execution_count": 85,
   "metadata": {
    "collapsed": true
   },
   "outputs": [],
   "source": [
    "#NOPE remove this cell\n",
    "#!!!!!!!!!!!!!!!!! BEGIN code that you should not read because it just defines the old InitKaggleGo features\n",
    "fTransNewfault = [\"volume\",\"close\",\"open\",\"assetCodeId\",\"assetNameId\",\"cc\",\"oo\",\"acc\",\"aoo\",\"ccTEN\",\"ooTEN\",\"accTEN\",\"aooTEN\",\"dayOfYear\",\"dayOfWeek\",\"oo1Since21\",\"oo1MaxSince21\",\"oo1Drawdown1Since21\",\"oo1Drawdown5Since21\",\"oo1Drawdown10Since21\",\"oo1MaxSince21{10}\",\"oo1MinSince21\",\"oo1MinSince21{10}\",\"oo1Since62\",\"oo1MaxSince62\",\"oo1Drawdown1Since62\",\"oo1Drawdown5Since62\",\"oo1Drawdown10Since62\",\"oo1MaxSince62{10}\",\"oo1MinSince62\",\"oo1MinSince62{10}\",\"oo1Since125\",\"oo1MaxSince125\",\"oo1Drawdown1Since125\",\"oo1Drawdown5Since125\",\"oo1Drawdown10Since125\",\"oo1MaxSince125{10}\",\"oo1MinSince125\",\"oo1MinSince125{10}\",\"oo1Since250\",\"oo1MaxSince250\",\"oo1Drawdown1Since250\",\"oo1Drawdown5Since250\",\"oo1Drawdown10Since250\",\"oo1MaxSince250{10}\",\"oo1MinSince250\",\"oo1MinSince250{10}\",\"aoo1Since21\",\"aoo1MaxSince21\",\"aoo1Drawdown1Since21\",\"aoo1Drawdown5Since21\",\"aoo1Drawdown10Since21\",\"aoo1MaxSince21{10}\",\"aoo1MinSince21\",\"aoo1MinSince21{10}\",\"aoo1Since62\",\"aoo1MaxSince62\",\"aoo1Drawdown1Since62\",\"aoo1Drawdown5Since62\",\"aoo1Drawdown10Since62\",\"aoo1MaxSince62{10}\",\"aoo1MinSince62\",\"aoo1MinSince62{10}\",\"aoo1Since125\",\"aoo1MaxSince125\",\"aoo1Drawdown1Since125\",\"aoo1Drawdown5Since125\",\"aoo1Drawdown10Since125\",\"aoo1MaxSince125{10}\",\"aoo1MinSince125\",\"aoo1MinSince125{10}\",\"aoo1Since250\",\"aoo1MaxSince250\",\"aoo1Drawdown1Since250\",\"aoo1Drawdown5Since250\",\"aoo1Drawdown10Since250\",\"aoo1MaxSince250{10}\",\"aoo1MinSince250\",\"aoo1MinSince250{10}\",\"oo5\",\"oo10\",\"oo15\",\"oo20\",\"oo(10-5)\",\"oo(15-5)\",\"oo(20-5)\",\"oo(15-10)\",\"oo(20-10)\",\"oo(20-15)\",\"aoo5\",\"aoo10\",\"aoo15\",\"aoo20\",\"aoo(10-5)\",\"aoo(15-5)\",\"aoo(20-5)\",\"aoo(15-10)\",\"aoo(20-10)\",\"aoo(20-15)\",\"(it,af,it{1},aoo,acc){3/4}\"]\n",
    "fTransNewnewfault = fTransNewfault[:-1] + ['(aoo-acc)']\n",
    "fTime = 'dayOfYear dayOfWeek'.split()\n",
    "fAsset = 'assetCodeId assetNameId'.split()\n",
    "fPriceAbsolute = 'close open'.split()\n",
    "def select_relative(f):\n",
    "    return f not in set(fTime+fAsset+fPriceAbsolute)\n",
    "fInitKaggleGo = list(filter(select_relative, fTransNewnewfault)) + ['assetCodeIdWTFFlogabs', 'assetCodeIdWTFFsin2']\n",
    "class ikg(NamedO()):\n",
    "    features = fInitKaggleGo\n",
    "    train_on = [2009.,2009.75,2010.75,2011.5,2012.25,2012.5,2012.75,2013.,2013.25,2013.75,2014.,2014.25,2015.]\n",
    "    weight = 'flat_weight'\n",
    "    params = dict(num_iterations=170,early_stopping_round=50,learning_rate=.05,num_leaves=1<<12,max_depth=12,min_data_in_leaf=150,min_sum_hessian_in_leaf=50,lambda_l1=.01,lambda_l2=.01)\n",
    "_ikg = ikg; del ikg\n",
    "#!!!!!!!!!!!!!!!!!!!!!! END code that you should not read"
   ]
  },
  {
   "cell_type": "code",
   "execution_count": 87,
   "metadata": {},
   "outputs": [],
   "source": [
    "class bstdefs(O()):\n",
    "    '''Each item under here fully defines a model\n",
    "        features = the list of feature names\n",
    "        train_on = the quarters that LightGBM should train on\n",
    "        weight = the name of the weight to use\n",
    "        params = LGBM params (in addition to default)\n",
    "    '''\n",
    "    ikg = _ikg # the InitKaggleGo model #NOPE remove this line\n",
    "    class aikg(NamedO()):\n",
    "        features = [\"volume\",\"cc\",\"oo\",\"acc\",\"aoo\",\"ccTEN\",\"ooTEN\",\"accTEN\",\"aooTEN\",\"oo5\",\"oo10\",\"oo15\",\"aoo5\",\"aoo10\",\"aoo15\",\"(aoo-acc)\",\"oo20\",\"oo(10-5)\",\"oo(15-10)\",\"oo(20-15)\",\"oo(15-5)\",\"oo(20-10)\",\"oo(20-5)\",\"aoo20\",\"aoo(10-5)\",\"aoo(15-10)\",\"aoo(20-15)\",\"aoo(15-5)\",\"aoo(20-10)\",\"aoo(20-5)\",\"oo1Since21\",\"oo1MaxSince21\",\"oo1Drawdown1Since21\",\"oo1Drawdown5Since21\",\"oo1Drawdown10Since21\",\"oo1MaxSince21{10}\",\"oo1MinSince21\",\"oo1MinSince21{10}\",\"aoo1Since21\",\"aoo1MaxSince21\",\"aoo1Drawdown1Since21\",\"aoo1Drawdown5Since21\",\"aoo1Drawdown10Since21\",\"aoo1MaxSince21{10}\",\"aoo1MinSince21\",\"aoo1MinSince21{10}\",\"oo1Since62\",\"oo1MaxSince62\",\"oo1Drawdown1Since62\",\"oo1Drawdown5Since62\",\"oo1Drawdown10Since62\",\"oo1MaxSince62{10}\",\"oo1MinSince62\",\"oo1MinSince62{10}\",\"aoo1Since62\",\"aoo1MaxSince62\",\"aoo1Drawdown1Since62\",\"aoo1Drawdown5Since62\",\"aoo1Drawdown10Since62\",\"aoo1MaxSince62{10}\",\"aoo1MinSince62\",\"aoo1MinSince62{10}\",\"oo1Since125\",\"oo1MaxSince125\",\"oo1Drawdown1Since125\",\"oo1Drawdown5Since125\",\"oo1Drawdown10Since125\",\"oo1MaxSince125{10}\",\"oo1MinSince125\",\"oo1MinSince125{10}\",\"aoo1Since125\",\"aoo1MaxSince125\",\"aoo1Drawdown1Since125\",\"aoo1Drawdown5Since125\",\"aoo1Drawdown10Since125\",\"aoo1MaxSince125{10}\",\"aoo1MinSince125\",\"aoo1MinSince125{10}\",\"oo1Since250\",\"oo1MaxSince250\",\"oo1Drawdown1Since250\",\"oo1Drawdown5Since250\",\"oo1Drawdown10Since250\",\"oo1MaxSince250{10}\",\"oo1MinSince250\",\"oo1MinSince250{10}\",\"aoo1Since250\",\"aoo1MaxSince250\",\"aoo1Drawdown1Since250\",\"aoo1Drawdown5Since250\",\"aoo1Drawdown10Since250\",\"aoo1MaxSince250{10}\",\"aoo1MinSince250\",\"aoo1MinSince250{10}\",\"assetCodeIdWTFFlogabs\",\"assetCodeIdWTFFsin2\"]\n",
    "        feats_ctor = '<ikg>IKG'\n",
    "        train_on = fullhouse\n",
    "        weight = 'flat_weight'\n",
    "        params = dict(learning_rate=0.05,max_depth=-1,num_leaves=4096,min_data_in_leaf=120,min_sum_hessian_in_leaf=100,lambda_l1=0,lambda_l2=0,num_iterations=217)\n",
    "    class aIKGZen(NamedO()):\n",
    "        features = [\"cc\",\"oo\",\"acc\",\"aoo\",\"oo5\",\"oo10\",\"oo15\",\"aoo5\",\"aoo10\",\"aoo15\",\"oo(10-5)\",\"oo(15-10)\",\"oo(20-15)\",\"oo(15-5)\",\"oo(20-10)\",\"oo(20-5)\",\"aoo(10-5)\",\"aoo(15-10)\",\"aoo(20-15)\",\"aoo(15-5)\",\"aoo(20-10)\",\"aoo(20-5)\",\"oo1Since21\",\"oo1MaxSince21\",\"oo1Drawdown1Since21\",\"oo1Drawdown5Since21\",\"oo1Drawdown10Since21\",\"oo1MinSince21\",\"oo1MinSince21{10}\",\"aoo1Since21\",\"aoo1MaxSince21\",\"aoo1Drawdown1Since21\",\"aoo1Drawdown5Since21\",\"aoo1Drawdown10Since21\",\"aoo1MinSince21\",\"aoo1MinSince21{10}\",\"oo1Since62\",\"oo1MaxSince62\",\"oo1Drawdown1Since62\",\"oo1Drawdown5Since62\",\"oo1Drawdown10Since62\",\"oo1MinSince62\",\"oo1MinSince62{10}\",\"aoo1Since62\",\"aoo1MaxSince62\",\"aoo1Drawdown1Since62\",\"aoo1Drawdown5Since62\",\"aoo1Drawdown10Since62\",\"aoo1MinSince62\",\"aoo1MinSince62{10}\",\"oo1Since125\",\"oo1MaxSince125\",\"oo1Drawdown1Since125\",\"oo1Drawdown5Since125\",\"oo1Drawdown10Since125\",\"oo1MinSince125\",\"oo1MinSince125{10}\",\"aoo1Since125\",\"aoo1MaxSince125\",\"aoo1Drawdown1Since125\",\"aoo1Drawdown5Since125\",\"aoo1Drawdown10Since125\",\"aoo1MinSince125\",\"aoo1MinSince125{10}\",\"oo1Since250\",\"oo1MaxSince250\",\"oo1Drawdown1Since250\",\"oo1Drawdown5Since250\",\"oo1Drawdown10Since250\",\"oo1MinSince250\",\"oo1MinSince250{10}\",\"aoo1Since250\",\"aoo1MaxSince250\",\"aoo1Drawdown1Since250\",\"aoo1Drawdown5Since250\",\"aoo1Drawdown10Since250\",\"aoo1MinSince250\",\"aoo1MinSince250{10}\",\"assetCode_randMap32_0\",\"assetCode_randMap32_1\"]\n",
    "        feats_ctor = '<IKGZen>\\n    <>~Market & (\\n        <>Return{.&pure&~digit&~TEN} & ~Since & Return{.&\\n            <>(oo|cc|aoo|acc|daoc)\\n            & index[0]\\n          }\\n        | Return{.&pure&~index} & ~Since & Return{.&\\n            <>(oo|aoo)\\n            & [5:,10:,15:,10:5,15:10,20:15,15:5,20:10,20:5]\\n          }\\n        | (\\n            <>Return{(oo{.&[1:]}|aoo[1:])}\\n            & (\\n                <> ~Drawdown&~Drawup&~Since{Min}&~Since{Max}\\n                | Drawdown[1:, 5:,10:]\\n                | Since{Max&index[0]}\\n                | Since{Min&index[0,10]}\\n              )\\n            & Since[21:,62:,125:,250:]\\n          )\\n      )\\n    |\\n        <>AssetEnc{RandMap[0,1]}\\n    '\n",
    "        train_on = fullhouse\n",
    "        weight = 'flat_weight'\n",
    "        params = dict(learning_rate=0.05,max_depth=-1,num_leaves=4096,min_data_in_leaf=120,min_sum_hessian_in_leaf=100,lambda_l1=0,lambda_l2=0,num_iterations=250)\n",
    "    class aIKGHomo(NamedO()):\n",
    "        features = [\"cc\",\"oo\",\"acc\",\"aoo\",\"oo5\",\"oo10\",\"oo15\",\"aoo5\",\"aoo10\",\"aoo15\",\"oo(10-5)\",\"oo(15-10)\",\"oo(20-15)\",\"oo(15-5)\",\"oo(20-10)\",\"oo(20-5)\",\"aoo(10-5)\",\"aoo(15-10)\",\"aoo(20-15)\",\"aoo(15-5)\",\"aoo(20-10)\",\"aoo(20-5)\",\"oo1Since21\",\"oo1MaxSince21\",\"oo1Drawdown1Since21\",\"oo1Drawdown5Since21\",\"oo1Drawdown10Since21\",\"oo1MinSince21\",\"oo1MinSince21{10}\",\"aoo1Since21\",\"aoo1MaxSince21\",\"aoo1Drawdown1Since21\",\"aoo1Drawdown5Since21\",\"aoo1Drawdown10Since21\",\"aoo1MinSince21\",\"aoo1MinSince21{10}\",\"oo1Since62\",\"oo1MaxSince62\",\"oo1Drawdown1Since62\",\"oo1Drawdown5Since62\",\"oo1Drawdown10Since62\",\"oo1MinSince62\",\"oo1MinSince62{10}\",\"aoo1Since62\",\"aoo1MaxSince62\",\"aoo1Drawdown1Since62\",\"aoo1Drawdown5Since62\",\"aoo1Drawdown10Since62\",\"aoo1MinSince62\",\"aoo1MinSince62{10}\",\"oo1Since125\",\"oo1MaxSince125\",\"oo1Drawdown1Since125\",\"oo1Drawdown5Since125\",\"oo1Drawdown10Since125\",\"oo1MinSince125\",\"oo1MinSince125{10}\",\"aoo1Since125\",\"aoo1MaxSince125\",\"aoo1Drawdown1Since125\",\"aoo1Drawdown5Since125\",\"aoo1Drawdown10Since125\",\"aoo1MinSince125\",\"aoo1MinSince125{10}\",\"oo1Since250\",\"oo1MaxSince250\",\"oo1Drawdown1Since250\",\"oo1Drawdown5Since250\",\"oo1Drawdown10Since250\",\"oo1MinSince250\",\"oo1MinSince250{10}\",\"aoo1Since250\",\"aoo1MaxSince250\",\"aoo1Drawdown1Since250\",\"aoo1Drawdown5Since250\",\"aoo1Drawdown10Since250\",\"aoo1MinSince250\",\"aoo1MinSince250{10}\"]\n",
    "        feats_ctor = '<IKGHomo>\\n    <>~Market & (\\n        <>Return{.&pure&~digit&~TEN} & ~Since & Return{.&\\n            <>(oo|cc|aoo|acc|daoc)\\n            & index[0]\\n          }\\n        | Return{.&pure&~index} & ~Since & Return{.&\\n            <>(oo|aoo)\\n            & [5:,10:,15:,10:5,15:10,20:15,15:5,20:10,20:5]\\n          }\\n        | (\\n            <>Return{(oo{.&[1:]}|aoo[1:])}\\n            & (\\n                <> ~Drawdown&~Drawup&~Since{Min}&~Since{Max}\\n                | Drawdown[1:, 5:,10:]\\n                | Since{Max&index[0]}\\n                | Since{Min&index[0,10]}\\n              )\\n            & Since[21:,62:,125:,250:]\\n          )\\n      )\\n    '\n",
    "        train_on = fullhouse\n",
    "        weight = 'flat_weight'\n",
    "        params = dict(learning_rate=0.05,max_depth=-1,num_leaves=4096,min_data_in_leaf=120,min_sum_hessian_in_leaf=100,lambda_l1=0,lambda_l2=0,num_iterations=278)\n",
    "    class aIKGZenTenDraw(NamedO()):\n",
    "        features = [\"cc\",\"oo\",\"acc\",\"aoo\",\"oo5\",\"oo10\",\"oo15\",\"aoo5\",\"aoo10\",\"aoo15\",\"oo(10-5)\",\"oo(15-10)\",\"oo(20-15)\",\"oo(15-5)\",\"oo(20-10)\",\"oo(20-5)\",\"aoo(10-5)\",\"aoo(15-10)\",\"aoo(20-15)\",\"aoo(15-5)\",\"aoo(20-10)\",\"aoo(20-5)\",\"oo1Since21\",\"oo1MaxSince21\",\"oo1Drawdown1Since21\",\"oo1Drawdown5Since21\",\"oo1Drawdown10Since21\",\"oo1MinSince21\",\"oo1MinSince21{10}\",\"aoo1Since21\",\"aoo1MaxSince21\",\"aoo1Drawdown1Since21\",\"aoo1Drawdown5Since21\",\"aoo1Drawdown10Since21\",\"aoo1MinSince21\",\"aoo1MinSince21{10}\",\"oo10Since21\",\"oo10MaxSince21\",\"oo10Drawdown1Since21\",\"oo10Drawdown5Since21\",\"oo10Drawdown10Since21\",\"oo10MinSince21\",\"oo10MinSince21{10}\",\"aoo10Since21\",\"aoo10MaxSince21\",\"aoo10Drawdown1Since21\",\"aoo10Drawdown5Since21\",\"aoo10Drawdown10Since21\",\"aoo10MinSince21\",\"aoo10MinSince21{10}\",\"oo1Since62\",\"oo1MaxSince62\",\"oo1Drawdown1Since62\",\"oo1Drawdown5Since62\",\"oo1Drawdown10Since62\",\"oo1MinSince62\",\"oo1MinSince62{10}\",\"aoo1Since62\",\"aoo1MaxSince62\",\"aoo1Drawdown1Since62\",\"aoo1Drawdown5Since62\",\"aoo1Drawdown10Since62\",\"aoo1MinSince62\",\"aoo1MinSince62{10}\",\"oo10Since62\",\"oo10MaxSince62\",\"oo10Drawdown1Since62\",\"oo10Drawdown5Since62\",\"oo10Drawdown10Since62\",\"oo10MinSince62\",\"oo10MinSince62{10}\",\"aoo10Since62\",\"aoo10MaxSince62\",\"aoo10Drawdown1Since62\",\"aoo10Drawdown5Since62\",\"aoo10Drawdown10Since62\",\"aoo10MinSince62\",\"aoo10MinSince62{10}\",\"oo1Since125\",\"oo1MaxSince125\",\"oo1Drawdown1Since125\",\"oo1Drawdown5Since125\",\"oo1Drawdown10Since125\",\"oo1MinSince125\",\"oo1MinSince125{10}\",\"aoo1Since125\",\"aoo1MaxSince125\",\"aoo1Drawdown1Since125\",\"aoo1Drawdown5Since125\",\"aoo1Drawdown10Since125\",\"aoo1MinSince125\",\"aoo1MinSince125{10}\",\"oo10Since125\",\"oo10MaxSince125\",\"oo10Drawdown1Since125\",\"oo10Drawdown5Since125\",\"oo10Drawdown10Since125\",\"oo10MinSince125\",\"oo10MinSince125{10}\",\"aoo10Since125\",\"aoo10MaxSince125\",\"aoo10Drawdown1Since125\",\"aoo10Drawdown5Since125\",\"aoo10Drawdown10Since125\",\"aoo10MinSince125\",\"aoo10MinSince125{10}\",\"oo1Since250\",\"oo1MaxSince250\",\"oo1Drawdown1Since250\",\"oo1Drawdown5Since250\",\"oo1Drawdown10Since250\",\"oo1MinSince250\",\"oo1MinSince250{10}\",\"aoo1Since250\",\"aoo1MaxSince250\",\"aoo1Drawdown1Since250\",\"aoo1Drawdown5Since250\",\"aoo1Drawdown10Since250\",\"aoo1MinSince250\",\"aoo1MinSince250{10}\",\"oo10Since250\",\"oo10MaxSince250\",\"oo10Drawdown1Since250\",\"oo10Drawdown5Since250\",\"oo10Drawdown10Since250\",\"oo10MinSince250\",\"oo10MinSince250{10}\",\"aoo10Since250\",\"aoo10MaxSince250\",\"aoo10Drawdown1Since250\",\"aoo10Drawdown5Since250\",\"aoo10Drawdown10Since250\",\"aoo10MinSince250\",\"aoo10MinSince250{10}\",\"assetCode_randMap32_0\",\"assetCode_randMap32_1\"]\n",
    "        feats_ctor = '<IKGZenTenDraw>\\n    <>~Market & (\\n        <>Return{.&pure&~digit&~TEN} & ~Since & Return{.&\\n            <>(oo|cc|aoo|acc|daoc)\\n            & index[0]\\n          }\\n        | Return{.&pure&~index} & ~Since & Return{.&\\n            <>(oo|aoo)\\n            & [5:,10:,15:,10:5,15:10,20:15,15:5,20:10,20:5]\\n          }\\n        | (\\n            <>Return{(oo{.&[1:]}|aoo[1:]|oo{.&[10:]}|aoo[10:])}\\n            & (\\n                <> ~Drawdown&~Drawup&~Since{Min}&~Since{Max}\\n                | Drawdown[1:, 5:,10:]\\n                | Since{Max&index[0]}\\n                | Since{Min&index[0,10]}\\n              )\\n            & Since[21:,62:,125:,250:]\\n          )\\n      )\\n    |\\n        <>AssetEnc{RandMap[1,0]}\\n    '\n",
    "        train_on = fullhouse\n",
    "        weight = 'flat_weight'\n",
    "        params = dict(learning_rate=0.05,max_depth=-1,num_leaves=4096,min_data_in_leaf=120,min_sum_hessian_in_leaf=100,lambda_l1=0,lambda_l2=0,num_iterations=191)\n",
    "    class aIKGHomoTenDraw(NamedO()):\n",
    "        features = [\"cc\",\"oo\",\"acc\",\"aoo\",\"oo5\",\"oo10\",\"oo15\",\"aoo5\",\"aoo10\",\"aoo15\",\"oo(10-5)\",\"oo(15-10)\",\"oo(20-15)\",\"oo(15-5)\",\"oo(20-10)\",\"oo(20-5)\",\"aoo(10-5)\",\"aoo(15-10)\",\"aoo(20-15)\",\"aoo(15-5)\",\"aoo(20-10)\",\"aoo(20-5)\",\"oo1Since21\",\"oo1MaxSince21\",\"oo1Drawdown1Since21\",\"oo1Drawdown5Since21\",\"oo1Drawdown10Since21\",\"oo1MinSince21\",\"oo1MinSince21{10}\",\"aoo1Since21\",\"aoo1MaxSince21\",\"aoo1Drawdown1Since21\",\"aoo1Drawdown5Since21\",\"aoo1Drawdown10Since21\",\"aoo1MinSince21\",\"aoo1MinSince21{10}\",\"oo10Since21\",\"oo10MaxSince21\",\"oo10Drawdown1Since21\",\"oo10Drawdown5Since21\",\"oo10Drawdown10Since21\",\"oo10MinSince21\",\"oo10MinSince21{10}\",\"aoo10Since21\",\"aoo10MaxSince21\",\"aoo10Drawdown1Since21\",\"aoo10Drawdown5Since21\",\"aoo10Drawdown10Since21\",\"aoo10MinSince21\",\"aoo10MinSince21{10}\",\"oo1Since62\",\"oo1MaxSince62\",\"oo1Drawdown1Since62\",\"oo1Drawdown5Since62\",\"oo1Drawdown10Since62\",\"oo1MinSince62\",\"oo1MinSince62{10}\",\"aoo1Since62\",\"aoo1MaxSince62\",\"aoo1Drawdown1Since62\",\"aoo1Drawdown5Since62\",\"aoo1Drawdown10Since62\",\"aoo1MinSince62\",\"aoo1MinSince62{10}\",\"oo10Since62\",\"oo10MaxSince62\",\"oo10Drawdown1Since62\",\"oo10Drawdown5Since62\",\"oo10Drawdown10Since62\",\"oo10MinSince62\",\"oo10MinSince62{10}\",\"aoo10Since62\",\"aoo10MaxSince62\",\"aoo10Drawdown1Since62\",\"aoo10Drawdown5Since62\",\"aoo10Drawdown10Since62\",\"aoo10MinSince62\",\"aoo10MinSince62{10}\",\"oo1Since125\",\"oo1MaxSince125\",\"oo1Drawdown1Since125\",\"oo1Drawdown5Since125\",\"oo1Drawdown10Since125\",\"oo1MinSince125\",\"oo1MinSince125{10}\",\"aoo1Since125\",\"aoo1MaxSince125\",\"aoo1Drawdown1Since125\",\"aoo1Drawdown5Since125\",\"aoo1Drawdown10Since125\",\"aoo1MinSince125\",\"aoo1MinSince125{10}\",\"oo10Since125\",\"oo10MaxSince125\",\"oo10Drawdown1Since125\",\"oo10Drawdown5Since125\",\"oo10Drawdown10Since125\",\"oo10MinSince125\",\"oo10MinSince125{10}\",\"aoo10Since125\",\"aoo10MaxSince125\",\"aoo10Drawdown1Since125\",\"aoo10Drawdown5Since125\",\"aoo10Drawdown10Since125\",\"aoo10MinSince125\",\"aoo10MinSince125{10}\",\"oo1Since250\",\"oo1MaxSince250\",\"oo1Drawdown1Since250\",\"oo1Drawdown5Since250\",\"oo1Drawdown10Since250\",\"oo1MinSince250\",\"oo1MinSince250{10}\",\"aoo1Since250\",\"aoo1MaxSince250\",\"aoo1Drawdown1Since250\",\"aoo1Drawdown5Since250\",\"aoo1Drawdown10Since250\",\"aoo1MinSince250\",\"aoo1MinSince250{10}\",\"oo10Since250\",\"oo10MaxSince250\",\"oo10Drawdown1Since250\",\"oo10Drawdown5Since250\",\"oo10Drawdown10Since250\",\"oo10MinSince250\",\"oo10MinSince250{10}\",\"aoo10Since250\",\"aoo10MaxSince250\",\"aoo10Drawdown1Since250\",\"aoo10Drawdown5Since250\",\"aoo10Drawdown10Since250\",\"aoo10MinSince250\",\"aoo10MinSince250{10}\"]\n",
    "        feats_ctor = '<IKGHomoTenDraw>\\n    <>~Market & (\\n        <>Return{.&pure&~digit&~TEN} & ~Since & Return{.&\\n            <>(oo|cc|aoo|acc|daoc)\\n            & index[0]\\n          }\\n        | Return{.&pure&~index} & ~Since & Return{.&\\n            <>(oo|aoo)\\n            & [5:,10:,15:,10:5,15:10,20:15,15:5,20:10,20:5]\\n          }\\n        | (\\n            <>Return{(oo{.&[1:]}|aoo[1:]|oo{.&[10:]}|aoo[10:])}\\n            & (\\n                <> ~Drawdown&~Drawup&~Since{Min}&~Since{Max}\\n                | Drawdown[1:, 5:,10:]\\n                | Since{Max&index[0]}\\n                | Since{Min&index[0,10]}\\n              )\\n            & Since[21:,62:,125:,250:]\\n          )\\n      )\\n    '\n",
    "        train_on = fullhouse\n",
    "        weight = 'flat_weight'\n",
    "        params = dict(learning_rate=0.05,max_depth=-1,num_leaves=4096,min_data_in_leaf=120,min_sum_hessian_in_leaf=100,lambda_l1=0,lambda_l2=0,num_iterations=274)\n",
    "    class aIKGZenVolatility(NamedO()):\n",
    "        features = [\"cc\",\"oo\",\"acc\",\"aoo\",\"oo5\",\"oo10\",\"oo15\",\"aoo5\",\"aoo10\",\"aoo15\",\"volatility60\",\"oo(10-5)\",\"oo(15-10)\",\"oo(20-15)\",\"oo(15-5)\",\"oo(20-10)\",\"oo(20-5)\",\"aoo(10-5)\",\"aoo(15-10)\",\"aoo(20-15)\",\"aoo(15-5)\",\"aoo(20-10)\",\"aoo(20-5)\",\"oo1Since21\",\"oo1MaxSince21\",\"oo1Drawdown1Since21\",\"oo1Drawdown5Since21\",\"oo1Drawdown10Since21\",\"oo1MinSince21\",\"oo1MinSince21{10}\",\"aoo1Since21\",\"aoo1MaxSince21\",\"aoo1Drawdown1Since21\",\"aoo1Drawdown5Since21\",\"aoo1Drawdown10Since21\",\"aoo1MinSince21\",\"aoo1MinSince21{10}\",\"volatility20MaxSince21\",\"volatility20MaxSince21{10}\",\"volatility20MinSince21\",\"volatility20MinSince21{10}\",\"oo1Since62\",\"oo1MaxSince62\",\"oo1Drawdown1Since62\",\"oo1Drawdown5Since62\",\"oo1Drawdown10Since62\",\"oo1MinSince62\",\"oo1MinSince62{10}\",\"aoo1Since62\",\"aoo1MaxSince62\",\"aoo1Drawdown1Since62\",\"aoo1Drawdown5Since62\",\"aoo1Drawdown10Since62\",\"aoo1MinSince62\",\"aoo1MinSince62{10}\",\"oo1Since125\",\"oo1MaxSince125\",\"oo1Drawdown1Since125\",\"oo1Drawdown5Since125\",\"oo1Drawdown10Since125\",\"oo1MinSince125\",\"oo1MinSince125{10}\",\"aoo1Since125\",\"aoo1MaxSince125\",\"aoo1Drawdown1Since125\",\"aoo1Drawdown5Since125\",\"aoo1Drawdown10Since125\",\"aoo1MinSince125\",\"aoo1MinSince125{10}\",\"volatility20MaxSince125\",\"volatility20MaxSince125{10}\",\"volatility20MinSince125\",\"volatility20MinSince125{10}\",\"oo1Since250\",\"oo1MaxSince250\",\"oo1Drawdown1Since250\",\"oo1Drawdown5Since250\",\"oo1Drawdown10Since250\",\"oo1MinSince250\",\"oo1MinSince250{10}\",\"aoo1Since250\",\"aoo1MaxSince250\",\"aoo1Drawdown1Since250\",\"aoo1Drawdown5Since250\",\"aoo1Drawdown10Since250\",\"aoo1MinSince250\",\"aoo1MinSince250{10}\",\"volatility20MaxSince250\",\"volatility20MaxSince250{10}\",\"volatility20MinSince250\",\"volatility20MinSince250{10}\",\"assetCode_randMap32_4\",\"assetCode_randMap32_5\"]\n",
    "        feats_ctor = '<IKGZenVolatility>\\n    <>~Market & (\\n        <>Return{.&pure&~digit&~TEN} & ~Since & Return{.&\\n            <>(oo|cc|aoo|acc|daoc)\\n            & index[0]\\n          }\\n        | Return{.&pure&~index} & ~Since & Return{.&\\n            <>(oo|aoo)\\n            & [5:,10:,15:,10:5,15:10,20:15,15:5,20:10,20:5]\\n          }\\n        | (\\n            <>Return{(oo{.&[1:]}|aoo[1:])}\\n            & (\\n                <> ~Drawdown&~Drawup&~Since{Min}&~Since{Max}\\n                | Drawdown[1:, 5:,10:]\\n                | Since{Max&index[0]}\\n                | Since{Min&index[0,10]}\\n              )\\n            & Since[21:,62:,125:,250:]\\n          )\\n        | (\\n            <> Volatility[60:]\\n            | Volatility[20:]\\n            & (\\n                | Since{Max & index[0,10]}\\n                | Since{Min & index[0,10]}\\n              )\\n            & Since[21:,65:,125:,250:]\\n          )\\n      )\\n    |\\n        <>AssetEnc{RandMap[4,5]}\\n    '\n",
    "        train_on = fullhouse\n",
    "        weight = 'flat_weight'\n",
    "        params = dict(learning_rate=0.05,max_depth=-1,num_leaves=4096,min_data_in_leaf=120,min_sum_hessian_in_leaf=100,lambda_l1=0,lambda_l2=0,num_iterations=199)\n",
    "    class aIKGHomoVolatility(NamedO()):\n",
    "        features = [\"cc\",\"oo\",\"acc\",\"aoo\",\"oo5\",\"oo10\",\"oo15\",\"aoo5\",\"aoo10\",\"aoo15\",\"volatility60\",\"oo(10-5)\",\"oo(15-10)\",\"oo(20-15)\",\"oo(15-5)\",\"oo(20-10)\",\"oo(20-5)\",\"aoo(10-5)\",\"aoo(15-10)\",\"aoo(20-15)\",\"aoo(15-5)\",\"aoo(20-10)\",\"aoo(20-5)\",\"oo1Since21\",\"oo1MaxSince21\",\"oo1Drawdown1Since21\",\"oo1Drawdown5Since21\",\"oo1Drawdown10Since21\",\"oo1MinSince21\",\"oo1MinSince21{10}\",\"aoo1Since21\",\"aoo1MaxSince21\",\"aoo1Drawdown1Since21\",\"aoo1Drawdown5Since21\",\"aoo1Drawdown10Since21\",\"aoo1MinSince21\",\"aoo1MinSince21{10}\",\"volatility20MaxSince21\",\"volatility20MaxSince21{10}\",\"volatility20MinSince21\",\"volatility20MinSince21{10}\",\"oo1Since62\",\"oo1MaxSince62\",\"oo1Drawdown1Since62\",\"oo1Drawdown5Since62\",\"oo1Drawdown10Since62\",\"oo1MinSince62\",\"oo1MinSince62{10}\",\"aoo1Since62\",\"aoo1MaxSince62\",\"aoo1Drawdown1Since62\",\"aoo1Drawdown5Since62\",\"aoo1Drawdown10Since62\",\"aoo1MinSince62\",\"aoo1MinSince62{10}\",\"oo1Since125\",\"oo1MaxSince125\",\"oo1Drawdown1Since125\",\"oo1Drawdown5Since125\",\"oo1Drawdown10Since125\",\"oo1MinSince125\",\"oo1MinSince125{10}\",\"aoo1Since125\",\"aoo1MaxSince125\",\"aoo1Drawdown1Since125\",\"aoo1Drawdown5Since125\",\"aoo1Drawdown10Since125\",\"aoo1MinSince125\",\"aoo1MinSince125{10}\",\"volatility20MaxSince125\",\"volatility20MaxSince125{10}\",\"volatility20MinSince125\",\"volatility20MinSince125{10}\",\"oo1Since250\",\"oo1MaxSince250\",\"oo1Drawdown1Since250\",\"oo1Drawdown5Since250\",\"oo1Drawdown10Since250\",\"oo1MinSince250\",\"oo1MinSince250{10}\",\"aoo1Since250\",\"aoo1MaxSince250\",\"aoo1Drawdown1Since250\",\"aoo1Drawdown5Since250\",\"aoo1Drawdown10Since250\",\"aoo1MinSince250\",\"aoo1MinSince250{10}\",\"volatility20MaxSince250\",\"volatility20MaxSince250{10}\",\"volatility20MinSince250\",\"volatility20MinSince250{10}\"]\n",
    "        feats_ctor = '<IKGHomoVolatility>\\n    <>~Market & (\\n        <>Return{.&pure&~digit&~TEN} & ~Since & Return{.&\\n            <>(oo|cc|aoo|acc|daoc)\\n            & index[0]\\n          }\\n        | Return{.&pure&~index} & ~Since & Return{.&\\n            <>(oo|aoo)\\n            & [5:,10:,15:,10:5,15:10,20:15,15:5,20:10,20:5]\\n          }\\n        | (\\n            <>Return{(oo{.&[1:]}|aoo[1:])}\\n            & (\\n                <> ~Drawdown&~Drawup&~Since{Min}&~Since{Max}\\n                | Drawdown[1:, 5:,10:]\\n                | Since{Max&index[0]}\\n                | Since{Min&index[0,10]}\\n              )\\n            & Since[21:,62:,125:,250:]\\n          )\\n        | (\\n            <> Volatility[60:]\\n            | Volatility[20:]\\n            & (\\n                | Since{Max & index[0,10]}\\n                | Since{Min & index[0,10]}\\n              )\\n            & Since[21:,65:,125:,250:]\\n          )\\n      )\\n    |\\n    '\n",
    "        train_on = fullhouse\n",
    "        weight = 'flat_weight'\n",
    "        params = dict(learning_rate=0.05,max_depth=-1,num_leaves=4096,min_data_in_leaf=120,min_sum_hessian_in_leaf=100,lambda_l1=0,lambda_l2=0,num_iterations=281)\n",
    "    class aAnother(NamedO()):\n",
    "        features = [\"oo\",\"aoo\",\"dayOfYear\",\"dayOfWeek\",\"oo15\",\"oo3\",\"oo6\",\"oo9\",\"oo12\",\"oo18\",\"aoo15\",\"aoo3\",\"aoo6\",\"aoo9\",\"aoo12\",\"aoo18\",\"oo{0/1}\",\"oo{0/2}\",\"oo{1/2}\",\"oo{1}\",\"oo{2}\",\"(oo-aoo){0/1}\",\"(oo-aoo){0/2}\",\"(oo-aoo){1/2}\",\"(oo-aoo){1}\",\"(oo-aoo){2}\",\"(oo-cc){0/1}\",\"(oo-cc){0/2}\",\"(oo-cc){1/2}\",\"(oo-cc){1}\",\"(oo-cc){2}\",\"(aoo-acc){0/1}\",\"(aoo-acc){0/2}\",\"(aoo-acc){1/2}\",\"(aoo-acc){1}\",\"(aoo-acc){2}\",\"vp1dd{0/1}\",\"vp1dd{0/2}\",\"vp1dd{1/2}\",\"vp1dd\",\"vp1dd{1}\",\"vp1dd{2}\",\"oo1Since21\",\"oo1MaxSince21\",\"oo1Drawdown5Since21\",\"oo1Drawdown(10-5)Since21\",\"oo1Drawdown(20-10)Since21\",\"oo1MaxSince21{10}\",\"oo1MinSince21\",\"oo1Drawup5Since21\",\"oo1Drawup(10-5)Since21\",\"oo1Drawup(20-10)Since21\",\"oo1MinSince21{10}\",\"aoo1Since21\",\"aoo1MaxSince21\",\"aoo1Drawdown5Since21\",\"aoo1Drawdown(10-5)Since21\",\"aoo1Drawdown(20-10)Since21\",\"aoo1MaxSince21{10}\",\"aoo1MinSince21\",\"aoo1Drawup5Since21\",\"aoo1Drawup(10-5)Since21\",\"aoo1Drawup(20-10)Since21\",\"aoo1MinSince21{10}\",\"vp1dd1Since21\",\"vp1dd1MaxSince21\",\"vp1dd1Drawdown5Since21\",\"vp1dd1Drawdown(10-5)Since21\",\"vp1dd1Drawdown(20-10)Since21\",\"vp1dd1MaxSince21{10}\",\"vp1dd1MinSince21\",\"vp1dd1Drawup5Since21\",\"vp1dd1Drawup(10-5)Since21\",\"vp1dd1Drawup(20-10)Since21\",\"vp1dd1MinSince21{10}\",\"oo1Since62\",\"oo1MaxSince62\",\"oo1Drawdown5Since62\",\"oo1Drawdown(10-5)Since62\",\"oo1Drawdown(20-10)Since62\",\"oo1MaxSince62{10}\",\"oo1MinSince62\",\"oo1Drawup5Since62\",\"oo1Drawup(10-5)Since62\",\"oo1Drawup(20-10)Since62\",\"oo1MinSince62{10}\",\"aoo1Since62\",\"aoo1MaxSince62\",\"aoo1Drawdown5Since62\",\"aoo1Drawdown(10-5)Since62\",\"aoo1Drawdown(20-10)Since62\",\"aoo1MaxSince62{10}\",\"aoo1MinSince62\",\"aoo1Drawup5Since62\",\"aoo1Drawup(10-5)Since62\",\"aoo1Drawup(20-10)Since62\",\"aoo1MinSince62{10}\",\"vp1dd1Since62\",\"vp1dd1MaxSince62\",\"vp1dd1Drawdown5Since62\",\"vp1dd1Drawdown(10-5)Since62\",\"vp1dd1Drawdown(20-10)Since62\",\"vp1dd1MaxSince62{10}\",\"vp1dd1MinSince62\",\"vp1dd1Drawup5Since62\",\"vp1dd1Drawup(10-5)Since62\",\"vp1dd1Drawup(20-10)Since62\",\"vp1dd1MinSince62{10}\"]\n",
    "        feats_ctor = '<Another>\\n    <>~Market & (\\n        <>Return{.&pure&~digit&~TEN} & ~Since & Return{.&\\n            <>(oo|aoo|doo|doc|daoc|vp1dd)\\n            & index[0,1,2,0:1,1:2,0:2]\\n          }\\n        | Return{.&pure&~index} & ~Since & Return{.&\\n            <>(oo|aoo)\\n            & [3:,6:,9:,12:,15:,18:,6:3,9:6,12:9,15:12,18:15,21:18,9:3,12:6,            15:9,18:12,21:15,12:3,15:6,18:9,21:12,15:3,18:6,21:9,18:3,21:6,21:3]\\n          }\\n        | (\\n            <>Return{(oo{.&[1:]}|aoo[1:]|vp1dd)}\\n            & (\\n                <> ~Drawdown&~Drawup&~Since{Min}&~Since{Max}\\n                | Drawdown[5:,10:5,20:10]\\n                | Since{Min&index[0,10]}\\n                | Drawup[5:,10:5,20:10]\\n                | Since{Max&index[0,10]}\\n              )\\n            & Since[21:,62:]\\n          )\\n      )\\n    |\\n        Time{long | short}\\n    '\n",
    "        train_on = fullhouse\n",
    "        weight = 'flat_weight'\n",
    "        params = dict(learning_rate=0.05,max_depth=-1,num_leaves=4096,min_data_in_leaf=120,min_sum_hessian_in_leaf=100,lambda_l1=0,lambda_l2=0,num_iterations=72)\n",
    "    class aGlobal(NamedO()):\n",
    "        features = [\"cc\",\"oo\",\"acc\",\"aoo\",\"oo15\",\"oo3\",\"oo6\",\"oo9\",\"oo12\",\"oo18\",\"aoo15\",\"aoo3\",\"aoo6\",\"aoo9\",\"aoo12\",\"aoo18\",\"(oo-aoo)15\",\"(oo-aoo)3\",\"(oo-aoo)6\",\"(oo-aoo)9\",\"(oo-aoo)12\",\"(oo-aoo)18\",\"volatility20\",\"volatility60\",\"vp20\",\"vp60\",\"oo{1}\",\"oo{2}\",\"(oo-aoo){1}\",\"(oo-aoo){2}\",\"(cc-acc){1}\",\"(cc-acc){2}\",\"(oo-cc){1}\",\"(oo-cc){2}\",\"(aoo-acc){1}\",\"(aoo-acc){2}\",\"oo1Since21\",\"oo1MaxSince21\",\"oo1Drawdown1Since21\",\"oo1Drawdown10Since21\",\"oo1Drawdown20Since21\",\"oo1MaxSince21{20}\",\"oo1MinSince21\",\"oo1MinSince21{20}\",\"aoo1Since21\",\"aoo1MaxSince21\",\"aoo1Drawdown1Since21\",\"aoo1Drawdown10Since21\",\"aoo1Drawdown20Since21\",\"aoo1MaxSince21{20}\",\"aoo1MinSince21\",\"aoo1MinSince21{20}\",\"(oo-aoo)1Since21\",\"(oo-aoo)1MaxSince21\",\"(oo-aoo)1Drawdown1Since21\",\"(oo-aoo)1Drawdown10Since21\",\"(oo-aoo)1Drawdown20Since21\",\"(oo-aoo)1MaxSince21{20}\",\"(oo-aoo)1MinSince21\",\"(oo-aoo)1MinSince21{20}\",\"volatility20MaxSince21\",\"volatility20Drawdown1Since21\",\"volatility20Drawdown5Since21\",\"volatility20Drawdown10Since21\",\"volatility20Drawdown20Since21\",\"volatility20Drawdown(10-5)Since21\",\"volatility20Drawdown(20-10)Since21\",\"volatility20MaxSince21{5}\",\"volatility20MaxSince21{10}\",\"volatility20MaxSince21{20}\",\"volatility20MinSince21\",\"volatility20Drawup1Since21\",\"volatility20Drawup5Since21\",\"volatility20Drawup10Since21\",\"volatility20Drawup20Since21\",\"volatility20Drawup(10-5)Since21\",\"volatility20Drawup(20-10)Since21\",\"volatility20MinSince21{5}\",\"volatility20MinSince21{10}\",\"volatility20MinSince21{20}\",\"oo1Since62\",\"oo1MaxSince62\",\"oo1Drawdown1Since62\",\"oo1Drawdown10Since62\",\"oo1Drawdown20Since62\",\"oo1MaxSince62{20}\",\"oo1MinSince62\",\"oo1MinSince62{20}\",\"aoo1Since62\",\"aoo1MaxSince62\",\"aoo1Drawdown1Since62\",\"aoo1Drawdown10Since62\",\"aoo1Drawdown20Since62\",\"aoo1MaxSince62{20}\",\"aoo1MinSince62\",\"aoo1MinSince62{20}\",\"(oo-aoo)1Since62\",\"(oo-aoo)1MaxSince62\",\"(oo-aoo)1Drawdown1Since62\",\"(oo-aoo)1Drawdown10Since62\",\"(oo-aoo)1Drawdown20Since62\",\"(oo-aoo)1MaxSince62{20}\",\"(oo-aoo)1MinSince62\",\"(oo-aoo)1MinSince62{20}\",\"volatility20MaxSince62\",\"volatility20Drawdown1Since62\",\"volatility20Drawdown5Since62\",\"volatility20Drawdown10Since62\",\"volatility20Drawdown20Since62\",\"volatility20Drawdown(10-5)Since62\",\"volatility20Drawdown(20-10)Since62\",\"volatility20MaxSince62{5}\",\"volatility20MaxSince62{10}\",\"volatility20MaxSince62{20}\",\"volatility20MinSince62\",\"volatility20Drawup1Since62\",\"volatility20Drawup5Since62\",\"volatility20Drawup10Since62\",\"volatility20Drawup20Since62\",\"volatility20Drawup(10-5)Since62\",\"volatility20Drawup(20-10)Since62\",\"volatility20MinSince62{5}\",\"volatility20MinSince62{10}\",\"volatility20MinSince62{20}\",\"volatility20MaxSince125\",\"volatility20Drawdown1Since125\",\"volatility20Drawdown5Since125\",\"volatility20Drawdown10Since125\",\"volatility20Drawdown20Since125\",\"volatility20Drawdown(10-5)Since125\",\"volatility20Drawdown(20-10)Since125\",\"volatility20MaxSince125{5}\",\"volatility20MaxSince125{10}\",\"volatility20MaxSince125{20}\",\"volatility20MinSince125\",\"volatility20Drawup1Since125\",\"volatility20Drawup5Since125\",\"volatility20Drawup10Since125\",\"volatility20Drawup20Since125\",\"volatility20Drawup(10-5)Since125\",\"volatility20Drawup(20-10)Since125\",\"volatility20MinSince125{5}\",\"volatility20MinSince125{10}\",\"volatility20MinSince125{20}\",\"fracRecordedDaysSince250\",\"oo1Since250\",\"oo1MaxSince250\",\"oo1Drawdown1Since250\",\"oo1Drawdown10Since250\",\"oo1Drawdown20Since250\",\"oo1MaxSince250{20}\",\"oo1MinSince250\",\"oo1MinSince250{20}\",\"aoo1Since250\",\"aoo1MaxSince250\",\"aoo1Drawdown1Since250\",\"aoo1Drawdown10Since250\",\"aoo1Drawdown20Since250\",\"aoo1MaxSince250{20}\",\"aoo1MinSince250\",\"aoo1MinSince250{20}\",\"(oo-aoo)1Since250\",\"(oo-aoo)1MaxSince250\",\"(oo-aoo)1Drawdown1Since250\",\"(oo-aoo)1Drawdown10Since250\",\"(oo-aoo)1Drawdown20Since250\",\"(oo-aoo)1MaxSince250{20}\",\"(oo-aoo)1MinSince250\",\"(oo-aoo)1MinSince250{20}\",\"volatility20MaxSince250\",\"volatility20Drawdown1Since250\",\"volatility20Drawdown5Since250\",\"volatility20Drawdown10Since250\",\"volatility20Drawdown20Since250\",\"volatility20Drawdown(10-5)Since250\",\"volatility20Drawdown(20-10)Since250\",\"volatility20MaxSince250{5}\",\"volatility20MaxSince250{10}\",\"volatility20MaxSince250{20}\",\"volatility20MinSince250\",\"volatility20Drawup1Since250\",\"volatility20Drawup5Since250\",\"volatility20Drawup10Since250\",\"volatility20Drawup20Since250\",\"volatility20Drawup(10-5)Since250\",\"volatility20Drawup(20-10)Since250\",\"volatility20MinSince250{5}\",\"volatility20MinSince250{10}\",\"volatility20MinSince250{20}\",\"wVPm_volatility20\",\"wVPm_volatility60\"]\n",
    "        feats_ctor = '<Global>\\n    <>~Market & (\\n        <>Return{.&pure&~digit&~TEN} & ~Since & Return{.&\\n            <>(oo|cc|aoo|acc|doo|dcc|doc|daoc)\\n            & index[0,1,2]\\n          }\\n        | Return{.&pure&~index} & ~Since & Return{.&\\n            <>(oo|aoo|doo)\\n            & [3:,6:,9:,12:,15:,18:,6:3,9:6,12:9,15:12,18:15,21:18,9:3,12:6,            15:9,18:12,21:15,12:3,15:6,18:9,21:12,15:3,18:6,21:9,18:3,21:6,21:3]\\n          }\\n        | (\\n            <>Return{(oo{.&[1:]}|aoo[1:]|doo[1:])}\\n            & (\\n                <> ~Drawdown&~Drawup&~Since{Min}&~Since{Max}\\n                | Drawdown[1:,10:,20:,]\\n                | Since{Max&index[0,20]}\\n                | Since{Min&index[0,20]}\\n              )\\n            & Since[21:,62:,250:]\\n          )\\n        | (\\n            <> Volatility[20:,60:]\\n          )\\n      )\\n    | Market{.&\\n        <>(Weight)\\n        & (VP|Volatility)\\n        & [20:,60:]\\n      }\\n    |\\n        <>Return{pure&~dd} & VP[20:,60:]\\n        | FracRec[250:]\\n    '\n",
    "        train_on = fullhouse\n",
    "        weight = 'flat_weight'\n",
    "        params = dict(learning_rate=0.05,max_depth=-1,num_leaves=4096,min_data_in_leaf=120,min_sum_hessian_in_leaf=100,lambda_l1=0,lambda_l2=0,num_iterations=68)\n",
    "    class aIKGHomoThree(NamedO()):\n",
    "        features = [\"cc\",\"oo\",\"acc\",\"aoo\",\"oo15\",\"oo3\",\"oo6\",\"oo9\",\"oo12\",\"oo18\",\"aoo15\",\"aoo3\",\"aoo6\",\"aoo9\",\"aoo12\",\"aoo18\",\"oo1Since21\",\"oo1MaxSince21\",\"oo1Drawdown1Since21\",\"oo1Drawdown5Since21\",\"oo1Drawdown10Since21\",\"oo1MinSince21\",\"oo1MinSince21{10}\",\"aoo1Since21\",\"aoo1MaxSince21\",\"aoo1Drawdown1Since21\",\"aoo1Drawdown5Since21\",\"aoo1Drawdown10Since21\",\"aoo1MinSince21\",\"aoo1MinSince21{10}\",\"oo1Since62\",\"oo1MaxSince62\",\"oo1Drawdown1Since62\",\"oo1Drawdown5Since62\",\"oo1Drawdown10Since62\",\"oo1MinSince62\",\"oo1MinSince62{10}\",\"aoo1Since62\",\"aoo1MaxSince62\",\"aoo1Drawdown1Since62\",\"aoo1Drawdown5Since62\",\"aoo1Drawdown10Since62\",\"aoo1MinSince62\",\"aoo1MinSince62{10}\",\"oo1Since125\",\"oo1MaxSince125\",\"oo1Drawdown1Since125\",\"oo1Drawdown5Since125\",\"oo1Drawdown10Since125\",\"oo1MinSince125\",\"oo1MinSince125{10}\",\"aoo1Since125\",\"aoo1MaxSince125\",\"aoo1Drawdown1Since125\",\"aoo1Drawdown5Since125\",\"aoo1Drawdown10Since125\",\"aoo1MinSince125\",\"aoo1MinSince125{10}\",\"oo1Since250\",\"oo1MaxSince250\",\"oo1Drawdown1Since250\",\"oo1Drawdown5Since250\",\"oo1Drawdown10Since250\",\"oo1MinSince250\",\"oo1MinSince250{10}\",\"aoo1Since250\",\"aoo1MaxSince250\",\"aoo1Drawdown1Since250\",\"aoo1Drawdown5Since250\",\"aoo1Drawdown10Since250\",\"aoo1MinSince250\",\"aoo1MinSince250{10}\"]\n",
    "        feats_ctor = '<IKGHomoThree>\\n    <>~Market & (\\n        <>Return{.&pure&~digit&~TEN} & ~Since & Return{.&\\n            <>(oo|cc|aoo|acc|daoc)\\n            & index[0]\\n          }\\n        | Return{.&pure&~index} & ~Since & Return{.&\\n            <>(oo|aoo)\\n            & [3:,6:,9:,12:,15:,18:,6:3,9:6,12:9,15:12,18:15,21:18,9:3,12:6,            15:9,18:12,21:15,12:3,15:6,18:9,21:12,15:3,18:6,21:9,18:3,21:6,21:3]\\n          }\\n        | (\\n            <>Return{(oo{.&[1:]}|aoo[1:])}\\n            & (\\n                <> ~Drawdown&~Drawup&~Since{Min}&~Since{Max}\\n                | Drawdown[1:, 5:,10:]\\n                | Since{Max&index[0]}\\n                | Since{Min&index[0,10]}\\n              )\\n            & Since[21:,62:,125:,250:]\\n          )\\n      )\\n    '\n",
    "        train_on = fullhouse\n",
    "        weight = 'flat_weight'\n",
    "        params = dict(learning_rate=0.05,max_depth=-1,num_leaves=4096,min_data_in_leaf=120,min_sum_hessian_in_leaf=100,lambda_l1=0,lambda_l2=0,num_iterations=218)\n",
    "    class aIKGZenThree(NamedO()):\n",
    "        features = [\"cc\",\"oo\",\"acc\",\"aoo\",\"oo15\",\"oo3\",\"oo6\",\"oo9\",\"oo12\",\"oo18\",\"aoo15\",\"aoo3\",\"aoo6\",\"aoo9\",\"aoo12\",\"aoo18\",\"oo1Since21\",\"oo1MaxSince21\",\"oo1Drawdown1Since21\",\"oo1Drawdown5Since21\",\"oo1Drawdown10Since21\",\"oo1MinSince21\",\"oo1MinSince21{10}\",\"aoo1Since21\",\"aoo1MaxSince21\",\"aoo1Drawdown1Since21\",\"aoo1Drawdown5Since21\",\"aoo1Drawdown10Since21\",\"aoo1MinSince21\",\"aoo1MinSince21{10}\",\"oo1Since62\",\"oo1MaxSince62\",\"oo1Drawdown1Since62\",\"oo1Drawdown5Since62\",\"oo1Drawdown10Since62\",\"oo1MinSince62\",\"oo1MinSince62{10}\",\"aoo1Since62\",\"aoo1MaxSince62\",\"aoo1Drawdown1Since62\",\"aoo1Drawdown5Since62\",\"aoo1Drawdown10Since62\",\"aoo1MinSince62\",\"aoo1MinSince62{10}\",\"oo1Since125\",\"oo1MaxSince125\",\"oo1Drawdown1Since125\",\"oo1Drawdown5Since125\",\"oo1Drawdown10Since125\",\"oo1MinSince125\",\"oo1MinSince125{10}\",\"aoo1Since125\",\"aoo1MaxSince125\",\"aoo1Drawdown1Since125\",\"aoo1Drawdown5Since125\",\"aoo1Drawdown10Since125\",\"aoo1MinSince125\",\"aoo1MinSince125{10}\",\"oo1Since250\",\"oo1MaxSince250\",\"oo1Drawdown1Since250\",\"oo1Drawdown5Since250\",\"oo1Drawdown10Since250\",\"oo1MinSince250\",\"oo1MinSince250{10}\",\"aoo1Since250\",\"aoo1MaxSince250\",\"aoo1Drawdown1Since250\",\"aoo1Drawdown5Since250\",\"aoo1Drawdown10Since250\",\"aoo1MinSince250\",\"aoo1MinSince250{10}\",\"assetCode_randMap32_2\",\"assetCode_randMap32_3\"]\n",
    "        feats_ctor = '<IKGZenThree>\\n    <>~Market & (\\n        <>Return{.&pure&~digit&~TEN} & ~Since & Return{.&\\n            <>(oo|cc|aoo|acc|daoc)\\n            & index[0]\\n          }\\n        | Return{.&pure&~index} & ~Since & Return{.&\\n            <>(oo|aoo)\\n            & [3:,6:,9:,12:,15:,18:,6:3,9:6,12:9,15:12,18:15,21:18,9:3,12:6,            15:9,18:12,21:15,12:3,15:6,18:9,21:12,15:3,18:6,21:9,18:3,21:6,21:3]\\n          }\\n        | (\\n            <>Return{(oo{.&[1:]}|aoo[1:])}\\n            & (\\n                <> ~Drawdown&~Drawup&~Since{Min}&~Since{Max}\\n                | Drawdown[1:, 5:,10:]\\n                | Since{Max&index[0]}\\n                | Since{Min&index[0,10]}\\n              )\\n            & Since[21:,62:,125:,250:]\\n          )\\n      )\\n    |\\n        <>AssetEnc{RandMap[2,3]}\\n    '\n",
    "        train_on = fullhouse\n",
    "        weight = 'flat_weight'\n",
    "        params = dict(learning_rate=0.05,max_depth=-1,num_leaves=4096,min_data_in_leaf=120,min_sum_hessian_in_leaf=100,lambda_l1=0,lambda_l2=0,num_iterations=320)\n",
    "    class aIKGZenThreeVP1(NamedO()):\n",
    "        features = [\"cc\",\"oo\",\"acc\",\"aoo\",\"oo15\",\"oo3\",\"oo6\",\"oo9\",\"oo12\",\"oo18\",\"aoo15\",\"aoo3\",\"aoo6\",\"aoo9\",\"aoo12\",\"aoo18\",\"vp1dd15\",\"vp1dd3\",\"vp1dd6\",\"vp1dd9\",\"vp1dd12\",\"vp1dd18\",\"vp1dd\",\"oo1Since21\",\"oo1MaxSince21\",\"oo1Drawdown1Since21\",\"oo1Drawdown5Since21\",\"oo1Drawdown10Since21\",\"oo1MinSince21\",\"oo1MinSince21{10}\",\"aoo1Since21\",\"aoo1MaxSince21\",\"aoo1Drawdown1Since21\",\"aoo1Drawdown5Since21\",\"aoo1Drawdown10Since21\",\"aoo1MinSince21\",\"aoo1MinSince21{10}\",\"vp1dd1Since21\",\"vp1dd1MaxSince21\",\"vp1dd1Drawdown1Since21\",\"vp1dd1Drawdown5Since21\",\"vp1dd1Drawdown10Since21\",\"vp1dd1MinSince21\",\"vp1dd1MinSince21{10}\",\"oo1Since62\",\"oo1MaxSince62\",\"oo1Drawdown1Since62\",\"oo1Drawdown5Since62\",\"oo1Drawdown10Since62\",\"oo1MinSince62\",\"oo1MinSince62{10}\",\"aoo1Since62\",\"aoo1MaxSince62\",\"aoo1Drawdown1Since62\",\"aoo1Drawdown5Since62\",\"aoo1Drawdown10Since62\",\"aoo1MinSince62\",\"aoo1MinSince62{10}\",\"vp1dd1Since62\",\"vp1dd1MaxSince62\",\"vp1dd1Drawdown1Since62\",\"vp1dd1Drawdown5Since62\",\"vp1dd1Drawdown10Since62\",\"vp1dd1MinSince62\",\"vp1dd1MinSince62{10}\",\"oo1Since125\",\"oo1MaxSince125\",\"oo1Drawdown1Since125\",\"oo1Drawdown5Since125\",\"oo1Drawdown10Since125\",\"oo1MinSince125\",\"oo1MinSince125{10}\",\"aoo1Since125\",\"aoo1MaxSince125\",\"aoo1Drawdown1Since125\",\"aoo1Drawdown5Since125\",\"aoo1Drawdown10Since125\",\"aoo1MinSince125\",\"aoo1MinSince125{10}\",\"vp1dd1Since125\",\"vp1dd1MaxSince125\",\"vp1dd1Drawdown1Since125\",\"vp1dd1Drawdown5Since125\",\"vp1dd1Drawdown10Since125\",\"vp1dd1MinSince125\",\"vp1dd1MinSince125{10}\",\"oo1Since250\",\"oo1MaxSince250\",\"oo1Drawdown1Since250\",\"oo1Drawdown5Since250\",\"oo1Drawdown10Since250\",\"oo1MinSince250\",\"oo1MinSince250{10}\",\"aoo1Since250\",\"aoo1MaxSince250\",\"aoo1Drawdown1Since250\",\"aoo1Drawdown5Since250\",\"aoo1Drawdown10Since250\",\"aoo1MinSince250\",\"aoo1MinSince250{10}\",\"vp1dd1Since250\",\"vp1dd1MaxSince250\",\"vp1dd1Drawdown1Since250\",\"vp1dd1Drawdown5Since250\",\"vp1dd1Drawdown10Since250\",\"vp1dd1MinSince250\",\"vp1dd1MinSince250{10}\",\"assetCode_randMap32_2\",\"assetCode_randMap32_3\"]\n",
    "        feats_ctor = '<IKGZenThreeVP1>\\n    <>~Market & (\\n        <>Return{.&pure&~digit&~TEN} & ~Since & Return{.&\\n            <>(oo|cc|aoo|acc|daoc|vp1dd)\\n            & index[0]\\n          }\\n        | Return{.&pure&~index} & ~Since & Return{.&\\n            <>(oo|aoo|vp1dd)\\n            & [3:,6:,9:,12:,15:,18:,6:3,9:6,12:9,15:12,18:15,21:18,9:3,12:6,            15:9,18:12,21:15,12:3,15:6,18:9,21:12,15:3,18:6,21:9,18:3,21:6,21:3]\\n          }\\n        | (\\n            <>Return{(oo{.&[1:]}|aoo[1:]|vp1dd)}\\n            & (\\n                <> ~Drawdown&~Drawup&~Since{Min}&~Since{Max}\\n                | Drawdown[1:, 5:,10:]\\n                | Since{Max&index[0]}\\n                | Since{Min&index[0,10]}\\n              )\\n            & Since[21:,62:,125:,250:]\\n          )\\n      )\\n    |\\n        <>AssetEnc{RandMap[2,3]}\\n    '\n",
    "        train_on = fullhouse\n",
    "        weight = 'flat_weight'\n",
    "        params = dict(learning_rate=0.05,max_depth=-1,num_leaves=4096,min_data_in_leaf=120,min_sum_hessian_in_leaf=100,lambda_l1=0,lambda_l2=0,num_iterations=481)\n",
    "    class aIKGZenThreeMoreShort(NamedO()):\n",
    "        features = [\"cc\",\"oo\",\"acc\",\"aoo\",\"oo15\",\"oo3\",\"oo6\",\"oo9\",\"oo12\",\"oo18\",\"aoo15\",\"aoo3\",\"aoo6\",\"aoo9\",\"aoo12\",\"aoo18\",\"oo{0/1}\",\"oo{0/2}\",\"oo{1/2}\",\"oo{1}\",\"oo{2}\",\"(aoo-acc){0/1}\",\"(aoo-acc){0/2}\",\"(aoo-acc){1/2}\",\"(aoo-acc){1}\",\"(aoo-acc){2}\",\"oo1Since21\",\"oo1MaxSince21\",\"oo1Drawdown1Since21\",\"oo1Drawdown5Since21\",\"oo1Drawdown10Since21\",\"oo1MinSince21\",\"oo1MinSince21{10}\",\"aoo1Since21\",\"aoo1MaxSince21\",\"aoo1Drawdown1Since21\",\"aoo1Drawdown5Since21\",\"aoo1Drawdown10Since21\",\"aoo1MinSince21\",\"aoo1MinSince21{10}\",\"oo1Since62\",\"oo1MaxSince62\",\"oo1Drawdown1Since62\",\"oo1Drawdown5Since62\",\"oo1Drawdown10Since62\",\"oo1MinSince62\",\"oo1MinSince62{10}\",\"aoo1Since62\",\"aoo1MaxSince62\",\"aoo1Drawdown1Since62\",\"aoo1Drawdown5Since62\",\"aoo1Drawdown10Since62\",\"aoo1MinSince62\",\"aoo1MinSince62{10}\",\"oo1Since125\",\"oo1MaxSince125\",\"oo1Drawdown1Since125\",\"oo1Drawdown5Since125\",\"oo1Drawdown10Since125\",\"oo1MinSince125\",\"oo1MinSince125{10}\",\"aoo1Since125\",\"aoo1MaxSince125\",\"aoo1Drawdown1Since125\",\"aoo1Drawdown5Since125\",\"aoo1Drawdown10Since125\",\"aoo1MinSince125\",\"aoo1MinSince125{10}\",\"oo1Since250\",\"oo1MaxSince250\",\"oo1Drawdown1Since250\",\"oo1Drawdown5Since250\",\"oo1Drawdown10Since250\",\"oo1MinSince250\",\"oo1MinSince250{10}\",\"aoo1Since250\",\"aoo1MaxSince250\",\"aoo1Drawdown1Since250\",\"aoo1Drawdown5Since250\",\"aoo1Drawdown10Since250\",\"aoo1MinSince250\",\"aoo1MinSince250{10}\",\"assetCode_randMap32_2\",\"assetCode_randMap32_3\"]\n",
    "        feats_ctor = '<IKGZenThreeMoreShort>\\n    <>~Market & (\\n        <>Return{.&pure&~digit&~TEN} & ~Since & Return{.&\\n            <>(oo|cc|aoo|acc|daoc)\\n            & index[0,1,2,0:1,1:2,0:2]\\n          }\\n        | Return{.&pure&~index} & ~Since & Return{.&\\n            <>(oo|aoo)\\n            & [3:,6:,9:,12:,15:,18:,6:3,9:6,12:9,15:12,18:15,21:18,9:3,12:6,            15:9,18:12,21:15,12:3,15:6,18:9,21:12,15:3,18:6,21:9,18:3,21:6,21:3]\\n          }\\n        | (\\n            <>Return{(oo{.&[1:]}|aoo[1:])}\\n            & (\\n                <> ~Drawdown&~Drawup&~Since{Min}&~Since{Max}\\n                | Drawdown[1:, 5:,10:]\\n                | Since{Max&index[0]}\\n                | Since{Min&index[0,10]}\\n              )\\n            & Since[21:,62:,125:,250:]\\n          )\\n      )\\n    |\\n        <>AssetEnc{RandMap[2,3]}\\n    '\n",
    "        train_on = fullhouse\n",
    "        weight = 'flat_weight'\n",
    "        params = dict(learning_rate=0.05,max_depth=-1,num_leaves=4096,min_data_in_leaf=120,min_sum_hessian_in_leaf=100,lambda_l1=0,lambda_l2=0,num_iterations=267)\n",
    "    class as20(NamedO()):\n",
    "        features = [\"dayOfYear\",\"oo15\",\"aoo15\",\"vp1dd15\",\"volatility60\",\"vp60\",\"fracRecordedDaysSince21\",\"oo10MaxSince21\",\"oo10Drawdown5Since21\",\"oo10Drawdown10Since21\",\"oo10Drawdown20Since21\",\"oo10MaxSince21{5}\",\"oo10MinSince21\",\"oo10MinSince21{5}\",\"(oo-aoo)10MaxSince21\",\"(oo-aoo)10Drawdown5Since21\",\"(oo-aoo)10Drawdown10Since21\",\"(oo-aoo)10Drawdown20Since21\",\"(oo-aoo)10MaxSince21{5}\",\"(oo-aoo)10MinSince21\",\"(oo-aoo)10MinSince21{5}\",\"oo10MaxSince62\",\"oo10Drawdown5Since62\",\"oo10Drawdown10Since62\",\"oo10Drawdown20Since62\",\"oo10MaxSince62{5}\",\"oo10MinSince62\",\"oo10MinSince62{5}\",\"(oo-aoo)10MaxSince62\",\"(oo-aoo)10Drawdown5Since62\",\"(oo-aoo)10Drawdown10Since62\",\"(oo-aoo)10Drawdown20Since62\",\"(oo-aoo)10MaxSince62{5}\",\"(oo-aoo)10MinSince62\",\"(oo-aoo)10MinSince62{5}\",\"oo10MaxSince250\",\"oo10Drawdown5Since250\",\"oo10Drawdown10Since250\",\"oo10Drawdown20Since250\",\"oo10MaxSince250{5}\",\"oo10MinSince250\",\"oo10MinSince250{5}\",\"(oo-aoo)10MaxSince250\",\"(oo-aoo)10Drawdown5Since250\",\"(oo-aoo)10Drawdown10Since250\",\"(oo-aoo)10Drawdown20Since250\",\"(oo-aoo)10MaxSince250{5}\",\"(oo-aoo)10MinSince250\",\"(oo-aoo)10MinSince250{5}\",\"volatility10MaxSince250\",\"volatility10MaxSince250{5}\",\"volatility10MinSince250{10}\",\"volatility20MaxSince250\",\"volatility20MaxSince250{5}\",\"volatility20MinSince250{10}\"]\n",
    "        feats_ctor = '<s20>    <>~Market & (\\n        | Return{.&pure&~index} & ~Since & Return{.&\\n            <>(oo|aoo|vp1dd|Volatility)\\n            & [15:,6:3,9:6,12:9,12:6,18:12,18:9,21:12,18:6,21:9,18:3,21:6,21:3]\\n          }\\n        | (\\n            <>Return{(oo{.&[10:]}|doo[10:])}\\n            & (\\n                | Drawdown[ 5:,10:,20:]\\n                | Since{Max&index[0,5]}\\n                | Since{Min&index[0,5]}\\n              )\\n            & Since[21:, 62:, 250:]\\n          )\\n        | (\\n            <> Volatility[ 60:]\\n            | Volatility[10:, 20:]\\n            & (\\n                | Since{Max & index[0,5]}\\n                | Since{Min & index[10]}\\n              )\\n            & Since[ 250:]\\n          )\\n      )\\n    |\\n        <>Return{pure&~dd} & VP[60:]\\n        | FracRec[21:]\\n    |\\n        Time{long}'\n",
    "        train_on = fullhouse\n",
    "        weight = 'flat_weight'\n",
    "        params = dict(learning_rate=0.05,max_depth=-1,num_leaves=4096,min_data_in_leaf=120,min_sum_hessian_in_leaf=100,lambda_l1=0,lambda_l2=0,num_iterations=94)\n",
    "    class as21(NamedO()):\n",
    "        features = [\"(oo-aoo)5\",\"(oo-aoo)15\",\"(oo-aoo)(10-5)\",\"(oo-aoo)(15-10)\",\"(oo-aoo)(20-15)\",\"(oo-aoo)(15-5)\",\"(oo-aoo)(20-5)\",\"vp1dd{0/1}\",\"vp1dd\",\"vp1dd{2}\",\"fracRecordedDaysSince21\",\"oo1Since21\",\"oo1MaxSince21\",\"oo1Drawdown1Since21\",\"oo1Drawdown10Since21\",\"oo1Drawdown20Since21\",\"oo1MaxSince21{10}\",\"oo1MinSince21\",\"oo1MinSince21{20}\",\"aoo1Since21\",\"aoo1MaxSince21\",\"aoo1Drawdown1Since21\",\"aoo1Drawdown10Since21\",\"aoo1Drawdown20Since21\",\"aoo1MaxSince21{10}\",\"aoo1MinSince21\",\"aoo1MinSince21{20}\",\"oo10Since21\",\"oo10MaxSince21\",\"oo10Drawdown1Since21\",\"oo10Drawdown10Since21\",\"oo10Drawdown20Since21\",\"oo10MaxSince21{10}\",\"oo10MinSince21\",\"oo10MinSince21{20}\",\"fracRecordedDaysSince125\",\"oo1Since125\",\"oo1MaxSince125\",\"oo1Drawdown1Since125\",\"oo1Drawdown10Since125\",\"oo1Drawdown20Since125\",\"oo1MaxSince125{10}\",\"oo1MinSince125\",\"oo1MinSince125{20}\",\"aoo1Since125\",\"aoo1MaxSince125\",\"aoo1Drawdown1Since125\",\"aoo1Drawdown10Since125\",\"aoo1Drawdown20Since125\",\"aoo1MaxSince125{10}\",\"aoo1MinSince125\",\"aoo1MinSince125{20}\",\"oo10Since125\",\"oo10MaxSince125\",\"oo10Drawdown1Since125\",\"oo10Drawdown10Since125\",\"oo10Drawdown20Since125\",\"oo10MaxSince125{10}\",\"oo10MinSince125\",\"oo10MinSince125{20}\",\"fracRecordedDaysSince250\",\"oo1Since250\",\"oo1MaxSince250\",\"oo1Drawdown1Since250\",\"oo1Drawdown10Since250\",\"oo1Drawdown20Since250\",\"oo1MaxSince250{10}\",\"oo1MinSince250\",\"oo1MinSince250{20}\",\"aoo1Since250\",\"aoo1MaxSince250\",\"aoo1Drawdown1Since250\",\"aoo1Drawdown10Since250\",\"aoo1Drawdown20Since250\",\"aoo1MaxSince250{10}\",\"aoo1MinSince250\",\"aoo1MinSince250{20}\",\"oo10Since250\",\"oo10MaxSince250\",\"oo10Drawdown1Since250\",\"oo10Drawdown10Since250\",\"oo10Drawdown20Since250\",\"oo10MaxSince250{10}\",\"oo10MinSince250\",\"oo10MinSince250{20}\",\"m_oo20\",\"m_volatility20\",\"m_oo60\",\"m_volatility60\"]\n",
    "        feats_ctor = '<s21>    <>~Market & (\\n        <>Return{.&pure&~digit&~TEN} & ~Since & Return{.&\\n            <>(vp1dd)\\n            & index[0,2, 0:1]\\n          }\\n        | Return{.&pure&~index} & ~Since & Return{.&\\n            <>(doo|vp5dd|Volatility)\\n            & [5:,15:,10:5,15:10,20:15,15:5,20:5]\\n          }\\n        | (\\n            <>Return{(oo{.&[1:]}|aoo[1:]|oo{.&[10:]})}\\n            & (\\n                <> ~Drawdown&~Drawup&~Since{Min}&~Since{Max}\\n                | Drawdown[1:,10:,20:]\\n                | Since{Max&index[0,10]}\\n                | Since{Min&index[0,20]}\\n              )\\n            & Since[21:, 125:, 250:]\\n          )\\n      )\\n    | Market{.&\\n        <>(~Weight)\\n        & (Return| Volatility)\\n        & [20:,60:]\\n      }\\n    |\\n        | FracRec[21:,125:,250:]\\n    |'\n",
    "        train_on = fullhouse\n",
    "        weight = 'flat_weight'\n",
    "        params = dict(learning_rate=0.05,max_depth=-1,num_leaves=4096,min_data_in_leaf=120,min_sum_hessian_in_leaf=100,lambda_l1=0,lambda_l2=0,num_iterations=48)\n",
    "    class as22(NamedO()):\n",
    "        features = [\"dayOfYear\",\"dayOfWeek\",\"oo10\",\"aoo10\",\"(oo-aoo)10\",\"vp1dd10\",\"oo(10-5)\",\"oo(15-10)\",\"oo(15-5)\",\"oo(20-5)\",\"aoo(10-5)\",\"aoo(15-10)\",\"aoo(15-5)\",\"aoo(20-5)\",\"(oo-aoo)(10-5)\",\"(oo-aoo)(15-10)\",\"(oo-aoo)(15-5)\",\"(oo-aoo)(20-5)\",\"vp1dd(10-5)\",\"vp1dd(15-10)\",\"vp1dd(15-5)\",\"vp1dd(20-5)\",\"oo1Drawdown10Since21\",\"oo1Drawdown(20-10)Since21\",\"oo1MaxSince21{20}\",\"oo1MinSince21{20}\",\"vp5dd1MaxSince21\",\"vp5dd1Drawdown1Since21\",\"vp5dd1MinSince21\",\"vp10dd1MaxSince21\",\"vp10dd1Drawdown1Since21\",\"vp10dd1MinSince21\",\"oo1Drawdown10Since250\",\"oo1Drawdown(20-10)Since250\",\"oo1MaxSince250{20}\",\"oo1MinSince250{20}\",\"vp5dd1MaxSince250\",\"vp5dd1Drawdown1Since250\",\"vp5dd1MinSince250\",\"vp10dd1MaxSince250\",\"vp10dd1Drawdown1Since250\",\"vp10dd1MinSince250\"]\n",
    "        feats_ctor = '<s22>    <>~Market & (\\n        | Return{.&pure&~index} & ~Since & Return{.&\\n            <>(oo|aoo|doo|vp1dd|vp5dd)\\n            & [10:,10:5,15:10,15:5,20:5]\\n          }\\n        | (\\n            <>Return{(oo{.&[1:]})}\\n            & (\\n                | Drawdown[10:,20:10]\\n                | Since{Max&index[20]}\\n                | Since{Min&index[20]}\\n              )\\n            & Since[21:, 250:]\\n          )\\n        | (\\n            <>Return{dd} & VP[ 5:, 10:]\\n            & (\\n                | Drawdown[1:]\\n                | Since{Max & index[0]}\\n                | Since{Min & index[0]}\\n              )\\n            & Since[21:, 250:]\\n          )\\n      )\\n    |\\n        Time{long| short}'\n",
    "        train_on = fullhouse\n",
    "        weight = 'flat_weight'\n",
    "        params = dict(learning_rate=0.05,max_depth=-1,num_leaves=4096,min_data_in_leaf=120,min_sum_hessian_in_leaf=100,lambda_l1=0,lambda_l2=0,num_iterations=79)\n",
    "    class as00(NamedO()):\n",
    "        features = [\"cc\",\"oo\",\"acc\",\"aoo\",\"vp10\",\"oo5\",\"oo10\",\"oo15\",\"aoo5\",\"aoo10\",\"aoo15\",\"vp1dd5\",\"vp1dd10\",\"vp1dd15\",\"volatility60\",\"oo(15-10)\",\"oo(20-15)\",\"oo(15-5)\",\"oo(20-10)\",\"aoo(15-10)\",\"aoo(20-15)\",\"aoo(15-5)\",\"aoo(20-10)\",\"vp1dd(15-10)\",\"vp1dd(20-15)\",\"vp1dd(15-5)\",\"vp1dd(20-10)\",\"oo{0/1}\",\"oo{0/2}\",\"oo{1}\",\"oo{2}\",\"(oo-aoo){0/1}\",\"(oo-aoo){0/2}\",\"(oo-aoo){1}\",\"(oo-aoo){2}\",\"vp1dd{0/1}\",\"vp1dd{0/2}\",\"vp1dd\",\"vp1dd{1}\",\"vp1dd{2}\",\"oo1Drawdown10Since62\",\"oo1Drawdown20Since62\",\"oo1MaxSince62{10}\",\"oo1MaxSince62{20}\",\"oo1MinSince62\",\"oo1Drawup1Since62\",\"oo1MinSince62{5}\",\"volatility20MaxSince62\",\"volatility20MaxSince62{5}\",\"volatility20Drawup(10-5)Since62\",\"volatility20Drawup(20-10)Since62\",\"volatility20MinSince62{20}\",\"oo1Drawdown10Since250\",\"oo1Drawdown20Since250\",\"oo1MaxSince250{10}\",\"oo1MaxSince250{20}\",\"oo1MinSince250\",\"oo1Drawup1Since250\",\"oo1MinSince250{5}\",\"volatility20MaxSince250\",\"volatility20MaxSince250{5}\",\"volatility20Drawup(10-5)Since250\",\"volatility20Drawup(20-10)Since250\",\"volatility20MinSince250{20}\"]\n",
    "        feats_ctor = '<s00>    <>~Market & (\\n        <>Return{.&pure&~digit&~TEN} & ~Since & Return{.&\\n            <>(oo|cc|aoo|acc|doo|vp1dd)\\n            & index[0,1,2, 0:1,0:2]\\n          }\\n        | Return{.&pure&~index} & ~Since & Return{.&\\n            <>(oo|aoo|vp1dd)\\n            & [5:,10:,15:,15:10,20:15,15:5,20:10]\\n          }\\n        | (\\n            <>Return{(oo{.&[1:]})}\\n            & (\\n                | Drawdown[10:,20:]\\n                | Since{Max&index[10,20]}\\n                | Drawup[1:]\\n                | Since{Min&index[0,5]}\\n              )\\n            & Since[ 62:, 250:]\\n          )\\n        | (\\n            <> Volatility[ 60:]\\n            | Volatility[ 20:]\\n            & (\\n                | Since{Max & index[0,5]}\\n                | Drawup[ 10:5,20:10]\\n                | Since{Min & index[20]}\\n              )\\n            & Since[ 62:, 250:]\\n          )\\n      )\\n    |\\n        <>Return{pure&~dd} & VP[10:]\\n    |'\n",
    "        train_on = fullhouse\n",
    "        weight = 'flat_weight'\n",
    "        params = dict(learning_rate=0.05,max_depth=-1,num_leaves=4096,min_data_in_leaf=120,min_sum_hessian_in_leaf=100,lambda_l1=0,lambda_l2=0,num_iterations=156)\n",
    "    class as10(NamedO()):\n",
    "        features = [\"cc\",\"oo\",\"dayOfYear\",\"dayOfWeek\",\"volatility60\",\"oo{0/1}\",\"oo{1/2}\",\"oo{1}\",\"oo{2}\",\"(cc-acc){0/1}\",\"(cc-acc){1/2}\",\"(cc-acc){1}\",\"(cc-acc){2}\",\"oo1Since21\",\"oo1MaxSince21\",\"oo1Drawdown1Since21\",\"oo1Drawdown5Since21\",\"oo1Drawdown10Since21\",\"oo1Drawdown(10-5)Since21\",\"oo1MinSince21\",\"oo1MinSince21{5}\",\"oo10Since21\",\"oo10MaxSince21\",\"oo10Drawdown1Since21\",\"oo10Drawdown5Since21\",\"oo10Drawdown10Since21\",\"oo10Drawdown(10-5)Since21\",\"oo10MinSince21\",\"oo10MinSince21{5}\",\"(oo-aoo)10Since21\",\"(oo-aoo)10MaxSince21\",\"(oo-aoo)10Drawdown1Since21\",\"(oo-aoo)10Drawdown5Since21\",\"(oo-aoo)10Drawdown10Since21\",\"(oo-aoo)10Drawdown(10-5)Since21\",\"(oo-aoo)10MinSince21\",\"(oo-aoo)10MinSince21{5}\",\"vp1dd1Since21\",\"vp1dd1MaxSince21{5}\",\"vp1dd1Drawup(20-10)Since21\",\"vp1dd1MinSince21{20}\",\"vp5dd1Since21\",\"vp5dd1MaxSince21{5}\",\"vp5dd1Drawup(20-10)Since21\",\"vp5dd1MinSince21{20}\",\"vp10dd1Since21\",\"vp10dd1MaxSince21{5}\",\"vp10dd1Drawup(20-10)Since21\",\"vp10dd1MinSince21{20}\",\"volatility10MaxSince21{20}\",\"volatility10MinSince21{20}\",\"oo1Since125\",\"oo1MaxSince125\",\"oo1Drawdown1Since125\",\"oo1Drawdown5Since125\",\"oo1Drawdown10Since125\",\"oo1Drawdown(10-5)Since125\",\"oo1MinSince125\",\"oo1MinSince125{5}\",\"oo10Since125\",\"oo10MaxSince125\",\"oo10Drawdown1Since125\",\"oo10Drawdown5Since125\",\"oo10Drawdown10Since125\",\"oo10Drawdown(10-5)Since125\",\"oo10MinSince125\",\"oo10MinSince125{5}\",\"(oo-aoo)10Since125\",\"(oo-aoo)10MaxSince125\",\"(oo-aoo)10Drawdown1Since125\",\"(oo-aoo)10Drawdown5Since125\",\"(oo-aoo)10Drawdown10Since125\",\"(oo-aoo)10Drawdown(10-5)Since125\",\"(oo-aoo)10MinSince125\",\"(oo-aoo)10MinSince125{5}\",\"vp1dd1Since125\",\"vp1dd1MaxSince125{5}\",\"vp1dd1Drawup(20-10)Since125\",\"vp1dd1MinSince125{20}\",\"vp5dd1Since125\",\"vp5dd1MaxSince125{5}\",\"vp5dd1Drawup(20-10)Since125\",\"vp5dd1MinSince125{20}\",\"vp10dd1Since125\",\"vp10dd1MaxSince125{5}\",\"vp10dd1Drawup(20-10)Since125\",\"vp10dd1MinSince125{20}\",\"volatility10MaxSince125{20}\",\"volatility10MinSince125{20}\",\"oo1Since250\",\"oo1MaxSince250\",\"oo1Drawdown1Since250\",\"oo1Drawdown5Since250\",\"oo1Drawdown10Since250\",\"oo1Drawdown(10-5)Since250\",\"oo1MinSince250\",\"oo1MinSince250{5}\",\"oo10Since250\",\"oo10MaxSince250\",\"oo10Drawdown1Since250\",\"oo10Drawdown5Since250\",\"oo10Drawdown10Since250\",\"oo10Drawdown(10-5)Since250\",\"oo10MinSince250\",\"oo10MinSince250{5}\",\"(oo-aoo)10Since250\",\"(oo-aoo)10MaxSince250\",\"(oo-aoo)10Drawdown1Since250\",\"(oo-aoo)10Drawdown5Since250\",\"(oo-aoo)10Drawdown10Since250\",\"(oo-aoo)10Drawdown(10-5)Since250\",\"(oo-aoo)10MinSince250\",\"(oo-aoo)10MinSince250{5}\",\"vp1dd1Since250\",\"vp1dd1MaxSince250{5}\",\"vp1dd1Drawup(20-10)Since250\",\"vp1dd1MinSince250{20}\",\"vp5dd1Since250\",\"vp5dd1MaxSince250{5}\",\"vp5dd1Drawup(20-10)Since250\",\"vp5dd1MinSince250{20}\",\"vp10dd1Since250\",\"vp10dd1MaxSince250{5}\",\"vp10dd1Drawup(20-10)Since250\",\"vp10dd1MinSince250{20}\",\"volatility10MaxSince250{20}\",\"volatility10MinSince250{20}\"]\n",
    "        feats_ctor = '<s10>    <>~Market & (\\n        <>Return{.&pure&~digit&~TEN} & ~Since & Return{.&\\n            <>(oo|cc|dcc)\\n            & index[0,1,2, 0:1,1:2]\\n          }\\n        | (\\n            <>Return{(oo{.&[1:]}|oo{.&[10:]}|doo[10:])}\\n            & (\\n                <> ~Drawdown&~Drawup&~Since{Min}&~Since{Max}\\n                | Drawdown[1:, 5:,10:, 10:5]\\n                | Since{Max&index[0]}\\n                | Since{Min&index[0,5]}\\n              )\\n            & Since[21:, 125:, 250:]\\n          )\\n        | (\\n            <>Return{dd} & VP[1:, 5:, 10:]\\n            & (\\n                <> ~Drawdown&~Drawup&~Since{Min}&~Since{Max}\\n                | Since{Max & index[5]}\\n                | Drawup[20:10]\\n                | Since{Min & index[20]}\\n              )\\n            & Since[21:, 125:, 250:]\\n          )\\n        | (\\n            <> Volatility[ 60:]\\n            | Volatility[10:]\\n            & (\\n                | Since{Max & index[20]}\\n                | Since{Min & index[20]}\\n              )\\n            & Since[21:, 125:, 250:]\\n          )\\n      )\\n    |\\n        Time{long| short}'\n",
    "        train_on = fullhouse\n",
    "        weight = 'flat_weight'\n",
    "        params = dict(learning_rate=0.05,max_depth=-1,num_leaves=4096,min_data_in_leaf=120,min_sum_hessian_in_leaf=100,lambda_l1=0,lambda_l2=0,num_iterations=142)\n",
    "    class as11(NamedO()):\n",
    "        features = [\"close\",\"cc\",\"oo\",\"acc\",\"aoo10\",\"(oo-aoo)10\",\"vp1dd10\",\"rr\",\"aoo(10-5)\",\"aoo(15-5)\",\"aoo(20-5)\",\"(oo-aoo)(10-5)\",\"(oo-aoo)(15-5)\",\"(oo-aoo)(20-5)\",\"vp1dd(10-5)\",\"vp1dd(15-5)\",\"vp1dd(20-5)\",\"oo{1}\",\"(oo-aoo){1}\",\"(cc-acc){1}\",\"(aoo-acc){1}\",\"(it,af,it{1},aoo,acc){0/1}\",\"(it{1},af{1},it{2},aoo{1},acc{1}){0/1}\",\"(it,af,it{1},aoo,acc){0/2}\",\"(it{1},af{1},it{2},aoo{1},acc{1}){0/2}\",\"(it{1},af{1},it{2},aoo{1},acc{1}){0/3}\",\"(it,af,it{1},aoo,acc){0/4}\",\"(it{1},af{1},it{2},aoo{1},acc{1}){1/2}\",\"(it,af,it{1},aoo,acc){1/3}\",\"(it,af,it{1},aoo,acc){1/4}\",\"(it{1},af{1},it{2},aoo{1},acc{1}){1/4}\",\"(it,af,it{1},aoo,acc){2/3}\",\"(it,af,it{1},aoo,acc){2/4}\",\"(it{1},af{1},it{2},aoo{1},acc{1}){2/4}\",\"oo1Drawdown1Since21\",\"oo1Drawdown10Since21\",\"oo1Drawdown(10-5)Since21\",\"oo1Drawdown(20-10)Since21\",\"oo1MaxSince21{10}\",\"oo1MinSince21\",\"oo1Drawup(20-10)Since21\",\"oo10Drawdown1Since21\",\"oo10Drawdown10Since21\",\"oo10Drawdown(10-5)Since21\",\"oo10Drawdown(20-10)Since21\",\"oo10MaxSince21{10}\",\"oo10MinSince21\",\"oo10Drawup(20-10)Since21\",\"vp1dd1Since21\",\"vp1dd1MaxSince21\",\"vp1dd1MinSince21\",\"vp10dd1Since21\",\"vp10dd1MaxSince21\",\"vp10dd1MinSince21\",\"oo1Drawdown1Since62\",\"oo1Drawdown10Since62\",\"oo1Drawdown(10-5)Since62\",\"oo1Drawdown(20-10)Since62\",\"oo1MaxSince62{10}\",\"oo1MinSince62\",\"oo1Drawup(20-10)Since62\",\"oo10Drawdown1Since62\",\"oo10Drawdown10Since62\",\"oo10Drawdown(10-5)Since62\",\"oo10Drawdown(20-10)Since62\",\"oo10MaxSince62{10}\",\"oo10MinSince62\",\"oo10Drawup(20-10)Since62\",\"vp1dd1Since62\",\"vp1dd1MaxSince62\",\"vp1dd1MinSince62\",\"vp10dd1Since62\",\"vp10dd1MaxSince62\",\"vp10dd1MinSince62\",\"oo1Drawdown1Since125\",\"oo1Drawdown10Since125\",\"oo1Drawdown(10-5)Since125\",\"oo1Drawdown(20-10)Since125\",\"oo1MaxSince125{10}\",\"oo1MinSince125\",\"oo1Drawup(20-10)Since125\",\"oo10Drawdown1Since125\",\"oo10Drawdown10Since125\",\"oo10Drawdown(10-5)Since125\",\"oo10Drawdown(20-10)Since125\",\"oo10MaxSince125{10}\",\"oo10MinSince125\",\"oo10Drawup(20-10)Since125\",\"vp1dd1Since125\",\"vp1dd1MaxSince125\",\"vp1dd1MinSince125\",\"vp10dd1Since125\",\"vp10dd1MaxSince125\",\"vp10dd1MinSince125\",\"oo1Drawdown1Since250\",\"oo1Drawdown10Since250\",\"oo1Drawdown(10-5)Since250\",\"oo1Drawdown(20-10)Since250\",\"oo1MaxSince250{10}\",\"oo1MinSince250\",\"oo1Drawup(20-10)Since250\",\"oo10Drawdown1Since250\",\"oo10Drawdown10Since250\",\"oo10Drawdown(10-5)Since250\",\"oo10Drawdown(20-10)Since250\",\"oo10MaxSince250{10}\",\"oo10MinSince250\",\"oo10Drawup(20-10)Since250\",\"vp1dd1Since250\",\"vp1dd1MaxSince250\",\"vp1dd1MinSince250\",\"vp10dd1Since250\",\"vp10dd1MaxSince250\",\"vp10dd1MinSince250\"]\n",
    "        feats_ctor = '<s11>    <>~Market & (\\n        <>Return{.&pure&~digit&~TEN} & ~Since & Return{.&\\n            <>(oo|cc|acc|doo|dcc|daoc)\\n            & index[0,1]\\n          }\\n        | Return{.&pure&~index} & ~Since & Return{.&\\n            <>(aoo|doo|vp1dd|vp5dd|Volatility)\\n            & [10:,10:5,15:5,20:5]\\n          }\\n        | (\\n            <>Return{(oo{.&[1:]}|oo{.&[10:]})}\\n            & (\\n                | Drawdown[1:,10:, 10:5,20:10]\\n                | Since{Max&index[10]}\\n                | Drawup[20:10]\\n                | Since{Min&index[0]}\\n              )\\n            & Since[21:, 62:, 125:, 250:]\\n          )\\n        | (\\n            <>Return{dd} & VP[1:, 10:]\\n            & (\\n                <> ~Drawdown&~Drawup&~Since{Min}&~Since{Max}\\n                | Since{Max & index[0]}\\n                | Since{Min & index[0]}\\n              )\\n            & Since[21:, 62:, 125:, 250:]\\n          )\\n      )\\n    |\\n        <>FaceValue{ Close}\\n        | Return{mix[1,3,5,6,7,8,9,11,12,13,14,18,19]}\\n        | Return{rr}'\n",
    "        train_on = fullhouse\n",
    "        weight = 'flat_weight'\n",
    "        params = dict(learning_rate=0.05,max_depth=-1,num_leaves=4096,min_data_in_leaf=120,min_sum_hessian_in_leaf=100,lambda_l1=0,lambda_l2=0,num_iterations=167)\n",
    "    class aIKGCover(NamedO()):\n",
    "        features = [\"assetCodeId\",\"volume\",\"cc\",\"oo\",\"acc\",\"aoo\",\"oo5\",\"oo10\",\"oo15\",\"aoo5\",\"aoo10\",\"aoo15\",\"af\",\"it\",\"rr\",\"oo(10-5)\",\"oo(15-10)\",\"oo(20-15)\",\"oo(15-5)\",\"oo(20-10)\",\"oo(20-5)\",\"aoo(10-5)\",\"aoo(15-10)\",\"aoo(20-15)\",\"aoo(15-5)\",\"aoo(20-10)\",\"aoo(20-5)\",\"af{1}\",\"it{1}\",\"(it,af,it{1},aoo,acc){0/1}\",\"(it{1},af{1},it{2},aoo{1},acc{1}){0/1}\",\"(it,af,it{1},aoo,acc){0/2}\",\"(it{1},af{1},it{2},aoo{1},acc{1}){0/2}\",\"(it,af,it{1},aoo,acc){0/3}\",\"(it{1},af{1},it{2},aoo{1},acc{1}){0/3}\",\"(it,af,it{1},aoo,acc){0/4}\",\"(it{1},af{1},it{2},aoo{1},acc{1}){0/4}\",\"(it,af,it{1},aoo,acc){1/2}\",\"(it{1},af{1},it{2},aoo{1},acc{1}){1/2}\",\"(it,af,it{1},aoo,acc){1/3}\",\"(it{1},af{1},it{2},aoo{1},acc{1}){1/3}\",\"(it,af,it{1},aoo,acc){1/4}\",\"(it{1},af{1},it{2},aoo{1},acc{1}){1/4}\",\"(it,af,it{1},aoo,acc){2/3}\",\"(it{1},af{1},it{2},aoo{1},acc{1}){2/3}\",\"(it,af,it{1},aoo,acc){2/4}\",\"(it{1},af{1},it{2},aoo{1},acc{1}){2/4}\",\"oo1Since21\",\"oo1MaxSince21\",\"oo1Drawdown1Since21\",\"oo1Drawdown5Since21\",\"oo1Drawdown10Since21\",\"oo1MinSince21\",\"oo1MinSince21{10}\",\"aoo1Since21\",\"aoo1MaxSince21\",\"aoo1Drawdown1Since21\",\"aoo1Drawdown5Since21\",\"aoo1Drawdown10Since21\",\"aoo1MinSince21\",\"aoo1MinSince21{10}\",\"oo1Since62\",\"oo1MaxSince62\",\"oo1Drawdown1Since62\",\"oo1Drawdown5Since62\",\"oo1Drawdown10Since62\",\"oo1MinSince62\",\"oo1MinSince62{10}\",\"aoo1Since62\",\"aoo1MaxSince62\",\"aoo1Drawdown1Since62\",\"aoo1Drawdown5Since62\",\"aoo1Drawdown10Since62\",\"aoo1MinSince62\",\"aoo1MinSince62{10}\",\"oo1Since125\",\"oo1MaxSince125\",\"oo1Drawdown1Since125\",\"oo1Drawdown5Since125\",\"oo1Drawdown10Since125\",\"oo1MinSince125\",\"oo1MinSince125{10}\",\"aoo1Since125\",\"aoo1MaxSince125\",\"aoo1Drawdown1Since125\",\"aoo1Drawdown5Since125\",\"aoo1Drawdown10Since125\",\"aoo1MinSince125\",\"aoo1MinSince125{10}\",\"oo1Since250\",\"oo1MaxSince250\",\"oo1Drawdown1Since250\",\"oo1Drawdown5Since250\",\"oo1Drawdown10Since250\",\"oo1MinSince250\",\"oo1MinSince250{10}\",\"aoo1Since250\",\"aoo1MaxSince250\",\"aoo1Drawdown1Since250\",\"aoo1Drawdown5Since250\",\"aoo1Drawdown10Since250\",\"aoo1MinSince250\",\"aoo1MinSince250{10}\",\"assetCode_inUniCount\"]\n",
    "        feats_ctor = '<IKGCover>\\n    <>~Market & (\\n        <>Return{.&pure&~digit&~TEN} & ~Since & Return{.&\\n            <>(oo|cc|aoo|acc|daoc)\\n            & index[0]\\n          }\\n        | Return{.&pure&~index} & ~Since & Return{.&\\n            <>(oo|aoo)\\n            & [5:,10:,15:,10:5,15:10,20:15,15:5,20:10,20:5]\\n          }\\n        | (\\n            <>Return{(oo{.&[1:]}|aoo[1:])}\\n            & (\\n                <> ~Drawdown&~Drawup&~Since{Min}&~Since{Max}\\n                | Drawdown[1:, 5:,10:]\\n                | Since{Max&index[0]}\\n                | Since{Min&index[0,10]}\\n              )\\n            & Since[21:,62:,125:,250:]\\n          )\\n      )\\n    |\\n        <>AssetEnc{InUni}\\n        | AssetEnc{Code}\\n    |\\n        <>FaceValue{Volume}\\n        | Return{mix[1,2,3,4,5,6,7,8,9,11,12,13,14,15,16,17,18,19]}\\n        | Return{rr|af|it}\\n    '\n",
    "        train_on = fullhouse\n",
    "        weight = 'flat_weight'\n",
    "        params = dict(learning_rate=0.05,max_depth=-1,num_leaves=4096,min_data_in_leaf=120,min_sum_hessian_in_leaf=100,lambda_l1=0,lambda_l2=0,num_iterations=327)\n",
    "    class aTryIt(NamedO()):\n",
    "        features = [\"oo\",\"aoo\",\"dayOfYear\",\"dayOfWeek\",\"vp10\",\"oo5\",\"oo10\",\"oo15\",\"aoo5\",\"aoo10\",\"aoo15\",\"vp1dd5\",\"vp1dd10\",\"vp1dd15\",\"volatility60\",\"vp20\",\"oo(10-5)\",\"oo(15-10)\",\"oo(20-15)\",\"oo(15-5)\",\"oo(20-10)\",\"oo(20-5)\",\"aoo(10-5)\",\"aoo(15-10)\",\"aoo(20-15)\",\"aoo(15-5)\",\"aoo(20-10)\",\"aoo(20-5)\",\"vp1dd(10-5)\",\"vp1dd(15-10)\",\"vp1dd(20-15)\",\"vp1dd(15-5)\",\"vp1dd(20-10)\",\"vp1dd(20-5)\",\"oo{1}\",\"oo{2}\",\"(oo-aoo){1}\",\"(oo-aoo){2}\",\"(oo-cc){1}\",\"(oo-cc){2}\",\"(aoo-acc){1}\",\"(aoo-acc){2}\",\"vp1dd\",\"vp1dd{1}\",\"vp1dd{2}\",\"fracRecordedDaysSince21\",\"oo1Since21\",\"oo1Drawdown5Since21\",\"oo1Drawdown10Since21\",\"oo1Drawdown20Since21\",\"oo1Drawdown(10-5)Since21\",\"oo1Drawdown(20-10)Since21\",\"oo1MinSince21\",\"aoo1Since21\",\"aoo1Drawdown5Since21\",\"aoo1Drawdown10Since21\",\"aoo1Drawdown20Since21\",\"aoo1Drawdown(10-5)Since21\",\"aoo1Drawdown(20-10)Since21\",\"aoo1MinSince21\",\"oo10Since21\",\"oo10Drawdown5Since21\",\"oo10Drawdown10Since21\",\"oo10Drawdown20Since21\",\"oo10Drawdown(10-5)Since21\",\"oo10Drawdown(20-10)Since21\",\"oo10MinSince21\",\"aoo10Since21\",\"aoo10Drawdown5Since21\",\"aoo10Drawdown10Since21\",\"aoo10Drawdown20Since21\",\"aoo10Drawdown(10-5)Since21\",\"aoo10Drawdown(20-10)Since21\",\"aoo10MinSince21\",\"volatility20MaxSince21\",\"volatility20Drawdown20Since21\",\"volatility20MaxSince21{20}\",\"volatility20Drawup1Since21\",\"volatility20Drawup(20-10)Since21\",\"fracRecordedDaysSince125\",\"oo1Since125\",\"oo1Drawdown5Since125\",\"oo1Drawdown10Since125\",\"oo1Drawdown20Since125\",\"oo1Drawdown(10-5)Since125\",\"oo1Drawdown(20-10)Since125\",\"oo1MinSince125\",\"aoo1Since125\",\"aoo1Drawdown5Since125\",\"aoo1Drawdown10Since125\",\"aoo1Drawdown20Since125\",\"aoo1Drawdown(10-5)Since125\",\"aoo1Drawdown(20-10)Since125\",\"aoo1MinSince125\",\"oo10Since125\",\"oo10Drawdown5Since125\",\"oo10Drawdown10Since125\",\"oo10Drawdown20Since125\",\"oo10Drawdown(10-5)Since125\",\"oo10Drawdown(20-10)Since125\",\"oo10MinSince125\",\"aoo10Since125\",\"aoo10Drawdown5Since125\",\"aoo10Drawdown10Since125\",\"aoo10Drawdown20Since125\",\"aoo10Drawdown(10-5)Since125\",\"aoo10Drawdown(20-10)Since125\",\"aoo10MinSince125\",\"volatility20MaxSince125\",\"volatility20Drawdown20Since125\",\"volatility20MaxSince125{20}\",\"volatility20Drawup1Since125\",\"volatility20Drawup(20-10)Since125\",\"fracRecordedDaysSince250\",\"oo1Since250\",\"oo1Drawdown5Since250\",\"oo1Drawdown10Since250\",\"oo1Drawdown20Since250\",\"oo1Drawdown(10-5)Since250\",\"oo1Drawdown(20-10)Since250\",\"oo1MinSince250\",\"aoo1Since250\",\"aoo1Drawdown5Since250\",\"aoo1Drawdown10Since250\",\"aoo1Drawdown20Since250\",\"aoo1Drawdown(10-5)Since250\",\"aoo1Drawdown(20-10)Since250\",\"aoo1MinSince250\",\"oo10Since250\",\"oo10Drawdown5Since250\",\"oo10Drawdown10Since250\",\"oo10Drawdown20Since250\",\"oo10Drawdown(10-5)Since250\",\"oo10Drawdown(20-10)Since250\",\"oo10MinSince250\",\"aoo10Since250\",\"aoo10Drawdown5Since250\",\"aoo10Drawdown10Since250\",\"aoo10Drawdown20Since250\",\"aoo10Drawdown(10-5)Since250\",\"aoo10Drawdown(20-10)Since250\",\"aoo10MinSince250\",\"volatility20MaxSince250\",\"volatility20Drawdown20Since250\",\"volatility20MaxSince250{20}\",\"volatility20Drawup1Since250\",\"volatility20Drawup(20-10)Since250\",\"assetCode_inUniCount\"]\n",
    "        feats_ctor = '<TryIt>\\n    <>~Market & (\\n        <>Return{.&pure&~digit&~TEN} & ~Since & Return{.&\\n            <>(oo|aoo|doo|doc|daoc|vp1dd)\\n            & index[0,1,2]\\n          }\\n        | Return{.&pure&~index} & ~Since & Return{.&\\n            <>(oo|aoo|vp1dd)\\n            & [5:,10:,15:,10:5,15:10,20:15,15:5,20:10,20:5]\\n          }\\n        | (\\n            <>Return{(oo{.&[1:]}|aoo[1:]|oo{.&[10:]}|aoo[10:])}\\n            & (\\n                <> ~Drawdown&~Drawup&~Since{Min}&~Since{Max}\\n                | Drawdown[5:,10:,20:, 10:5,20:10]\\n                | Since{Min&index[0]}\\n              )\\n            & Since[21:,125:,250:]\\n          )\\n        | (\\n            <> Volatility[60:]\\n            | Volatility[20:]\\n            & (\\n                | Drawdown[20:]\\n                | Since{Max & index[0,20]}\\n                | Drawup[1:, 20:10]\\n              )\\n            & Since[21:,125:,250:]\\n          )\\n      )\\n    |\\n        <>Return{pure&~dd} & VP[10:,20:]\\n        | FracRec[21:,125:,250:]\\n    |\\n        <>AssetEnc{InUni}\\n    |\\n        Time{long | short}\\n    '\n",
    "        train_on = fullhouse\n",
    "        weight = 'flat_weight'\n",
    "        params = dict(learning_rate=0.05,max_depth=-1,num_leaves=4096,min_data_in_leaf=120,min_sum_hessian_in_leaf=100,lambda_l1=0,lambda_l2=0,num_iterations=532)\n",
    "    class aIKGCoverThreeVP1(NamedO()):\n",
    "        features = [\"assetCodeId\",\"volume\",\"cc\",\"oo\",\"acc\",\"aoo\",\"oo15\",\"oo3\",\"oo6\",\"oo9\",\"oo12\",\"oo18\",\"aoo15\",\"aoo3\",\"aoo6\",\"aoo9\",\"aoo12\",\"aoo18\",\"vp1dd15\",\"vp1dd3\",\"vp1dd6\",\"vp1dd9\",\"vp1dd12\",\"vp1dd18\",\"af\",\"it\",\"rr\",\"vp1dd\",\"af{1}\",\"it{1}\",\"(it,af,it{1},aoo,acc){0/1}\",\"(it{1},af{1},it{2},aoo{1},acc{1}){0/1}\",\"(it,af,it{1},aoo,acc){0/2}\",\"(it{1},af{1},it{2},aoo{1},acc{1}){0/2}\",\"(it,af,it{1},aoo,acc){0/3}\",\"(it{1},af{1},it{2},aoo{1},acc{1}){0/3}\",\"(it,af,it{1},aoo,acc){0/4}\",\"(it{1},af{1},it{2},aoo{1},acc{1}){0/4}\",\"(it,af,it{1},aoo,acc){1/2}\",\"(it{1},af{1},it{2},aoo{1},acc{1}){1/2}\",\"(it,af,it{1},aoo,acc){1/3}\",\"(it{1},af{1},it{2},aoo{1},acc{1}){1/3}\",\"(it,af,it{1},aoo,acc){1/4}\",\"(it{1},af{1},it{2},aoo{1},acc{1}){1/4}\",\"(it,af,it{1},aoo,acc){2/3}\",\"(it{1},af{1},it{2},aoo{1},acc{1}){2/3}\",\"(it,af,it{1},aoo,acc){2/4}\",\"(it{1},af{1},it{2},aoo{1},acc{1}){2/4}\",\"oo1Since21\",\"oo1MaxSince21\",\"oo1Drawdown1Since21\",\"oo1Drawdown5Since21\",\"oo1Drawdown10Since21\",\"oo1MinSince21\",\"oo1MinSince21{10}\",\"aoo1Since21\",\"aoo1MaxSince21\",\"aoo1Drawdown1Since21\",\"aoo1Drawdown5Since21\",\"aoo1Drawdown10Since21\",\"aoo1MinSince21\",\"aoo1MinSince21{10}\",\"vp1dd1Since21\",\"vp1dd1MaxSince21\",\"vp1dd1Drawdown1Since21\",\"vp1dd1Drawdown5Since21\",\"vp1dd1Drawdown10Since21\",\"vp1dd1MinSince21\",\"vp1dd1MinSince21{10}\",\"oo1Since62\",\"oo1MaxSince62\",\"oo1Drawdown1Since62\",\"oo1Drawdown5Since62\",\"oo1Drawdown10Since62\",\"oo1MinSince62\",\"oo1MinSince62{10}\",\"aoo1Since62\",\"aoo1MaxSince62\",\"aoo1Drawdown1Since62\",\"aoo1Drawdown5Since62\",\"aoo1Drawdown10Since62\",\"aoo1MinSince62\",\"aoo1MinSince62{10}\",\"vp1dd1Since62\",\"vp1dd1MaxSince62\",\"vp1dd1Drawdown1Since62\",\"vp1dd1Drawdown5Since62\",\"vp1dd1Drawdown10Since62\",\"vp1dd1MinSince62\",\"vp1dd1MinSince62{10}\",\"oo1Since125\",\"oo1MaxSince125\",\"oo1Drawdown1Since125\",\"oo1Drawdown5Since125\",\"oo1Drawdown10Since125\",\"oo1MinSince125\",\"oo1MinSince125{10}\",\"aoo1Since125\",\"aoo1MaxSince125\",\"aoo1Drawdown1Since125\",\"aoo1Drawdown5Since125\",\"aoo1Drawdown10Since125\",\"aoo1MinSince125\",\"aoo1MinSince125{10}\",\"vp1dd1Since125\",\"vp1dd1MaxSince125\",\"vp1dd1Drawdown1Since125\",\"vp1dd1Drawdown5Since125\",\"vp1dd1Drawdown10Since125\",\"vp1dd1MinSince125\",\"vp1dd1MinSince125{10}\",\"oo1Since250\",\"oo1MaxSince250\",\"oo1Drawdown1Since250\",\"oo1Drawdown5Since250\",\"oo1Drawdown10Since250\",\"oo1MinSince250\",\"oo1MinSince250{10}\",\"aoo1Since250\",\"aoo1MaxSince250\",\"aoo1Drawdown1Since250\",\"aoo1Drawdown5Since250\",\"aoo1Drawdown10Since250\",\"aoo1MinSince250\",\"aoo1MinSince250{10}\",\"vp1dd1Since250\",\"vp1dd1MaxSince250\",\"vp1dd1Drawdown1Since250\",\"vp1dd1Drawdown5Since250\",\"vp1dd1Drawdown10Since250\",\"vp1dd1MinSince250\",\"vp1dd1MinSince250{10}\",\"assetCode_inUniCount\"]\n",
    "        feats_ctor = '<IKGCoverThreeVP1>\\n    <>~Market & (\\n        <>Return{.&pure&~digit&~TEN} & ~Since & Return{.&\\n            <>(oo|cc|aoo|acc|daoc|vp1dd)\\n            & index[0]\\n          }\\n        | Return{.&pure&~index} & ~Since & Return{.&\\n            <>(oo|aoo|vp1dd)\\n            & [3:,6:,9:,12:,15:,18:,6:3,9:6,12:9,15:12,18:15,21:18,9:3,12:6,            15:9,18:12,21:15,12:3,15:6,18:9,21:12,15:3,18:6,21:9,18:3,21:6,21:3]\\n          }\\n        | (\\n            <>Return{(oo{.&[1:]}|aoo[1:]|vp1dd)}\\n            & (\\n                <> ~Drawdown&~Drawup&~Since{Min}&~Since{Max}\\n                | Drawdown[1:, 5:,10:]\\n                | Since{Max&index[0]}\\n                | Since{Min&index[0,10]}\\n              )\\n            & Since[21:,62:,125:,250:]\\n          )\\n      )\\n    |\\n        <>AssetEnc{InUni}\\n        | AssetEnc{Code}\\n    |\\n        <>FaceValue{Volume}\\n        | Return{mix[1,2,3,4,5,6,7,8,9,11,12,13,14,15,16,17,18,19]}\\n        | Return{rr|af|it}\\n    '\n",
    "        train_on = fullhouse\n",
    "        weight = 'flat_weight'\n",
    "        params = dict(learning_rate=0.05,max_depth=-1,num_leaves=4096,min_data_in_leaf=120,min_sum_hessian_in_leaf=100,lambda_l1=0,lambda_l2=0,num_iterations=300)\n",
    "    class aIKGCoverThreeMoreShort(NamedO()):\n",
    "        features = [\"assetCodeId\",\"volume\",\"cc\",\"oo\",\"acc\",\"aoo\",\"oo15\",\"oo3\",\"oo6\",\"oo9\",\"oo12\",\"oo18\",\"aoo15\",\"aoo3\",\"aoo6\",\"aoo9\",\"aoo12\",\"aoo18\",\"af\",\"it\",\"rr\",\"oo{0/1}\",\"oo{0/2}\",\"oo{1/2}\",\"oo{1}\",\"oo{2}\",\"(aoo-acc){0/1}\",\"(aoo-acc){0/2}\",\"(aoo-acc){1/2}\",\"(aoo-acc){1}\",\"(aoo-acc){2}\",\"af{1}\",\"it{1}\",\"(it,af,it{1},aoo,acc){0/1}\",\"(it{1},af{1},it{2},aoo{1},acc{1}){0/1}\",\"(it,af,it{1},aoo,acc){0/2}\",\"(it{1},af{1},it{2},aoo{1},acc{1}){0/2}\",\"(it,af,it{1},aoo,acc){0/3}\",\"(it{1},af{1},it{2},aoo{1},acc{1}){0/3}\",\"(it,af,it{1},aoo,acc){0/4}\",\"(it{1},af{1},it{2},aoo{1},acc{1}){0/4}\",\"(it,af,it{1},aoo,acc){1/2}\",\"(it{1},af{1},it{2},aoo{1},acc{1}){1/2}\",\"(it,af,it{1},aoo,acc){1/3}\",\"(it{1},af{1},it{2},aoo{1},acc{1}){1/3}\",\"(it,af,it{1},aoo,acc){1/4}\",\"(it{1},af{1},it{2},aoo{1},acc{1}){1/4}\",\"(it,af,it{1},aoo,acc){2/3}\",\"(it{1},af{1},it{2},aoo{1},acc{1}){2/3}\",\"(it,af,it{1},aoo,acc){2/4}\",\"(it{1},af{1},it{2},aoo{1},acc{1}){2/4}\",\"oo1Since21\",\"oo1MaxSince21\",\"oo1Drawdown1Since21\",\"oo1Drawdown5Since21\",\"oo1Drawdown10Since21\",\"oo1MinSince21\",\"oo1MinSince21{10}\",\"aoo1Since21\",\"aoo1MaxSince21\",\"aoo1Drawdown1Since21\",\"aoo1Drawdown5Since21\",\"aoo1Drawdown10Since21\",\"aoo1MinSince21\",\"aoo1MinSince21{10}\",\"oo1Since62\",\"oo1MaxSince62\",\"oo1Drawdown1Since62\",\"oo1Drawdown5Since62\",\"oo1Drawdown10Since62\",\"oo1MinSince62\",\"oo1MinSince62{10}\",\"aoo1Since62\",\"aoo1MaxSince62\",\"aoo1Drawdown1Since62\",\"aoo1Drawdown5Since62\",\"aoo1Drawdown10Since62\",\"aoo1MinSince62\",\"aoo1MinSince62{10}\",\"oo1Since125\",\"oo1MaxSince125\",\"oo1Drawdown1Since125\",\"oo1Drawdown5Since125\",\"oo1Drawdown10Since125\",\"oo1MinSince125\",\"oo1MinSince125{10}\",\"aoo1Since125\",\"aoo1MaxSince125\",\"aoo1Drawdown1Since125\",\"aoo1Drawdown5Since125\",\"aoo1Drawdown10Since125\",\"aoo1MinSince125\",\"aoo1MinSince125{10}\",\"oo1Since250\",\"oo1MaxSince250\",\"oo1Drawdown1Since250\",\"oo1Drawdown5Since250\",\"oo1Drawdown10Since250\",\"oo1MinSince250\",\"oo1MinSince250{10}\",\"aoo1Since250\",\"aoo1MaxSince250\",\"aoo1Drawdown1Since250\",\"aoo1Drawdown5Since250\",\"aoo1Drawdown10Since250\",\"aoo1MinSince250\",\"aoo1MinSince250{10}\",\"assetCode_inUniCount\"]\n",
    "        feats_ctor = '<IKGCoverThreeMoreShort>\\n    <>~Market & (\\n        <>Return{.&pure&~digit&~TEN} & ~Since & Return{.&\\n            <>(oo|cc|aoo|acc|daoc)\\n            & index[0,1,2,0:1,1:2,0:2]\\n          }\\n        | Return{.&pure&~index} & ~Since & Return{.&\\n            <>(oo|aoo)\\n            & [3:,6:,9:,12:,15:,18:,6:3,9:6,12:9,15:12,18:15,21:18,9:3,12:6,            15:9,18:12,21:15,12:3,15:6,18:9,21:12,15:3,18:6,21:9,18:3,21:6,21:3]\\n          }\\n        | (\\n            <>Return{(oo{.&[1:]}|aoo[1:])}\\n            & (\\n                <> ~Drawdown&~Drawup&~Since{Min}&~Since{Max}\\n                | Drawdown[1:, 5:,10:]\\n                | Since{Max&index[0]}\\n                | Since{Min&index[0,10]}\\n              )\\n            & Since[21:,62:,125:,250:]\\n          )\\n      )\\n    |\\n        <>AssetEnc{InUni}\\n        | AssetEnc{Code}\\n    |\\n        <>FaceValue{Volume}\\n        | Return{mix[1,2,3,4,5,6,7,8,9,11,12,13,14,15,16,17,18,19]}\\n        | Return{rr|af|it}\\n    '\n",
    "        train_on = fullhouse\n",
    "        weight = 'flat_weight'\n",
    "        params = dict(learning_rate=0.05,max_depth=-1,num_leaves=4096,min_data_in_leaf=120,min_sum_hessian_in_leaf=100,lambda_l1=0,lambda_l2=0,num_iterations=197)\n",
    "    class mikg(NamedO()):\n",
    "        features = [\"volume\",\"cc\",\"oo\",\"acc\",\"aoo\",\"ccTEN\",\"ooTEN\",\"accTEN\",\"aooTEN\",\"oo5\",\"oo10\",\"oo15\",\"aoo5\",\"aoo10\",\"aoo15\",\"(aoo-acc)\",\"oo20\",\"oo(10-5)\",\"oo(15-10)\",\"oo(20-15)\",\"oo(15-5)\",\"oo(20-10)\",\"oo(20-5)\",\"aoo20\",\"aoo(10-5)\",\"aoo(15-10)\",\"aoo(20-15)\",\"aoo(15-5)\",\"aoo(20-10)\",\"aoo(20-5)\",\"oo1Since21\",\"oo1MaxSince21\",\"oo1Drawdown1Since21\",\"oo1Drawdown5Since21\",\"oo1Drawdown10Since21\",\"oo1MaxSince21{10}\",\"oo1MinSince21\",\"oo1MinSince21{10}\",\"aoo1Since21\",\"aoo1MaxSince21\",\"aoo1Drawdown1Since21\",\"aoo1Drawdown5Since21\",\"aoo1Drawdown10Since21\",\"aoo1MaxSince21{10}\",\"aoo1MinSince21\",\"aoo1MinSince21{10}\",\"oo1Since62\",\"oo1MaxSince62\",\"oo1Drawdown1Since62\",\"oo1Drawdown5Since62\",\"oo1Drawdown10Since62\",\"oo1MaxSince62{10}\",\"oo1MinSince62\",\"oo1MinSince62{10}\",\"aoo1Since62\",\"aoo1MaxSince62\",\"aoo1Drawdown1Since62\",\"aoo1Drawdown5Since62\",\"aoo1Drawdown10Since62\",\"aoo1MaxSince62{10}\",\"aoo1MinSince62\",\"aoo1MinSince62{10}\",\"oo1Since125\",\"oo1MaxSince125\",\"oo1Drawdown1Since125\",\"oo1Drawdown5Since125\",\"oo1Drawdown10Since125\",\"oo1MaxSince125{10}\",\"oo1MinSince125\",\"oo1MinSince125{10}\",\"aoo1Since125\",\"aoo1MaxSince125\",\"aoo1Drawdown1Since125\",\"aoo1Drawdown5Since125\",\"aoo1Drawdown10Since125\",\"aoo1MaxSince125{10}\",\"aoo1MinSince125\",\"aoo1MinSince125{10}\",\"oo1Since250\",\"oo1MaxSince250\",\"oo1Drawdown1Since250\",\"oo1Drawdown5Since250\",\"oo1Drawdown10Since250\",\"oo1MaxSince250{10}\",\"oo1MinSince250\",\"oo1MinSince250{10}\",\"aoo1Since250\",\"aoo1MaxSince250\",\"aoo1Drawdown1Since250\",\"aoo1Drawdown5Since250\",\"aoo1Drawdown10Since250\",\"aoo1MaxSince250{10}\",\"aoo1MinSince250\",\"aoo1MinSince250{10}\",\"assetCodeIdWTFFlogabs\",\"assetCodeIdWTFFsin2\"]\n",
    "        feats_ctor = '<ikg>IKG'\n",
    "        train_on = fullhouse\n",
    "        weight = 'vp10_weight'\n",
    "        params = dict(learning_rate=0.05,max_depth=-1,num_leaves=4096,min_data_in_leaf=120,min_sum_hessian_in_leaf=100,lambda_l1=0,lambda_l2=0,num_iterations=417)\n",
    "    class mIKGZen(NamedO()):\n",
    "        features = [\"cc\",\"oo\",\"acc\",\"aoo\",\"oo5\",\"oo10\",\"oo15\",\"aoo5\",\"aoo10\",\"aoo15\",\"oo(10-5)\",\"oo(15-10)\",\"oo(20-15)\",\"oo(15-5)\",\"oo(20-10)\",\"oo(20-5)\",\"aoo(10-5)\",\"aoo(15-10)\",\"aoo(20-15)\",\"aoo(15-5)\",\"aoo(20-10)\",\"aoo(20-5)\",\"oo1Since21\",\"oo1MaxSince21\",\"oo1Drawdown1Since21\",\"oo1Drawdown5Since21\",\"oo1Drawdown10Since21\",\"oo1MinSince21\",\"oo1MinSince21{10}\",\"aoo1Since21\",\"aoo1MaxSince21\",\"aoo1Drawdown1Since21\",\"aoo1Drawdown5Since21\",\"aoo1Drawdown10Since21\",\"aoo1MinSince21\",\"aoo1MinSince21{10}\",\"oo1Since62\",\"oo1MaxSince62\",\"oo1Drawdown1Since62\",\"oo1Drawdown5Since62\",\"oo1Drawdown10Since62\",\"oo1MinSince62\",\"oo1MinSince62{10}\",\"aoo1Since62\",\"aoo1MaxSince62\",\"aoo1Drawdown1Since62\",\"aoo1Drawdown5Since62\",\"aoo1Drawdown10Since62\",\"aoo1MinSince62\",\"aoo1MinSince62{10}\",\"oo1Since125\",\"oo1MaxSince125\",\"oo1Drawdown1Since125\",\"oo1Drawdown5Since125\",\"oo1Drawdown10Since125\",\"oo1MinSince125\",\"oo1MinSince125{10}\",\"aoo1Since125\",\"aoo1MaxSince125\",\"aoo1Drawdown1Since125\",\"aoo1Drawdown5Since125\",\"aoo1Drawdown10Since125\",\"aoo1MinSince125\",\"aoo1MinSince125{10}\",\"oo1Since250\",\"oo1MaxSince250\",\"oo1Drawdown1Since250\",\"oo1Drawdown5Since250\",\"oo1Drawdown10Since250\",\"oo1MinSince250\",\"oo1MinSince250{10}\",\"aoo1Since250\",\"aoo1MaxSince250\",\"aoo1Drawdown1Since250\",\"aoo1Drawdown5Since250\",\"aoo1Drawdown10Since250\",\"aoo1MinSince250\",\"aoo1MinSince250{10}\",\"assetCode_randMap32_0\",\"assetCode_randMap32_1\"]\n",
    "        feats_ctor = '<IKGZen>\\n    <>~Market & (\\n        <>Return{.&pure&~digit&~TEN} & ~Since & Return{.&\\n            <>(oo|cc|aoo|acc|daoc)\\n            & index[0]\\n          }\\n        | Return{.&pure&~index} & ~Since & Return{.&\\n            <>(oo|aoo)\\n            & [5:,10:,15:,10:5,15:10,20:15,15:5,20:10,20:5]\\n          }\\n        | (\\n            <>Return{(oo{.&[1:]}|aoo[1:])}\\n            & (\\n                <> ~Drawdown&~Drawup&~Since{Min}&~Since{Max}\\n                | Drawdown[1:, 5:,10:]\\n                | Since{Max&index[0]}\\n                | Since{Min&index[0,10]}\\n              )\\n            & Since[21:,62:,125:,250:]\\n          )\\n      )\\n    |\\n        <>AssetEnc{RandMap[0,1]}\\n    '\n",
    "        train_on = fullhouse\n",
    "        weight = 'vp10_weight'\n",
    "        params = dict(learning_rate=0.05,max_depth=-1,num_leaves=4096,min_data_in_leaf=120,min_sum_hessian_in_leaf=100,lambda_l1=0,lambda_l2=0,num_iterations=339)\n",
    "    class mIKGHomo(NamedO()):\n",
    "        features = [\"cc\",\"oo\",\"acc\",\"aoo\",\"oo5\",\"oo10\",\"oo15\",\"aoo5\",\"aoo10\",\"aoo15\",\"oo(10-5)\",\"oo(15-10)\",\"oo(20-15)\",\"oo(15-5)\",\"oo(20-10)\",\"oo(20-5)\",\"aoo(10-5)\",\"aoo(15-10)\",\"aoo(20-15)\",\"aoo(15-5)\",\"aoo(20-10)\",\"aoo(20-5)\",\"oo1Since21\",\"oo1MaxSince21\",\"oo1Drawdown1Since21\",\"oo1Drawdown5Since21\",\"oo1Drawdown10Since21\",\"oo1MinSince21\",\"oo1MinSince21{10}\",\"aoo1Since21\",\"aoo1MaxSince21\",\"aoo1Drawdown1Since21\",\"aoo1Drawdown5Since21\",\"aoo1Drawdown10Since21\",\"aoo1MinSince21\",\"aoo1MinSince21{10}\",\"oo1Since62\",\"oo1MaxSince62\",\"oo1Drawdown1Since62\",\"oo1Drawdown5Since62\",\"oo1Drawdown10Since62\",\"oo1MinSince62\",\"oo1MinSince62{10}\",\"aoo1Since62\",\"aoo1MaxSince62\",\"aoo1Drawdown1Since62\",\"aoo1Drawdown5Since62\",\"aoo1Drawdown10Since62\",\"aoo1MinSince62\",\"aoo1MinSince62{10}\",\"oo1Since125\",\"oo1MaxSince125\",\"oo1Drawdown1Since125\",\"oo1Drawdown5Since125\",\"oo1Drawdown10Since125\",\"oo1MinSince125\",\"oo1MinSince125{10}\",\"aoo1Since125\",\"aoo1MaxSince125\",\"aoo1Drawdown1Since125\",\"aoo1Drawdown5Since125\",\"aoo1Drawdown10Since125\",\"aoo1MinSince125\",\"aoo1MinSince125{10}\",\"oo1Since250\",\"oo1MaxSince250\",\"oo1Drawdown1Since250\",\"oo1Drawdown5Since250\",\"oo1Drawdown10Since250\",\"oo1MinSince250\",\"oo1MinSince250{10}\",\"aoo1Since250\",\"aoo1MaxSince250\",\"aoo1Drawdown1Since250\",\"aoo1Drawdown5Since250\",\"aoo1Drawdown10Since250\",\"aoo1MinSince250\",\"aoo1MinSince250{10}\"]\n",
    "        feats_ctor = '<IKGHomo>\\n    <>~Market & (\\n        <>Return{.&pure&~digit&~TEN} & ~Since & Return{.&\\n            <>(oo|cc|aoo|acc|daoc)\\n            & index[0]\\n          }\\n        | Return{.&pure&~index} & ~Since & Return{.&\\n            <>(oo|aoo)\\n            & [5:,10:,15:,10:5,15:10,20:15,15:5,20:10,20:5]\\n          }\\n        | (\\n            <>Return{(oo{.&[1:]}|aoo[1:])}\\n            & (\\n                <> ~Drawdown&~Drawup&~Since{Min}&~Since{Max}\\n                | Drawdown[1:, 5:,10:]\\n                | Since{Max&index[0]}\\n                | Since{Min&index[0,10]}\\n              )\\n            & Since[21:,62:,125:,250:]\\n          )\\n      )\\n    '\n",
    "        train_on = fullhouse\n",
    "        weight = 'vp10_weight'\n",
    "        params = dict(learning_rate=0.05,max_depth=-1,num_leaves=4096,min_data_in_leaf=120,min_sum_hessian_in_leaf=100,lambda_l1=0,lambda_l2=0,num_iterations=432)\n",
    "    class mIKGZenTenDraw(NamedO()):\n",
    "        features = [\"cc\",\"oo\",\"acc\",\"aoo\",\"oo5\",\"oo10\",\"oo15\",\"aoo5\",\"aoo10\",\"aoo15\",\"oo(10-5)\",\"oo(15-10)\",\"oo(20-15)\",\"oo(15-5)\",\"oo(20-10)\",\"oo(20-5)\",\"aoo(10-5)\",\"aoo(15-10)\",\"aoo(20-15)\",\"aoo(15-5)\",\"aoo(20-10)\",\"aoo(20-5)\",\"oo1Since21\",\"oo1MaxSince21\",\"oo1Drawdown1Since21\",\"oo1Drawdown5Since21\",\"oo1Drawdown10Since21\",\"oo1MinSince21\",\"oo1MinSince21{10}\",\"aoo1Since21\",\"aoo1MaxSince21\",\"aoo1Drawdown1Since21\",\"aoo1Drawdown5Since21\",\"aoo1Drawdown10Since21\",\"aoo1MinSince21\",\"aoo1MinSince21{10}\",\"oo10Since21\",\"oo10MaxSince21\",\"oo10Drawdown1Since21\",\"oo10Drawdown5Since21\",\"oo10Drawdown10Since21\",\"oo10MinSince21\",\"oo10MinSince21{10}\",\"aoo10Since21\",\"aoo10MaxSince21\",\"aoo10Drawdown1Since21\",\"aoo10Drawdown5Since21\",\"aoo10Drawdown10Since21\",\"aoo10MinSince21\",\"aoo10MinSince21{10}\",\"oo1Since62\",\"oo1MaxSince62\",\"oo1Drawdown1Since62\",\"oo1Drawdown5Since62\",\"oo1Drawdown10Since62\",\"oo1MinSince62\",\"oo1MinSince62{10}\",\"aoo1Since62\",\"aoo1MaxSince62\",\"aoo1Drawdown1Since62\",\"aoo1Drawdown5Since62\",\"aoo1Drawdown10Since62\",\"aoo1MinSince62\",\"aoo1MinSince62{10}\",\"oo10Since62\",\"oo10MaxSince62\",\"oo10Drawdown1Since62\",\"oo10Drawdown5Since62\",\"oo10Drawdown10Since62\",\"oo10MinSince62\",\"oo10MinSince62{10}\",\"aoo10Since62\",\"aoo10MaxSince62\",\"aoo10Drawdown1Since62\",\"aoo10Drawdown5Since62\",\"aoo10Drawdown10Since62\",\"aoo10MinSince62\",\"aoo10MinSince62{10}\",\"oo1Since125\",\"oo1MaxSince125\",\"oo1Drawdown1Since125\",\"oo1Drawdown5Since125\",\"oo1Drawdown10Since125\",\"oo1MinSince125\",\"oo1MinSince125{10}\",\"aoo1Since125\",\"aoo1MaxSince125\",\"aoo1Drawdown1Since125\",\"aoo1Drawdown5Since125\",\"aoo1Drawdown10Since125\",\"aoo1MinSince125\",\"aoo1MinSince125{10}\",\"oo10Since125\",\"oo10MaxSince125\",\"oo10Drawdown1Since125\",\"oo10Drawdown5Since125\",\"oo10Drawdown10Since125\",\"oo10MinSince125\",\"oo10MinSince125{10}\",\"aoo10Since125\",\"aoo10MaxSince125\",\"aoo10Drawdown1Since125\",\"aoo10Drawdown5Since125\",\"aoo10Drawdown10Since125\",\"aoo10MinSince125\",\"aoo10MinSince125{10}\",\"oo1Since250\",\"oo1MaxSince250\",\"oo1Drawdown1Since250\",\"oo1Drawdown5Since250\",\"oo1Drawdown10Since250\",\"oo1MinSince250\",\"oo1MinSince250{10}\",\"aoo1Since250\",\"aoo1MaxSince250\",\"aoo1Drawdown1Since250\",\"aoo1Drawdown5Since250\",\"aoo1Drawdown10Since250\",\"aoo1MinSince250\",\"aoo1MinSince250{10}\",\"oo10Since250\",\"oo10MaxSince250\",\"oo10Drawdown1Since250\",\"oo10Drawdown5Since250\",\"oo10Drawdown10Since250\",\"oo10MinSince250\",\"oo10MinSince250{10}\",\"aoo10Since250\",\"aoo10MaxSince250\",\"aoo10Drawdown1Since250\",\"aoo10Drawdown5Since250\",\"aoo10Drawdown10Since250\",\"aoo10MinSince250\",\"aoo10MinSince250{10}\",\"assetCode_randMap32_0\",\"assetCode_randMap32_1\"]\n",
    "        feats_ctor = '<IKGZenTenDraw>\\n    <>~Market & (\\n        <>Return{.&pure&~digit&~TEN} & ~Since & Return{.&\\n            <>(oo|cc|aoo|acc|daoc)\\n            & index[0]\\n          }\\n        | Return{.&pure&~index} & ~Since & Return{.&\\n            <>(oo|aoo)\\n            & [5:,10:,15:,10:5,15:10,20:15,15:5,20:10,20:5]\\n          }\\n        | (\\n            <>Return{(oo{.&[1:]}|aoo[1:]|oo{.&[10:]}|aoo[10:])}\\n            & (\\n                <> ~Drawdown&~Drawup&~Since{Min}&~Since{Max}\\n                | Drawdown[1:, 5:,10:]\\n                | Since{Max&index[0]}\\n                | Since{Min&index[0,10]}\\n              )\\n            & Since[21:,62:,125:,250:]\\n          )\\n      )\\n    |\\n        <>AssetEnc{RandMap[1,0]}\\n    '\n",
    "        train_on = fullhouse\n",
    "        weight = 'vp10_weight'\n",
    "        params = dict(learning_rate=0.05,max_depth=-1,num_leaves=4096,min_data_in_leaf=120,min_sum_hessian_in_leaf=100,lambda_l1=0,lambda_l2=0,num_iterations=236)\n",
    "    class mIKGHomoTenDraw(NamedO()):\n",
    "        features = [\"cc\",\"oo\",\"acc\",\"aoo\",\"oo5\",\"oo10\",\"oo15\",\"aoo5\",\"aoo10\",\"aoo15\",\"oo(10-5)\",\"oo(15-10)\",\"oo(20-15)\",\"oo(15-5)\",\"oo(20-10)\",\"oo(20-5)\",\"aoo(10-5)\",\"aoo(15-10)\",\"aoo(20-15)\",\"aoo(15-5)\",\"aoo(20-10)\",\"aoo(20-5)\",\"oo1Since21\",\"oo1MaxSince21\",\"oo1Drawdown1Since21\",\"oo1Drawdown5Since21\",\"oo1Drawdown10Since21\",\"oo1MinSince21\",\"oo1MinSince21{10}\",\"aoo1Since21\",\"aoo1MaxSince21\",\"aoo1Drawdown1Since21\",\"aoo1Drawdown5Since21\",\"aoo1Drawdown10Since21\",\"aoo1MinSince21\",\"aoo1MinSince21{10}\",\"oo10Since21\",\"oo10MaxSince21\",\"oo10Drawdown1Since21\",\"oo10Drawdown5Since21\",\"oo10Drawdown10Since21\",\"oo10MinSince21\",\"oo10MinSince21{10}\",\"aoo10Since21\",\"aoo10MaxSince21\",\"aoo10Drawdown1Since21\",\"aoo10Drawdown5Since21\",\"aoo10Drawdown10Since21\",\"aoo10MinSince21\",\"aoo10MinSince21{10}\",\"oo1Since62\",\"oo1MaxSince62\",\"oo1Drawdown1Since62\",\"oo1Drawdown5Since62\",\"oo1Drawdown10Since62\",\"oo1MinSince62\",\"oo1MinSince62{10}\",\"aoo1Since62\",\"aoo1MaxSince62\",\"aoo1Drawdown1Since62\",\"aoo1Drawdown5Since62\",\"aoo1Drawdown10Since62\",\"aoo1MinSince62\",\"aoo1MinSince62{10}\",\"oo10Since62\",\"oo10MaxSince62\",\"oo10Drawdown1Since62\",\"oo10Drawdown5Since62\",\"oo10Drawdown10Since62\",\"oo10MinSince62\",\"oo10MinSince62{10}\",\"aoo10Since62\",\"aoo10MaxSince62\",\"aoo10Drawdown1Since62\",\"aoo10Drawdown5Since62\",\"aoo10Drawdown10Since62\",\"aoo10MinSince62\",\"aoo10MinSince62{10}\",\"oo1Since125\",\"oo1MaxSince125\",\"oo1Drawdown1Since125\",\"oo1Drawdown5Since125\",\"oo1Drawdown10Since125\",\"oo1MinSince125\",\"oo1MinSince125{10}\",\"aoo1Since125\",\"aoo1MaxSince125\",\"aoo1Drawdown1Since125\",\"aoo1Drawdown5Since125\",\"aoo1Drawdown10Since125\",\"aoo1MinSince125\",\"aoo1MinSince125{10}\",\"oo10Since125\",\"oo10MaxSince125\",\"oo10Drawdown1Since125\",\"oo10Drawdown5Since125\",\"oo10Drawdown10Since125\",\"oo10MinSince125\",\"oo10MinSince125{10}\",\"aoo10Since125\",\"aoo10MaxSince125\",\"aoo10Drawdown1Since125\",\"aoo10Drawdown5Since125\",\"aoo10Drawdown10Since125\",\"aoo10MinSince125\",\"aoo10MinSince125{10}\",\"oo1Since250\",\"oo1MaxSince250\",\"oo1Drawdown1Since250\",\"oo1Drawdown5Since250\",\"oo1Drawdown10Since250\",\"oo1MinSince250\",\"oo1MinSince250{10}\",\"aoo1Since250\",\"aoo1MaxSince250\",\"aoo1Drawdown1Since250\",\"aoo1Drawdown5Since250\",\"aoo1Drawdown10Since250\",\"aoo1MinSince250\",\"aoo1MinSince250{10}\",\"oo10Since250\",\"oo10MaxSince250\",\"oo10Drawdown1Since250\",\"oo10Drawdown5Since250\",\"oo10Drawdown10Since250\",\"oo10MinSince250\",\"oo10MinSince250{10}\",\"aoo10Since250\",\"aoo10MaxSince250\",\"aoo10Drawdown1Since250\",\"aoo10Drawdown5Since250\",\"aoo10Drawdown10Since250\",\"aoo10MinSince250\",\"aoo10MinSince250{10}\"]\n",
    "        feats_ctor = '<IKGHomoTenDraw>\\n    <>~Market & (\\n        <>Return{.&pure&~digit&~TEN} & ~Since & Return{.&\\n            <>(oo|cc|aoo|acc|daoc)\\n            & index[0]\\n          }\\n        | Return{.&pure&~index} & ~Since & Return{.&\\n            <>(oo|aoo)\\n            & [5:,10:,15:,10:5,15:10,20:15,15:5,20:10,20:5]\\n          }\\n        | (\\n            <>Return{(oo{.&[1:]}|aoo[1:]|oo{.&[10:]}|aoo[10:])}\\n            & (\\n                <> ~Drawdown&~Drawup&~Since{Min}&~Since{Max}\\n                | Drawdown[1:, 5:,10:]\\n                | Since{Max&index[0]}\\n                | Since{Min&index[0,10]}\\n              )\\n            & Since[21:,62:,125:,250:]\\n          )\\n      )\\n    '\n",
    "        train_on = fullhouse\n",
    "        weight = 'vp10_weight'\n",
    "        params = dict(learning_rate=0.05,max_depth=-1,num_leaves=4096,min_data_in_leaf=120,min_sum_hessian_in_leaf=100,lambda_l1=0,lambda_l2=0,num_iterations=232)\n",
    "    class mIKGZenVolatility(NamedO()):\n",
    "        features = [\"cc\",\"oo\",\"acc\",\"aoo\",\"oo5\",\"oo10\",\"oo15\",\"aoo5\",\"aoo10\",\"aoo15\",\"volatility60\",\"oo(10-5)\",\"oo(15-10)\",\"oo(20-15)\",\"oo(15-5)\",\"oo(20-10)\",\"oo(20-5)\",\"aoo(10-5)\",\"aoo(15-10)\",\"aoo(20-15)\",\"aoo(15-5)\",\"aoo(20-10)\",\"aoo(20-5)\",\"oo1Since21\",\"oo1MaxSince21\",\"oo1Drawdown1Since21\",\"oo1Drawdown5Since21\",\"oo1Drawdown10Since21\",\"oo1MinSince21\",\"oo1MinSince21{10}\",\"aoo1Since21\",\"aoo1MaxSince21\",\"aoo1Drawdown1Since21\",\"aoo1Drawdown5Since21\",\"aoo1Drawdown10Since21\",\"aoo1MinSince21\",\"aoo1MinSince21{10}\",\"volatility20MaxSince21\",\"volatility20MaxSince21{10}\",\"volatility20MinSince21\",\"volatility20MinSince21{10}\",\"oo1Since62\",\"oo1MaxSince62\",\"oo1Drawdown1Since62\",\"oo1Drawdown5Since62\",\"oo1Drawdown10Since62\",\"oo1MinSince62\",\"oo1MinSince62{10}\",\"aoo1Since62\",\"aoo1MaxSince62\",\"aoo1Drawdown1Since62\",\"aoo1Drawdown5Since62\",\"aoo1Drawdown10Since62\",\"aoo1MinSince62\",\"aoo1MinSince62{10}\",\"oo1Since125\",\"oo1MaxSince125\",\"oo1Drawdown1Since125\",\"oo1Drawdown5Since125\",\"oo1Drawdown10Since125\",\"oo1MinSince125\",\"oo1MinSince125{10}\",\"aoo1Since125\",\"aoo1MaxSince125\",\"aoo1Drawdown1Since125\",\"aoo1Drawdown5Since125\",\"aoo1Drawdown10Since125\",\"aoo1MinSince125\",\"aoo1MinSince125{10}\",\"volatility20MaxSince125\",\"volatility20MaxSince125{10}\",\"volatility20MinSince125\",\"volatility20MinSince125{10}\",\"oo1Since250\",\"oo1MaxSince250\",\"oo1Drawdown1Since250\",\"oo1Drawdown5Since250\",\"oo1Drawdown10Since250\",\"oo1MinSince250\",\"oo1MinSince250{10}\",\"aoo1Since250\",\"aoo1MaxSince250\",\"aoo1Drawdown1Since250\",\"aoo1Drawdown5Since250\",\"aoo1Drawdown10Since250\",\"aoo1MinSince250\",\"aoo1MinSince250{10}\",\"volatility20MaxSince250\",\"volatility20MaxSince250{10}\",\"volatility20MinSince250\",\"volatility20MinSince250{10}\",\"assetCode_randMap32_4\",\"assetCode_randMap32_5\"]\n",
    "        feats_ctor = '<IKGZenVolatility>\\n    <>~Market & (\\n        <>Return{.&pure&~digit&~TEN} & ~Since & Return{.&\\n            <>(oo|cc|aoo|acc|daoc)\\n            & index[0]\\n          }\\n        | Return{.&pure&~index} & ~Since & Return{.&\\n            <>(oo|aoo)\\n            & [5:,10:,15:,10:5,15:10,20:15,15:5,20:10,20:5]\\n          }\\n        | (\\n            <>Return{(oo{.&[1:]}|aoo[1:])}\\n            & (\\n                <> ~Drawdown&~Drawup&~Since{Min}&~Since{Max}\\n                | Drawdown[1:, 5:,10:]\\n                | Since{Max&index[0]}\\n                | Since{Min&index[0,10]}\\n              )\\n            & Since[21:,62:,125:,250:]\\n          )\\n        | (\\n            <> Volatility[60:]\\n            | Volatility[20:]\\n            & (\\n                | Since{Max & index[0,10]}\\n                | Since{Min & index[0,10]}\\n              )\\n            & Since[21:,65:,125:,250:]\\n          )\\n      )\\n    |\\n        <>AssetEnc{RandMap[4,5]}\\n    '\n",
    "        train_on = fullhouse\n",
    "        weight = 'vp10_weight'\n",
    "        params = dict(learning_rate=0.05,max_depth=-1,num_leaves=4096,min_data_in_leaf=120,min_sum_hessian_in_leaf=100,lambda_l1=0,lambda_l2=0,num_iterations=396)\n",
    "    class mIKGHomoVolatility(NamedO()):\n",
    "        features = [\"cc\",\"oo\",\"acc\",\"aoo\",\"oo5\",\"oo10\",\"oo15\",\"aoo5\",\"aoo10\",\"aoo15\",\"volatility60\",\"oo(10-5)\",\"oo(15-10)\",\"oo(20-15)\",\"oo(15-5)\",\"oo(20-10)\",\"oo(20-5)\",\"aoo(10-5)\",\"aoo(15-10)\",\"aoo(20-15)\",\"aoo(15-5)\",\"aoo(20-10)\",\"aoo(20-5)\",\"oo1Since21\",\"oo1MaxSince21\",\"oo1Drawdown1Since21\",\"oo1Drawdown5Since21\",\"oo1Drawdown10Since21\",\"oo1MinSince21\",\"oo1MinSince21{10}\",\"aoo1Since21\",\"aoo1MaxSince21\",\"aoo1Drawdown1Since21\",\"aoo1Drawdown5Since21\",\"aoo1Drawdown10Since21\",\"aoo1MinSince21\",\"aoo1MinSince21{10}\",\"volatility20MaxSince21\",\"volatility20MaxSince21{10}\",\"volatility20MinSince21\",\"volatility20MinSince21{10}\",\"oo1Since62\",\"oo1MaxSince62\",\"oo1Drawdown1Since62\",\"oo1Drawdown5Since62\",\"oo1Drawdown10Since62\",\"oo1MinSince62\",\"oo1MinSince62{10}\",\"aoo1Since62\",\"aoo1MaxSince62\",\"aoo1Drawdown1Since62\",\"aoo1Drawdown5Since62\",\"aoo1Drawdown10Since62\",\"aoo1MinSince62\",\"aoo1MinSince62{10}\",\"oo1Since125\",\"oo1MaxSince125\",\"oo1Drawdown1Since125\",\"oo1Drawdown5Since125\",\"oo1Drawdown10Since125\",\"oo1MinSince125\",\"oo1MinSince125{10}\",\"aoo1Since125\",\"aoo1MaxSince125\",\"aoo1Drawdown1Since125\",\"aoo1Drawdown5Since125\",\"aoo1Drawdown10Since125\",\"aoo1MinSince125\",\"aoo1MinSince125{10}\",\"volatility20MaxSince125\",\"volatility20MaxSince125{10}\",\"volatility20MinSince125\",\"volatility20MinSince125{10}\",\"oo1Since250\",\"oo1MaxSince250\",\"oo1Drawdown1Since250\",\"oo1Drawdown5Since250\",\"oo1Drawdown10Since250\",\"oo1MinSince250\",\"oo1MinSince250{10}\",\"aoo1Since250\",\"aoo1MaxSince250\",\"aoo1Drawdown1Since250\",\"aoo1Drawdown5Since250\",\"aoo1Drawdown10Since250\",\"aoo1MinSince250\",\"aoo1MinSince250{10}\",\"volatility20MaxSince250\",\"volatility20MaxSince250{10}\",\"volatility20MinSince250\",\"volatility20MinSince250{10}\"]\n",
    "        feats_ctor = '<IKGHomoVolatility>\\n    <>~Market & (\\n        <>Return{.&pure&~digit&~TEN} & ~Since & Return{.&\\n            <>(oo|cc|aoo|acc|daoc)\\n            & index[0]\\n          }\\n        | Return{.&pure&~index} & ~Since & Return{.&\\n            <>(oo|aoo)\\n            & [5:,10:,15:,10:5,15:10,20:15,15:5,20:10,20:5]\\n          }\\n        | (\\n            <>Return{(oo{.&[1:]}|aoo[1:])}\\n            & (\\n                <> ~Drawdown&~Drawup&~Since{Min}&~Since{Max}\\n                | Drawdown[1:, 5:,10:]\\n                | Since{Max&index[0]}\\n                | Since{Min&index[0,10]}\\n              )\\n            & Since[21:,62:,125:,250:]\\n          )\\n        | (\\n            <> Volatility[60:]\\n            | Volatility[20:]\\n            & (\\n                | Since{Max & index[0,10]}\\n                | Since{Min & index[0,10]}\\n              )\\n            & Since[21:,65:,125:,250:]\\n          )\\n      )\\n    |\\n    '\n",
    "        train_on = fullhouse\n",
    "        weight = 'vp10_weight'\n",
    "        params = dict(learning_rate=0.05,max_depth=-1,num_leaves=4096,min_data_in_leaf=120,min_sum_hessian_in_leaf=100,lambda_l1=0,lambda_l2=0,num_iterations=545)\n",
    "    class mAnother(NamedO()):\n",
    "        features = [\"oo\",\"aoo\",\"dayOfYear\",\"dayOfWeek\",\"oo15\",\"oo3\",\"oo6\",\"oo9\",\"oo12\",\"oo18\",\"aoo15\",\"aoo3\",\"aoo6\",\"aoo9\",\"aoo12\",\"aoo18\",\"oo{0/1}\",\"oo{0/2}\",\"oo{1/2}\",\"oo{1}\",\"oo{2}\",\"(oo-aoo){0/1}\",\"(oo-aoo){0/2}\",\"(oo-aoo){1/2}\",\"(oo-aoo){1}\",\"(oo-aoo){2}\",\"(oo-cc){0/1}\",\"(oo-cc){0/2}\",\"(oo-cc){1/2}\",\"(oo-cc){1}\",\"(oo-cc){2}\",\"(aoo-acc){0/1}\",\"(aoo-acc){0/2}\",\"(aoo-acc){1/2}\",\"(aoo-acc){1}\",\"(aoo-acc){2}\",\"vp1dd{0/1}\",\"vp1dd{0/2}\",\"vp1dd{1/2}\",\"vp1dd\",\"vp1dd{1}\",\"vp1dd{2}\",\"oo1Since21\",\"oo1MaxSince21\",\"oo1Drawdown5Since21\",\"oo1Drawdown(10-5)Since21\",\"oo1Drawdown(20-10)Since21\",\"oo1MaxSince21{10}\",\"oo1MinSince21\",\"oo1Drawup5Since21\",\"oo1Drawup(10-5)Since21\",\"oo1Drawup(20-10)Since21\",\"oo1MinSince21{10}\",\"aoo1Since21\",\"aoo1MaxSince21\",\"aoo1Drawdown5Since21\",\"aoo1Drawdown(10-5)Since21\",\"aoo1Drawdown(20-10)Since21\",\"aoo1MaxSince21{10}\",\"aoo1MinSince21\",\"aoo1Drawup5Since21\",\"aoo1Drawup(10-5)Since21\",\"aoo1Drawup(20-10)Since21\",\"aoo1MinSince21{10}\",\"vp1dd1Since21\",\"vp1dd1MaxSince21\",\"vp1dd1Drawdown5Since21\",\"vp1dd1Drawdown(10-5)Since21\",\"vp1dd1Drawdown(20-10)Since21\",\"vp1dd1MaxSince21{10}\",\"vp1dd1MinSince21\",\"vp1dd1Drawup5Since21\",\"vp1dd1Drawup(10-5)Since21\",\"vp1dd1Drawup(20-10)Since21\",\"vp1dd1MinSince21{10}\",\"oo1Since62\",\"oo1MaxSince62\",\"oo1Drawdown5Since62\",\"oo1Drawdown(10-5)Since62\",\"oo1Drawdown(20-10)Since62\",\"oo1MaxSince62{10}\",\"oo1MinSince62\",\"oo1Drawup5Since62\",\"oo1Drawup(10-5)Since62\",\"oo1Drawup(20-10)Since62\",\"oo1MinSince62{10}\",\"aoo1Since62\",\"aoo1MaxSince62\",\"aoo1Drawdown5Since62\",\"aoo1Drawdown(10-5)Since62\",\"aoo1Drawdown(20-10)Since62\",\"aoo1MaxSince62{10}\",\"aoo1MinSince62\",\"aoo1Drawup5Since62\",\"aoo1Drawup(10-5)Since62\",\"aoo1Drawup(20-10)Since62\",\"aoo1MinSince62{10}\",\"vp1dd1Since62\",\"vp1dd1MaxSince62\",\"vp1dd1Drawdown5Since62\",\"vp1dd1Drawdown(10-5)Since62\",\"vp1dd1Drawdown(20-10)Since62\",\"vp1dd1MaxSince62{10}\",\"vp1dd1MinSince62\",\"vp1dd1Drawup5Since62\",\"vp1dd1Drawup(10-5)Since62\",\"vp1dd1Drawup(20-10)Since62\",\"vp1dd1MinSince62{10}\"]\n",
    "        feats_ctor = '<Another>\\n    <>~Market & (\\n        <>Return{.&pure&~digit&~TEN} & ~Since & Return{.&\\n            <>(oo|aoo|doo|doc|daoc|vp1dd)\\n            & index[0,1,2,0:1,1:2,0:2]\\n          }\\n        | Return{.&pure&~index} & ~Since & Return{.&\\n            <>(oo|aoo)\\n            & [3:,6:,9:,12:,15:,18:,6:3,9:6,12:9,15:12,18:15,21:18,9:3,12:6,            15:9,18:12,21:15,12:3,15:6,18:9,21:12,15:3,18:6,21:9,18:3,21:6,21:3]\\n          }\\n        | (\\n            <>Return{(oo{.&[1:]}|aoo[1:]|vp1dd)}\\n            & (\\n                <> ~Drawdown&~Drawup&~Since{Min}&~Since{Max}\\n                | Drawdown[5:,10:5,20:10]\\n                | Since{Min&index[0,10]}\\n                | Drawup[5:,10:5,20:10]\\n                | Since{Max&index[0,10]}\\n              )\\n            & Since[21:,62:]\\n          )\\n      )\\n    |\\n        Time{long | short}\\n    '\n",
    "        train_on = fullhouse\n",
    "        weight = 'vp10_weight'\n",
    "        params = dict(learning_rate=0.05,max_depth=-1,num_leaves=4096,min_data_in_leaf=120,min_sum_hessian_in_leaf=100,lambda_l1=0,lambda_l2=0,num_iterations=224)\n",
    "    class mGlobal(NamedO()):\n",
    "        features = [\"cc\",\"oo\",\"acc\",\"aoo\",\"oo15\",\"oo3\",\"oo6\",\"oo9\",\"oo12\",\"oo18\",\"aoo15\",\"aoo3\",\"aoo6\",\"aoo9\",\"aoo12\",\"aoo18\",\"(oo-aoo)15\",\"(oo-aoo)3\",\"(oo-aoo)6\",\"(oo-aoo)9\",\"(oo-aoo)12\",\"(oo-aoo)18\",\"volatility20\",\"volatility60\",\"vp20\",\"vp60\",\"oo{1}\",\"oo{2}\",\"(oo-aoo){1}\",\"(oo-aoo){2}\",\"(cc-acc){1}\",\"(cc-acc){2}\",\"(oo-cc){1}\",\"(oo-cc){2}\",\"(aoo-acc){1}\",\"(aoo-acc){2}\",\"oo1Since21\",\"oo1MaxSince21\",\"oo1Drawdown1Since21\",\"oo1Drawdown10Since21\",\"oo1Drawdown20Since21\",\"oo1MaxSince21{20}\",\"oo1MinSince21\",\"oo1MinSince21{20}\",\"aoo1Since21\",\"aoo1MaxSince21\",\"aoo1Drawdown1Since21\",\"aoo1Drawdown10Since21\",\"aoo1Drawdown20Since21\",\"aoo1MaxSince21{20}\",\"aoo1MinSince21\",\"aoo1MinSince21{20}\",\"(oo-aoo)1Since21\",\"(oo-aoo)1MaxSince21\",\"(oo-aoo)1Drawdown1Since21\",\"(oo-aoo)1Drawdown10Since21\",\"(oo-aoo)1Drawdown20Since21\",\"(oo-aoo)1MaxSince21{20}\",\"(oo-aoo)1MinSince21\",\"(oo-aoo)1MinSince21{20}\",\"volatility20MaxSince21\",\"volatility20Drawdown1Since21\",\"volatility20Drawdown5Since21\",\"volatility20Drawdown10Since21\",\"volatility20Drawdown20Since21\",\"volatility20Drawdown(10-5)Since21\",\"volatility20Drawdown(20-10)Since21\",\"volatility20MaxSince21{5}\",\"volatility20MaxSince21{10}\",\"volatility20MaxSince21{20}\",\"volatility20MinSince21\",\"volatility20Drawup1Since21\",\"volatility20Drawup5Since21\",\"volatility20Drawup10Since21\",\"volatility20Drawup20Since21\",\"volatility20Drawup(10-5)Since21\",\"volatility20Drawup(20-10)Since21\",\"volatility20MinSince21{5}\",\"volatility20MinSince21{10}\",\"volatility20MinSince21{20}\",\"oo1Since62\",\"oo1MaxSince62\",\"oo1Drawdown1Since62\",\"oo1Drawdown10Since62\",\"oo1Drawdown20Since62\",\"oo1MaxSince62{20}\",\"oo1MinSince62\",\"oo1MinSince62{20}\",\"aoo1Since62\",\"aoo1MaxSince62\",\"aoo1Drawdown1Since62\",\"aoo1Drawdown10Since62\",\"aoo1Drawdown20Since62\",\"aoo1MaxSince62{20}\",\"aoo1MinSince62\",\"aoo1MinSince62{20}\",\"(oo-aoo)1Since62\",\"(oo-aoo)1MaxSince62\",\"(oo-aoo)1Drawdown1Since62\",\"(oo-aoo)1Drawdown10Since62\",\"(oo-aoo)1Drawdown20Since62\",\"(oo-aoo)1MaxSince62{20}\",\"(oo-aoo)1MinSince62\",\"(oo-aoo)1MinSince62{20}\",\"volatility20MaxSince62\",\"volatility20Drawdown1Since62\",\"volatility20Drawdown5Since62\",\"volatility20Drawdown10Since62\",\"volatility20Drawdown20Since62\",\"volatility20Drawdown(10-5)Since62\",\"volatility20Drawdown(20-10)Since62\",\"volatility20MaxSince62{5}\",\"volatility20MaxSince62{10}\",\"volatility20MaxSince62{20}\",\"volatility20MinSince62\",\"volatility20Drawup1Since62\",\"volatility20Drawup5Since62\",\"volatility20Drawup10Since62\",\"volatility20Drawup20Since62\",\"volatility20Drawup(10-5)Since62\",\"volatility20Drawup(20-10)Since62\",\"volatility20MinSince62{5}\",\"volatility20MinSince62{10}\",\"volatility20MinSince62{20}\",\"volatility20MaxSince125\",\"volatility20Drawdown1Since125\",\"volatility20Drawdown5Since125\",\"volatility20Drawdown10Since125\",\"volatility20Drawdown20Since125\",\"volatility20Drawdown(10-5)Since125\",\"volatility20Drawdown(20-10)Since125\",\"volatility20MaxSince125{5}\",\"volatility20MaxSince125{10}\",\"volatility20MaxSince125{20}\",\"volatility20MinSince125\",\"volatility20Drawup1Since125\",\"volatility20Drawup5Since125\",\"volatility20Drawup10Since125\",\"volatility20Drawup20Since125\",\"volatility20Drawup(10-5)Since125\",\"volatility20Drawup(20-10)Since125\",\"volatility20MinSince125{5}\",\"volatility20MinSince125{10}\",\"volatility20MinSince125{20}\",\"fracRecordedDaysSince250\",\"oo1Since250\",\"oo1MaxSince250\",\"oo1Drawdown1Since250\",\"oo1Drawdown10Since250\",\"oo1Drawdown20Since250\",\"oo1MaxSince250{20}\",\"oo1MinSince250\",\"oo1MinSince250{20}\",\"aoo1Since250\",\"aoo1MaxSince250\",\"aoo1Drawdown1Since250\",\"aoo1Drawdown10Since250\",\"aoo1Drawdown20Since250\",\"aoo1MaxSince250{20}\",\"aoo1MinSince250\",\"aoo1MinSince250{20}\",\"(oo-aoo)1Since250\",\"(oo-aoo)1MaxSince250\",\"(oo-aoo)1Drawdown1Since250\",\"(oo-aoo)1Drawdown10Since250\",\"(oo-aoo)1Drawdown20Since250\",\"(oo-aoo)1MaxSince250{20}\",\"(oo-aoo)1MinSince250\",\"(oo-aoo)1MinSince250{20}\",\"volatility20MaxSince250\",\"volatility20Drawdown1Since250\",\"volatility20Drawdown5Since250\",\"volatility20Drawdown10Since250\",\"volatility20Drawdown20Since250\",\"volatility20Drawdown(10-5)Since250\",\"volatility20Drawdown(20-10)Since250\",\"volatility20MaxSince250{5}\",\"volatility20MaxSince250{10}\",\"volatility20MaxSince250{20}\",\"volatility20MinSince250\",\"volatility20Drawup1Since250\",\"volatility20Drawup5Since250\",\"volatility20Drawup10Since250\",\"volatility20Drawup20Since250\",\"volatility20Drawup(10-5)Since250\",\"volatility20Drawup(20-10)Since250\",\"volatility20MinSince250{5}\",\"volatility20MinSince250{10}\",\"volatility20MinSince250{20}\",\"wVPm_volatility20\",\"wVPm_volatility60\"]\n",
    "        feats_ctor = '<Global>\\n    <>~Market & (\\n        <>Return{.&pure&~digit&~TEN} & ~Since & Return{.&\\n            <>(oo|cc|aoo|acc|doo|dcc|doc|daoc)\\n            & index[0,1,2]\\n          }\\n        | Return{.&pure&~index} & ~Since & Return{.&\\n            <>(oo|aoo|doo)\\n            & [3:,6:,9:,12:,15:,18:,6:3,9:6,12:9,15:12,18:15,21:18,9:3,12:6,            15:9,18:12,21:15,12:3,15:6,18:9,21:12,15:3,18:6,21:9,18:3,21:6,21:3]\\n          }\\n        | (\\n            <>Return{(oo{.&[1:]}|aoo[1:]|doo[1:])}\\n            & (\\n                <> ~Drawdown&~Drawup&~Since{Min}&~Since{Max}\\n                | Drawdown[1:,10:,20:,]\\n                | Since{Max&index[0,20]}\\n                | Since{Min&index[0,20]}\\n              )\\n            & Since[21:,62:,250:]\\n          )\\n        | (\\n            <> Volatility[20:,60:]\\n          )\\n      )\\n    | Market{.&\\n        <>(Weight)\\n        & (VP|Volatility)\\n        & [20:,60:]\\n      }\\n    |\\n        <>Return{pure&~dd} & VP[20:,60:]\\n        | FracRec[250:]\\n    '\n",
    "        train_on = fullhouse\n",
    "        weight = 'vp10_weight'\n",
    "        params = dict(learning_rate=0.05,max_depth=-1,num_leaves=4096,min_data_in_leaf=120,min_sum_hessian_in_leaf=100,lambda_l1=0,lambda_l2=0,num_iterations=58)\n",
    "    class mIKGHomoThree(NamedO()):\n",
    "        features = [\"cc\",\"oo\",\"acc\",\"aoo\",\"oo15\",\"oo3\",\"oo6\",\"oo9\",\"oo12\",\"oo18\",\"aoo15\",\"aoo3\",\"aoo6\",\"aoo9\",\"aoo12\",\"aoo18\",\"oo1Since21\",\"oo1MaxSince21\",\"oo1Drawdown1Since21\",\"oo1Drawdown5Since21\",\"oo1Drawdown10Since21\",\"oo1MinSince21\",\"oo1MinSince21{10}\",\"aoo1Since21\",\"aoo1MaxSince21\",\"aoo1Drawdown1Since21\",\"aoo1Drawdown5Since21\",\"aoo1Drawdown10Since21\",\"aoo1MinSince21\",\"aoo1MinSince21{10}\",\"oo1Since62\",\"oo1MaxSince62\",\"oo1Drawdown1Since62\",\"oo1Drawdown5Since62\",\"oo1Drawdown10Since62\",\"oo1MinSince62\",\"oo1MinSince62{10}\",\"aoo1Since62\",\"aoo1MaxSince62\",\"aoo1Drawdown1Since62\",\"aoo1Drawdown5Since62\",\"aoo1Drawdown10Since62\",\"aoo1MinSince62\",\"aoo1MinSince62{10}\",\"oo1Since125\",\"oo1MaxSince125\",\"oo1Drawdown1Since125\",\"oo1Drawdown5Since125\",\"oo1Drawdown10Since125\",\"oo1MinSince125\",\"oo1MinSince125{10}\",\"aoo1Since125\",\"aoo1MaxSince125\",\"aoo1Drawdown1Since125\",\"aoo1Drawdown5Since125\",\"aoo1Drawdown10Since125\",\"aoo1MinSince125\",\"aoo1MinSince125{10}\",\"oo1Since250\",\"oo1MaxSince250\",\"oo1Drawdown1Since250\",\"oo1Drawdown5Since250\",\"oo1Drawdown10Since250\",\"oo1MinSince250\",\"oo1MinSince250{10}\",\"aoo1Since250\",\"aoo1MaxSince250\",\"aoo1Drawdown1Since250\",\"aoo1Drawdown5Since250\",\"aoo1Drawdown10Since250\",\"aoo1MinSince250\",\"aoo1MinSince250{10}\"]\n",
    "        feats_ctor = '<IKGHomoThree>\\n    <>~Market & (\\n        <>Return{.&pure&~digit&~TEN} & ~Since & Return{.&\\n            <>(oo|cc|aoo|acc|daoc)\\n            & index[0]\\n          }\\n        | Return{.&pure&~index} & ~Since & Return{.&\\n            <>(oo|aoo)\\n            & [3:,6:,9:,12:,15:,18:,6:3,9:6,12:9,15:12,18:15,21:18,9:3,12:6,            15:9,18:12,21:15,12:3,15:6,18:9,21:12,15:3,18:6,21:9,18:3,21:6,21:3]\\n          }\\n        | (\\n            <>Return{(oo{.&[1:]}|aoo[1:])}\\n            & (\\n                <> ~Drawdown&~Drawup&~Since{Min}&~Since{Max}\\n                | Drawdown[1:, 5:,10:]\\n                | Since{Max&index[0]}\\n                | Since{Min&index[0,10]}\\n              )\\n            & Since[21:,62:,125:,250:]\\n          )\\n      )\\n    '\n",
    "        train_on = fullhouse\n",
    "        weight = 'vp10_weight'\n",
    "        params = dict(learning_rate=0.05,max_depth=-1,num_leaves=4096,min_data_in_leaf=120,min_sum_hessian_in_leaf=100,lambda_l1=0,lambda_l2=0,num_iterations=532)\n",
    "    class mIKGZenThree(NamedO()):\n",
    "        features = [\"cc\",\"oo\",\"acc\",\"aoo\",\"oo15\",\"oo3\",\"oo6\",\"oo9\",\"oo12\",\"oo18\",\"aoo15\",\"aoo3\",\"aoo6\",\"aoo9\",\"aoo12\",\"aoo18\",\"oo1Since21\",\"oo1MaxSince21\",\"oo1Drawdown1Since21\",\"oo1Drawdown5Since21\",\"oo1Drawdown10Since21\",\"oo1MinSince21\",\"oo1MinSince21{10}\",\"aoo1Since21\",\"aoo1MaxSince21\",\"aoo1Drawdown1Since21\",\"aoo1Drawdown5Since21\",\"aoo1Drawdown10Since21\",\"aoo1MinSince21\",\"aoo1MinSince21{10}\",\"oo1Since62\",\"oo1MaxSince62\",\"oo1Drawdown1Since62\",\"oo1Drawdown5Since62\",\"oo1Drawdown10Since62\",\"oo1MinSince62\",\"oo1MinSince62{10}\",\"aoo1Since62\",\"aoo1MaxSince62\",\"aoo1Drawdown1Since62\",\"aoo1Drawdown5Since62\",\"aoo1Drawdown10Since62\",\"aoo1MinSince62\",\"aoo1MinSince62{10}\",\"oo1Since125\",\"oo1MaxSince125\",\"oo1Drawdown1Since125\",\"oo1Drawdown5Since125\",\"oo1Drawdown10Since125\",\"oo1MinSince125\",\"oo1MinSince125{10}\",\"aoo1Since125\",\"aoo1MaxSince125\",\"aoo1Drawdown1Since125\",\"aoo1Drawdown5Since125\",\"aoo1Drawdown10Since125\",\"aoo1MinSince125\",\"aoo1MinSince125{10}\",\"oo1Since250\",\"oo1MaxSince250\",\"oo1Drawdown1Since250\",\"oo1Drawdown5Since250\",\"oo1Drawdown10Since250\",\"oo1MinSince250\",\"oo1MinSince250{10}\",\"aoo1Since250\",\"aoo1MaxSince250\",\"aoo1Drawdown1Since250\",\"aoo1Drawdown5Since250\",\"aoo1Drawdown10Since250\",\"aoo1MinSince250\",\"aoo1MinSince250{10}\",\"assetCode_randMap32_2\",\"assetCode_randMap32_3\"]\n",
    "        feats_ctor = '<IKGZenThree>\\n    <>~Market & (\\n        <>Return{.&pure&~digit&~TEN} & ~Since & Return{.&\\n            <>(oo|cc|aoo|acc|daoc)\\n            & index[0]\\n          }\\n        | Return{.&pure&~index} & ~Since & Return{.&\\n            <>(oo|aoo)\\n            & [3:,6:,9:,12:,15:,18:,6:3,9:6,12:9,15:12,18:15,21:18,9:3,12:6,            15:9,18:12,21:15,12:3,15:6,18:9,21:12,15:3,18:6,21:9,18:3,21:6,21:3]\\n          }\\n        | (\\n            <>Return{(oo{.&[1:]}|aoo[1:])}\\n            & (\\n                <> ~Drawdown&~Drawup&~Since{Min}&~Since{Max}\\n                | Drawdown[1:, 5:,10:]\\n                | Since{Max&index[0]}\\n                | Since{Min&index[0,10]}\\n              )\\n            & Since[21:,62:,125:,250:]\\n          )\\n      )\\n    |\\n        <>AssetEnc{RandMap[2,3]}\\n    '\n",
    "        train_on = fullhouse\n",
    "        weight = 'vp10_weight'\n",
    "        params = dict(learning_rate=0.05,max_depth=-1,num_leaves=4096,min_data_in_leaf=120,min_sum_hessian_in_leaf=100,lambda_l1=0,lambda_l2=0,num_iterations=625)\n",
    "    class mIKGZenThreeVP1(NamedO()):\n",
    "        features = [\"cc\",\"oo\",\"acc\",\"aoo\",\"oo15\",\"oo3\",\"oo6\",\"oo9\",\"oo12\",\"oo18\",\"aoo15\",\"aoo3\",\"aoo6\",\"aoo9\",\"aoo12\",\"aoo18\",\"vp1dd15\",\"vp1dd3\",\"vp1dd6\",\"vp1dd9\",\"vp1dd12\",\"vp1dd18\",\"vp1dd\",\"oo1Since21\",\"oo1MaxSince21\",\"oo1Drawdown1Since21\",\"oo1Drawdown5Since21\",\"oo1Drawdown10Since21\",\"oo1MinSince21\",\"oo1MinSince21{10}\",\"aoo1Since21\",\"aoo1MaxSince21\",\"aoo1Drawdown1Since21\",\"aoo1Drawdown5Since21\",\"aoo1Drawdown10Since21\",\"aoo1MinSince21\",\"aoo1MinSince21{10}\",\"vp1dd1Since21\",\"vp1dd1MaxSince21\",\"vp1dd1Drawdown1Since21\",\"vp1dd1Drawdown5Since21\",\"vp1dd1Drawdown10Since21\",\"vp1dd1MinSince21\",\"vp1dd1MinSince21{10}\",\"oo1Since62\",\"oo1MaxSince62\",\"oo1Drawdown1Since62\",\"oo1Drawdown5Since62\",\"oo1Drawdown10Since62\",\"oo1MinSince62\",\"oo1MinSince62{10}\",\"aoo1Since62\",\"aoo1MaxSince62\",\"aoo1Drawdown1Since62\",\"aoo1Drawdown5Since62\",\"aoo1Drawdown10Since62\",\"aoo1MinSince62\",\"aoo1MinSince62{10}\",\"vp1dd1Since62\",\"vp1dd1MaxSince62\",\"vp1dd1Drawdown1Since62\",\"vp1dd1Drawdown5Since62\",\"vp1dd1Drawdown10Since62\",\"vp1dd1MinSince62\",\"vp1dd1MinSince62{10}\",\"oo1Since125\",\"oo1MaxSince125\",\"oo1Drawdown1Since125\",\"oo1Drawdown5Since125\",\"oo1Drawdown10Since125\",\"oo1MinSince125\",\"oo1MinSince125{10}\",\"aoo1Since125\",\"aoo1MaxSince125\",\"aoo1Drawdown1Since125\",\"aoo1Drawdown5Since125\",\"aoo1Drawdown10Since125\",\"aoo1MinSince125\",\"aoo1MinSince125{10}\",\"vp1dd1Since125\",\"vp1dd1MaxSince125\",\"vp1dd1Drawdown1Since125\",\"vp1dd1Drawdown5Since125\",\"vp1dd1Drawdown10Since125\",\"vp1dd1MinSince125\",\"vp1dd1MinSince125{10}\",\"oo1Since250\",\"oo1MaxSince250\",\"oo1Drawdown1Since250\",\"oo1Drawdown5Since250\",\"oo1Drawdown10Since250\",\"oo1MinSince250\",\"oo1MinSince250{10}\",\"aoo1Since250\",\"aoo1MaxSince250\",\"aoo1Drawdown1Since250\",\"aoo1Drawdown5Since250\",\"aoo1Drawdown10Since250\",\"aoo1MinSince250\",\"aoo1MinSince250{10}\",\"vp1dd1Since250\",\"vp1dd1MaxSince250\",\"vp1dd1Drawdown1Since250\",\"vp1dd1Drawdown5Since250\",\"vp1dd1Drawdown10Since250\",\"vp1dd1MinSince250\",\"vp1dd1MinSince250{10}\",\"assetCode_randMap32_2\",\"assetCode_randMap32_3\"]\n",
    "        feats_ctor = '<IKGZenThreeVP1>\\n    <>~Market & (\\n        <>Return{.&pure&~digit&~TEN} & ~Since & Return{.&\\n            <>(oo|cc|aoo|acc|daoc|vp1dd)\\n            & index[0]\\n          }\\n        | Return{.&pure&~index} & ~Since & Return{.&\\n            <>(oo|aoo|vp1dd)\\n            & [3:,6:,9:,12:,15:,18:,6:3,9:6,12:9,15:12,18:15,21:18,9:3,12:6,            15:9,18:12,21:15,12:3,15:6,18:9,21:12,15:3,18:6,21:9,18:3,21:6,21:3]\\n          }\\n        | (\\n            <>Return{(oo{.&[1:]}|aoo[1:]|vp1dd)}\\n            & (\\n                <> ~Drawdown&~Drawup&~Since{Min}&~Since{Max}\\n                | Drawdown[1:, 5:,10:]\\n                | Since{Max&index[0]}\\n                | Since{Min&index[0,10]}\\n              )\\n            & Since[21:,62:,125:,250:]\\n          )\\n      )\\n    |\\n        <>AssetEnc{RandMap[2,3]}\\n    '\n",
    "        train_on = fullhouse\n",
    "        weight = 'vp10_weight'\n",
    "        params = dict(learning_rate=0.05,max_depth=-1,num_leaves=4096,min_data_in_leaf=120,min_sum_hessian_in_leaf=100,lambda_l1=0,lambda_l2=0,num_iterations=802)\n",
    "    class mIKGZenThreeMoreShort(NamedO()):\n",
    "        features = [\"cc\",\"oo\",\"acc\",\"aoo\",\"oo15\",\"oo3\",\"oo6\",\"oo9\",\"oo12\",\"oo18\",\"aoo15\",\"aoo3\",\"aoo6\",\"aoo9\",\"aoo12\",\"aoo18\",\"oo{0/1}\",\"oo{0/2}\",\"oo{1/2}\",\"oo{1}\",\"oo{2}\",\"(aoo-acc){0/1}\",\"(aoo-acc){0/2}\",\"(aoo-acc){1/2}\",\"(aoo-acc){1}\",\"(aoo-acc){2}\",\"oo1Since21\",\"oo1MaxSince21\",\"oo1Drawdown1Since21\",\"oo1Drawdown5Since21\",\"oo1Drawdown10Since21\",\"oo1MinSince21\",\"oo1MinSince21{10}\",\"aoo1Since21\",\"aoo1MaxSince21\",\"aoo1Drawdown1Since21\",\"aoo1Drawdown5Since21\",\"aoo1Drawdown10Since21\",\"aoo1MinSince21\",\"aoo1MinSince21{10}\",\"oo1Since62\",\"oo1MaxSince62\",\"oo1Drawdown1Since62\",\"oo1Drawdown5Since62\",\"oo1Drawdown10Since62\",\"oo1MinSince62\",\"oo1MinSince62{10}\",\"aoo1Since62\",\"aoo1MaxSince62\",\"aoo1Drawdown1Since62\",\"aoo1Drawdown5Since62\",\"aoo1Drawdown10Since62\",\"aoo1MinSince62\",\"aoo1MinSince62{10}\",\"oo1Since125\",\"oo1MaxSince125\",\"oo1Drawdown1Since125\",\"oo1Drawdown5Since125\",\"oo1Drawdown10Since125\",\"oo1MinSince125\",\"oo1MinSince125{10}\",\"aoo1Since125\",\"aoo1MaxSince125\",\"aoo1Drawdown1Since125\",\"aoo1Drawdown5Since125\",\"aoo1Drawdown10Since125\",\"aoo1MinSince125\",\"aoo1MinSince125{10}\",\"oo1Since250\",\"oo1MaxSince250\",\"oo1Drawdown1Since250\",\"oo1Drawdown5Since250\",\"oo1Drawdown10Since250\",\"oo1MinSince250\",\"oo1MinSince250{10}\",\"aoo1Since250\",\"aoo1MaxSince250\",\"aoo1Drawdown1Since250\",\"aoo1Drawdown5Since250\",\"aoo1Drawdown10Since250\",\"aoo1MinSince250\",\"aoo1MinSince250{10}\",\"assetCode_randMap32_2\",\"assetCode_randMap32_3\"]\n",
    "        feats_ctor = '<IKGZenThreeMoreShort>\\n    <>~Market & (\\n        <>Return{.&pure&~digit&~TEN} & ~Since & Return{.&\\n            <>(oo|cc|aoo|acc|daoc)\\n            & index[0,1,2,0:1,1:2,0:2]\\n          }\\n        | Return{.&pure&~index} & ~Since & Return{.&\\n            <>(oo|aoo)\\n            & [3:,6:,9:,12:,15:,18:,6:3,9:6,12:9,15:12,18:15,21:18,9:3,12:6,            15:9,18:12,21:15,12:3,15:6,18:9,21:12,15:3,18:6,21:9,18:3,21:6,21:3]\\n          }\\n        | (\\n            <>Return{(oo{.&[1:]}|aoo[1:])}\\n            & (\\n                <> ~Drawdown&~Drawup&~Since{Min}&~Since{Max}\\n                | Drawdown[1:, 5:,10:]\\n                | Since{Max&index[0]}\\n                | Since{Min&index[0,10]}\\n              )\\n            & Since[21:,62:,125:,250:]\\n          )\\n      )\\n    |\\n        <>AssetEnc{RandMap[2,3]}\\n    '\n",
    "        train_on = fullhouse\n",
    "        weight = 'vp10_weight'\n",
    "        params = dict(learning_rate=0.05,max_depth=-1,num_leaves=4096,min_data_in_leaf=120,min_sum_hessian_in_leaf=100,lambda_l1=0,lambda_l2=0,num_iterations=650)\n",
    "    class ms20(NamedO()):\n",
    "        features = [\"dayOfYear\",\"oo15\",\"aoo15\",\"vp1dd15\",\"volatility60\",\"vp60\",\"fracRecordedDaysSince21\",\"oo10MaxSince21\",\"oo10Drawdown5Since21\",\"oo10Drawdown10Since21\",\"oo10Drawdown20Since21\",\"oo10MaxSince21{5}\",\"oo10MinSince21\",\"oo10MinSince21{5}\",\"(oo-aoo)10MaxSince21\",\"(oo-aoo)10Drawdown5Since21\",\"(oo-aoo)10Drawdown10Since21\",\"(oo-aoo)10Drawdown20Since21\",\"(oo-aoo)10MaxSince21{5}\",\"(oo-aoo)10MinSince21\",\"(oo-aoo)10MinSince21{5}\",\"oo10MaxSince62\",\"oo10Drawdown5Since62\",\"oo10Drawdown10Since62\",\"oo10Drawdown20Since62\",\"oo10MaxSince62{5}\",\"oo10MinSince62\",\"oo10MinSince62{5}\",\"(oo-aoo)10MaxSince62\",\"(oo-aoo)10Drawdown5Since62\",\"(oo-aoo)10Drawdown10Since62\",\"(oo-aoo)10Drawdown20Since62\",\"(oo-aoo)10MaxSince62{5}\",\"(oo-aoo)10MinSince62\",\"(oo-aoo)10MinSince62{5}\",\"oo10MaxSince250\",\"oo10Drawdown5Since250\",\"oo10Drawdown10Since250\",\"oo10Drawdown20Since250\",\"oo10MaxSince250{5}\",\"oo10MinSince250\",\"oo10MinSince250{5}\",\"(oo-aoo)10MaxSince250\",\"(oo-aoo)10Drawdown5Since250\",\"(oo-aoo)10Drawdown10Since250\",\"(oo-aoo)10Drawdown20Since250\",\"(oo-aoo)10MaxSince250{5}\",\"(oo-aoo)10MinSince250\",\"(oo-aoo)10MinSince250{5}\",\"volatility10MaxSince250\",\"volatility10MaxSince250{5}\",\"volatility10MinSince250{10}\",\"volatility20MaxSince250\",\"volatility20MaxSince250{5}\",\"volatility20MinSince250{10}\"]\n",
    "        feats_ctor = '<s20>    <>~Market & (\\n        | Return{.&pure&~index} & ~Since & Return{.&\\n            <>(oo|aoo|vp1dd|Volatility)\\n            & [15:,6:3,9:6,12:9,12:6,18:12,18:9,21:12,18:6,21:9,18:3,21:6,21:3]\\n          }\\n        | (\\n            <>Return{(oo{.&[10:]}|doo[10:])}\\n            & (\\n                | Drawdown[ 5:,10:,20:]\\n                | Since{Max&index[0,5]}\\n                | Since{Min&index[0,5]}\\n              )\\n            & Since[21:, 62:, 250:]\\n          )\\n        | (\\n            <> Volatility[ 60:]\\n            | Volatility[10:, 20:]\\n            & (\\n                | Since{Max & index[0,5]}\\n                | Since{Min & index[10]}\\n              )\\n            & Since[ 250:]\\n          )\\n      )\\n    |\\n        <>Return{pure&~dd} & VP[60:]\\n        | FracRec[21:]\\n    |\\n        Time{long}'\n",
    "        train_on = fullhouse\n",
    "        weight = 'vp10_weight'\n",
    "        params = dict(learning_rate=0.05,max_depth=-1,num_leaves=4096,min_data_in_leaf=120,min_sum_hessian_in_leaf=100,lambda_l1=0,lambda_l2=0,num_iterations=107)\n",
    "    class ms21(NamedO()):\n",
    "        features = [\"(oo-aoo)5\",\"(oo-aoo)15\",\"(oo-aoo)(10-5)\",\"(oo-aoo)(15-10)\",\"(oo-aoo)(20-15)\",\"(oo-aoo)(15-5)\",\"(oo-aoo)(20-5)\",\"vp1dd{0/1}\",\"vp1dd\",\"vp1dd{2}\",\"fracRecordedDaysSince21\",\"oo1Since21\",\"oo1MaxSince21\",\"oo1Drawdown1Since21\",\"oo1Drawdown10Since21\",\"oo1Drawdown20Since21\",\"oo1MaxSince21{10}\",\"oo1MinSince21\",\"oo1MinSince21{20}\",\"aoo1Since21\",\"aoo1MaxSince21\",\"aoo1Drawdown1Since21\",\"aoo1Drawdown10Since21\",\"aoo1Drawdown20Since21\",\"aoo1MaxSince21{10}\",\"aoo1MinSince21\",\"aoo1MinSince21{20}\",\"oo10Since21\",\"oo10MaxSince21\",\"oo10Drawdown1Since21\",\"oo10Drawdown10Since21\",\"oo10Drawdown20Since21\",\"oo10MaxSince21{10}\",\"oo10MinSince21\",\"oo10MinSince21{20}\",\"fracRecordedDaysSince125\",\"oo1Since125\",\"oo1MaxSince125\",\"oo1Drawdown1Since125\",\"oo1Drawdown10Since125\",\"oo1Drawdown20Since125\",\"oo1MaxSince125{10}\",\"oo1MinSince125\",\"oo1MinSince125{20}\",\"aoo1Since125\",\"aoo1MaxSince125\",\"aoo1Drawdown1Since125\",\"aoo1Drawdown10Since125\",\"aoo1Drawdown20Since125\",\"aoo1MaxSince125{10}\",\"aoo1MinSince125\",\"aoo1MinSince125{20}\",\"oo10Since125\",\"oo10MaxSince125\",\"oo10Drawdown1Since125\",\"oo10Drawdown10Since125\",\"oo10Drawdown20Since125\",\"oo10MaxSince125{10}\",\"oo10MinSince125\",\"oo10MinSince125{20}\",\"fracRecordedDaysSince250\",\"oo1Since250\",\"oo1MaxSince250\",\"oo1Drawdown1Since250\",\"oo1Drawdown10Since250\",\"oo1Drawdown20Since250\",\"oo1MaxSince250{10}\",\"oo1MinSince250\",\"oo1MinSince250{20}\",\"aoo1Since250\",\"aoo1MaxSince250\",\"aoo1Drawdown1Since250\",\"aoo1Drawdown10Since250\",\"aoo1Drawdown20Since250\",\"aoo1MaxSince250{10}\",\"aoo1MinSince250\",\"aoo1MinSince250{20}\",\"oo10Since250\",\"oo10MaxSince250\",\"oo10Drawdown1Since250\",\"oo10Drawdown10Since250\",\"oo10Drawdown20Since250\",\"oo10MaxSince250{10}\",\"oo10MinSince250\",\"oo10MinSince250{20}\",\"m_oo20\",\"m_volatility20\",\"m_oo60\",\"m_volatility60\"]\n",
    "        feats_ctor = '<s21>    <>~Market & (\\n        <>Return{.&pure&~digit&~TEN} & ~Since & Return{.&\\n            <>(vp1dd)\\n            & index[0,2, 0:1]\\n          }\\n        | Return{.&pure&~index} & ~Since & Return{.&\\n            <>(doo|vp5dd|Volatility)\\n            & [5:,15:,10:5,15:10,20:15,15:5,20:5]\\n          }\\n        | (\\n            <>Return{(oo{.&[1:]}|aoo[1:]|oo{.&[10:]})}\\n            & (\\n                <> ~Drawdown&~Drawup&~Since{Min}&~Since{Max}\\n                | Drawdown[1:,10:,20:]\\n                | Since{Max&index[0,10]}\\n                | Since{Min&index[0,20]}\\n              )\\n            & Since[21:, 125:, 250:]\\n          )\\n      )\\n    | Market{.&\\n        <>(~Weight)\\n        & (Return| Volatility)\\n        & [20:,60:]\\n      }\\n    |\\n        | FracRec[21:,125:,250:]\\n    |'\n",
    "        train_on = fullhouse\n",
    "        weight = 'vp10_weight'\n",
    "        params = dict(learning_rate=0.05,max_depth=-1,num_leaves=4096,min_data_in_leaf=120,min_sum_hessian_in_leaf=100,lambda_l1=0,lambda_l2=0,num_iterations=129)\n",
    "    class ms22(NamedO()):\n",
    "        features = [\"dayOfYear\",\"dayOfWeek\",\"oo10\",\"aoo10\",\"(oo-aoo)10\",\"vp1dd10\",\"oo(10-5)\",\"oo(15-10)\",\"oo(15-5)\",\"oo(20-5)\",\"aoo(10-5)\",\"aoo(15-10)\",\"aoo(15-5)\",\"aoo(20-5)\",\"(oo-aoo)(10-5)\",\"(oo-aoo)(15-10)\",\"(oo-aoo)(15-5)\",\"(oo-aoo)(20-5)\",\"vp1dd(10-5)\",\"vp1dd(15-10)\",\"vp1dd(15-5)\",\"vp1dd(20-5)\",\"oo1Drawdown10Since21\",\"oo1Drawdown(20-10)Since21\",\"oo1MaxSince21{20}\",\"oo1MinSince21{20}\",\"vp5dd1MaxSince21\",\"vp5dd1Drawdown1Since21\",\"vp5dd1MinSince21\",\"vp10dd1MaxSince21\",\"vp10dd1Drawdown1Since21\",\"vp10dd1MinSince21\",\"oo1Drawdown10Since250\",\"oo1Drawdown(20-10)Since250\",\"oo1MaxSince250{20}\",\"oo1MinSince250{20}\",\"vp5dd1MaxSince250\",\"vp5dd1Drawdown1Since250\",\"vp5dd1MinSince250\",\"vp10dd1MaxSince250\",\"vp10dd1Drawdown1Since250\",\"vp10dd1MinSince250\"]\n",
    "        feats_ctor = '<s22>    <>~Market & (\\n        | Return{.&pure&~index} & ~Since & Return{.&\\n            <>(oo|aoo|doo|vp1dd|vp5dd)\\n            & [10:,10:5,15:10,15:5,20:5]\\n          }\\n        | (\\n            <>Return{(oo{.&[1:]})}\\n            & (\\n                | Drawdown[10:,20:10]\\n                | Since{Max&index[20]}\\n                | Since{Min&index[20]}\\n              )\\n            & Since[21:, 250:]\\n          )\\n        | (\\n            <>Return{dd} & VP[ 5:, 10:]\\n            & (\\n                | Drawdown[1:]\\n                | Since{Max & index[0]}\\n                | Since{Min & index[0]}\\n              )\\n            & Since[21:, 250:]\\n          )\\n      )\\n    |\\n        Time{long| short}'\n",
    "        train_on = fullhouse\n",
    "        weight = 'vp10_weight'\n",
    "        params = dict(learning_rate=0.05,max_depth=-1,num_leaves=4096,min_data_in_leaf=120,min_sum_hessian_in_leaf=100,lambda_l1=0,lambda_l2=0,num_iterations=188)\n",
    "    class ms00(NamedO()):\n",
    "        features = [\"cc\",\"oo\",\"acc\",\"aoo\",\"vp10\",\"oo5\",\"oo10\",\"oo15\",\"aoo5\",\"aoo10\",\"aoo15\",\"vp1dd5\",\"vp1dd10\",\"vp1dd15\",\"volatility60\",\"oo(15-10)\",\"oo(20-15)\",\"oo(15-5)\",\"oo(20-10)\",\"aoo(15-10)\",\"aoo(20-15)\",\"aoo(15-5)\",\"aoo(20-10)\",\"vp1dd(15-10)\",\"vp1dd(20-15)\",\"vp1dd(15-5)\",\"vp1dd(20-10)\",\"oo{0/1}\",\"oo{0/2}\",\"oo{1}\",\"oo{2}\",\"(oo-aoo){0/1}\",\"(oo-aoo){0/2}\",\"(oo-aoo){1}\",\"(oo-aoo){2}\",\"vp1dd{0/1}\",\"vp1dd{0/2}\",\"vp1dd\",\"vp1dd{1}\",\"vp1dd{2}\",\"oo1Drawdown10Since62\",\"oo1Drawdown20Since62\",\"oo1MaxSince62{10}\",\"oo1MaxSince62{20}\",\"oo1MinSince62\",\"oo1Drawup1Since62\",\"oo1MinSince62{5}\",\"volatility20MaxSince62\",\"volatility20MaxSince62{5}\",\"volatility20Drawup(10-5)Since62\",\"volatility20Drawup(20-10)Since62\",\"volatility20MinSince62{20}\",\"oo1Drawdown10Since250\",\"oo1Drawdown20Since250\",\"oo1MaxSince250{10}\",\"oo1MaxSince250{20}\",\"oo1MinSince250\",\"oo1Drawup1Since250\",\"oo1MinSince250{5}\",\"volatility20MaxSince250\",\"volatility20MaxSince250{5}\",\"volatility20Drawup(10-5)Since250\",\"volatility20Drawup(20-10)Since250\",\"volatility20MinSince250{20}\"]\n",
    "        feats_ctor = '<s00>    <>~Market & (\\n        <>Return{.&pure&~digit&~TEN} & ~Since & Return{.&\\n            <>(oo|cc|aoo|acc|doo|vp1dd)\\n            & index[0,1,2, 0:1,0:2]\\n          }\\n        | Return{.&pure&~index} & ~Since & Return{.&\\n            <>(oo|aoo|vp1dd)\\n            & [5:,10:,15:,15:10,20:15,15:5,20:10]\\n          }\\n        | (\\n            <>Return{(oo{.&[1:]})}\\n            & (\\n                | Drawdown[10:,20:]\\n                | Since{Max&index[10,20]}\\n                | Drawup[1:]\\n                | Since{Min&index[0,5]}\\n              )\\n            & Since[ 62:, 250:]\\n          )\\n        | (\\n            <> Volatility[ 60:]\\n            | Volatility[ 20:]\\n            & (\\n                | Since{Max & index[0,5]}\\n                | Drawup[ 10:5,20:10]\\n                | Since{Min & index[20]}\\n              )\\n            & Since[ 62:, 250:]\\n          )\\n      )\\n    |\\n        <>Return{pure&~dd} & VP[10:]\\n    |'\n",
    "        train_on = fullhouse\n",
    "        weight = 'vp10_weight'\n",
    "        params = dict(learning_rate=0.05,max_depth=-1,num_leaves=4096,min_data_in_leaf=120,min_sum_hessian_in_leaf=100,lambda_l1=0,lambda_l2=0,num_iterations=538)\n",
    "    class ms10(NamedO()):\n",
    "        features = [\"cc\",\"oo\",\"dayOfYear\",\"dayOfWeek\",\"volatility60\",\"oo{0/1}\",\"oo{1/2}\",\"oo{1}\",\"oo{2}\",\"(cc-acc){0/1}\",\"(cc-acc){1/2}\",\"(cc-acc){1}\",\"(cc-acc){2}\",\"oo1Since21\",\"oo1MaxSince21\",\"oo1Drawdown1Since21\",\"oo1Drawdown5Since21\",\"oo1Drawdown10Since21\",\"oo1Drawdown(10-5)Since21\",\"oo1MinSince21\",\"oo1MinSince21{5}\",\"oo10Since21\",\"oo10MaxSince21\",\"oo10Drawdown1Since21\",\"oo10Drawdown5Since21\",\"oo10Drawdown10Since21\",\"oo10Drawdown(10-5)Since21\",\"oo10MinSince21\",\"oo10MinSince21{5}\",\"(oo-aoo)10Since21\",\"(oo-aoo)10MaxSince21\",\"(oo-aoo)10Drawdown1Since21\",\"(oo-aoo)10Drawdown5Since21\",\"(oo-aoo)10Drawdown10Since21\",\"(oo-aoo)10Drawdown(10-5)Since21\",\"(oo-aoo)10MinSince21\",\"(oo-aoo)10MinSince21{5}\",\"vp1dd1Since21\",\"vp1dd1MaxSince21{5}\",\"vp1dd1Drawup(20-10)Since21\",\"vp1dd1MinSince21{20}\",\"vp5dd1Since21\",\"vp5dd1MaxSince21{5}\",\"vp5dd1Drawup(20-10)Since21\",\"vp5dd1MinSince21{20}\",\"vp10dd1Since21\",\"vp10dd1MaxSince21{5}\",\"vp10dd1Drawup(20-10)Since21\",\"vp10dd1MinSince21{20}\",\"volatility10MaxSince21{20}\",\"volatility10MinSince21{20}\",\"oo1Since125\",\"oo1MaxSince125\",\"oo1Drawdown1Since125\",\"oo1Drawdown5Since125\",\"oo1Drawdown10Since125\",\"oo1Drawdown(10-5)Since125\",\"oo1MinSince125\",\"oo1MinSince125{5}\",\"oo10Since125\",\"oo10MaxSince125\",\"oo10Drawdown1Since125\",\"oo10Drawdown5Since125\",\"oo10Drawdown10Since125\",\"oo10Drawdown(10-5)Since125\",\"oo10MinSince125\",\"oo10MinSince125{5}\",\"(oo-aoo)10Since125\",\"(oo-aoo)10MaxSince125\",\"(oo-aoo)10Drawdown1Since125\",\"(oo-aoo)10Drawdown5Since125\",\"(oo-aoo)10Drawdown10Since125\",\"(oo-aoo)10Drawdown(10-5)Since125\",\"(oo-aoo)10MinSince125\",\"(oo-aoo)10MinSince125{5}\",\"vp1dd1Since125\",\"vp1dd1MaxSince125{5}\",\"vp1dd1Drawup(20-10)Since125\",\"vp1dd1MinSince125{20}\",\"vp5dd1Since125\",\"vp5dd1MaxSince125{5}\",\"vp5dd1Drawup(20-10)Since125\",\"vp5dd1MinSince125{20}\",\"vp10dd1Since125\",\"vp10dd1MaxSince125{5}\",\"vp10dd1Drawup(20-10)Since125\",\"vp10dd1MinSince125{20}\",\"volatility10MaxSince125{20}\",\"volatility10MinSince125{20}\",\"oo1Since250\",\"oo1MaxSince250\",\"oo1Drawdown1Since250\",\"oo1Drawdown5Since250\",\"oo1Drawdown10Since250\",\"oo1Drawdown(10-5)Since250\",\"oo1MinSince250\",\"oo1MinSince250{5}\",\"oo10Since250\",\"oo10MaxSince250\",\"oo10Drawdown1Since250\",\"oo10Drawdown5Since250\",\"oo10Drawdown10Since250\",\"oo10Drawdown(10-5)Since250\",\"oo10MinSince250\",\"oo10MinSince250{5}\",\"(oo-aoo)10Since250\",\"(oo-aoo)10MaxSince250\",\"(oo-aoo)10Drawdown1Since250\",\"(oo-aoo)10Drawdown5Since250\",\"(oo-aoo)10Drawdown10Since250\",\"(oo-aoo)10Drawdown(10-5)Since250\",\"(oo-aoo)10MinSince250\",\"(oo-aoo)10MinSince250{5}\",\"vp1dd1Since250\",\"vp1dd1MaxSince250{5}\",\"vp1dd1Drawup(20-10)Since250\",\"vp1dd1MinSince250{20}\",\"vp5dd1Since250\",\"vp5dd1MaxSince250{5}\",\"vp5dd1Drawup(20-10)Since250\",\"vp5dd1MinSince250{20}\",\"vp10dd1Since250\",\"vp10dd1MaxSince250{5}\",\"vp10dd1Drawup(20-10)Since250\",\"vp10dd1MinSince250{20}\",\"volatility10MaxSince250{20}\",\"volatility10MinSince250{20}\"]\n",
    "        feats_ctor = '<s10>    <>~Market & (\\n        <>Return{.&pure&~digit&~TEN} & ~Since & Return{.&\\n            <>(oo|cc|dcc)\\n            & index[0,1,2, 0:1,1:2]\\n          }\\n        | (\\n            <>Return{(oo{.&[1:]}|oo{.&[10:]}|doo[10:])}\\n            & (\\n                <> ~Drawdown&~Drawup&~Since{Min}&~Since{Max}\\n                | Drawdown[1:, 5:,10:, 10:5]\\n                | Since{Max&index[0]}\\n                | Since{Min&index[0,5]}\\n              )\\n            & Since[21:, 125:, 250:]\\n          )\\n        | (\\n            <>Return{dd} & VP[1:, 5:, 10:]\\n            & (\\n                <> ~Drawdown&~Drawup&~Since{Min}&~Since{Max}\\n                | Since{Max & index[5]}\\n                | Drawup[20:10]\\n                | Since{Min & index[20]}\\n              )\\n            & Since[21:, 125:, 250:]\\n          )\\n        | (\\n            <> Volatility[ 60:]\\n            | Volatility[10:]\\n            & (\\n                | Since{Max & index[20]}\\n                | Since{Min & index[20]}\\n              )\\n            & Since[21:, 125:, 250:]\\n          )\\n      )\\n    |\\n        Time{long| short}'\n",
    "        train_on = fullhouse\n",
    "        weight = 'vp10_weight'\n",
    "        params = dict(learning_rate=0.05,max_depth=-1,num_leaves=4096,min_data_in_leaf=120,min_sum_hessian_in_leaf=100,lambda_l1=0,lambda_l2=0,num_iterations=348)\n",
    "    class ms11(NamedO()):\n",
    "        features = [\"close\",\"cc\",\"oo\",\"acc\",\"aoo10\",\"(oo-aoo)10\",\"vp1dd10\",\"rr\",\"aoo(10-5)\",\"aoo(15-5)\",\"aoo(20-5)\",\"(oo-aoo)(10-5)\",\"(oo-aoo)(15-5)\",\"(oo-aoo)(20-5)\",\"vp1dd(10-5)\",\"vp1dd(15-5)\",\"vp1dd(20-5)\",\"oo{1}\",\"(oo-aoo){1}\",\"(cc-acc){1}\",\"(aoo-acc){1}\",\"(it,af,it{1},aoo,acc){0/1}\",\"(it{1},af{1},it{2},aoo{1},acc{1}){0/1}\",\"(it,af,it{1},aoo,acc){0/2}\",\"(it{1},af{1},it{2},aoo{1},acc{1}){0/2}\",\"(it{1},af{1},it{2},aoo{1},acc{1}){0/3}\",\"(it,af,it{1},aoo,acc){0/4}\",\"(it{1},af{1},it{2},aoo{1},acc{1}){1/2}\",\"(it,af,it{1},aoo,acc){1/3}\",\"(it,af,it{1},aoo,acc){1/4}\",\"(it{1},af{1},it{2},aoo{1},acc{1}){1/4}\",\"(it,af,it{1},aoo,acc){2/3}\",\"(it,af,it{1},aoo,acc){2/4}\",\"(it{1},af{1},it{2},aoo{1},acc{1}){2/4}\",\"oo1Drawdown1Since21\",\"oo1Drawdown10Since21\",\"oo1Drawdown(10-5)Since21\",\"oo1Drawdown(20-10)Since21\",\"oo1MaxSince21{10}\",\"oo1MinSince21\",\"oo1Drawup(20-10)Since21\",\"oo10Drawdown1Since21\",\"oo10Drawdown10Since21\",\"oo10Drawdown(10-5)Since21\",\"oo10Drawdown(20-10)Since21\",\"oo10MaxSince21{10}\",\"oo10MinSince21\",\"oo10Drawup(20-10)Since21\",\"vp1dd1Since21\",\"vp1dd1MaxSince21\",\"vp1dd1MinSince21\",\"vp10dd1Since21\",\"vp10dd1MaxSince21\",\"vp10dd1MinSince21\",\"oo1Drawdown1Since62\",\"oo1Drawdown10Since62\",\"oo1Drawdown(10-5)Since62\",\"oo1Drawdown(20-10)Since62\",\"oo1MaxSince62{10}\",\"oo1MinSince62\",\"oo1Drawup(20-10)Since62\",\"oo10Drawdown1Since62\",\"oo10Drawdown10Since62\",\"oo10Drawdown(10-5)Since62\",\"oo10Drawdown(20-10)Since62\",\"oo10MaxSince62{10}\",\"oo10MinSince62\",\"oo10Drawup(20-10)Since62\",\"vp1dd1Since62\",\"vp1dd1MaxSince62\",\"vp1dd1MinSince62\",\"vp10dd1Since62\",\"vp10dd1MaxSince62\",\"vp10dd1MinSince62\",\"oo1Drawdown1Since125\",\"oo1Drawdown10Since125\",\"oo1Drawdown(10-5)Since125\",\"oo1Drawdown(20-10)Since125\",\"oo1MaxSince125{10}\",\"oo1MinSince125\",\"oo1Drawup(20-10)Since125\",\"oo10Drawdown1Since125\",\"oo10Drawdown10Since125\",\"oo10Drawdown(10-5)Since125\",\"oo10Drawdown(20-10)Since125\",\"oo10MaxSince125{10}\",\"oo10MinSince125\",\"oo10Drawup(20-10)Since125\",\"vp1dd1Since125\",\"vp1dd1MaxSince125\",\"vp1dd1MinSince125\",\"vp10dd1Since125\",\"vp10dd1MaxSince125\",\"vp10dd1MinSince125\",\"oo1Drawdown1Since250\",\"oo1Drawdown10Since250\",\"oo1Drawdown(10-5)Since250\",\"oo1Drawdown(20-10)Since250\",\"oo1MaxSince250{10}\",\"oo1MinSince250\",\"oo1Drawup(20-10)Since250\",\"oo10Drawdown1Since250\",\"oo10Drawdown10Since250\",\"oo10Drawdown(10-5)Since250\",\"oo10Drawdown(20-10)Since250\",\"oo10MaxSince250{10}\",\"oo10MinSince250\",\"oo10Drawup(20-10)Since250\",\"vp1dd1Since250\",\"vp1dd1MaxSince250\",\"vp1dd1MinSince250\",\"vp10dd1Since250\",\"vp10dd1MaxSince250\",\"vp10dd1MinSince250\"]\n",
    "        feats_ctor = '<s11>    <>~Market & (\\n        <>Return{.&pure&~digit&~TEN} & ~Since & Return{.&\\n            <>(oo|cc|acc|doo|dcc|daoc)\\n            & index[0,1]\\n          }\\n        | Return{.&pure&~index} & ~Since & Return{.&\\n            <>(aoo|doo|vp1dd|vp5dd|Volatility)\\n            & [10:,10:5,15:5,20:5]\\n          }\\n        | (\\n            <>Return{(oo{.&[1:]}|oo{.&[10:]})}\\n            & (\\n                | Drawdown[1:,10:, 10:5,20:10]\\n                | Since{Max&index[10]}\\n                | Drawup[20:10]\\n                | Since{Min&index[0]}\\n              )\\n            & Since[21:, 62:, 125:, 250:]\\n          )\\n        | (\\n            <>Return{dd} & VP[1:, 10:]\\n            & (\\n                <> ~Drawdown&~Drawup&~Since{Min}&~Since{Max}\\n                | Since{Max & index[0]}\\n                | Since{Min & index[0]}\\n              )\\n            & Since[21:, 62:, 125:, 250:]\\n          )\\n      )\\n    |\\n        <>FaceValue{ Close}\\n        | Return{mix[1,3,5,6,7,8,9,11,12,13,14,18,19]}\\n        | Return{rr}'\n",
    "        train_on = fullhouse\n",
    "        weight = 'vp10_weight'\n",
    "        params = dict(learning_rate=0.05,max_depth=-1,num_leaves=4096,min_data_in_leaf=120,min_sum_hessian_in_leaf=100,lambda_l1=0,lambda_l2=0,num_iterations=497)\n",
    "    class mIKGCover(NamedO()):\n",
    "        features = [\"assetCodeId\",\"volume\",\"cc\",\"oo\",\"acc\",\"aoo\",\"oo5\",\"oo10\",\"oo15\",\"aoo5\",\"aoo10\",\"aoo15\",\"af\",\"it\",\"rr\",\"oo(10-5)\",\"oo(15-10)\",\"oo(20-15)\",\"oo(15-5)\",\"oo(20-10)\",\"oo(20-5)\",\"aoo(10-5)\",\"aoo(15-10)\",\"aoo(20-15)\",\"aoo(15-5)\",\"aoo(20-10)\",\"aoo(20-5)\",\"af{1}\",\"it{1}\",\"(it,af,it{1},aoo,acc){0/1}\",\"(it{1},af{1},it{2},aoo{1},acc{1}){0/1}\",\"(it,af,it{1},aoo,acc){0/2}\",\"(it{1},af{1},it{2},aoo{1},acc{1}){0/2}\",\"(it,af,it{1},aoo,acc){0/3}\",\"(it{1},af{1},it{2},aoo{1},acc{1}){0/3}\",\"(it,af,it{1},aoo,acc){0/4}\",\"(it{1},af{1},it{2},aoo{1},acc{1}){0/4}\",\"(it,af,it{1},aoo,acc){1/2}\",\"(it{1},af{1},it{2},aoo{1},acc{1}){1/2}\",\"(it,af,it{1},aoo,acc){1/3}\",\"(it{1},af{1},it{2},aoo{1},acc{1}){1/3}\",\"(it,af,it{1},aoo,acc){1/4}\",\"(it{1},af{1},it{2},aoo{1},acc{1}){1/4}\",\"(it,af,it{1},aoo,acc){2/3}\",\"(it{1},af{1},it{2},aoo{1},acc{1}){2/3}\",\"(it,af,it{1},aoo,acc){2/4}\",\"(it{1},af{1},it{2},aoo{1},acc{1}){2/4}\",\"oo1Since21\",\"oo1MaxSince21\",\"oo1Drawdown1Since21\",\"oo1Drawdown5Since21\",\"oo1Drawdown10Since21\",\"oo1MinSince21\",\"oo1MinSince21{10}\",\"aoo1Since21\",\"aoo1MaxSince21\",\"aoo1Drawdown1Since21\",\"aoo1Drawdown5Since21\",\"aoo1Drawdown10Since21\",\"aoo1MinSince21\",\"aoo1MinSince21{10}\",\"oo1Since62\",\"oo1MaxSince62\",\"oo1Drawdown1Since62\",\"oo1Drawdown5Since62\",\"oo1Drawdown10Since62\",\"oo1MinSince62\",\"oo1MinSince62{10}\",\"aoo1Since62\",\"aoo1MaxSince62\",\"aoo1Drawdown1Since62\",\"aoo1Drawdown5Since62\",\"aoo1Drawdown10Since62\",\"aoo1MinSince62\",\"aoo1MinSince62{10}\",\"oo1Since125\",\"oo1MaxSince125\",\"oo1Drawdown1Since125\",\"oo1Drawdown5Since125\",\"oo1Drawdown10Since125\",\"oo1MinSince125\",\"oo1MinSince125{10}\",\"aoo1Since125\",\"aoo1MaxSince125\",\"aoo1Drawdown1Since125\",\"aoo1Drawdown5Since125\",\"aoo1Drawdown10Since125\",\"aoo1MinSince125\",\"aoo1MinSince125{10}\",\"oo1Since250\",\"oo1MaxSince250\",\"oo1Drawdown1Since250\",\"oo1Drawdown5Since250\",\"oo1Drawdown10Since250\",\"oo1MinSince250\",\"oo1MinSince250{10}\",\"aoo1Since250\",\"aoo1MaxSince250\",\"aoo1Drawdown1Since250\",\"aoo1Drawdown5Since250\",\"aoo1Drawdown10Since250\",\"aoo1MinSince250\",\"aoo1MinSince250{10}\",\"assetCode_inUniCount\"]\n",
    "        feats_ctor = '<IKGCover>\\n    <>~Market & (\\n        <>Return{.&pure&~digit&~TEN} & ~Since & Return{.&\\n            <>(oo|cc|aoo|acc|daoc)\\n            & index[0]\\n          }\\n        | Return{.&pure&~index} & ~Since & Return{.&\\n            <>(oo|aoo)\\n            & [5:,10:,15:,10:5,15:10,20:15,15:5,20:10,20:5]\\n          }\\n        | (\\n            <>Return{(oo{.&[1:]}|aoo[1:])}\\n            & (\\n                <> ~Drawdown&~Drawup&~Since{Min}&~Since{Max}\\n                | Drawdown[1:, 5:,10:]\\n                | Since{Max&index[0]}\\n                | Since{Min&index[0,10]}\\n              )\\n            & Since[21:,62:,125:,250:]\\n          )\\n      )\\n    |\\n        <>AssetEnc{InUni}\\n        | AssetEnc{Code}\\n    |\\n        <>FaceValue{Volume}\\n        | Return{mix[1,2,3,4,5,6,7,8,9,11,12,13,14,15,16,17,18,19]}\\n        | Return{rr|af|it}\\n    '\n",
    "        train_on = fullhouse\n",
    "        weight = 'vp10_weight'\n",
    "        params = dict(learning_rate=0.05,max_depth=-1,num_leaves=4096,min_data_in_leaf=120,min_sum_hessian_in_leaf=100,lambda_l1=0,lambda_l2=0,num_iterations=482)\n",
    "    class mTryIt(NamedO()):\n",
    "        features = [\"oo\",\"aoo\",\"dayOfYear\",\"dayOfWeek\",\"vp10\",\"oo5\",\"oo10\",\"oo15\",\"aoo5\",\"aoo10\",\"aoo15\",\"vp1dd5\",\"vp1dd10\",\"vp1dd15\",\"volatility60\",\"vp20\",\"oo(10-5)\",\"oo(15-10)\",\"oo(20-15)\",\"oo(15-5)\",\"oo(20-10)\",\"oo(20-5)\",\"aoo(10-5)\",\"aoo(15-10)\",\"aoo(20-15)\",\"aoo(15-5)\",\"aoo(20-10)\",\"aoo(20-5)\",\"vp1dd(10-5)\",\"vp1dd(15-10)\",\"vp1dd(20-15)\",\"vp1dd(15-5)\",\"vp1dd(20-10)\",\"vp1dd(20-5)\",\"oo{1}\",\"oo{2}\",\"(oo-aoo){1}\",\"(oo-aoo){2}\",\"(oo-cc){1}\",\"(oo-cc){2}\",\"(aoo-acc){1}\",\"(aoo-acc){2}\",\"vp1dd\",\"vp1dd{1}\",\"vp1dd{2}\",\"fracRecordedDaysSince21\",\"oo1Since21\",\"oo1Drawdown5Since21\",\"oo1Drawdown10Since21\",\"oo1Drawdown20Since21\",\"oo1Drawdown(10-5)Since21\",\"oo1Drawdown(20-10)Since21\",\"oo1MinSince21\",\"aoo1Since21\",\"aoo1Drawdown5Since21\",\"aoo1Drawdown10Since21\",\"aoo1Drawdown20Since21\",\"aoo1Drawdown(10-5)Since21\",\"aoo1Drawdown(20-10)Since21\",\"aoo1MinSince21\",\"oo10Since21\",\"oo10Drawdown5Since21\",\"oo10Drawdown10Since21\",\"oo10Drawdown20Since21\",\"oo10Drawdown(10-5)Since21\",\"oo10Drawdown(20-10)Since21\",\"oo10MinSince21\",\"aoo10Since21\",\"aoo10Drawdown5Since21\",\"aoo10Drawdown10Since21\",\"aoo10Drawdown20Since21\",\"aoo10Drawdown(10-5)Since21\",\"aoo10Drawdown(20-10)Since21\",\"aoo10MinSince21\",\"volatility20MaxSince21\",\"volatility20Drawdown20Since21\",\"volatility20MaxSince21{20}\",\"volatility20Drawup1Since21\",\"volatility20Drawup(20-10)Since21\",\"fracRecordedDaysSince125\",\"oo1Since125\",\"oo1Drawdown5Since125\",\"oo1Drawdown10Since125\",\"oo1Drawdown20Since125\",\"oo1Drawdown(10-5)Since125\",\"oo1Drawdown(20-10)Since125\",\"oo1MinSince125\",\"aoo1Since125\",\"aoo1Drawdown5Since125\",\"aoo1Drawdown10Since125\",\"aoo1Drawdown20Since125\",\"aoo1Drawdown(10-5)Since125\",\"aoo1Drawdown(20-10)Since125\",\"aoo1MinSince125\",\"oo10Since125\",\"oo10Drawdown5Since125\",\"oo10Drawdown10Since125\",\"oo10Drawdown20Since125\",\"oo10Drawdown(10-5)Since125\",\"oo10Drawdown(20-10)Since125\",\"oo10MinSince125\",\"aoo10Since125\",\"aoo10Drawdown5Since125\",\"aoo10Drawdown10Since125\",\"aoo10Drawdown20Since125\",\"aoo10Drawdown(10-5)Since125\",\"aoo10Drawdown(20-10)Since125\",\"aoo10MinSince125\",\"volatility20MaxSince125\",\"volatility20Drawdown20Since125\",\"volatility20MaxSince125{20}\",\"volatility20Drawup1Since125\",\"volatility20Drawup(20-10)Since125\",\"fracRecordedDaysSince250\",\"oo1Since250\",\"oo1Drawdown5Since250\",\"oo1Drawdown10Since250\",\"oo1Drawdown20Since250\",\"oo1Drawdown(10-5)Since250\",\"oo1Drawdown(20-10)Since250\",\"oo1MinSince250\",\"aoo1Since250\",\"aoo1Drawdown5Since250\",\"aoo1Drawdown10Since250\",\"aoo1Drawdown20Since250\",\"aoo1Drawdown(10-5)Since250\",\"aoo1Drawdown(20-10)Since250\",\"aoo1MinSince250\",\"oo10Since250\",\"oo10Drawdown5Since250\",\"oo10Drawdown10Since250\",\"oo10Drawdown20Since250\",\"oo10Drawdown(10-5)Since250\",\"oo10Drawdown(20-10)Since250\",\"oo10MinSince250\",\"aoo10Since250\",\"aoo10Drawdown5Since250\",\"aoo10Drawdown10Since250\",\"aoo10Drawdown20Since250\",\"aoo10Drawdown(10-5)Since250\",\"aoo10Drawdown(20-10)Since250\",\"aoo10MinSince250\",\"volatility20MaxSince250\",\"volatility20Drawdown20Since250\",\"volatility20MaxSince250{20}\",\"volatility20Drawup1Since250\",\"volatility20Drawup(20-10)Since250\",\"assetCode_inUniCount\"]\n",
    "        feats_ctor = '<TryIt>\\n    <>~Market & (\\n        <>Return{.&pure&~digit&~TEN} & ~Since & Return{.&\\n            <>(oo|aoo|doo|doc|daoc|vp1dd)\\n            & index[0,1,2]\\n          }\\n        | Return{.&pure&~index} & ~Since & Return{.&\\n            <>(oo|aoo|vp1dd)\\n            & [5:,10:,15:,10:5,15:10,20:15,15:5,20:10,20:5]\\n          }\\n        | (\\n            <>Return{(oo{.&[1:]}|aoo[1:]|oo{.&[10:]}|aoo[10:])}\\n            & (\\n                <> ~Drawdown&~Drawup&~Since{Min}&~Since{Max}\\n                | Drawdown[5:,10:,20:, 10:5,20:10]\\n                | Since{Min&index[0]}\\n              )\\n            & Since[21:,125:,250:]\\n          )\\n        | (\\n            <> Volatility[60:]\\n            | Volatility[20:]\\n            & (\\n                | Drawdown[20:]\\n                | Since{Max & index[0,20]}\\n                | Drawup[1:, 20:10]\\n              )\\n            & Since[21:,125:,250:]\\n          )\\n      )\\n    |\\n        <>Return{pure&~dd} & VP[10:,20:]\\n        | FracRec[21:,125:,250:]\\n    |\\n        <>AssetEnc{InUni}\\n    |\\n        Time{long | short}\\n    '\n",
    "        train_on = fullhouse\n",
    "        weight = 'vp10_weight'\n",
    "        params = dict(learning_rate=0.05,max_depth=-1,num_leaves=4096,min_data_in_leaf=120,min_sum_hessian_in_leaf=100,lambda_l1=0,lambda_l2=0,num_iterations=400)\n",
    "    class mIKGCoverThreeVP1(NamedO()):\n",
    "        features = [\"assetCodeId\",\"volume\",\"cc\",\"oo\",\"acc\",\"aoo\",\"oo15\",\"oo3\",\"oo6\",\"oo9\",\"oo12\",\"oo18\",\"aoo15\",\"aoo3\",\"aoo6\",\"aoo9\",\"aoo12\",\"aoo18\",\"vp1dd15\",\"vp1dd3\",\"vp1dd6\",\"vp1dd9\",\"vp1dd12\",\"vp1dd18\",\"af\",\"it\",\"rr\",\"vp1dd\",\"af{1}\",\"it{1}\",\"(it,af,it{1},aoo,acc){0/1}\",\"(it{1},af{1},it{2},aoo{1},acc{1}){0/1}\",\"(it,af,it{1},aoo,acc){0/2}\",\"(it{1},af{1},it{2},aoo{1},acc{1}){0/2}\",\"(it,af,it{1},aoo,acc){0/3}\",\"(it{1},af{1},it{2},aoo{1},acc{1}){0/3}\",\"(it,af,it{1},aoo,acc){0/4}\",\"(it{1},af{1},it{2},aoo{1},acc{1}){0/4}\",\"(it,af,it{1},aoo,acc){1/2}\",\"(it{1},af{1},it{2},aoo{1},acc{1}){1/2}\",\"(it,af,it{1},aoo,acc){1/3}\",\"(it{1},af{1},it{2},aoo{1},acc{1}){1/3}\",\"(it,af,it{1},aoo,acc){1/4}\",\"(it{1},af{1},it{2},aoo{1},acc{1}){1/4}\",\"(it,af,it{1},aoo,acc){2/3}\",\"(it{1},af{1},it{2},aoo{1},acc{1}){2/3}\",\"(it,af,it{1},aoo,acc){2/4}\",\"(it{1},af{1},it{2},aoo{1},acc{1}){2/4}\",\"oo1Since21\",\"oo1MaxSince21\",\"oo1Drawdown1Since21\",\"oo1Drawdown5Since21\",\"oo1Drawdown10Since21\",\"oo1MinSince21\",\"oo1MinSince21{10}\",\"aoo1Since21\",\"aoo1MaxSince21\",\"aoo1Drawdown1Since21\",\"aoo1Drawdown5Since21\",\"aoo1Drawdown10Since21\",\"aoo1MinSince21\",\"aoo1MinSince21{10}\",\"vp1dd1Since21\",\"vp1dd1MaxSince21\",\"vp1dd1Drawdown1Since21\",\"vp1dd1Drawdown5Since21\",\"vp1dd1Drawdown10Since21\",\"vp1dd1MinSince21\",\"vp1dd1MinSince21{10}\",\"oo1Since62\",\"oo1MaxSince62\",\"oo1Drawdown1Since62\",\"oo1Drawdown5Since62\",\"oo1Drawdown10Since62\",\"oo1MinSince62\",\"oo1MinSince62{10}\",\"aoo1Since62\",\"aoo1MaxSince62\",\"aoo1Drawdown1Since62\",\"aoo1Drawdown5Since62\",\"aoo1Drawdown10Since62\",\"aoo1MinSince62\",\"aoo1MinSince62{10}\",\"vp1dd1Since62\",\"vp1dd1MaxSince62\",\"vp1dd1Drawdown1Since62\",\"vp1dd1Drawdown5Since62\",\"vp1dd1Drawdown10Since62\",\"vp1dd1MinSince62\",\"vp1dd1MinSince62{10}\",\"oo1Since125\",\"oo1MaxSince125\",\"oo1Drawdown1Since125\",\"oo1Drawdown5Since125\",\"oo1Drawdown10Since125\",\"oo1MinSince125\",\"oo1MinSince125{10}\",\"aoo1Since125\",\"aoo1MaxSince125\",\"aoo1Drawdown1Since125\",\"aoo1Drawdown5Since125\",\"aoo1Drawdown10Since125\",\"aoo1MinSince125\",\"aoo1MinSince125{10}\",\"vp1dd1Since125\",\"vp1dd1MaxSince125\",\"vp1dd1Drawdown1Since125\",\"vp1dd1Drawdown5Since125\",\"vp1dd1Drawdown10Since125\",\"vp1dd1MinSince125\",\"vp1dd1MinSince125{10}\",\"oo1Since250\",\"oo1MaxSince250\",\"oo1Drawdown1Since250\",\"oo1Drawdown5Since250\",\"oo1Drawdown10Since250\",\"oo1MinSince250\",\"oo1MinSince250{10}\",\"aoo1Since250\",\"aoo1MaxSince250\",\"aoo1Drawdown1Since250\",\"aoo1Drawdown5Since250\",\"aoo1Drawdown10Since250\",\"aoo1MinSince250\",\"aoo1MinSince250{10}\",\"vp1dd1Since250\",\"vp1dd1MaxSince250\",\"vp1dd1Drawdown1Since250\",\"vp1dd1Drawdown5Since250\",\"vp1dd1Drawdown10Since250\",\"vp1dd1MinSince250\",\"vp1dd1MinSince250{10}\",\"assetCode_inUniCount\"]\n",
    "        feats_ctor = '<IKGCoverThreeVP1>\\n    <>~Market & (\\n        <>Return{.&pure&~digit&~TEN} & ~Since & Return{.&\\n            <>(oo|cc|aoo|acc|daoc|vp1dd)\\n            & index[0]\\n          }\\n        | Return{.&pure&~index} & ~Since & Return{.&\\n            <>(oo|aoo|vp1dd)\\n            & [3:,6:,9:,12:,15:,18:,6:3,9:6,12:9,15:12,18:15,21:18,9:3,12:6,            15:9,18:12,21:15,12:3,15:6,18:9,21:12,15:3,18:6,21:9,18:3,21:6,21:3]\\n          }\\n        | (\\n            <>Return{(oo{.&[1:]}|aoo[1:]|vp1dd)}\\n            & (\\n                <> ~Drawdown&~Drawup&~Since{Min}&~Since{Max}\\n                | Drawdown[1:, 5:,10:]\\n                | Since{Max&index[0]}\\n                | Since{Min&index[0,10]}\\n              )\\n            & Since[21:,62:,125:,250:]\\n          )\\n      )\\n    |\\n        <>AssetEnc{InUni}\\n        | AssetEnc{Code}\\n    |\\n        <>FaceValue{Volume}\\n        | Return{mix[1,2,3,4,5,6,7,8,9,11,12,13,14,15,16,17,18,19]}\\n        | Return{rr|af|it}\\n    '\n",
    "        train_on = fullhouse\n",
    "        weight = 'vp10_weight'\n",
    "        params = dict(learning_rate=0.05,max_depth=-1,num_leaves=4096,min_data_in_leaf=120,min_sum_hessian_in_leaf=100,lambda_l1=0,lambda_l2=0,num_iterations=504)\n",
    "    class mIKGCoverThreeMoreShort(NamedO()):\n",
    "        features = [\"assetCodeId\",\"volume\",\"cc\",\"oo\",\"acc\",\"aoo\",\"oo15\",\"oo3\",\"oo6\",\"oo9\",\"oo12\",\"oo18\",\"aoo15\",\"aoo3\",\"aoo6\",\"aoo9\",\"aoo12\",\"aoo18\",\"af\",\"it\",\"rr\",\"oo{0/1}\",\"oo{0/2}\",\"oo{1/2}\",\"oo{1}\",\"oo{2}\",\"(aoo-acc){0/1}\",\"(aoo-acc){0/2}\",\"(aoo-acc){1/2}\",\"(aoo-acc){1}\",\"(aoo-acc){2}\",\"af{1}\",\"it{1}\",\"(it,af,it{1},aoo,acc){0/1}\",\"(it{1},af{1},it{2},aoo{1},acc{1}){0/1}\",\"(it,af,it{1},aoo,acc){0/2}\",\"(it{1},af{1},it{2},aoo{1},acc{1}){0/2}\",\"(it,af,it{1},aoo,acc){0/3}\",\"(it{1},af{1},it{2},aoo{1},acc{1}){0/3}\",\"(it,af,it{1},aoo,acc){0/4}\",\"(it{1},af{1},it{2},aoo{1},acc{1}){0/4}\",\"(it,af,it{1},aoo,acc){1/2}\",\"(it{1},af{1},it{2},aoo{1},acc{1}){1/2}\",\"(it,af,it{1},aoo,acc){1/3}\",\"(it{1},af{1},it{2},aoo{1},acc{1}){1/3}\",\"(it,af,it{1},aoo,acc){1/4}\",\"(it{1},af{1},it{2},aoo{1},acc{1}){1/4}\",\"(it,af,it{1},aoo,acc){2/3}\",\"(it{1},af{1},it{2},aoo{1},acc{1}){2/3}\",\"(it,af,it{1},aoo,acc){2/4}\",\"(it{1},af{1},it{2},aoo{1},acc{1}){2/4}\",\"oo1Since21\",\"oo1MaxSince21\",\"oo1Drawdown1Since21\",\"oo1Drawdown5Since21\",\"oo1Drawdown10Since21\",\"oo1MinSince21\",\"oo1MinSince21{10}\",\"aoo1Since21\",\"aoo1MaxSince21\",\"aoo1Drawdown1Since21\",\"aoo1Drawdown5Since21\",\"aoo1Drawdown10Since21\",\"aoo1MinSince21\",\"aoo1MinSince21{10}\",\"oo1Since62\",\"oo1MaxSince62\",\"oo1Drawdown1Since62\",\"oo1Drawdown5Since62\",\"oo1Drawdown10Since62\",\"oo1MinSince62\",\"oo1MinSince62{10}\",\"aoo1Since62\",\"aoo1MaxSince62\",\"aoo1Drawdown1Since62\",\"aoo1Drawdown5Since62\",\"aoo1Drawdown10Since62\",\"aoo1MinSince62\",\"aoo1MinSince62{10}\",\"oo1Since125\",\"oo1MaxSince125\",\"oo1Drawdown1Since125\",\"oo1Drawdown5Since125\",\"oo1Drawdown10Since125\",\"oo1MinSince125\",\"oo1MinSince125{10}\",\"aoo1Since125\",\"aoo1MaxSince125\",\"aoo1Drawdown1Since125\",\"aoo1Drawdown5Since125\",\"aoo1Drawdown10Since125\",\"aoo1MinSince125\",\"aoo1MinSince125{10}\",\"oo1Since250\",\"oo1MaxSince250\",\"oo1Drawdown1Since250\",\"oo1Drawdown5Since250\",\"oo1Drawdown10Since250\",\"oo1MinSince250\",\"oo1MinSince250{10}\",\"aoo1Since250\",\"aoo1MaxSince250\",\"aoo1Drawdown1Since250\",\"aoo1Drawdown5Since250\",\"aoo1Drawdown10Since250\",\"aoo1MinSince250\",\"aoo1MinSince250{10}\",\"assetCode_inUniCount\"]\n",
    "        feats_ctor = '<IKGCoverThreeMoreShort>\\n    <>~Market & (\\n        <>Return{.&pure&~digit&~TEN} & ~Since & Return{.&\\n            <>(oo|cc|aoo|acc|daoc)\\n            & index[0,1,2,0:1,1:2,0:2]\\n          }\\n        | Return{.&pure&~index} & ~Since & Return{.&\\n            <>(oo|aoo)\\n            & [3:,6:,9:,12:,15:,18:,6:3,9:6,12:9,15:12,18:15,21:18,9:3,12:6,            15:9,18:12,21:15,12:3,15:6,18:9,21:12,15:3,18:6,21:9,18:3,21:6,21:3]\\n          }\\n        | (\\n            <>Return{(oo{.&[1:]}|aoo[1:])}\\n            & (\\n                <> ~Drawdown&~Drawup&~Since{Min}&~Since{Max}\\n                | Drawdown[1:, 5:,10:]\\n                | Since{Max&index[0]}\\n                | Since{Min&index[0,10]}\\n              )\\n            & Since[21:,62:,125:,250:]\\n          )\\n      )\\n    |\\n        <>AssetEnc{InUni}\\n        | AssetEnc{Code}\\n    |\\n        <>FaceValue{Volume}\\n        | Return{mix[1,2,3,4,5,6,7,8,9,11,12,13,14,15,16,17,18,19]}\\n        | Return{rr|af|it}\\n    '\n",
    "        train_on = fullhouse\n",
    "        weight = 'vp10_weight'\n",
    "        params = dict(learning_rate=0.05,max_depth=-1,num_leaves=4096,min_data_in_leaf=120,min_sum_hessian_in_leaf=100,lambda_l1=0,lambda_l2=0,num_iterations=682)\n",
    "_bd = bstdefs\n",
    "for name in _bd:\n",
    "    if 'feats_ctor' in _bd[name]:\n",
    "        _bd[name].feats_ctor = f\"<{name}>\"+_bd[name].feats_ctor\n",
    "\n",
    "def _get_allowed(model):\n",
    "    if hasattr(model, 'features'):\n",
    "        return model.features\n",
    "    else:\n",
    "        return model.copy_features+model.diff_features+model.plus_features\n",
    "        \n",
    "blend = ([\n",
    "#     ('aDefault',1),\n",
    "    \n",
    "    ('aIKGHomoTenDraw',1), \n",
    "    ('aIKGHomoThree',0),\n",
    "    ('aIKGZenThreeVP1',0),\n",
    "    ('aIKGCoverThreeVP1',0),\n",
    "    ('aTryIt',0),\n",
    "    \n",
    "    ('as21',0),\n",
    "    ('as00',0),\n",
    "    ('as10',0),\n",
    "    ('as11',0),\n",
    "    ('aGlobal',0),\n",
    "    \n",
    "    ('mIKGHomoThree',0),\n",
    "    ('ms10',0),\n",
    "    ('ms11',0),\n",
    "    ('ms21',0),\n",
    "    ('ms22',0),\n",
    "])\n",
    "\n",
    "sblend = list(zip(*[(x,c) for x,c in blend if x[0]!='p']))\n",
    "sblend = sblend if sblend else [[],[]]\n",
    "pblend = list(zip(*[(x,c) for x,c in blend if x[0]=='p']))\n",
    "pblend = pblend if pblend else [[],[]]\n",
    "\n",
    "class themodel(O()):\n",
    "    '''this defines the model blending'''\n",
    "    solo = O(specs=[_bd[x] for x in sblend[0]], coefs=sblend[1])\n",
    "    pair = O(specs=[_bd[x] for x in pblend[0]], coefs=pblend[1])\n",
    "    xAllowed = (reduce(operator.__or__,\n",
    "        [frozenset(_get_allowed(s)) for s,c in chain(zip(solo.specs,solo.coefs), zip(pair.specs,pair.coefs)) if c!=0])\n",
    "        | frozenset(fMustInclude))\n",
    "    #xAllowed = frozenset(json.load(open('../data/saves/feats.json')))"
   ]
  },
  {
   "cell_type": "markdown",
   "metadata": {},
   "source": [
    "as a note, I sometimes begin a variable name with x, like 'xAllowed', and this just means it's a set (speeds up lookup)"
   ]
  },
  {
   "cell_type": "code",
   "execution_count": 49,
   "metadata": {},
   "outputs": [
    {
     "data": {
      "text/plain": [
       "339"
      ]
     },
     "execution_count": 49,
     "metadata": {},
     "output_type": "execute_result"
    }
   ],
   "source": [
    "# guys = 'aTryIt aIKGHomoTenDraw aGlobal'.split()\n",
    "# len( reduce(operator.__or__, (frozenset(bstdefs[guy].features) for guy in guys)) )"
   ]
  },
  {
   "cell_type": "code",
   "execution_count": 88,
   "metadata": {},
   "outputs": [
    {
     "name": "stdout",
     "output_type": "stream",
     "text": [
      "141\n"
     ]
    }
   ],
   "source": [
    "print(themodel.xAllowed.__len__())"
   ]
  },
  {
   "cell_type": "markdown",
   "metadata": {},
   "source": [
    "### ~/~/~/~/~/~/~/~/~/~/~/~/~/~/~/~/~/~/~/~/~/~/~/~/~/~/~/~/~/~/~/~/~/~/~/~/~/~/~/~/~/ END Model Definitions"
   ]
  },
  {
   "cell_type": "markdown",
   "metadata": {},
   "source": [
    "#### very important ID assignment code"
   ]
  },
  {
   "cell_type": "code",
   "execution_count": 89,
   "metadata": {
    "collapsed": true
   },
   "outputs": [],
   "source": [
    "class IdAssign:\n",
    "    '''This class assigns an integer (>=0) ID to things.\n",
    "    It automatically updates the count when it sees a new thing without an ID before.\n",
    "    \n",
    "    `self.series` gives you a pd.Series where index=ID and the column values give you the original value\n",
    "    Using `self` as a function maps values to their IDs\n",
    "    '''\n",
    "    class NO_MISSING(metaclass=staticclass): # special filler value because `None` might actually be meaningfully used\n",
    "        pass\n",
    "    def __init__(self, init, missing, name):\n",
    "        self.name = name\n",
    "        self.map = {}\n",
    "        if missing is not __class__.NO_MISSING:\n",
    "            self.map[missing] = -1\n",
    "        i = 0\n",
    "        for x in init:\n",
    "            if x not in self.map and x != missing:\n",
    "                self.map[x] = i\n",
    "                i += 1\n",
    "        self.cache = None\n",
    "    def __call__(self, key):\n",
    "        if key not in self.map:\n",
    "            self.map[key] = len(self.map)\n",
    "        return self.map[key]\n",
    "    def __len__(self):\n",
    "        return self.map.__len__()\n",
    "    @property\n",
    "    def series(self):\n",
    "        if self.cache==len(self):\n",
    "            return self._series\n",
    "        # Python 3.?+ guarantees that dict keys and values are itered in same order, and that order is insertion order\n",
    "        self._series = pd.Series(list(self.map.keys()), index=list(self.map.values()), name=self.name)\n",
    "        self._series.index.name = self.name+'Id'\n",
    "        self.cache = len(self)\n",
    "        return self._series\n",
    "\n",
    "assetCodeSeries = pd.Series(M.assetCode.unique())\n",
    "assetCodeIdAssign = IdAssign(assetCodeSeries, missing='', name='assetCode')\n",
    "del assetCodeSeries\n",
    "assetNameSeries = pd.Series(M.assetName.unique())\n",
    "assetNameIdAssign = IdAssign(assetNameSeries, missing='Unknown', name='assetName')\n",
    "del assetNameSeries"
   ]
  },
  {
   "cell_type": "markdown",
   "metadata": {},
   "source": [
    "#### some data specific helper func/structs"
   ]
  },
  {
   "cell_type": "code",
   "execution_count": 90,
   "metadata": {
    "collapsed": true
   },
   "outputs": [],
   "source": [
    "stringify_columns = stringify_list\n",
    "\n",
    "returns_columns = { # I map these guys from linear space to log space, and make them into shorter names\n",
    "    'returnsClosePrevRaw1':'cc', 'returnsOpenPrevRaw1':'oo',\n",
    "    'returnsClosePrevMktres1':'acc', 'returnsOpenPrevMktres1':'aoo',\n",
    "    'returnsClosePrevRaw10':'ccTEN','returnsOpenPrevRaw10':'ooTEN',\n",
    "    'returnsClosePrevMktres10':'accTEN','returnsOpenPrevMktres10':'aooTEN'\n",
    "}\n",
    "columns_for_U = set(returns_columns.values()) | set(['aoo', 'aooTEN', 'open', 'close', 'volume'])\n",
    "excluded_columns = [\n",
    "    'time','assetCode','assetName','universe','returnsOpenNextMktres10','quarter','y'\n",
    "]\n",
    "exclusion_filter = lambda c: c not in excluded_columns\n",
    "object_columns = ['assetCode', 'assetName']\n",
    "enumeration_columns = ['assetCodeId', 'assetNameId']"
   ]
  },
  {
   "cell_type": "markdown",
   "metadata": {
    "collapsed": true
   },
   "source": [
    "#### hard coded constants"
   ]
  },
  {
   "cell_type": "code",
   "execution_count": 91,
   "metadata": {
    "collapsed": true
   },
   "outputs": [],
   "source": [
    "train_start_time = pd.Timestamp('2009-01-01',tz='UTC')\n",
    "lookback = 60\n",
    "shortterm = 21\n",
    "longterm = 250 + lookback*2 #idk it's hard to reason about how much I _really_ need, so this should be pretty safe"
   ]
  },
  {
   "cell_type": "markdown",
   "metadata": {},
   "source": [
    "#### setting up only the stocks that we have seen in-universe"
   ]
  },
  {
   "cell_type": "code",
   "execution_count": 92,
   "metadata": {
    "collapsed": true
   },
   "outputs": [],
   "source": [
    "M['assetCodeId'] = M.assetCode.map(assetCodeIdAssign).astype(int)\n",
    "inUniCount = M[M.time>=train_start_time].groupby('assetCodeId').universe.sum()\n",
    "stocksInUni = (inUniCount != 0).pipe(lambda x: x.index[x])\n",
    "assert stocksInUni.is_monotonic\n",
    "xStocksInUni = set(stocksInUni) #EDITCELL\n",
    "inUniCountSeries = inUniCount.astype(float) #EDITCELL\n",
    "stocksAlways = (inUniCount >= 1981).pipe(lambda x: x.index[x])\n",
    "xStocksAlways = set(stocksAlways)"
   ]
  },
  {
   "cell_type": "markdown",
   "metadata": {},
   "source": [
    "### Basic features"
   ]
  },
  {
   "cell_type": "code",
   "execution_count": 93,
   "metadata": {
    "collapsed": true
   },
   "outputs": [],
   "source": [
    "def set_basic_features(*,M,delete=True):\n",
    "    if 'assetCodeId' not in M:\n",
    "        M['assetCodeId'] = M.assetCode.map(assetCodeIdAssign).astype(np.int32) # much more efficient to process everything as float\n",
    "    if delete:\n",
    "        del M['assetCode']\n",
    "    if 'assetNameId' not in M:\n",
    "        M['assetNameId'] = M.assetName.map(assetNameIdAssign).astype(np.int32)\n",
    "    if delete:\n",
    "        del M['assetName']\n",
    "    for orig_col, new_col in returns_columns.items():\n",
    "        if new_col not in M:\n",
    "            M[new_col] = np.log1p(M[orig_col])#.astype(np.float32) # comment out astype 32 because these will be combined\n",
    "        if delete:\n",
    "            del M[orig_col]\n",
    "    # time features\n",
    "    if 'dayOfYear' not in M:\n",
    "        M['dayOfYear'] = M.time.dt.dayofyear.astype(np.float32)\n",
    "    if 'dayOfWeek' not in M:\n",
    "        M['dayOfWeek'] = M.time.dt.dayofweek.astype(np.float32)"
   ]
  },
  {
   "cell_type": "code",
   "execution_count": 94,
   "metadata": {
    "collapsed": true
   },
   "outputs": [],
   "source": [
    "set_basic_features(M=M, delete=False)"
   ]
  },
  {
   "cell_type": "code",
   "execution_count": 95,
   "metadata": {
    "collapsed": true
   },
   "outputs": [],
   "source": [
    "def setup_P(*, F, P, delete=True, target=True, vp=True, always=False):\n",
    "    P['quarter'] = (P.time.dt.year+(P.time.dt.quarter-1)/4).astype(np.float32)\n",
    "    \n",
    "    for c in 'assetCode __0__assetCode __1__assetCode assetName __0__assetName __1__assetName'.split():\n",
    "        if c+'Id' not in P and c in P:\n",
    "            mapper = assetCodeIdAssign if 'Code' in c else assetNameIdAssign\n",
    "            P[c+'Id'] = P[c].map(mapper).astype(np.int32)\n",
    "        if delete and c in P:\n",
    "            del P[c]\n",
    "        \n",
    "    if target:\n",
    "        if 'y' not in P:\n",
    "            P.rename(columns={'returnsOpenNextMktres10':'y'}, inplace=True)\n",
    "            assert 'y' in P\n",
    "        P['target'] = P.y>0\n",
    "        P['upDown'] = (P.target*2-1).astype(np.float32)\n",
    "        P['absVal'] = np.abs(P.y)\n",
    "        P['flat_weight'] = P.absVal\n",
    "        if vp:\n",
    "            for i in [1,10]:\n",
    "                try:\n",
    "                    P[f'vp{i}_weight'] = P.absVal*F[f'vp{i}']/1e9\n",
    "                except KeyError:\n",
    "                    pass\n",
    "        if always:\n",
    "            P['always_weight'] = P.absVal*F.assetCodeId.isin(xStocksAlways)"
   ]
  },
  {
   "cell_type": "markdown",
   "metadata": {},
   "source": [
    "### Making correlations data for pair trading !!!!!!!!!!!!!!!!!!!!!!!!!!!!"
   ]
  },
  {
   "cell_type": "code",
   "execution_count": 96,
   "metadata": {
    "collapsed": true
   },
   "outputs": [],
   "source": [
    "@njit\n",
    "def offdiag_items(ix, x, y):\n",
    "    m, n = x.shape\n",
    "    assert (m, n) == y.shape\n",
    "    assert m == n\n",
    "    assert (m,) == ix.shape\n",
    "    t = (n**2-n) // 2\n",
    "    I = np.full(t, -1, dtype=np.int64)\n",
    "    J = np.full(t, -1, dtype=np.int64)\n",
    "    X = np.full(t, 0, dtype=x.dtype)\n",
    "    Y = np.full(t, 0, dtype=y.dtype)\n",
    "    k = -1\n",
    "    for i in range(m):\n",
    "        for j in range(i+1, n):\n",
    "            k += 1\n",
    "            I[k] = ix[i]\n",
    "            J[k] = ix[j]\n",
    "            X[k] = x[i,j]\n",
    "            Y[k] = y[i,j]\n",
    "    return I, J, X, Y"
   ]
  },
  {
   "cell_type": "code",
   "execution_count": 97,
   "metadata": {
    "collapsed": true
   },
   "outputs": [],
   "source": [
    "def make_D():\n",
    "    Mt = M[M.time>=train_start_time]\n",
    "    ##########################\n",
    "    W = O()\n",
    "#     W.y1 = Mt[['time','assetCodeId','oo']].pivot('time','assetCodeId').oo\n",
    "#     W.ay1 = Mt[['time','assetCodeId','aoo']].pivot('time','assetCodeId').aoo\n",
    "#     W.y10 = Mt[['time','assetCodeId','ooTEN']].pivot('time','assetCodeId').ooTEN\n",
    "    W.ay10 = Mt[['time','assetCodeId','aooTEN']].pivot('time','assetCodeId').aooTEN\n",
    "#     W.y20 = W.y10 + W.y10.shift(10)\n",
    "#     W.ay20 = W.ay10 + W.ay10.shift(10)\n",
    "    W.u = Mt[['time','assetCodeId','universe']].pivot('time','assetCodeId').universe.fillna(0).astype(int)\n",
    "    # for c in W:\n",
    "    #     W[c] = W[c][W[c].index>=train_start_time]\n",
    "    del Mt; gc.collect()\n",
    "    ##################################\n",
    "    C = O()\n",
    "    #C.y1 = W.y1.corr()\n",
    "    #C.ay1 = W.ay1.corr()\n",
    "    #C.y10 = W.y10.corr()\n",
    "    C.ay10 = W.ay10.corr()\n",
    "    C.u = W.u.T @ W.u\n",
    "    del W; gc.collect()\n",
    "    #############################\n",
    "    D = O()\n",
    "    #D.v1 = pd.DataFrame(dict(zip([0, 1, 'Corr', 'Unic'], offdiag_items(C.y1.index.values, C.y1.values, C.u.values))))\n",
    "    #D.av1 = pd.DataFrame(dict(zip([0, 1, 'Corr', 'Unic'], offdiag_items(C.ay1.index.values, C.ay1.values, C.u.values))))\n",
    "    #D.v10 = pd.DataFrame(dict(zip([0, 1, 'Corr', 'Unic'], offdiag_items(C.y10.index.values, C.y10.values, C.u.values))))\n",
    "    D.av10 = pd.DataFrame(dict(zip([0, 1, 'Corr', 'Unic'], offdiag_items(C.ay10.index.values, C.ay10.values, C.u.values))))\n",
    "    for c in ['av10']:#['v1','av1','v10','av10']:\n",
    "        D[c] = D[c][D[c].Unic!=0]\n",
    "        D[c].sort_values('Corr', ascending=False, inplace=True)\n",
    "        convert32(D[c])\n",
    "    del C; gc.collect()\n",
    "    return D"
   ]
  },
  {
   "cell_type": "code",
   "execution_count": 98,
   "metadata": {
    "collapsed": true
   },
   "outputs": [],
   "source": [
    "binary_search = bisect_left\n",
    "\n",
    "@njit\n",
    "def index_unique_pairs(A, B, values, repeat):\n",
    "    assert len(A)==len(B)\n",
    "    seen = [0] * len(values)\n",
    "    ans = []\n",
    "    for i, (a, b) in enumerate(zip(A, B)):\n",
    "        ia = binary_search(values, a); ib = binary_search(values, b);\n",
    "        if repeat==-1 or (seen[ia]<repeat and seen[ib]<repeat):\n",
    "            seen[ia] += 1; seen[ib] += 1;\n",
    "            ans.append(i)\n",
    "    return ans\n",
    "\n",
    "def make_unique_pairs(*, Dl, repeat=-1):\n",
    "    if repeat==-1:\n",
    "        return Dl\n",
    "    ii = index_unique_pairs(Dl[0].values, Dl[1].values, sorted(set(Dl[0].values)|set(Dl[1].values)), repeat=repeat)\n",
    "    return Dl.iloc[ii]\n",
    "\n",
    "def make_pairs(Dl, *, lo, hi=None, repeat=-1):\n",
    "    D = Dl\n",
    "    if hi is None:\n",
    "        hi = (1., 9999)\n",
    "    D = D[(lo[0]<=D.Corr)&(D.Corr<=hi[0])&(lo[1]<=D.Unic)&(D.Unic<=hi[1])]\n",
    "    if isinstance(repeat, int):\n",
    "        D = D.pipe(lambda x: make_unique_pairs(Dl=x, repeat=repeat))\n",
    "    return (D[0].values, D[1].values)"
   ]
  },
  {
   "cell_type": "code",
   "execution_count": 99,
   "metadata": {
    "collapsed": true
   },
   "outputs": [],
   "source": [
    "@njit\n",
    "def np_cov(x, y):\n",
    "    '''sigh the Kernel numba doesn't support np.cov yet'''\n",
    "    assert len(x)==len(y)\n",
    "    x_, y_ = x.mean(), y.mean()\n",
    "    return ((x-x_)*(y-y_)).sum()/len(x)\n",
    "\n",
    "@njit\n",
    "def np_corr(x, y):\n",
    "    return np_cov(x, y) / (x.std() * y.std())\n",
    "\n",
    "# @njit\n",
    "# def my_corr(x, y):\n",
    "#     assert len(x)==len(y)\n",
    "#     return (np_cov(x, y) / ( np.sqrt( ((x-x.mean())**2).sum() * ((y-y.mean())**2).sum() ) / len(x) ))\n",
    "\n",
    "@njit\n",
    "def corr_window_at_index(a, cols, labels, index, window, min_periods):\n",
    "    '''Parameters - a: 2D np.ndarray, we are taking corr at row index `index`, going back `window` rows\n",
    "                    cols: tuple of (cols[0],cols[1]) where cols[0/1] is the list of column `labels` of which to take corr of\n",
    "                    labels: the \"names\" of the 0-n column dimensions, that `cols` references\n",
    "                    index: row index which is the last row in the correlation window\n",
    "                    window: int, size of window\n",
    "    Return 2-tuple of np.ndarrays of shape (len(cols[0]),) containing\n",
    "        [0] correlation for every pair of columns in same order as `cols`\n",
    "        [1] common in universe count for the same pair'''\n",
    "    \n",
    "    if index < 0:\n",
    "        index += len(a)\n",
    "    assert index+1 - window >= 0\n",
    "    \n",
    "    corr = np.full((len(cols[0]),), np.nan, dtype=np.float32)\n",
    "    unic = np.full((len(cols[0]),), np.nan, dtype=np.float32)\n",
    "    \n",
    "    for k in range(len(cols[0])):\n",
    "        j0, j1 = binary_search(labels, cols[0][k]), binary_search(labels, cols[1][k])\n",
    "        x0, x1 = a[index+1-window:index+1, j0], a[index+1-window:index+1, j1]\n",
    "        notnan = ~(np.isnan(x0)|np.isnan(x1))\n",
    "        \n",
    "        sum_notnan = notnan.sum()\n",
    "        if sum_notnan < min_periods:\n",
    "            corr[k] = np.nan\n",
    "            unic[k] = sum_notnan\n",
    "            continue\n",
    "        else:\n",
    "            x0, x1 = x0[notnan], x1[notnan]\n",
    "            guy = np_corr(x0, x1)\n",
    "            corr[k] = guy\n",
    "            unic[k] = sum_notnan\n",
    "    \n",
    "    return corr, unic\n",
    "\n",
    "\n",
    "@njit\n",
    "def corr_windows_at_indices(a, cols, labels, indices, window, min_periods):\n",
    "    '''Parameters - a: 2D np.ndarray, we are taking corr at row index `index`, going back `window` rows\n",
    "                    cols: tuple of (cols[0],cols[1]) where cols[0/1] is the list of column `labels` of which to take corr of\n",
    "                    labels: the \"names\" of the 0-n column dimensions, that `cols` references\n",
    "                    indices: (same shape as `cols`) of row indices, an entry being the last row in the correlation window\n",
    "                    window: int, size of window\n",
    "    Return 2-tuple of np.ndarrays of shape (len(cols[0]),) containing\n",
    "        [0] correlation for every pair of columns in same order as `cols`\n",
    "        [1] common in universe count in the window for the same pair'''\n",
    "        \n",
    "    corr = np.full((len(cols[0]),), np.nan, dtype=np.float32)\n",
    "    unic = np.full((len(cols[0]),), np.nan, dtype=np.float32)\n",
    "    \n",
    "    for k in range(len(cols[0])):\n",
    "        index = indices[k]\n",
    "        \n",
    "        if index < 0:\n",
    "            index += len(a)\n",
    "        assert index+1 - window >= 0\n",
    "        \n",
    "        j0, j1 = binary_search(labels, cols[0][k]), binary_search(labels, cols[1][k])\n",
    "        x0, x1 = a[index+1-window:index+1, j0], a[index+1-window:index+1, j1]\n",
    "        notnan = ~(np.isnan(x0)|np.isnan(x1))\n",
    "        \n",
    "        sum_notnan = notnan.sum()\n",
    "        if sum_notnan < min_periods:\n",
    "            corr[k] = np.nan\n",
    "            unic[k] = sum_notnan\n",
    "            continue\n",
    "        else:\n",
    "            x0, x1 = x0[notnan], x1[notnan]\n",
    "            guy = np_corr(x0, x1)\n",
    "            corr[k] = guy\n",
    "            unic[k] = sum_notnan\n",
    "    \n",
    "    return corr, unic"
   ]
  },
  {
   "cell_type": "code",
   "execution_count": 100,
   "metadata": {
    "collapsed": true
   },
   "outputs": [],
   "source": [
    "if TEST:\n",
    "    a = np.asarray([\n",
    "        [0, -1, 2, np.nan, 4.],\n",
    "        [1, -2, np.nan, 4, 5],\n",
    "        [2, -3, 4, 5.5, 6],\n",
    "        [0.5, -1, 2, 1, 4],\n",
    "        [1, -2, np.nan, np.nan, 5],\n",
    "        [2, -3, 4, 5.5, 6],\n",
    "    ])\n",
    "    cols = tuple(np.asarray([\n",
    "        [10, 11],\n",
    "        [12, 13],\n",
    "        [10, 11],\n",
    "        [12, 13],\n",
    "    ]).T)\n",
    "    labels = np.asarray([10,11,12,13,14])\n",
    "    indices = np.asarray([2, 2, -1, -1])\n",
    "    window = 3\n",
    "    min_periods = 1\n",
    "\n",
    "    corr_windows_at_indices(a, cols, labels, indices, window, min_periods)"
   ]
  },
  {
   "cell_type": "code",
   "execution_count": 101,
   "metadata": {
    "collapsed": true
   },
   "outputs": [],
   "source": [
    "def make_CC_G_Q(pairs, *, F, P, W, labels=None, roll_corr=list(product(['aoo','aooTEN','aooTTY'],[21,62,125,250]))):\n",
    "#     print('___ make_CC_G_Q')\n",
    "#     print('>>> pairs[0]', pairs[0].dtype)\n",
    "    pairId = pairs[0]*100_000+pairs[1]\n",
    "#     print('>>> pairId', pairId.dtype)\n",
    "    single = P.time.nunique()==1\n",
    "    if single:\n",
    "        I0 = pd.DataFrame({'assetCodeId': pairs[0], 'pairId': pairId}, dtype=np.int32)\n",
    "#         print('>>> I0', I0.dtypes)\n",
    "        I1 = pd.DataFrame({'assetCodeId': pairs[1], 'pairId': pairId}, dtype=np.int32)\n",
    "#         print('>>> I1', I1.dtypes)\n",
    "        # merge on P to get the intersected guys\n",
    "        Q0, Q1 = I0.merge(P, on='assetCodeId', how='inner'), I1.merge(P, on='assetCodeId', how='inner')\n",
    "#         print('>>> Q0', Q0.dtypes)\n",
    "#         print('>>> Q1', Q1.dtypes)\n",
    "        # merge on intersected\n",
    "        Q0 = Q1[['pairId']].merge(Q0, how='inner'); Q1 = Q0[['pairId']].merge(Q1, how='left');\n",
    "#         print('>>> Q0', Q0.dtypes)\n",
    "#         print('>>> Q1', Q1.dtypes)\n",
    "        # make intersected set for merging F\n",
    "        G0 = Q0[['assetCodeId']].merge(F, on='assetCodeId', how='left')\n",
    "#         print('>>> G0', G0.dtypes)\n",
    "        G1 = Q1[['assetCodeId']].merge(F, on='assetCodeId', how='left')\n",
    "#         print('>>> G1', G1.dtypes)\n",
    "        # corr_window_at_index(a, cols, labels, index, window, min_periods=10)\n",
    "        \n",
    "        pairs = G0.assetCodeId.values.astype(np.int32), G1.assetCodeId.values.astype(np.int32)\n",
    "#         print('>>> !!!', G0.assetCodeId.values.dtype, G1.assetCodeId.values.dtype)\n",
    "        def iter_corr():\n",
    "            for c, h in roll_corr:\n",
    "                if isinstance(W[c], pd.DataFrame):\n",
    "                    index = binary_search(W[c].index.values, P.time.values[-1])\n",
    "                    assert W[c].columns.is_monotonic_increasing\n",
    "                    yield corr_window_at_index(W[c].values, pairs, W[c].columns.values, index, h, min_periods=10)\n",
    "                elif isinstance(W[c], np.ndarray):\n",
    "                    index = -1\n",
    "                    yield corr_window_at_index(W[c], pairs, labels, index, h, min_periods=10)\n",
    "                else:\n",
    "                    assert False\n",
    "        #BUG.guy = guy = list(iter_corr())\n",
    "        CC = np.stack(list(flatten(iter_corr())), axis=1)\n",
    "#         print('>>> CC', CC.dtype)\n",
    "        #TODO inside CC, bothInUniCount i.e. unic and weight #DONE actually forget weight we will only use flat weight\n",
    "    else:\n",
    "        # make time list\n",
    "        P['_mt'] = P.time.astype(int)\n",
    "#         print('>>> P', P.dtypes)\n",
    "        times = P.time.unique()\n",
    "        x_times = {t: i for i, t in enumerate(times)}\n",
    "        _mts = P._mt.unique()\n",
    "        \n",
    "        # make canonical index template\n",
    "        def _index(pair):\n",
    "            a = np.asarray(list(product(_mts, pair)))\n",
    "            b = np.asarray(list(product(_mts, pairId)))\n",
    "            return {'_mt': a[:,0], 'assetCodeId': a[:,1].astype(np.int32), 'pairId': b[:,1].astype(np.int32)}\n",
    "        I0, I1 = pd.DataFrame(_index(pairs[0])), pd.DataFrame(_index(pairs[1]))\n",
    "#         print('>>> I0', I0.dtypes)\n",
    "#         print('>>> I1', I1.dtypes)\n",
    "        # do P first to get merge columns\n",
    "        Q0, Q1 = I0.merge(P,on=['_mt','assetCodeId'],how='inner'), I1.merge(P,on=['_mt','assetCodeId'],how='inner')\n",
    "#         print('>>> Q0', Q0.dtypes)\n",
    "#         print('>>> Q1', Q1.dtypes)\n",
    "        # get common rows\n",
    "        Q0 = Q1[['_mt','pairId']].merge(Q0, how='inner'); Q1 = Q0[['_mt','pairId']].merge(Q1, how='left');\n",
    "#         print('>>> Q0', Q0.dtypes)\n",
    "#         print('>>> Q1', Q1.dtypes)\n",
    "        # now do F\n",
    "        F['_mt'] = P._mt\n",
    "#         print('>>> F', F.dtypes)\n",
    "        G0 = Q0[['_mt','assetCodeId']].merge(F, on=['_mt','assetCodeId'], how='left')\n",
    "#         print('>>> G0', G0.dtypes)\n",
    "        G1 = Q1[['_mt','assetCodeId']].merge(F, on=['_mt','assetCodeId'], how='left')\n",
    "#         print('>>> G1', G1.dtypes)\n",
    "        del F['_mt'], P['_mt'], Q0['_mt'], Q1['_mt'], G0['_mt'], G1['_mt']\n",
    "        \n",
    "        pairs = G0.assetCodeId.values.astype(np.int32), G1.assetCodeId.values.astype(np.int32)\n",
    "#         print('>>> !!!', G0.assetCodeId.values.dtype, G1.assetCodeId.values.dtype)\n",
    "        def iter_corr():\n",
    "            for c, h in roll_corr:\n",
    "                if isinstance(W[c], pd.DataFrame):\n",
    "                    mapper = dict(zip(W[c].index, np.arange(len(W[c].index))))\n",
    "                    indices = Q0.time.map(mapper)\n",
    "                    assert W[c].columns.is_monotonic_increasing\n",
    "                    yield corr_windows_at_indices(W[c].values, pairs, W[c].columns.values, indices, h, min_periods=10)\n",
    "                elif isinstance(W[c], np.ndarray):\n",
    "                    indices = (Q0.time.map(x_times) - len(x_times)).values\n",
    "                    yield corr_windows_at_indices(W[c], pairs, labels, indices, h, min_periods=10)\n",
    "                else:\n",
    "                    assert False\n",
    "        #BUG.guy = guy = list(iter_corr())\n",
    "        CC = np.stack(list(flatten(iter_corr())), axis=1)\n",
    "#         print('>>> CC', CC.dtype)\n",
    "    assert len(CC)==len(G0)==len(Q0)\n",
    "    \n",
    "    G0.reset_index(inplace=True, drop=True); G1.reset_index(inplace=True, drop=True);\n",
    "    Q0.reset_index(inplace=True); Q1.reset_index(inplace=True);\n",
    "    return (\n",
    "        pd.DataFrame(CC,columns=flatten([f'__corr__{y}_{r}',f'__unic__{y}_{r}'] for y,r in roll_corr)),\n",
    "        (G0, G1),\n",
    "        (Q0, Q1)\n",
    "    )"
   ]
  },
  {
   "cell_type": "code",
   "execution_count": 102,
   "metadata": {
    "collapsed": true
   },
   "outputs": [],
   "source": [
    "def make_FG_PQ(copy_filter, diff_filter, plus_filter, corr_filter, *, CC, G, Q):\n",
    "#     print('___ make_FG_PQ')\n",
    "    SEE('(pair) putting together...', end=' ')\n",
    "#     print('>>> CC', CC.dtypes)\n",
    "#     print('>>> G[0]', G[0].dtypes)\n",
    "#     print('>>> G[1]', G[1].dtypes)\n",
    "#     print('>>> Q[0]', Q[0].dtypes)\n",
    "#     print('>>> Q[1]', Q[1].dtypes)\n",
    "    # weight = CC['weight'].values # old code\n",
    "    \n",
    "    Gcols, Qcols = G[0].columns, Q[0].columns\n",
    "    assert (Gcols==G[1].columns).all() and (Qcols==Q[1].columns).all()\n",
    "    \n",
    "    \n",
    "    cop, dif, pls = list(filter(copy_filter, Gcols)), list(filter(diff_filter, Gcols)), list(filter(plus_filter, Gcols))\n",
    "    G0, G1 = G[0][cop].values, G[1][cop].values\n",
    "#     print('>>> G0', G0.dtype)\n",
    "#     print('>>> G1', G1.dtype)\n",
    "    H01 = G[0][dif].values.astype(np.float32) - G[1][dif].values.astype(np.float32)\n",
    "#     print('>>> H01', H01.dtype)\n",
    "    I01 = G[0][pls].values.astype(np.float32) + G[1][pls].values.astype(np.float32)\n",
    "#     print('>>> I01', I01.dtype)\n",
    "    CC = CC[list(filter(corr_filter, CC.columns))]\n",
    "#     print('>>> CC', CC.dtypes)\n",
    "#     print('>>> CC.values', CC.values.dtype)\n",
    "    \n",
    "    F01 = np.concatenate([G0,G1,H01,I01,CC.values.astype(np.float32)], axis=1)\n",
    "    F10 = np.concatenate([G1,G0,-H01,I01,CC.values.astype(np.float32)], axis=1)\n",
    "#     print('>>> F01', F01.dtype)\n",
    "#     print('>>> F10', F10.dtype)\n",
    "    FG = np.concatenate([F01, F10], axis=0)\n",
    "#     print('>>> FG', FG.dtype)\n",
    "    if not np.issubdtype(FG.dtype, np.float):\n",
    "        FG = FG.astype(np.float32)\n",
    "#     print('>>> FG', FG.dtype)\n",
    "    \n",
    "    FGcols = (['__0__'+c for c in cop] + ['__1__'+c for c in cop] + ['__0-1__'+c for c in dif]\n",
    "              + ['__0+1__'+c for c in pls] + list(CC.columns))\n",
    "    FG = pd.DataFrame(FG, columns=FGcols, copy=False)\n",
    "#     print('>>> FG', FG.dtypes)\n",
    "    \n",
    "    \n",
    "    Q = Q[0].reset_index(drop=True), Q[1].reset_index(drop=True)\n",
    "#     print('>>> Q', Q[0].dtypes, Q[1].dtypes)\n",
    "    assert(Q[0].time==Q[1].time).all()\n",
    "    \n",
    "    #TODO again we don't need universe here\n",
    "    Q01 = pd.DataFrame(dict(time=Q[0].time,\n",
    "        **{f'__0__{c}': Q[0][c] for c in ['assetCode','assetCodeId','assetName','assetNameId'] if c in Q[0]},\n",
    "        **{f'__1__{c}': Q[1][c] for c in ['assetCode','assetCodeId','assetName','assetNameId'] if c in Q[1]}))\n",
    "    if 'y' in Q[0]:\n",
    "        assert 'y' in Q[1]\n",
    "        Q01['y'] = Q[0].y - Q[1].y\n",
    "    Q10 = pd.DataFrame(dict(time=Q[1].time,\n",
    "        **{f'__0__{c}': Q[1][c] for c in ['assetCode','assetCodeId','assetName','assetNameId'] if c in Q[1]},\n",
    "        **{f'__1__{c}': Q[0][c] for c in ['assetCode','assetCodeId','assetName','assetNameId'] if c in Q[0]}))\n",
    "    if 'y' in Q[1]:\n",
    "        assert 'y' in Q[0]\n",
    "        Q10['y'] = Q[1].y - Q[0].y\n",
    "#     print('>>> Q01', Q01.dtypes)\n",
    "#     print('>>> Q10', Q10.dtypes)\n",
    "    \n",
    "    PQ = pd.concat([Q01, Q10], axis=0, ignore_index=True)\n",
    "#     PQ['pair_weight'] = 1 # np.concatenate([weight, weight], axis=0) # old code\n",
    "#     print('>>> PQ', PQ.dtypes)\n",
    "    \n",
    "    PQ.sort_values('time', inplace=True)\n",
    "    FG = FG.reindex(index=PQ.index, copy=False)\n",
    "    \n",
    "    FG.reset_index(drop=True, inplace=True)\n",
    "    PQ.reset_index(drop=True, inplace=True)\n",
    "    setup_P(F=None, P=PQ, target=TRAIN, vp=False, always=False)\n",
    "    \n",
    "    SEE('(pair) done')\n",
    "    return FG, PQ"
   ]
  },
  {
   "cell_type": "markdown",
   "metadata": {},
   "source": [
    "### THE definitive features generators!"
   ]
  },
  {
   "cell_type": "code",
   "execution_count": 103,
   "metadata": {
    "collapsed": true
   },
   "outputs": [],
   "source": [
    "_rollwind = rolling_window_axis0\n",
    "\n",
    "def noinf_log(a):\n",
    "    '''np.log, but makes maps 0 => np.nan instead of -np.inf'''\n",
    "    ret = np.log(a)\n",
    "    if len(ret.shape)==0:\n",
    "        return ret if not np.isneginf(ret) else np.nan\n",
    "    ret[np.isneginf(ret)] = np.nan\n",
    "    return ret\n",
    "\n",
    "def _vol(a, axis, fill):\n",
    "    '''helper that calculates the volatility'''\n",
    "    var = np.nanvar(a, axis=axis, ddof=1) # ddof=1 for better estimate\n",
    "    nsamps = np.maximum(np.count_nonzero(~np.isnan(a), axis=axis) - 1, 0)\n",
    "    # weight by global average to help curb extreme values when cumulating in features constructed from this\n",
    "    return np.sqrt((var * np.expm1(nsamps) + fill**2) / (np.expm1(nsamps) + 1))\n",
    "_vol.fill = lambda r: np.sqrt(r) / 22 # these approximate the global average std"
   ]
  },
  {
   "cell_type": "markdown",
   "metadata": {},
   "source": [
    "Below until the next header are the main feature generation functions.\n",
    "\n",
    "To save myself time I use single capital letter variables to denote very specific entities\n",
    "\n",
    "- M = a DataFrame like the original given market obs\n",
    "- U = an O that maps feature name => np.ndarray of shape ({days up to current day}, {all the stocks, in assetCodeId order})\n",
    "  - The features are stored in this format to be able to generate lag and drawdown features\n",
    "- u = an O that maps feature name => np.ndarray of shape ({all the stocks, in assetCodeId order},)\n",
    "  - These features we don't care about past entries, so only the present day value is included acorss the stocks\n",
    "- V = an O that maps feature name => np.ndarray of shape ({days up to current day},)\n",
    "  - These are global (across stocks) features that we need to look back in time for\n",
    "- v = an O that maps feature name => numbers\n",
    "  - It's just one number which is the current value of this global feature on the current day"
   ]
  },
  {
   "cell_type": "code",
   "execution_count": 111,
   "metadata": {
    "collapsed": true
   },
   "outputs": [],
   "source": [
    "def add_shortterm_price_features(*,U,u):\n",
    "    # volume*price ############################################################################\n",
    "    # just the volume*price. it is maximally NaN\n",
    "    U['vp'] = lambda: U.volume * U.open, lambda: U.volume[-1] * U.open[-1]\n",
    "    \n",
    "    # the 1 suffix means there is a best attempt at cleaning up the NaNs and is start of a series of things spanning n days\n",
    "    U['vp1'] = lambda: ffill_axis0(U['vp']), lambda: ffill_axis0(U['vp'][-2:])[-1]\n",
    "    # volume*price meaned over h days\n",
    "    for h in [5,10]:\n",
    "        U[f'vp{h}'] = lambda: np.nanmean(_rollwind(U.vp1, h), axis=-1), lambda: np.nanmean(U.vp1[-h:], axis=0)\n",
    "    for h in [20,60]:\n",
    "        u[f'vp{h}'] = lambda: np.nanmean(U.vp1[-h:], axis=0)\n",
    "        \n",
    "    # volume*price day-to-day over h days # 'dd' means \"day-to-day\". it is the \"return\" equivalent for volume*price\n",
    "    for h in [1,5,10]:\n",
    "        U[f'vp{h}dd1'] = (lambda: noinf_log(U[f'vp{h}']) - noinf_log(np.shift(U[f'vp{h}'],1,axis=0)),\n",
    "                          lambda: noinf_log(U[f'vp{h}'][-1]) - noinf_log(U[f'vp{h}'][-2]))\n",
    "    \n",
    "    #######################\n",
    "    # just because this wasn't defined for us in `make_single_A_...`\n",
    "    U['(oo-aoo)1'] = lambda: U.oo1 - U.aoo1\n",
    "    \n",
    "    # SHORT TERM COMBOS ######################################################################################\n",
    "    _Uu = lambda ww, n: U[f'{ww}{n}'][-1] if n<20 or 'olatility' in ww else u[f'{ww}{n}']\n",
    "    \n",
    "    for ww in ['oo','aoo','(oo-aoo)','vp1dd','vp5dd','volatility']:\n",
    "        ww1 = ww+'1'\n",
    "        #! size 5 combos in this section\n",
    "        if 'olatility' not in ww:\n",
    "            for i in [5,10,15, 3,6,9,12,18]: # the (i-0) time slices needed by other calcs\n",
    "                U[ww+str(i)] = lambda: np.nansum(_rollwind(U[ww1],i), axis=-1), lambda: np.nansum(U[ww1][-i:], axis=0)\n",
    "            for i in [20,60]: # the (i-0) time slices not needed by others\n",
    "                u[ww+str(i)] = lambda: np.nansum(U[ww1][-i:], axis=0)\n",
    "        else:\n",
    "            for r in [5,10,15,20,60, 3,6,9,12,18]:\n",
    "                U['volatility'+str(r)] = (lambda: _vol(_rollwind(U.oo,r), axis=-1, fill=_vol.fill(r)),\n",
    "                                          lambda: _vol(U.oo[-r:], axis=0, fill=_vol.fill(r)))\n",
    "        for r,d in zip([5,10,15, 3,6,9,12,18], [5]*3+[3]*5): # lagged guys\n",
    "            i = 1\n",
    "            while r+d*i <= 21:\n",
    "                u[f'{ww}({r+d*i}-{d*i})'] = lambda: U[f'{ww}{r}'][-1-i*d]\n",
    "                i += 1\n",
    "                \n",
    "        # the differences\n",
    "        for a,b in [(5,10),(5,20),(10,20),(20,60),(3,6),(3,9),(6,12),(9,18)]:\n",
    "            na, nb = (a, b) if 'olatility' not in ww else (np.sqrt(a), np.sqrt(b)) # sqrt ndays if volatility\n",
    "            u[f'{ww}DiffMean{{{a}/{b}}}'] = lambda: _Uu(ww,a)/na - _Uu(ww,b)/nb\n",
    "        \n",
    "    #================================================== LEGACY ============================================================\n",
    "    T = OX()\n",
    "    ################################################################# can be NaNs:\n",
    "    U['(oo-aoo)'] = lambda: U.oo - U.aoo\n",
    "    U['(cc-acc)'] = lambda: U.cc - U.acc\n",
    "    U['(oo-cc)'] = lambda: U.oo - U.cc\n",
    "    U['(aoo-acc)'] = lambda: U.aoo - U.acc\n",
    "    for ww in ['oo','(oo-aoo)','(cc-acc)','(oo-cc)','(aoo-acc)','vp1dd']:\n",
    "        T[ww+'Window*'] = lambda: np.flip( (U[ww] if ww in U else U[ww+'*'] if ww+'*' in U else U[ww+'1']) ,axis=0)[:3]\n",
    "        window = lambda: T[ww+'Window*']\n",
    "        for c in combos.union(combos.omo(3),combos.mintco(3,1,1)):\n",
    "            name = '{}{{{}}}'.format(ww, combos.name.index(c))\n",
    "            if name[-3:]=='{0}':\n",
    "                name = name[:-3]\n",
    "            if name not in U and name not in u:\n",
    "                u[name] = lambda: c@window()\n",
    "    ################################################################# can be NaNs: # mostly still here for legacy reasons\n",
    "    log_open, log_close = np.log(U.open), np.log(U.close) # can be NaNs here\n",
    "    U['af'] = lambda: log_open - np.shift(log_close,1,axis=0)\n",
    "    U['it'] = lambda: log_close - log_open\n",
    "    U['rr'] = lambda: log_open - np.shift(log_open,1,axis=0)\n",
    "    u['af{1}'] = lambda: U.af[-2]\n",
    "    u['it{1}'] = lambda: U.it[-2]\n",
    "    \n",
    "    T['near0*'] = lambda: np.stack([U.it[-1],U.af[-1],U.it[-2],U.aoo[-1],U.acc[-1]], axis=0); near0 = lambda: T['near0*']\n",
    "    T['near1*'] = lambda: np.stack([U.it[-2],U.af[-2],U.it[-3],U.aoo[-2],U.acc[-2]], axis=0); near1 = lambda: T['near1*']\n",
    "    for c in combos.omo(5):\n",
    "        name = '(it,af,it{{1}},aoo,acc){{{}}}'.format(combos.name.index(c))\n",
    "        u[name] = lambda: c@near0()\n",
    "        name = '(it{{1}},af{{1}},it{{2}},aoo{{1}},acc{{1}}){{{}}}'.format(combos.name.index(c))\n",
    "        u[name] = lambda: c@near1()"
   ]
  },
  {
   "cell_type": "code",
   "execution_count": 112,
   "metadata": {
    "collapsed": true
   },
   "outputs": [],
   "source": [
    "def _add_minmax_pools(ww, h, lag, *, Z, z): #.-`~,-'~.-`~,-'~.-`~,-'~.-`~,-'~ HELPER FUNCTION!\n",
    "    strh = str(h)\n",
    "    T = OX()\n",
    "    \n",
    "    guy = lambda: Z[ww][-h:]\n",
    "    if lag == 0: # includes the case when we have 'volatility'\n",
    "        T[f'{ww}Since{strh}*'] = lambda: guy(); since = lambda: T[f'{ww}Since{strh}*']\n",
    "    else:\n",
    "        T[f'{ww}Since{strh}*'] = lambda: np.nancumsum(guy(), axis=0); since = lambda: T[f'{ww}Since{strh}*']\n",
    "        z[f'{ww}Since{strh}'] = lambda: since()[-1]\n",
    "        \n",
    "    \n",
    "    for mm, MM, flag, updown, nanfunc in [('max','Max',-np.inf,'down',np.nanmin), ('min','Min',np.inf,'up',np.nanmax)]:\n",
    "        def _mmSince():\n",
    "            sinceForMM = since().copy()\n",
    "            sinceForMM[np.isnan(since())] = flag\n",
    "            mmSince = (np.maximum if mm=='max' else np.minimum).accumulate(sinceForMM, axis=0)\n",
    "            mmSince[mmSince==flag] = np.nan\n",
    "            return mmSince\n",
    "        T[f'{ww}{MM}Since{strh}*'] = _mmSince; mmSince = lambda: T[f'{ww}{MM}Since{strh}*']\n",
    "        z[f'{ww}{MM}Since{strh}'] = lambda: mmSince()[-1]\n",
    "        \n",
    "        T[ww+f'Draw{updown}1Since{strh}*'] = lambda:since()-mmSince(); drawSince = lambda:T[ww+f'Draw{updown}1Since{strh}*']\n",
    "        z[f'{ww}Draw{updown}1Since{strh}'] = lambda: drawSince()[-1]\n",
    "        \n",
    "        # if mm=='max' Drawdown is negative so we take np.nanmin; if mm=='min' Drawup is positive so we take np.nanmax;\n",
    "        z[f'{ww}Draw{updown}5Since{strh}'] = lambda: nanfunc(drawSince()[-5:], axis=0)\n",
    "        z[f'{ww}Draw{updown}10Since{strh}'] = lambda: nanfunc(drawSince()[-10:], axis=0)\n",
    "        z[f'{ww}Draw{updown}20Since{strh}'] = lambda: nanfunc(drawSince()[-20:], axis=0)\n",
    "        z[f'{ww}Draw{updown}(10-5)Since{strh}'] = lambda: nanfunc(drawSince()[-10:-5], axis=0)\n",
    "        z[f'{ww}Draw{updown}(20-10)Since{strh}'] = lambda: nanfunc(drawSince()[-20:-10], axis=0)\n",
    "        z[f'{ww}{MM}Since{strh}{{5}}'] = lambda: mmSince()[-6]\n",
    "        z[f'{ww}{MM}Since{strh}{{10}}'] = lambda: mmSince()[-11]\n",
    "        z[f'{ww}{MM}Since{strh}{{20}}'] = lambda: mmSince()[-21]"
   ]
  },
  {
   "cell_type": "code",
   "execution_count": 113,
   "metadata": {
    "collapsed": true
   },
   "outputs": [],
   "source": [
    "def add_longterm_price_features(*,U,u,horizons=[21,62,125,250]):\n",
    "    # longterm return horizons ################################################################ oo + aoo already in mm_pool\n",
    "#     for ww in ['oo','aoo','(oo-aoo)']:\n",
    "#         U[ww+'60'] = lambda: np.nansum(_rollwind(U[ww+'20'],3,20), axis=-1), lambda: np.nansum(U[ww+'20'][-41::20], axis=0)\n",
    "#         u[ww+'120'] = lambda: np.nansum(U[ww+'60'][-61::60], axis=0)\n",
    "    # MINMAX POOLS ################################################################### no NaNs\n",
    "    for h in horizons:\n",
    "        ##### historical liquity #NEW\n",
    "        u['fracRecordedDaysSince'+str(h)] = lambda: (~np.isnan(U.volume[-h:])).sum(axis=0) / h\n",
    "        ##### drawdowns and drawups\n",
    "        for ww, lag in [('oo1',1),('aoo1',1),('(oo-aoo)1',1), ('oo10',10),('aoo10',10),('(oo-aoo)10',10),\n",
    "                        ('vp1dd1',1),('vp5dd1',1),('vp10dd1',1), ('volatility10',0),('volatility20',0)]:\n",
    "            _add_minmax_pools(ww, h, Z=U, z=u, lag=lag)"
   ]
  },
  {
   "cell_type": "code",
   "execution_count": 114,
   "metadata": {
    "collapsed": true
   },
   "outputs": [],
   "source": [
    "def add_global_price_features(*,U,u,V,v,horizons=[21,62,125,250]):\n",
    "    ''''m_' prefix means \"market\", i.e. averaged (weights uniform) across the market at each time\n",
    "    'wVPm_' prefix means \"market, weighted by volume*price\"'''\n",
    "#     V['m_vp1dd1'] = (lambda: noinf_log(V.m_vp1) - noinf_log(np.shift(V.m_vp1,1,axis=0)),\n",
    "#                      lambda: noinf_log(V.m_vp1[-1]) - noinf_log(V.m_vp1[-2]))\n",
    "    ############################################################## count num non-NA entries in market\n",
    "    V['m_Avail'] = lambda: np.isnan(U.oo).sum(axis=1), lambda: np.isnan(U.oo[-1]).sum()\n",
    "    v['m_Availdd'] = lambda: noinf_log(V.m_Avail[-1]) - noinf_log(V.m_Avail[-2])\n",
    "    v['m_AvailDiffMean{1/5}'] = lambda: noinf_log(V.m_Avail[-1]) - noinf_log(V.m_Avail[-5:].sum()/5)\n",
    "    v['m_AvailDiffMean{5/20}'] = lambda: noinf_log(V.m_Avail[-5:].sum()/5) - noinf_log(V.m_Avail[-20:].sum()/20)\n",
    "    v['m_AvailDiffMean{10/60}'] = lambda: noinf_log(V.m_Avail[-10:].sum()/10) - noinf_log(V.m_Avail[-60:].sum()/60)\n",
    "    ################################################################## market returns, no NaNs #NEW\n",
    "    V['m_vp5_'] = lambda: noinf_log( np.nansum(U.vp5, axis=1) ), lambda: noinf_log( np.nansum(U.vp5[-1]) )\n",
    "    V['m_vp5dd1'] = lambda: V.m_vp5_ - np.shift(V.m_vp5_,1,axis=0), lambda: V.m_vp5_[-1] - V.m_vp5_[-2]\n",
    "    V['m_oo1'] = (lambda: noinf_log( np.nanmean( np.exp(U.oo1) , axis=1) ),\n",
    "                  lambda: noinf_log( np.nanmean( np.exp(U.oo1[-1]) ) ))\n",
    "    V['wVPm_oo1'] = (lambda: noinf_log( wmean( np.exp(U.oo1) , np.shift(U.vp1,1,axis=0), axis=1) ),\n",
    "                     lambda: noinf_log( wmean( np.exp(U.oo1[-1]) , U.vp1[-2]) ))\n",
    "    for i in [5,10,20,60]:\n",
    "        s = str(i) \n",
    "        # this 'm_oo{i}' is first taking returns over horizon for each stock, then averaging uniformly across market\n",
    "        if i < 20:\n",
    "            v['m_oo'+s] = lambda: noinf_log( np.nanmean( np.exp(U['oo'+s][-1]) ) )\n",
    "        else:\n",
    "            v['m_oo'+s] = lambda: noinf_log( np.nanmean( np.exp(u['oo'+s]) ) )\n",
    "        # we are doing log change of average 5 day volume*price speard globally\n",
    "        v['m_vp5dd'+s] = lambda: V.m_vp5_[-1] - V.m_vp5_[-1-i]\n",
    "        # 'wVPm_' returns are first averaged horizontally across market, then averaged vertically across time using\n",
    "        # changing market volume*price weight, and this is somewhat necessary because volume*price changes across time\n",
    "        v['wVPm_oo'+s] = lambda: np.nansum(V.wVPm_oo1[-i:])\n",
    "        # volatility here. just, straightforward calc off the global returns\n",
    "        v['m_volatility'+s] = lambda: np.nanstd(V.m_oo1[-i:])\n",
    "        v['wVPm_volatility'+s] = lambda: np.nanstd(V.wVPm_oo1[-i:])\n",
    "    ########################################################################\n",
    "#     for h in horizons:\n",
    "#         strh = str(h)\n",
    "#         for ww, lag in [('m_vp1dd1',1),('m_vp5dd1',1),('m_oo1',1),('m_oo10',10),('wVPm_oo1',1),('wVPm_oo10',10),\n",
    "#                         ('m_volatility10',0),('m_volatility20',0),('wVPm_volatility10',0),('wVPm_volatility20',0)]:\n",
    "#             _add_minmax_pools(ww, h, Z=V, z=v, lag=lag)"
   ]
  },
  {
   "cell_type": "code",
   "execution_count": 115,
   "metadata": {
    "collapsed": true
   },
   "outputs": [],
   "source": [
    "def add_postprocessing_features(*,F):\n",
    "    ################## systematic assetCode encodings ####################\n",
    "    F['assetCode_inUniCount'] = F.assetCodeId.map(inUniCountSeries)\n",
    "    \n",
    "    ############# random assetCode encodings ################################\n",
    "    for i in range(11):\n",
    "#         F['assetCode_randMap32_'+str(i**2)] = F.assetCodeId.map(randMap32(i**2)).astype(float)\n",
    "        F['assetCode_randMap32_'+str(i)] = F.assetCodeId.map(randMap32(i)).astype(float)\n",
    "        \n",
    "    #NOPE remove below lines!\n",
    "    #F['assetCodeIdWTFlogabs'] = F.assetCodeId.map(str).map(hash).pipe(np.abs).pipe(np.log)\n",
    "    #F['assetCodeIdWTFsin2'] = F.assetCodeId.map(str).map(hash).pipe(np.sin).pipe(lambda x: x * x)\n",
    "    F['assetCodeIdWTFFlogabs'] = F.assetCodeId.map(dfHack2.assetCodeIdWTFFlogabs)\n",
    "    F['assetCodeIdWTFFsin2'] = F.assetCodeId.map(dfHack2.assetCodeIdWTFFsin2)"
   ]
  },
  {
   "cell_type": "markdown",
   "metadata": {},
   "source": [
    "### Some rather unfortunate hack-like code to reliably generate features day-by-day follows until the next section"
   ]
  },
  {
   "cell_type": "markdown",
   "metadata": {},
   "source": [
    "Honestly don't bother trying to understand the code from here up till the header \"**HELLO READ THIS**\"\n",
    "\n",
    "It's all just plumbing work to get the feature generation code above to work in production."
   ]
  },
  {
   "cell_type": "code",
   "execution_count": 119,
   "metadata": {
    "collapsed": true
   },
   "outputs": [],
   "source": [
    "def make_single_A_U_u_V_v(*,M):\n",
    "    '''M needs to assetCodeId indexed'''\n",
    "    assert M.index.name == 'assetCodeId', \"argument to make_single_A_U_u_V_v must be assetCodeId-indexed\"\n",
    "    A = pd.DataFrame(index=stocksInUni).join(M, how='left') #EDITLINE\n",
    "    #^ A = join onto standard assetCode row-index\n",
    "    U = OX(**{c:A[c].values[np.newaxis,:] for c in columns_for_U},\n",
    "          **{c+'1':np.nan_to_num(A[c].values[np.newaxis,:]) for c in set(returns_columns.values())})\n",
    "    U._aoo = U.aoo; U._aooTEN = U.aooTEN;\n",
    "    if OX.record_dependency:\n",
    "        for c in (c for c in U if c not in OX.depend_graph):\n",
    "            U[c] = U[c] # for building dependency graph\n",
    "    return A, U, OX(), OX(), OX()\n",
    "\n",
    "def make_U(*,M):\n",
    "    Us = [make_single_A_U_u_V_v(M=m.set_index('assetCodeId'))[1] for _,m in M.groupby('time')]\n",
    "    U = OX(**{c:np.concatenate([U[c] for U in Us],axis=0) for c in Us[0]})\n",
    "    return U"
   ]
  },
  {
   "cell_type": "code",
   "execution_count": 122,
   "metadata": {},
   "outputs": [
    {
     "data": {
      "text/plain": [
       "2224"
      ]
     },
     "execution_count": 122,
     "metadata": {},
     "output_type": "execute_result"
    }
   ],
   "source": [
    "# do a minimal initial run of feature generation to get the static list of columns of interest and\n",
    "# also generate feature dependency and the set of features to allow\n",
    "OX.allow = lambda x: x in fMustInclude or 'DiffMean' in x or 'Avail' in x # x in themodel.xAllowed\n",
    "\n",
    "Minit = M[M.time<=M.time.unique()[longterm]]\n",
    "set_basic_features(M=Minit)\n",
    "Uinit = make_U(M=Minit)\n",
    "\n",
    "OX.record_dependency = True; OX.depend_graph = {}\n",
    "\n",
    "uinit = OX()\n",
    "BUG.U0_keys = set(dict.keys(Uinit))\n",
    "add_shortterm_price_features(U=Uinit,u=uinit)\n",
    "add_longterm_price_features(U=Uinit,u=uinit)\n",
    "Vinit, vinit = OX(), OX()\n",
    "add_global_price_features(U=Uinit,u=uinit,V=Vinit,v=vinit)\n",
    "\n",
    "OX.record_dependency = False; OX.build_dependency()\n",
    "\n",
    "Mcolumns = [c for c in Minit.columns if c not in excluded_columns]\n",
    "xMcolumns = set(Mcolumns)\n",
    "Ucolumns = [c for c in Uinit if c not in Mcolumns and c[-1] not in '*_' and c in OX.depends]\n",
    "ucolumns = [c for c in uinit if c not in Mcolumns and c[-1] not in '*_' and c in OX.depends]\n",
    "Vcolumns = [c for c in Vinit if c not in Mcolumns and c[-1] not in '*_' and c in OX.depends]\n",
    "vcolumns = [c for c in vinit if c not in Mcolumns and c[-1] not in '*_' and c in OX.depends]\n",
    "xUcolumns,xucolumns,xVcolumns,xvcolumns = [set(C) for C in [Ucolumns,ucolumns,Vcolumns,vcolumns]]\n",
    "for i, a in enumerate([xUcolumns,xucolumns,xVcolumns,xvcolumns]):\n",
    "    for j, b in enumerate([xUcolumns,xucolumns,xVcolumns,xvcolumns]):\n",
    "        assert a is b or len(a&b)==0, f'a and b: {i} {j}'\n",
    "\n",
    "del Minit,Uinit,uinit,Vinit,vinit; gc.collect()"
   ]
  },
  {
   "cell_type": "code",
   "execution_count": 123,
   "metadata": {
    "collapsed": true
   },
   "outputs": [],
   "source": [
    "def iter_features_templates(MNP_iter, *, U_, V_, train=False):\n",
    "    U_, termU = U_\n",
    "    V_, termV = V_\n",
    "    for M, N, P in MNP_iter:\n",
    "        if not train:\n",
    "            global TIME\n",
    "            TIME = M['time'].iloc[0]\n",
    "        \n",
    "        orig_index = M.index\n",
    "        set_basic_features(M=M) # adds \"long\" features and deletes non-log price features\n",
    "        M.set_index('assetCodeId', inplace=True)\n",
    "        A, U, u, V, v = make_single_A_U_u_V_v(M=M); del V\n",
    "        \n",
    "        assert BUG.U0_keys==set(dict.keys(U))\n",
    "        M.drop(columns=[c for c in M.columns if c not in xMcolumns], inplace=True)\n",
    "        \n",
    "        try:\n",
    "            akey = next(iter(U))\n",
    "            assert U[akey].shape[1] == U_[akey].shape[1]\n",
    "            # expand rows in old U_ if new assetCodeIds were seen #NOTE don't need anymore, decided to only use inUni assets\n",
    "    #         akey = next(iter(U))\n",
    "    #         diff = U[akey].shape[1] - U_[akey].shape[1]\n",
    "    #         if diff > 0:\n",
    "    #             for key in U_:\n",
    "    #                 if key[-1] != '_': # normal features\n",
    "    #                     U_[key] = np.pad(U_[key], pad_width=((0,0),(0,diff)), mode='constant', constant_values=np.nan)\n",
    "    #                 else: # NaN-filled-with-0 features\n",
    "    #                     U_[key] = np.pad(U_[key], pad_width=((0,0),(0,diff)), mode='constant', constant_values=0)\n",
    "        except StopIteration: # no features in U\n",
    "            pass\n",
    "        \n",
    "        # join new row vectors in U to the old tables in U_\n",
    "        for key in U:\n",
    "            U_[key] = np.concatenate([U_[key],U[key]], axis=0)\n",
    "        xsingleUcolumns = set(U); del U\n",
    "        \n",
    "        # uber special case\n",
    "        U_._aooTTY = U_._aooTEN + np.shift(U_._aooTEN,10,axis=0);\n",
    "        \n",
    "        # retain dimensions of U_ and V_ objects for sanity check after feature generation\n",
    "        _U_shape, _V_shape = {k:x.shape for k,x in dict.items(U_)}, {k:x.shape for k,x in dict.items(V_)}\n",
    "        \n",
    "        # add features to U_ and u and V and v\n",
    "        gc.collect()\n",
    "        add_shortterm_price_features(U=U_,u=u)\n",
    "        gc.collect()\n",
    "        add_longterm_price_features(U=U_,u=u)\n",
    "        gc.collect()\n",
    "        add_global_price_features(U=U_,u=u,V=V_,v=v)\n",
    "        gc.collect()\n",
    "        assert len(set(U_)&set(u))==0 and len(set(V_)&set(v))==0\n",
    "        \n",
    "        # run time check that the shape of the U things are ok\n",
    "        ##############################################BEGIN####CHECK####################################################\n",
    "        #dict.update(BUG, U=U,U_=U_,V_=V_,u=u,v=v,_U_shape=_U_shape,_V_shape=_V_shape)\n",
    "#         assert all(c in xMcolumns or c[-1] in '*_' for c in set(U_)^xUcolumns), (\n",
    "#             '!F! columns found in U_ not in Ucolumns must be in Mcolumns or end in exclusion suffixes')\n",
    "        #\n",
    "        try: # for U, u\n",
    "            c0 = next(iter(Ucolumns))\n",
    "            for c in (c for c in Ucolumns if c not in ['_aoo','_aooTEN','_aooTTY']): #TODO sorry need it for pairs corr\n",
    "                assert len(U_[c].shape)==2 and U_[c].shape[1]==U_[c0].shape[1], '!F! U_[c] must have expected shape'\n",
    "                if c in xsingleUcolumns:\n",
    "                    assert U_[c].shape==_U_shape[c], '!F! U_[c] shape must be consistent with same from make_single_A_U_...'\n",
    "                else:\n",
    "                    assert U_[c].shape[0]==_U_shape[c][0]+1 and U_[c].shape[1]==_U_shape[c][1], '!F! U_[c] shape consistency'\n",
    "            assert all(c in xMcolumns or c[-1] in '*_' for c in set(u)^xucolumns), (\n",
    "                '!F! columns found in u not in ucolumns must be in Mcolumns or end in exclusion suffixes')\n",
    "            for c in ucolumns:\n",
    "                assert len(u[c].shape)==1 and u[c].shape[0]==U_[c0].shape[1], (\n",
    "                    f'`u` items shape must match last dimension: c={c}, u={u[c].shape}, U_={U_[c0].shape}')\n",
    "        except StopIteration: # U has no features (#TODO also doesn't check u even if u has features)\n",
    "            pass\n",
    "        #                for V,v\n",
    "        try: \n",
    "            assert all(c in xMcolumns or c[-1] in '*_' for c in set(V_)^xVcolumns), (\n",
    "                '!F! columns found in V_ not in Vcolumns must be in Mcolumns or end in exclusion suffixes')\n",
    "            c0 = next(iter(Vcolumns))\n",
    "            for c in Vcolumns:\n",
    "                assert len(V_[c].shape)==1 and V_[c].shape[0]==V_[c0].shape[0], 'V_[c] shape must be consistent'\n",
    "                assert V_[c].shape[0]==_V_shape[c][0]+1, 'V_[c].shape[0] must grow by 1 each day'\n",
    "            assert all(c in xMcolumns or c[-1] in '*_' for c in set(v)^xvcolumns), (\n",
    "                '!F! columns found in v not in vcolumns must be in Mcolumns or end in exclusion suffixes')\n",
    "        except StopIteration: # V has no features\n",
    "            pass\n",
    "        for c in vcolumns:\n",
    "            assert v[c].shape==(), 'v[c] must be scalar (i.e. shape=()) shaped'\n",
    "        #################################################END#######CHECK###############################################\n",
    "        \n",
    "        # cutoff excess past terms to save memory\n",
    "        for key in U_:\n",
    "            if len(U_[key])>termU and key not in ['_aoo', '_aooTEN','_aooTTY']: #TODO sorry hard code hack save more days for pair corr\n",
    "                U_[key] = U_[key][-termU:]\n",
    "        for key in V_:\n",
    "            if len(V_[key])>termV:\n",
    "                V_[key] = V_[key][-termV:]\n",
    "        \n",
    "        # take out the bottom row of the feature tables to feed out as our feature construction iterator\n",
    "        _wide = np.zeros(u[next(iter(u))].shape, dtype=np.int8) # dtype as np.int8 to make it not upcast orig dtype\n",
    "        _dict = {c: U_[c][-1] for c in Ucolumns}\n",
    "        _dict.update({c: u[c] for c in ucolumns})\n",
    "        _dict.update({c: V_[c][-1] + _wide for c in Vcolumns})\n",
    "        _dict.update({c: v[c] + _wide for c in vcolumns})\n",
    "        del u, v\n",
    "#         dict.update(BUG, U_=U_,V_=V_,u=u,v=v)\n",
    "        # piece everything together\n",
    "        columns = Ucolumns + ucolumns + Vcolumns + vcolumns\n",
    "        F = pd.DataFrame([_dict[c] for c in columns], index=columns, columns=A.index).T\n",
    "        F = M.join(F, how='left')\n",
    "        assert 'assetCodeId' not in F.columns\n",
    "        F.reset_index(inplace=True)\n",
    "        F.index = orig_index\n",
    "        \n",
    "        if train: # remove rows of stocks that are not inUni\n",
    "            keep = F.assetCodeId.isin(xStocksInUni).values & (P.universe!=0).values\n",
    "            F, P = F[keep], P[keep]\n",
    "        \n",
    "#         for c in enumeration_columns:\n",
    "#             assert np.issubdtype(F[c].dtype, np.integer)\n",
    "        add_postprocessing_features(F=F)\n",
    "        \n",
    "        # downgrade columns to 32bit dtypes for memory saving\n",
    "#        convert32(F) #FLOAT32 # we don't do this anymore because memsave_concat can do it for us\n",
    "        yield F, P\n",
    "        del F, P; gc.collect()"
   ]
  },
  {
   "cell_type": "code",
   "execution_count": 124,
   "metadata": {
    "collapsed": true
   },
   "outputs": [],
   "source": [
    "# make initial historical U_ and u_ for creating the whole training features #EDITNOTE\n",
    "\n",
    "def iter_M_N_P_train(*,M,N):\n",
    "    assert M.time.iloc[0] >= train_start_time, '`iter_M_N_P_train` needs to be fed `M` and `N` filtered on the training days'\n",
    "    M_, N_ = M, N\n",
    "    for time, M in M_.groupby('time'):\n",
    "#         if time<train_start_time: # no longer needed because I enforce feeding M already filtered for the training days\n",
    "#             continue\n",
    "        #M['quarter'] = M.time.dt.year+(M.time.dt.quarter-1)/4\n",
    "        P = M[[c for c in excluded_columns if c in M]] #EDITLINE\n",
    "        P.universe = P.universe.astype(np.float32)\n",
    "        M = M.drop(columns=['returnsOpenNextMktres10'])#,'quarter'])\n",
    "        yield M, None, P\n",
    "        \n",
    "Mstart = M[M.time<train_start_time]\n",
    "set_basic_features(M=Mstart)\n",
    "U_ = make_U(M=Mstart)\n",
    "u_ = OX()\n",
    "add_shortterm_price_features(U=U_,u=u_)\n",
    "add_longterm_price_features(U=U_,u=u_)\n",
    "V_, v_ = OX(), OX()\n",
    "add_global_price_features(U=U_,u=u_,V=V_,v=v_)\n",
    "del Mstart, u_, v_; gc.collect()\n",
    "\n",
    "Mtrain = M[M.time>=train_start_time]\n",
    "#del M; gc.collect() #NOPE #TODO? this is totally wrong I need M after to generate the test U_ and V_"
   ]
  },
  {
   "cell_type": "markdown",
   "metadata": {},
   "source": [
    "##### make train helper"
   ]
  },
  {
   "cell_type": "code",
   "execution_count": 125,
   "metadata": {
    "collapsed": true
   },
   "outputs": [],
   "source": [
    "def memsave_concat(train):\n",
    "    m = (Mtrain.assetCode.map(assetCodeIdAssign).isin(xStocksInUni) & (Mtrain.universe!=0)).sum()\n",
    "    P_ = []\n",
    "    for k, (F, P) in enumerate(train):\n",
    "        if k == 0:\n",
    "            col = F.columns\n",
    "            ans = np.zeros([m,len(col)], dtype=np.float32) # #FLOAT32\n",
    "            m0 = 0\n",
    "        assert (F.index == P.index).all()\n",
    "        P_.append(P)\n",
    "        del P\n",
    "        m1 = m0 + len(F)\n",
    "        assert (F.columns == col).all()\n",
    "        ans[m0:m1] = F\n",
    "        del F; gc.collect()\n",
    "        m0 = m1\n",
    "    Pret = pd.concat(P_, axis=0)\n",
    "    Fret = pd.DataFrame(ans, index=Pret.index, columns=col, copy=False)\n",
    "    return Fret, Pret"
   ]
  },
  {
   "cell_type": "markdown",
   "metadata": {},
   "source": [
    "#### The cell to generate the training features. WARNING: takes a long time!"
   ]
  },
  {
   "cell_type": "code",
   "execution_count": 126,
   "metadata": {
    "collapsed": true
   },
   "outputs": [],
   "source": [
    "W = O()"
   ]
  },
  {
   "cell_type": "code",
   "execution_count": 127,
   "metadata": {},
   "outputs": [
    {
     "name": "stdout",
     "output_type": "stream",
     "text": [
      "0.........100.........200.........300.........400.........500.........600.........700.........800.........900.........1000.........1100.........1200.........1300.........1400.........1500.........1600.........1700.........1800.........1900.........2000.CPU times: user 1h 37min 59s, sys: 3min 24s, total: 1h 41min 24s\n",
      "Wall time: 1h 4min 18s\n"
     ]
    }
   ],
   "source": [
    "%%time\n",
    "def make_train():\n",
    "    global U_, V_, W\n",
    "    feat_iter = iter_features_templates(iter_M_N_P_train(M=Mtrain,N=None), U_=(U_,longterm), V_=(V_,longterm), train=True)\n",
    "    train = ( (print_progress(i,10), FP)[-1] for i,FP in enumerate(feat_iter) )\n",
    "    F, P = memsave_concat(train)\n",
    "    F.index = P.index\n",
    "    W.aoo = U_._aoo; W.aooTEN = U_._aooTEN; W.aooTTY = U_._aooTTY;\n",
    "    #^ this must come AFTER memsave_concat! generators delay eval!\n",
    "    del U_, V_; gc.collect()\n",
    "    return F,P\n",
    "F,P = make_train()"
   ]
  },
  {
   "cell_type": "code",
   "execution_count": 128,
   "metadata": {
    "collapsed": true
   },
   "outputs": [],
   "source": [
    "D = make_D()\n",
    "for c in D:\n",
    "    convert32(D[c])"
   ]
  },
  {
   "cell_type": "code",
   "execution_count": 129,
   "metadata": {
    "collapsed": true
   },
   "outputs": [],
   "source": [
    "setup_P(F=F,P=P)\n",
    "\n",
    "##P.rename(columns={'returnsOpenNextMktres10':'y'}, inplace=True)\n",
    "#globalStd = (P.universe*P.y).std()\n",
    "#grp = P.groupby(F.assetCodeId)[['y','universe']]\n",
    "#assetStds = grp.apply(lambda x: np.sqrt((x.universe*x.y**2).sum()/(x.universe).sum()) if x.universe.sum()>25 else globalStd)\n",
    "#P['assetCodeId'] = P.assetCode.map(assetCodeIdAssign)\n",
    "#P.y /= P.assetCodeId.map(assetStds)"
   ]
  },
  {
   "cell_type": "code",
   "execution_count": 95,
   "metadata": {},
   "outputs": [
    {
     "data": {
      "text/plain": [
       "22"
      ]
     },
     "execution_count": 95,
     "metadata": {},
     "output_type": "execute_result"
    }
   ],
   "source": [
    "Mstart = M[M.time>=M.time.unique()[-longterm]]\n",
    "pd.to_pickle(Mstart, FILE_MSTART)\n",
    "del M, Mstart; gc.collect()"
   ]
  },
  {
   "cell_type": "code",
   "execution_count": 132,
   "metadata": {},
   "outputs": [],
   "source": [
    "#F_ = F\n",
    "Fnew = F_[[c for c in F.columns if 'Avail' in c or 'DiffMean' in c]]"
   ]
  },
  {
   "cell_type": "code",
   "execution_count": 135,
   "metadata": {},
   "outputs": [],
   "source": [
    "F, P = pd.read_pickle('/big/data/saves/train_5fixedsince+2.32.pkl')"
   ]
  },
  {
   "cell_type": "code",
   "execution_count": 136,
   "metadata": {},
   "outputs": [
    {
     "data": {
      "text/plain": [
       "Index(['ooDiffMean{5/10}', 'ooDiffMean{5/20}', 'ooDiffMean{10/20}',\n",
       "       'ooDiffMean{20/60}', 'ooDiffMean{3/6}', 'ooDiffMean{3/9}',\n",
       "       'ooDiffMean{6/12}', 'ooDiffMean{9/18}', 'aooDiffMean{5/10}',\n",
       "       'aooDiffMean{5/20}', 'aooDiffMean{10/20}', 'aooDiffMean{20/60}',\n",
       "       'aooDiffMean{3/6}', 'aooDiffMean{3/9}', 'aooDiffMean{6/12}',\n",
       "       'aooDiffMean{9/18}', '(oo-aoo)DiffMean{5/10}', '(oo-aoo)DiffMean{5/20}',\n",
       "       '(oo-aoo)DiffMean{10/20}', '(oo-aoo)DiffMean{20/60}',\n",
       "       '(oo-aoo)DiffMean{3/6}', '(oo-aoo)DiffMean{3/9}',\n",
       "       '(oo-aoo)DiffMean{6/12}', '(oo-aoo)DiffMean{9/18}',\n",
       "       'vp1ddDiffMean{5/10}', 'vp1ddDiffMean{5/20}', 'vp1ddDiffMean{10/20}',\n",
       "       'vp1ddDiffMean{20/60}', 'vp1ddDiffMean{3/6}', 'vp1ddDiffMean{3/9}',\n",
       "       'vp1ddDiffMean{6/12}', 'vp1ddDiffMean{9/18}', 'vp5ddDiffMean{5/10}',\n",
       "       'vp5ddDiffMean{5/20}', 'vp5ddDiffMean{10/20}', 'vp5ddDiffMean{20/60}',\n",
       "       'vp5ddDiffMean{3/6}', 'vp5ddDiffMean{3/9}', 'vp5ddDiffMean{6/12}',\n",
       "       'vp5ddDiffMean{9/18}', 'volatilityDiffMean{5/10}',\n",
       "       'volatilityDiffMean{5/20}', 'volatilityDiffMean{10/20}',\n",
       "       'volatilityDiffMean{20/60}', 'volatilityDiffMean{3/6}',\n",
       "       'volatilityDiffMean{3/9}', 'volatilityDiffMean{6/12}',\n",
       "       'volatilityDiffMean{9/18}', 'm_Avail', 'm_Availdd',\n",
       "       'm_AvailDiffMean{1/5}', 'm_AvailDiffMean{5/20}',\n",
       "       'm_AvailDiffMean{10/60}'],\n",
       "      dtype='object')"
      ]
     },
     "execution_count": 136,
     "metadata": {},
     "output_type": "execute_result"
    }
   ],
   "source": [
    "Fnew.columns"
   ]
  },
  {
   "cell_type": "code",
   "execution_count": 137,
   "metadata": {
    "collapsed": true
   },
   "outputs": [],
   "source": [
    "F = pd.concat([F, Fnew], axis=1)"
   ]
  },
  {
   "cell_type": "code",
   "execution_count": 138,
   "metadata": {
    "collapsed": true
   },
   "outputs": [],
   "source": [
    "pd.to_pickle((F,P), '/big/data/saves/train_6penult.32.pkl')"
   ]
  },
  {
   "cell_type": "markdown",
   "metadata": {},
   "source": [
    "# HELLO READ THIS"
   ]
  },
  {
   "cell_type": "markdown",
   "metadata": {},
   "source": [
    "By now we have DataFrames F and P\n",
    "- F = The features data. shape = ({training and cv days}, {all the features})\n",
    "- P = The target and other columns not in F. Same index as F\n",
    "\n",
    "import to note,\n",
    "- columns under F: assetCodeId # has no other special features to make extra sure we are not cheating\n",
    "- columns under P: assetCode, assetCodeId, time, quarter"
   ]
  },
  {
   "cell_type": "code",
   "execution_count": null,
   "metadata": {
    "collapsed": true
   },
   "outputs": [],
   "source": [
    "pd.to_pickle((F,P,O.py(W),O.py(D)), FILE_WORK)"
   ]
  },
  {
   "cell_type": "markdown",
   "metadata": {},
   "source": [
    "#### _~ ~ ~ ~ ~ saving/loading for local testing_ #NOPE remove this section"
   ]
  },
  {
   "cell_type": "code",
   "execution_count": null,
   "metadata": {
    "collapsed": true
   },
   "outputs": [],
   "source": [
    "#pd.to_pickle((F,P,O.py(W),O.py(D)),'../data/saves/goto-pair-now.pkl')\n",
    "pd.to_pickle((F,P,O.py(U_),O.py(W),O.py(D)),'../data/saves/goto-pair-fuck.pkl')"
   ]
  },
  {
   "cell_type": "code",
   "execution_count": null,
   "metadata": {
    "collapsed": true
   },
   "outputs": [],
   "source": [
    "# old = O()\n",
    "# old.F, old.P, old.U_, old.W, old.D = F, P, U_, W, D"
   ]
  },
  {
   "cell_type": "code",
   "execution_count": null,
   "metadata": {
    "collapsed": true
   },
   "outputs": [],
   "source": [
    "#(F,P,W,D) = pd.read_pickle('../data/saves/goto-pair-now.pkl'); W, D = O(**W), O(**D)\n",
    "(F,P,U_,W,D) = pd.read_pickle('../data/saves/goto-pair-fuck.pkl'); U_, W, D = O(**U_), O(**W), O(**D); del U_; gc.collect()"
   ]
  },
  {
   "cell_type": "markdown",
   "metadata": {},
   "source": [
    "buff"
   ]
  },
  {
   "cell_type": "code",
   "execution_count": null,
   "metadata": {
    "collapsed": true
   },
   "outputs": [],
   "source": [
    "# pd.to_pickle((F,P),'../data/saves/ikg.test.pkl')"
   ]
  },
  {
   "cell_type": "code",
   "execution_count": 97,
   "metadata": {
    "collapsed": true
   },
   "outputs": [],
   "source": [
    "# #pd.to_pickle((F,P), '/big/data/saves/train_5fixedsince.32.pkl')\n",
    "pd.to_pickle((F,P), '../data/saves/train_5fixedsince+1.32.pkl')\n",
    "# F,P = pd.read_pickle('../data/saves/train_5fixedsince+1.32.pkl')\n",
    "# P.rename(columns={'weight':'flat_weight'}, inplace=True)\n",
    "# W, C, D = pd.read_pickle('../data/pair/working_2ONEorTEN.pkl'); W, C, D = O(**W), O(**C), O(**D); del C, W; gc.collect()"
   ]
  },
  {
   "cell_type": "code",
   "execution_count": null,
   "metadata": {
    "collapsed": true
   },
   "outputs": [],
   "source": [
    "#pd.to_pickle((F,P), '/big/data/saves/train_4Newnewfault64xx.pkl')\n",
    "#F,P = pd.read_pickle('/big/data/saves/train_4Newnewfault64xx.pkl')"
   ]
  },
  {
   "cell_type": "code",
   "execution_count": null,
   "metadata": {
    "collapsed": true
   },
   "outputs": [],
   "source": [
    "# FF,PP = pd.read_pickle('/big/data/saves/train_3allright32.pkl')"
   ]
  },
  {
   "cell_type": "code",
   "execution_count": null,
   "metadata": {
    "collapsed": true
   },
   "outputs": [],
   "source": [
    "#F0,P0 = pd.read_pickle('/big/data/saves/train_thefault.pkl')"
   ]
  },
  {
   "cell_type": "code",
   "execution_count": null,
   "metadata": {
    "collapsed": true
   },
   "outputs": [],
   "source": [
    "# F,P = FF,PP"
   ]
  },
  {
   "cell_type": "markdown",
   "metadata": {},
   "source": [
    "## @#@///////////////////////////////////// Training some particular model! /////////////////////////////////@#@"
   ]
  },
  {
   "cell_type": "code",
   "execution_count": 61,
   "metadata": {
    "collapsed": true
   },
   "outputs": [],
   "source": [
    "def lgb_kaggle_metric(preds, valid_data):\n",
    "    df_time = valid_data.timeFactor\n",
    "    #labels = valid_data.get_label()\n",
    "    values = valid_data.value\n",
    "    #assert len(labels) == len(df_time)\n",
    "\n",
    "    preds = preds*2-1\n",
    "    #labels = labels*2-1\n",
    "    x_t = preds * values\n",
    "    \n",
    "    # Here we take advantage of the fact that `labels` (used to calculate `x_t`)\n",
    "    # is a pd.Series and call `group_by`\n",
    "    x_t_sum = x_t.groupby(df_time).sum()\n",
    "    score = x_t_sum.mean() / x_t_sum.std()\n",
    "\n",
    "    valid_data.i += lgb_kaggle_metric.hack\n",
    "    return 'kaggle', score+valid_data.i, True\n",
    "lgb_kaggle_metric.hack = 0"
   ]
  },
  {
   "cell_type": "markdown",
   "metadata": {},
   "source": [
    "### load the lgb data structure and train and evaluate"
   ]
  },
  {
   "cell_type": "code",
   "execution_count": 62,
   "metadata": {
    "collapsed": true
   },
   "outputs": [],
   "source": [
    "def create_booster(model, *, F=None, P=None, mutate=True):\n",
    "    if F is None:\n",
    "        (F,P,W,D) = pd.read_pickle(FILE_WORK); W, D = O(**W), O(**D); del W, D; gc.collect()\n",
    "    \n",
    "    if mutate:\n",
    "        _allowed = set(model.features)\n",
    "        F.drop(columns=[c for c in F.columns if c not in _allowed], inplace=True)\n",
    "        assert set(F.columns)==_allowed\n",
    "        F_, P_ = F, P\n",
    "    else:\n",
    "        F_, P_ = F[model.features], P.copy()\n",
    "    del F, P; gc.collect()\n",
    "    \n",
    "    lgb_data_info = dict(\n",
    "        feature_name = list(F_.columns),\n",
    "        categorical_feature = list(F_.dtypes[F_.dtypes.isin([np.int64,np.int32])].index),\n",
    "        free_raw_data = True,\n",
    "    )\n",
    "    theweight = model.weight\n",
    "    ho = P_.quarter >= 2015.5\n",
    "    tr = P_.quarter.isin(model.train_on)\n",
    "    #cv = (P_.time>=train_start_time) & ~(tr|ho)\n",
    "    L = O()\n",
    "#     BUG.guy += [(F_[tr], P_.target[tr], P_[theweight][tr], lgb_data_info, tr, F_, P_)]\n",
    "    L.tr = lgb.Dataset(F_[tr], P_.target[tr], weight=P_[theweight][tr], **lgb_data_info)\n",
    "    #L.cv = lgb.Dataset(F_[cv], P_.target[cv], reference=L.tr, weight=P_[theweight][cv], **lgb_data_info)\n",
    "    L.ho = lgb.Dataset(F_[ho], P_.target[ho], weight=P_[theweight][ho], **lgb_data_info)\n",
    "    \n",
    "    L.tr.timeFactor = P_.time[tr].factorize()[0]\n",
    "    #L.cv.timeFactor = P_.time[cv].factorize()[0]\n",
    "    _value = (P_.upDown*P_[theweight])\n",
    "    L.tr.value = _value[tr]\n",
    "    #L.cv.value = _value[cv]\n",
    "    L.tr.i = 0\n",
    "    #L.cv.i = 0\n",
    "    \n",
    "    params = dict(\n",
    "        objective = 'binary',\n",
    "        #num_iterations = 450,\n",
    "        #early_stopping_round = 32,\n",
    "        metric = 'None',\n",
    "        seed = 44,\n",
    "        bagging_seed = 45,\n",
    "        feature_fraction_seed = 46,\n",
    "    )\n",
    "    params.update(model.params)\n",
    "    global VERBOSE_EVAL\n",
    "    model.bst = bst = lgb.train(params, L.tr, valid_sets=[L.tr], valid_names=['tr'],\n",
    "                                feval=lgb_kaggle_metric, verbose_eval=VERBOSE_EVAL)\n",
    "    if VERBOSE_EVAL:\n",
    "        print('='*60)\n",
    "    P_['guess'] = bst.predict(F_)*2-1\n",
    "    P_['trade'] = P_.guess*P_.upDown*P_[theweight]\n",
    "    daily = P_[~ho].groupby('time').trade.sum()\n",
    "    bst.std = daily.std(ddof=0)\n",
    "    BUG.daily, BUG.F_, BUG.P_, BUG.tr, BUG.ho = daily, F_, P_, tr, ho"
   ]
  },
  {
   "cell_type": "code",
   "execution_count": 63,
   "metadata": {
    "collapsed": true
   },
   "outputs": [],
   "source": [
    "def make_pair_features(model, *, F=None, P=None, W=None, D=None):\n",
    "    if F is None:\n",
    "        (F,P,W,D) = pd.read_pickle(FILE_WORK); W, D = O(**W), O(**D)\n",
    "    if not hasattr(model, 'filts') or model.filts is None:\n",
    "        model.x_copy_features = set(model.copy_features)\n",
    "        model.x_diff_features = set(model.diff_features)\n",
    "        model.x_plus_features = set(model.plus_features)\n",
    "        model.x_corr_features = set(model.corr_features)\n",
    "        filts = model.filts = [lambda x,s=s,model=model: x in getattr(model, f'x_{s}_features')\n",
    "                               for s in 'copy diff plus corr'.split()]\n",
    "    else:\n",
    "        filts = model.filts\n",
    "\n",
    "    feats = list(filter(lambda x: filts[0](x)|filts[1](x)|filts[2](x), F.columns))\n",
    "    if 'assetCodeId' not in feats:\n",
    "        feats = ['assetCodeId'] + feats\n",
    "    \n",
    "    CC, G, Q = make_CC_G_Q(\n",
    "        pairs = make_pairs(D.av10, lo=model.Pair.lo, hi=model.Pair.hi, repeat=model.Pair.repeat),\n",
    "        F = F,\n",
    "        P = P,\n",
    "        W = W,\n",
    "        labels = stocksInUni.values\n",
    "    )\n",
    "    del F, P, W, D; gc.collect()\n",
    "\n",
    "    FG, PQ = make_FG_PQ(*filts, CC=CC, G=G, Q=Q)\n",
    "\n",
    "    model.features = list(FG.columns)\n",
    "    return FG, PQ"
   ]
  },
  {
   "cell_type": "code",
   "execution_count": 64,
   "metadata": {
    "collapsed": true
   },
   "outputs": [],
   "source": [
    "def resolve_pair_guess(model, guess, P, PQ):\n",
    "    PQ['guess'] = guess\n",
    "    \n",
    "    dummy = P.set_index(['time','assetCodeId'])[[]]\n",
    "    PQ.rename(columns={'__0__assetCodeId':'assetCodeId'}, inplace=True)\n",
    "    buy = dummy.join(PQ.groupby(['time','assetCodeId']).guess.sum()).fillna(0)\n",
    "    PQ.rename(columns={'assetCodeId':'__0__assetCodeId'}, inplace=True)\n",
    "    PQ.rename(columns={'__1__assetCodeId':'assetCodeId'}, inplace=True)\n",
    "    sell = dummy.join(PQ.groupby(['time','assetCodeId']).guess.sum()).fillna(0)\n",
    "    PQ.rename(columns={'assetCodeId':'__1__assetCodeId'}, inplace=True)\n",
    "    \n",
    "    return (buy-sell).values[:, 0]"
   ]
  },
  {
   "cell_type": "markdown",
   "metadata": {},
   "source": [
    "### DO IT. Train the models."
   ]
  },
  {
   "cell_type": "code",
   "execution_count": 79,
   "metadata": {
    "collapsed": true
   },
   "outputs": [],
   "source": [
    "try:\n",
    "    del F, P, W, D;\n",
    "except NameError:\n",
    "    pass"
   ]
  },
  {
   "cell_type": "code",
   "execution_count": 80,
   "metadata": {
    "collapsed": true
   },
   "outputs": [],
   "source": [
    "TRAIN = True"
   ]
  },
  {
   "cell_type": "code",
   "execution_count": 81,
   "metadata": {
    "collapsed": true
   },
   "outputs": [],
   "source": [
    "# BUG.guy = []"
   ]
  },
  {
   "cell_type": "code",
   "execution_count": 82,
   "metadata": {},
   "outputs": [
    {
     "name": "stdout",
     "output_type": "stream",
     "text": [
      "CPU times: user 11 µs, sys: 2 µs, total: 13 µs\n",
      "Wall time: 17.2 µs\n"
     ]
    }
   ],
   "source": [
    "%%time\n",
    "VERBOSE_EVAL = 50\n",
    "for model, c in zip(themodel.solo.specs, themodel.solo.coefs):\n",
    "    if c != 0:\n",
    "        gc.collect()\n",
    "        create_booster(model)"
   ]
  },
  {
   "cell_type": "code",
   "execution_count": 83,
   "metadata": {
    "collapsed": true
   },
   "outputs": [],
   "source": [
    "# bstdefs.p2 = O.mycopy(bstdefs.pIKGCoverHomo)\n",
    "# bstdefs.p2.Pair = O(hi=None, lo=(.55, 500), repeat=2)\n",
    "\n",
    "# bstdefs.p3 = O.mycopy(bstdefs.pIKGCoverHomo)\n",
    "# bstdefs.p3.Pair = O(hi=None, lo=(.6, 500), repeat=3)\n",
    "\n",
    "# bstdefs.p4 = O.mycopy(bstdefs.pIKGCoverHomo)\n",
    "# bstdefs.p4.Pair = O(hi=None, lo=(.65, 500), repeat=4)\n",
    "\n",
    "# themodel.pair.specs = [bstdefs[x] for x in 'p2 p3 p4'.split()]\n",
    "# themodel.pair.coefs = [.1,.1,.1]"
   ]
  },
  {
   "cell_type": "code",
   "execution_count": 84,
   "metadata": {
    "collapsed": true
   },
   "outputs": [],
   "source": [
    "# themodel.pair.specs[0].params['num_iterations'] = 150\n",
    "# themodel.pair.specs[0].params['num_leaves'] = 1<<12\n",
    "# themodel.pair.specs[0].Pair = O(hi=None, lo=(.55,500), repeat=2)"
   ]
  },
  {
   "cell_type": "code",
   "execution_count": 85,
   "metadata": {
    "scrolled": true
   },
   "outputs": [
    {
     "name": "stdout",
     "output_type": "stream",
     "text": [
      "(pair) putting together... (pair) done\n",
      "[50]\ttr's kaggle: 1.14648\n",
      "[100]\ttr's kaggle: 1.34514\n",
      "[150]\ttr's kaggle: 1.44901\n",
      "============================================================\n",
      "CPU times: user 5min 43s, sys: 10.7 s, total: 5min 53s\n",
      "Wall time: 1min 13s\n"
     ]
    }
   ],
   "source": [
    "%%time\n",
    "VERBOSE_EVAL = 50\n",
    "SEE = print\n",
    "for model, c in zip(themodel.pair.specs, themodel.pair.coefs):\n",
    "    if c != 0:\n",
    "        gc.collect()\n",
    "        FG, PQ = make_pair_features(model)\n",
    "        gc.collect()\n",
    "        create_booster(model,F=FG,P=PQ)\n",
    "#         del FG, PQ; gc.collect()\n",
    "SEE = lambda*a,**k:None"
   ]
  },
  {
   "cell_type": "code",
   "execution_count": 86,
   "metadata": {},
   "outputs": [
    {
     "data": {
      "image/png": "[encoded data removed]",
      "text/plain": [
       "<matplotlib.figure.Figure at 0x7fcb45c1c9e8>"
      ]
     },
     "metadata": {},
     "output_type": "display_data"
    }
   ],
   "source": [
    "PQ.groupby('time').count().plot();"
   ]
  },
  {
   "cell_type": "code",
   "execution_count": 89,
   "metadata": {
    "collapsed": true
   },
   "outputs": [],
   "source": [
    "if TEST:\n",
    "    pd.set_option('display.max_rows', 500)\n",
    "    pd.set_option('display.max_columns', 500)"
   ]
  },
  {
   "cell_type": "code",
   "execution_count": 90,
   "metadata": {
    "collapsed": true
   },
   "outputs": [],
   "source": [
    "TRAIN = False"
   ]
  },
  {
   "cell_type": "markdown",
   "metadata": {},
   "source": [
    "### define the model aggregating function"
   ]
  },
  {
   "cell_type": "code",
   "execution_count": 91,
   "metadata": {
    "collapsed": true
   },
   "outputs": [],
   "source": [
    "@inside(themodel)\n",
    "def guess(*, F, P, W, D):\n",
    "    weight_map_multiplier = {'vp1_weight':F.vp1/1e9,'vp10_weight':F.vp10/1e9,'flat_weight':1,}\n",
    "    \n",
    "    def _pair_func(model, *, F, P):\n",
    "        FG, PQ = make_pair_features(model,F=F,P=P,W=W,D=D)\n",
    "        guess = model.bst.predict(FG) * 2 - 1\n",
    "        del FG; gc.collect()\n",
    "        return resolve_pair_guess(model, guess, P=P,PQ=PQ)\n",
    "    \n",
    "    def tanh_trans(x, P=None):\n",
    "        center = x.mean()\n",
    "        return np.tanh((x-center)*7)+center\n",
    "    \n",
    "    if P.time.nunique()==1:\n",
    "        the_trans = tanh_trans\n",
    "    else:\n",
    "        def the_trans(x, P):\n",
    "            P['_x'] = x\n",
    "            ans = P.groupby('time')._x.transform(tanh_trans)\n",
    "            return ans\n",
    "    \n",
    "    pairs = [np.nan_to_num(_pair_func(s,F=F,P=P) * weight_map_multiplier[s.weight]) * c# / s.bst.std\n",
    "             for s,c in zip(themodel.pair.specs,themodel.pair.coefs) if c!=0]\n",
    "    \n",
    "    solos = [np.nan_to_num(the_trans(s.bst.predict(F[s.features])*2-1,P=P)*weight_map_multiplier[s.weight])*c# / s.bst.std\n",
    "             for s,c in zip(themodel.solo.specs,themodel.solo.coefs) if c!=0]\n",
    "    \n",
    "    BUG.pairs, BUG.solos = pairs, solos\n",
    "    \n",
    "    return (sum(solos+pairs)/1000000).clip(-1,1)"
   ]
  },
  {
   "cell_type": "markdown",
   "metadata": {},
   "source": [
    "### last look at the model blending"
   ]
  },
  {
   "cell_type": "code",
   "execution_count": 92,
   "metadata": {},
   "outputs": [
    {
     "name": "stdout",
     "output_type": "stream",
     "text": [
      "s21, TryIt, IKGCoverThreeMoreShort, pIKGCoverHomo, "
     ]
    }
   ],
   "source": [
    "[print((spec.__name__ if spec is not None else 'None'), end=', ') for spec in themodel.solo.specs];\n",
    "# themodel.solo.coefs = []\n",
    "[print((spec.__name__ if spec is not None else 'None'), end=', ') for spec in themodel.pair.specs];\n",
    "# themodel.pair.coefs = []"
   ]
  },
  {
   "cell_type": "markdown",
   "metadata": {},
   "source": [
    "### Look at the holdout results"
   ]
  },
  {
   "cell_type": "code",
   "execution_count": 93,
   "metadata": {},
   "outputs": [
    {
     "name": "stdout",
     "output_type": "stream",
     "text": [
      "0.6006967658849921\n"
     ]
    },
    {
     "data": {
      "image/png": "[encoded data removed]",
      "text/plain": [
       "<matplotlib.figure.Figure at 0x7ff8e1339198>"
      ]
     },
     "metadata": {},
     "output_type": "display_data"
    }
   ],
   "source": [
    "if True:\n",
    "    try:\n",
    "        F, P, W, D\n",
    "    except NameError:\n",
    "        (F,P,W,D) = pd.read_pickle(FILE_WORK); W, D = O(**W), O(**D)\n",
    "\n",
    "    ho = P.quarter >= 2015.5\n",
    "        \n",
    "    F, P = F[ho], P[ho]; gc.collect()\n",
    "    P['guess'] = themodel.guess(F=F,P=P,W=W,D=D)\n",
    "    P.guess = P.guess*(np.abs(P.guess)>=0.0)\n",
    "\n",
    "    P['trade'] = P.guess*P.upDown*P.absVal\n",
    "\n",
    "    daily = P[ho].groupby('time').trade.sum()\n",
    "    print(daily.mean()/(lambda x: x if x!=0 else 1.)(daily.std(ddof=0)))\n",
    "    plt.hist(daily, bins=80);\n",
    "    \n",
    "    time = P[ho].groupby('time').time.first()\n",
    "    market = F[ho].groupby(P.time).aoo.sum()\n",
    "    trade = P[ho].groupby('time').trade.sum()\n",
    "    \n",
    "    %matplotlib inline\n",
    "    canvas(12,6)\n",
    "    plt.plot(time, market/market.std(ddof=0), linewidth=.2);\n",
    "    plt.plot(time, trade/trade.std(ddof=0), linewidth=1);\n",
    "    \n",
    "    del F, P, D, W; gc.collect()\n",
    "\n",
    "#view_results(ho, F=F,P=P,W=W,D=D)"
   ]
  },
  {
   "cell_type": "markdown",
   "metadata": {},
   "source": [
    "## +-+-+-+-+-+-+-+-+-+-+-+-+-+-+- Prediction and submission +-+-+-+-+-+-+-+-+-+-+-+-+-+-+-+-"
   ]
  },
  {
   "cell_type": "markdown",
   "metadata": {},
   "source": [
    "#### the rest of the administrative pipeline"
   ]
  },
  {
   "cell_type": "code",
   "execution_count": 122,
   "metadata": {
    "collapsed": true
   },
   "outputs": [],
   "source": [
    "# __env__ = _make_env() #NOPE remove this cell\n",
    "# M = pd.read_pickle('../data/given/M.pkl')\n",
    "# set_basic_features(M=M)\n",
    "# _M_ = M"
   ]
  },
  {
   "cell_type": "code",
   "execution_count": 123,
   "metadata": {},
   "outputs": [
    {
     "data": {
      "text/plain": [
       "787"
      ]
     },
     "execution_count": 123,
     "metadata": {},
     "output_type": "execute_result"
    }
   ],
   "source": [
    "try:\n",
    "    del F, P, W;\n",
    "except NameError:\n",
    "    pass\n",
    "gc.collect()"
   ]
  },
  {
   "cell_type": "code",
   "execution_count": 124,
   "metadata": {
    "collapsed": true
   },
   "outputs": [],
   "source": [
    "Mstart = pd.read_pickle(FILE_MSTART)"
   ]
  },
  {
   "cell_type": "code",
   "execution_count": 125,
   "metadata": {},
   "outputs": [
    {
     "data": {
      "text/plain": [
       "0"
      ]
     },
     "execution_count": 125,
     "metadata": {},
     "output_type": "execute_result"
    }
   ],
   "source": [
    "# defines U_ ahead of time for initial start of the feature processing loop in submission stage\n",
    "\n",
    "set_basic_features(M=Mstart)\n",
    "U_ = make_U(M=Mstart)\n",
    "del Mstart; gc.collect()\n",
    "u_, V_, v_ = OX(), OX(), OX()\n",
    "add_shortterm_price_features(U=U_,u=u_)\n",
    "add_longterm_price_features(U=U_,u=u_)\n",
    "add_global_price_features(U=U_,u=u_,V=V_,v=v_)\n",
    "del u_, v_; gc.collect()"
   ]
  },
  {
   "cell_type": "code",
   "execution_count": 126,
   "metadata": {},
   "outputs": [
    {
     "name": "stdout",
     "output_type": "stream",
     "text": [
      "0.........10.........20.........30.........40.........50.........60.........70.........80.........90.........100.........110.........120.........130.........140.........150.........160.........170.........180.........190.........200.........210.........220.........230.........240.........250.........260.........270.........280.........290.........300.........310.........320.........330.........340.........350.........360.........370.........380.........390.........400.........410.........420.........430.........440.........450.........460.........470.........480.........490.........500.........510.........520.........530.........540.........550.........560.........570.........580.........590.........600.........610.........620.........630........CPU times: user 33min 13s, sys: 1min 12s, total: 34min 25s\n",
      "Wall time: 20min 36s\n"
     ]
    }
   ],
   "source": [
    "%%time\n",
    "def do_submission_loop():\n",
    "    global TIME\n",
    "    feat_iter = iter_features_templates(__env__.get_prediction_days(), U_=(U_,longterm), V_=(V_,longterm))\n",
    "    for i, (f, p) in enumerate(feat_iter): #TODO roll M here for pair generation\n",
    "        print_progress(i)\n",
    "        # p has assetCode already a column, not the index\n",
    "        p_ = p.copy()\n",
    "        p_['time'] = TIME\n",
    "        setup_P(F=f,P=p_,target=False) # this puts assetCodeId in P\n",
    "        W = O(aoo=U_._aoo, aooTEN=U_._aooTEN, aooTTY=U_._aooTTY)\n",
    "        p.confidenceValue = ans = themodel.guess(F=f,P=p_,W=W,D=D)\n",
    "        if np.isnan(ans).any() or (ans<-1).any() or (ans>1).any():\n",
    "            BUG.i, BUG.f, BUG.p, BUG.ans = i, f, p, ans\n",
    "            assert False\n",
    "        __env__.predict(p)\n",
    "        gc.collect()\n",
    "do_submission_loop()"
   ]
  },
  {
   "cell_type": "code",
   "execution_count": 127,
   "metadata": {},
   "outputs": [
    {
     "name": "stdout",
     "output_type": "stream",
     "text": [
      "Your submission file has been saved. Once you `Commit` your Kernel and it finishes running, you can submit the file to the competition from the Kernel Viewer `Output` tab.\n"
     ]
    }
   ],
   "source": [
    "__env__.write_submission_file()"
   ]
  },
  {
   "cell_type": "markdown",
   "metadata": {},
   "source": [
    "# ~ ~ ~ ~ ~ ~ ~ ~ ~ ~ ~ ~ ~ ~ ~ LOCAL TESTING ~ ~ ~ ~ ~ ~ ~ ~ ~ ~ ~ ~ ~ ~ ~ ~ ~ "
   ]
  },
  {
   "cell_type": "code",
   "execution_count": null,
   "metadata": {
    "collapsed": true
   },
   "outputs": [],
   "source": []
  },
  {
   "cell_type": "code",
   "execution_count": null,
   "metadata": {
    "collapsed": true
   },
   "outputs": [],
   "source": []
  }
 ],
 "metadata": {
  "kernelspec": {
   "display_name": "Python 3",
   "language": "python",
   "name": "python3"
  },
  "language_info": {
   "codemirror_mode": {
    "name": "ipython",
    "version": 3
   },
   "file_extension": ".py",
   "mimetype": "text/x-python",
   "name": "python",
   "nbconvert_exporter": "python",
   "pygments_lexer": "ipython3",
   "version": "3.6.2"
  }
 },
 "nbformat": 4,
 "nbformat_minor": 2
}
