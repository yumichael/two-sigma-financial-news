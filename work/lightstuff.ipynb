{
 "cells": [
  {
   "cell_type": "code",
   "execution_count": 91,
   "metadata": {
    "collapsed": true
   },
   "outputs": [],
   "source": [
    "from common import *"
   ]
  },
  {
   "cell_type": "code",
   "execution_count": 145,
   "metadata": {
    "collapsed": true
   },
   "outputs": [],
   "source": [
    "logavg = lambda x,y: np.expm1((np.log1p(x)+np.log1p(y))/2)\n",
    "keepSigFig = lambda n: lambda x: round(x, -int(math.floor(math.log10(abs(x)))) + (n - 1)) if x else x"
   ]
  },
  {
   "cell_type": "code",
   "execution_count": 194,
   "metadata": {},
   "outputs": [],
   "source": [
    "class LSD(O()):\n",
    "    class discrete(O()):\n",
    "        raw = {\n",
    "            ('max_depth','num_leaves'): #10\n",
    "                [(6,1<<6),(9,1<<7),(9,1<<9),(12,1<<8),(12,1<<10),(12,1<<12),(-1,1<<8),(-1,1<<10),(-1,1<<12),(-1,1<<14)],\n",
    "            #('max','num'): #10\n",
    "            #    [(6,6),(9,7),(9,9),(12,8),(12,10),(12,12),(-1,8),(-1,10),(-1,12),(-1,14)],\n",
    "        }\n",
    "        \n",
    "    class oneByOne(O()):\n",
    "        class info(O()):\n",
    "            a = \"main [a]rray data of 3 values, [min mid max]\"\n",
    "            b =  \"[b]ack up value, i.e. default value if array doesn't give better results\"\n",
    "            cast = \"function to apply to values before using to cast to the right dtype\"\n",
    "            lim = \"maximum number of iterations of searching in this hyperparameter\"\n",
    "        class default(O()):\n",
    "            cast = keepSigFig(2)\n",
    "            lim = 2\n",
    "        data = {\n",
    "            'min_data_in_leaf': O(a=[1,60,375], cast=round),\n",
    "            'min_sum_hessian_in_leaf': O(a=[0,50,200]),\n",
    "            'lambda_l1': O(a=[0,.02,.2], b=0, lim=1),\n",
    "            'lambda_l2': O(a=[0,.02,.2], b=0, lim=1),\n",
    "        }\n",
    "\n",
    "class LightSearch():\n",
    "    mix = logavg\n",
    "    \n",
    "    def __init__(self, lsd):\n",
    "        self.lsd = O.mycopy(lsd)\n",
    "        self.setup_data()\n",
    "        \n",
    "    def setup_data(self):\n",
    "        dsc = self.lsd.discrete\n",
    "        dsc.keys = list(flatten( dsc.raw.keys() ))\n",
    "        dsc.assigns = [list(flatten(x)) for x in product(* dsc.raw.values() )]\n",
    "        obo = self.lsd.oneByOne\n",
    "        for k,v in dict.items(obo.data):\n",
    "            for i,x in dict.items(obo.default):\n",
    "                if i not in v:\n",
    "                    v[i] = x\n",
    "    \n",
    "    def search(self):\n",
    "        dsc, obo = self.lsd.discrete, self.lsd.oneByOne\n",
    "        for assign in dsc.assigns:\n",
    "            params = dict(zip(dsc.keys, assign))\n",
    "            pass\n",
    "        \n",
    "    def one_by_one(self):\n",
    "        obod = self.lsd.oneByOne.data\n",
    "        ranges = {k: v.a for k,v in dict.items(obod)}\n",
    "        params = {k: (v.b if b in v else v.a[1]) for k,v in dict.items(obod)}\n",
    "        scores = {k: [-np.inf, -np.inf] for k in params}\n",
    "        isdone = {k: False for k in params}\n",
    "        prev_base_score = -np.inf\n",
    "        for i in range(9999999999):\n",
    "            base_score = yield params\n",
    "            if base_score <= prev_base_score:\n",
    "                break\n",
    "            isdone = {k: v or i>=obod[key].lim for k,v in dict.items(params)}\n",
    "            if all(isdone.values()):\n",
    "                break\n",
    "            for key in list(params):\n",
    "                if i >= obod[key].lim:\n",
    "                    continue\n",
    "                orig = params[key]\n",
    "                params[key] = obod[key].cast(self.mix(ranges[key][0], ranges[key][1]))\n",
    "                scores[key][0] = yield params\n",
    "                params[key] = obod[key].cast(self.mix(ranges[key][1], ranges[key][2]))\n",
    "                scores[key][1] = yield params\n",
    "                params[key] = orig\n",
    "            prev_base_score = base_score\n",
    "            "
   ]
  },
  {
   "cell_type": "code",
   "execution_count": 193,
   "metadata": {},
   "outputs": [
    {
     "data": {
      "text/plain": [
       "[[6, 64],\n",
       " [9, 128],\n",
       " [9, 512],\n",
       " [12, 256],\n",
       " [12, 1024],\n",
       " [12, 4096],\n",
       " [-1, 256],\n",
       " [-1, 1024],\n",
       " [-1, 4096],\n",
       " [-1, 16384]]"
      ]
     },
     "execution_count": 193,
     "metadata": {},
     "output_type": "execute_result"
    }
   ],
   "source": [
    "[list(flatten(x)) for x in product(*LSD.fixed.values())]"
   ]
  },
  {
   "cell_type": "code",
   "execution_count": null,
   "metadata": {
    "collapsed": true
   },
   "outputs": [],
   "source": []
  }
 ],
 "metadata": {
  "kernelspec": {
   "display_name": "Python 3",
   "language": "python",
   "name": "python3"
  },
  "language_info": {
   "codemirror_mode": {
    "name": "ipython",
    "version": 3
   },
   "file_extension": ".py",
   "mimetype": "text/x-python",
   "name": "python",
   "nbconvert_exporter": "python",
   "pygments_lexer": "ipython3",
   "version": "3.6.2"
  }
 },
 "nbformat": 4,
 "nbformat_minor": 2
}
