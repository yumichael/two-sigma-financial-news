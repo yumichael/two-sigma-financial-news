{
 "cells": [
  {
   "cell_type": "code",
   "execution_count": null,
   "metadata": {
    "collapsed": true
   },
   "outputs": [],
   "source": [
    "import numpy as np\n",
    "import pandas as pd\n",
    "\n",
    "from pytil.attributes import attribute_accessor as AA\n",
    "from pytil.object import Namespace as O\n",
    "from pytil.utility import *\n",
    "\n",
    "import random, math, functools, itertools, os, gc, pickle\n",
    "from collections import Counter, namedtuple, deque\n",
    "from itertools import product\n",
    "from numba import njit\n",
    "\n",
    "ss = slice(None)"
   ]
  },
  {
   "cell_type": "code",
   "execution_count": 6,
   "metadata": {
    "collapsed": true
   },
   "outputs": [],
   "source": [
    "import matplotlib as mpl\n",
    "import matplotlib.pyplot as plt\n",
    "import seaborn as sns\n",
    "#import altair as alt\n",
    "#from altair import *\n",
    "#sns.set()\n",
    "plt.style.use(['classic', 'seaborn', 'seaborn-colorblind'])\n",
    "from pytil.quickvis import canvas\n",
    "defaultc = '#0072B2'\n",
    "%matplotlib notebook\n",
    "canvas(9, 6)"
   ]
  },
  {
   "cell_type": "code",
   "execution_count": null,
   "metadata": {
    "collapsed": true
   },
   "outputs": [],
   "source": [
    "import lightgbm as lgb"
   ]
  },
  {
   "cell_type": "code",
   "execution_count": null,
   "metadata": {
    "collapsed": true
   },
   "outputs": [],
   "source": [
    "LOG = print\n",
    "SEE = lambda *a, **k: None\n",
    "BUG = O()\n",
    "TEST = False; PROD = True"
   ]
  }
 ],
 "metadata": {
  "kernelspec": {
   "display_name": "Python 3",
   "language": "python",
   "name": "python3"
  },
  "language_info": {
   "codemirror_mode": {
    "name": "ipython",
    "version": 3
   },
   "file_extension": ".py",
   "mimetype": "text/x-python",
   "name": "python",
   "nbconvert_exporter": "python",
   "pygments_lexer": "ipython3",
   "version": "3.6.2"
  }
 },
 "nbformat": 4,
 "nbformat_minor": 2
}
