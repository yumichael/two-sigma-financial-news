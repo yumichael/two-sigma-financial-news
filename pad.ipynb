{
 "cells": [
  {
   "cell_type": "code",
   "execution_count": 2,
   "metadata": {
    "collapsed": true
   },
   "outputs": [],
   "source": [
    "from common import *"
   ]
  },
  {
   "cell_type": "code",
   "execution_count": 2,
   "metadata": {
    "collapsed": true
   },
   "outputs": [],
   "source": [
    "from itertools import chain\n",
    "\n",
    "def fast_flatten(input_list):\n",
    "    return list(chain.from_iterable(input_list))\n",
    "\n",
    "def fast_concat(frames):\n",
    "    COLUMN_NAMES = frames[0].columns\n",
    "    df_dict = dict.fromkeys(COLUMN_NAMES, [])\n",
    "    for col in COLUMN_NAMES:\n",
    "        # Use a generator to save memory\n",
    "        extracted = (frame[col] for frame in frames)\n",
    "\n",
    "        # Flatten and save to df_dict\n",
    "        df_dict[col] = fast_flatten(extracted)\n",
    "    return(pd.DataFrame.from_dict(df_dict)[COLUMN_NAMES])"
   ]
  },
  {
   "cell_type": "code",
   "execution_count": 12,
   "metadata": {},
   "outputs": [
    {
     "data": {
      "text/plain": [
       "array([48, 30, 96,  1, 59, 45, 13, 91, 76, 89, 73,  2,  7, 14, 86, 68, 67,\n",
       "       39, 38, 64,  5, 70, 53, 72, 12, 99, 74,  0, 29, 24, 21, 62, 65, 57,\n",
       "       61, 82, 18, 97, 60, 58, 87, 51, 22, 32, 41, 35, 71, 63, 33, 31,  4,\n",
       "       56, 90, 85, 37, 20, 69, 47, 55, 16, 54, 77, 50, 10,  6, 34, 80, 52,\n",
       "       79, 15, 98, 17,  8, 88, 25, 46, 95, 23, 43, 49, 94, 42, 83, 92, 28,\n",
       "       66, 40, 93,  9, 44, 36, 27, 81, 84,  3, 78, 11, 19, 75, 26])"
      ]
     },
     "execution_count": 12,
     "metadata": {},
     "output_type": "execute_result"
    }
   ],
   "source": [
    "np.random.permutation(np.arange(100))"
   ]
  },
  {
   "cell_type": "code",
   "execution_count": 13,
   "metadata": {
    "collapsed": true
   },
   "outputs": [],
   "source": [
    "dfs = [pd.DataFrame(np.random.random((1000,100)),\n",
    "                    index=1000*i+np.arange(1000),\n",
    "                    columns=['A'+str(x) for x in np.random.permutation(np.arange(100))])\n",
    "       for i in range(500)]"
   ]
  },
  {
   "cell_type": "code",
   "execution_count": 16,
   "metadata": {},
   "outputs": [
    {
     "name": "stdout",
     "output_type": "stream",
     "text": [
      "CPU times: user 365 ms, sys: 141 ms, total: 506 ms\n",
      "Wall time: 505 ms\n"
     ]
    }
   ],
   "source": [
    "%%time\n",
    "guy = pd.concat(dfs, axis=0, sort=True)"
   ]
  },
  {
   "cell_type": "code",
   "execution_count": 17,
   "metadata": {},
   "outputs": [
    {
     "name": "stdout",
     "output_type": "stream",
     "text": [
      "CPU times: user 13.4 s, sys: 1.51 s, total: 14.9 s\n",
      "Wall time: 14.2 s\n"
     ]
    }
   ],
   "source": [
    "%%time\n",
    "guy = fast_concat(dfs)"
   ]
  },
  {
   "cell_type": "markdown",
   "metadata": {
    "collapsed": true
   },
   "source": []
  },
  {
   "cell_type": "markdown",
   "metadata": {},
   "source": []
  },
  {
   "cell_type": "markdown",
   "metadata": {},
   "source": []
  },
  {
   "cell_type": "code",
   "execution_count": 61,
   "metadata": {},
   "outputs": [],
   "source": [
    "test = pd.read_pickle('data/given/test.pkl')"
   ]
  },
  {
   "cell_type": "code",
   "execution_count": 62,
   "metadata": {
    "collapsed": true
   },
   "outputs": [
    {
     "data": {
      "text/html": [
       "<div>\n",
       "<style scoped>\n",
       "    .dataframe tbody tr th:only-of-type {\n",
       "        vertical-align: middle;\n",
       "    }\n",
       "\n",
       "    .dataframe tbody tr th {\n",
       "        vertical-align: top;\n",
       "    }\n",
       "\n",
       "    .dataframe thead th {\n",
       "        text-align: right;\n",
       "    }\n",
       "</style>\n",
       "<table border=\"1\" class=\"dataframe\">\n",
       "  <thead>\n",
       "    <tr style=\"text-align: right;\">\n",
       "      <th></th>\n",
       "      <th>open</th>\n",
       "      <th>volume</th>\n",
       "      <th>returnsOpenPrevMktres1</th>\n",
       "      <th>time</th>\n",
       "      <th>close</th>\n",
       "      <th>assetName</th>\n",
       "      <th>returnsClosePrevRaw1</th>\n",
       "      <th>returnsClosePrevMktres1</th>\n",
       "      <th>returnsClosePrevMktres10</th>\n",
       "      <th>returnsOpenPrevRaw1</th>\n",
       "      <th>returnsOpenPrevRaw10</th>\n",
       "      <th>returnsClosePrevRaw10</th>\n",
       "      <th>returnsOpenPrevMktres10</th>\n",
       "      <th>assetCode</th>\n",
       "    </tr>\n",
       "  </thead>\n",
       "  <tbody>\n",
       "    <tr>\n",
       "      <th>0</th>\n",
       "      <td>45.93</td>\n",
       "      <td>1739726.0</td>\n",
       "      <td>0.003744</td>\n",
       "      <td>2017-01-03 22:00:00+00:00</td>\n",
       "      <td>46.49</td>\n",
       "      <td>Agilent Technologies Inc</td>\n",
       "      <td>0.020413</td>\n",
       "      <td>0.009812</td>\n",
       "      <td>0.015757</td>\n",
       "      <td>0.003715</td>\n",
       "      <td>-0.011736</td>\n",
       "      <td>0.015565</td>\n",
       "      <td>0.001985</td>\n",
       "      <td>A.N</td>\n",
       "    </tr>\n",
       "    <tr>\n",
       "      <th>1</th>\n",
       "      <td>28.60</td>\n",
       "      <td>2746634.0</td>\n",
       "      <td>-0.012756</td>\n",
       "      <td>2017-01-03 22:00:00+00:00</td>\n",
       "      <td>28.83</td>\n",
       "      <td>Alcoa Corp</td>\n",
       "      <td>0.026709</td>\n",
       "      <td>0.015256</td>\n",
       "      <td>NaN</td>\n",
       "      <td>-0.012772</td>\n",
       "      <td>-0.035413</td>\n",
       "      <td>-0.019388</td>\n",
       "      <td>NaN</td>\n",
       "      <td>AA.N</td>\n",
       "    </tr>\n",
       "    <tr>\n",
       "      <th>2</th>\n",
       "      <td>47.28</td>\n",
       "      <td>6737752.0</td>\n",
       "      <td>-0.002917</td>\n",
       "      <td>2017-01-03 22:00:00+00:00</td>\n",
       "      <td>46.30</td>\n",
       "      <td>American Airlines Group Inc</td>\n",
       "      <td>-0.008353</td>\n",
       "      <td>-0.026595</td>\n",
       "      <td>-0.027729</td>\n",
       "      <td>-0.002952</td>\n",
       "      <td>-0.027361</td>\n",
       "      <td>-0.027924</td>\n",
       "      <td>-0.015277</td>\n",
       "      <td>AAL.O</td>\n",
       "    </tr>\n",
       "    <tr>\n",
       "      <th>3</th>\n",
       "      <td>32.40</td>\n",
       "      <td>760498.0</td>\n",
       "      <td>0.010329</td>\n",
       "      <td>2017-01-03 22:00:00+00:00</td>\n",
       "      <td>31.90</td>\n",
       "      <td>Aaron's Inc</td>\n",
       "      <td>-0.002813</td>\n",
       "      <td>-0.020835</td>\n",
       "      <td>-0.026324</td>\n",
       "      <td>0.010290</td>\n",
       "      <td>-0.021739</td>\n",
       "      <td>-0.026846</td>\n",
       "      <td>0.011201</td>\n",
       "      <td>AAN.N</td>\n",
       "    </tr>\n",
       "    <tr>\n",
       "      <th>4</th>\n",
       "      <td>170.78</td>\n",
       "      <td>691526.0</td>\n",
       "      <td>-0.003128</td>\n",
       "      <td>2017-01-03 22:00:00+00:00</td>\n",
       "      <td>170.60</td>\n",
       "      <td>Advance Auto Parts Inc</td>\n",
       "      <td>0.008751</td>\n",
       "      <td>-0.001344</td>\n",
       "      <td>-0.007198</td>\n",
       "      <td>-0.003152</td>\n",
       "      <td>-0.014546</td>\n",
       "      <td>-0.007281</td>\n",
       "      <td>-0.010078</td>\n",
       "      <td>AAP.N</td>\n",
       "    </tr>\n",
       "  </tbody>\n",
       "</table>\n",
       "</div>"
      ],
      "text/plain": [
       "     open     volume  returnsOpenPrevMktres1                      time  \\\n",
       "0   45.93  1739726.0                0.003744 2017-01-03 22:00:00+00:00   \n",
       "1   28.60  2746634.0               -0.012756 2017-01-03 22:00:00+00:00   \n",
       "2   47.28  6737752.0               -0.002917 2017-01-03 22:00:00+00:00   \n",
       "3   32.40   760498.0                0.010329 2017-01-03 22:00:00+00:00   \n",
       "4  170.78   691526.0               -0.003128 2017-01-03 22:00:00+00:00   \n",
       "\n",
       "    close                    assetName  returnsClosePrevRaw1  \\\n",
       "0   46.49     Agilent Technologies Inc              0.020413   \n",
       "1   28.83                   Alcoa Corp              0.026709   \n",
       "2   46.30  American Airlines Group Inc             -0.008353   \n",
       "3   31.90                  Aaron's Inc             -0.002813   \n",
       "4  170.60       Advance Auto Parts Inc              0.008751   \n",
       "\n",
       "   returnsClosePrevMktres1  returnsClosePrevMktres10  returnsOpenPrevRaw1  \\\n",
       "0                 0.009812                  0.015757             0.003715   \n",
       "1                 0.015256                       NaN            -0.012772   \n",
       "2                -0.026595                 -0.027729            -0.002952   \n",
       "3                -0.020835                 -0.026324             0.010290   \n",
       "4                -0.001344                 -0.007198            -0.003152   \n",
       "\n",
       "   returnsOpenPrevRaw10  returnsClosePrevRaw10  returnsOpenPrevMktres10  \\\n",
       "0             -0.011736               0.015565                 0.001985   \n",
       "1             -0.035413              -0.019388                      NaN   \n",
       "2             -0.027361              -0.027924                -0.015277   \n",
       "3             -0.021739              -0.026846                 0.011201   \n",
       "4             -0.014546              -0.007281                -0.010078   \n",
       "\n",
       "  assetCode  \n",
       "0       A.N  \n",
       "1      AA.N  \n",
       "2     AAL.O  \n",
       "3     AAN.N  \n",
       "4     AAP.N  "
      ]
     },
     "execution_count": 62,
     "metadata": {},
     "output_type": "execute_result"
    }
   ],
   "source": [
    "test[0][0].head()"
   ]
  },
  {
   "cell_type": "code",
   "execution_count": 63,
   "metadata": {
    "collapsed": true
   },
   "outputs": [
    {
     "data": {
      "text/html": [
       "<div>\n",
       "<style scoped>\n",
       "    .dataframe tbody tr th:only-of-type {\n",
       "        vertical-align: middle;\n",
       "    }\n",
       "\n",
       "    .dataframe tbody tr th {\n",
       "        vertical-align: top;\n",
       "    }\n",
       "\n",
       "    .dataframe thead th {\n",
       "        text-align: right;\n",
       "    }\n",
       "</style>\n",
       "<table border=\"1\" class=\"dataframe\">\n",
       "  <thead>\n",
       "    <tr style=\"text-align: right;\">\n",
       "      <th></th>\n",
       "      <th>time</th>\n",
       "      <th>sourceTimestamp</th>\n",
       "      <th>firstCreated</th>\n",
       "      <th>sourceId</th>\n",
       "      <th>headline</th>\n",
       "      <th>urgency</th>\n",
       "      <th>takeSequence</th>\n",
       "      <th>provider</th>\n",
       "      <th>subjects</th>\n",
       "      <th>audiences</th>\n",
       "      <th>bodySize</th>\n",
       "      <th>companyCount</th>\n",
       "      <th>headlineTag</th>\n",
       "      <th>marketCommentary</th>\n",
       "      <th>sentenceCount</th>\n",
       "      <th>wordCount</th>\n",
       "      <th>assetCodes</th>\n",
       "      <th>assetName</th>\n",
       "      <th>firstMentionSentence</th>\n",
       "      <th>relevance</th>\n",
       "      <th>sentimentClass</th>\n",
       "      <th>sentimentNegative</th>\n",
       "      <th>sentimentNeutral</th>\n",
       "      <th>sentimentPositive</th>\n",
       "      <th>sentimentWordCount</th>\n",
       "      <th>noveltyCount12H</th>\n",
       "      <th>noveltyCount24H</th>\n",
       "      <th>noveltyCount3D</th>\n",
       "      <th>noveltyCount5D</th>\n",
       "      <th>noveltyCount7D</th>\n",
       "      <th>volumeCounts12H</th>\n",
       "      <th>volumeCounts24H</th>\n",
       "      <th>volumeCounts3D</th>\n",
       "      <th>volumeCounts5D</th>\n",
       "      <th>volumeCounts7D</th>\n",
       "    </tr>\n",
       "  </thead>\n",
       "  <tbody>\n",
       "    <tr>\n",
       "      <th>0</th>\n",
       "      <td>2016-12-30 22:00:02+00:00</td>\n",
       "      <td>2016-12-30 22:00:02+00:00</td>\n",
       "      <td>2016-12-30 22:00:02+00:00</td>\n",
       "      <td>02ae05e4a5650826</td>\n",
       "      <td>Enstar Announces Acquisition of Dana Companies...</td>\n",
       "      <td>3</td>\n",
       "      <td>1</td>\n",
       "      <td>GNW</td>\n",
       "      <td>{'MRG', 'MINS', 'NEWR', 'INSR', 'BACT', 'BM', ...</td>\n",
       "      <td>{'CNR', 'GNWN'}</td>\n",
       "      <td>3742</td>\n",
       "      <td>1</td>\n",
       "      <td></td>\n",
       "      <td>False</td>\n",
       "      <td>19</td>\n",
       "      <td>575</td>\n",
       "      <td>{'ESGR.OQ', 'ESGR.O'}</td>\n",
       "      <td>Enstar Group Ltd</td>\n",
       "      <td>1</td>\n",
       "      <td>1.0</td>\n",
       "      <td>1</td>\n",
       "      <td>0.222786</td>\n",
       "      <td>0.382740</td>\n",
       "      <td>0.394474</td>\n",
       "      <td>555</td>\n",
       "      <td>0</td>\n",
       "      <td>0</td>\n",
       "      <td>0</td>\n",
       "      <td>0</td>\n",
       "      <td>0</td>\n",
       "      <td>0</td>\n",
       "      <td>0</td>\n",
       "      <td>0</td>\n",
       "      <td>0</td>\n",
       "      <td>0</td>\n",
       "    </tr>\n",
       "    <tr>\n",
       "      <th>1</th>\n",
       "      <td>2016-12-30 22:00:02+00:00</td>\n",
       "      <td>2016-12-30 22:00:02+00:00</td>\n",
       "      <td>2016-12-30 22:00:02+00:00</td>\n",
       "      <td>8a59a41e3dc3f255</td>\n",
       "      <td>ENSTAR ANNOUNCES ACQUISITION OF DANA COMPANIES</td>\n",
       "      <td>1</td>\n",
       "      <td>1</td>\n",
       "      <td>RTRS</td>\n",
       "      <td>{'BLR', 'MINS', 'INSR', 'FINS', 'US', 'CMPNY',...</td>\n",
       "      <td>{'E', 'U'}</td>\n",
       "      <td>0</td>\n",
       "      <td>1</td>\n",
       "      <td></td>\n",
       "      <td>False</td>\n",
       "      <td>1</td>\n",
       "      <td>7</td>\n",
       "      <td>{'ESGR.OQ', 'ESGR.O'}</td>\n",
       "      <td>Enstar Group Ltd</td>\n",
       "      <td>1</td>\n",
       "      <td>1.0</td>\n",
       "      <td>0</td>\n",
       "      <td>0.172375</td>\n",
       "      <td>0.611033</td>\n",
       "      <td>0.216592</td>\n",
       "      <td>7</td>\n",
       "      <td>0</td>\n",
       "      <td>0</td>\n",
       "      <td>0</td>\n",
       "      <td>0</td>\n",
       "      <td>0</td>\n",
       "      <td>0</td>\n",
       "      <td>0</td>\n",
       "      <td>0</td>\n",
       "      <td>0</td>\n",
       "      <td>0</td>\n",
       "    </tr>\n",
       "    <tr>\n",
       "      <th>2</th>\n",
       "      <td>2016-12-30 22:00:06+00:00</td>\n",
       "      <td>2016-12-30 22:00:06+00:00</td>\n",
       "      <td>2016-12-30 22:00:02+00:00</td>\n",
       "      <td>c8ee6bcb3de3a944</td>\n",
       "      <td>ENSTAR ANNOUNCES ACQUISITION OF DANA COMPANIES</td>\n",
       "      <td>1</td>\n",
       "      <td>2</td>\n",
       "      <td>RTRS</td>\n",
       "      <td>{'BLR', 'AUTO', 'MINS', 'CYCS', 'INSR', 'FINS'...</td>\n",
       "      <td>{'E', 'U'}</td>\n",
       "      <td>0</td>\n",
       "      <td>2</td>\n",
       "      <td></td>\n",
       "      <td>False</td>\n",
       "      <td>1</td>\n",
       "      <td>7</td>\n",
       "      <td>{'DAN.N'}</td>\n",
       "      <td>Dana Inc</td>\n",
       "      <td>1</td>\n",
       "      <td>1.0</td>\n",
       "      <td>0</td>\n",
       "      <td>0.172375</td>\n",
       "      <td>0.611033</td>\n",
       "      <td>0.216592</td>\n",
       "      <td>7</td>\n",
       "      <td>0</td>\n",
       "      <td>0</td>\n",
       "      <td>0</td>\n",
       "      <td>0</td>\n",
       "      <td>0</td>\n",
       "      <td>0</td>\n",
       "      <td>0</td>\n",
       "      <td>0</td>\n",
       "      <td>0</td>\n",
       "      <td>0</td>\n",
       "    </tr>\n",
       "    <tr>\n",
       "      <th>3</th>\n",
       "      <td>2016-12-30 22:00:06+00:00</td>\n",
       "      <td>2016-12-30 22:00:06+00:00</td>\n",
       "      <td>2016-12-30 22:00:02+00:00</td>\n",
       "      <td>c8ee6bcb3de3a944</td>\n",
       "      <td>ENSTAR ANNOUNCES ACQUISITION OF DANA COMPANIES</td>\n",
       "      <td>1</td>\n",
       "      <td>2</td>\n",
       "      <td>RTRS</td>\n",
       "      <td>{'BLR', 'AUTO', 'MINS', 'CYCS', 'INSR', 'FINS'...</td>\n",
       "      <td>{'E', 'U'}</td>\n",
       "      <td>0</td>\n",
       "      <td>2</td>\n",
       "      <td></td>\n",
       "      <td>False</td>\n",
       "      <td>1</td>\n",
       "      <td>7</td>\n",
       "      <td>{'ESGR.OQ', 'ESGR.O'}</td>\n",
       "      <td>Enstar Group Ltd</td>\n",
       "      <td>1</td>\n",
       "      <td>1.0</td>\n",
       "      <td>0</td>\n",
       "      <td>0.172375</td>\n",
       "      <td>0.611033</td>\n",
       "      <td>0.216592</td>\n",
       "      <td>7</td>\n",
       "      <td>2</td>\n",
       "      <td>2</td>\n",
       "      <td>2</td>\n",
       "      <td>2</td>\n",
       "      <td>2</td>\n",
       "      <td>2</td>\n",
       "      <td>2</td>\n",
       "      <td>2</td>\n",
       "      <td>2</td>\n",
       "      <td>2</td>\n",
       "    </tr>\n",
       "    <tr>\n",
       "      <th>4</th>\n",
       "      <td>2016-12-30 22:00:17+00:00</td>\n",
       "      <td>2016-12-30 22:00:17+00:00</td>\n",
       "      <td>2016-12-30 21:33:44+00:00</td>\n",
       "      <td>58ea9d8a0be61c03</td>\n",
       "      <td>BRIEF-Axovant Sciences files for mixed shelf o...</td>\n",
       "      <td>3</td>\n",
       "      <td>1</td>\n",
       "      <td>RTRS</td>\n",
       "      <td>{'BLR', 'SISU', 'INDU', 'DBT', 'HECA', 'PHMR',...</td>\n",
       "      <td>{'PCO', 'PCU', 'DNP', 'PSC', 'U', 'RNP', 'NAW'...</td>\n",
       "      <td>239</td>\n",
       "      <td>1</td>\n",
       "      <td>BRIEF</td>\n",
       "      <td>False</td>\n",
       "      <td>4</td>\n",
       "      <td>65</td>\n",
       "      <td>{'AXON.N'}</td>\n",
       "      <td>Axovant Sciences Ltd</td>\n",
       "      <td>1</td>\n",
       "      <td>1.0</td>\n",
       "      <td>0</td>\n",
       "      <td>0.307338</td>\n",
       "      <td>0.378957</td>\n",
       "      <td>0.313705</td>\n",
       "      <td>58</td>\n",
       "      <td>1</td>\n",
       "      <td>1</td>\n",
       "      <td>1</td>\n",
       "      <td>1</td>\n",
       "      <td>1</td>\n",
       "      <td>1</td>\n",
       "      <td>1</td>\n",
       "      <td>1</td>\n",
       "      <td>1</td>\n",
       "      <td>1</td>\n",
       "    </tr>\n",
       "  </tbody>\n",
       "</table>\n",
       "</div>"
      ],
      "text/plain": [
       "                       time           sourceTimestamp  \\\n",
       "0 2016-12-30 22:00:02+00:00 2016-12-30 22:00:02+00:00   \n",
       "1 2016-12-30 22:00:02+00:00 2016-12-30 22:00:02+00:00   \n",
       "2 2016-12-30 22:00:06+00:00 2016-12-30 22:00:06+00:00   \n",
       "3 2016-12-30 22:00:06+00:00 2016-12-30 22:00:06+00:00   \n",
       "4 2016-12-30 22:00:17+00:00 2016-12-30 22:00:17+00:00   \n",
       "\n",
       "               firstCreated          sourceId  \\\n",
       "0 2016-12-30 22:00:02+00:00  02ae05e4a5650826   \n",
       "1 2016-12-30 22:00:02+00:00  8a59a41e3dc3f255   \n",
       "2 2016-12-30 22:00:02+00:00  c8ee6bcb3de3a944   \n",
       "3 2016-12-30 22:00:02+00:00  c8ee6bcb3de3a944   \n",
       "4 2016-12-30 21:33:44+00:00  58ea9d8a0be61c03   \n",
       "\n",
       "                                            headline  urgency  takeSequence  \\\n",
       "0  Enstar Announces Acquisition of Dana Companies...        3             1   \n",
       "1     ENSTAR ANNOUNCES ACQUISITION OF DANA COMPANIES        1             1   \n",
       "2     ENSTAR ANNOUNCES ACQUISITION OF DANA COMPANIES        1             2   \n",
       "3     ENSTAR ANNOUNCES ACQUISITION OF DANA COMPANIES        1             2   \n",
       "4  BRIEF-Axovant Sciences files for mixed shelf o...        3             1   \n",
       "\n",
       "  provider                                           subjects  \\\n",
       "0      GNW  {'MRG', 'MINS', 'NEWR', 'INSR', 'BACT', 'BM', ...   \n",
       "1     RTRS  {'BLR', 'MINS', 'INSR', 'FINS', 'US', 'CMPNY',...   \n",
       "2     RTRS  {'BLR', 'AUTO', 'MINS', 'CYCS', 'INSR', 'FINS'...   \n",
       "3     RTRS  {'BLR', 'AUTO', 'MINS', 'CYCS', 'INSR', 'FINS'...   \n",
       "4     RTRS  {'BLR', 'SISU', 'INDU', 'DBT', 'HECA', 'PHMR',...   \n",
       "\n",
       "                                           audiences  bodySize  companyCount  \\\n",
       "0                                    {'CNR', 'GNWN'}      3742             1   \n",
       "1                                         {'E', 'U'}         0             1   \n",
       "2                                         {'E', 'U'}         0             2   \n",
       "3                                         {'E', 'U'}         0             2   \n",
       "4  {'PCO', 'PCU', 'DNP', 'PSC', 'U', 'RNP', 'NAW'...       239             1   \n",
       "\n",
       "  headlineTag  marketCommentary  sentenceCount  wordCount  \\\n",
       "0                         False             19        575   \n",
       "1                         False              1          7   \n",
       "2                         False              1          7   \n",
       "3                         False              1          7   \n",
       "4       BRIEF             False              4         65   \n",
       "\n",
       "              assetCodes             assetName  firstMentionSentence  \\\n",
       "0  {'ESGR.OQ', 'ESGR.O'}      Enstar Group Ltd                     1   \n",
       "1  {'ESGR.OQ', 'ESGR.O'}      Enstar Group Ltd                     1   \n",
       "2              {'DAN.N'}              Dana Inc                     1   \n",
       "3  {'ESGR.OQ', 'ESGR.O'}      Enstar Group Ltd                     1   \n",
       "4             {'AXON.N'}  Axovant Sciences Ltd                     1   \n",
       "\n",
       "   relevance  sentimentClass  sentimentNegative  sentimentNeutral  \\\n",
       "0        1.0               1           0.222786          0.382740   \n",
       "1        1.0               0           0.172375          0.611033   \n",
       "2        1.0               0           0.172375          0.611033   \n",
       "3        1.0               0           0.172375          0.611033   \n",
       "4        1.0               0           0.307338          0.378957   \n",
       "\n",
       "   sentimentPositive  sentimentWordCount  noveltyCount12H  noveltyCount24H  \\\n",
       "0           0.394474                 555                0                0   \n",
       "1           0.216592                   7                0                0   \n",
       "2           0.216592                   7                0                0   \n",
       "3           0.216592                   7                2                2   \n",
       "4           0.313705                  58                1                1   \n",
       "\n",
       "   noveltyCount3D  noveltyCount5D  noveltyCount7D  volumeCounts12H  \\\n",
       "0               0               0               0                0   \n",
       "1               0               0               0                0   \n",
       "2               0               0               0                0   \n",
       "3               2               2               2                2   \n",
       "4               1               1               1                1   \n",
       "\n",
       "   volumeCounts24H  volumeCounts3D  volumeCounts5D  volumeCounts7D  \n",
       "0                0               0               0               0  \n",
       "1                0               0               0               0  \n",
       "2                0               0               0               0  \n",
       "3                2               2               2               2  \n",
       "4                1               1               1               1  "
      ]
     },
     "execution_count": 63,
     "metadata": {},
     "output_type": "execute_result"
    }
   ],
   "source": [
    "test[0][1].head()"
   ]
  },
  {
   "cell_type": "code",
   "execution_count": 64,
   "metadata": {
    "collapsed": true
   },
   "outputs": [
    {
     "data": {
      "text/html": [
       "<div>\n",
       "<style scoped>\n",
       "    .dataframe tbody tr th:only-of-type {\n",
       "        vertical-align: middle;\n",
       "    }\n",
       "\n",
       "    .dataframe tbody tr th {\n",
       "        vertical-align: top;\n",
       "    }\n",
       "\n",
       "    .dataframe thead th {\n",
       "        text-align: right;\n",
       "    }\n",
       "</style>\n",
       "<table border=\"1\" class=\"dataframe\">\n",
       "  <thead>\n",
       "    <tr style=\"text-align: right;\">\n",
       "      <th></th>\n",
       "      <th>assetCode</th>\n",
       "      <th>confidenceValue</th>\n",
       "    </tr>\n",
       "  </thead>\n",
       "  <tbody>\n",
       "    <tr>\n",
       "      <th>0</th>\n",
       "      <td>A.N</td>\n",
       "      <td>0.0</td>\n",
       "    </tr>\n",
       "    <tr>\n",
       "      <th>1</th>\n",
       "      <td>AA.N</td>\n",
       "      <td>0.0</td>\n",
       "    </tr>\n",
       "    <tr>\n",
       "      <th>2</th>\n",
       "      <td>AAL.O</td>\n",
       "      <td>0.0</td>\n",
       "    </tr>\n",
       "    <tr>\n",
       "      <th>3</th>\n",
       "      <td>AAN.N</td>\n",
       "      <td>0.0</td>\n",
       "    </tr>\n",
       "    <tr>\n",
       "      <th>4</th>\n",
       "      <td>AAP.N</td>\n",
       "      <td>0.0</td>\n",
       "    </tr>\n",
       "  </tbody>\n",
       "</table>\n",
       "</div>"
      ],
      "text/plain": [
       "  assetCode  confidenceValue\n",
       "0       A.N              0.0\n",
       "1      AA.N              0.0\n",
       "2     AAL.O              0.0\n",
       "3     AAN.N              0.0\n",
       "4     AAP.N              0.0"
      ]
     },
     "execution_count": 64,
     "metadata": {},
     "output_type": "execute_result"
    }
   ],
   "source": [
    "test[0][2].head()"
   ]
  },
  {
   "cell_type": "code",
   "execution_count": null,
   "metadata": {
    "collapsed": true
   },
   "outputs": [],
   "source": []
  },
  {
   "cell_type": "code",
   "execution_count": null,
   "metadata": {
    "collapsed": true
   },
   "outputs": [],
   "source": []
  },
  {
   "cell_type": "code",
   "execution_count": 13,
   "metadata": {
    "collapsed": true
   },
   "outputs": [],
   "source": [
    "from given import *"
   ]
  },
  {
   "cell_type": "code",
   "execution_count": 38,
   "metadata": {},
   "outputs": [
    {
     "data": {
      "text/plain": [
       "1590"
      ]
     },
     "execution_count": 38,
     "metadata": {},
     "output_type": "execute_result"
    }
   ],
   "source": [
    "sum(M.time==pd.Timestamp('2009-01-05 22:00:00').tz_localize('UTC'))"
   ]
  },
  {
   "cell_type": "code",
   "execution_count": 12,
   "metadata": {},
   "outputs": [
    {
     "data": {
      "text/plain": [
       "458863"
      ]
     },
     "execution_count": 12,
     "metadata": {},
     "output_type": "execute_result"
    }
   ],
   "source": [
    "@njit\n",
    "def corr_window_at_index(a, cols, labels, index, window, min_periods):\n",
    "    '''Parameters - a: 2D np.ndarray, we are taking corr at row index `index`, going back `window` rows\n",
    "                    cols: tuple of (cols[0],cols[1]) where cols[0/1] is the list of column `labels` of which to take corr of\n",
    "                    labels: the \"names\" of the 0-n column dimensions, that `cols` references\n",
    "                    index: row index which is the last row in the correlation window\n",
    "                    window: int, size of window\n",
    "    Return np.ndarray of shape (len(cols[0]),) containing a correlation for every pair of columns in same order as `cols`'''\n",
    "    \n",
    "    if index < 0:\n",
    "        index += len(a)\n",
    "    assert index - window >= 0\n",
    "    \n",
    "    out = np.ndarray([len(cols[0])], dtype=np.float32)\n",
    "    \n",
    "    for k in range(len(cols[0])):\n",
    "        j0, j1 = binary_search(labels, cols[0][k]), binary_search(labels, cols[1][k])\n",
    "        x0, x1 = a[index-window:index+1, j0], a[index-window:index+1, j1]\n",
    "        notnan = ~(np.isnan(x0)|np.isnan(x1))\n",
    "        \n",
    "        if sum(notnan) < min_periods:\n",
    "            out[k] = np.nan\n",
    "            continue\n",
    "        else:\n",
    "            x0, x1 = x0[notnan], x1[notnan]\n",
    "            out[k] = np.corrcoef(x0, x1)[0, 1]\n",
    "    \n",
    "    return out\n",
    "\n",
    "\n",
    "@njit\n",
    "def roll_corr_windows_at_indices(a, cols, labels, indices, window, min_periods):\n",
    "    '''Parameters - a: 2D np.ndarray, we are taking corr at row index `index`, going back `window` rows\n",
    "                    cols: tuple of (cols[0],cols[1]) where cols[0/1] is the list of column `labels` of which to take corr of\n",
    "                    labels: the \"names\" of the 0-n column dimensions, that `cols` references\n",
    "                    indices: (same shape as `cols`) of row indices, an entry being the last row in the correlation window\n",
    "                    window: int, size of window\n",
    "    Return np.ndarray of shape (len(cols[0]),) containing a correlation for every pair of columns in same order as `cols`'''\n",
    "        \n",
    "    out = np.ndarray([len(cols[0])], dtype=np.float32)\n",
    "    \n",
    "    for k in range(len(cols[0])):\n",
    "        index = indices[k]\n",
    "        \n",
    "        if index < 0:\n",
    "            index += len(a)\n",
    "        assert index - window >= 0\n",
    "        \n",
    "        j0, j1 = binary_search(labels, cols[0][k]), binary_search(labels, cols[1][k])\n",
    "        x0, x1 = a[index-window:index+1, j0], a[index-window:index+1, j1]\n",
    "        notnan = ~(np.isnan(x0)|np.isnan(x1))\n",
    "        \n",
    "        if sum(notnan) < min_periods:\n",
    "            out[k] = np.nan\n",
    "            continue\n",
    "        else:\n",
    "            x0, x1 = x0[notnan], x1[notnan]\n",
    "            out[k] = np.corrcoef(x0, x1)[0, 1]\n",
    "    \n",
    "    return out"
   ]
  },
  {
   "cell_type": "code",
   "execution_count": null,
   "metadata": {
    "collapsed": true
   },
   "outputs": [],
   "source": [
    "def make_CC_G_Q(pairs, *, F, P, W, roll_corr=list(product(['aoo1','aoo10'],[21,250]))):\n",
    "    single = P.time.nunique()==1\n",
    "    if single:\n",
    "        I0, I1 = pd.DataFrame(pairs[0],columns=['assetCodeId']), pd.DataFrame(pairs[0],columns=['assetCodeId'])\n",
    "        G0, G1 = I0.merge(F, on='assetCodeId', how='inner'), I1.merge(F, on='assetCodeId', how='inner')\n",
    "        Q0, Q1 = I0.merge(P, on='assetCodeId', how='inner'), I1.merge(P, on='assetCodeId', how='inner')\n",
    "        # corr_window_at_index(a, cols, labels, index, window, min_periods=10)\n",
    "        def iter_corr():\n",
    "            for c, h in roll_corr:\n",
    "                index = binary_search(W[c].index.values, P.time.values[-1])\n",
    "                yield corr_window_at_index(W[c].values, pairs, W[c].columns.values, index, h, min_periods=10)\n",
    "        CC = #TODO\n",
    "        #TODO inside CC, bothInUniCount i.e. unic and weight\n",
    "        \n",
    "    #TODO if not single, have to merge with time column as well"
   ]
  },
  {
   "cell_type": "code",
   "execution_count": 69,
   "metadata": {},
   "outputs": [
    {
     "data": {
      "text/plain": [
       "2351035"
      ]
     },
     "execution_count": 69,
     "metadata": {},
     "output_type": "execute_result"
    }
   ],
   "source": [
    "binary_search(M.time.values, M.time.values[2352665])"
   ]
  },
  {
   "cell_type": "code",
   "execution_count": 59,
   "metadata": {},
   "outputs": [
    {
     "data": {
      "text/plain": [
       "MultiIndex(levels=[[0, 5, 6], [0, 1, 2]],\n",
       "           labels=[[1, 1, 1, 2, 2, 2, 0, 0, 0], [2, 0, 1, 2, 0, 1, 2, 0, 1]])"
      ]
     },
     "execution_count": 59,
     "metadata": {},
     "output_type": "execute_result"
    }
   ],
   "source": [
    "pd.MultiIndex.from_product([pd.Index([5,6,0]), pd.Index([2,0,1])])"
   ]
  },
  {
   "cell_type": "markdown",
   "metadata": {},
   "source": [
    "#### testing"
   ]
  },
  {
   "cell_type": "code",
   "execution_count": 46,
   "metadata": {},
   "outputs": [
    {
     "data": {
      "text/plain": [
       "0.6546536707079772"
      ]
     },
     "execution_count": 46,
     "metadata": {},
     "output_type": "execute_result"
    }
   ],
   "source": [
    "np.corrcoef(np.asarray([3.,9.,0.]), np.asarray([2.,8.,5.]))[0,1]"
   ]
  },
  {
   "cell_type": "code",
   "execution_count": 53,
   "metadata": {},
   "outputs": [
    {
     "ename": "AttributeError",
     "evalue": "Failed at nopython (nopython rewrites)\nmodule 'numpy' has no attribute 'subdtype'",
     "output_type": "error",
     "traceback": [
      "\u001b[0;31m---------------------------------------------------------------------------\u001b[0m",
      "\u001b[0;31mConstantInferenceError\u001b[0m                    Traceback (most recent call last)",
      "\u001b[0;32m~/anaconda3/lib/python3.6/site-packages/numba/consts.py\u001b[0m in \u001b[0;36m_do_infer\u001b[0;34m(self, name)\u001b[0m\n\u001b[1;32m     59\u001b[0m         \u001b[0;32mtry\u001b[0m\u001b[0;34m:\u001b[0m\u001b[0;34m\u001b[0m\u001b[0m\n\u001b[0;32m---> 60\u001b[0;31m             \u001b[0mconst\u001b[0m \u001b[0;34m=\u001b[0m \u001b[0mdefn\u001b[0m\u001b[0;34m.\u001b[0m\u001b[0minfer_constant\u001b[0m\u001b[0;34m(\u001b[0m\u001b[0;34m)\u001b[0m\u001b[0;34m\u001b[0m\u001b[0m\n\u001b[0m\u001b[1;32m     61\u001b[0m         \u001b[0;32mexcept\u001b[0m \u001b[0mConstantInferenceError\u001b[0m\u001b[0;34m:\u001b[0m\u001b[0;34m\u001b[0m\u001b[0m\n",
      "\u001b[0;32m~/anaconda3/lib/python3.6/site-packages/numba/ir.py\u001b[0m in \u001b[0;36minfer_constant\u001b[0;34m(self)\u001b[0m\n\u001b[1;32m    294\u001b[0m     \u001b[0;32mdef\u001b[0m \u001b[0minfer_constant\u001b[0m\u001b[0;34m(\u001b[0m\u001b[0mself\u001b[0m\u001b[0;34m)\u001b[0m\u001b[0;34m:\u001b[0m\u001b[0;34m\u001b[0m\u001b[0m\n\u001b[0;32m--> 295\u001b[0;31m         \u001b[0;32mraise\u001b[0m \u001b[0mConstantInferenceError\u001b[0m\u001b[0;34m(\u001b[0m\u001b[0;34m\"cannot make a constant of %s\"\u001b[0m \u001b[0;34m%\u001b[0m \u001b[0;34m(\u001b[0m\u001b[0mself\u001b[0m\u001b[0;34m,\u001b[0m\u001b[0;34m)\u001b[0m\u001b[0;34m)\u001b[0m\u001b[0;34m\u001b[0m\u001b[0m\n\u001b[0m\u001b[1;32m    296\u001b[0m \u001b[0;34m\u001b[0m\u001b[0m\n",
      "\u001b[0;31mConstantInferenceError\u001b[0m: cannot make a constant of getattr(value=$0.1, attr=subdtype)",
      "\nDuring handling of the above exception, another exception occurred:\n",
      "\u001b[0;31mAttributeError\u001b[0m                            Traceback (most recent call last)",
      "\u001b[0;32m<ipython-input-53-7f46c2df4c3e>\u001b[0m in \u001b[0;36m<module>\u001b[0;34m()\u001b[0m\n\u001b[1;32m      3\u001b[0m     \u001b[0mnp\u001b[0m\u001b[0;34m.\u001b[0m\u001b[0msubdtype\u001b[0m\u001b[0;34m(\u001b[0m\u001b[0mtype\u001b[0m\u001b[0;34m(\u001b[0m\u001b[0mwhat\u001b[0m\u001b[0;34m)\u001b[0m\u001b[0;34m,\u001b[0m \u001b[0mnp\u001b[0m\u001b[0;34m.\u001b[0m\u001b[0minteger\u001b[0m\u001b[0;34m)\u001b[0m\u001b[0;34m\u001b[0m\u001b[0m\n\u001b[1;32m      4\u001b[0m     \u001b[0;32mreturn\u001b[0m \u001b[0;34m(\u001b[0m\u001b[0mguy\u001b[0m\u001b[0;34m[\u001b[0m\u001b[0;36m0\u001b[0m\u001b[0;34m]\u001b[0m\u001b[0;34m.\u001b[0m\u001b[0mshape\u001b[0m\u001b[0;34m,\u001b[0m\u001b[0mguy\u001b[0m\u001b[0;34m[\u001b[0m\u001b[0;36m1\u001b[0m\u001b[0;34m]\u001b[0m\u001b[0;34m.\u001b[0m\u001b[0mshape\u001b[0m\u001b[0;34m,\u001b[0m\u001b[0;34m(\u001b[0m\u001b[0mwhat\u001b[0m\u001b[0;34m,\u001b[0m\u001b[0;34m)\u001b[0m\u001b[0;34m)\u001b[0m\u001b[0;34m\u001b[0m\u001b[0m\n\u001b[0;32m----> 5\u001b[0;31m \u001b[0mhi\u001b[0m\u001b[0;34m(\u001b[0m\u001b[0;34m(\u001b[0m\u001b[0mnp\u001b[0m\u001b[0;34m.\u001b[0m\u001b[0masarray\u001b[0m\u001b[0;34m(\u001b[0m\u001b[0;34m[\u001b[0m\u001b[0;36m3\u001b[0m\u001b[0;34m,\u001b[0m\u001b[0;36m4\u001b[0m\u001b[0;34m]\u001b[0m\u001b[0;34m)\u001b[0m\u001b[0;34m,\u001b[0m\u001b[0mnp\u001b[0m\u001b[0;34m.\u001b[0m\u001b[0masarray\u001b[0m\u001b[0;34m(\u001b[0m\u001b[0;34m[\u001b[0m\u001b[0;36m2\u001b[0m\u001b[0;34m,\u001b[0m\u001b[0;36m9\u001b[0m\u001b[0;34m]\u001b[0m\u001b[0;34m)\u001b[0m\u001b[0;34m)\u001b[0m\u001b[0;34m)\u001b[0m\u001b[0;34m\u001b[0m\u001b[0m\n\u001b[0m",
      "\u001b[0;32m~/anaconda3/lib/python3.6/site-packages/numba/dispatcher.py\u001b[0m in \u001b[0;36m_compile_for_args\u001b[0;34m(self, *args, **kws)\u001b[0m\n\u001b[1;32m    305\u001b[0m                 \u001b[0margtypes\u001b[0m\u001b[0;34m.\u001b[0m\u001b[0mappend\u001b[0m\u001b[0;34m(\u001b[0m\u001b[0mself\u001b[0m\u001b[0;34m.\u001b[0m\u001b[0mtypeof_pyval\u001b[0m\u001b[0;34m(\u001b[0m\u001b[0ma\u001b[0m\u001b[0;34m)\u001b[0m\u001b[0;34m)\u001b[0m\u001b[0;34m\u001b[0m\u001b[0m\n\u001b[1;32m    306\u001b[0m         \u001b[0;32mtry\u001b[0m\u001b[0;34m:\u001b[0m\u001b[0;34m\u001b[0m\u001b[0m\n\u001b[0;32m--> 307\u001b[0;31m             \u001b[0;32mreturn\u001b[0m \u001b[0mself\u001b[0m\u001b[0;34m.\u001b[0m\u001b[0mcompile\u001b[0m\u001b[0;34m(\u001b[0m\u001b[0mtuple\u001b[0m\u001b[0;34m(\u001b[0m\u001b[0margtypes\u001b[0m\u001b[0;34m)\u001b[0m\u001b[0;34m)\u001b[0m\u001b[0;34m\u001b[0m\u001b[0m\n\u001b[0m\u001b[1;32m    308\u001b[0m         \u001b[0;32mexcept\u001b[0m \u001b[0merrors\u001b[0m\u001b[0;34m.\u001b[0m\u001b[0mTypingError\u001b[0m \u001b[0;32mas\u001b[0m \u001b[0me\u001b[0m\u001b[0;34m:\u001b[0m\u001b[0;34m\u001b[0m\u001b[0m\n\u001b[1;32m    309\u001b[0m             \u001b[0;31m# Intercept typing error that may be due to an argument\u001b[0m\u001b[0;34m\u001b[0m\u001b[0;34m\u001b[0m\u001b[0m\n",
      "\u001b[0;32m~/anaconda3/lib/python3.6/site-packages/numba/dispatcher.py\u001b[0m in \u001b[0;36mcompile\u001b[0;34m(self, sig)\u001b[0m\n\u001b[1;32m    577\u001b[0m \u001b[0;34m\u001b[0m\u001b[0m\n\u001b[1;32m    578\u001b[0m                 \u001b[0mself\u001b[0m\u001b[0;34m.\u001b[0m\u001b[0m_cache_misses\u001b[0m\u001b[0;34m[\u001b[0m\u001b[0msig\u001b[0m\u001b[0;34m]\u001b[0m \u001b[0;34m+=\u001b[0m \u001b[0;36m1\u001b[0m\u001b[0;34m\u001b[0m\u001b[0m\n\u001b[0;32m--> 579\u001b[0;31m                 \u001b[0mcres\u001b[0m \u001b[0;34m=\u001b[0m \u001b[0mself\u001b[0m\u001b[0;34m.\u001b[0m\u001b[0m_compiler\u001b[0m\u001b[0;34m.\u001b[0m\u001b[0mcompile\u001b[0m\u001b[0;34m(\u001b[0m\u001b[0margs\u001b[0m\u001b[0;34m,\u001b[0m \u001b[0mreturn_type\u001b[0m\u001b[0;34m)\u001b[0m\u001b[0;34m\u001b[0m\u001b[0m\n\u001b[0m\u001b[1;32m    580\u001b[0m                 \u001b[0mself\u001b[0m\u001b[0;34m.\u001b[0m\u001b[0madd_overload\u001b[0m\u001b[0;34m(\u001b[0m\u001b[0mcres\u001b[0m\u001b[0;34m)\u001b[0m\u001b[0;34m\u001b[0m\u001b[0m\n\u001b[1;32m    581\u001b[0m                 \u001b[0mself\u001b[0m\u001b[0;34m.\u001b[0m\u001b[0m_cache\u001b[0m\u001b[0;34m.\u001b[0m\u001b[0msave_overload\u001b[0m\u001b[0;34m(\u001b[0m\u001b[0msig\u001b[0m\u001b[0;34m,\u001b[0m \u001b[0mcres\u001b[0m\u001b[0;34m)\u001b[0m\u001b[0;34m\u001b[0m\u001b[0m\n",
      "\u001b[0;32m~/anaconda3/lib/python3.6/site-packages/numba/dispatcher.py\u001b[0m in \u001b[0;36mcompile\u001b[0;34m(self, args, return_type)\u001b[0m\n\u001b[1;32m     78\u001b[0m                                       \u001b[0mimpl\u001b[0m\u001b[0;34m,\u001b[0m\u001b[0;34m\u001b[0m\u001b[0m\n\u001b[1;32m     79\u001b[0m                                       \u001b[0margs\u001b[0m\u001b[0;34m=\u001b[0m\u001b[0margs\u001b[0m\u001b[0;34m,\u001b[0m \u001b[0mreturn_type\u001b[0m\u001b[0;34m=\u001b[0m\u001b[0mreturn_type\u001b[0m\u001b[0;34m,\u001b[0m\u001b[0;34m\u001b[0m\u001b[0m\n\u001b[0;32m---> 80\u001b[0;31m                                       flags=flags, locals=self.locals)\n\u001b[0m\u001b[1;32m     81\u001b[0m         \u001b[0;31m# Check typing error if object mode is used\u001b[0m\u001b[0;34m\u001b[0m\u001b[0;34m\u001b[0m\u001b[0m\n\u001b[1;32m     82\u001b[0m         \u001b[0;32mif\u001b[0m \u001b[0mcres\u001b[0m\u001b[0;34m.\u001b[0m\u001b[0mtyping_error\u001b[0m \u001b[0;32mis\u001b[0m \u001b[0;32mnot\u001b[0m \u001b[0;32mNone\u001b[0m \u001b[0;32mand\u001b[0m \u001b[0;32mnot\u001b[0m \u001b[0mflags\u001b[0m\u001b[0;34m.\u001b[0m\u001b[0menable_pyobject\u001b[0m\u001b[0;34m:\u001b[0m\u001b[0;34m\u001b[0m\u001b[0m\n",
      "\u001b[0;32m~/anaconda3/lib/python3.6/site-packages/numba/compiler.py\u001b[0m in \u001b[0;36mcompile_extra\u001b[0;34m(typingctx, targetctx, func, args, return_type, flags, locals, library)\u001b[0m\n\u001b[1;32m    777\u001b[0m     pipeline = Pipeline(typingctx, targetctx, library,\n\u001b[1;32m    778\u001b[0m                         args, return_type, flags, locals)\n\u001b[0;32m--> 779\u001b[0;31m     \u001b[0;32mreturn\u001b[0m \u001b[0mpipeline\u001b[0m\u001b[0;34m.\u001b[0m\u001b[0mcompile_extra\u001b[0m\u001b[0;34m(\u001b[0m\u001b[0mfunc\u001b[0m\u001b[0;34m)\u001b[0m\u001b[0;34m\u001b[0m\u001b[0m\n\u001b[0m\u001b[1;32m    780\u001b[0m \u001b[0;34m\u001b[0m\u001b[0m\n\u001b[1;32m    781\u001b[0m \u001b[0;34m\u001b[0m\u001b[0m\n",
      "\u001b[0;32m~/anaconda3/lib/python3.6/site-packages/numba/compiler.py\u001b[0m in \u001b[0;36mcompile_extra\u001b[0;34m(self, func)\u001b[0m\n\u001b[1;32m    360\u001b[0m         \u001b[0mself\u001b[0m\u001b[0;34m.\u001b[0m\u001b[0mlifted\u001b[0m \u001b[0;34m=\u001b[0m \u001b[0;34m(\u001b[0m\u001b[0;34m)\u001b[0m\u001b[0;34m\u001b[0m\u001b[0m\n\u001b[1;32m    361\u001b[0m         \u001b[0mself\u001b[0m\u001b[0;34m.\u001b[0m\u001b[0mlifted_from\u001b[0m \u001b[0;34m=\u001b[0m \u001b[0;32mNone\u001b[0m\u001b[0;34m\u001b[0m\u001b[0m\n\u001b[0;32m--> 362\u001b[0;31m         \u001b[0;32mreturn\u001b[0m \u001b[0mself\u001b[0m\u001b[0;34m.\u001b[0m\u001b[0m_compile_bytecode\u001b[0m\u001b[0;34m(\u001b[0m\u001b[0;34m)\u001b[0m\u001b[0;34m\u001b[0m\u001b[0m\n\u001b[0m\u001b[1;32m    363\u001b[0m \u001b[0;34m\u001b[0m\u001b[0m\n\u001b[1;32m    364\u001b[0m     \u001b[0;32mdef\u001b[0m \u001b[0mcompile_ir\u001b[0m\u001b[0;34m(\u001b[0m\u001b[0mself\u001b[0m\u001b[0;34m,\u001b[0m \u001b[0mfunc_ir\u001b[0m\u001b[0;34m,\u001b[0m \u001b[0mlifted\u001b[0m\u001b[0;34m=\u001b[0m\u001b[0;34m(\u001b[0m\u001b[0;34m)\u001b[0m\u001b[0;34m,\u001b[0m \u001b[0mlifted_from\u001b[0m\u001b[0;34m=\u001b[0m\u001b[0;32mNone\u001b[0m\u001b[0;34m)\u001b[0m\u001b[0;34m:\u001b[0m\u001b[0;34m\u001b[0m\u001b[0m\n",
      "\u001b[0;32m~/anaconda3/lib/python3.6/site-packages/numba/compiler.py\u001b[0m in \u001b[0;36m_compile_bytecode\u001b[0;34m(self)\u001b[0m\n\u001b[1;32m    736\u001b[0m         \"\"\"\n\u001b[1;32m    737\u001b[0m         \u001b[0;32massert\u001b[0m \u001b[0mself\u001b[0m\u001b[0;34m.\u001b[0m\u001b[0mfunc_ir\u001b[0m \u001b[0;32mis\u001b[0m \u001b[0;32mNone\u001b[0m\u001b[0;34m\u001b[0m\u001b[0m\n\u001b[0;32m--> 738\u001b[0;31m         \u001b[0;32mreturn\u001b[0m \u001b[0mself\u001b[0m\u001b[0;34m.\u001b[0m\u001b[0m_compile_core\u001b[0m\u001b[0;34m(\u001b[0m\u001b[0;34m)\u001b[0m\u001b[0;34m\u001b[0m\u001b[0m\n\u001b[0m\u001b[1;32m    739\u001b[0m \u001b[0;34m\u001b[0m\u001b[0m\n\u001b[1;32m    740\u001b[0m     \u001b[0;32mdef\u001b[0m \u001b[0m_compile_ir\u001b[0m\u001b[0;34m(\u001b[0m\u001b[0mself\u001b[0m\u001b[0;34m)\u001b[0m\u001b[0;34m:\u001b[0m\u001b[0;34m\u001b[0m\u001b[0m\n",
      "\u001b[0;32m~/anaconda3/lib/python3.6/site-packages/numba/compiler.py\u001b[0m in \u001b[0;36m_compile_core\u001b[0;34m(self)\u001b[0m\n\u001b[1;32m    723\u001b[0m \u001b[0;34m\u001b[0m\u001b[0m\n\u001b[1;32m    724\u001b[0m         \u001b[0mpm\u001b[0m\u001b[0;34m.\u001b[0m\u001b[0mfinalize\u001b[0m\u001b[0;34m(\u001b[0m\u001b[0;34m)\u001b[0m\u001b[0;34m\u001b[0m\u001b[0m\n\u001b[0;32m--> 725\u001b[0;31m         \u001b[0mres\u001b[0m \u001b[0;34m=\u001b[0m \u001b[0mpm\u001b[0m\u001b[0;34m.\u001b[0m\u001b[0mrun\u001b[0m\u001b[0;34m(\u001b[0m\u001b[0mself\u001b[0m\u001b[0;34m.\u001b[0m\u001b[0mstatus\u001b[0m\u001b[0;34m)\u001b[0m\u001b[0;34m\u001b[0m\u001b[0m\n\u001b[0m\u001b[1;32m    726\u001b[0m         \u001b[0;32mif\u001b[0m \u001b[0mres\u001b[0m \u001b[0;32mis\u001b[0m \u001b[0;32mnot\u001b[0m \u001b[0;32mNone\u001b[0m\u001b[0;34m:\u001b[0m\u001b[0;34m\u001b[0m\u001b[0m\n\u001b[1;32m    727\u001b[0m             \u001b[0;31m# Early pipeline completion\u001b[0m\u001b[0;34m\u001b[0m\u001b[0;34m\u001b[0m\u001b[0m\n",
      "\u001b[0;32m~/anaconda3/lib/python3.6/site-packages/numba/compiler.py\u001b[0m in \u001b[0;36mrun\u001b[0;34m(self, status)\u001b[0m\n\u001b[1;32m    246\u001b[0m                     \u001b[0;31m# No more fallback pipelines?\u001b[0m\u001b[0;34m\u001b[0m\u001b[0;34m\u001b[0m\u001b[0m\n\u001b[1;32m    247\u001b[0m                     \u001b[0;32mif\u001b[0m \u001b[0mis_final_pipeline\u001b[0m\u001b[0;34m:\u001b[0m\u001b[0;34m\u001b[0m\u001b[0m\n\u001b[0;32m--> 248\u001b[0;31m                         \u001b[0;32mraise\u001b[0m \u001b[0mpatched_exception\u001b[0m\u001b[0;34m\u001b[0m\u001b[0m\n\u001b[0m\u001b[1;32m    249\u001b[0m                     \u001b[0;31m# Go to next fallback pipeline\u001b[0m\u001b[0;34m\u001b[0m\u001b[0;34m\u001b[0m\u001b[0m\n\u001b[1;32m    250\u001b[0m                     \u001b[0;32melse\u001b[0m\u001b[0;34m:\u001b[0m\u001b[0;34m\u001b[0m\u001b[0m\n",
      "\u001b[0;32m~/anaconda3/lib/python3.6/site-packages/numba/compiler.py\u001b[0m in \u001b[0;36mrun\u001b[0;34m(self, status)\u001b[0m\n\u001b[1;32m    238\u001b[0m                 \u001b[0;32mtry\u001b[0m\u001b[0;34m:\u001b[0m\u001b[0;34m\u001b[0m\u001b[0m\n\u001b[1;32m    239\u001b[0m                     \u001b[0mevent\u001b[0m\u001b[0;34m(\u001b[0m\u001b[0mstage_name\u001b[0m\u001b[0;34m)\u001b[0m\u001b[0;34m\u001b[0m\u001b[0m\n\u001b[0;32m--> 240\u001b[0;31m                     \u001b[0mstage\u001b[0m\u001b[0;34m(\u001b[0m\u001b[0;34m)\u001b[0m\u001b[0;34m\u001b[0m\u001b[0m\n\u001b[0m\u001b[1;32m    241\u001b[0m                 \u001b[0;32mexcept\u001b[0m \u001b[0m_EarlyPipelineCompletion\u001b[0m \u001b[0;32mas\u001b[0m \u001b[0me\u001b[0m\u001b[0;34m:\u001b[0m\u001b[0;34m\u001b[0m\u001b[0m\n\u001b[1;32m    242\u001b[0m                     \u001b[0;32mreturn\u001b[0m \u001b[0me\u001b[0m\u001b[0;34m.\u001b[0m\u001b[0mresult\u001b[0m\u001b[0;34m\u001b[0m\u001b[0m\n",
      "\u001b[0;32m~/anaconda3/lib/python3.6/site-packages/numba/compiler.py\u001b[0m in \u001b[0;36mstage_generic_rewrites\u001b[0;34m(self)\u001b[0m\n\u001b[1;32m    469\u001b[0m                                    'function \"%s\"' % (self.func_id.func_name,)):\n\u001b[1;32m    470\u001b[0m             rewrites.rewrite_registry.apply('before-inference',\n\u001b[0;32m--> 471\u001b[0;31m                                             self, self.func_ir)\n\u001b[0m\u001b[1;32m    472\u001b[0m \u001b[0;34m\u001b[0m\u001b[0m\n\u001b[1;32m    473\u001b[0m     \u001b[0;32mdef\u001b[0m \u001b[0mstage_nopython_rewrites\u001b[0m\u001b[0;34m(\u001b[0m\u001b[0mself\u001b[0m\u001b[0;34m)\u001b[0m\u001b[0;34m:\u001b[0m\u001b[0;34m\u001b[0m\u001b[0m\n",
      "\u001b[0;32m~/anaconda3/lib/python3.6/site-packages/numba/rewrites/registry.py\u001b[0m in \u001b[0;36mapply\u001b[0;34m(self, kind, pipeline, func_ir)\u001b[0m\n\u001b[1;32m     68\u001b[0m                 \u001b[0mkey\u001b[0m\u001b[0;34m,\u001b[0m \u001b[0mblock\u001b[0m \u001b[0;34m=\u001b[0m \u001b[0mwork_list\u001b[0m\u001b[0;34m.\u001b[0m\u001b[0mpop\u001b[0m\u001b[0;34m(\u001b[0m\u001b[0;34m)\u001b[0m\u001b[0;34m\u001b[0m\u001b[0m\n\u001b[1;32m     69\u001b[0m                 matches = rewrite.match(func_ir, block, pipeline.typemap,\n\u001b[0;32m---> 70\u001b[0;31m                                         pipeline.calltypes)\n\u001b[0m\u001b[1;32m     71\u001b[0m                 \u001b[0;32mif\u001b[0m \u001b[0mmatches\u001b[0m\u001b[0;34m:\u001b[0m\u001b[0;34m\u001b[0m\u001b[0m\n\u001b[1;32m     72\u001b[0m                     \u001b[0;32mif\u001b[0m \u001b[0mconfig\u001b[0m\u001b[0;34m.\u001b[0m\u001b[0mDEBUG\u001b[0m \u001b[0;32mor\u001b[0m \u001b[0mconfig\u001b[0m\u001b[0;34m.\u001b[0m\u001b[0mDUMP_IR\u001b[0m\u001b[0;34m:\u001b[0m\u001b[0;34m\u001b[0m\u001b[0m\n",
      "\u001b[0;32m~/anaconda3/lib/python3.6/site-packages/numba/rewrites/ir_print.py\u001b[0m in \u001b[0;36mmatch\u001b[0;34m(self, func_ir, block, typemap, calltypes)\u001b[0m\n\u001b[1;32m     22\u001b[0m                     \u001b[0;32mcontinue\u001b[0m\u001b[0;34m\u001b[0m\u001b[0m\n\u001b[1;32m     23\u001b[0m                 \u001b[0;32mtry\u001b[0m\u001b[0;34m:\u001b[0m\u001b[0;34m\u001b[0m\u001b[0m\n\u001b[0;32m---> 24\u001b[0;31m                     \u001b[0mcallee\u001b[0m \u001b[0;34m=\u001b[0m \u001b[0mfunc_ir\u001b[0m\u001b[0;34m.\u001b[0m\u001b[0minfer_constant\u001b[0m\u001b[0;34m(\u001b[0m\u001b[0mexpr\u001b[0m\u001b[0;34m.\u001b[0m\u001b[0mfunc\u001b[0m\u001b[0;34m)\u001b[0m\u001b[0;34m\u001b[0m\u001b[0m\n\u001b[0m\u001b[1;32m     25\u001b[0m                 \u001b[0;32mexcept\u001b[0m \u001b[0merrors\u001b[0m\u001b[0;34m.\u001b[0m\u001b[0mConstantInferenceError\u001b[0m\u001b[0;34m:\u001b[0m\u001b[0;34m\u001b[0m\u001b[0m\n\u001b[1;32m     26\u001b[0m                     \u001b[0;32mcontinue\u001b[0m\u001b[0;34m\u001b[0m\u001b[0m\n",
      "\u001b[0;32m~/anaconda3/lib/python3.6/site-packages/numba/ir.py\u001b[0m in \u001b[0;36minfer_constant\u001b[0;34m(self, name)\u001b[0m\n\u001b[1;32m    901\u001b[0m         \u001b[0;32mif\u001b[0m \u001b[0misinstance\u001b[0m\u001b[0;34m(\u001b[0m\u001b[0mname\u001b[0m\u001b[0;34m,\u001b[0m \u001b[0mVar\u001b[0m\u001b[0;34m)\u001b[0m\u001b[0;34m:\u001b[0m\u001b[0;34m\u001b[0m\u001b[0m\n\u001b[1;32m    902\u001b[0m             \u001b[0mname\u001b[0m \u001b[0;34m=\u001b[0m \u001b[0mname\u001b[0m\u001b[0;34m.\u001b[0m\u001b[0mname\u001b[0m\u001b[0;34m\u001b[0m\u001b[0m\n\u001b[0;32m--> 903\u001b[0;31m         \u001b[0;32mreturn\u001b[0m \u001b[0mself\u001b[0m\u001b[0;34m.\u001b[0m\u001b[0m_consts\u001b[0m\u001b[0;34m.\u001b[0m\u001b[0minfer_constant\u001b[0m\u001b[0;34m(\u001b[0m\u001b[0mname\u001b[0m\u001b[0;34m)\u001b[0m\u001b[0;34m\u001b[0m\u001b[0m\n\u001b[0m\u001b[1;32m    904\u001b[0m \u001b[0;34m\u001b[0m\u001b[0m\n\u001b[1;32m    905\u001b[0m     \u001b[0;32mdef\u001b[0m \u001b[0mget_definition\u001b[0m\u001b[0;34m(\u001b[0m\u001b[0mself\u001b[0m\u001b[0;34m,\u001b[0m \u001b[0mvalue\u001b[0m\u001b[0;34m,\u001b[0m \u001b[0mlhs_only\u001b[0m\u001b[0;34m=\u001b[0m\u001b[0;32mFalse\u001b[0m\u001b[0;34m)\u001b[0m\u001b[0;34m:\u001b[0m\u001b[0;34m\u001b[0m\u001b[0m\n",
      "\u001b[0;32m~/anaconda3/lib/python3.6/site-packages/numba/consts.py\u001b[0m in \u001b[0;36minfer_constant\u001b[0;34m(self, name)\u001b[0m\n\u001b[1;32m     32\u001b[0m         \u001b[0;32mif\u001b[0m \u001b[0mname\u001b[0m \u001b[0;32mnot\u001b[0m \u001b[0;32min\u001b[0m \u001b[0mself\u001b[0m\u001b[0;34m.\u001b[0m\u001b[0m_cache\u001b[0m\u001b[0;34m:\u001b[0m\u001b[0;34m\u001b[0m\u001b[0m\n\u001b[1;32m     33\u001b[0m             \u001b[0;32mtry\u001b[0m\u001b[0;34m:\u001b[0m\u001b[0;34m\u001b[0m\u001b[0m\n\u001b[0;32m---> 34\u001b[0;31m                 \u001b[0mself\u001b[0m\u001b[0;34m.\u001b[0m\u001b[0m_cache\u001b[0m\u001b[0;34m[\u001b[0m\u001b[0mname\u001b[0m\u001b[0;34m]\u001b[0m \u001b[0;34m=\u001b[0m \u001b[0;34m(\u001b[0m\u001b[0;32mTrue\u001b[0m\u001b[0;34m,\u001b[0m \u001b[0mself\u001b[0m\u001b[0;34m.\u001b[0m\u001b[0m_do_infer\u001b[0m\u001b[0;34m(\u001b[0m\u001b[0mname\u001b[0m\u001b[0;34m)\u001b[0m\u001b[0;34m)\u001b[0m\u001b[0;34m\u001b[0m\u001b[0m\n\u001b[0m\u001b[1;32m     35\u001b[0m             \u001b[0;32mexcept\u001b[0m \u001b[0mConstantInferenceError\u001b[0m \u001b[0;32mas\u001b[0m \u001b[0mexc\u001b[0m\u001b[0;34m:\u001b[0m\u001b[0;34m\u001b[0m\u001b[0m\n\u001b[1;32m     36\u001b[0m                 \u001b[0;31m# Store the exception args only, to avoid keeping\u001b[0m\u001b[0;34m\u001b[0m\u001b[0;34m\u001b[0m\u001b[0m\n",
      "\u001b[0;32m~/anaconda3/lib/python3.6/site-packages/numba/consts.py\u001b[0m in \u001b[0;36m_do_infer\u001b[0;34m(self, name)\u001b[0m\n\u001b[1;32m     61\u001b[0m         \u001b[0;32mexcept\u001b[0m \u001b[0mConstantInferenceError\u001b[0m\u001b[0;34m:\u001b[0m\u001b[0;34m\u001b[0m\u001b[0m\n\u001b[1;32m     62\u001b[0m             \u001b[0;32mif\u001b[0m \u001b[0misinstance\u001b[0m\u001b[0;34m(\u001b[0m\u001b[0mdefn\u001b[0m\u001b[0;34m,\u001b[0m \u001b[0mir\u001b[0m\u001b[0;34m.\u001b[0m\u001b[0mExpr\u001b[0m\u001b[0;34m)\u001b[0m\u001b[0;34m:\u001b[0m\u001b[0;34m\u001b[0m\u001b[0m\n\u001b[0;32m---> 63\u001b[0;31m                 \u001b[0;32mreturn\u001b[0m \u001b[0mself\u001b[0m\u001b[0;34m.\u001b[0m\u001b[0m_infer_expr\u001b[0m\u001b[0;34m(\u001b[0m\u001b[0mdefn\u001b[0m\u001b[0;34m)\u001b[0m\u001b[0;34m\u001b[0m\u001b[0m\n\u001b[0m\u001b[1;32m     64\u001b[0m             \u001b[0mself\u001b[0m\u001b[0;34m.\u001b[0m\u001b[0m_fail\u001b[0m\u001b[0;34m(\u001b[0m\u001b[0mdefn\u001b[0m\u001b[0;34m)\u001b[0m\u001b[0;34m\u001b[0m\u001b[0m\n\u001b[1;32m     65\u001b[0m         \u001b[0;32mreturn\u001b[0m \u001b[0mconst\u001b[0m\u001b[0;34m\u001b[0m\u001b[0m\n",
      "\u001b[0;32m~/anaconda3/lib/python3.6/site-packages/numba/consts.py\u001b[0m in \u001b[0;36m_infer_expr\u001b[0;34m(self, expr)\u001b[0m\n\u001b[1;32m     72\u001b[0m         \u001b[0;32melif\u001b[0m \u001b[0mexpr\u001b[0m\u001b[0;34m.\u001b[0m\u001b[0mop\u001b[0m \u001b[0;34m==\u001b[0m \u001b[0;34m'getattr'\u001b[0m\u001b[0;34m:\u001b[0m\u001b[0;34m\u001b[0m\u001b[0m\n\u001b[1;32m     73\u001b[0m             \u001b[0mvalue\u001b[0m \u001b[0;34m=\u001b[0m \u001b[0mself\u001b[0m\u001b[0;34m.\u001b[0m\u001b[0minfer_constant\u001b[0m\u001b[0;34m(\u001b[0m\u001b[0mexpr\u001b[0m\u001b[0;34m.\u001b[0m\u001b[0mvalue\u001b[0m\u001b[0;34m.\u001b[0m\u001b[0mname\u001b[0m\u001b[0;34m)\u001b[0m\u001b[0;34m\u001b[0m\u001b[0m\n\u001b[0;32m---> 74\u001b[0;31m             \u001b[0;32mreturn\u001b[0m \u001b[0mself\u001b[0m\u001b[0;34m.\u001b[0m\u001b[0m_infer_getattr\u001b[0m\u001b[0;34m(\u001b[0m\u001b[0mvalue\u001b[0m\u001b[0;34m,\u001b[0m \u001b[0mexpr\u001b[0m\u001b[0;34m)\u001b[0m\u001b[0;34m\u001b[0m\u001b[0m\n\u001b[0m\u001b[1;32m     75\u001b[0m         \u001b[0;32melif\u001b[0m \u001b[0mexpr\u001b[0m\u001b[0;34m.\u001b[0m\u001b[0mop\u001b[0m \u001b[0;34m==\u001b[0m \u001b[0;34m'build_list'\u001b[0m\u001b[0;34m:\u001b[0m\u001b[0;34m\u001b[0m\u001b[0m\n\u001b[1;32m     76\u001b[0m             \u001b[0;32mreturn\u001b[0m \u001b[0;34m[\u001b[0m\u001b[0mself\u001b[0m\u001b[0;34m.\u001b[0m\u001b[0minfer_constant\u001b[0m\u001b[0;34m(\u001b[0m\u001b[0mi\u001b[0m\u001b[0;34m.\u001b[0m\u001b[0mname\u001b[0m\u001b[0;34m)\u001b[0m \u001b[0;32mfor\u001b[0m \u001b[0mi\u001b[0m \u001b[0;32min\u001b[0m \u001b[0mexpr\u001b[0m\u001b[0;34m.\u001b[0m\u001b[0mitems\u001b[0m\u001b[0;34m]\u001b[0m\u001b[0;34m\u001b[0m\u001b[0m\n",
      "\u001b[0;32m~/anaconda3/lib/python3.6/site-packages/numba/consts.py\u001b[0m in \u001b[0;36m_infer_getattr\u001b[0;34m(self, value, expr)\u001b[0m\n\u001b[1;32m     92\u001b[0m         \u001b[0;32mif\u001b[0m \u001b[0misinstance\u001b[0m\u001b[0;34m(\u001b[0m\u001b[0mvalue\u001b[0m\u001b[0;34m,\u001b[0m \u001b[0;34m(\u001b[0m\u001b[0mModuleType\u001b[0m\u001b[0;34m,\u001b[0m \u001b[0mtype\u001b[0m\u001b[0;34m)\u001b[0m\u001b[0;34m)\u001b[0m\u001b[0;34m:\u001b[0m\u001b[0;34m\u001b[0m\u001b[0m\n\u001b[1;32m     93\u001b[0m             \u001b[0;31m# Allow looking up a constant on a class or module\u001b[0m\u001b[0;34m\u001b[0m\u001b[0;34m\u001b[0m\u001b[0m\n\u001b[0;32m---> 94\u001b[0;31m             \u001b[0;32mreturn\u001b[0m \u001b[0mgetattr\u001b[0m\u001b[0;34m(\u001b[0m\u001b[0mvalue\u001b[0m\u001b[0;34m,\u001b[0m \u001b[0mexpr\u001b[0m\u001b[0;34m.\u001b[0m\u001b[0mattr\u001b[0m\u001b[0;34m)\u001b[0m\u001b[0;34m\u001b[0m\u001b[0m\n\u001b[0m\u001b[1;32m     95\u001b[0m         \u001b[0mself\u001b[0m\u001b[0;34m.\u001b[0m\u001b[0m_fail\u001b[0m\u001b[0;34m(\u001b[0m\u001b[0mexpr\u001b[0m\u001b[0;34m)\u001b[0m\u001b[0;34m\u001b[0m\u001b[0m\n",
      "\u001b[0;31mAttributeError\u001b[0m: Failed at nopython (nopython rewrites)\nmodule 'numpy' has no attribute 'subdtype'"
     ]
    }
   ],
   "source": [
    "@njit\n",
    "def hi(guy, what=5):\n",
    "    np.subdtype(type(what), np.integer)\n",
    "    return (guy[0].shape,guy[1].shape,(what,))\n",
    "hi((np.asarray([3,4]),np.asarray([2,9])))"
   ]
  },
  {
   "cell_type": "code",
   "execution_count": null,
   "metadata": {
    "collapsed": true
   },
   "outputs": [],
   "source": []
  }
 ],
 "metadata": {
  "kernelspec": {
   "display_name": "Python 3",
   "language": "python",
   "name": "python3"
  },
  "language_info": {
   "codemirror_mode": {
    "name": "ipython",
    "version": 3
   },
   "file_extension": ".py",
   "mimetype": "text/x-python",
   "name": "python",
   "nbconvert_exporter": "python",
   "pygments_lexer": "ipython3",
   "version": "3.6.2"
  }
 },
 "nbformat": 4,
 "nbformat_minor": 2
}
